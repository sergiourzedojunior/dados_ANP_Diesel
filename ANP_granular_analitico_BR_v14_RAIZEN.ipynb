{
 "cells": [
  {
   "cell_type": "code",
   "execution_count": 15,
   "id": "98d3cfc7",
   "metadata": {},
   "outputs": [],
   "source": [
    "import time\n",
    "tempo_inicio = time.time()"
   ]
  },
  {
   "cell_type": "code",
   "execution_count": 16,
   "id": "55b3461a",
   "metadata": {
    "id": "6Rkmlnf8FwHo"
   },
   "outputs": [],
   "source": [
    "from datetime import datetime\n",
    "start = datetime.now()\n"
   ]
  },
  {
   "cell_type": "code",
   "execution_count": 17,
   "id": "8c40c4ea",
   "metadata": {},
   "outputs": [],
   "source": [
    "import warnings"
   ]
  },
  {
   "cell_type": "code",
   "execution_count": 18,
   "id": "00099c77",
   "metadata": {},
   "outputs": [],
   "source": [
    "warnings.filterwarnings('ignore')"
   ]
  },
  {
   "cell_type": "markdown",
   "id": "76e1592a",
   "metadata": {
    "id": "nQ-zVJKAhhxF"
   },
   "source": [
    "## **Bibliotecas Necessárias**"
   ]
  },
  {
   "cell_type": "code",
   "execution_count": 19,
   "id": "eaafdff5",
   "metadata": {
    "id": "SkHnBbJYR4CT"
   },
   "outputs": [
    {
     "data": {
      "text/html": [
       "        <script type=\"text/javascript\">\n",
       "        window.PlotlyConfig = {MathJaxConfig: 'local'};\n",
       "        if (window.MathJax && window.MathJax.Hub && window.MathJax.Hub.Config) {window.MathJax.Hub.Config({SVG: {font: \"STIX-Web\"}});}\n",
       "        if (typeof require !== 'undefined') {\n",
       "        require.undef(\"plotly\");\n",
       "        requirejs.config({\n",
       "            paths: {\n",
       "                'plotly': ['https://cdn.plot.ly/plotly-2.12.1.min']\n",
       "            }\n",
       "        });\n",
       "        require(['plotly'], function(Plotly) {\n",
       "            window._Plotly = Plotly;\n",
       "        });\n",
       "        }\n",
       "        </script>\n",
       "        "
      ]
     },
     "metadata": {},
     "output_type": "display_data"
    }
   ],
   "source": [
    "import pandas as pd\n",
    "import numpy  as np\n",
    "from datetime import datetime, date\n",
    "import pyarrow as pa\n",
    "import pyarrow.parquet as pq\n",
    "import pandas as pd\n",
    "\n",
    "import plotly.express as px \n",
    "import plotly.graph_objects as go\n",
    "#import dash  \n",
    "#import dash_core_components as dcc\n",
    "#import dash_html_components as html\n",
    "#from dash.dependencies import Input, Output\n",
    "#import dash_bootstrap_components as dbc\n",
    "\n",
    "\n",
    "# Visualização\n",
    "import matplotlib.pyplot as plt\n",
    "import plotly\n",
    "from plotly.subplots import make_subplots\n",
    "import plotly.graph_objects as go\n",
    "from plotly.graph_objs import *\n",
    "\n",
    "import seaborn as sns\n",
    "import cufflinks as cf\n",
    "from plotly.offline import plot, iplot\n",
    "import plotly.offline as py\n",
    "import plotly.graph_objs as go\n",
    "cf.go_offline()\n",
    "import plotly.express as px\n",
    "import plotly.subplots as sp\n",
    "\n",
    "#from datetime import datetime\n",
    "from dateutil.relativedelta import relativedelta\n",
    "\n",
    "#from dash import Dash, dash_table\n"
   ]
  },
  {
   "cell_type": "code",
   "execution_count": 20,
   "id": "483824cd",
   "metadata": {},
   "outputs": [],
   "source": [
    "#from google.colab import drive\n",
    "#drive.mount(\"/content/drive\", force_remount=True)\n",
    "path1='C:/Users/YC9R/VIBRA/Customer Insights - Documentos/Tableau/churn/arquivos churn python/'\n",
    "path2='C:/Users/YC9R/VIBRA/Customer Insights - Documentos/Avanade Documentos/output notebooks/output_models/'\n",
    "path3='C:/Users/YC9R/VIBRA/Customer Insights - Documentos/Avanade Documentos/output notebooks/volumetria/'\n",
    "path4='C:/Users/YC9R/VIBRA/Customer Insights - Documentos/Avanade Documentos/output notebooks/histdiesel/'\n",
    "path5='C:/Users/YC9R/VIBRA/Customer Insights - Documentos/Avanade Documentos/output notebooks/volumetria_arquivos/'\n",
    "path6='C:/Users/YC9R/VIBRA/Customer Insights - Documentos/Avanade Documentos/dados VIBRA/'\n",
    "path7='C:/Users/YC9R/VIBRA/Customer Insights - Documentos/Avanade Documentos/output notebooks/Motor Potencial/'\n",
    "path8='C:/Users/YC9R/VIBRA/Customer Insights - Documentos/Avanade Documentos/dados ANP granulares/'\n",
    "path9='C:/Users/YC9R/VIBRA/Customer Insights - Documentos/Avanade Documentos/dados ANP granulares/tabela-apoio-isimp-vigente/'\n",
    "path10='C:/Users/YC9R/VIBRA/Customer Insights - Documentos/Avanade Documentos/dados ANP granulares/outputs/'\n",
    "path11='C:/Users/YC9R/VIBRA/Customer Insights - Documentos/Avanade Documentos/dados ANP granulares/'\n",
    "path12='C:/Users/YC9R/VIBRA/Customer Insights - Documentos/Avanade Documentos/dados ANP granulares/DIESEL/'\n",
    "\n",
    "\n"
   ]
  },
  {
   "cell_type": "code",
   "execution_count": 21,
   "id": "493122b3",
   "metadata": {},
   "outputs": [],
   "source": [
    "def grandes_analitico_vol():\n",
    "    dfBase = pd.read_parquet('grandes_analitico_vol.parquet' )\n",
    "    return (dfBase)\n",
    "\n",
    "def grandes_analitico():\n",
    "    dfBase = pd.read_parquet('grandes_analitico.parquet' )\n",
    "    return (dfBase)\n",
    "\n",
    "def medio_grandes_analitico_vol():\n",
    "    dfBase = pd.read_parquet('medio_grandes_analitico_vol.parquet' )\n",
    "    return (dfBase)\n",
    "\n",
    "def medio_grandes_analitico():\n",
    "    dfBase = pd.read_parquet('medio_grandes_analitico.parquet' )\n",
    "    return (dfBase)\n",
    "\n",
    "def medio_analitico_vol():\n",
    "    dfBase = pd.read_parquet('medio_analitico_vol.parquet' )\n",
    "    return (dfBase)\n",
    "\n",
    "def medio_analitico():\n",
    "    dfBase = pd.read_parquet('medio_analitico.parquet' )\n",
    "    return (dfBase)"
   ]
  },
  {
   "cell_type": "markdown",
   "id": "2a062b87",
   "metadata": {},
   "source": [
    "# tendências RAIZEN"
   ]
  },
  {
   "cell_type": "code",
   "execution_count": 22,
   "id": "82154080",
   "metadata": {},
   "outputs": [
    {
     "data": {
      "application/vnd.plotly.v1+json": {
       "config": {
        "plotlyServerURL": "https://plot.ly"
       },
       "data": [
        {
         "customdata": [
          [
           "IPIRANGA"
          ],
          [
           "IPIRANGA"
          ],
          [
           "IPIRANGA"
          ],
          [
           "IPIRANGA"
          ],
          [
           "IPIRANGA"
          ]
         ],
         "hovertemplate": "GRUPO=%{customdata[0]}<br>ds=%{x}<br>var=%{y}<extra></extra>",
         "legendgroup": "IPIRANGA",
         "line": {
          "color": "rgb(179,226,205)",
          "dash": "solid"
         },
         "marker": {
          "symbol": "circle"
         },
         "mode": "lines",
         "name": "IPIRANGA",
         "orientation": "v",
         "showlegend": true,
         "type": "scatter",
         "x": [
          "2023-05-01T00:00:00",
          "2023-06-01T00:00:00",
          "2023-07-01T00:00:00",
          "2023-08-01T00:00:00",
          "2023-09-01T00:00:00"
         ],
         "xaxis": "x",
         "y": [
          0.31175649223753965,
          0.32537349428332846,
          0.32006575170290186,
          0.3296979813324832,
          0.29866495468619575
         ],
         "yaxis": "y"
        },
        {
         "customdata": [
          [
           "OUTRAS NP"
          ],
          [
           "OUTRAS NP"
          ],
          [
           "OUTRAS NP"
          ],
          [
           "OUTRAS NP"
          ],
          [
           "OUTRAS NP"
          ]
         ],
         "hovertemplate": "GRUPO=%{customdata[0]}<br>ds=%{x}<br>var=%{y}<extra></extra>",
         "legendgroup": "OUTRAS NP",
         "line": {
          "color": "rgb(253,205,172)",
          "dash": "solid"
         },
         "marker": {
          "symbol": "circle"
         },
         "mode": "lines",
         "name": "OUTRAS NP",
         "orientation": "v",
         "showlegend": true,
         "type": "scatter",
         "x": [
          "2023-05-01T00:00:00",
          "2023-06-01T00:00:00",
          "2023-07-01T00:00:00",
          "2023-08-01T00:00:00",
          "2023-09-01T00:00:00"
         ],
         "xaxis": "x",
         "y": [
          0.09372620772710409,
          0.11271764592376836,
          0.13249911815054216,
          0.15190700839408586,
          0.15570713332186084
         ],
         "yaxis": "y"
        },
        {
         "customdata": [
          [
           "RAIZEN"
          ],
          [
           "RAIZEN"
          ],
          [
           "RAIZEN"
          ],
          [
           "RAIZEN"
          ],
          [
           "RAIZEN"
          ]
         ],
         "hovertemplate": "GRUPO=%{customdata[0]}<br>ds=%{x}<br>var=%{y}<extra></extra>",
         "legendgroup": "RAIZEN",
         "line": {
          "color": "rgb(203,213,232)",
          "dash": "solid"
         },
         "marker": {
          "symbol": "circle"
         },
         "mode": "lines",
         "name": "RAIZEN",
         "orientation": "v",
         "showlegend": true,
         "type": "scatter",
         "x": [
          "2023-05-01T00:00:00",
          "2023-06-01T00:00:00",
          "2023-07-01T00:00:00",
          "2023-08-01T00:00:00",
          "2023-09-01T00:00:00"
         ],
         "xaxis": "x",
         "y": [
          0.949637133572908,
          1.1598525116948066,
          1.238329164109406,
          1.328785610839026,
          1.3457386999950596
         ],
         "yaxis": "y"
        },
        {
         "customdata": [
          [
           "VIBRA"
          ],
          [
           "VIBRA"
          ],
          [
           "VIBRA"
          ],
          [
           "VIBRA"
          ],
          [
           "VIBRA"
          ]
         ],
         "hovertemplate": "GRUPO=%{customdata[0]}<br>ds=%{x}<br>var=%{y}<extra></extra>",
         "legendgroup": "VIBRA",
         "line": {
          "color": "rgb(244,202,228)",
          "dash": "solid"
         },
         "marker": {
          "symbol": "circle"
         },
         "mode": "lines",
         "name": "VIBRA",
         "orientation": "v",
         "showlegend": true,
         "type": "scatter",
         "x": [
          "2023-05-01T00:00:00",
          "2023-06-01T00:00:00",
          "2023-07-01T00:00:00",
          "2023-08-01T00:00:00",
          "2023-09-01T00:00:00"
         ],
         "xaxis": "x",
         "y": [
          0.20724307412319257,
          0.21896742410181047,
          0.22724808311042374,
          0.2448799278599227,
          0.24246818056490616
         ],
         "yaxis": "y"
        }
       ],
       "layout": {
        "autosize": false,
        "font": {
         "size": 11
        },
        "height": 700,
        "legend": {
         "title": {
          "text": "GRUPO"
         },
         "tracegroupgap": 0
        },
        "paper_bgcolor": "#fcfafa",
        "plot_bgcolor": "#fcfafa",
        "template": {
         "data": {
          "bar": [
           {
            "error_x": {
             "color": "#2a3f5f"
            },
            "error_y": {
             "color": "#2a3f5f"
            },
            "marker": {
             "line": {
              "color": "#E5ECF6",
              "width": 0.5
             },
             "pattern": {
              "fillmode": "overlay",
              "size": 10,
              "solidity": 0.2
             }
            },
            "type": "bar"
           }
          ],
          "barpolar": [
           {
            "marker": {
             "line": {
              "color": "#E5ECF6",
              "width": 0.5
             },
             "pattern": {
              "fillmode": "overlay",
              "size": 10,
              "solidity": 0.2
             }
            },
            "type": "barpolar"
           }
          ],
          "carpet": [
           {
            "aaxis": {
             "endlinecolor": "#2a3f5f",
             "gridcolor": "white",
             "linecolor": "white",
             "minorgridcolor": "white",
             "startlinecolor": "#2a3f5f"
            },
            "baxis": {
             "endlinecolor": "#2a3f5f",
             "gridcolor": "white",
             "linecolor": "white",
             "minorgridcolor": "white",
             "startlinecolor": "#2a3f5f"
            },
            "type": "carpet"
           }
          ],
          "choropleth": [
           {
            "colorbar": {
             "outlinewidth": 0,
             "ticks": ""
            },
            "type": "choropleth"
           }
          ],
          "contour": [
           {
            "colorbar": {
             "outlinewidth": 0,
             "ticks": ""
            },
            "colorscale": [
             [
              0,
              "#0d0887"
             ],
             [
              0.1111111111111111,
              "#46039f"
             ],
             [
              0.2222222222222222,
              "#7201a8"
             ],
             [
              0.3333333333333333,
              "#9c179e"
             ],
             [
              0.4444444444444444,
              "#bd3786"
             ],
             [
              0.5555555555555556,
              "#d8576b"
             ],
             [
              0.6666666666666666,
              "#ed7953"
             ],
             [
              0.7777777777777778,
              "#fb9f3a"
             ],
             [
              0.8888888888888888,
              "#fdca26"
             ],
             [
              1,
              "#f0f921"
             ]
            ],
            "type": "contour"
           }
          ],
          "contourcarpet": [
           {
            "colorbar": {
             "outlinewidth": 0,
             "ticks": ""
            },
            "type": "contourcarpet"
           }
          ],
          "heatmap": [
           {
            "colorbar": {
             "outlinewidth": 0,
             "ticks": ""
            },
            "colorscale": [
             [
              0,
              "#0d0887"
             ],
             [
              0.1111111111111111,
              "#46039f"
             ],
             [
              0.2222222222222222,
              "#7201a8"
             ],
             [
              0.3333333333333333,
              "#9c179e"
             ],
             [
              0.4444444444444444,
              "#bd3786"
             ],
             [
              0.5555555555555556,
              "#d8576b"
             ],
             [
              0.6666666666666666,
              "#ed7953"
             ],
             [
              0.7777777777777778,
              "#fb9f3a"
             ],
             [
              0.8888888888888888,
              "#fdca26"
             ],
             [
              1,
              "#f0f921"
             ]
            ],
            "type": "heatmap"
           }
          ],
          "heatmapgl": [
           {
            "colorbar": {
             "outlinewidth": 0,
             "ticks": ""
            },
            "colorscale": [
             [
              0,
              "#0d0887"
             ],
             [
              0.1111111111111111,
              "#46039f"
             ],
             [
              0.2222222222222222,
              "#7201a8"
             ],
             [
              0.3333333333333333,
              "#9c179e"
             ],
             [
              0.4444444444444444,
              "#bd3786"
             ],
             [
              0.5555555555555556,
              "#d8576b"
             ],
             [
              0.6666666666666666,
              "#ed7953"
             ],
             [
              0.7777777777777778,
              "#fb9f3a"
             ],
             [
              0.8888888888888888,
              "#fdca26"
             ],
             [
              1,
              "#f0f921"
             ]
            ],
            "type": "heatmapgl"
           }
          ],
          "histogram": [
           {
            "marker": {
             "pattern": {
              "fillmode": "overlay",
              "size": 10,
              "solidity": 0.2
             }
            },
            "type": "histogram"
           }
          ],
          "histogram2d": [
           {
            "colorbar": {
             "outlinewidth": 0,
             "ticks": ""
            },
            "colorscale": [
             [
              0,
              "#0d0887"
             ],
             [
              0.1111111111111111,
              "#46039f"
             ],
             [
              0.2222222222222222,
              "#7201a8"
             ],
             [
              0.3333333333333333,
              "#9c179e"
             ],
             [
              0.4444444444444444,
              "#bd3786"
             ],
             [
              0.5555555555555556,
              "#d8576b"
             ],
             [
              0.6666666666666666,
              "#ed7953"
             ],
             [
              0.7777777777777778,
              "#fb9f3a"
             ],
             [
              0.8888888888888888,
              "#fdca26"
             ],
             [
              1,
              "#f0f921"
             ]
            ],
            "type": "histogram2d"
           }
          ],
          "histogram2dcontour": [
           {
            "colorbar": {
             "outlinewidth": 0,
             "ticks": ""
            },
            "colorscale": [
             [
              0,
              "#0d0887"
             ],
             [
              0.1111111111111111,
              "#46039f"
             ],
             [
              0.2222222222222222,
              "#7201a8"
             ],
             [
              0.3333333333333333,
              "#9c179e"
             ],
             [
              0.4444444444444444,
              "#bd3786"
             ],
             [
              0.5555555555555556,
              "#d8576b"
             ],
             [
              0.6666666666666666,
              "#ed7953"
             ],
             [
              0.7777777777777778,
              "#fb9f3a"
             ],
             [
              0.8888888888888888,
              "#fdca26"
             ],
             [
              1,
              "#f0f921"
             ]
            ],
            "type": "histogram2dcontour"
           }
          ],
          "mesh3d": [
           {
            "colorbar": {
             "outlinewidth": 0,
             "ticks": ""
            },
            "type": "mesh3d"
           }
          ],
          "parcoords": [
           {
            "line": {
             "colorbar": {
              "outlinewidth": 0,
              "ticks": ""
             }
            },
            "type": "parcoords"
           }
          ],
          "pie": [
           {
            "automargin": true,
            "type": "pie"
           }
          ],
          "scatter": [
           {
            "fillpattern": {
             "fillmode": "overlay",
             "size": 10,
             "solidity": 0.2
            },
            "type": "scatter"
           }
          ],
          "scatter3d": [
           {
            "line": {
             "colorbar": {
              "outlinewidth": 0,
              "ticks": ""
             }
            },
            "marker": {
             "colorbar": {
              "outlinewidth": 0,
              "ticks": ""
             }
            },
            "type": "scatter3d"
           }
          ],
          "scattercarpet": [
           {
            "marker": {
             "colorbar": {
              "outlinewidth": 0,
              "ticks": ""
             }
            },
            "type": "scattercarpet"
           }
          ],
          "scattergeo": [
           {
            "marker": {
             "colorbar": {
              "outlinewidth": 0,
              "ticks": ""
             }
            },
            "type": "scattergeo"
           }
          ],
          "scattergl": [
           {
            "marker": {
             "colorbar": {
              "outlinewidth": 0,
              "ticks": ""
             }
            },
            "type": "scattergl"
           }
          ],
          "scattermapbox": [
           {
            "marker": {
             "colorbar": {
              "outlinewidth": 0,
              "ticks": ""
             }
            },
            "type": "scattermapbox"
           }
          ],
          "scatterpolar": [
           {
            "marker": {
             "colorbar": {
              "outlinewidth": 0,
              "ticks": ""
             }
            },
            "type": "scatterpolar"
           }
          ],
          "scatterpolargl": [
           {
            "marker": {
             "colorbar": {
              "outlinewidth": 0,
              "ticks": ""
             }
            },
            "type": "scatterpolargl"
           }
          ],
          "scatterternary": [
           {
            "marker": {
             "colorbar": {
              "outlinewidth": 0,
              "ticks": ""
             }
            },
            "type": "scatterternary"
           }
          ],
          "surface": [
           {
            "colorbar": {
             "outlinewidth": 0,
             "ticks": ""
            },
            "colorscale": [
             [
              0,
              "#0d0887"
             ],
             [
              0.1111111111111111,
              "#46039f"
             ],
             [
              0.2222222222222222,
              "#7201a8"
             ],
             [
              0.3333333333333333,
              "#9c179e"
             ],
             [
              0.4444444444444444,
              "#bd3786"
             ],
             [
              0.5555555555555556,
              "#d8576b"
             ],
             [
              0.6666666666666666,
              "#ed7953"
             ],
             [
              0.7777777777777778,
              "#fb9f3a"
             ],
             [
              0.8888888888888888,
              "#fdca26"
             ],
             [
              1,
              "#f0f921"
             ]
            ],
            "type": "surface"
           }
          ],
          "table": [
           {
            "cells": {
             "fill": {
              "color": "#EBF0F8"
             },
             "line": {
              "color": "white"
             }
            },
            "header": {
             "fill": {
              "color": "#C8D4E3"
             },
             "line": {
              "color": "white"
             }
            },
            "type": "table"
           }
          ]
         },
         "layout": {
          "annotationdefaults": {
           "arrowcolor": "#2a3f5f",
           "arrowhead": 0,
           "arrowwidth": 1
          },
          "autotypenumbers": "strict",
          "coloraxis": {
           "colorbar": {
            "outlinewidth": 0,
            "ticks": ""
           }
          },
          "colorscale": {
           "diverging": [
            [
             0,
             "#8e0152"
            ],
            [
             0.1,
             "#c51b7d"
            ],
            [
             0.2,
             "#de77ae"
            ],
            [
             0.3,
             "#f1b6da"
            ],
            [
             0.4,
             "#fde0ef"
            ],
            [
             0.5,
             "#f7f7f7"
            ],
            [
             0.6,
             "#e6f5d0"
            ],
            [
             0.7,
             "#b8e186"
            ],
            [
             0.8,
             "#7fbc41"
            ],
            [
             0.9,
             "#4d9221"
            ],
            [
             1,
             "#276419"
            ]
           ],
           "sequential": [
            [
             0,
             "#0d0887"
            ],
            [
             0.1111111111111111,
             "#46039f"
            ],
            [
             0.2222222222222222,
             "#7201a8"
            ],
            [
             0.3333333333333333,
             "#9c179e"
            ],
            [
             0.4444444444444444,
             "#bd3786"
            ],
            [
             0.5555555555555556,
             "#d8576b"
            ],
            [
             0.6666666666666666,
             "#ed7953"
            ],
            [
             0.7777777777777778,
             "#fb9f3a"
            ],
            [
             0.8888888888888888,
             "#fdca26"
            ],
            [
             1,
             "#f0f921"
            ]
           ],
           "sequentialminus": [
            [
             0,
             "#0d0887"
            ],
            [
             0.1111111111111111,
             "#46039f"
            ],
            [
             0.2222222222222222,
             "#7201a8"
            ],
            [
             0.3333333333333333,
             "#9c179e"
            ],
            [
             0.4444444444444444,
             "#bd3786"
            ],
            [
             0.5555555555555556,
             "#d8576b"
            ],
            [
             0.6666666666666666,
             "#ed7953"
            ],
            [
             0.7777777777777778,
             "#fb9f3a"
            ],
            [
             0.8888888888888888,
             "#fdca26"
            ],
            [
             1,
             "#f0f921"
            ]
           ]
          },
          "colorway": [
           "#636efa",
           "#EF553B",
           "#00cc96",
           "#ab63fa",
           "#FFA15A",
           "#19d3f3",
           "#FF6692",
           "#B6E880",
           "#FF97FF",
           "#FECB52"
          ],
          "font": {
           "color": "#2a3f5f"
          },
          "geo": {
           "bgcolor": "white",
           "lakecolor": "white",
           "landcolor": "#E5ECF6",
           "showlakes": true,
           "showland": true,
           "subunitcolor": "white"
          },
          "hoverlabel": {
           "align": "left"
          },
          "hovermode": "closest",
          "mapbox": {
           "style": "light"
          },
          "paper_bgcolor": "white",
          "plot_bgcolor": "#E5ECF6",
          "polar": {
           "angularaxis": {
            "gridcolor": "white",
            "linecolor": "white",
            "ticks": ""
           },
           "bgcolor": "#E5ECF6",
           "radialaxis": {
            "gridcolor": "white",
            "linecolor": "white",
            "ticks": ""
           }
          },
          "scene": {
           "xaxis": {
            "backgroundcolor": "#E5ECF6",
            "gridcolor": "white",
            "gridwidth": 2,
            "linecolor": "white",
            "showbackground": true,
            "ticks": "",
            "zerolinecolor": "white"
           },
           "yaxis": {
            "backgroundcolor": "#E5ECF6",
            "gridcolor": "white",
            "gridwidth": 2,
            "linecolor": "white",
            "showbackground": true,
            "ticks": "",
            "zerolinecolor": "white"
           },
           "zaxis": {
            "backgroundcolor": "#E5ECF6",
            "gridcolor": "white",
            "gridwidth": 2,
            "linecolor": "white",
            "showbackground": true,
            "ticks": "",
            "zerolinecolor": "white"
           }
          },
          "shapedefaults": {
           "line": {
            "color": "#2a3f5f"
           }
          },
          "ternary": {
           "aaxis": {
            "gridcolor": "white",
            "linecolor": "white",
            "ticks": ""
           },
           "baxis": {
            "gridcolor": "white",
            "linecolor": "white",
            "ticks": ""
           },
           "bgcolor": "#E5ECF6",
           "caxis": {
            "gridcolor": "white",
            "linecolor": "white",
            "ticks": ""
           }
          },
          "title": {
           "x": 0.05
          },
          "xaxis": {
           "automargin": true,
           "gridcolor": "white",
           "linecolor": "white",
           "ticks": "",
           "title": {
            "standoff": 15
           },
           "zerolinecolor": "white",
           "zerolinewidth": 2
          },
          "yaxis": {
           "automargin": true,
           "gridcolor": "white",
           "linecolor": "white",
           "ticks": "",
           "title": {
            "standoff": 15
           },
           "zerolinecolor": "white",
           "zerolinewidth": 2
          }
         }
        },
        "title": {
         "font": {
          "color": "darkslateblue"
         },
         "text": "BR - tendência - cluster grandes - canal 10 - 2023-05 a 2023-09",
         "x": 0.45,
         "y": 0.9
        },
        "width": 1300,
        "xaxis": {
         "anchor": "y",
         "domain": [
          0,
          1
         ],
         "title": {
          "text": "ds"
         }
        },
        "yaxis": {
         "anchor": "x",
         "domain": [
          0,
          1
         ],
         "title": {
          "text": "var"
         }
        }
       }
      },
      "text/html": [
       "<div>                            <div id=\"ca989d49-d437-4027-ade3-716d9e29c67e\" class=\"plotly-graph-div\" style=\"height:700px; width:1300px;\"></div>            <script type=\"text/javascript\">                require([\"plotly\"], function(Plotly) {                    window.PLOTLYENV=window.PLOTLYENV || {};                                    if (document.getElementById(\"ca989d49-d437-4027-ade3-716d9e29c67e\")) {                    Plotly.newPlot(                        \"ca989d49-d437-4027-ade3-716d9e29c67e\",                        [{\"customdata\":[[\"IPIRANGA\"],[\"IPIRANGA\"],[\"IPIRANGA\"],[\"IPIRANGA\"],[\"IPIRANGA\"]],\"hovertemplate\":\"GRUPO=%{customdata[0]}<br>ds=%{x}<br>var=%{y}<extra></extra>\",\"legendgroup\":\"IPIRANGA\",\"line\":{\"color\":\"rgb(179,226,205)\",\"dash\":\"solid\"},\"marker\":{\"symbol\":\"circle\"},\"mode\":\"lines\",\"name\":\"IPIRANGA\",\"orientation\":\"v\",\"showlegend\":true,\"x\":[\"2023-05-01T00:00:00\",\"2023-06-01T00:00:00\",\"2023-07-01T00:00:00\",\"2023-08-01T00:00:00\",\"2023-09-01T00:00:00\"],\"xaxis\":\"x\",\"y\":[0.31175649223753965,0.32537349428332846,0.32006575170290186,0.3296979813324832,0.29866495468619575],\"yaxis\":\"y\",\"type\":\"scatter\"},{\"customdata\":[[\"OUTRAS NP\"],[\"OUTRAS NP\"],[\"OUTRAS NP\"],[\"OUTRAS NP\"],[\"OUTRAS NP\"]],\"hovertemplate\":\"GRUPO=%{customdata[0]}<br>ds=%{x}<br>var=%{y}<extra></extra>\",\"legendgroup\":\"OUTRAS NP\",\"line\":{\"color\":\"rgb(253,205,172)\",\"dash\":\"solid\"},\"marker\":{\"symbol\":\"circle\"},\"mode\":\"lines\",\"name\":\"OUTRAS NP\",\"orientation\":\"v\",\"showlegend\":true,\"x\":[\"2023-05-01T00:00:00\",\"2023-06-01T00:00:00\",\"2023-07-01T00:00:00\",\"2023-08-01T00:00:00\",\"2023-09-01T00:00:00\"],\"xaxis\":\"x\",\"y\":[0.09372620772710409,0.11271764592376836,0.13249911815054216,0.15190700839408586,0.15570713332186084],\"yaxis\":\"y\",\"type\":\"scatter\"},{\"customdata\":[[\"RAIZEN\"],[\"RAIZEN\"],[\"RAIZEN\"],[\"RAIZEN\"],[\"RAIZEN\"]],\"hovertemplate\":\"GRUPO=%{customdata[0]}<br>ds=%{x}<br>var=%{y}<extra></extra>\",\"legendgroup\":\"RAIZEN\",\"line\":{\"color\":\"rgb(203,213,232)\",\"dash\":\"solid\"},\"marker\":{\"symbol\":\"circle\"},\"mode\":\"lines\",\"name\":\"RAIZEN\",\"orientation\":\"v\",\"showlegend\":true,\"x\":[\"2023-05-01T00:00:00\",\"2023-06-01T00:00:00\",\"2023-07-01T00:00:00\",\"2023-08-01T00:00:00\",\"2023-09-01T00:00:00\"],\"xaxis\":\"x\",\"y\":[0.949637133572908,1.1598525116948066,1.238329164109406,1.328785610839026,1.3457386999950596],\"yaxis\":\"y\",\"type\":\"scatter\"},{\"customdata\":[[\"VIBRA\"],[\"VIBRA\"],[\"VIBRA\"],[\"VIBRA\"],[\"VIBRA\"]],\"hovertemplate\":\"GRUPO=%{customdata[0]}<br>ds=%{x}<br>var=%{y}<extra></extra>\",\"legendgroup\":\"VIBRA\",\"line\":{\"color\":\"rgb(244,202,228)\",\"dash\":\"solid\"},\"marker\":{\"symbol\":\"circle\"},\"mode\":\"lines\",\"name\":\"VIBRA\",\"orientation\":\"v\",\"showlegend\":true,\"x\":[\"2023-05-01T00:00:00\",\"2023-06-01T00:00:00\",\"2023-07-01T00:00:00\",\"2023-08-01T00:00:00\",\"2023-09-01T00:00:00\"],\"xaxis\":\"x\",\"y\":[0.20724307412319257,0.21896742410181047,0.22724808311042374,0.2448799278599227,0.24246818056490616],\"yaxis\":\"y\",\"type\":\"scatter\"}],                        {\"template\":{\"data\":{\"histogram2dcontour\":[{\"type\":\"histogram2dcontour\",\"colorbar\":{\"outlinewidth\":0,\"ticks\":\"\"},\"colorscale\":[[0.0,\"#0d0887\"],[0.1111111111111111,\"#46039f\"],[0.2222222222222222,\"#7201a8\"],[0.3333333333333333,\"#9c179e\"],[0.4444444444444444,\"#bd3786\"],[0.5555555555555556,\"#d8576b\"],[0.6666666666666666,\"#ed7953\"],[0.7777777777777778,\"#fb9f3a\"],[0.8888888888888888,\"#fdca26\"],[1.0,\"#f0f921\"]]}],\"choropleth\":[{\"type\":\"choropleth\",\"colorbar\":{\"outlinewidth\":0,\"ticks\":\"\"}}],\"histogram2d\":[{\"type\":\"histogram2d\",\"colorbar\":{\"outlinewidth\":0,\"ticks\":\"\"},\"colorscale\":[[0.0,\"#0d0887\"],[0.1111111111111111,\"#46039f\"],[0.2222222222222222,\"#7201a8\"],[0.3333333333333333,\"#9c179e\"],[0.4444444444444444,\"#bd3786\"],[0.5555555555555556,\"#d8576b\"],[0.6666666666666666,\"#ed7953\"],[0.7777777777777778,\"#fb9f3a\"],[0.8888888888888888,\"#fdca26\"],[1.0,\"#f0f921\"]]}],\"heatmap\":[{\"type\":\"heatmap\",\"colorbar\":{\"outlinewidth\":0,\"ticks\":\"\"},\"colorscale\":[[0.0,\"#0d0887\"],[0.1111111111111111,\"#46039f\"],[0.2222222222222222,\"#7201a8\"],[0.3333333333333333,\"#9c179e\"],[0.4444444444444444,\"#bd3786\"],[0.5555555555555556,\"#d8576b\"],[0.6666666666666666,\"#ed7953\"],[0.7777777777777778,\"#fb9f3a\"],[0.8888888888888888,\"#fdca26\"],[1.0,\"#f0f921\"]]}],\"heatmapgl\":[{\"type\":\"heatmapgl\",\"colorbar\":{\"outlinewidth\":0,\"ticks\":\"\"},\"colorscale\":[[0.0,\"#0d0887\"],[0.1111111111111111,\"#46039f\"],[0.2222222222222222,\"#7201a8\"],[0.3333333333333333,\"#9c179e\"],[0.4444444444444444,\"#bd3786\"],[0.5555555555555556,\"#d8576b\"],[0.6666666666666666,\"#ed7953\"],[0.7777777777777778,\"#fb9f3a\"],[0.8888888888888888,\"#fdca26\"],[1.0,\"#f0f921\"]]}],\"contourcarpet\":[{\"type\":\"contourcarpet\",\"colorbar\":{\"outlinewidth\":0,\"ticks\":\"\"}}],\"contour\":[{\"type\":\"contour\",\"colorbar\":{\"outlinewidth\":0,\"ticks\":\"\"},\"colorscale\":[[0.0,\"#0d0887\"],[0.1111111111111111,\"#46039f\"],[0.2222222222222222,\"#7201a8\"],[0.3333333333333333,\"#9c179e\"],[0.4444444444444444,\"#bd3786\"],[0.5555555555555556,\"#d8576b\"],[0.6666666666666666,\"#ed7953\"],[0.7777777777777778,\"#fb9f3a\"],[0.8888888888888888,\"#fdca26\"],[1.0,\"#f0f921\"]]}],\"surface\":[{\"type\":\"surface\",\"colorbar\":{\"outlinewidth\":0,\"ticks\":\"\"},\"colorscale\":[[0.0,\"#0d0887\"],[0.1111111111111111,\"#46039f\"],[0.2222222222222222,\"#7201a8\"],[0.3333333333333333,\"#9c179e\"],[0.4444444444444444,\"#bd3786\"],[0.5555555555555556,\"#d8576b\"],[0.6666666666666666,\"#ed7953\"],[0.7777777777777778,\"#fb9f3a\"],[0.8888888888888888,\"#fdca26\"],[1.0,\"#f0f921\"]]}],\"mesh3d\":[{\"type\":\"mesh3d\",\"colorbar\":{\"outlinewidth\":0,\"ticks\":\"\"}}],\"scatter\":[{\"fillpattern\":{\"fillmode\":\"overlay\",\"size\":10,\"solidity\":0.2},\"type\":\"scatter\"}],\"parcoords\":[{\"type\":\"parcoords\",\"line\":{\"colorbar\":{\"outlinewidth\":0,\"ticks\":\"\"}}}],\"scatterpolargl\":[{\"type\":\"scatterpolargl\",\"marker\":{\"colorbar\":{\"outlinewidth\":0,\"ticks\":\"\"}}}],\"bar\":[{\"error_x\":{\"color\":\"#2a3f5f\"},\"error_y\":{\"color\":\"#2a3f5f\"},\"marker\":{\"line\":{\"color\":\"#E5ECF6\",\"width\":0.5},\"pattern\":{\"fillmode\":\"overlay\",\"size\":10,\"solidity\":0.2}},\"type\":\"bar\"}],\"scattergeo\":[{\"type\":\"scattergeo\",\"marker\":{\"colorbar\":{\"outlinewidth\":0,\"ticks\":\"\"}}}],\"scatterpolar\":[{\"type\":\"scatterpolar\",\"marker\":{\"colorbar\":{\"outlinewidth\":0,\"ticks\":\"\"}}}],\"histogram\":[{\"marker\":{\"pattern\":{\"fillmode\":\"overlay\",\"size\":10,\"solidity\":0.2}},\"type\":\"histogram\"}],\"scattergl\":[{\"type\":\"scattergl\",\"marker\":{\"colorbar\":{\"outlinewidth\":0,\"ticks\":\"\"}}}],\"scatter3d\":[{\"type\":\"scatter3d\",\"line\":{\"colorbar\":{\"outlinewidth\":0,\"ticks\":\"\"}},\"marker\":{\"colorbar\":{\"outlinewidth\":0,\"ticks\":\"\"}}}],\"scattermapbox\":[{\"type\":\"scattermapbox\",\"marker\":{\"colorbar\":{\"outlinewidth\":0,\"ticks\":\"\"}}}],\"scatterternary\":[{\"type\":\"scatterternary\",\"marker\":{\"colorbar\":{\"outlinewidth\":0,\"ticks\":\"\"}}}],\"scattercarpet\":[{\"type\":\"scattercarpet\",\"marker\":{\"colorbar\":{\"outlinewidth\":0,\"ticks\":\"\"}}}],\"carpet\":[{\"aaxis\":{\"endlinecolor\":\"#2a3f5f\",\"gridcolor\":\"white\",\"linecolor\":\"white\",\"minorgridcolor\":\"white\",\"startlinecolor\":\"#2a3f5f\"},\"baxis\":{\"endlinecolor\":\"#2a3f5f\",\"gridcolor\":\"white\",\"linecolor\":\"white\",\"minorgridcolor\":\"white\",\"startlinecolor\":\"#2a3f5f\"},\"type\":\"carpet\"}],\"table\":[{\"cells\":{\"fill\":{\"color\":\"#EBF0F8\"},\"line\":{\"color\":\"white\"}},\"header\":{\"fill\":{\"color\":\"#C8D4E3\"},\"line\":{\"color\":\"white\"}},\"type\":\"table\"}],\"barpolar\":[{\"marker\":{\"line\":{\"color\":\"#E5ECF6\",\"width\":0.5},\"pattern\":{\"fillmode\":\"overlay\",\"size\":10,\"solidity\":0.2}},\"type\":\"barpolar\"}],\"pie\":[{\"automargin\":true,\"type\":\"pie\"}]},\"layout\":{\"autotypenumbers\":\"strict\",\"colorway\":[\"#636efa\",\"#EF553B\",\"#00cc96\",\"#ab63fa\",\"#FFA15A\",\"#19d3f3\",\"#FF6692\",\"#B6E880\",\"#FF97FF\",\"#FECB52\"],\"font\":{\"color\":\"#2a3f5f\"},\"hovermode\":\"closest\",\"hoverlabel\":{\"align\":\"left\"},\"paper_bgcolor\":\"white\",\"plot_bgcolor\":\"#E5ECF6\",\"polar\":{\"bgcolor\":\"#E5ECF6\",\"angularaxis\":{\"gridcolor\":\"white\",\"linecolor\":\"white\",\"ticks\":\"\"},\"radialaxis\":{\"gridcolor\":\"white\",\"linecolor\":\"white\",\"ticks\":\"\"}},\"ternary\":{\"bgcolor\":\"#E5ECF6\",\"aaxis\":{\"gridcolor\":\"white\",\"linecolor\":\"white\",\"ticks\":\"\"},\"baxis\":{\"gridcolor\":\"white\",\"linecolor\":\"white\",\"ticks\":\"\"},\"caxis\":{\"gridcolor\":\"white\",\"linecolor\":\"white\",\"ticks\":\"\"}},\"coloraxis\":{\"colorbar\":{\"outlinewidth\":0,\"ticks\":\"\"}},\"colorscale\":{\"sequential\":[[0.0,\"#0d0887\"],[0.1111111111111111,\"#46039f\"],[0.2222222222222222,\"#7201a8\"],[0.3333333333333333,\"#9c179e\"],[0.4444444444444444,\"#bd3786\"],[0.5555555555555556,\"#d8576b\"],[0.6666666666666666,\"#ed7953\"],[0.7777777777777778,\"#fb9f3a\"],[0.8888888888888888,\"#fdca26\"],[1.0,\"#f0f921\"]],\"sequentialminus\":[[0.0,\"#0d0887\"],[0.1111111111111111,\"#46039f\"],[0.2222222222222222,\"#7201a8\"],[0.3333333333333333,\"#9c179e\"],[0.4444444444444444,\"#bd3786\"],[0.5555555555555556,\"#d8576b\"],[0.6666666666666666,\"#ed7953\"],[0.7777777777777778,\"#fb9f3a\"],[0.8888888888888888,\"#fdca26\"],[1.0,\"#f0f921\"]],\"diverging\":[[0,\"#8e0152\"],[0.1,\"#c51b7d\"],[0.2,\"#de77ae\"],[0.3,\"#f1b6da\"],[0.4,\"#fde0ef\"],[0.5,\"#f7f7f7\"],[0.6,\"#e6f5d0\"],[0.7,\"#b8e186\"],[0.8,\"#7fbc41\"],[0.9,\"#4d9221\"],[1,\"#276419\"]]},\"xaxis\":{\"gridcolor\":\"white\",\"linecolor\":\"white\",\"ticks\":\"\",\"title\":{\"standoff\":15},\"zerolinecolor\":\"white\",\"automargin\":true,\"zerolinewidth\":2},\"yaxis\":{\"gridcolor\":\"white\",\"linecolor\":\"white\",\"ticks\":\"\",\"title\":{\"standoff\":15},\"zerolinecolor\":\"white\",\"automargin\":true,\"zerolinewidth\":2},\"scene\":{\"xaxis\":{\"backgroundcolor\":\"#E5ECF6\",\"gridcolor\":\"white\",\"linecolor\":\"white\",\"showbackground\":true,\"ticks\":\"\",\"zerolinecolor\":\"white\",\"gridwidth\":2},\"yaxis\":{\"backgroundcolor\":\"#E5ECF6\",\"gridcolor\":\"white\",\"linecolor\":\"white\",\"showbackground\":true,\"ticks\":\"\",\"zerolinecolor\":\"white\",\"gridwidth\":2},\"zaxis\":{\"backgroundcolor\":\"#E5ECF6\",\"gridcolor\":\"white\",\"linecolor\":\"white\",\"showbackground\":true,\"ticks\":\"\",\"zerolinecolor\":\"white\",\"gridwidth\":2}},\"shapedefaults\":{\"line\":{\"color\":\"#2a3f5f\"}},\"annotationdefaults\":{\"arrowcolor\":\"#2a3f5f\",\"arrowhead\":0,\"arrowwidth\":1},\"geo\":{\"bgcolor\":\"white\",\"landcolor\":\"#E5ECF6\",\"subunitcolor\":\"white\",\"showland\":true,\"showlakes\":true,\"lakecolor\":\"white\"},\"title\":{\"x\":0.05},\"mapbox\":{\"style\":\"light\"}}},\"xaxis\":{\"anchor\":\"y\",\"domain\":[0.0,1.0],\"title\":{\"text\":\"ds\"}},\"yaxis\":{\"anchor\":\"x\",\"domain\":[0.0,1.0],\"title\":{\"text\":\"var\"}},\"legend\":{\"title\":{\"text\":\"GRUPO\"},\"tracegroupgap\":0},\"title\":{\"text\":\"BR - tend\\u00eancia - cluster grandes - canal 10 - 2023-05 a 2023-09\",\"font\":{\"color\":\"darkslateblue\"},\"x\":0.45,\"y\":0.9},\"autosize\":false,\"width\":1300,\"height\":700,\"font\":{\"size\":11},\"plot_bgcolor\":\"#fcfafa\",\"paper_bgcolor\":\"#fcfafa\"},                        {\"responsive\": true}                    ).then(function(){\n",
       "                            \n",
       "var gd = document.getElementById('ca989d49-d437-4027-ade3-716d9e29c67e');\n",
       "var x = new MutationObserver(function (mutations, observer) {{\n",
       "        var display = window.getComputedStyle(gd).display;\n",
       "        if (!display || display === 'none') {{\n",
       "            console.log([gd, 'removed!']);\n",
       "            Plotly.purge(gd);\n",
       "            observer.disconnect();\n",
       "        }}\n",
       "}});\n",
       "\n",
       "// Listen for the removal of the full notebook cells\n",
       "var notebookContainer = gd.closest('#notebook-container');\n",
       "if (notebookContainer) {{\n",
       "    x.observe(notebookContainer, {childList: true});\n",
       "}}\n",
       "\n",
       "// Listen for the clearing of the current output cell\n",
       "var outputEl = gd.closest('.output');\n",
       "if (outputEl) {{\n",
       "    x.observe(outputEl, {childList: true});\n",
       "}}\n",
       "\n",
       "                        })                };                });            </script>        </div>"
      ]
     },
     "metadata": {},
     "output_type": "display_data"
    }
   ],
   "source": [
    "grandes_analitico_vol = grandes_analitico_vol()\n",
    "\n",
    "fig =px.line(grandes_analitico_vol, \n",
    "            x=\"ds\", \n",
    "            y=\"var\",\n",
    "            title=\"BR - tendência - cluster grandes - canal 10 - 2023-05 a 2023-09\",\n",
    "            color=\"GRUPO\",\n",
    "            color_discrete_sequence=px.colors.qualitative.Pastel2,\n",
    "            hover_data=[\"GRUPO\"]\n",
    "        )\n",
    "\n",
    "fig.update_layout(\n",
    "    autosize=False,\n",
    "    width= 1300,\n",
    "    height=700\n",
    ")\n",
    "    \n",
    "fig.update_layout(\n",
    "        title = {\"x\": .45, \"y\": .90, \"font\": {\"color\":\"darkslateblue\"}},\n",
    "        plot_bgcolor = \"#fcfafa\",\n",
    "        paper_bgcolor = \"#fcfafa\", \n",
    "        font=dict(size=11)\n",
    "    )\n",
    "fig.show()\n"
   ]
  },
  {
   "cell_type": "code",
   "execution_count": 23,
   "id": "72605209",
   "metadata": {},
   "outputs": [
    {
     "data": {
      "application/vnd.plotly.v1+json": {
       "config": {
        "plotlyServerURL": "https://plot.ly"
       },
       "data": [
        {
         "customdata": [
          [
           515,
           601,
           8.04,
           -7.32,
           4.98,
           0.08,
           "CONSUMIDOR FINAL"
          ]
         ],
         "hovertemplate": "id=Ferrovia Centro Atlântica S.A. - FCA|2023-09-01|CONSUMIDOR FINAL|RAIZEN<br>Volume m³ setembro 2023=%{x}<br>share setembro 2023=%{y}<br>preview_value=%{customdata[0]}<br>preview_value_12=%{customdata[1]}<br>delta_vol=%{customdata[2]}<br>delta_vol_12=%{customdata[3]}<br>preview_share=%{customdata[4]}<br>delta_share_pp=%{customdata[5]}<br>QUALIF_DEST=%{customdata[6]}<extra></extra>",
         "legendgroup": "Ferrovia Centro Atlântica S.A. - FCA|2023-09-01|CONSUMIDOR FINAL|RAIZEN",
         "marker": {
          "color": "rgb(141,211,199)",
          "symbol": "circle"
         },
         "mode": "markers",
         "name": "Ferrovia Centro Atlântica S.A. - FCA|2023-09-01|CONSUMIDOR FINAL|RAIZEN",
         "orientation": "v",
         "showlegend": true,
         "type": "scatter",
         "x": [
          560
         ],
         "xaxis": "x",
         "y": [
          5.06
         ],
         "yaxis": "y"
        },
        {
         "customdata": [
          [
           21614.2,
           20457,
           2.59,
           7.8,
           100,
           0,
           "CONSUMIDOR FINAL"
          ]
         ],
         "hovertemplate": "id=RUMO MALHA PAULISTA S.A|2023-09-01|CONSUMIDOR FINAL|RAIZEN<br>Volume m³ setembro 2023=%{x}<br>share setembro 2023=%{y}<br>preview_value=%{customdata[0]}<br>preview_value_12=%{customdata[1]}<br>delta_vol=%{customdata[2]}<br>delta_vol_12=%{customdata[3]}<br>preview_share=%{customdata[4]}<br>delta_share_pp=%{customdata[5]}<br>QUALIF_DEST=%{customdata[6]}<extra></extra>",
         "legendgroup": "RUMO MALHA PAULISTA S.A|2023-09-01|CONSUMIDOR FINAL|RAIZEN",
         "marker": {
          "color": "rgb(255,255,179)",
          "symbol": "circle"
         },
         "mode": "markers",
         "name": "RUMO MALHA PAULISTA S.A|2023-09-01|CONSUMIDOR FINAL|RAIZEN",
         "orientation": "v",
         "showlegend": true,
         "type": "scatter",
         "x": [
          22188.7
         ],
         "xaxis": "x",
         "y": [
          100
         ],
         "yaxis": "y"
        },
        {
         "customdata": [
          [
           23487.8,
           18538.8,
           -0.99,
           20.29,
           100,
           0,
           "CONSUMIDOR FINAL"
          ]
         ],
         "hovertemplate": "id=RAIZEN ENERGIA S.A|2023-09-01|CONSUMIDOR FINAL|RAIZEN<br>Volume m³ setembro 2023=%{x}<br>share setembro 2023=%{y}<br>preview_value=%{customdata[0]}<br>preview_value_12=%{customdata[1]}<br>delta_vol=%{customdata[2]}<br>delta_vol_12=%{customdata[3]}<br>preview_share=%{customdata[4]}<br>delta_share_pp=%{customdata[5]}<br>QUALIF_DEST=%{customdata[6]}<extra></extra>",
         "legendgroup": "RAIZEN ENERGIA S.A|2023-09-01|CONSUMIDOR FINAL|RAIZEN",
         "marker": {
          "color": "rgb(190,186,218)",
          "symbol": "circle"
         },
         "mode": "markers",
         "name": "RAIZEN ENERGIA S.A|2023-09-01|CONSUMIDOR FINAL|RAIZEN",
         "orientation": "v",
         "showlegend": true,
         "type": "scatter",
         "x": [
          23258
         ],
         "xaxis": "x",
         "y": [
          100
         ],
         "yaxis": "y"
        },
        {
         "customdata": [
          [
           10272,
           9697,
           -2.94,
           2.82,
           100,
           0,
           "CONSUMIDOR FINAL"
          ]
         ],
         "hovertemplate": "id=RUMO MALHA SUL S.A|2023-09-01|CONSUMIDOR FINAL|RAIZEN<br>Volume m³ setembro 2023=%{x}<br>share setembro 2023=%{y}<br>preview_value=%{customdata[0]}<br>preview_value_12=%{customdata[1]}<br>delta_vol=%{customdata[2]}<br>delta_vol_12=%{customdata[3]}<br>preview_share=%{customdata[4]}<br>delta_share_pp=%{customdata[5]}<br>QUALIF_DEST=%{customdata[6]}<extra></extra>",
         "legendgroup": "RUMO MALHA SUL S.A|2023-09-01|CONSUMIDOR FINAL|RAIZEN",
         "marker": {
          "color": "rgb(251,128,114)",
          "symbol": "circle"
         },
         "mode": "markers",
         "name": "RUMO MALHA SUL S.A|2023-09-01|CONSUMIDOR FINAL|RAIZEN",
         "orientation": "v",
         "showlegend": true,
         "type": "scatter",
         "x": [
          9978.9
         ],
         "xaxis": "x",
         "y": [
          100
         ],
         "yaxis": "y"
        },
        {
         "customdata": [
          [
           5538,
           4702,
           -4.5,
           11.27,
           74.38,
           -2.25,
           "CONSUMIDOR FINAL"
          ]
         ],
         "hovertemplate": "id=KLABIN S/A.|2023-09-01|CONSUMIDOR FINAL|RAIZEN<br>Volume m³ setembro 2023=%{x}<br>share setembro 2023=%{y}<br>preview_value=%{customdata[0]}<br>preview_value_12=%{customdata[1]}<br>delta_vol=%{customdata[2]}<br>delta_vol_12=%{customdata[3]}<br>preview_share=%{customdata[4]}<br>delta_share_pp=%{customdata[5]}<br>QUALIF_DEST=%{customdata[6]}<extra></extra>",
         "legendgroup": "KLABIN S/A.|2023-09-01|CONSUMIDOR FINAL|RAIZEN",
         "marker": {
          "color": "rgb(128,177,211)",
          "symbol": "circle"
         },
         "mode": "markers",
         "name": "KLABIN S/A.|2023-09-01|CONSUMIDOR FINAL|RAIZEN",
         "orientation": "v",
         "showlegend": true,
         "type": "scatter",
         "x": [
          5299.5
         ],
         "xaxis": "x",
         "y": [
          72.12
         ],
         "yaxis": "y"
        },
        {
         "customdata": [
          [
           11143.2,
           8699.8,
           -8.06,
           15.64,
           100,
           0,
           "CONSUMIDOR FINAL"
          ]
         ],
         "hovertemplate": "id=SAO MARTINHO S/A|2023-09-01|CONSUMIDOR FINAL|RAIZEN<br>Volume m³ setembro 2023=%{x}<br>share setembro 2023=%{y}<br>preview_value=%{customdata[0]}<br>preview_value_12=%{customdata[1]}<br>delta_vol=%{customdata[2]}<br>delta_vol_12=%{customdata[3]}<br>preview_share=%{customdata[4]}<br>delta_share_pp=%{customdata[5]}<br>QUALIF_DEST=%{customdata[6]}<extra></extra>",
         "legendgroup": "SAO MARTINHO S/A|2023-09-01|CONSUMIDOR FINAL|RAIZEN",
         "marker": {
          "color": "rgb(253,180,98)",
          "symbol": "circle"
         },
         "mode": "markers",
         "name": "SAO MARTINHO S/A|2023-09-01|CONSUMIDOR FINAL|RAIZEN",
         "orientation": "v",
         "showlegend": true,
         "type": "scatter",
         "x": [
          10312.3
         ],
         "xaxis": "x",
         "y": [
          100
         ],
         "yaxis": "y"
        },
        {
         "customdata": [
          [
           4268.94,
           6602,
           -119.26,
           -239.09,
           33.63,
           -12.16,
           "CONSUMIDOR FINAL"
          ]
         ],
         "hovertemplate": "id=BUNKER ONE COMBUSTIVEIS E LUBRIFICANTES LTDA|2023-09-01|CONSUMIDOR FINAL|RAIZEN<br>Volume m³ setembro 2023=%{x}<br>share setembro 2023=%{y}<br>preview_value=%{customdata[0]}<br>preview_value_12=%{customdata[1]}<br>delta_vol=%{customdata[2]}<br>delta_vol_12=%{customdata[3]}<br>preview_share=%{customdata[4]}<br>delta_share_pp=%{customdata[5]}<br>QUALIF_DEST=%{customdata[6]}<extra></extra>",
         "legendgroup": "BUNKER ONE COMBUSTIVEIS E LUBRIFICANTES LTDA|2023-09-01|CONSUMIDOR FINAL|RAIZEN",
         "marker": {
          "color": "rgb(179,222,105)",
          "symbol": "circle"
         },
         "mode": "markers",
         "name": "BUNKER ONE COMBUSTIVEIS E LUBRIFICANTES LTDA|2023-09-01|CONSUMIDOR FINAL|RAIZEN",
         "orientation": "v",
         "showlegend": true,
         "type": "scatter",
         "x": [
          1947
         ],
         "xaxis": "x",
         "y": [
          21.46
         ],
         "yaxis": "y"
        }
       ],
       "layout": {
        "annotations": [
         {
          "showarrow": false,
          "text": "Media = 71.23",
          "x": 0,
          "xanchor": "left",
          "xref": "x domain",
          "y": 71.23,
          "yanchor": "bottom",
          "yref": "y"
         },
         {
          "showarrow": false,
          "text": "Mediana = 100.00",
          "x": 1,
          "xanchor": "right",
          "xref": "x domain",
          "y": 100,
          "yanchor": "bottom",
          "yref": "y"
         },
         {
          "showarrow": false,
          "text": "Mediana = 9978.90",
          "x": 9978.9,
          "xanchor": "right",
          "xref": "x",
          "y": 1,
          "yanchor": "top",
          "yref": "y domain"
         },
         {
          "showarrow": false,
          "text": "Media = 10506.34",
          "x": 10506.34,
          "xanchor": "left",
          "xref": "x",
          "y": 1,
          "yanchor": "top",
          "yref": "y domain"
         }
        ],
        "autosize": false,
        "height": 700,
        "legend": {
         "title": {
          "text": "id"
         },
         "tracegroupgap": 0
        },
        "paper_bgcolor": "#fcfafa",
        "plot_bgcolor": "#fcfafa",
        "shapes": [
         {
          "line": {
           "color": "blue",
           "dash": "dot"
          },
          "type": "line",
          "x0": 0,
          "x1": 1,
          "xref": "x domain",
          "y0": 71.23,
          "y1": 71.23,
          "yref": "y"
         },
         {
          "line": {
           "color": "yellow",
           "dash": "dot"
          },
          "type": "line",
          "x0": 0,
          "x1": 1,
          "xref": "x domain",
          "y0": 100,
          "y1": 100,
          "yref": "y"
         },
         {
          "line": {
           "color": "blue",
           "dash": "dot"
          },
          "type": "line",
          "x0": 9978.9,
          "x1": 9978.9,
          "xref": "x",
          "y0": 0,
          "y1": 1,
          "yref": "y domain"
         },
         {
          "line": {
           "color": "yellow",
           "dash": "dot"
          },
          "type": "line",
          "x0": 10506.34,
          "x1": 10506.34,
          "xref": "x",
          "y0": 0,
          "y1": 1,
          "yref": "y domain"
         }
        ],
        "template": {
         "data": {
          "bar": [
           {
            "error_x": {
             "color": "#2a3f5f"
            },
            "error_y": {
             "color": "#2a3f5f"
            },
            "marker": {
             "line": {
              "color": "#E5ECF6",
              "width": 0.5
             },
             "pattern": {
              "fillmode": "overlay",
              "size": 10,
              "solidity": 0.2
             }
            },
            "type": "bar"
           }
          ],
          "barpolar": [
           {
            "marker": {
             "line": {
              "color": "#E5ECF6",
              "width": 0.5
             },
             "pattern": {
              "fillmode": "overlay",
              "size": 10,
              "solidity": 0.2
             }
            },
            "type": "barpolar"
           }
          ],
          "carpet": [
           {
            "aaxis": {
             "endlinecolor": "#2a3f5f",
             "gridcolor": "white",
             "linecolor": "white",
             "minorgridcolor": "white",
             "startlinecolor": "#2a3f5f"
            },
            "baxis": {
             "endlinecolor": "#2a3f5f",
             "gridcolor": "white",
             "linecolor": "white",
             "minorgridcolor": "white",
             "startlinecolor": "#2a3f5f"
            },
            "type": "carpet"
           }
          ],
          "choropleth": [
           {
            "colorbar": {
             "outlinewidth": 0,
             "ticks": ""
            },
            "type": "choropleth"
           }
          ],
          "contour": [
           {
            "colorbar": {
             "outlinewidth": 0,
             "ticks": ""
            },
            "colorscale": [
             [
              0,
              "#0d0887"
             ],
             [
              0.1111111111111111,
              "#46039f"
             ],
             [
              0.2222222222222222,
              "#7201a8"
             ],
             [
              0.3333333333333333,
              "#9c179e"
             ],
             [
              0.4444444444444444,
              "#bd3786"
             ],
             [
              0.5555555555555556,
              "#d8576b"
             ],
             [
              0.6666666666666666,
              "#ed7953"
             ],
             [
              0.7777777777777778,
              "#fb9f3a"
             ],
             [
              0.8888888888888888,
              "#fdca26"
             ],
             [
              1,
              "#f0f921"
             ]
            ],
            "type": "contour"
           }
          ],
          "contourcarpet": [
           {
            "colorbar": {
             "outlinewidth": 0,
             "ticks": ""
            },
            "type": "contourcarpet"
           }
          ],
          "heatmap": [
           {
            "colorbar": {
             "outlinewidth": 0,
             "ticks": ""
            },
            "colorscale": [
             [
              0,
              "#0d0887"
             ],
             [
              0.1111111111111111,
              "#46039f"
             ],
             [
              0.2222222222222222,
              "#7201a8"
             ],
             [
              0.3333333333333333,
              "#9c179e"
             ],
             [
              0.4444444444444444,
              "#bd3786"
             ],
             [
              0.5555555555555556,
              "#d8576b"
             ],
             [
              0.6666666666666666,
              "#ed7953"
             ],
             [
              0.7777777777777778,
              "#fb9f3a"
             ],
             [
              0.8888888888888888,
              "#fdca26"
             ],
             [
              1,
              "#f0f921"
             ]
            ],
            "type": "heatmap"
           }
          ],
          "heatmapgl": [
           {
            "colorbar": {
             "outlinewidth": 0,
             "ticks": ""
            },
            "colorscale": [
             [
              0,
              "#0d0887"
             ],
             [
              0.1111111111111111,
              "#46039f"
             ],
             [
              0.2222222222222222,
              "#7201a8"
             ],
             [
              0.3333333333333333,
              "#9c179e"
             ],
             [
              0.4444444444444444,
              "#bd3786"
             ],
             [
              0.5555555555555556,
              "#d8576b"
             ],
             [
              0.6666666666666666,
              "#ed7953"
             ],
             [
              0.7777777777777778,
              "#fb9f3a"
             ],
             [
              0.8888888888888888,
              "#fdca26"
             ],
             [
              1,
              "#f0f921"
             ]
            ],
            "type": "heatmapgl"
           }
          ],
          "histogram": [
           {
            "marker": {
             "pattern": {
              "fillmode": "overlay",
              "size": 10,
              "solidity": 0.2
             }
            },
            "type": "histogram"
           }
          ],
          "histogram2d": [
           {
            "colorbar": {
             "outlinewidth": 0,
             "ticks": ""
            },
            "colorscale": [
             [
              0,
              "#0d0887"
             ],
             [
              0.1111111111111111,
              "#46039f"
             ],
             [
              0.2222222222222222,
              "#7201a8"
             ],
             [
              0.3333333333333333,
              "#9c179e"
             ],
             [
              0.4444444444444444,
              "#bd3786"
             ],
             [
              0.5555555555555556,
              "#d8576b"
             ],
             [
              0.6666666666666666,
              "#ed7953"
             ],
             [
              0.7777777777777778,
              "#fb9f3a"
             ],
             [
              0.8888888888888888,
              "#fdca26"
             ],
             [
              1,
              "#f0f921"
             ]
            ],
            "type": "histogram2d"
           }
          ],
          "histogram2dcontour": [
           {
            "colorbar": {
             "outlinewidth": 0,
             "ticks": ""
            },
            "colorscale": [
             [
              0,
              "#0d0887"
             ],
             [
              0.1111111111111111,
              "#46039f"
             ],
             [
              0.2222222222222222,
              "#7201a8"
             ],
             [
              0.3333333333333333,
              "#9c179e"
             ],
             [
              0.4444444444444444,
              "#bd3786"
             ],
             [
              0.5555555555555556,
              "#d8576b"
             ],
             [
              0.6666666666666666,
              "#ed7953"
             ],
             [
              0.7777777777777778,
              "#fb9f3a"
             ],
             [
              0.8888888888888888,
              "#fdca26"
             ],
             [
              1,
              "#f0f921"
             ]
            ],
            "type": "histogram2dcontour"
           }
          ],
          "mesh3d": [
           {
            "colorbar": {
             "outlinewidth": 0,
             "ticks": ""
            },
            "type": "mesh3d"
           }
          ],
          "parcoords": [
           {
            "line": {
             "colorbar": {
              "outlinewidth": 0,
              "ticks": ""
             }
            },
            "type": "parcoords"
           }
          ],
          "pie": [
           {
            "automargin": true,
            "type": "pie"
           }
          ],
          "scatter": [
           {
            "fillpattern": {
             "fillmode": "overlay",
             "size": 10,
             "solidity": 0.2
            },
            "type": "scatter"
           }
          ],
          "scatter3d": [
           {
            "line": {
             "colorbar": {
              "outlinewidth": 0,
              "ticks": ""
             }
            },
            "marker": {
             "colorbar": {
              "outlinewidth": 0,
              "ticks": ""
             }
            },
            "type": "scatter3d"
           }
          ],
          "scattercarpet": [
           {
            "marker": {
             "colorbar": {
              "outlinewidth": 0,
              "ticks": ""
             }
            },
            "type": "scattercarpet"
           }
          ],
          "scattergeo": [
           {
            "marker": {
             "colorbar": {
              "outlinewidth": 0,
              "ticks": ""
             }
            },
            "type": "scattergeo"
           }
          ],
          "scattergl": [
           {
            "marker": {
             "colorbar": {
              "outlinewidth": 0,
              "ticks": ""
             }
            },
            "type": "scattergl"
           }
          ],
          "scattermapbox": [
           {
            "marker": {
             "colorbar": {
              "outlinewidth": 0,
              "ticks": ""
             }
            },
            "type": "scattermapbox"
           }
          ],
          "scatterpolar": [
           {
            "marker": {
             "colorbar": {
              "outlinewidth": 0,
              "ticks": ""
             }
            },
            "type": "scatterpolar"
           }
          ],
          "scatterpolargl": [
           {
            "marker": {
             "colorbar": {
              "outlinewidth": 0,
              "ticks": ""
             }
            },
            "type": "scatterpolargl"
           }
          ],
          "scatterternary": [
           {
            "marker": {
             "colorbar": {
              "outlinewidth": 0,
              "ticks": ""
             }
            },
            "type": "scatterternary"
           }
          ],
          "surface": [
           {
            "colorbar": {
             "outlinewidth": 0,
             "ticks": ""
            },
            "colorscale": [
             [
              0,
              "#0d0887"
             ],
             [
              0.1111111111111111,
              "#46039f"
             ],
             [
              0.2222222222222222,
              "#7201a8"
             ],
             [
              0.3333333333333333,
              "#9c179e"
             ],
             [
              0.4444444444444444,
              "#bd3786"
             ],
             [
              0.5555555555555556,
              "#d8576b"
             ],
             [
              0.6666666666666666,
              "#ed7953"
             ],
             [
              0.7777777777777778,
              "#fb9f3a"
             ],
             [
              0.8888888888888888,
              "#fdca26"
             ],
             [
              1,
              "#f0f921"
             ]
            ],
            "type": "surface"
           }
          ],
          "table": [
           {
            "cells": {
             "fill": {
              "color": "#EBF0F8"
             },
             "line": {
              "color": "white"
             }
            },
            "header": {
             "fill": {
              "color": "#C8D4E3"
             },
             "line": {
              "color": "white"
             }
            },
            "type": "table"
           }
          ]
         },
         "layout": {
          "annotationdefaults": {
           "arrowcolor": "#2a3f5f",
           "arrowhead": 0,
           "arrowwidth": 1
          },
          "autotypenumbers": "strict",
          "coloraxis": {
           "colorbar": {
            "outlinewidth": 0,
            "ticks": ""
           }
          },
          "colorscale": {
           "diverging": [
            [
             0,
             "#8e0152"
            ],
            [
             0.1,
             "#c51b7d"
            ],
            [
             0.2,
             "#de77ae"
            ],
            [
             0.3,
             "#f1b6da"
            ],
            [
             0.4,
             "#fde0ef"
            ],
            [
             0.5,
             "#f7f7f7"
            ],
            [
             0.6,
             "#e6f5d0"
            ],
            [
             0.7,
             "#b8e186"
            ],
            [
             0.8,
             "#7fbc41"
            ],
            [
             0.9,
             "#4d9221"
            ],
            [
             1,
             "#276419"
            ]
           ],
           "sequential": [
            [
             0,
             "#0d0887"
            ],
            [
             0.1111111111111111,
             "#46039f"
            ],
            [
             0.2222222222222222,
             "#7201a8"
            ],
            [
             0.3333333333333333,
             "#9c179e"
            ],
            [
             0.4444444444444444,
             "#bd3786"
            ],
            [
             0.5555555555555556,
             "#d8576b"
            ],
            [
             0.6666666666666666,
             "#ed7953"
            ],
            [
             0.7777777777777778,
             "#fb9f3a"
            ],
            [
             0.8888888888888888,
             "#fdca26"
            ],
            [
             1,
             "#f0f921"
            ]
           ],
           "sequentialminus": [
            [
             0,
             "#0d0887"
            ],
            [
             0.1111111111111111,
             "#46039f"
            ],
            [
             0.2222222222222222,
             "#7201a8"
            ],
            [
             0.3333333333333333,
             "#9c179e"
            ],
            [
             0.4444444444444444,
             "#bd3786"
            ],
            [
             0.5555555555555556,
             "#d8576b"
            ],
            [
             0.6666666666666666,
             "#ed7953"
            ],
            [
             0.7777777777777778,
             "#fb9f3a"
            ],
            [
             0.8888888888888888,
             "#fdca26"
            ],
            [
             1,
             "#f0f921"
            ]
           ]
          },
          "colorway": [
           "#636efa",
           "#EF553B",
           "#00cc96",
           "#ab63fa",
           "#FFA15A",
           "#19d3f3",
           "#FF6692",
           "#B6E880",
           "#FF97FF",
           "#FECB52"
          ],
          "font": {
           "color": "#2a3f5f"
          },
          "geo": {
           "bgcolor": "white",
           "lakecolor": "white",
           "landcolor": "#E5ECF6",
           "showlakes": true,
           "showland": true,
           "subunitcolor": "white"
          },
          "hoverlabel": {
           "align": "left"
          },
          "hovermode": "closest",
          "mapbox": {
           "style": "light"
          },
          "paper_bgcolor": "white",
          "plot_bgcolor": "#E5ECF6",
          "polar": {
           "angularaxis": {
            "gridcolor": "white",
            "linecolor": "white",
            "ticks": ""
           },
           "bgcolor": "#E5ECF6",
           "radialaxis": {
            "gridcolor": "white",
            "linecolor": "white",
            "ticks": ""
           }
          },
          "scene": {
           "xaxis": {
            "backgroundcolor": "#E5ECF6",
            "gridcolor": "white",
            "gridwidth": 2,
            "linecolor": "white",
            "showbackground": true,
            "ticks": "",
            "zerolinecolor": "white"
           },
           "yaxis": {
            "backgroundcolor": "#E5ECF6",
            "gridcolor": "white",
            "gridwidth": 2,
            "linecolor": "white",
            "showbackground": true,
            "ticks": "",
            "zerolinecolor": "white"
           },
           "zaxis": {
            "backgroundcolor": "#E5ECF6",
            "gridcolor": "white",
            "gridwidth": 2,
            "linecolor": "white",
            "showbackground": true,
            "ticks": "",
            "zerolinecolor": "white"
           }
          },
          "shapedefaults": {
           "line": {
            "color": "#2a3f5f"
           }
          },
          "ternary": {
           "aaxis": {
            "gridcolor": "white",
            "linecolor": "white",
            "ticks": ""
           },
           "baxis": {
            "gridcolor": "white",
            "linecolor": "white",
            "ticks": ""
           },
           "bgcolor": "#E5ECF6",
           "caxis": {
            "gridcolor": "white",
            "linecolor": "white",
            "ticks": ""
           }
          },
          "title": {
           "x": 0.05
          },
          "xaxis": {
           "automargin": true,
           "gridcolor": "white",
           "linecolor": "white",
           "ticks": "",
           "title": {
            "standoff": 15
           },
           "zerolinecolor": "white",
           "zerolinewidth": 2
          },
          "yaxis": {
           "automargin": true,
           "gridcolor": "white",
           "linecolor": "white",
           "ticks": "",
           "title": {
            "standoff": 15
           },
           "zerolinecolor": "white",
           "zerolinewidth": 2
          }
         }
        },
        "title": {
         "font": {
          "color": "darkslateblue"
         },
         "text": "Segmento Grandes - Brasil - Vol x Share - 2023-09",
         "x": 0.5,
         "y": 0.9
        },
        "width": 1300,
        "xaxis": {
         "anchor": "y",
         "domain": [
          0,
          1
         ],
         "showgrid": false,
         "title": {
          "text": "Volume m³ setembro 2023"
         }
        },
        "yaxis": {
         "anchor": "x",
         "domain": [
          0,
          1
         ],
         "showgrid": true,
         "title": {
          "text": "share setembro 2023"
         }
        }
       }
      },
      "text/html": [
       "<div>                            <div id=\"90ecd97c-05a6-452f-95df-d0b3806e1737\" class=\"plotly-graph-div\" style=\"height:700px; width:1300px;\"></div>            <script type=\"text/javascript\">                require([\"plotly\"], function(Plotly) {                    window.PLOTLYENV=window.PLOTLYENV || {};                                    if (document.getElementById(\"90ecd97c-05a6-452f-95df-d0b3806e1737\")) {                    Plotly.newPlot(                        \"90ecd97c-05a6-452f-95df-d0b3806e1737\",                        [{\"customdata\":[[515.0,601.0,8.04,-7.32,4.98,0.08,\"CONSUMIDOR FINAL\"]],\"hovertemplate\":\"id=Ferrovia Centro Atl\\u00e2ntica S.A. - FCA|2023-09-01|CONSUMIDOR FINAL|RAIZEN<br>Volume m\\u00b3 setembro 2023=%{x}<br>share setembro 2023=%{y}<br>preview_value=%{customdata[0]}<br>preview_value_12=%{customdata[1]}<br>delta_vol=%{customdata[2]}<br>delta_vol_12=%{customdata[3]}<br>preview_share=%{customdata[4]}<br>delta_share_pp=%{customdata[5]}<br>QUALIF_DEST=%{customdata[6]}<extra></extra>\",\"legendgroup\":\"Ferrovia Centro Atl\\u00e2ntica S.A. - FCA|2023-09-01|CONSUMIDOR FINAL|RAIZEN\",\"marker\":{\"color\":\"rgb(141,211,199)\",\"symbol\":\"circle\"},\"mode\":\"markers\",\"name\":\"Ferrovia Centro Atl\\u00e2ntica S.A. - FCA|2023-09-01|CONSUMIDOR FINAL|RAIZEN\",\"orientation\":\"v\",\"showlegend\":true,\"x\":[560.0],\"xaxis\":\"x\",\"y\":[5.06],\"yaxis\":\"y\",\"type\":\"scatter\"},{\"customdata\":[[21614.2,20457.0,2.59,7.8,100.0,0.0,\"CONSUMIDOR FINAL\"]],\"hovertemplate\":\"id=RUMO MALHA PAULISTA S.A|2023-09-01|CONSUMIDOR FINAL|RAIZEN<br>Volume m\\u00b3 setembro 2023=%{x}<br>share setembro 2023=%{y}<br>preview_value=%{customdata[0]}<br>preview_value_12=%{customdata[1]}<br>delta_vol=%{customdata[2]}<br>delta_vol_12=%{customdata[3]}<br>preview_share=%{customdata[4]}<br>delta_share_pp=%{customdata[5]}<br>QUALIF_DEST=%{customdata[6]}<extra></extra>\",\"legendgroup\":\"RUMO MALHA PAULISTA S.A|2023-09-01|CONSUMIDOR FINAL|RAIZEN\",\"marker\":{\"color\":\"rgb(255,255,179)\",\"symbol\":\"circle\"},\"mode\":\"markers\",\"name\":\"RUMO MALHA PAULISTA S.A|2023-09-01|CONSUMIDOR FINAL|RAIZEN\",\"orientation\":\"v\",\"showlegend\":true,\"x\":[22188.7],\"xaxis\":\"x\",\"y\":[100.0],\"yaxis\":\"y\",\"type\":\"scatter\"},{\"customdata\":[[23487.8,18538.8,-0.99,20.29,100.0,0.0,\"CONSUMIDOR FINAL\"]],\"hovertemplate\":\"id=RAIZEN ENERGIA S.A|2023-09-01|CONSUMIDOR FINAL|RAIZEN<br>Volume m\\u00b3 setembro 2023=%{x}<br>share setembro 2023=%{y}<br>preview_value=%{customdata[0]}<br>preview_value_12=%{customdata[1]}<br>delta_vol=%{customdata[2]}<br>delta_vol_12=%{customdata[3]}<br>preview_share=%{customdata[4]}<br>delta_share_pp=%{customdata[5]}<br>QUALIF_DEST=%{customdata[6]}<extra></extra>\",\"legendgroup\":\"RAIZEN ENERGIA S.A|2023-09-01|CONSUMIDOR FINAL|RAIZEN\",\"marker\":{\"color\":\"rgb(190,186,218)\",\"symbol\":\"circle\"},\"mode\":\"markers\",\"name\":\"RAIZEN ENERGIA S.A|2023-09-01|CONSUMIDOR FINAL|RAIZEN\",\"orientation\":\"v\",\"showlegend\":true,\"x\":[23258.0],\"xaxis\":\"x\",\"y\":[100.0],\"yaxis\":\"y\",\"type\":\"scatter\"},{\"customdata\":[[10272.0,9697.0,-2.94,2.82,100.0,0.0,\"CONSUMIDOR FINAL\"]],\"hovertemplate\":\"id=RUMO MALHA SUL S.A|2023-09-01|CONSUMIDOR FINAL|RAIZEN<br>Volume m\\u00b3 setembro 2023=%{x}<br>share setembro 2023=%{y}<br>preview_value=%{customdata[0]}<br>preview_value_12=%{customdata[1]}<br>delta_vol=%{customdata[2]}<br>delta_vol_12=%{customdata[3]}<br>preview_share=%{customdata[4]}<br>delta_share_pp=%{customdata[5]}<br>QUALIF_DEST=%{customdata[6]}<extra></extra>\",\"legendgroup\":\"RUMO MALHA SUL S.A|2023-09-01|CONSUMIDOR FINAL|RAIZEN\",\"marker\":{\"color\":\"rgb(251,128,114)\",\"symbol\":\"circle\"},\"mode\":\"markers\",\"name\":\"RUMO MALHA SUL S.A|2023-09-01|CONSUMIDOR FINAL|RAIZEN\",\"orientation\":\"v\",\"showlegend\":true,\"x\":[9978.9],\"xaxis\":\"x\",\"y\":[100.0],\"yaxis\":\"y\",\"type\":\"scatter\"},{\"customdata\":[[5538.0,4702.0,-4.5,11.27,74.38,-2.25,\"CONSUMIDOR FINAL\"]],\"hovertemplate\":\"id=KLABIN S/A.|2023-09-01|CONSUMIDOR FINAL|RAIZEN<br>Volume m\\u00b3 setembro 2023=%{x}<br>share setembro 2023=%{y}<br>preview_value=%{customdata[0]}<br>preview_value_12=%{customdata[1]}<br>delta_vol=%{customdata[2]}<br>delta_vol_12=%{customdata[3]}<br>preview_share=%{customdata[4]}<br>delta_share_pp=%{customdata[5]}<br>QUALIF_DEST=%{customdata[6]}<extra></extra>\",\"legendgroup\":\"KLABIN S/A.|2023-09-01|CONSUMIDOR FINAL|RAIZEN\",\"marker\":{\"color\":\"rgb(128,177,211)\",\"symbol\":\"circle\"},\"mode\":\"markers\",\"name\":\"KLABIN S/A.|2023-09-01|CONSUMIDOR FINAL|RAIZEN\",\"orientation\":\"v\",\"showlegend\":true,\"x\":[5299.5],\"xaxis\":\"x\",\"y\":[72.12],\"yaxis\":\"y\",\"type\":\"scatter\"},{\"customdata\":[[11143.2,8699.8,-8.06,15.64,100.0,0.0,\"CONSUMIDOR FINAL\"]],\"hovertemplate\":\"id=SAO MARTINHO S/A|2023-09-01|CONSUMIDOR FINAL|RAIZEN<br>Volume m\\u00b3 setembro 2023=%{x}<br>share setembro 2023=%{y}<br>preview_value=%{customdata[0]}<br>preview_value_12=%{customdata[1]}<br>delta_vol=%{customdata[2]}<br>delta_vol_12=%{customdata[3]}<br>preview_share=%{customdata[4]}<br>delta_share_pp=%{customdata[5]}<br>QUALIF_DEST=%{customdata[6]}<extra></extra>\",\"legendgroup\":\"SAO MARTINHO S/A|2023-09-01|CONSUMIDOR FINAL|RAIZEN\",\"marker\":{\"color\":\"rgb(253,180,98)\",\"symbol\":\"circle\"},\"mode\":\"markers\",\"name\":\"SAO MARTINHO S/A|2023-09-01|CONSUMIDOR FINAL|RAIZEN\",\"orientation\":\"v\",\"showlegend\":true,\"x\":[10312.3],\"xaxis\":\"x\",\"y\":[100.0],\"yaxis\":\"y\",\"type\":\"scatter\"},{\"customdata\":[[4268.94,6602.0,-119.26,-239.09,33.63,-12.16,\"CONSUMIDOR FINAL\"]],\"hovertemplate\":\"id=BUNKER ONE COMBUSTIVEIS E LUBRIFICANTES LTDA|2023-09-01|CONSUMIDOR FINAL|RAIZEN<br>Volume m\\u00b3 setembro 2023=%{x}<br>share setembro 2023=%{y}<br>preview_value=%{customdata[0]}<br>preview_value_12=%{customdata[1]}<br>delta_vol=%{customdata[2]}<br>delta_vol_12=%{customdata[3]}<br>preview_share=%{customdata[4]}<br>delta_share_pp=%{customdata[5]}<br>QUALIF_DEST=%{customdata[6]}<extra></extra>\",\"legendgroup\":\"BUNKER ONE COMBUSTIVEIS E LUBRIFICANTES LTDA|2023-09-01|CONSUMIDOR FINAL|RAIZEN\",\"marker\":{\"color\":\"rgb(179,222,105)\",\"symbol\":\"circle\"},\"mode\":\"markers\",\"name\":\"BUNKER ONE COMBUSTIVEIS E LUBRIFICANTES LTDA|2023-09-01|CONSUMIDOR FINAL|RAIZEN\",\"orientation\":\"v\",\"showlegend\":true,\"x\":[1947.0],\"xaxis\":\"x\",\"y\":[21.46],\"yaxis\":\"y\",\"type\":\"scatter\"}],                        {\"template\":{\"data\":{\"histogram2dcontour\":[{\"type\":\"histogram2dcontour\",\"colorbar\":{\"outlinewidth\":0,\"ticks\":\"\"},\"colorscale\":[[0.0,\"#0d0887\"],[0.1111111111111111,\"#46039f\"],[0.2222222222222222,\"#7201a8\"],[0.3333333333333333,\"#9c179e\"],[0.4444444444444444,\"#bd3786\"],[0.5555555555555556,\"#d8576b\"],[0.6666666666666666,\"#ed7953\"],[0.7777777777777778,\"#fb9f3a\"],[0.8888888888888888,\"#fdca26\"],[1.0,\"#f0f921\"]]}],\"choropleth\":[{\"type\":\"choropleth\",\"colorbar\":{\"outlinewidth\":0,\"ticks\":\"\"}}],\"histogram2d\":[{\"type\":\"histogram2d\",\"colorbar\":{\"outlinewidth\":0,\"ticks\":\"\"},\"colorscale\":[[0.0,\"#0d0887\"],[0.1111111111111111,\"#46039f\"],[0.2222222222222222,\"#7201a8\"],[0.3333333333333333,\"#9c179e\"],[0.4444444444444444,\"#bd3786\"],[0.5555555555555556,\"#d8576b\"],[0.6666666666666666,\"#ed7953\"],[0.7777777777777778,\"#fb9f3a\"],[0.8888888888888888,\"#fdca26\"],[1.0,\"#f0f921\"]]}],\"heatmap\":[{\"type\":\"heatmap\",\"colorbar\":{\"outlinewidth\":0,\"ticks\":\"\"},\"colorscale\":[[0.0,\"#0d0887\"],[0.1111111111111111,\"#46039f\"],[0.2222222222222222,\"#7201a8\"],[0.3333333333333333,\"#9c179e\"],[0.4444444444444444,\"#bd3786\"],[0.5555555555555556,\"#d8576b\"],[0.6666666666666666,\"#ed7953\"],[0.7777777777777778,\"#fb9f3a\"],[0.8888888888888888,\"#fdca26\"],[1.0,\"#f0f921\"]]}],\"heatmapgl\":[{\"type\":\"heatmapgl\",\"colorbar\":{\"outlinewidth\":0,\"ticks\":\"\"},\"colorscale\":[[0.0,\"#0d0887\"],[0.1111111111111111,\"#46039f\"],[0.2222222222222222,\"#7201a8\"],[0.3333333333333333,\"#9c179e\"],[0.4444444444444444,\"#bd3786\"],[0.5555555555555556,\"#d8576b\"],[0.6666666666666666,\"#ed7953\"],[0.7777777777777778,\"#fb9f3a\"],[0.8888888888888888,\"#fdca26\"],[1.0,\"#f0f921\"]]}],\"contourcarpet\":[{\"type\":\"contourcarpet\",\"colorbar\":{\"outlinewidth\":0,\"ticks\":\"\"}}],\"contour\":[{\"type\":\"contour\",\"colorbar\":{\"outlinewidth\":0,\"ticks\":\"\"},\"colorscale\":[[0.0,\"#0d0887\"],[0.1111111111111111,\"#46039f\"],[0.2222222222222222,\"#7201a8\"],[0.3333333333333333,\"#9c179e\"],[0.4444444444444444,\"#bd3786\"],[0.5555555555555556,\"#d8576b\"],[0.6666666666666666,\"#ed7953\"],[0.7777777777777778,\"#fb9f3a\"],[0.8888888888888888,\"#fdca26\"],[1.0,\"#f0f921\"]]}],\"surface\":[{\"type\":\"surface\",\"colorbar\":{\"outlinewidth\":0,\"ticks\":\"\"},\"colorscale\":[[0.0,\"#0d0887\"],[0.1111111111111111,\"#46039f\"],[0.2222222222222222,\"#7201a8\"],[0.3333333333333333,\"#9c179e\"],[0.4444444444444444,\"#bd3786\"],[0.5555555555555556,\"#d8576b\"],[0.6666666666666666,\"#ed7953\"],[0.7777777777777778,\"#fb9f3a\"],[0.8888888888888888,\"#fdca26\"],[1.0,\"#f0f921\"]]}],\"mesh3d\":[{\"type\":\"mesh3d\",\"colorbar\":{\"outlinewidth\":0,\"ticks\":\"\"}}],\"scatter\":[{\"fillpattern\":{\"fillmode\":\"overlay\",\"size\":10,\"solidity\":0.2},\"type\":\"scatter\"}],\"parcoords\":[{\"type\":\"parcoords\",\"line\":{\"colorbar\":{\"outlinewidth\":0,\"ticks\":\"\"}}}],\"scatterpolargl\":[{\"type\":\"scatterpolargl\",\"marker\":{\"colorbar\":{\"outlinewidth\":0,\"ticks\":\"\"}}}],\"bar\":[{\"error_x\":{\"color\":\"#2a3f5f\"},\"error_y\":{\"color\":\"#2a3f5f\"},\"marker\":{\"line\":{\"color\":\"#E5ECF6\",\"width\":0.5},\"pattern\":{\"fillmode\":\"overlay\",\"size\":10,\"solidity\":0.2}},\"type\":\"bar\"}],\"scattergeo\":[{\"type\":\"scattergeo\",\"marker\":{\"colorbar\":{\"outlinewidth\":0,\"ticks\":\"\"}}}],\"scatterpolar\":[{\"type\":\"scatterpolar\",\"marker\":{\"colorbar\":{\"outlinewidth\":0,\"ticks\":\"\"}}}],\"histogram\":[{\"marker\":{\"pattern\":{\"fillmode\":\"overlay\",\"size\":10,\"solidity\":0.2}},\"type\":\"histogram\"}],\"scattergl\":[{\"type\":\"scattergl\",\"marker\":{\"colorbar\":{\"outlinewidth\":0,\"ticks\":\"\"}}}],\"scatter3d\":[{\"type\":\"scatter3d\",\"line\":{\"colorbar\":{\"outlinewidth\":0,\"ticks\":\"\"}},\"marker\":{\"colorbar\":{\"outlinewidth\":0,\"ticks\":\"\"}}}],\"scattermapbox\":[{\"type\":\"scattermapbox\",\"marker\":{\"colorbar\":{\"outlinewidth\":0,\"ticks\":\"\"}}}],\"scatterternary\":[{\"type\":\"scatterternary\",\"marker\":{\"colorbar\":{\"outlinewidth\":0,\"ticks\":\"\"}}}],\"scattercarpet\":[{\"type\":\"scattercarpet\",\"marker\":{\"colorbar\":{\"outlinewidth\":0,\"ticks\":\"\"}}}],\"carpet\":[{\"aaxis\":{\"endlinecolor\":\"#2a3f5f\",\"gridcolor\":\"white\",\"linecolor\":\"white\",\"minorgridcolor\":\"white\",\"startlinecolor\":\"#2a3f5f\"},\"baxis\":{\"endlinecolor\":\"#2a3f5f\",\"gridcolor\":\"white\",\"linecolor\":\"white\",\"minorgridcolor\":\"white\",\"startlinecolor\":\"#2a3f5f\"},\"type\":\"carpet\"}],\"table\":[{\"cells\":{\"fill\":{\"color\":\"#EBF0F8\"},\"line\":{\"color\":\"white\"}},\"header\":{\"fill\":{\"color\":\"#C8D4E3\"},\"line\":{\"color\":\"white\"}},\"type\":\"table\"}],\"barpolar\":[{\"marker\":{\"line\":{\"color\":\"#E5ECF6\",\"width\":0.5},\"pattern\":{\"fillmode\":\"overlay\",\"size\":10,\"solidity\":0.2}},\"type\":\"barpolar\"}],\"pie\":[{\"automargin\":true,\"type\":\"pie\"}]},\"layout\":{\"autotypenumbers\":\"strict\",\"colorway\":[\"#636efa\",\"#EF553B\",\"#00cc96\",\"#ab63fa\",\"#FFA15A\",\"#19d3f3\",\"#FF6692\",\"#B6E880\",\"#FF97FF\",\"#FECB52\"],\"font\":{\"color\":\"#2a3f5f\"},\"hovermode\":\"closest\",\"hoverlabel\":{\"align\":\"left\"},\"paper_bgcolor\":\"white\",\"plot_bgcolor\":\"#E5ECF6\",\"polar\":{\"bgcolor\":\"#E5ECF6\",\"angularaxis\":{\"gridcolor\":\"white\",\"linecolor\":\"white\",\"ticks\":\"\"},\"radialaxis\":{\"gridcolor\":\"white\",\"linecolor\":\"white\",\"ticks\":\"\"}},\"ternary\":{\"bgcolor\":\"#E5ECF6\",\"aaxis\":{\"gridcolor\":\"white\",\"linecolor\":\"white\",\"ticks\":\"\"},\"baxis\":{\"gridcolor\":\"white\",\"linecolor\":\"white\",\"ticks\":\"\"},\"caxis\":{\"gridcolor\":\"white\",\"linecolor\":\"white\",\"ticks\":\"\"}},\"coloraxis\":{\"colorbar\":{\"outlinewidth\":0,\"ticks\":\"\"}},\"colorscale\":{\"sequential\":[[0.0,\"#0d0887\"],[0.1111111111111111,\"#46039f\"],[0.2222222222222222,\"#7201a8\"],[0.3333333333333333,\"#9c179e\"],[0.4444444444444444,\"#bd3786\"],[0.5555555555555556,\"#d8576b\"],[0.6666666666666666,\"#ed7953\"],[0.7777777777777778,\"#fb9f3a\"],[0.8888888888888888,\"#fdca26\"],[1.0,\"#f0f921\"]],\"sequentialminus\":[[0.0,\"#0d0887\"],[0.1111111111111111,\"#46039f\"],[0.2222222222222222,\"#7201a8\"],[0.3333333333333333,\"#9c179e\"],[0.4444444444444444,\"#bd3786\"],[0.5555555555555556,\"#d8576b\"],[0.6666666666666666,\"#ed7953\"],[0.7777777777777778,\"#fb9f3a\"],[0.8888888888888888,\"#fdca26\"],[1.0,\"#f0f921\"]],\"diverging\":[[0,\"#8e0152\"],[0.1,\"#c51b7d\"],[0.2,\"#de77ae\"],[0.3,\"#f1b6da\"],[0.4,\"#fde0ef\"],[0.5,\"#f7f7f7\"],[0.6,\"#e6f5d0\"],[0.7,\"#b8e186\"],[0.8,\"#7fbc41\"],[0.9,\"#4d9221\"],[1,\"#276419\"]]},\"xaxis\":{\"gridcolor\":\"white\",\"linecolor\":\"white\",\"ticks\":\"\",\"title\":{\"standoff\":15},\"zerolinecolor\":\"white\",\"automargin\":true,\"zerolinewidth\":2},\"yaxis\":{\"gridcolor\":\"white\",\"linecolor\":\"white\",\"ticks\":\"\",\"title\":{\"standoff\":15},\"zerolinecolor\":\"white\",\"automargin\":true,\"zerolinewidth\":2},\"scene\":{\"xaxis\":{\"backgroundcolor\":\"#E5ECF6\",\"gridcolor\":\"white\",\"linecolor\":\"white\",\"showbackground\":true,\"ticks\":\"\",\"zerolinecolor\":\"white\",\"gridwidth\":2},\"yaxis\":{\"backgroundcolor\":\"#E5ECF6\",\"gridcolor\":\"white\",\"linecolor\":\"white\",\"showbackground\":true,\"ticks\":\"\",\"zerolinecolor\":\"white\",\"gridwidth\":2},\"zaxis\":{\"backgroundcolor\":\"#E5ECF6\",\"gridcolor\":\"white\",\"linecolor\":\"white\",\"showbackground\":true,\"ticks\":\"\",\"zerolinecolor\":\"white\",\"gridwidth\":2}},\"shapedefaults\":{\"line\":{\"color\":\"#2a3f5f\"}},\"annotationdefaults\":{\"arrowcolor\":\"#2a3f5f\",\"arrowhead\":0,\"arrowwidth\":1},\"geo\":{\"bgcolor\":\"white\",\"landcolor\":\"#E5ECF6\",\"subunitcolor\":\"white\",\"showland\":true,\"showlakes\":true,\"lakecolor\":\"white\"},\"title\":{\"x\":0.05},\"mapbox\":{\"style\":\"light\"}}},\"xaxis\":{\"anchor\":\"y\",\"domain\":[0.0,1.0],\"title\":{\"text\":\"Volume m\\u00b3 setembro 2023\"},\"showgrid\":false},\"yaxis\":{\"anchor\":\"x\",\"domain\":[0.0,1.0],\"title\":{\"text\":\"share setembro 2023\"},\"showgrid\":true},\"legend\":{\"title\":{\"text\":\"id\"},\"tracegroupgap\":0},\"title\":{\"text\":\"Segmento Grandes - Brasil - Vol x Share - 2023-09\",\"font\":{\"color\":\"darkslateblue\"},\"x\":0.5,\"y\":0.9},\"autosize\":false,\"width\":1300,\"height\":700,\"plot_bgcolor\":\"#fcfafa\",\"paper_bgcolor\":\"#fcfafa\",\"shapes\":[{\"line\":{\"color\":\"blue\",\"dash\":\"dot\"},\"type\":\"line\",\"x0\":0,\"x1\":1,\"xref\":\"x domain\",\"y0\":71.23,\"y1\":71.23,\"yref\":\"y\"},{\"line\":{\"color\":\"yellow\",\"dash\":\"dot\"},\"type\":\"line\",\"x0\":0,\"x1\":1,\"xref\":\"x domain\",\"y0\":100.0,\"y1\":100.0,\"yref\":\"y\"},{\"line\":{\"color\":\"blue\",\"dash\":\"dot\"},\"type\":\"line\",\"x0\":9978.9,\"x1\":9978.9,\"xref\":\"x\",\"y0\":0,\"y1\":1,\"yref\":\"y domain\"},{\"line\":{\"color\":\"yellow\",\"dash\":\"dot\"},\"type\":\"line\",\"x0\":10506.34,\"x1\":10506.34,\"xref\":\"x\",\"y0\":0,\"y1\":1,\"yref\":\"y domain\"}],\"annotations\":[{\"showarrow\":false,\"text\":\"Media = 71.23\",\"x\":0,\"xanchor\":\"left\",\"xref\":\"x domain\",\"y\":71.23,\"yanchor\":\"bottom\",\"yref\":\"y\"},{\"showarrow\":false,\"text\":\"Mediana = 100.00\",\"x\":1,\"xanchor\":\"right\",\"xref\":\"x domain\",\"y\":100.0,\"yanchor\":\"bottom\",\"yref\":\"y\"},{\"showarrow\":false,\"text\":\"Mediana = 9978.90\",\"x\":9978.9,\"xanchor\":\"right\",\"xref\":\"x\",\"y\":1,\"yanchor\":\"top\",\"yref\":\"y domain\"},{\"showarrow\":false,\"text\":\"Media = 10506.34\",\"x\":10506.34,\"xanchor\":\"left\",\"xref\":\"x\",\"y\":1,\"yanchor\":\"top\",\"yref\":\"y domain\"}]},                        {\"responsive\": true}                    ).then(function(){\n",
       "                            \n",
       "var gd = document.getElementById('90ecd97c-05a6-452f-95df-d0b3806e1737');\n",
       "var x = new MutationObserver(function (mutations, observer) {{\n",
       "        var display = window.getComputedStyle(gd).display;\n",
       "        if (!display || display === 'none') {{\n",
       "            console.log([gd, 'removed!']);\n",
       "            Plotly.purge(gd);\n",
       "            observer.disconnect();\n",
       "        }}\n",
       "}});\n",
       "\n",
       "// Listen for the removal of the full notebook cells\n",
       "var notebookContainer = gd.closest('#notebook-container');\n",
       "if (notebookContainer) {{\n",
       "    x.observe(notebookContainer, {childList: true});\n",
       "}}\n",
       "\n",
       "// Listen for the clearing of the current output cell\n",
       "var outputEl = gd.closest('.output');\n",
       "if (outputEl) {{\n",
       "    x.observe(outputEl, {childList: true});\n",
       "}}\n",
       "\n",
       "                        })                };                });            </script>        </div>"
      ]
     },
     "metadata": {},
     "output_type": "display_data"
    }
   ],
   "source": [
    "grandes_analitico = grandes_analitico()\n",
    "\n",
    "# quadrantes grandes 22\n",
    "\n",
    "#RAIZEN_grandes22['share_raizen'] = RAIZEN_grandes22['share_raizen']*100\n",
    "linha_mediana = grandes_analitico['VolANP'].median()\n",
    "linha_media = grandes_analitico['VolANP'].mean()\n",
    "share_mediana = grandes_analitico['share_razao'].median()\n",
    "share_media = grandes_analitico['share_razao'].mean()\n",
    "\n",
    "linha_mediana = round(linha_mediana, 2)\n",
    "linha_media = round(linha_media, 2)\n",
    "share_mediana = round(share_mediana, 2)\n",
    "share_media = round(share_media, 2)\n",
    "\n",
    "conditions = [\n",
    "    (grandes_analitico['share_razao'] > share_media) & (grandes_analitico['VolANP'] > linha_media),\n",
    "    (grandes_analitico['share_razao'] > share_media) & (grandes_analitico['VolANP'] <= linha_media),\n",
    "    (grandes_analitico['share_razao'] <= share_media) & (grandes_analitico['VolANP'] > linha_media),\n",
    "    (grandes_analitico['share_razao'] <= share_media) & (grandes_analitico['VolANP'] <= linha_media)]\n",
    "\n",
    "choices1 = ['Share acima da média e Volumes acima da média no ano','Share acima da média e Volumes abaixo da média no ano','Share abaixo da média e Volumes acima da média no ano','Share abaixo da média e Volumes abaixo da média no ano']\n",
    "choices2 = ['Sucesso','Bom','Atenção','Razoável']\n",
    "\n",
    "grandes_analitico['quadrante_desc'] = np.select(conditions, choices1, default='sem_grupo')\n",
    "grandes_analitico['quadrante'] = np.select(conditions, choices2, default='sem_grupo')\n",
    "\n",
    "grandes_analitico = round(grandes_analitico, 2)\n",
    "\n",
    "\n",
    "\n",
    "figure2 = px.scatter(\n",
    "        grandes_analitico,\n",
    "        x=\"VolANP\",\n",
    "        y=\"share_razao\",\n",
    "        color_discrete_sequence=px.colors.qualitative.Set3,\n",
    "        color=grandes_analitico['id'],\n",
    "        labels={\n",
    "            \"VolANP\": \"Volume m³ setembro 2023\",\n",
    "            \"share_razao\": \"share setembro 2023\"\n",
    "        },\n",
    "        #hover_data=[\"QUALIF_DEST\",\"quadrante_desc\",\"quadrante\",\"faixa_razao\"],\n",
    "        hover_data=[\"VolANP\",\"preview_value\",\"preview_value_12\",\"delta_vol\",\"delta_vol_12\",\"share_razao\",\"preview_share\",\"delta_share_pp\",\"QUALIF_DEST\"],\n",
    "        title=\"Segmento Grandes - Brasil - Vol x Share - 2023-09\",\n",
    "    )#.update_layout(\n",
    "#     legend_title=\"Funding\"\n",
    "#    font_color=\"Green\",\n",
    "#    legend_title={\n",
    "#        \"text\": \"Funding\",\n",
    "#        \"font\":{\n",
    "#            \"color\":\"Red\",\n",
    "#            \"family\": \"Comic Sans\"\n",
    "#        }\n",
    "#    }\n",
    "#)\n",
    "figure2.update_layout(\n",
    "    autosize=False,\n",
    "    width= 1300,\n",
    "    height=700\n",
    ")\n",
    "figure2.update_xaxes(showgrid=False)\n",
    "figure2.update_yaxes(showgrid=True)\n",
    "\n",
    "figure2.update_layout(\n",
    "        title = {\"x\": .5, \"y\": .90, \"font\": {\"color\":\"darkslateblue\"}},\n",
    "        plot_bgcolor = \"#fcfafa\",\n",
    "        paper_bgcolor = \"#fcfafa\"\n",
    "    )\n",
    "figure2.add_hline(y=share_media, line_dash=\"dot\", line_color=\"blue\", annotation_text=f'Media = {share_media:.2f}',annotation_position=\"top left\" )\n",
    "figure2.add_hline(y=share_mediana, line_dash=\"dot\", line_color=\"yellow\", annotation_text=f'Mediana = {share_mediana:.2f}',annotation_position=\"top right\" )\n",
    "figure2.add_vline(x=linha_mediana, line_dash=\"dot\", line_color=\"blue\", annotation_text=f'Mediana = {linha_mediana:.2f}',annotation_position=\"top left\" )\n",
    "figure2.add_vline(x=linha_media, line_dash=\"dot\", line_color=\"yellow\", annotation_text=f'Media = {linha_media:.2f}',annotation_position=\"top right\" )\n",
    "\n",
    "\n",
    "figure2.show()\n",
    "\n"
   ]
  },
  {
   "cell_type": "code",
   "execution_count": 24,
   "id": "34a93b99",
   "metadata": {},
   "outputs": [
    {
     "data": {
      "application/vnd.plotly.v1+json": {
       "config": {
        "plotlyServerURL": "https://plot.ly"
       },
       "data": [
        {
         "customdata": [
          [
           "IPIRANGA"
          ],
          [
           "IPIRANGA"
          ],
          [
           "IPIRANGA"
          ],
          [
           "IPIRANGA"
          ],
          [
           "IPIRANGA"
          ]
         ],
         "hovertemplate": "GRUPO=%{customdata[0]}<br>ds=%{x}<br>var=%{y}<extra></extra>",
         "legendgroup": "IPIRANGA",
         "line": {
          "color": "rgb(179,226,205)",
          "dash": "solid"
         },
         "marker": {
          "symbol": "circle"
         },
         "mode": "lines",
         "name": "IPIRANGA",
         "orientation": "v",
         "showlegend": true,
         "type": "scatter",
         "x": [
          "2023-05-01T00:00:00",
          "2023-06-01T00:00:00",
          "2023-07-01T00:00:00",
          "2023-08-01T00:00:00",
          "2023-09-01T00:00:00"
         ],
         "xaxis": "x",
         "y": [
          0.21178457554339294,
          0.2750042963597504,
          0.2802283230757603,
          0.31192109598823337,
          0.25357661907816825
         ],
         "yaxis": "y"
        },
        {
         "customdata": [
          [
           "OUTRAS NP"
          ],
          [
           "OUTRAS NP"
          ],
          [
           "OUTRAS NP"
          ],
          [
           "OUTRAS NP"
          ],
          [
           "OUTRAS NP"
          ]
         ],
         "hovertemplate": "GRUPO=%{customdata[0]}<br>ds=%{x}<br>var=%{y}<extra></extra>",
         "legendgroup": "OUTRAS NP",
         "line": {
          "color": "rgb(253,205,172)",
          "dash": "solid"
         },
         "marker": {
          "symbol": "circle"
         },
         "mode": "lines",
         "name": "OUTRAS NP",
         "orientation": "v",
         "showlegend": true,
         "type": "scatter",
         "x": [
          "2023-05-01T00:00:00",
          "2023-06-01T00:00:00",
          "2023-07-01T00:00:00",
          "2023-08-01T00:00:00",
          "2023-09-01T00:00:00"
         ],
         "xaxis": "x",
         "y": [
          0.04947519329125774,
          0.0687081711947117,
          0.06598053985261369,
          0.07177845838760571,
          0.0765427362600972
         ],
         "yaxis": "y"
        },
        {
         "customdata": [
          [
           "RAIZEN"
          ],
          [
           "RAIZEN"
          ],
          [
           "RAIZEN"
          ],
          [
           "RAIZEN"
          ],
          [
           "RAIZEN"
          ]
         ],
         "hovertemplate": "GRUPO=%{customdata[0]}<br>ds=%{x}<br>var=%{y}<extra></extra>",
         "legendgroup": "RAIZEN",
         "line": {
          "color": "rgb(203,213,232)",
          "dash": "solid"
         },
         "marker": {
          "symbol": "circle"
         },
         "mode": "lines",
         "name": "RAIZEN",
         "orientation": "v",
         "showlegend": true,
         "type": "scatter",
         "x": [
          "2023-05-01T00:00:00",
          "2023-06-01T00:00:00",
          "2023-07-01T00:00:00",
          "2023-08-01T00:00:00",
          "2023-09-01T00:00:00"
         ],
         "xaxis": "x",
         "y": [
          0.575362289123349,
          0.6822110632600158,
          0.7460629387362109,
          0.813142757135327,
          0.8638117997186627
         ],
         "yaxis": "y"
        },
        {
         "customdata": [
          [
           "VIBRA"
          ],
          [
           "VIBRA"
          ],
          [
           "VIBRA"
          ],
          [
           "VIBRA"
          ],
          [
           "VIBRA"
          ]
         ],
         "hovertemplate": "GRUPO=%{customdata[0]}<br>ds=%{x}<br>var=%{y}<extra></extra>",
         "legendgroup": "VIBRA",
         "line": {
          "color": "rgb(244,202,228)",
          "dash": "solid"
         },
         "marker": {
          "symbol": "circle"
         },
         "mode": "lines",
         "name": "VIBRA",
         "orientation": "v",
         "showlegend": true,
         "type": "scatter",
         "x": [
          "2023-05-01T00:00:00",
          "2023-06-01T00:00:00",
          "2023-07-01T00:00:00",
          "2023-08-01T00:00:00",
          "2023-09-01T00:00:00"
         ],
         "xaxis": "x",
         "y": [
          0.20554018324254586,
          0.25115709434628103,
          0.2848417529503599,
          0.32062149111899113,
          0.3328589569427009
         ],
         "yaxis": "y"
        }
       ],
       "layout": {
        "autosize": false,
        "font": {
         "size": 11
        },
        "height": 700,
        "legend": {
         "title": {
          "text": "GRUPO"
         },
         "tracegroupgap": 0
        },
        "paper_bgcolor": "#fcfafa",
        "plot_bgcolor": "#fcfafa",
        "template": {
         "data": {
          "bar": [
           {
            "error_x": {
             "color": "#2a3f5f"
            },
            "error_y": {
             "color": "#2a3f5f"
            },
            "marker": {
             "line": {
              "color": "#E5ECF6",
              "width": 0.5
             },
             "pattern": {
              "fillmode": "overlay",
              "size": 10,
              "solidity": 0.2
             }
            },
            "type": "bar"
           }
          ],
          "barpolar": [
           {
            "marker": {
             "line": {
              "color": "#E5ECF6",
              "width": 0.5
             },
             "pattern": {
              "fillmode": "overlay",
              "size": 10,
              "solidity": 0.2
             }
            },
            "type": "barpolar"
           }
          ],
          "carpet": [
           {
            "aaxis": {
             "endlinecolor": "#2a3f5f",
             "gridcolor": "white",
             "linecolor": "white",
             "minorgridcolor": "white",
             "startlinecolor": "#2a3f5f"
            },
            "baxis": {
             "endlinecolor": "#2a3f5f",
             "gridcolor": "white",
             "linecolor": "white",
             "minorgridcolor": "white",
             "startlinecolor": "#2a3f5f"
            },
            "type": "carpet"
           }
          ],
          "choropleth": [
           {
            "colorbar": {
             "outlinewidth": 0,
             "ticks": ""
            },
            "type": "choropleth"
           }
          ],
          "contour": [
           {
            "colorbar": {
             "outlinewidth": 0,
             "ticks": ""
            },
            "colorscale": [
             [
              0,
              "#0d0887"
             ],
             [
              0.1111111111111111,
              "#46039f"
             ],
             [
              0.2222222222222222,
              "#7201a8"
             ],
             [
              0.3333333333333333,
              "#9c179e"
             ],
             [
              0.4444444444444444,
              "#bd3786"
             ],
             [
              0.5555555555555556,
              "#d8576b"
             ],
             [
              0.6666666666666666,
              "#ed7953"
             ],
             [
              0.7777777777777778,
              "#fb9f3a"
             ],
             [
              0.8888888888888888,
              "#fdca26"
             ],
             [
              1,
              "#f0f921"
             ]
            ],
            "type": "contour"
           }
          ],
          "contourcarpet": [
           {
            "colorbar": {
             "outlinewidth": 0,
             "ticks": ""
            },
            "type": "contourcarpet"
           }
          ],
          "heatmap": [
           {
            "colorbar": {
             "outlinewidth": 0,
             "ticks": ""
            },
            "colorscale": [
             [
              0,
              "#0d0887"
             ],
             [
              0.1111111111111111,
              "#46039f"
             ],
             [
              0.2222222222222222,
              "#7201a8"
             ],
             [
              0.3333333333333333,
              "#9c179e"
             ],
             [
              0.4444444444444444,
              "#bd3786"
             ],
             [
              0.5555555555555556,
              "#d8576b"
             ],
             [
              0.6666666666666666,
              "#ed7953"
             ],
             [
              0.7777777777777778,
              "#fb9f3a"
             ],
             [
              0.8888888888888888,
              "#fdca26"
             ],
             [
              1,
              "#f0f921"
             ]
            ],
            "type": "heatmap"
           }
          ],
          "heatmapgl": [
           {
            "colorbar": {
             "outlinewidth": 0,
             "ticks": ""
            },
            "colorscale": [
             [
              0,
              "#0d0887"
             ],
             [
              0.1111111111111111,
              "#46039f"
             ],
             [
              0.2222222222222222,
              "#7201a8"
             ],
             [
              0.3333333333333333,
              "#9c179e"
             ],
             [
              0.4444444444444444,
              "#bd3786"
             ],
             [
              0.5555555555555556,
              "#d8576b"
             ],
             [
              0.6666666666666666,
              "#ed7953"
             ],
             [
              0.7777777777777778,
              "#fb9f3a"
             ],
             [
              0.8888888888888888,
              "#fdca26"
             ],
             [
              1,
              "#f0f921"
             ]
            ],
            "type": "heatmapgl"
           }
          ],
          "histogram": [
           {
            "marker": {
             "pattern": {
              "fillmode": "overlay",
              "size": 10,
              "solidity": 0.2
             }
            },
            "type": "histogram"
           }
          ],
          "histogram2d": [
           {
            "colorbar": {
             "outlinewidth": 0,
             "ticks": ""
            },
            "colorscale": [
             [
              0,
              "#0d0887"
             ],
             [
              0.1111111111111111,
              "#46039f"
             ],
             [
              0.2222222222222222,
              "#7201a8"
             ],
             [
              0.3333333333333333,
              "#9c179e"
             ],
             [
              0.4444444444444444,
              "#bd3786"
             ],
             [
              0.5555555555555556,
              "#d8576b"
             ],
             [
              0.6666666666666666,
              "#ed7953"
             ],
             [
              0.7777777777777778,
              "#fb9f3a"
             ],
             [
              0.8888888888888888,
              "#fdca26"
             ],
             [
              1,
              "#f0f921"
             ]
            ],
            "type": "histogram2d"
           }
          ],
          "histogram2dcontour": [
           {
            "colorbar": {
             "outlinewidth": 0,
             "ticks": ""
            },
            "colorscale": [
             [
              0,
              "#0d0887"
             ],
             [
              0.1111111111111111,
              "#46039f"
             ],
             [
              0.2222222222222222,
              "#7201a8"
             ],
             [
              0.3333333333333333,
              "#9c179e"
             ],
             [
              0.4444444444444444,
              "#bd3786"
             ],
             [
              0.5555555555555556,
              "#d8576b"
             ],
             [
              0.6666666666666666,
              "#ed7953"
             ],
             [
              0.7777777777777778,
              "#fb9f3a"
             ],
             [
              0.8888888888888888,
              "#fdca26"
             ],
             [
              1,
              "#f0f921"
             ]
            ],
            "type": "histogram2dcontour"
           }
          ],
          "mesh3d": [
           {
            "colorbar": {
             "outlinewidth": 0,
             "ticks": ""
            },
            "type": "mesh3d"
           }
          ],
          "parcoords": [
           {
            "line": {
             "colorbar": {
              "outlinewidth": 0,
              "ticks": ""
             }
            },
            "type": "parcoords"
           }
          ],
          "pie": [
           {
            "automargin": true,
            "type": "pie"
           }
          ],
          "scatter": [
           {
            "fillpattern": {
             "fillmode": "overlay",
             "size": 10,
             "solidity": 0.2
            },
            "type": "scatter"
           }
          ],
          "scatter3d": [
           {
            "line": {
             "colorbar": {
              "outlinewidth": 0,
              "ticks": ""
             }
            },
            "marker": {
             "colorbar": {
              "outlinewidth": 0,
              "ticks": ""
             }
            },
            "type": "scatter3d"
           }
          ],
          "scattercarpet": [
           {
            "marker": {
             "colorbar": {
              "outlinewidth": 0,
              "ticks": ""
             }
            },
            "type": "scattercarpet"
           }
          ],
          "scattergeo": [
           {
            "marker": {
             "colorbar": {
              "outlinewidth": 0,
              "ticks": ""
             }
            },
            "type": "scattergeo"
           }
          ],
          "scattergl": [
           {
            "marker": {
             "colorbar": {
              "outlinewidth": 0,
              "ticks": ""
             }
            },
            "type": "scattergl"
           }
          ],
          "scattermapbox": [
           {
            "marker": {
             "colorbar": {
              "outlinewidth": 0,
              "ticks": ""
             }
            },
            "type": "scattermapbox"
           }
          ],
          "scatterpolar": [
           {
            "marker": {
             "colorbar": {
              "outlinewidth": 0,
              "ticks": ""
             }
            },
            "type": "scatterpolar"
           }
          ],
          "scatterpolargl": [
           {
            "marker": {
             "colorbar": {
              "outlinewidth": 0,
              "ticks": ""
             }
            },
            "type": "scatterpolargl"
           }
          ],
          "scatterternary": [
           {
            "marker": {
             "colorbar": {
              "outlinewidth": 0,
              "ticks": ""
             }
            },
            "type": "scatterternary"
           }
          ],
          "surface": [
           {
            "colorbar": {
             "outlinewidth": 0,
             "ticks": ""
            },
            "colorscale": [
             [
              0,
              "#0d0887"
             ],
             [
              0.1111111111111111,
              "#46039f"
             ],
             [
              0.2222222222222222,
              "#7201a8"
             ],
             [
              0.3333333333333333,
              "#9c179e"
             ],
             [
              0.4444444444444444,
              "#bd3786"
             ],
             [
              0.5555555555555556,
              "#d8576b"
             ],
             [
              0.6666666666666666,
              "#ed7953"
             ],
             [
              0.7777777777777778,
              "#fb9f3a"
             ],
             [
              0.8888888888888888,
              "#fdca26"
             ],
             [
              1,
              "#f0f921"
             ]
            ],
            "type": "surface"
           }
          ],
          "table": [
           {
            "cells": {
             "fill": {
              "color": "#EBF0F8"
             },
             "line": {
              "color": "white"
             }
            },
            "header": {
             "fill": {
              "color": "#C8D4E3"
             },
             "line": {
              "color": "white"
             }
            },
            "type": "table"
           }
          ]
         },
         "layout": {
          "annotationdefaults": {
           "arrowcolor": "#2a3f5f",
           "arrowhead": 0,
           "arrowwidth": 1
          },
          "autotypenumbers": "strict",
          "coloraxis": {
           "colorbar": {
            "outlinewidth": 0,
            "ticks": ""
           }
          },
          "colorscale": {
           "diverging": [
            [
             0,
             "#8e0152"
            ],
            [
             0.1,
             "#c51b7d"
            ],
            [
             0.2,
             "#de77ae"
            ],
            [
             0.3,
             "#f1b6da"
            ],
            [
             0.4,
             "#fde0ef"
            ],
            [
             0.5,
             "#f7f7f7"
            ],
            [
             0.6,
             "#e6f5d0"
            ],
            [
             0.7,
             "#b8e186"
            ],
            [
             0.8,
             "#7fbc41"
            ],
            [
             0.9,
             "#4d9221"
            ],
            [
             1,
             "#276419"
            ]
           ],
           "sequential": [
            [
             0,
             "#0d0887"
            ],
            [
             0.1111111111111111,
             "#46039f"
            ],
            [
             0.2222222222222222,
             "#7201a8"
            ],
            [
             0.3333333333333333,
             "#9c179e"
            ],
            [
             0.4444444444444444,
             "#bd3786"
            ],
            [
             0.5555555555555556,
             "#d8576b"
            ],
            [
             0.6666666666666666,
             "#ed7953"
            ],
            [
             0.7777777777777778,
             "#fb9f3a"
            ],
            [
             0.8888888888888888,
             "#fdca26"
            ],
            [
             1,
             "#f0f921"
            ]
           ],
           "sequentialminus": [
            [
             0,
             "#0d0887"
            ],
            [
             0.1111111111111111,
             "#46039f"
            ],
            [
             0.2222222222222222,
             "#7201a8"
            ],
            [
             0.3333333333333333,
             "#9c179e"
            ],
            [
             0.4444444444444444,
             "#bd3786"
            ],
            [
             0.5555555555555556,
             "#d8576b"
            ],
            [
             0.6666666666666666,
             "#ed7953"
            ],
            [
             0.7777777777777778,
             "#fb9f3a"
            ],
            [
             0.8888888888888888,
             "#fdca26"
            ],
            [
             1,
             "#f0f921"
            ]
           ]
          },
          "colorway": [
           "#636efa",
           "#EF553B",
           "#00cc96",
           "#ab63fa",
           "#FFA15A",
           "#19d3f3",
           "#FF6692",
           "#B6E880",
           "#FF97FF",
           "#FECB52"
          ],
          "font": {
           "color": "#2a3f5f"
          },
          "geo": {
           "bgcolor": "white",
           "lakecolor": "white",
           "landcolor": "#E5ECF6",
           "showlakes": true,
           "showland": true,
           "subunitcolor": "white"
          },
          "hoverlabel": {
           "align": "left"
          },
          "hovermode": "closest",
          "mapbox": {
           "style": "light"
          },
          "paper_bgcolor": "white",
          "plot_bgcolor": "#E5ECF6",
          "polar": {
           "angularaxis": {
            "gridcolor": "white",
            "linecolor": "white",
            "ticks": ""
           },
           "bgcolor": "#E5ECF6",
           "radialaxis": {
            "gridcolor": "white",
            "linecolor": "white",
            "ticks": ""
           }
          },
          "scene": {
           "xaxis": {
            "backgroundcolor": "#E5ECF6",
            "gridcolor": "white",
            "gridwidth": 2,
            "linecolor": "white",
            "showbackground": true,
            "ticks": "",
            "zerolinecolor": "white"
           },
           "yaxis": {
            "backgroundcolor": "#E5ECF6",
            "gridcolor": "white",
            "gridwidth": 2,
            "linecolor": "white",
            "showbackground": true,
            "ticks": "",
            "zerolinecolor": "white"
           },
           "zaxis": {
            "backgroundcolor": "#E5ECF6",
            "gridcolor": "white",
            "gridwidth": 2,
            "linecolor": "white",
            "showbackground": true,
            "ticks": "",
            "zerolinecolor": "white"
           }
          },
          "shapedefaults": {
           "line": {
            "color": "#2a3f5f"
           }
          },
          "ternary": {
           "aaxis": {
            "gridcolor": "white",
            "linecolor": "white",
            "ticks": ""
           },
           "baxis": {
            "gridcolor": "white",
            "linecolor": "white",
            "ticks": ""
           },
           "bgcolor": "#E5ECF6",
           "caxis": {
            "gridcolor": "white",
            "linecolor": "white",
            "ticks": ""
           }
          },
          "title": {
           "x": 0.05
          },
          "xaxis": {
           "automargin": true,
           "gridcolor": "white",
           "linecolor": "white",
           "ticks": "",
           "title": {
            "standoff": 15
           },
           "zerolinecolor": "white",
           "zerolinewidth": 2
          },
          "yaxis": {
           "automargin": true,
           "gridcolor": "white",
           "linecolor": "white",
           "ticks": "",
           "title": {
            "standoff": 15
           },
           "zerolinecolor": "white",
           "zerolinewidth": 2
          }
         }
        },
        "title": {
         "font": {
          "color": "darkslateblue"
         },
         "text": "BR - tendência - cluster medio_grandes - canal 10 - 2023-05 a 2023-09",
         "x": 0.45,
         "y": 0.9
        },
        "width": 1300,
        "xaxis": {
         "anchor": "y",
         "domain": [
          0,
          1
         ],
         "title": {
          "text": "ds"
         }
        },
        "yaxis": {
         "anchor": "x",
         "domain": [
          0,
          1
         ],
         "title": {
          "text": "var"
         }
        }
       }
      },
      "text/html": [
       "<div>                            <div id=\"4adf99c4-8fe4-4764-bf60-58fd59e53e42\" class=\"plotly-graph-div\" style=\"height:700px; width:1300px;\"></div>            <script type=\"text/javascript\">                require([\"plotly\"], function(Plotly) {                    window.PLOTLYENV=window.PLOTLYENV || {};                                    if (document.getElementById(\"4adf99c4-8fe4-4764-bf60-58fd59e53e42\")) {                    Plotly.newPlot(                        \"4adf99c4-8fe4-4764-bf60-58fd59e53e42\",                        [{\"customdata\":[[\"IPIRANGA\"],[\"IPIRANGA\"],[\"IPIRANGA\"],[\"IPIRANGA\"],[\"IPIRANGA\"]],\"hovertemplate\":\"GRUPO=%{customdata[0]}<br>ds=%{x}<br>var=%{y}<extra></extra>\",\"legendgroup\":\"IPIRANGA\",\"line\":{\"color\":\"rgb(179,226,205)\",\"dash\":\"solid\"},\"marker\":{\"symbol\":\"circle\"},\"mode\":\"lines\",\"name\":\"IPIRANGA\",\"orientation\":\"v\",\"showlegend\":true,\"x\":[\"2023-05-01T00:00:00\",\"2023-06-01T00:00:00\",\"2023-07-01T00:00:00\",\"2023-08-01T00:00:00\",\"2023-09-01T00:00:00\"],\"xaxis\":\"x\",\"y\":[0.21178457554339294,0.2750042963597504,0.2802283230757603,0.31192109598823337,0.25357661907816825],\"yaxis\":\"y\",\"type\":\"scatter\"},{\"customdata\":[[\"OUTRAS NP\"],[\"OUTRAS NP\"],[\"OUTRAS NP\"],[\"OUTRAS NP\"],[\"OUTRAS NP\"]],\"hovertemplate\":\"GRUPO=%{customdata[0]}<br>ds=%{x}<br>var=%{y}<extra></extra>\",\"legendgroup\":\"OUTRAS NP\",\"line\":{\"color\":\"rgb(253,205,172)\",\"dash\":\"solid\"},\"marker\":{\"symbol\":\"circle\"},\"mode\":\"lines\",\"name\":\"OUTRAS NP\",\"orientation\":\"v\",\"showlegend\":true,\"x\":[\"2023-05-01T00:00:00\",\"2023-06-01T00:00:00\",\"2023-07-01T00:00:00\",\"2023-08-01T00:00:00\",\"2023-09-01T00:00:00\"],\"xaxis\":\"x\",\"y\":[0.04947519329125774,0.0687081711947117,0.06598053985261369,0.07177845838760571,0.0765427362600972],\"yaxis\":\"y\",\"type\":\"scatter\"},{\"customdata\":[[\"RAIZEN\"],[\"RAIZEN\"],[\"RAIZEN\"],[\"RAIZEN\"],[\"RAIZEN\"]],\"hovertemplate\":\"GRUPO=%{customdata[0]}<br>ds=%{x}<br>var=%{y}<extra></extra>\",\"legendgroup\":\"RAIZEN\",\"line\":{\"color\":\"rgb(203,213,232)\",\"dash\":\"solid\"},\"marker\":{\"symbol\":\"circle\"},\"mode\":\"lines\",\"name\":\"RAIZEN\",\"orientation\":\"v\",\"showlegend\":true,\"x\":[\"2023-05-01T00:00:00\",\"2023-06-01T00:00:00\",\"2023-07-01T00:00:00\",\"2023-08-01T00:00:00\",\"2023-09-01T00:00:00\"],\"xaxis\":\"x\",\"y\":[0.575362289123349,0.6822110632600158,0.7460629387362109,0.813142757135327,0.8638117997186627],\"yaxis\":\"y\",\"type\":\"scatter\"},{\"customdata\":[[\"VIBRA\"],[\"VIBRA\"],[\"VIBRA\"],[\"VIBRA\"],[\"VIBRA\"]],\"hovertemplate\":\"GRUPO=%{customdata[0]}<br>ds=%{x}<br>var=%{y}<extra></extra>\",\"legendgroup\":\"VIBRA\",\"line\":{\"color\":\"rgb(244,202,228)\",\"dash\":\"solid\"},\"marker\":{\"symbol\":\"circle\"},\"mode\":\"lines\",\"name\":\"VIBRA\",\"orientation\":\"v\",\"showlegend\":true,\"x\":[\"2023-05-01T00:00:00\",\"2023-06-01T00:00:00\",\"2023-07-01T00:00:00\",\"2023-08-01T00:00:00\",\"2023-09-01T00:00:00\"],\"xaxis\":\"x\",\"y\":[0.20554018324254586,0.25115709434628103,0.2848417529503599,0.32062149111899113,0.3328589569427009],\"yaxis\":\"y\",\"type\":\"scatter\"}],                        {\"template\":{\"data\":{\"histogram2dcontour\":[{\"type\":\"histogram2dcontour\",\"colorbar\":{\"outlinewidth\":0,\"ticks\":\"\"},\"colorscale\":[[0.0,\"#0d0887\"],[0.1111111111111111,\"#46039f\"],[0.2222222222222222,\"#7201a8\"],[0.3333333333333333,\"#9c179e\"],[0.4444444444444444,\"#bd3786\"],[0.5555555555555556,\"#d8576b\"],[0.6666666666666666,\"#ed7953\"],[0.7777777777777778,\"#fb9f3a\"],[0.8888888888888888,\"#fdca26\"],[1.0,\"#f0f921\"]]}],\"choropleth\":[{\"type\":\"choropleth\",\"colorbar\":{\"outlinewidth\":0,\"ticks\":\"\"}}],\"histogram2d\":[{\"type\":\"histogram2d\",\"colorbar\":{\"outlinewidth\":0,\"ticks\":\"\"},\"colorscale\":[[0.0,\"#0d0887\"],[0.1111111111111111,\"#46039f\"],[0.2222222222222222,\"#7201a8\"],[0.3333333333333333,\"#9c179e\"],[0.4444444444444444,\"#bd3786\"],[0.5555555555555556,\"#d8576b\"],[0.6666666666666666,\"#ed7953\"],[0.7777777777777778,\"#fb9f3a\"],[0.8888888888888888,\"#fdca26\"],[1.0,\"#f0f921\"]]}],\"heatmap\":[{\"type\":\"heatmap\",\"colorbar\":{\"outlinewidth\":0,\"ticks\":\"\"},\"colorscale\":[[0.0,\"#0d0887\"],[0.1111111111111111,\"#46039f\"],[0.2222222222222222,\"#7201a8\"],[0.3333333333333333,\"#9c179e\"],[0.4444444444444444,\"#bd3786\"],[0.5555555555555556,\"#d8576b\"],[0.6666666666666666,\"#ed7953\"],[0.7777777777777778,\"#fb9f3a\"],[0.8888888888888888,\"#fdca26\"],[1.0,\"#f0f921\"]]}],\"heatmapgl\":[{\"type\":\"heatmapgl\",\"colorbar\":{\"outlinewidth\":0,\"ticks\":\"\"},\"colorscale\":[[0.0,\"#0d0887\"],[0.1111111111111111,\"#46039f\"],[0.2222222222222222,\"#7201a8\"],[0.3333333333333333,\"#9c179e\"],[0.4444444444444444,\"#bd3786\"],[0.5555555555555556,\"#d8576b\"],[0.6666666666666666,\"#ed7953\"],[0.7777777777777778,\"#fb9f3a\"],[0.8888888888888888,\"#fdca26\"],[1.0,\"#f0f921\"]]}],\"contourcarpet\":[{\"type\":\"contourcarpet\",\"colorbar\":{\"outlinewidth\":0,\"ticks\":\"\"}}],\"contour\":[{\"type\":\"contour\",\"colorbar\":{\"outlinewidth\":0,\"ticks\":\"\"},\"colorscale\":[[0.0,\"#0d0887\"],[0.1111111111111111,\"#46039f\"],[0.2222222222222222,\"#7201a8\"],[0.3333333333333333,\"#9c179e\"],[0.4444444444444444,\"#bd3786\"],[0.5555555555555556,\"#d8576b\"],[0.6666666666666666,\"#ed7953\"],[0.7777777777777778,\"#fb9f3a\"],[0.8888888888888888,\"#fdca26\"],[1.0,\"#f0f921\"]]}],\"surface\":[{\"type\":\"surface\",\"colorbar\":{\"outlinewidth\":0,\"ticks\":\"\"},\"colorscale\":[[0.0,\"#0d0887\"],[0.1111111111111111,\"#46039f\"],[0.2222222222222222,\"#7201a8\"],[0.3333333333333333,\"#9c179e\"],[0.4444444444444444,\"#bd3786\"],[0.5555555555555556,\"#d8576b\"],[0.6666666666666666,\"#ed7953\"],[0.7777777777777778,\"#fb9f3a\"],[0.8888888888888888,\"#fdca26\"],[1.0,\"#f0f921\"]]}],\"mesh3d\":[{\"type\":\"mesh3d\",\"colorbar\":{\"outlinewidth\":0,\"ticks\":\"\"}}],\"scatter\":[{\"fillpattern\":{\"fillmode\":\"overlay\",\"size\":10,\"solidity\":0.2},\"type\":\"scatter\"}],\"parcoords\":[{\"type\":\"parcoords\",\"line\":{\"colorbar\":{\"outlinewidth\":0,\"ticks\":\"\"}}}],\"scatterpolargl\":[{\"type\":\"scatterpolargl\",\"marker\":{\"colorbar\":{\"outlinewidth\":0,\"ticks\":\"\"}}}],\"bar\":[{\"error_x\":{\"color\":\"#2a3f5f\"},\"error_y\":{\"color\":\"#2a3f5f\"},\"marker\":{\"line\":{\"color\":\"#E5ECF6\",\"width\":0.5},\"pattern\":{\"fillmode\":\"overlay\",\"size\":10,\"solidity\":0.2}},\"type\":\"bar\"}],\"scattergeo\":[{\"type\":\"scattergeo\",\"marker\":{\"colorbar\":{\"outlinewidth\":0,\"ticks\":\"\"}}}],\"scatterpolar\":[{\"type\":\"scatterpolar\",\"marker\":{\"colorbar\":{\"outlinewidth\":0,\"ticks\":\"\"}}}],\"histogram\":[{\"marker\":{\"pattern\":{\"fillmode\":\"overlay\",\"size\":10,\"solidity\":0.2}},\"type\":\"histogram\"}],\"scattergl\":[{\"type\":\"scattergl\",\"marker\":{\"colorbar\":{\"outlinewidth\":0,\"ticks\":\"\"}}}],\"scatter3d\":[{\"type\":\"scatter3d\",\"line\":{\"colorbar\":{\"outlinewidth\":0,\"ticks\":\"\"}},\"marker\":{\"colorbar\":{\"outlinewidth\":0,\"ticks\":\"\"}}}],\"scattermapbox\":[{\"type\":\"scattermapbox\",\"marker\":{\"colorbar\":{\"outlinewidth\":0,\"ticks\":\"\"}}}],\"scatterternary\":[{\"type\":\"scatterternary\",\"marker\":{\"colorbar\":{\"outlinewidth\":0,\"ticks\":\"\"}}}],\"scattercarpet\":[{\"type\":\"scattercarpet\",\"marker\":{\"colorbar\":{\"outlinewidth\":0,\"ticks\":\"\"}}}],\"carpet\":[{\"aaxis\":{\"endlinecolor\":\"#2a3f5f\",\"gridcolor\":\"white\",\"linecolor\":\"white\",\"minorgridcolor\":\"white\",\"startlinecolor\":\"#2a3f5f\"},\"baxis\":{\"endlinecolor\":\"#2a3f5f\",\"gridcolor\":\"white\",\"linecolor\":\"white\",\"minorgridcolor\":\"white\",\"startlinecolor\":\"#2a3f5f\"},\"type\":\"carpet\"}],\"table\":[{\"cells\":{\"fill\":{\"color\":\"#EBF0F8\"},\"line\":{\"color\":\"white\"}},\"header\":{\"fill\":{\"color\":\"#C8D4E3\"},\"line\":{\"color\":\"white\"}},\"type\":\"table\"}],\"barpolar\":[{\"marker\":{\"line\":{\"color\":\"#E5ECF6\",\"width\":0.5},\"pattern\":{\"fillmode\":\"overlay\",\"size\":10,\"solidity\":0.2}},\"type\":\"barpolar\"}],\"pie\":[{\"automargin\":true,\"type\":\"pie\"}]},\"layout\":{\"autotypenumbers\":\"strict\",\"colorway\":[\"#636efa\",\"#EF553B\",\"#00cc96\",\"#ab63fa\",\"#FFA15A\",\"#19d3f3\",\"#FF6692\",\"#B6E880\",\"#FF97FF\",\"#FECB52\"],\"font\":{\"color\":\"#2a3f5f\"},\"hovermode\":\"closest\",\"hoverlabel\":{\"align\":\"left\"},\"paper_bgcolor\":\"white\",\"plot_bgcolor\":\"#E5ECF6\",\"polar\":{\"bgcolor\":\"#E5ECF6\",\"angularaxis\":{\"gridcolor\":\"white\",\"linecolor\":\"white\",\"ticks\":\"\"},\"radialaxis\":{\"gridcolor\":\"white\",\"linecolor\":\"white\",\"ticks\":\"\"}},\"ternary\":{\"bgcolor\":\"#E5ECF6\",\"aaxis\":{\"gridcolor\":\"white\",\"linecolor\":\"white\",\"ticks\":\"\"},\"baxis\":{\"gridcolor\":\"white\",\"linecolor\":\"white\",\"ticks\":\"\"},\"caxis\":{\"gridcolor\":\"white\",\"linecolor\":\"white\",\"ticks\":\"\"}},\"coloraxis\":{\"colorbar\":{\"outlinewidth\":0,\"ticks\":\"\"}},\"colorscale\":{\"sequential\":[[0.0,\"#0d0887\"],[0.1111111111111111,\"#46039f\"],[0.2222222222222222,\"#7201a8\"],[0.3333333333333333,\"#9c179e\"],[0.4444444444444444,\"#bd3786\"],[0.5555555555555556,\"#d8576b\"],[0.6666666666666666,\"#ed7953\"],[0.7777777777777778,\"#fb9f3a\"],[0.8888888888888888,\"#fdca26\"],[1.0,\"#f0f921\"]],\"sequentialminus\":[[0.0,\"#0d0887\"],[0.1111111111111111,\"#46039f\"],[0.2222222222222222,\"#7201a8\"],[0.3333333333333333,\"#9c179e\"],[0.4444444444444444,\"#bd3786\"],[0.5555555555555556,\"#d8576b\"],[0.6666666666666666,\"#ed7953\"],[0.7777777777777778,\"#fb9f3a\"],[0.8888888888888888,\"#fdca26\"],[1.0,\"#f0f921\"]],\"diverging\":[[0,\"#8e0152\"],[0.1,\"#c51b7d\"],[0.2,\"#de77ae\"],[0.3,\"#f1b6da\"],[0.4,\"#fde0ef\"],[0.5,\"#f7f7f7\"],[0.6,\"#e6f5d0\"],[0.7,\"#b8e186\"],[0.8,\"#7fbc41\"],[0.9,\"#4d9221\"],[1,\"#276419\"]]},\"xaxis\":{\"gridcolor\":\"white\",\"linecolor\":\"white\",\"ticks\":\"\",\"title\":{\"standoff\":15},\"zerolinecolor\":\"white\",\"automargin\":true,\"zerolinewidth\":2},\"yaxis\":{\"gridcolor\":\"white\",\"linecolor\":\"white\",\"ticks\":\"\",\"title\":{\"standoff\":15},\"zerolinecolor\":\"white\",\"automargin\":true,\"zerolinewidth\":2},\"scene\":{\"xaxis\":{\"backgroundcolor\":\"#E5ECF6\",\"gridcolor\":\"white\",\"linecolor\":\"white\",\"showbackground\":true,\"ticks\":\"\",\"zerolinecolor\":\"white\",\"gridwidth\":2},\"yaxis\":{\"backgroundcolor\":\"#E5ECF6\",\"gridcolor\":\"white\",\"linecolor\":\"white\",\"showbackground\":true,\"ticks\":\"\",\"zerolinecolor\":\"white\",\"gridwidth\":2},\"zaxis\":{\"backgroundcolor\":\"#E5ECF6\",\"gridcolor\":\"white\",\"linecolor\":\"white\",\"showbackground\":true,\"ticks\":\"\",\"zerolinecolor\":\"white\",\"gridwidth\":2}},\"shapedefaults\":{\"line\":{\"color\":\"#2a3f5f\"}},\"annotationdefaults\":{\"arrowcolor\":\"#2a3f5f\",\"arrowhead\":0,\"arrowwidth\":1},\"geo\":{\"bgcolor\":\"white\",\"landcolor\":\"#E5ECF6\",\"subunitcolor\":\"white\",\"showland\":true,\"showlakes\":true,\"lakecolor\":\"white\"},\"title\":{\"x\":0.05},\"mapbox\":{\"style\":\"light\"}}},\"xaxis\":{\"anchor\":\"y\",\"domain\":[0.0,1.0],\"title\":{\"text\":\"ds\"}},\"yaxis\":{\"anchor\":\"x\",\"domain\":[0.0,1.0],\"title\":{\"text\":\"var\"}},\"legend\":{\"title\":{\"text\":\"GRUPO\"},\"tracegroupgap\":0},\"title\":{\"text\":\"BR - tend\\u00eancia - cluster medio_grandes - canal 10 - 2023-05 a 2023-09\",\"font\":{\"color\":\"darkslateblue\"},\"x\":0.45,\"y\":0.9},\"autosize\":false,\"width\":1300,\"height\":700,\"font\":{\"size\":11},\"plot_bgcolor\":\"#fcfafa\",\"paper_bgcolor\":\"#fcfafa\"},                        {\"responsive\": true}                    ).then(function(){\n",
       "                            \n",
       "var gd = document.getElementById('4adf99c4-8fe4-4764-bf60-58fd59e53e42');\n",
       "var x = new MutationObserver(function (mutations, observer) {{\n",
       "        var display = window.getComputedStyle(gd).display;\n",
       "        if (!display || display === 'none') {{\n",
       "            console.log([gd, 'removed!']);\n",
       "            Plotly.purge(gd);\n",
       "            observer.disconnect();\n",
       "        }}\n",
       "}});\n",
       "\n",
       "// Listen for the removal of the full notebook cells\n",
       "var notebookContainer = gd.closest('#notebook-container');\n",
       "if (notebookContainer) {{\n",
       "    x.observe(notebookContainer, {childList: true});\n",
       "}}\n",
       "\n",
       "// Listen for the clearing of the current output cell\n",
       "var outputEl = gd.closest('.output');\n",
       "if (outputEl) {{\n",
       "    x.observe(outputEl, {childList: true});\n",
       "}}\n",
       "\n",
       "                        })                };                });            </script>        </div>"
      ]
     },
     "metadata": {},
     "output_type": "display_data"
    }
   ],
   "source": [
    "medio_grandes_analitico_vol = medio_grandes_analitico_vol()\n",
    "\n",
    "fig =px.line(medio_grandes_analitico_vol, \n",
    "            x=\"ds\", \n",
    "            y=\"var\",\n",
    "            title=\"BR - tendência - cluster medio_grandes - canal 10 - 2023-05 a 2023-09\",\n",
    "            color=\"GRUPO\",\n",
    "            color_discrete_sequence=px.colors.qualitative.Pastel2,\n",
    "            hover_data=[\"GRUPO\"]\n",
    "        )\n",
    "\n",
    "fig.update_layout(\n",
    "    autosize=False,\n",
    "    width= 1300,\n",
    "    height=700\n",
    ")\n",
    "    \n",
    "fig.update_layout(\n",
    "        title = {\"x\": .45, \"y\": .90, \"font\": {\"color\":\"darkslateblue\"}},\n",
    "        plot_bgcolor = \"#fcfafa\",\n",
    "        paper_bgcolor = \"#fcfafa\", \n",
    "        font=dict(size=11)\n",
    "    )\n",
    "fig.show()\n"
   ]
  },
  {
   "cell_type": "code",
   "execution_count": 25,
   "id": "780dbdaf",
   "metadata": {},
   "outputs": [
    {
     "data": {
      "application/vnd.plotly.v1+json": {
       "config": {
        "plotlyServerURL": "https://plot.ly"
       },
       "data": [
        {
         "customdata": [
          [
           3343.5,
           1935,
           12.27,
           49.23,
           67.56,
           10.4,
           "CONSUMIDOR FINAL"
          ]
         ],
         "hovertemplate": "id=COLOMBO AGROINDUSTRIA S.A|2023-09-01|CONSUMIDOR FINAL|RAIZEN<br>Volume m³ setembro 2023=%{x}<br>share setembro 2023=%{y}<br>preview_value=%{customdata[0]}<br>preview_value_12=%{customdata[1]}<br>delta_vol=%{customdata[2]}<br>delta_vol_12=%{customdata[3]}<br>preview_share=%{customdata[4]}<br>delta_share_pp=%{customdata[5]}<br>QUALIF_DEST=%{customdata[6]}<extra></extra>",
         "legendgroup": "COLOMBO AGROINDUSTRIA S.A|2023-09-01|CONSUMIDOR FINAL|RAIZEN",
         "marker": {
          "color": "rgb(141,211,199)",
          "symbol": "circle"
         },
         "mode": "markers",
         "name": "COLOMBO AGROINDUSTRIA S.A|2023-09-01|CONSUMIDOR FINAL|RAIZEN",
         "orientation": "v",
         "showlegend": true,
         "type": "scatter",
         "x": [
          3811.2
         ],
         "xaxis": "x",
         "y": [
          77.96
         ],
         "yaxis": "y"
        },
        {
         "customdata": [
          [
           3721,
           3247,
           2.13,
           14.6,
           100,
           0,
           "CONSUMIDOR FINAL"
          ]
         ],
         "hovertemplate": "id=ALL - AMERICA LATINA LOGISTICA MALHA NORTE S/A|2023-09-01|CONSUMIDOR FINAL|RAIZEN<br>Volume m³ setembro 2023=%{x}<br>share setembro 2023=%{y}<br>preview_value=%{customdata[0]}<br>preview_value_12=%{customdata[1]}<br>delta_vol=%{customdata[2]}<br>delta_vol_12=%{customdata[3]}<br>preview_share=%{customdata[4]}<br>delta_share_pp=%{customdata[5]}<br>QUALIF_DEST=%{customdata[6]}<extra></extra>",
         "legendgroup": "ALL - AMERICA LATINA LOGISTICA MALHA NORTE S/A|2023-09-01|CONSUMIDOR FINAL|RAIZEN",
         "marker": {
          "color": "rgb(255,255,179)",
          "symbol": "circle"
         },
         "mode": "markers",
         "name": "ALL - AMERICA LATINA LOGISTICA MALHA NORTE S/A|2023-09-01|CONSUMIDOR FINAL|RAIZEN",
         "orientation": "v",
         "showlegend": true,
         "type": "scatter",
         "x": [
          3802
         ],
         "xaxis": "x",
         "y": [
          100
         ],
         "yaxis": "y"
        },
        {
         "customdata": [
          [
           3782.5,
           3300,
           -0.33,
           12.47,
           90.6,
           3.08,
           "CONSUMIDOR FINAL"
          ]
         ],
         "hovertemplate": "id=JBS S/A|2023-09-01|CONSUMIDOR FINAL|RAIZEN<br>Volume m³ setembro 2023=%{x}<br>share setembro 2023=%{y}<br>preview_value=%{customdata[0]}<br>preview_value_12=%{customdata[1]}<br>delta_vol=%{customdata[2]}<br>delta_vol_12=%{customdata[3]}<br>preview_share=%{customdata[4]}<br>delta_share_pp=%{customdata[5]}<br>QUALIF_DEST=%{customdata[6]}<extra></extra>",
         "legendgroup": "JBS S/A|2023-09-01|CONSUMIDOR FINAL|RAIZEN",
         "marker": {
          "color": "rgb(190,186,218)",
          "symbol": "circle"
         },
         "mode": "markers",
         "name": "JBS S/A|2023-09-01|CONSUMIDOR FINAL|RAIZEN",
         "orientation": "v",
         "showlegend": true,
         "type": "scatter",
         "x": [
          3770.2
         ],
         "xaxis": "x",
         "y": [
          93.69
         ],
         "yaxis": "y"
        },
        {
         "customdata": [
          [
           4909.26,
           5014.49,
           -1.95,
           -4.14,
           100,
           0,
           "CONSUMIDOR FINAL"
          ]
         ],
         "hovertemplate": "id=ANGLO AMERICAN MINERIO DE FERRO BRASIL S.A|2023-09-01|CONSUMIDOR FINAL|RAIZEN<br>Volume m³ setembro 2023=%{x}<br>share setembro 2023=%{y}<br>preview_value=%{customdata[0]}<br>preview_value_12=%{customdata[1]}<br>delta_vol=%{customdata[2]}<br>delta_vol_12=%{customdata[3]}<br>preview_share=%{customdata[4]}<br>delta_share_pp=%{customdata[5]}<br>QUALIF_DEST=%{customdata[6]}<extra></extra>",
         "legendgroup": "ANGLO AMERICAN MINERIO DE FERRO BRASIL S.A|2023-09-01|CONSUMIDOR FINAL|RAIZEN",
         "marker": {
          "color": "rgb(251,128,114)",
          "symbol": "circle"
         },
         "mode": "markers",
         "name": "ANGLO AMERICAN MINERIO DE FERRO BRASIL S.A|2023-09-01|CONSUMIDOR FINAL|RAIZEN",
         "orientation": "v",
         "showlegend": true,
         "type": "scatter",
         "x": [
          4815.33
         ],
         "xaxis": "x",
         "y": [
          100
         ],
         "yaxis": "y"
        },
        {
         "customdata": [
          [
           6445,
           6380,
           -2.43,
           -1.4,
           100,
           0,
           "CONSUMIDOR FINAL"
          ]
         ],
         "hovertemplate": "id=kINROSS BRASIL MINERAÇÃO S/A|2023-09-01|CONSUMIDOR FINAL|RAIZEN<br>Volume m³ setembro 2023=%{x}<br>share setembro 2023=%{y}<br>preview_value=%{customdata[0]}<br>preview_value_12=%{customdata[1]}<br>delta_vol=%{customdata[2]}<br>delta_vol_12=%{customdata[3]}<br>preview_share=%{customdata[4]}<br>delta_share_pp=%{customdata[5]}<br>QUALIF_DEST=%{customdata[6]}<extra></extra>",
         "legendgroup": "kINROSS BRASIL MINERAÇÃO S/A|2023-09-01|CONSUMIDOR FINAL|RAIZEN",
         "marker": {
          "color": "rgb(128,177,211)",
          "symbol": "circle"
         },
         "mode": "markers",
         "name": "kINROSS BRASIL MINERAÇÃO S/A|2023-09-01|CONSUMIDOR FINAL|RAIZEN",
         "orientation": "v",
         "showlegend": true,
         "type": "scatter",
         "x": [
          6292
         ],
         "xaxis": "x",
         "y": [
          100
         ],
         "yaxis": "y"
        },
        {
         "customdata": [
          [
           4687,
           4796,
           -3.22,
           -5.62,
           100,
           0,
           "CONSUMIDOR FINAL"
          ]
         ],
         "hovertemplate": "id=BRENCO - COMPANHIA BRASILEIRA DE ENERGIA RENOVAVEL - EM RECUPERACAO JUDICIAL|2023-09-01|CONSUMIDOR FINAL|RAIZEN<br>Volume m³ setembro 2023=%{x}<br>share setembro 2023=%{y}<br>preview_value=%{customdata[0]}<br>preview_value_12=%{customdata[1]}<br>delta_vol=%{customdata[2]}<br>delta_vol_12=%{customdata[3]}<br>preview_share=%{customdata[4]}<br>delta_share_pp=%{customdata[5]}<br>QUALIF_DEST=%{customdata[6]}<extra></extra>",
         "legendgroup": "BRENCO - COMPANHIA BRASILEIRA DE ENERGIA RENOVAVEL - EM RECUPERACAO JUDICIAL|2023-09-01|CONSUMIDOR FINAL|RAIZEN",
         "marker": {
          "color": "rgb(253,180,98)",
          "symbol": "circle"
         },
         "mode": "markers",
         "name": "BRENCO - COMPANHIA BRASILEIRA DE ENERGIA RENOVAVEL - EM RECUPERACAO JUDICIAL|2023-09-01|CONSUMIDOR FINAL|RAIZEN",
         "orientation": "v",
         "showlegend": true,
         "type": "scatter",
         "x": [
          4541
         ],
         "xaxis": "x",
         "y": [
          100
         ],
         "yaxis": "y"
        },
        {
         "customdata": [
          [
           4183,
           3390.5,
           -4.09,
           15.63,
           100,
           0,
           "CONSUMIDOR FINAL"
          ]
         ],
         "hovertemplate": "id=BIOSEV S.A.|2023-09-01|CONSUMIDOR FINAL|RAIZEN<br>Volume m³ setembro 2023=%{x}<br>share setembro 2023=%{y}<br>preview_value=%{customdata[0]}<br>preview_value_12=%{customdata[1]}<br>delta_vol=%{customdata[2]}<br>delta_vol_12=%{customdata[3]}<br>preview_share=%{customdata[4]}<br>delta_share_pp=%{customdata[5]}<br>QUALIF_DEST=%{customdata[6]}<extra></extra>",
         "legendgroup": "BIOSEV S.A.|2023-09-01|CONSUMIDOR FINAL|RAIZEN",
         "marker": {
          "color": "rgb(179,222,105)",
          "symbol": "circle"
         },
         "mode": "markers",
         "name": "BIOSEV S.A.|2023-09-01|CONSUMIDOR FINAL|RAIZEN",
         "orientation": "v",
         "showlegend": true,
         "type": "scatter",
         "x": [
          4018.5
         ],
         "xaxis": "x",
         "y": [
          100
         ],
         "yaxis": "y"
        },
        {
         "customdata": [
          [
           1188,
           861.5,
           -4.95,
           23.9,
           19.35,
           0.29,
           "CONSUMIDOR FINAL"
          ]
         ],
         "hovertemplate": "id=USINA ALTO ALEGRE S/A - ACUCAR E ALCOOL|2023-09-01|CONSUMIDOR FINAL|RAIZEN<br>Volume m³ setembro 2023=%{x}<br>share setembro 2023=%{y}<br>preview_value=%{customdata[0]}<br>preview_value_12=%{customdata[1]}<br>delta_vol=%{customdata[2]}<br>delta_vol_12=%{customdata[3]}<br>preview_share=%{customdata[4]}<br>delta_share_pp=%{customdata[5]}<br>QUALIF_DEST=%{customdata[6]}<extra></extra>",
         "legendgroup": "USINA ALTO ALEGRE S/A - ACUCAR E ALCOOL|2023-09-01|CONSUMIDOR FINAL|RAIZEN",
         "marker": {
          "color": "rgb(252,205,229)",
          "symbol": "circle"
         },
         "mode": "markers",
         "name": "USINA ALTO ALEGRE S/A - ACUCAR E ALCOOL|2023-09-01|CONSUMIDOR FINAL|RAIZEN",
         "orientation": "v",
         "showlegend": true,
         "type": "scatter",
         "x": [
          1132
         ],
         "xaxis": "x",
         "y": [
          19.65
         ],
         "yaxis": "y"
        },
        {
         "customdata": [
          [
           3374,
           1440,
           -5.06,
           55.16,
           57.96,
           7.8,
           "CONSUMIDOR FINAL"
          ]
         ],
         "hovertemplate": "id=ADECOAGRO VALE DO IVINHEMA S.A.|2023-09-01|CONSUMIDOR FINAL|RAIZEN<br>Volume m³ setembro 2023=%{x}<br>share setembro 2023=%{y}<br>preview_value=%{customdata[0]}<br>preview_value_12=%{customdata[1]}<br>delta_vol=%{customdata[2]}<br>delta_vol_12=%{customdata[3]}<br>preview_share=%{customdata[4]}<br>delta_share_pp=%{customdata[5]}<br>QUALIF_DEST=%{customdata[6]}<extra></extra>",
         "legendgroup": "ADECOAGRO VALE DO IVINHEMA S.A.|2023-09-01|CONSUMIDOR FINAL|RAIZEN",
         "marker": {
          "color": "rgb(217,217,217)",
          "symbol": "circle"
         },
         "mode": "markers",
         "name": "ADECOAGRO VALE DO IVINHEMA S.A.|2023-09-01|CONSUMIDOR FINAL|RAIZEN",
         "orientation": "v",
         "showlegend": true,
         "type": "scatter",
         "x": [
          3211.5
         ],
         "xaxis": "x",
         "y": [
          65.77
         ],
         "yaxis": "y"
        },
        {
         "customdata": [
          [
           1275,
           455,
           -6.25,
           62.08,
           33.03,
           -0.86,
           "CONSUMIDOR FINAL"
          ]
         ],
         "hovertemplate": "id=VIAÇÃO PIRACICABANA S.A.|2023-09-01|CONSUMIDOR FINAL|RAIZEN<br>Volume m³ setembro 2023=%{x}<br>share setembro 2023=%{y}<br>preview_value=%{customdata[0]}<br>preview_value_12=%{customdata[1]}<br>delta_vol=%{customdata[2]}<br>delta_vol_12=%{customdata[3]}<br>preview_share=%{customdata[4]}<br>delta_share_pp=%{customdata[5]}<br>QUALIF_DEST=%{customdata[6]}<extra></extra>",
         "legendgroup": "VIAÇÃO PIRACICABANA S.A.|2023-09-01|CONSUMIDOR FINAL|RAIZEN",
         "marker": {
          "color": "rgb(188,128,189)",
          "symbol": "circle"
         },
         "mode": "markers",
         "name": "VIAÇÃO PIRACICABANA S.A.|2023-09-01|CONSUMIDOR FINAL|RAIZEN",
         "orientation": "v",
         "showlegend": true,
         "type": "scatter",
         "x": [
          1200
         ],
         "xaxis": "x",
         "y": [
          32.17
         ],
         "yaxis": "y"
        },
        {
         "customdata": [
          [
           4386,
           4385,
           -7.3,
           -7.28,
           100,
           0,
           "CONSUMIDOR FINAL"
          ]
         ],
         "hovertemplate": "id=MINERAÇÃO MARACÁ IND. E COM. S/A|2023-09-01|CONSUMIDOR FINAL|RAIZEN<br>Volume m³ setembro 2023=%{x}<br>share setembro 2023=%{y}<br>preview_value=%{customdata[0]}<br>preview_value_12=%{customdata[1]}<br>delta_vol=%{customdata[2]}<br>delta_vol_12=%{customdata[3]}<br>preview_share=%{customdata[4]}<br>delta_share_pp=%{customdata[5]}<br>QUALIF_DEST=%{customdata[6]}<extra></extra>",
         "legendgroup": "MINERAÇÃO MARACÁ IND. E COM. S/A|2023-09-01|CONSUMIDOR FINAL|RAIZEN",
         "marker": {
          "color": "rgb(204,235,197)",
          "symbol": "circle"
         },
         "mode": "markers",
         "name": "MINERAÇÃO MARACÁ IND. E COM. S/A|2023-09-01|CONSUMIDOR FINAL|RAIZEN",
         "orientation": "v",
         "showlegend": true,
         "type": "scatter",
         "x": [
          4087.5
         ],
         "xaxis": "x",
         "y": [
          100
         ],
         "yaxis": "y"
        },
        {
         "customdata": [
          [
           2370,
           2105,
           -8.47,
           3.66,
           76.33,
           -1.24,
           "CONSUMIDOR FINAL"
          ]
         ],
         "hovertemplate": "id=VOTORANTIM CIMENTOS SA|2023-09-01|CONSUMIDOR FINAL|RAIZEN<br>Volume m³ setembro 2023=%{x}<br>share setembro 2023=%{y}<br>preview_value=%{customdata[0]}<br>preview_value_12=%{customdata[1]}<br>delta_vol=%{customdata[2]}<br>delta_vol_12=%{customdata[3]}<br>preview_share=%{customdata[4]}<br>delta_share_pp=%{customdata[5]}<br>QUALIF_DEST=%{customdata[6]}<extra></extra>",
         "legendgroup": "VOTORANTIM CIMENTOS SA|2023-09-01|CONSUMIDOR FINAL|RAIZEN",
         "marker": {
          "color": "rgb(255,237,111)",
          "symbol": "circle"
         },
         "mode": "markers",
         "name": "VOTORANTIM CIMENTOS SA|2023-09-01|CONSUMIDOR FINAL|RAIZEN",
         "orientation": "v",
         "showlegend": true,
         "type": "scatter",
         "x": [
          2185
         ],
         "xaxis": "x",
         "y": [
          75.09
         ],
         "yaxis": "y"
        },
        {
         "customdata": [
          [
           3419,
           1949,
           -15.86,
           33.95,
           37.64,
           -0.76,
           "CONSUMIDOR FINAL"
          ]
         ],
         "hovertemplate": "id=USINA DE ACUCAR SANTA TEREZINHA LTDA EM RECUPERACAO JUDICIAL|2023-09-01|CONSUMIDOR FINAL|RAIZEN<br>Volume m³ setembro 2023=%{x}<br>share setembro 2023=%{y}<br>preview_value=%{customdata[0]}<br>preview_value_12=%{customdata[1]}<br>delta_vol=%{customdata[2]}<br>delta_vol_12=%{customdata[3]}<br>preview_share=%{customdata[4]}<br>delta_share_pp=%{customdata[5]}<br>QUALIF_DEST=%{customdata[6]}<extra></extra>",
         "legendgroup": "USINA DE ACUCAR SANTA TEREZINHA LTDA EM RECUPERACAO JUDICIAL|2023-09-01|CONSUMIDOR FINAL|RAIZEN",
         "marker": {
          "color": "rgb(141,211,199)",
          "symbol": "circle"
         },
         "mode": "markers",
         "name": "USINA DE ACUCAR SANTA TEREZINHA LTDA EM RECUPERACAO JUDICIAL|2023-09-01|CONSUMIDOR FINAL|RAIZEN",
         "orientation": "v",
         "showlegend": true,
         "type": "scatter",
         "x": [
          2951
         ],
         "xaxis": "x",
         "y": [
          36.87
         ],
         "yaxis": "y"
        },
        {
         "customdata": [
          [
           2860,
           2301,
           -16.73,
           6.08,
           85.37,
           3.07,
           "CONSUMIDOR FINAL"
          ]
         ],
         "hovertemplate": "id=POLIMIX CONCRETO LTDA|2023-09-01|CONSUMIDOR FINAL|RAIZEN<br>Volume m³ setembro 2023=%{x}<br>share setembro 2023=%{y}<br>preview_value=%{customdata[0]}<br>preview_value_12=%{customdata[1]}<br>delta_vol=%{customdata[2]}<br>delta_vol_12=%{customdata[3]}<br>preview_share=%{customdata[4]}<br>delta_share_pp=%{customdata[5]}<br>QUALIF_DEST=%{customdata[6]}<extra></extra>",
         "legendgroup": "POLIMIX CONCRETO LTDA|2023-09-01|CONSUMIDOR FINAL|RAIZEN",
         "marker": {
          "color": "rgb(255,255,179)",
          "symbol": "circle"
         },
         "mode": "markers",
         "name": "POLIMIX CONCRETO LTDA|2023-09-01|CONSUMIDOR FINAL|RAIZEN",
         "orientation": "v",
         "showlegend": true,
         "type": "scatter",
         "x": [
          2450
         ],
         "xaxis": "x",
         "y": [
          88.45
         ],
         "yaxis": "y"
        },
        {
         "customdata": [
          [
           1429.3,
           30,
           -39.35,
           97.08,
           46.55,
           -10.85,
           "CONSUMIDOR FINAL"
          ]
         ],
         "hovertemplate": "id=EMPRESA GONTIJO DE TRANSPORTES LTDA|2023-09-01|CONSUMIDOR FINAL|RAIZEN<br>Volume m³ setembro 2023=%{x}<br>share setembro 2023=%{y}<br>preview_value=%{customdata[0]}<br>preview_value_12=%{customdata[1]}<br>delta_vol=%{customdata[2]}<br>delta_vol_12=%{customdata[3]}<br>preview_share=%{customdata[4]}<br>delta_share_pp=%{customdata[5]}<br>QUALIF_DEST=%{customdata[6]}<extra></extra>",
         "legendgroup": "EMPRESA GONTIJO DE TRANSPORTES LTDA|2023-09-01|CONSUMIDOR FINAL|RAIZEN",
         "marker": {
          "color": "rgb(190,186,218)",
          "symbol": "circle"
         },
         "mode": "markers",
         "name": "EMPRESA GONTIJO DE TRANSPORTES LTDA|2023-09-01|CONSUMIDOR FINAL|RAIZEN",
         "orientation": "v",
         "showlegend": true,
         "type": "scatter",
         "x": [
          1025.7
         ],
         "xaxis": "x",
         "y": [
          35.7
         ],
         "yaxis": "y"
        },
        {
         "customdata": [
          [
           270,
           140,
           -86.21,
           3.45,
           7.89,
           -4.06,
           "CONSUMIDOR FINAL"
          ]
         ],
         "hovertemplate": "id=COMANDO DIESEL TRANSPORTE E LOGISTICA LTDA|2023-09-01|CONSUMIDOR FINAL|RAIZEN<br>Volume m³ setembro 2023=%{x}<br>share setembro 2023=%{y}<br>preview_value=%{customdata[0]}<br>preview_value_12=%{customdata[1]}<br>delta_vol=%{customdata[2]}<br>delta_vol_12=%{customdata[3]}<br>preview_share=%{customdata[4]}<br>delta_share_pp=%{customdata[5]}<br>QUALIF_DEST=%{customdata[6]}<extra></extra>",
         "legendgroup": "COMANDO DIESEL TRANSPORTE E LOGISTICA LTDA|2023-09-01|CONSUMIDOR FINAL|RAIZEN",
         "marker": {
          "color": "rgb(251,128,114)",
          "symbol": "circle"
         },
         "mode": "markers",
         "name": "COMANDO DIESEL TRANSPORTE E LOGISTICA LTDA|2023-09-01|CONSUMIDOR FINAL|RAIZEN",
         "orientation": "v",
         "showlegend": true,
         "type": "scatter",
         "x": [
          145
         ],
         "xaxis": "x",
         "y": [
          3.83
         ],
         "yaxis": "y"
        },
        {
         "customdata": [
          [
           1602,
           null,
           -189.17,
           null,
           43.26,
           -26.75,
           "CONSUMIDOR FINAL"
          ]
         ],
         "hovertemplate": "id=MARTELLI TRANSPORTES LTDA.|2023-09-01|CONSUMIDOR FINAL|RAIZEN<br>Volume m³ setembro 2023=%{x}<br>share setembro 2023=%{y}<br>preview_value=%{customdata[0]}<br>preview_value_12=%{customdata[1]}<br>delta_vol=%{customdata[2]}<br>delta_vol_12=%{customdata[3]}<br>preview_share=%{customdata[4]}<br>delta_share_pp=%{customdata[5]}<br>QUALIF_DEST=%{customdata[6]}<extra></extra>",
         "legendgroup": "MARTELLI TRANSPORTES LTDA.|2023-09-01|CONSUMIDOR FINAL|RAIZEN",
         "marker": {
          "color": "rgb(128,177,211)",
          "symbol": "circle"
         },
         "mode": "markers",
         "name": "MARTELLI TRANSPORTES LTDA.|2023-09-01|CONSUMIDOR FINAL|RAIZEN",
         "orientation": "v",
         "showlegend": true,
         "type": "scatter",
         "x": [
          554
         ],
         "xaxis": "x",
         "y": [
          16.51
         ],
         "yaxis": "y"
        },
        {
         "customdata": [
          [
           2746.2,
           709,
           -1137.03,
           -219.37,
           40.95,
           -35.54,
           "CONSUMIDOR FINAL"
          ]
         ],
         "hovertemplate": "id=BOM FUTURO AGRICOLA LTDA|2023-09-01|CONSUMIDOR FINAL|RAIZEN<br>Volume m³ setembro 2023=%{x}<br>share setembro 2023=%{y}<br>preview_value=%{customdata[0]}<br>preview_value_12=%{customdata[1]}<br>delta_vol=%{customdata[2]}<br>delta_vol_12=%{customdata[3]}<br>preview_share=%{customdata[4]}<br>delta_share_pp=%{customdata[5]}<br>QUALIF_DEST=%{customdata[6]}<extra></extra>",
         "legendgroup": "BOM FUTURO AGRICOLA LTDA|2023-09-01|CONSUMIDOR FINAL|RAIZEN",
         "marker": {
          "color": "rgb(253,180,98)",
          "symbol": "circle"
         },
         "mode": "markers",
         "name": "BOM FUTURO AGRICOLA LTDA|2023-09-01|CONSUMIDOR FINAL|RAIZEN",
         "orientation": "v",
         "showlegend": true,
         "type": "scatter",
         "x": [
          222
         ],
         "xaxis": "x",
         "y": [
          5.41
         ],
         "yaxis": "y"
        }
       ],
       "layout": {
        "annotations": [
         {
          "showarrow": false,
          "text": "Media = 63.95",
          "x": 0,
          "xanchor": "left",
          "xref": "x domain",
          "y": 63.95,
          "yanchor": "bottom",
          "yref": "y"
         },
         {
          "showarrow": false,
          "text": "Mediana = 76.53",
          "x": 1,
          "xanchor": "right",
          "xref": "x domain",
          "y": 76.53,
          "yanchor": "bottom",
          "yref": "y"
         },
         {
          "showarrow": false,
          "text": "Mediana = 3081.25",
          "x": 3081.25,
          "xanchor": "right",
          "xref": "x",
          "y": 1,
          "yanchor": "top",
          "yref": "y domain"
         },
         {
          "showarrow": false,
          "text": "Media = 2789.66",
          "x": 2789.66,
          "xanchor": "left",
          "xref": "x",
          "y": 1,
          "yanchor": "top",
          "yref": "y domain"
         }
        ],
        "autosize": false,
        "height": 700,
        "legend": {
         "title": {
          "text": "id"
         },
         "tracegroupgap": 0
        },
        "paper_bgcolor": "#fcfafa",
        "plot_bgcolor": "#fcfafa",
        "shapes": [
         {
          "line": {
           "color": "blue",
           "dash": "dot"
          },
          "type": "line",
          "x0": 0,
          "x1": 1,
          "xref": "x domain",
          "y0": 63.95,
          "y1": 63.95,
          "yref": "y"
         },
         {
          "line": {
           "color": "yellow",
           "dash": "dot"
          },
          "type": "line",
          "x0": 0,
          "x1": 1,
          "xref": "x domain",
          "y0": 76.53,
          "y1": 76.53,
          "yref": "y"
         },
         {
          "line": {
           "color": "blue",
           "dash": "dot"
          },
          "type": "line",
          "x0": 3081.25,
          "x1": 3081.25,
          "xref": "x",
          "y0": 0,
          "y1": 1,
          "yref": "y domain"
         },
         {
          "line": {
           "color": "yellow",
           "dash": "dot"
          },
          "type": "line",
          "x0": 2789.66,
          "x1": 2789.66,
          "xref": "x",
          "y0": 0,
          "y1": 1,
          "yref": "y domain"
         }
        ],
        "template": {
         "data": {
          "bar": [
           {
            "error_x": {
             "color": "#2a3f5f"
            },
            "error_y": {
             "color": "#2a3f5f"
            },
            "marker": {
             "line": {
              "color": "#E5ECF6",
              "width": 0.5
             },
             "pattern": {
              "fillmode": "overlay",
              "size": 10,
              "solidity": 0.2
             }
            },
            "type": "bar"
           }
          ],
          "barpolar": [
           {
            "marker": {
             "line": {
              "color": "#E5ECF6",
              "width": 0.5
             },
             "pattern": {
              "fillmode": "overlay",
              "size": 10,
              "solidity": 0.2
             }
            },
            "type": "barpolar"
           }
          ],
          "carpet": [
           {
            "aaxis": {
             "endlinecolor": "#2a3f5f",
             "gridcolor": "white",
             "linecolor": "white",
             "minorgridcolor": "white",
             "startlinecolor": "#2a3f5f"
            },
            "baxis": {
             "endlinecolor": "#2a3f5f",
             "gridcolor": "white",
             "linecolor": "white",
             "minorgridcolor": "white",
             "startlinecolor": "#2a3f5f"
            },
            "type": "carpet"
           }
          ],
          "choropleth": [
           {
            "colorbar": {
             "outlinewidth": 0,
             "ticks": ""
            },
            "type": "choropleth"
           }
          ],
          "contour": [
           {
            "colorbar": {
             "outlinewidth": 0,
             "ticks": ""
            },
            "colorscale": [
             [
              0,
              "#0d0887"
             ],
             [
              0.1111111111111111,
              "#46039f"
             ],
             [
              0.2222222222222222,
              "#7201a8"
             ],
             [
              0.3333333333333333,
              "#9c179e"
             ],
             [
              0.4444444444444444,
              "#bd3786"
             ],
             [
              0.5555555555555556,
              "#d8576b"
             ],
             [
              0.6666666666666666,
              "#ed7953"
             ],
             [
              0.7777777777777778,
              "#fb9f3a"
             ],
             [
              0.8888888888888888,
              "#fdca26"
             ],
             [
              1,
              "#f0f921"
             ]
            ],
            "type": "contour"
           }
          ],
          "contourcarpet": [
           {
            "colorbar": {
             "outlinewidth": 0,
             "ticks": ""
            },
            "type": "contourcarpet"
           }
          ],
          "heatmap": [
           {
            "colorbar": {
             "outlinewidth": 0,
             "ticks": ""
            },
            "colorscale": [
             [
              0,
              "#0d0887"
             ],
             [
              0.1111111111111111,
              "#46039f"
             ],
             [
              0.2222222222222222,
              "#7201a8"
             ],
             [
              0.3333333333333333,
              "#9c179e"
             ],
             [
              0.4444444444444444,
              "#bd3786"
             ],
             [
              0.5555555555555556,
              "#d8576b"
             ],
             [
              0.6666666666666666,
              "#ed7953"
             ],
             [
              0.7777777777777778,
              "#fb9f3a"
             ],
             [
              0.8888888888888888,
              "#fdca26"
             ],
             [
              1,
              "#f0f921"
             ]
            ],
            "type": "heatmap"
           }
          ],
          "heatmapgl": [
           {
            "colorbar": {
             "outlinewidth": 0,
             "ticks": ""
            },
            "colorscale": [
             [
              0,
              "#0d0887"
             ],
             [
              0.1111111111111111,
              "#46039f"
             ],
             [
              0.2222222222222222,
              "#7201a8"
             ],
             [
              0.3333333333333333,
              "#9c179e"
             ],
             [
              0.4444444444444444,
              "#bd3786"
             ],
             [
              0.5555555555555556,
              "#d8576b"
             ],
             [
              0.6666666666666666,
              "#ed7953"
             ],
             [
              0.7777777777777778,
              "#fb9f3a"
             ],
             [
              0.8888888888888888,
              "#fdca26"
             ],
             [
              1,
              "#f0f921"
             ]
            ],
            "type": "heatmapgl"
           }
          ],
          "histogram": [
           {
            "marker": {
             "pattern": {
              "fillmode": "overlay",
              "size": 10,
              "solidity": 0.2
             }
            },
            "type": "histogram"
           }
          ],
          "histogram2d": [
           {
            "colorbar": {
             "outlinewidth": 0,
             "ticks": ""
            },
            "colorscale": [
             [
              0,
              "#0d0887"
             ],
             [
              0.1111111111111111,
              "#46039f"
             ],
             [
              0.2222222222222222,
              "#7201a8"
             ],
             [
              0.3333333333333333,
              "#9c179e"
             ],
             [
              0.4444444444444444,
              "#bd3786"
             ],
             [
              0.5555555555555556,
              "#d8576b"
             ],
             [
              0.6666666666666666,
              "#ed7953"
             ],
             [
              0.7777777777777778,
              "#fb9f3a"
             ],
             [
              0.8888888888888888,
              "#fdca26"
             ],
             [
              1,
              "#f0f921"
             ]
            ],
            "type": "histogram2d"
           }
          ],
          "histogram2dcontour": [
           {
            "colorbar": {
             "outlinewidth": 0,
             "ticks": ""
            },
            "colorscale": [
             [
              0,
              "#0d0887"
             ],
             [
              0.1111111111111111,
              "#46039f"
             ],
             [
              0.2222222222222222,
              "#7201a8"
             ],
             [
              0.3333333333333333,
              "#9c179e"
             ],
             [
              0.4444444444444444,
              "#bd3786"
             ],
             [
              0.5555555555555556,
              "#d8576b"
             ],
             [
              0.6666666666666666,
              "#ed7953"
             ],
             [
              0.7777777777777778,
              "#fb9f3a"
             ],
             [
              0.8888888888888888,
              "#fdca26"
             ],
             [
              1,
              "#f0f921"
             ]
            ],
            "type": "histogram2dcontour"
           }
          ],
          "mesh3d": [
           {
            "colorbar": {
             "outlinewidth": 0,
             "ticks": ""
            },
            "type": "mesh3d"
           }
          ],
          "parcoords": [
           {
            "line": {
             "colorbar": {
              "outlinewidth": 0,
              "ticks": ""
             }
            },
            "type": "parcoords"
           }
          ],
          "pie": [
           {
            "automargin": true,
            "type": "pie"
           }
          ],
          "scatter": [
           {
            "fillpattern": {
             "fillmode": "overlay",
             "size": 10,
             "solidity": 0.2
            },
            "type": "scatter"
           }
          ],
          "scatter3d": [
           {
            "line": {
             "colorbar": {
              "outlinewidth": 0,
              "ticks": ""
             }
            },
            "marker": {
             "colorbar": {
              "outlinewidth": 0,
              "ticks": ""
             }
            },
            "type": "scatter3d"
           }
          ],
          "scattercarpet": [
           {
            "marker": {
             "colorbar": {
              "outlinewidth": 0,
              "ticks": ""
             }
            },
            "type": "scattercarpet"
           }
          ],
          "scattergeo": [
           {
            "marker": {
             "colorbar": {
              "outlinewidth": 0,
              "ticks": ""
             }
            },
            "type": "scattergeo"
           }
          ],
          "scattergl": [
           {
            "marker": {
             "colorbar": {
              "outlinewidth": 0,
              "ticks": ""
             }
            },
            "type": "scattergl"
           }
          ],
          "scattermapbox": [
           {
            "marker": {
             "colorbar": {
              "outlinewidth": 0,
              "ticks": ""
             }
            },
            "type": "scattermapbox"
           }
          ],
          "scatterpolar": [
           {
            "marker": {
             "colorbar": {
              "outlinewidth": 0,
              "ticks": ""
             }
            },
            "type": "scatterpolar"
           }
          ],
          "scatterpolargl": [
           {
            "marker": {
             "colorbar": {
              "outlinewidth": 0,
              "ticks": ""
             }
            },
            "type": "scatterpolargl"
           }
          ],
          "scatterternary": [
           {
            "marker": {
             "colorbar": {
              "outlinewidth": 0,
              "ticks": ""
             }
            },
            "type": "scatterternary"
           }
          ],
          "surface": [
           {
            "colorbar": {
             "outlinewidth": 0,
             "ticks": ""
            },
            "colorscale": [
             [
              0,
              "#0d0887"
             ],
             [
              0.1111111111111111,
              "#46039f"
             ],
             [
              0.2222222222222222,
              "#7201a8"
             ],
             [
              0.3333333333333333,
              "#9c179e"
             ],
             [
              0.4444444444444444,
              "#bd3786"
             ],
             [
              0.5555555555555556,
              "#d8576b"
             ],
             [
              0.6666666666666666,
              "#ed7953"
             ],
             [
              0.7777777777777778,
              "#fb9f3a"
             ],
             [
              0.8888888888888888,
              "#fdca26"
             ],
             [
              1,
              "#f0f921"
             ]
            ],
            "type": "surface"
           }
          ],
          "table": [
           {
            "cells": {
             "fill": {
              "color": "#EBF0F8"
             },
             "line": {
              "color": "white"
             }
            },
            "header": {
             "fill": {
              "color": "#C8D4E3"
             },
             "line": {
              "color": "white"
             }
            },
            "type": "table"
           }
          ]
         },
         "layout": {
          "annotationdefaults": {
           "arrowcolor": "#2a3f5f",
           "arrowhead": 0,
           "arrowwidth": 1
          },
          "autotypenumbers": "strict",
          "coloraxis": {
           "colorbar": {
            "outlinewidth": 0,
            "ticks": ""
           }
          },
          "colorscale": {
           "diverging": [
            [
             0,
             "#8e0152"
            ],
            [
             0.1,
             "#c51b7d"
            ],
            [
             0.2,
             "#de77ae"
            ],
            [
             0.3,
             "#f1b6da"
            ],
            [
             0.4,
             "#fde0ef"
            ],
            [
             0.5,
             "#f7f7f7"
            ],
            [
             0.6,
             "#e6f5d0"
            ],
            [
             0.7,
             "#b8e186"
            ],
            [
             0.8,
             "#7fbc41"
            ],
            [
             0.9,
             "#4d9221"
            ],
            [
             1,
             "#276419"
            ]
           ],
           "sequential": [
            [
             0,
             "#0d0887"
            ],
            [
             0.1111111111111111,
             "#46039f"
            ],
            [
             0.2222222222222222,
             "#7201a8"
            ],
            [
             0.3333333333333333,
             "#9c179e"
            ],
            [
             0.4444444444444444,
             "#bd3786"
            ],
            [
             0.5555555555555556,
             "#d8576b"
            ],
            [
             0.6666666666666666,
             "#ed7953"
            ],
            [
             0.7777777777777778,
             "#fb9f3a"
            ],
            [
             0.8888888888888888,
             "#fdca26"
            ],
            [
             1,
             "#f0f921"
            ]
           ],
           "sequentialminus": [
            [
             0,
             "#0d0887"
            ],
            [
             0.1111111111111111,
             "#46039f"
            ],
            [
             0.2222222222222222,
             "#7201a8"
            ],
            [
             0.3333333333333333,
             "#9c179e"
            ],
            [
             0.4444444444444444,
             "#bd3786"
            ],
            [
             0.5555555555555556,
             "#d8576b"
            ],
            [
             0.6666666666666666,
             "#ed7953"
            ],
            [
             0.7777777777777778,
             "#fb9f3a"
            ],
            [
             0.8888888888888888,
             "#fdca26"
            ],
            [
             1,
             "#f0f921"
            ]
           ]
          },
          "colorway": [
           "#636efa",
           "#EF553B",
           "#00cc96",
           "#ab63fa",
           "#FFA15A",
           "#19d3f3",
           "#FF6692",
           "#B6E880",
           "#FF97FF",
           "#FECB52"
          ],
          "font": {
           "color": "#2a3f5f"
          },
          "geo": {
           "bgcolor": "white",
           "lakecolor": "white",
           "landcolor": "#E5ECF6",
           "showlakes": true,
           "showland": true,
           "subunitcolor": "white"
          },
          "hoverlabel": {
           "align": "left"
          },
          "hovermode": "closest",
          "mapbox": {
           "style": "light"
          },
          "paper_bgcolor": "white",
          "plot_bgcolor": "#E5ECF6",
          "polar": {
           "angularaxis": {
            "gridcolor": "white",
            "linecolor": "white",
            "ticks": ""
           },
           "bgcolor": "#E5ECF6",
           "radialaxis": {
            "gridcolor": "white",
            "linecolor": "white",
            "ticks": ""
           }
          },
          "scene": {
           "xaxis": {
            "backgroundcolor": "#E5ECF6",
            "gridcolor": "white",
            "gridwidth": 2,
            "linecolor": "white",
            "showbackground": true,
            "ticks": "",
            "zerolinecolor": "white"
           },
           "yaxis": {
            "backgroundcolor": "#E5ECF6",
            "gridcolor": "white",
            "gridwidth": 2,
            "linecolor": "white",
            "showbackground": true,
            "ticks": "",
            "zerolinecolor": "white"
           },
           "zaxis": {
            "backgroundcolor": "#E5ECF6",
            "gridcolor": "white",
            "gridwidth": 2,
            "linecolor": "white",
            "showbackground": true,
            "ticks": "",
            "zerolinecolor": "white"
           }
          },
          "shapedefaults": {
           "line": {
            "color": "#2a3f5f"
           }
          },
          "ternary": {
           "aaxis": {
            "gridcolor": "white",
            "linecolor": "white",
            "ticks": ""
           },
           "baxis": {
            "gridcolor": "white",
            "linecolor": "white",
            "ticks": ""
           },
           "bgcolor": "#E5ECF6",
           "caxis": {
            "gridcolor": "white",
            "linecolor": "white",
            "ticks": ""
           }
          },
          "title": {
           "x": 0.05
          },
          "xaxis": {
           "automargin": true,
           "gridcolor": "white",
           "linecolor": "white",
           "ticks": "",
           "title": {
            "standoff": 15
           },
           "zerolinecolor": "white",
           "zerolinewidth": 2
          },
          "yaxis": {
           "automargin": true,
           "gridcolor": "white",
           "linecolor": "white",
           "ticks": "",
           "title": {
            "standoff": 15
           },
           "zerolinecolor": "white",
           "zerolinewidth": 2
          }
         }
        },
        "title": {
         "font": {
          "color": "darkslateblue"
         },
         "text": "Segmento medio_grandes - Brasil - Vol x Share - 2023-09",
         "x": 0.5,
         "y": 0.9
        },
        "width": 1300,
        "xaxis": {
         "anchor": "y",
         "domain": [
          0,
          1
         ],
         "showgrid": false,
         "title": {
          "text": "Volume m³ setembro 2023"
         }
        },
        "yaxis": {
         "anchor": "x",
         "domain": [
          0,
          1
         ],
         "showgrid": true,
         "title": {
          "text": "share setembro 2023"
         }
        }
       }
      },
      "text/html": [
       "<div>                            <div id=\"e292be30-0d53-41b8-be71-b00cac4ec98c\" class=\"plotly-graph-div\" style=\"height:700px; width:1300px;\"></div>            <script type=\"text/javascript\">                require([\"plotly\"], function(Plotly) {                    window.PLOTLYENV=window.PLOTLYENV || {};                                    if (document.getElementById(\"e292be30-0d53-41b8-be71-b00cac4ec98c\")) {                    Plotly.newPlot(                        \"e292be30-0d53-41b8-be71-b00cac4ec98c\",                        [{\"customdata\":[[3343.5,1935.0,12.27,49.23,67.56,10.4,\"CONSUMIDOR FINAL\"]],\"hovertemplate\":\"id=COLOMBO AGROINDUSTRIA S.A|2023-09-01|CONSUMIDOR FINAL|RAIZEN<br>Volume m\\u00b3 setembro 2023=%{x}<br>share setembro 2023=%{y}<br>preview_value=%{customdata[0]}<br>preview_value_12=%{customdata[1]}<br>delta_vol=%{customdata[2]}<br>delta_vol_12=%{customdata[3]}<br>preview_share=%{customdata[4]}<br>delta_share_pp=%{customdata[5]}<br>QUALIF_DEST=%{customdata[6]}<extra></extra>\",\"legendgroup\":\"COLOMBO AGROINDUSTRIA S.A|2023-09-01|CONSUMIDOR FINAL|RAIZEN\",\"marker\":{\"color\":\"rgb(141,211,199)\",\"symbol\":\"circle\"},\"mode\":\"markers\",\"name\":\"COLOMBO AGROINDUSTRIA S.A|2023-09-01|CONSUMIDOR FINAL|RAIZEN\",\"orientation\":\"v\",\"showlegend\":true,\"x\":[3811.2],\"xaxis\":\"x\",\"y\":[77.96],\"yaxis\":\"y\",\"type\":\"scatter\"},{\"customdata\":[[3721.0,3247.0,2.13,14.6,100.0,0.0,\"CONSUMIDOR FINAL\"]],\"hovertemplate\":\"id=ALL - AMERICA LATINA LOGISTICA MALHA NORTE S/A|2023-09-01|CONSUMIDOR FINAL|RAIZEN<br>Volume m\\u00b3 setembro 2023=%{x}<br>share setembro 2023=%{y}<br>preview_value=%{customdata[0]}<br>preview_value_12=%{customdata[1]}<br>delta_vol=%{customdata[2]}<br>delta_vol_12=%{customdata[3]}<br>preview_share=%{customdata[4]}<br>delta_share_pp=%{customdata[5]}<br>QUALIF_DEST=%{customdata[6]}<extra></extra>\",\"legendgroup\":\"ALL - AMERICA LATINA LOGISTICA MALHA NORTE S/A|2023-09-01|CONSUMIDOR FINAL|RAIZEN\",\"marker\":{\"color\":\"rgb(255,255,179)\",\"symbol\":\"circle\"},\"mode\":\"markers\",\"name\":\"ALL - AMERICA LATINA LOGISTICA MALHA NORTE S/A|2023-09-01|CONSUMIDOR FINAL|RAIZEN\",\"orientation\":\"v\",\"showlegend\":true,\"x\":[3802.0],\"xaxis\":\"x\",\"y\":[100.0],\"yaxis\":\"y\",\"type\":\"scatter\"},{\"customdata\":[[3782.5,3300.0,-0.33,12.47,90.6,3.08,\"CONSUMIDOR FINAL\"]],\"hovertemplate\":\"id=JBS S/A|2023-09-01|CONSUMIDOR FINAL|RAIZEN<br>Volume m\\u00b3 setembro 2023=%{x}<br>share setembro 2023=%{y}<br>preview_value=%{customdata[0]}<br>preview_value_12=%{customdata[1]}<br>delta_vol=%{customdata[2]}<br>delta_vol_12=%{customdata[3]}<br>preview_share=%{customdata[4]}<br>delta_share_pp=%{customdata[5]}<br>QUALIF_DEST=%{customdata[6]}<extra></extra>\",\"legendgroup\":\"JBS S/A|2023-09-01|CONSUMIDOR FINAL|RAIZEN\",\"marker\":{\"color\":\"rgb(190,186,218)\",\"symbol\":\"circle\"},\"mode\":\"markers\",\"name\":\"JBS S/A|2023-09-01|CONSUMIDOR FINAL|RAIZEN\",\"orientation\":\"v\",\"showlegend\":true,\"x\":[3770.2],\"xaxis\":\"x\",\"y\":[93.69],\"yaxis\":\"y\",\"type\":\"scatter\"},{\"customdata\":[[4909.26,5014.49,-1.95,-4.14,100.0,0.0,\"CONSUMIDOR FINAL\"]],\"hovertemplate\":\"id=ANGLO AMERICAN MINERIO DE FERRO BRASIL S.A|2023-09-01|CONSUMIDOR FINAL|RAIZEN<br>Volume m\\u00b3 setembro 2023=%{x}<br>share setembro 2023=%{y}<br>preview_value=%{customdata[0]}<br>preview_value_12=%{customdata[1]}<br>delta_vol=%{customdata[2]}<br>delta_vol_12=%{customdata[3]}<br>preview_share=%{customdata[4]}<br>delta_share_pp=%{customdata[5]}<br>QUALIF_DEST=%{customdata[6]}<extra></extra>\",\"legendgroup\":\"ANGLO AMERICAN MINERIO DE FERRO BRASIL S.A|2023-09-01|CONSUMIDOR FINAL|RAIZEN\",\"marker\":{\"color\":\"rgb(251,128,114)\",\"symbol\":\"circle\"},\"mode\":\"markers\",\"name\":\"ANGLO AMERICAN MINERIO DE FERRO BRASIL S.A|2023-09-01|CONSUMIDOR FINAL|RAIZEN\",\"orientation\":\"v\",\"showlegend\":true,\"x\":[4815.33],\"xaxis\":\"x\",\"y\":[100.0],\"yaxis\":\"y\",\"type\":\"scatter\"},{\"customdata\":[[6445.0,6380.0,-2.43,-1.4,100.0,0.0,\"CONSUMIDOR FINAL\"]],\"hovertemplate\":\"id=kINROSS BRASIL MINERA\\u00c7\\u00c3O S/A|2023-09-01|CONSUMIDOR FINAL|RAIZEN<br>Volume m\\u00b3 setembro 2023=%{x}<br>share setembro 2023=%{y}<br>preview_value=%{customdata[0]}<br>preview_value_12=%{customdata[1]}<br>delta_vol=%{customdata[2]}<br>delta_vol_12=%{customdata[3]}<br>preview_share=%{customdata[4]}<br>delta_share_pp=%{customdata[5]}<br>QUALIF_DEST=%{customdata[6]}<extra></extra>\",\"legendgroup\":\"kINROSS BRASIL MINERA\\u00c7\\u00c3O S/A|2023-09-01|CONSUMIDOR FINAL|RAIZEN\",\"marker\":{\"color\":\"rgb(128,177,211)\",\"symbol\":\"circle\"},\"mode\":\"markers\",\"name\":\"kINROSS BRASIL MINERA\\u00c7\\u00c3O S/A|2023-09-01|CONSUMIDOR FINAL|RAIZEN\",\"orientation\":\"v\",\"showlegend\":true,\"x\":[6292.0],\"xaxis\":\"x\",\"y\":[100.0],\"yaxis\":\"y\",\"type\":\"scatter\"},{\"customdata\":[[4687.0,4796.0,-3.22,-5.62,100.0,0.0,\"CONSUMIDOR FINAL\"]],\"hovertemplate\":\"id=BRENCO - COMPANHIA BRASILEIRA DE ENERGIA RENOVAVEL - EM RECUPERACAO JUDICIAL|2023-09-01|CONSUMIDOR FINAL|RAIZEN<br>Volume m\\u00b3 setembro 2023=%{x}<br>share setembro 2023=%{y}<br>preview_value=%{customdata[0]}<br>preview_value_12=%{customdata[1]}<br>delta_vol=%{customdata[2]}<br>delta_vol_12=%{customdata[3]}<br>preview_share=%{customdata[4]}<br>delta_share_pp=%{customdata[5]}<br>QUALIF_DEST=%{customdata[6]}<extra></extra>\",\"legendgroup\":\"BRENCO - COMPANHIA BRASILEIRA DE ENERGIA RENOVAVEL - EM RECUPERACAO JUDICIAL|2023-09-01|CONSUMIDOR FINAL|RAIZEN\",\"marker\":{\"color\":\"rgb(253,180,98)\",\"symbol\":\"circle\"},\"mode\":\"markers\",\"name\":\"BRENCO - COMPANHIA BRASILEIRA DE ENERGIA RENOVAVEL - EM RECUPERACAO JUDICIAL|2023-09-01|CONSUMIDOR FINAL|RAIZEN\",\"orientation\":\"v\",\"showlegend\":true,\"x\":[4541.0],\"xaxis\":\"x\",\"y\":[100.0],\"yaxis\":\"y\",\"type\":\"scatter\"},{\"customdata\":[[4183.0,3390.5,-4.09,15.63,100.0,0.0,\"CONSUMIDOR FINAL\"]],\"hovertemplate\":\"id=BIOSEV S.A.|2023-09-01|CONSUMIDOR FINAL|RAIZEN<br>Volume m\\u00b3 setembro 2023=%{x}<br>share setembro 2023=%{y}<br>preview_value=%{customdata[0]}<br>preview_value_12=%{customdata[1]}<br>delta_vol=%{customdata[2]}<br>delta_vol_12=%{customdata[3]}<br>preview_share=%{customdata[4]}<br>delta_share_pp=%{customdata[5]}<br>QUALIF_DEST=%{customdata[6]}<extra></extra>\",\"legendgroup\":\"BIOSEV S.A.|2023-09-01|CONSUMIDOR FINAL|RAIZEN\",\"marker\":{\"color\":\"rgb(179,222,105)\",\"symbol\":\"circle\"},\"mode\":\"markers\",\"name\":\"BIOSEV S.A.|2023-09-01|CONSUMIDOR FINAL|RAIZEN\",\"orientation\":\"v\",\"showlegend\":true,\"x\":[4018.5],\"xaxis\":\"x\",\"y\":[100.0],\"yaxis\":\"y\",\"type\":\"scatter\"},{\"customdata\":[[1188.0,861.5,-4.95,23.9,19.35,0.29,\"CONSUMIDOR FINAL\"]],\"hovertemplate\":\"id=USINA ALTO ALEGRE S/A - ACUCAR E ALCOOL|2023-09-01|CONSUMIDOR FINAL|RAIZEN<br>Volume m\\u00b3 setembro 2023=%{x}<br>share setembro 2023=%{y}<br>preview_value=%{customdata[0]}<br>preview_value_12=%{customdata[1]}<br>delta_vol=%{customdata[2]}<br>delta_vol_12=%{customdata[3]}<br>preview_share=%{customdata[4]}<br>delta_share_pp=%{customdata[5]}<br>QUALIF_DEST=%{customdata[6]}<extra></extra>\",\"legendgroup\":\"USINA ALTO ALEGRE S/A - ACUCAR E ALCOOL|2023-09-01|CONSUMIDOR FINAL|RAIZEN\",\"marker\":{\"color\":\"rgb(252,205,229)\",\"symbol\":\"circle\"},\"mode\":\"markers\",\"name\":\"USINA ALTO ALEGRE S/A - ACUCAR E ALCOOL|2023-09-01|CONSUMIDOR FINAL|RAIZEN\",\"orientation\":\"v\",\"showlegend\":true,\"x\":[1132.0],\"xaxis\":\"x\",\"y\":[19.65],\"yaxis\":\"y\",\"type\":\"scatter\"},{\"customdata\":[[3374.0,1440.0,-5.06,55.16,57.96,7.8,\"CONSUMIDOR FINAL\"]],\"hovertemplate\":\"id=ADECOAGRO VALE DO IVINHEMA S.A.|2023-09-01|CONSUMIDOR FINAL|RAIZEN<br>Volume m\\u00b3 setembro 2023=%{x}<br>share setembro 2023=%{y}<br>preview_value=%{customdata[0]}<br>preview_value_12=%{customdata[1]}<br>delta_vol=%{customdata[2]}<br>delta_vol_12=%{customdata[3]}<br>preview_share=%{customdata[4]}<br>delta_share_pp=%{customdata[5]}<br>QUALIF_DEST=%{customdata[6]}<extra></extra>\",\"legendgroup\":\"ADECOAGRO VALE DO IVINHEMA S.A.|2023-09-01|CONSUMIDOR FINAL|RAIZEN\",\"marker\":{\"color\":\"rgb(217,217,217)\",\"symbol\":\"circle\"},\"mode\":\"markers\",\"name\":\"ADECOAGRO VALE DO IVINHEMA S.A.|2023-09-01|CONSUMIDOR FINAL|RAIZEN\",\"orientation\":\"v\",\"showlegend\":true,\"x\":[3211.5],\"xaxis\":\"x\",\"y\":[65.77],\"yaxis\":\"y\",\"type\":\"scatter\"},{\"customdata\":[[1275.0,455.0,-6.25,62.08,33.03,-0.86,\"CONSUMIDOR FINAL\"]],\"hovertemplate\":\"id=VIA\\u00c7\\u00c3O PIRACICABANA S.A.|2023-09-01|CONSUMIDOR FINAL|RAIZEN<br>Volume m\\u00b3 setembro 2023=%{x}<br>share setembro 2023=%{y}<br>preview_value=%{customdata[0]}<br>preview_value_12=%{customdata[1]}<br>delta_vol=%{customdata[2]}<br>delta_vol_12=%{customdata[3]}<br>preview_share=%{customdata[4]}<br>delta_share_pp=%{customdata[5]}<br>QUALIF_DEST=%{customdata[6]}<extra></extra>\",\"legendgroup\":\"VIA\\u00c7\\u00c3O PIRACICABANA S.A.|2023-09-01|CONSUMIDOR FINAL|RAIZEN\",\"marker\":{\"color\":\"rgb(188,128,189)\",\"symbol\":\"circle\"},\"mode\":\"markers\",\"name\":\"VIA\\u00c7\\u00c3O PIRACICABANA S.A.|2023-09-01|CONSUMIDOR FINAL|RAIZEN\",\"orientation\":\"v\",\"showlegend\":true,\"x\":[1200.0],\"xaxis\":\"x\",\"y\":[32.17],\"yaxis\":\"y\",\"type\":\"scatter\"},{\"customdata\":[[4386.0,4385.0,-7.3,-7.28,100.0,0.0,\"CONSUMIDOR FINAL\"]],\"hovertemplate\":\"id=MINERA\\u00c7\\u00c3O MARAC\\u00c1 IND. E COM. S/A|2023-09-01|CONSUMIDOR FINAL|RAIZEN<br>Volume m\\u00b3 setembro 2023=%{x}<br>share setembro 2023=%{y}<br>preview_value=%{customdata[0]}<br>preview_value_12=%{customdata[1]}<br>delta_vol=%{customdata[2]}<br>delta_vol_12=%{customdata[3]}<br>preview_share=%{customdata[4]}<br>delta_share_pp=%{customdata[5]}<br>QUALIF_DEST=%{customdata[6]}<extra></extra>\",\"legendgroup\":\"MINERA\\u00c7\\u00c3O MARAC\\u00c1 IND. E COM. S/A|2023-09-01|CONSUMIDOR FINAL|RAIZEN\",\"marker\":{\"color\":\"rgb(204,235,197)\",\"symbol\":\"circle\"},\"mode\":\"markers\",\"name\":\"MINERA\\u00c7\\u00c3O MARAC\\u00c1 IND. E COM. S/A|2023-09-01|CONSUMIDOR FINAL|RAIZEN\",\"orientation\":\"v\",\"showlegend\":true,\"x\":[4087.5],\"xaxis\":\"x\",\"y\":[100.0],\"yaxis\":\"y\",\"type\":\"scatter\"},{\"customdata\":[[2370.0,2105.0,-8.47,3.66,76.33,-1.24,\"CONSUMIDOR FINAL\"]],\"hovertemplate\":\"id=VOTORANTIM CIMENTOS SA|2023-09-01|CONSUMIDOR FINAL|RAIZEN<br>Volume m\\u00b3 setembro 2023=%{x}<br>share setembro 2023=%{y}<br>preview_value=%{customdata[0]}<br>preview_value_12=%{customdata[1]}<br>delta_vol=%{customdata[2]}<br>delta_vol_12=%{customdata[3]}<br>preview_share=%{customdata[4]}<br>delta_share_pp=%{customdata[5]}<br>QUALIF_DEST=%{customdata[6]}<extra></extra>\",\"legendgroup\":\"VOTORANTIM CIMENTOS SA|2023-09-01|CONSUMIDOR FINAL|RAIZEN\",\"marker\":{\"color\":\"rgb(255,237,111)\",\"symbol\":\"circle\"},\"mode\":\"markers\",\"name\":\"VOTORANTIM CIMENTOS SA|2023-09-01|CONSUMIDOR FINAL|RAIZEN\",\"orientation\":\"v\",\"showlegend\":true,\"x\":[2185.0],\"xaxis\":\"x\",\"y\":[75.09],\"yaxis\":\"y\",\"type\":\"scatter\"},{\"customdata\":[[3419.0,1949.0,-15.86,33.95,37.64,-0.76,\"CONSUMIDOR FINAL\"]],\"hovertemplate\":\"id=USINA DE ACUCAR SANTA TEREZINHA LTDA EM RECUPERACAO JUDICIAL|2023-09-01|CONSUMIDOR FINAL|RAIZEN<br>Volume m\\u00b3 setembro 2023=%{x}<br>share setembro 2023=%{y}<br>preview_value=%{customdata[0]}<br>preview_value_12=%{customdata[1]}<br>delta_vol=%{customdata[2]}<br>delta_vol_12=%{customdata[3]}<br>preview_share=%{customdata[4]}<br>delta_share_pp=%{customdata[5]}<br>QUALIF_DEST=%{customdata[6]}<extra></extra>\",\"legendgroup\":\"USINA DE ACUCAR SANTA TEREZINHA LTDA EM RECUPERACAO JUDICIAL|2023-09-01|CONSUMIDOR FINAL|RAIZEN\",\"marker\":{\"color\":\"rgb(141,211,199)\",\"symbol\":\"circle\"},\"mode\":\"markers\",\"name\":\"USINA DE ACUCAR SANTA TEREZINHA LTDA EM RECUPERACAO JUDICIAL|2023-09-01|CONSUMIDOR FINAL|RAIZEN\",\"orientation\":\"v\",\"showlegend\":true,\"x\":[2951.0],\"xaxis\":\"x\",\"y\":[36.87],\"yaxis\":\"y\",\"type\":\"scatter\"},{\"customdata\":[[2860.0,2301.0,-16.73,6.08,85.37,3.07,\"CONSUMIDOR FINAL\"]],\"hovertemplate\":\"id=POLIMIX CONCRETO LTDA|2023-09-01|CONSUMIDOR FINAL|RAIZEN<br>Volume m\\u00b3 setembro 2023=%{x}<br>share setembro 2023=%{y}<br>preview_value=%{customdata[0]}<br>preview_value_12=%{customdata[1]}<br>delta_vol=%{customdata[2]}<br>delta_vol_12=%{customdata[3]}<br>preview_share=%{customdata[4]}<br>delta_share_pp=%{customdata[5]}<br>QUALIF_DEST=%{customdata[6]}<extra></extra>\",\"legendgroup\":\"POLIMIX CONCRETO LTDA|2023-09-01|CONSUMIDOR FINAL|RAIZEN\",\"marker\":{\"color\":\"rgb(255,255,179)\",\"symbol\":\"circle\"},\"mode\":\"markers\",\"name\":\"POLIMIX CONCRETO LTDA|2023-09-01|CONSUMIDOR FINAL|RAIZEN\",\"orientation\":\"v\",\"showlegend\":true,\"x\":[2450.0],\"xaxis\":\"x\",\"y\":[88.45],\"yaxis\":\"y\",\"type\":\"scatter\"},{\"customdata\":[[1429.3,30.0,-39.35,97.08,46.55,-10.85,\"CONSUMIDOR FINAL\"]],\"hovertemplate\":\"id=EMPRESA GONTIJO DE TRANSPORTES LTDA|2023-09-01|CONSUMIDOR FINAL|RAIZEN<br>Volume m\\u00b3 setembro 2023=%{x}<br>share setembro 2023=%{y}<br>preview_value=%{customdata[0]}<br>preview_value_12=%{customdata[1]}<br>delta_vol=%{customdata[2]}<br>delta_vol_12=%{customdata[3]}<br>preview_share=%{customdata[4]}<br>delta_share_pp=%{customdata[5]}<br>QUALIF_DEST=%{customdata[6]}<extra></extra>\",\"legendgroup\":\"EMPRESA GONTIJO DE TRANSPORTES LTDA|2023-09-01|CONSUMIDOR FINAL|RAIZEN\",\"marker\":{\"color\":\"rgb(190,186,218)\",\"symbol\":\"circle\"},\"mode\":\"markers\",\"name\":\"EMPRESA GONTIJO DE TRANSPORTES LTDA|2023-09-01|CONSUMIDOR FINAL|RAIZEN\",\"orientation\":\"v\",\"showlegend\":true,\"x\":[1025.7],\"xaxis\":\"x\",\"y\":[35.7],\"yaxis\":\"y\",\"type\":\"scatter\"},{\"customdata\":[[270.0,140.0,-86.21,3.45,7.89,-4.06,\"CONSUMIDOR FINAL\"]],\"hovertemplate\":\"id=COMANDO DIESEL TRANSPORTE E LOGISTICA LTDA|2023-09-01|CONSUMIDOR FINAL|RAIZEN<br>Volume m\\u00b3 setembro 2023=%{x}<br>share setembro 2023=%{y}<br>preview_value=%{customdata[0]}<br>preview_value_12=%{customdata[1]}<br>delta_vol=%{customdata[2]}<br>delta_vol_12=%{customdata[3]}<br>preview_share=%{customdata[4]}<br>delta_share_pp=%{customdata[5]}<br>QUALIF_DEST=%{customdata[6]}<extra></extra>\",\"legendgroup\":\"COMANDO DIESEL TRANSPORTE E LOGISTICA LTDA|2023-09-01|CONSUMIDOR FINAL|RAIZEN\",\"marker\":{\"color\":\"rgb(251,128,114)\",\"symbol\":\"circle\"},\"mode\":\"markers\",\"name\":\"COMANDO DIESEL TRANSPORTE E LOGISTICA LTDA|2023-09-01|CONSUMIDOR FINAL|RAIZEN\",\"orientation\":\"v\",\"showlegend\":true,\"x\":[145.0],\"xaxis\":\"x\",\"y\":[3.83],\"yaxis\":\"y\",\"type\":\"scatter\"},{\"customdata\":[[1602.0,null,-189.17,null,43.26,-26.75,\"CONSUMIDOR FINAL\"]],\"hovertemplate\":\"id=MARTELLI TRANSPORTES LTDA.|2023-09-01|CONSUMIDOR FINAL|RAIZEN<br>Volume m\\u00b3 setembro 2023=%{x}<br>share setembro 2023=%{y}<br>preview_value=%{customdata[0]}<br>preview_value_12=%{customdata[1]}<br>delta_vol=%{customdata[2]}<br>delta_vol_12=%{customdata[3]}<br>preview_share=%{customdata[4]}<br>delta_share_pp=%{customdata[5]}<br>QUALIF_DEST=%{customdata[6]}<extra></extra>\",\"legendgroup\":\"MARTELLI TRANSPORTES LTDA.|2023-09-01|CONSUMIDOR FINAL|RAIZEN\",\"marker\":{\"color\":\"rgb(128,177,211)\",\"symbol\":\"circle\"},\"mode\":\"markers\",\"name\":\"MARTELLI TRANSPORTES LTDA.|2023-09-01|CONSUMIDOR FINAL|RAIZEN\",\"orientation\":\"v\",\"showlegend\":true,\"x\":[554.0],\"xaxis\":\"x\",\"y\":[16.51],\"yaxis\":\"y\",\"type\":\"scatter\"},{\"customdata\":[[2746.2,709.0,-1137.03,-219.37,40.95,-35.54,\"CONSUMIDOR FINAL\"]],\"hovertemplate\":\"id=BOM FUTURO AGRICOLA LTDA|2023-09-01|CONSUMIDOR FINAL|RAIZEN<br>Volume m\\u00b3 setembro 2023=%{x}<br>share setembro 2023=%{y}<br>preview_value=%{customdata[0]}<br>preview_value_12=%{customdata[1]}<br>delta_vol=%{customdata[2]}<br>delta_vol_12=%{customdata[3]}<br>preview_share=%{customdata[4]}<br>delta_share_pp=%{customdata[5]}<br>QUALIF_DEST=%{customdata[6]}<extra></extra>\",\"legendgroup\":\"BOM FUTURO AGRICOLA LTDA|2023-09-01|CONSUMIDOR FINAL|RAIZEN\",\"marker\":{\"color\":\"rgb(253,180,98)\",\"symbol\":\"circle\"},\"mode\":\"markers\",\"name\":\"BOM FUTURO AGRICOLA LTDA|2023-09-01|CONSUMIDOR FINAL|RAIZEN\",\"orientation\":\"v\",\"showlegend\":true,\"x\":[222.0],\"xaxis\":\"x\",\"y\":[5.41],\"yaxis\":\"y\",\"type\":\"scatter\"}],                        {\"template\":{\"data\":{\"histogram2dcontour\":[{\"type\":\"histogram2dcontour\",\"colorbar\":{\"outlinewidth\":0,\"ticks\":\"\"},\"colorscale\":[[0.0,\"#0d0887\"],[0.1111111111111111,\"#46039f\"],[0.2222222222222222,\"#7201a8\"],[0.3333333333333333,\"#9c179e\"],[0.4444444444444444,\"#bd3786\"],[0.5555555555555556,\"#d8576b\"],[0.6666666666666666,\"#ed7953\"],[0.7777777777777778,\"#fb9f3a\"],[0.8888888888888888,\"#fdca26\"],[1.0,\"#f0f921\"]]}],\"choropleth\":[{\"type\":\"choropleth\",\"colorbar\":{\"outlinewidth\":0,\"ticks\":\"\"}}],\"histogram2d\":[{\"type\":\"histogram2d\",\"colorbar\":{\"outlinewidth\":0,\"ticks\":\"\"},\"colorscale\":[[0.0,\"#0d0887\"],[0.1111111111111111,\"#46039f\"],[0.2222222222222222,\"#7201a8\"],[0.3333333333333333,\"#9c179e\"],[0.4444444444444444,\"#bd3786\"],[0.5555555555555556,\"#d8576b\"],[0.6666666666666666,\"#ed7953\"],[0.7777777777777778,\"#fb9f3a\"],[0.8888888888888888,\"#fdca26\"],[1.0,\"#f0f921\"]]}],\"heatmap\":[{\"type\":\"heatmap\",\"colorbar\":{\"outlinewidth\":0,\"ticks\":\"\"},\"colorscale\":[[0.0,\"#0d0887\"],[0.1111111111111111,\"#46039f\"],[0.2222222222222222,\"#7201a8\"],[0.3333333333333333,\"#9c179e\"],[0.4444444444444444,\"#bd3786\"],[0.5555555555555556,\"#d8576b\"],[0.6666666666666666,\"#ed7953\"],[0.7777777777777778,\"#fb9f3a\"],[0.8888888888888888,\"#fdca26\"],[1.0,\"#f0f921\"]]}],\"heatmapgl\":[{\"type\":\"heatmapgl\",\"colorbar\":{\"outlinewidth\":0,\"ticks\":\"\"},\"colorscale\":[[0.0,\"#0d0887\"],[0.1111111111111111,\"#46039f\"],[0.2222222222222222,\"#7201a8\"],[0.3333333333333333,\"#9c179e\"],[0.4444444444444444,\"#bd3786\"],[0.5555555555555556,\"#d8576b\"],[0.6666666666666666,\"#ed7953\"],[0.7777777777777778,\"#fb9f3a\"],[0.8888888888888888,\"#fdca26\"],[1.0,\"#f0f921\"]]}],\"contourcarpet\":[{\"type\":\"contourcarpet\",\"colorbar\":{\"outlinewidth\":0,\"ticks\":\"\"}}],\"contour\":[{\"type\":\"contour\",\"colorbar\":{\"outlinewidth\":0,\"ticks\":\"\"},\"colorscale\":[[0.0,\"#0d0887\"],[0.1111111111111111,\"#46039f\"],[0.2222222222222222,\"#7201a8\"],[0.3333333333333333,\"#9c179e\"],[0.4444444444444444,\"#bd3786\"],[0.5555555555555556,\"#d8576b\"],[0.6666666666666666,\"#ed7953\"],[0.7777777777777778,\"#fb9f3a\"],[0.8888888888888888,\"#fdca26\"],[1.0,\"#f0f921\"]]}],\"surface\":[{\"type\":\"surface\",\"colorbar\":{\"outlinewidth\":0,\"ticks\":\"\"},\"colorscale\":[[0.0,\"#0d0887\"],[0.1111111111111111,\"#46039f\"],[0.2222222222222222,\"#7201a8\"],[0.3333333333333333,\"#9c179e\"],[0.4444444444444444,\"#bd3786\"],[0.5555555555555556,\"#d8576b\"],[0.6666666666666666,\"#ed7953\"],[0.7777777777777778,\"#fb9f3a\"],[0.8888888888888888,\"#fdca26\"],[1.0,\"#f0f921\"]]}],\"mesh3d\":[{\"type\":\"mesh3d\",\"colorbar\":{\"outlinewidth\":0,\"ticks\":\"\"}}],\"scatter\":[{\"fillpattern\":{\"fillmode\":\"overlay\",\"size\":10,\"solidity\":0.2},\"type\":\"scatter\"}],\"parcoords\":[{\"type\":\"parcoords\",\"line\":{\"colorbar\":{\"outlinewidth\":0,\"ticks\":\"\"}}}],\"scatterpolargl\":[{\"type\":\"scatterpolargl\",\"marker\":{\"colorbar\":{\"outlinewidth\":0,\"ticks\":\"\"}}}],\"bar\":[{\"error_x\":{\"color\":\"#2a3f5f\"},\"error_y\":{\"color\":\"#2a3f5f\"},\"marker\":{\"line\":{\"color\":\"#E5ECF6\",\"width\":0.5},\"pattern\":{\"fillmode\":\"overlay\",\"size\":10,\"solidity\":0.2}},\"type\":\"bar\"}],\"scattergeo\":[{\"type\":\"scattergeo\",\"marker\":{\"colorbar\":{\"outlinewidth\":0,\"ticks\":\"\"}}}],\"scatterpolar\":[{\"type\":\"scatterpolar\",\"marker\":{\"colorbar\":{\"outlinewidth\":0,\"ticks\":\"\"}}}],\"histogram\":[{\"marker\":{\"pattern\":{\"fillmode\":\"overlay\",\"size\":10,\"solidity\":0.2}},\"type\":\"histogram\"}],\"scattergl\":[{\"type\":\"scattergl\",\"marker\":{\"colorbar\":{\"outlinewidth\":0,\"ticks\":\"\"}}}],\"scatter3d\":[{\"type\":\"scatter3d\",\"line\":{\"colorbar\":{\"outlinewidth\":0,\"ticks\":\"\"}},\"marker\":{\"colorbar\":{\"outlinewidth\":0,\"ticks\":\"\"}}}],\"scattermapbox\":[{\"type\":\"scattermapbox\",\"marker\":{\"colorbar\":{\"outlinewidth\":0,\"ticks\":\"\"}}}],\"scatterternary\":[{\"type\":\"scatterternary\",\"marker\":{\"colorbar\":{\"outlinewidth\":0,\"ticks\":\"\"}}}],\"scattercarpet\":[{\"type\":\"scattercarpet\",\"marker\":{\"colorbar\":{\"outlinewidth\":0,\"ticks\":\"\"}}}],\"carpet\":[{\"aaxis\":{\"endlinecolor\":\"#2a3f5f\",\"gridcolor\":\"white\",\"linecolor\":\"white\",\"minorgridcolor\":\"white\",\"startlinecolor\":\"#2a3f5f\"},\"baxis\":{\"endlinecolor\":\"#2a3f5f\",\"gridcolor\":\"white\",\"linecolor\":\"white\",\"minorgridcolor\":\"white\",\"startlinecolor\":\"#2a3f5f\"},\"type\":\"carpet\"}],\"table\":[{\"cells\":{\"fill\":{\"color\":\"#EBF0F8\"},\"line\":{\"color\":\"white\"}},\"header\":{\"fill\":{\"color\":\"#C8D4E3\"},\"line\":{\"color\":\"white\"}},\"type\":\"table\"}],\"barpolar\":[{\"marker\":{\"line\":{\"color\":\"#E5ECF6\",\"width\":0.5},\"pattern\":{\"fillmode\":\"overlay\",\"size\":10,\"solidity\":0.2}},\"type\":\"barpolar\"}],\"pie\":[{\"automargin\":true,\"type\":\"pie\"}]},\"layout\":{\"autotypenumbers\":\"strict\",\"colorway\":[\"#636efa\",\"#EF553B\",\"#00cc96\",\"#ab63fa\",\"#FFA15A\",\"#19d3f3\",\"#FF6692\",\"#B6E880\",\"#FF97FF\",\"#FECB52\"],\"font\":{\"color\":\"#2a3f5f\"},\"hovermode\":\"closest\",\"hoverlabel\":{\"align\":\"left\"},\"paper_bgcolor\":\"white\",\"plot_bgcolor\":\"#E5ECF6\",\"polar\":{\"bgcolor\":\"#E5ECF6\",\"angularaxis\":{\"gridcolor\":\"white\",\"linecolor\":\"white\",\"ticks\":\"\"},\"radialaxis\":{\"gridcolor\":\"white\",\"linecolor\":\"white\",\"ticks\":\"\"}},\"ternary\":{\"bgcolor\":\"#E5ECF6\",\"aaxis\":{\"gridcolor\":\"white\",\"linecolor\":\"white\",\"ticks\":\"\"},\"baxis\":{\"gridcolor\":\"white\",\"linecolor\":\"white\",\"ticks\":\"\"},\"caxis\":{\"gridcolor\":\"white\",\"linecolor\":\"white\",\"ticks\":\"\"}},\"coloraxis\":{\"colorbar\":{\"outlinewidth\":0,\"ticks\":\"\"}},\"colorscale\":{\"sequential\":[[0.0,\"#0d0887\"],[0.1111111111111111,\"#46039f\"],[0.2222222222222222,\"#7201a8\"],[0.3333333333333333,\"#9c179e\"],[0.4444444444444444,\"#bd3786\"],[0.5555555555555556,\"#d8576b\"],[0.6666666666666666,\"#ed7953\"],[0.7777777777777778,\"#fb9f3a\"],[0.8888888888888888,\"#fdca26\"],[1.0,\"#f0f921\"]],\"sequentialminus\":[[0.0,\"#0d0887\"],[0.1111111111111111,\"#46039f\"],[0.2222222222222222,\"#7201a8\"],[0.3333333333333333,\"#9c179e\"],[0.4444444444444444,\"#bd3786\"],[0.5555555555555556,\"#d8576b\"],[0.6666666666666666,\"#ed7953\"],[0.7777777777777778,\"#fb9f3a\"],[0.8888888888888888,\"#fdca26\"],[1.0,\"#f0f921\"]],\"diverging\":[[0,\"#8e0152\"],[0.1,\"#c51b7d\"],[0.2,\"#de77ae\"],[0.3,\"#f1b6da\"],[0.4,\"#fde0ef\"],[0.5,\"#f7f7f7\"],[0.6,\"#e6f5d0\"],[0.7,\"#b8e186\"],[0.8,\"#7fbc41\"],[0.9,\"#4d9221\"],[1,\"#276419\"]]},\"xaxis\":{\"gridcolor\":\"white\",\"linecolor\":\"white\",\"ticks\":\"\",\"title\":{\"standoff\":15},\"zerolinecolor\":\"white\",\"automargin\":true,\"zerolinewidth\":2},\"yaxis\":{\"gridcolor\":\"white\",\"linecolor\":\"white\",\"ticks\":\"\",\"title\":{\"standoff\":15},\"zerolinecolor\":\"white\",\"automargin\":true,\"zerolinewidth\":2},\"scene\":{\"xaxis\":{\"backgroundcolor\":\"#E5ECF6\",\"gridcolor\":\"white\",\"linecolor\":\"white\",\"showbackground\":true,\"ticks\":\"\",\"zerolinecolor\":\"white\",\"gridwidth\":2},\"yaxis\":{\"backgroundcolor\":\"#E5ECF6\",\"gridcolor\":\"white\",\"linecolor\":\"white\",\"showbackground\":true,\"ticks\":\"\",\"zerolinecolor\":\"white\",\"gridwidth\":2},\"zaxis\":{\"backgroundcolor\":\"#E5ECF6\",\"gridcolor\":\"white\",\"linecolor\":\"white\",\"showbackground\":true,\"ticks\":\"\",\"zerolinecolor\":\"white\",\"gridwidth\":2}},\"shapedefaults\":{\"line\":{\"color\":\"#2a3f5f\"}},\"annotationdefaults\":{\"arrowcolor\":\"#2a3f5f\",\"arrowhead\":0,\"arrowwidth\":1},\"geo\":{\"bgcolor\":\"white\",\"landcolor\":\"#E5ECF6\",\"subunitcolor\":\"white\",\"showland\":true,\"showlakes\":true,\"lakecolor\":\"white\"},\"title\":{\"x\":0.05},\"mapbox\":{\"style\":\"light\"}}},\"xaxis\":{\"anchor\":\"y\",\"domain\":[0.0,1.0],\"title\":{\"text\":\"Volume m\\u00b3 setembro 2023\"},\"showgrid\":false},\"yaxis\":{\"anchor\":\"x\",\"domain\":[0.0,1.0],\"title\":{\"text\":\"share setembro 2023\"},\"showgrid\":true},\"legend\":{\"title\":{\"text\":\"id\"},\"tracegroupgap\":0},\"title\":{\"text\":\"Segmento medio_grandes - Brasil - Vol x Share - 2023-09\",\"font\":{\"color\":\"darkslateblue\"},\"x\":0.5,\"y\":0.9},\"autosize\":false,\"width\":1300,\"height\":700,\"plot_bgcolor\":\"#fcfafa\",\"paper_bgcolor\":\"#fcfafa\",\"shapes\":[{\"line\":{\"color\":\"blue\",\"dash\":\"dot\"},\"type\":\"line\",\"x0\":0,\"x1\":1,\"xref\":\"x domain\",\"y0\":63.95,\"y1\":63.95,\"yref\":\"y\"},{\"line\":{\"color\":\"yellow\",\"dash\":\"dot\"},\"type\":\"line\",\"x0\":0,\"x1\":1,\"xref\":\"x domain\",\"y0\":76.53,\"y1\":76.53,\"yref\":\"y\"},{\"line\":{\"color\":\"blue\",\"dash\":\"dot\"},\"type\":\"line\",\"x0\":3081.25,\"x1\":3081.25,\"xref\":\"x\",\"y0\":0,\"y1\":1,\"yref\":\"y domain\"},{\"line\":{\"color\":\"yellow\",\"dash\":\"dot\"},\"type\":\"line\",\"x0\":2789.66,\"x1\":2789.66,\"xref\":\"x\",\"y0\":0,\"y1\":1,\"yref\":\"y domain\"}],\"annotations\":[{\"showarrow\":false,\"text\":\"Media = 63.95\",\"x\":0,\"xanchor\":\"left\",\"xref\":\"x domain\",\"y\":63.95,\"yanchor\":\"bottom\",\"yref\":\"y\"},{\"showarrow\":false,\"text\":\"Mediana = 76.53\",\"x\":1,\"xanchor\":\"right\",\"xref\":\"x domain\",\"y\":76.53,\"yanchor\":\"bottom\",\"yref\":\"y\"},{\"showarrow\":false,\"text\":\"Mediana = 3081.25\",\"x\":3081.25,\"xanchor\":\"right\",\"xref\":\"x\",\"y\":1,\"yanchor\":\"top\",\"yref\":\"y domain\"},{\"showarrow\":false,\"text\":\"Media = 2789.66\",\"x\":2789.66,\"xanchor\":\"left\",\"xref\":\"x\",\"y\":1,\"yanchor\":\"top\",\"yref\":\"y domain\"}]},                        {\"responsive\": true}                    ).then(function(){\n",
       "                            \n",
       "var gd = document.getElementById('e292be30-0d53-41b8-be71-b00cac4ec98c');\n",
       "var x = new MutationObserver(function (mutations, observer) {{\n",
       "        var display = window.getComputedStyle(gd).display;\n",
       "        if (!display || display === 'none') {{\n",
       "            console.log([gd, 'removed!']);\n",
       "            Plotly.purge(gd);\n",
       "            observer.disconnect();\n",
       "        }}\n",
       "}});\n",
       "\n",
       "// Listen for the removal of the full notebook cells\n",
       "var notebookContainer = gd.closest('#notebook-container');\n",
       "if (notebookContainer) {{\n",
       "    x.observe(notebookContainer, {childList: true});\n",
       "}}\n",
       "\n",
       "// Listen for the clearing of the current output cell\n",
       "var outputEl = gd.closest('.output');\n",
       "if (outputEl) {{\n",
       "    x.observe(outputEl, {childList: true});\n",
       "}}\n",
       "\n",
       "                        })                };                });            </script>        </div>"
      ]
     },
     "metadata": {},
     "output_type": "display_data"
    }
   ],
   "source": [
    "medio_grandes_analitico = medio_grandes_analitico()\n",
    "\n",
    "# quadrantes medio_grandes 22\n",
    "\n",
    "#RAIZEN_medio_grandes22['share_raizen'] = RAIZEN_medio_grandes22['share_raizen']*100\n",
    "linha_mediana = medio_grandes_analitico['VolANP'].median()\n",
    "linha_media = medio_grandes_analitico['VolANP'].mean()\n",
    "share_mediana = medio_grandes_analitico['share_razao'].median()\n",
    "share_media = medio_grandes_analitico['share_razao'].mean()\n",
    "\n",
    "linha_mediana = round(linha_mediana, 2)\n",
    "linha_media = round(linha_media, 2)\n",
    "share_mediana = round(share_mediana, 2)\n",
    "share_media = round(share_media, 2)\n",
    "\n",
    "conditions = [\n",
    "    (medio_grandes_analitico['share_razao'] > share_media) & (medio_grandes_analitico['VolANP'] > linha_media),\n",
    "    (medio_grandes_analitico['share_razao'] > share_media) & (medio_grandes_analitico['VolANP'] <= linha_media),\n",
    "    (medio_grandes_analitico['share_razao'] <= share_media) & (medio_grandes_analitico['VolANP'] > linha_media),\n",
    "    (medio_grandes_analitico['share_razao'] <= share_media) & (medio_grandes_analitico['VolANP'] <= linha_media)]\n",
    "\n",
    "choices1 = ['Share acima da média e Volumes acima da média no ano','Share acima da média e Volumes abaixo da média no ano','Share abaixo da média e Volumes acima da média no ano','Share abaixo da média e Volumes abaixo da média no ano']\n",
    "choices2 = ['Sucesso','Bom','Atenção','Razoável']\n",
    "\n",
    "medio_grandes_analitico['quadrante_desc'] = np.select(conditions, choices1, default='sem_grupo')\n",
    "medio_grandes_analitico['quadrante'] = np.select(conditions, choices2, default='sem_grupo')\n",
    "\n",
    "medio_grandes_analitico = round(medio_grandes_analitico, 2)\n",
    "\n",
    "\n",
    "\n",
    "figure2 = px.scatter(\n",
    "        medio_grandes_analitico,\n",
    "        x=\"VolANP\",\n",
    "        y=\"share_razao\",\n",
    "        color_discrete_sequence=px.colors.qualitative.Set3,\n",
    "        color=medio_grandes_analitico['id'],\n",
    "        labels={\n",
    "            \"VolANP\": \"Volume m³ setembro 2023\",\n",
    "            \"share_razao\": \"share setembro 2023\"\n",
    "        },\n",
    "        #hover_data=[\"QUALIF_DEST\",\"quadrante_desc\",\"quadrante\",\"faixa_razao\"],\n",
    "        hover_data=[\"VolANP\",\"preview_value\",\"preview_value_12\",\"delta_vol\",\"delta_vol_12\",\"share_razao\",\"preview_share\",\"delta_share_pp\",\"QUALIF_DEST\"],\n",
    "        title=\"Segmento medio_grandes - Brasil - Vol x Share - 2023-09\",\n",
    "    )#.update_layout(\n",
    "#     legend_title=\"Funding\"\n",
    "#    font_color=\"Green\",\n",
    "#    legend_title={\n",
    "#        \"text\": \"Funding\",\n",
    "#        \"font\":{\n",
    "#            \"color\":\"Red\",\n",
    "#            \"family\": \"Comic Sans\"\n",
    "#        }\n",
    "#    }\n",
    "#)\n",
    "figure2.update_layout(\n",
    "    autosize=False,\n",
    "    width= 1300,\n",
    "    height=700\n",
    ")\n",
    "figure2.update_xaxes(showgrid=False)\n",
    "figure2.update_yaxes(showgrid=True)\n",
    "\n",
    "figure2.update_layout(\n",
    "        title = {\"x\": .5, \"y\": .90, \"font\": {\"color\":\"darkslateblue\"}},\n",
    "        plot_bgcolor = \"#fcfafa\",\n",
    "        paper_bgcolor = \"#fcfafa\"\n",
    "    )\n",
    "figure2.add_hline(y=share_media, line_dash=\"dot\", line_color=\"blue\", annotation_text=f'Media = {share_media:.2f}',annotation_position=\"top left\" )\n",
    "figure2.add_hline(y=share_mediana, line_dash=\"dot\", line_color=\"yellow\", annotation_text=f'Mediana = {share_mediana:.2f}',annotation_position=\"top right\" )\n",
    "figure2.add_vline(x=linha_mediana, line_dash=\"dot\", line_color=\"blue\", annotation_text=f'Mediana = {linha_mediana:.2f}',annotation_position=\"top left\" )\n",
    "figure2.add_vline(x=linha_media, line_dash=\"dot\", line_color=\"yellow\", annotation_text=f'Media = {linha_media:.2f}',annotation_position=\"top right\" )\n",
    "\n",
    "\n",
    "figure2.show()\n",
    "\n"
   ]
  },
  {
   "cell_type": "code",
   "execution_count": 26,
   "id": "91f7fea4",
   "metadata": {},
   "outputs": [
    {
     "data": {
      "application/vnd.plotly.v1+json": {
       "config": {
        "plotlyServerURL": "https://plot.ly"
       },
       "data": [
        {
         "customdata": [
          [
           "IPIRANGA"
          ],
          [
           "IPIRANGA"
          ],
          [
           "IPIRANGA"
          ],
          [
           "IPIRANGA"
          ],
          [
           "IPIRANGA"
          ]
         ],
         "hovertemplate": "GRUPO=%{customdata[0]}<br>ds=%{x}<br>var=%{y}<extra></extra>",
         "legendgroup": "IPIRANGA",
         "line": {
          "color": "rgb(179,226,205)",
          "dash": "solid"
         },
         "marker": {
          "symbol": "circle"
         },
         "mode": "lines",
         "name": "IPIRANGA",
         "orientation": "v",
         "showlegend": true,
         "type": "scatter",
         "x": [
          "2023-05-01T00:00:00",
          "2023-06-01T00:00:00",
          "2023-07-01T00:00:00",
          "2023-08-01T00:00:00",
          "2023-09-01T00:00:00"
         ],
         "xaxis": "x",
         "y": [
          0.6280426897075735,
          0.7143186268580282,
          0.7470192018274053,
          0.75048083392861,
          0.8111641470107981
         ],
         "yaxis": "y"
        },
        {
         "customdata": [
          [
           "OUTRAS NP"
          ],
          [
           "OUTRAS NP"
          ],
          [
           "OUTRAS NP"
          ],
          [
           "OUTRAS NP"
          ],
          [
           "OUTRAS NP"
          ]
         ],
         "hovertemplate": "GRUPO=%{customdata[0]}<br>ds=%{x}<br>var=%{y}<extra></extra>",
         "legendgroup": "OUTRAS NP",
         "line": {
          "color": "rgb(253,205,172)",
          "dash": "solid"
         },
         "marker": {
          "symbol": "circle"
         },
         "mode": "lines",
         "name": "OUTRAS NP",
         "orientation": "v",
         "showlegend": true,
         "type": "scatter",
         "x": [
          "2023-05-01T00:00:00",
          "2023-06-01T00:00:00",
          "2023-07-01T00:00:00",
          "2023-08-01T00:00:00",
          "2023-09-01T00:00:00"
         ],
         "xaxis": "x",
         "y": [
          0.2815307590933542,
          0.3276482604453383,
          0.3546357124233768,
          0.3938608748632489,
          0.34419588588384914
         ],
         "yaxis": "y"
        },
        {
         "customdata": [
          [
           "RAIZEN"
          ],
          [
           "RAIZEN"
          ],
          [
           "RAIZEN"
          ],
          [
           "RAIZEN"
          ],
          [
           "RAIZEN"
          ]
         ],
         "hovertemplate": "GRUPO=%{customdata[0]}<br>ds=%{x}<br>var=%{y}<extra></extra>",
         "legendgroup": "RAIZEN",
         "line": {
          "color": "rgb(203,213,232)",
          "dash": "solid"
         },
         "marker": {
          "symbol": "circle"
         },
         "mode": "lines",
         "name": "RAIZEN",
         "orientation": "v",
         "showlegend": true,
         "type": "scatter",
         "x": [
          "2023-05-01T00:00:00",
          "2023-06-01T00:00:00",
          "2023-07-01T00:00:00",
          "2023-08-01T00:00:00",
          "2023-09-01T00:00:00"
         ],
         "xaxis": "x",
         "y": [
          1.0537772664810863,
          1.0864981158977736,
          1.1814607616451123,
          1.3867035332458824,
          1.4974032590608526
         ],
         "yaxis": "y"
        },
        {
         "customdata": [
          [
           "VIBRA"
          ],
          [
           "VIBRA"
          ],
          [
           "VIBRA"
          ],
          [
           "VIBRA"
          ],
          [
           "VIBRA"
          ]
         ],
         "hovertemplate": "GRUPO=%{customdata[0]}<br>ds=%{x}<br>var=%{y}<extra></extra>",
         "legendgroup": "VIBRA",
         "line": {
          "color": "rgb(244,202,228)",
          "dash": "solid"
         },
         "marker": {
          "symbol": "circle"
         },
         "mode": "lines",
         "name": "VIBRA",
         "orientation": "v",
         "showlegend": true,
         "type": "scatter",
         "x": [
          "2023-05-01T00:00:00",
          "2023-06-01T00:00:00",
          "2023-07-01T00:00:00",
          "2023-08-01T00:00:00",
          "2023-09-01T00:00:00"
         ],
         "xaxis": "x",
         "y": [
          0.5496208031192572,
          0.588727779047607,
          0.6800476742977664,
          0.6800533511430137,
          0.6296699979465065
         ],
         "yaxis": "y"
        }
       ],
       "layout": {
        "autosize": false,
        "font": {
         "size": 11
        },
        "height": 700,
        "legend": {
         "title": {
          "text": "GRUPO"
         },
         "tracegroupgap": 0
        },
        "paper_bgcolor": "#fcfafa",
        "plot_bgcolor": "#fcfafa",
        "template": {
         "data": {
          "bar": [
           {
            "error_x": {
             "color": "#2a3f5f"
            },
            "error_y": {
             "color": "#2a3f5f"
            },
            "marker": {
             "line": {
              "color": "#E5ECF6",
              "width": 0.5
             },
             "pattern": {
              "fillmode": "overlay",
              "size": 10,
              "solidity": 0.2
             }
            },
            "type": "bar"
           }
          ],
          "barpolar": [
           {
            "marker": {
             "line": {
              "color": "#E5ECF6",
              "width": 0.5
             },
             "pattern": {
              "fillmode": "overlay",
              "size": 10,
              "solidity": 0.2
             }
            },
            "type": "barpolar"
           }
          ],
          "carpet": [
           {
            "aaxis": {
             "endlinecolor": "#2a3f5f",
             "gridcolor": "white",
             "linecolor": "white",
             "minorgridcolor": "white",
             "startlinecolor": "#2a3f5f"
            },
            "baxis": {
             "endlinecolor": "#2a3f5f",
             "gridcolor": "white",
             "linecolor": "white",
             "minorgridcolor": "white",
             "startlinecolor": "#2a3f5f"
            },
            "type": "carpet"
           }
          ],
          "choropleth": [
           {
            "colorbar": {
             "outlinewidth": 0,
             "ticks": ""
            },
            "type": "choropleth"
           }
          ],
          "contour": [
           {
            "colorbar": {
             "outlinewidth": 0,
             "ticks": ""
            },
            "colorscale": [
             [
              0,
              "#0d0887"
             ],
             [
              0.1111111111111111,
              "#46039f"
             ],
             [
              0.2222222222222222,
              "#7201a8"
             ],
             [
              0.3333333333333333,
              "#9c179e"
             ],
             [
              0.4444444444444444,
              "#bd3786"
             ],
             [
              0.5555555555555556,
              "#d8576b"
             ],
             [
              0.6666666666666666,
              "#ed7953"
             ],
             [
              0.7777777777777778,
              "#fb9f3a"
             ],
             [
              0.8888888888888888,
              "#fdca26"
             ],
             [
              1,
              "#f0f921"
             ]
            ],
            "type": "contour"
           }
          ],
          "contourcarpet": [
           {
            "colorbar": {
             "outlinewidth": 0,
             "ticks": ""
            },
            "type": "contourcarpet"
           }
          ],
          "heatmap": [
           {
            "colorbar": {
             "outlinewidth": 0,
             "ticks": ""
            },
            "colorscale": [
             [
              0,
              "#0d0887"
             ],
             [
              0.1111111111111111,
              "#46039f"
             ],
             [
              0.2222222222222222,
              "#7201a8"
             ],
             [
              0.3333333333333333,
              "#9c179e"
             ],
             [
              0.4444444444444444,
              "#bd3786"
             ],
             [
              0.5555555555555556,
              "#d8576b"
             ],
             [
              0.6666666666666666,
              "#ed7953"
             ],
             [
              0.7777777777777778,
              "#fb9f3a"
             ],
             [
              0.8888888888888888,
              "#fdca26"
             ],
             [
              1,
              "#f0f921"
             ]
            ],
            "type": "heatmap"
           }
          ],
          "heatmapgl": [
           {
            "colorbar": {
             "outlinewidth": 0,
             "ticks": ""
            },
            "colorscale": [
             [
              0,
              "#0d0887"
             ],
             [
              0.1111111111111111,
              "#46039f"
             ],
             [
              0.2222222222222222,
              "#7201a8"
             ],
             [
              0.3333333333333333,
              "#9c179e"
             ],
             [
              0.4444444444444444,
              "#bd3786"
             ],
             [
              0.5555555555555556,
              "#d8576b"
             ],
             [
              0.6666666666666666,
              "#ed7953"
             ],
             [
              0.7777777777777778,
              "#fb9f3a"
             ],
             [
              0.8888888888888888,
              "#fdca26"
             ],
             [
              1,
              "#f0f921"
             ]
            ],
            "type": "heatmapgl"
           }
          ],
          "histogram": [
           {
            "marker": {
             "pattern": {
              "fillmode": "overlay",
              "size": 10,
              "solidity": 0.2
             }
            },
            "type": "histogram"
           }
          ],
          "histogram2d": [
           {
            "colorbar": {
             "outlinewidth": 0,
             "ticks": ""
            },
            "colorscale": [
             [
              0,
              "#0d0887"
             ],
             [
              0.1111111111111111,
              "#46039f"
             ],
             [
              0.2222222222222222,
              "#7201a8"
             ],
             [
              0.3333333333333333,
              "#9c179e"
             ],
             [
              0.4444444444444444,
              "#bd3786"
             ],
             [
              0.5555555555555556,
              "#d8576b"
             ],
             [
              0.6666666666666666,
              "#ed7953"
             ],
             [
              0.7777777777777778,
              "#fb9f3a"
             ],
             [
              0.8888888888888888,
              "#fdca26"
             ],
             [
              1,
              "#f0f921"
             ]
            ],
            "type": "histogram2d"
           }
          ],
          "histogram2dcontour": [
           {
            "colorbar": {
             "outlinewidth": 0,
             "ticks": ""
            },
            "colorscale": [
             [
              0,
              "#0d0887"
             ],
             [
              0.1111111111111111,
              "#46039f"
             ],
             [
              0.2222222222222222,
              "#7201a8"
             ],
             [
              0.3333333333333333,
              "#9c179e"
             ],
             [
              0.4444444444444444,
              "#bd3786"
             ],
             [
              0.5555555555555556,
              "#d8576b"
             ],
             [
              0.6666666666666666,
              "#ed7953"
             ],
             [
              0.7777777777777778,
              "#fb9f3a"
             ],
             [
              0.8888888888888888,
              "#fdca26"
             ],
             [
              1,
              "#f0f921"
             ]
            ],
            "type": "histogram2dcontour"
           }
          ],
          "mesh3d": [
           {
            "colorbar": {
             "outlinewidth": 0,
             "ticks": ""
            },
            "type": "mesh3d"
           }
          ],
          "parcoords": [
           {
            "line": {
             "colorbar": {
              "outlinewidth": 0,
              "ticks": ""
             }
            },
            "type": "parcoords"
           }
          ],
          "pie": [
           {
            "automargin": true,
            "type": "pie"
           }
          ],
          "scatter": [
           {
            "fillpattern": {
             "fillmode": "overlay",
             "size": 10,
             "solidity": 0.2
            },
            "type": "scatter"
           }
          ],
          "scatter3d": [
           {
            "line": {
             "colorbar": {
              "outlinewidth": 0,
              "ticks": ""
             }
            },
            "marker": {
             "colorbar": {
              "outlinewidth": 0,
              "ticks": ""
             }
            },
            "type": "scatter3d"
           }
          ],
          "scattercarpet": [
           {
            "marker": {
             "colorbar": {
              "outlinewidth": 0,
              "ticks": ""
             }
            },
            "type": "scattercarpet"
           }
          ],
          "scattergeo": [
           {
            "marker": {
             "colorbar": {
              "outlinewidth": 0,
              "ticks": ""
             }
            },
            "type": "scattergeo"
           }
          ],
          "scattergl": [
           {
            "marker": {
             "colorbar": {
              "outlinewidth": 0,
              "ticks": ""
             }
            },
            "type": "scattergl"
           }
          ],
          "scattermapbox": [
           {
            "marker": {
             "colorbar": {
              "outlinewidth": 0,
              "ticks": ""
             }
            },
            "type": "scattermapbox"
           }
          ],
          "scatterpolar": [
           {
            "marker": {
             "colorbar": {
              "outlinewidth": 0,
              "ticks": ""
             }
            },
            "type": "scatterpolar"
           }
          ],
          "scatterpolargl": [
           {
            "marker": {
             "colorbar": {
              "outlinewidth": 0,
              "ticks": ""
             }
            },
            "type": "scatterpolargl"
           }
          ],
          "scatterternary": [
           {
            "marker": {
             "colorbar": {
              "outlinewidth": 0,
              "ticks": ""
             }
            },
            "type": "scatterternary"
           }
          ],
          "surface": [
           {
            "colorbar": {
             "outlinewidth": 0,
             "ticks": ""
            },
            "colorscale": [
             [
              0,
              "#0d0887"
             ],
             [
              0.1111111111111111,
              "#46039f"
             ],
             [
              0.2222222222222222,
              "#7201a8"
             ],
             [
              0.3333333333333333,
              "#9c179e"
             ],
             [
              0.4444444444444444,
              "#bd3786"
             ],
             [
              0.5555555555555556,
              "#d8576b"
             ],
             [
              0.6666666666666666,
              "#ed7953"
             ],
             [
              0.7777777777777778,
              "#fb9f3a"
             ],
             [
              0.8888888888888888,
              "#fdca26"
             ],
             [
              1,
              "#f0f921"
             ]
            ],
            "type": "surface"
           }
          ],
          "table": [
           {
            "cells": {
             "fill": {
              "color": "#EBF0F8"
             },
             "line": {
              "color": "white"
             }
            },
            "header": {
             "fill": {
              "color": "#C8D4E3"
             },
             "line": {
              "color": "white"
             }
            },
            "type": "table"
           }
          ]
         },
         "layout": {
          "annotationdefaults": {
           "arrowcolor": "#2a3f5f",
           "arrowhead": 0,
           "arrowwidth": 1
          },
          "autotypenumbers": "strict",
          "coloraxis": {
           "colorbar": {
            "outlinewidth": 0,
            "ticks": ""
           }
          },
          "colorscale": {
           "diverging": [
            [
             0,
             "#8e0152"
            ],
            [
             0.1,
             "#c51b7d"
            ],
            [
             0.2,
             "#de77ae"
            ],
            [
             0.3,
             "#f1b6da"
            ],
            [
             0.4,
             "#fde0ef"
            ],
            [
             0.5,
             "#f7f7f7"
            ],
            [
             0.6,
             "#e6f5d0"
            ],
            [
             0.7,
             "#b8e186"
            ],
            [
             0.8,
             "#7fbc41"
            ],
            [
             0.9,
             "#4d9221"
            ],
            [
             1,
             "#276419"
            ]
           ],
           "sequential": [
            [
             0,
             "#0d0887"
            ],
            [
             0.1111111111111111,
             "#46039f"
            ],
            [
             0.2222222222222222,
             "#7201a8"
            ],
            [
             0.3333333333333333,
             "#9c179e"
            ],
            [
             0.4444444444444444,
             "#bd3786"
            ],
            [
             0.5555555555555556,
             "#d8576b"
            ],
            [
             0.6666666666666666,
             "#ed7953"
            ],
            [
             0.7777777777777778,
             "#fb9f3a"
            ],
            [
             0.8888888888888888,
             "#fdca26"
            ],
            [
             1,
             "#f0f921"
            ]
           ],
           "sequentialminus": [
            [
             0,
             "#0d0887"
            ],
            [
             0.1111111111111111,
             "#46039f"
            ],
            [
             0.2222222222222222,
             "#7201a8"
            ],
            [
             0.3333333333333333,
             "#9c179e"
            ],
            [
             0.4444444444444444,
             "#bd3786"
            ],
            [
             0.5555555555555556,
             "#d8576b"
            ],
            [
             0.6666666666666666,
             "#ed7953"
            ],
            [
             0.7777777777777778,
             "#fb9f3a"
            ],
            [
             0.8888888888888888,
             "#fdca26"
            ],
            [
             1,
             "#f0f921"
            ]
           ]
          },
          "colorway": [
           "#636efa",
           "#EF553B",
           "#00cc96",
           "#ab63fa",
           "#FFA15A",
           "#19d3f3",
           "#FF6692",
           "#B6E880",
           "#FF97FF",
           "#FECB52"
          ],
          "font": {
           "color": "#2a3f5f"
          },
          "geo": {
           "bgcolor": "white",
           "lakecolor": "white",
           "landcolor": "#E5ECF6",
           "showlakes": true,
           "showland": true,
           "subunitcolor": "white"
          },
          "hoverlabel": {
           "align": "left"
          },
          "hovermode": "closest",
          "mapbox": {
           "style": "light"
          },
          "paper_bgcolor": "white",
          "plot_bgcolor": "#E5ECF6",
          "polar": {
           "angularaxis": {
            "gridcolor": "white",
            "linecolor": "white",
            "ticks": ""
           },
           "bgcolor": "#E5ECF6",
           "radialaxis": {
            "gridcolor": "white",
            "linecolor": "white",
            "ticks": ""
           }
          },
          "scene": {
           "xaxis": {
            "backgroundcolor": "#E5ECF6",
            "gridcolor": "white",
            "gridwidth": 2,
            "linecolor": "white",
            "showbackground": true,
            "ticks": "",
            "zerolinecolor": "white"
           },
           "yaxis": {
            "backgroundcolor": "#E5ECF6",
            "gridcolor": "white",
            "gridwidth": 2,
            "linecolor": "white",
            "showbackground": true,
            "ticks": "",
            "zerolinecolor": "white"
           },
           "zaxis": {
            "backgroundcolor": "#E5ECF6",
            "gridcolor": "white",
            "gridwidth": 2,
            "linecolor": "white",
            "showbackground": true,
            "ticks": "",
            "zerolinecolor": "white"
           }
          },
          "shapedefaults": {
           "line": {
            "color": "#2a3f5f"
           }
          },
          "ternary": {
           "aaxis": {
            "gridcolor": "white",
            "linecolor": "white",
            "ticks": ""
           },
           "baxis": {
            "gridcolor": "white",
            "linecolor": "white",
            "ticks": ""
           },
           "bgcolor": "#E5ECF6",
           "caxis": {
            "gridcolor": "white",
            "linecolor": "white",
            "ticks": ""
           }
          },
          "title": {
           "x": 0.05
          },
          "xaxis": {
           "automargin": true,
           "gridcolor": "white",
           "linecolor": "white",
           "ticks": "",
           "title": {
            "standoff": 15
           },
           "zerolinecolor": "white",
           "zerolinewidth": 2
          },
          "yaxis": {
           "automargin": true,
           "gridcolor": "white",
           "linecolor": "white",
           "ticks": "",
           "title": {
            "standoff": 15
           },
           "zerolinecolor": "white",
           "zerolinewidth": 2
          }
         }
        },
        "title": {
         "font": {
          "color": "darkslateblue"
         },
         "text": "BR - tendência - cluster medio - canal 10 - 2023-05 a 2023-09",
         "x": 0.45,
         "y": 0.9
        },
        "width": 1300,
        "xaxis": {
         "anchor": "y",
         "domain": [
          0,
          1
         ],
         "title": {
          "text": "ds"
         }
        },
        "yaxis": {
         "anchor": "x",
         "domain": [
          0,
          1
         ],
         "title": {
          "text": "var"
         }
        }
       }
      },
      "text/html": [
       "<div>                            <div id=\"18020ddc-7a65-4c5f-9e32-7088f744a666\" class=\"plotly-graph-div\" style=\"height:700px; width:1300px;\"></div>            <script type=\"text/javascript\">                require([\"plotly\"], function(Plotly) {                    window.PLOTLYENV=window.PLOTLYENV || {};                                    if (document.getElementById(\"18020ddc-7a65-4c5f-9e32-7088f744a666\")) {                    Plotly.newPlot(                        \"18020ddc-7a65-4c5f-9e32-7088f744a666\",                        [{\"customdata\":[[\"IPIRANGA\"],[\"IPIRANGA\"],[\"IPIRANGA\"],[\"IPIRANGA\"],[\"IPIRANGA\"]],\"hovertemplate\":\"GRUPO=%{customdata[0]}<br>ds=%{x}<br>var=%{y}<extra></extra>\",\"legendgroup\":\"IPIRANGA\",\"line\":{\"color\":\"rgb(179,226,205)\",\"dash\":\"solid\"},\"marker\":{\"symbol\":\"circle\"},\"mode\":\"lines\",\"name\":\"IPIRANGA\",\"orientation\":\"v\",\"showlegend\":true,\"x\":[\"2023-05-01T00:00:00\",\"2023-06-01T00:00:00\",\"2023-07-01T00:00:00\",\"2023-08-01T00:00:00\",\"2023-09-01T00:00:00\"],\"xaxis\":\"x\",\"y\":[0.6280426897075735,0.7143186268580282,0.7470192018274053,0.75048083392861,0.8111641470107981],\"yaxis\":\"y\",\"type\":\"scatter\"},{\"customdata\":[[\"OUTRAS NP\"],[\"OUTRAS NP\"],[\"OUTRAS NP\"],[\"OUTRAS NP\"],[\"OUTRAS NP\"]],\"hovertemplate\":\"GRUPO=%{customdata[0]}<br>ds=%{x}<br>var=%{y}<extra></extra>\",\"legendgroup\":\"OUTRAS NP\",\"line\":{\"color\":\"rgb(253,205,172)\",\"dash\":\"solid\"},\"marker\":{\"symbol\":\"circle\"},\"mode\":\"lines\",\"name\":\"OUTRAS NP\",\"orientation\":\"v\",\"showlegend\":true,\"x\":[\"2023-05-01T00:00:00\",\"2023-06-01T00:00:00\",\"2023-07-01T00:00:00\",\"2023-08-01T00:00:00\",\"2023-09-01T00:00:00\"],\"xaxis\":\"x\",\"y\":[0.2815307590933542,0.3276482604453383,0.3546357124233768,0.3938608748632489,0.34419588588384914],\"yaxis\":\"y\",\"type\":\"scatter\"},{\"customdata\":[[\"RAIZEN\"],[\"RAIZEN\"],[\"RAIZEN\"],[\"RAIZEN\"],[\"RAIZEN\"]],\"hovertemplate\":\"GRUPO=%{customdata[0]}<br>ds=%{x}<br>var=%{y}<extra></extra>\",\"legendgroup\":\"RAIZEN\",\"line\":{\"color\":\"rgb(203,213,232)\",\"dash\":\"solid\"},\"marker\":{\"symbol\":\"circle\"},\"mode\":\"lines\",\"name\":\"RAIZEN\",\"orientation\":\"v\",\"showlegend\":true,\"x\":[\"2023-05-01T00:00:00\",\"2023-06-01T00:00:00\",\"2023-07-01T00:00:00\",\"2023-08-01T00:00:00\",\"2023-09-01T00:00:00\"],\"xaxis\":\"x\",\"y\":[1.0537772664810863,1.0864981158977736,1.1814607616451123,1.3867035332458824,1.4974032590608526],\"yaxis\":\"y\",\"type\":\"scatter\"},{\"customdata\":[[\"VIBRA\"],[\"VIBRA\"],[\"VIBRA\"],[\"VIBRA\"],[\"VIBRA\"]],\"hovertemplate\":\"GRUPO=%{customdata[0]}<br>ds=%{x}<br>var=%{y}<extra></extra>\",\"legendgroup\":\"VIBRA\",\"line\":{\"color\":\"rgb(244,202,228)\",\"dash\":\"solid\"},\"marker\":{\"symbol\":\"circle\"},\"mode\":\"lines\",\"name\":\"VIBRA\",\"orientation\":\"v\",\"showlegend\":true,\"x\":[\"2023-05-01T00:00:00\",\"2023-06-01T00:00:00\",\"2023-07-01T00:00:00\",\"2023-08-01T00:00:00\",\"2023-09-01T00:00:00\"],\"xaxis\":\"x\",\"y\":[0.5496208031192572,0.588727779047607,0.6800476742977664,0.6800533511430137,0.6296699979465065],\"yaxis\":\"y\",\"type\":\"scatter\"}],                        {\"template\":{\"data\":{\"histogram2dcontour\":[{\"type\":\"histogram2dcontour\",\"colorbar\":{\"outlinewidth\":0,\"ticks\":\"\"},\"colorscale\":[[0.0,\"#0d0887\"],[0.1111111111111111,\"#46039f\"],[0.2222222222222222,\"#7201a8\"],[0.3333333333333333,\"#9c179e\"],[0.4444444444444444,\"#bd3786\"],[0.5555555555555556,\"#d8576b\"],[0.6666666666666666,\"#ed7953\"],[0.7777777777777778,\"#fb9f3a\"],[0.8888888888888888,\"#fdca26\"],[1.0,\"#f0f921\"]]}],\"choropleth\":[{\"type\":\"choropleth\",\"colorbar\":{\"outlinewidth\":0,\"ticks\":\"\"}}],\"histogram2d\":[{\"type\":\"histogram2d\",\"colorbar\":{\"outlinewidth\":0,\"ticks\":\"\"},\"colorscale\":[[0.0,\"#0d0887\"],[0.1111111111111111,\"#46039f\"],[0.2222222222222222,\"#7201a8\"],[0.3333333333333333,\"#9c179e\"],[0.4444444444444444,\"#bd3786\"],[0.5555555555555556,\"#d8576b\"],[0.6666666666666666,\"#ed7953\"],[0.7777777777777778,\"#fb9f3a\"],[0.8888888888888888,\"#fdca26\"],[1.0,\"#f0f921\"]]}],\"heatmap\":[{\"type\":\"heatmap\",\"colorbar\":{\"outlinewidth\":0,\"ticks\":\"\"},\"colorscale\":[[0.0,\"#0d0887\"],[0.1111111111111111,\"#46039f\"],[0.2222222222222222,\"#7201a8\"],[0.3333333333333333,\"#9c179e\"],[0.4444444444444444,\"#bd3786\"],[0.5555555555555556,\"#d8576b\"],[0.6666666666666666,\"#ed7953\"],[0.7777777777777778,\"#fb9f3a\"],[0.8888888888888888,\"#fdca26\"],[1.0,\"#f0f921\"]]}],\"heatmapgl\":[{\"type\":\"heatmapgl\",\"colorbar\":{\"outlinewidth\":0,\"ticks\":\"\"},\"colorscale\":[[0.0,\"#0d0887\"],[0.1111111111111111,\"#46039f\"],[0.2222222222222222,\"#7201a8\"],[0.3333333333333333,\"#9c179e\"],[0.4444444444444444,\"#bd3786\"],[0.5555555555555556,\"#d8576b\"],[0.6666666666666666,\"#ed7953\"],[0.7777777777777778,\"#fb9f3a\"],[0.8888888888888888,\"#fdca26\"],[1.0,\"#f0f921\"]]}],\"contourcarpet\":[{\"type\":\"contourcarpet\",\"colorbar\":{\"outlinewidth\":0,\"ticks\":\"\"}}],\"contour\":[{\"type\":\"contour\",\"colorbar\":{\"outlinewidth\":0,\"ticks\":\"\"},\"colorscale\":[[0.0,\"#0d0887\"],[0.1111111111111111,\"#46039f\"],[0.2222222222222222,\"#7201a8\"],[0.3333333333333333,\"#9c179e\"],[0.4444444444444444,\"#bd3786\"],[0.5555555555555556,\"#d8576b\"],[0.6666666666666666,\"#ed7953\"],[0.7777777777777778,\"#fb9f3a\"],[0.8888888888888888,\"#fdca26\"],[1.0,\"#f0f921\"]]}],\"surface\":[{\"type\":\"surface\",\"colorbar\":{\"outlinewidth\":0,\"ticks\":\"\"},\"colorscale\":[[0.0,\"#0d0887\"],[0.1111111111111111,\"#46039f\"],[0.2222222222222222,\"#7201a8\"],[0.3333333333333333,\"#9c179e\"],[0.4444444444444444,\"#bd3786\"],[0.5555555555555556,\"#d8576b\"],[0.6666666666666666,\"#ed7953\"],[0.7777777777777778,\"#fb9f3a\"],[0.8888888888888888,\"#fdca26\"],[1.0,\"#f0f921\"]]}],\"mesh3d\":[{\"type\":\"mesh3d\",\"colorbar\":{\"outlinewidth\":0,\"ticks\":\"\"}}],\"scatter\":[{\"fillpattern\":{\"fillmode\":\"overlay\",\"size\":10,\"solidity\":0.2},\"type\":\"scatter\"}],\"parcoords\":[{\"type\":\"parcoords\",\"line\":{\"colorbar\":{\"outlinewidth\":0,\"ticks\":\"\"}}}],\"scatterpolargl\":[{\"type\":\"scatterpolargl\",\"marker\":{\"colorbar\":{\"outlinewidth\":0,\"ticks\":\"\"}}}],\"bar\":[{\"error_x\":{\"color\":\"#2a3f5f\"},\"error_y\":{\"color\":\"#2a3f5f\"},\"marker\":{\"line\":{\"color\":\"#E5ECF6\",\"width\":0.5},\"pattern\":{\"fillmode\":\"overlay\",\"size\":10,\"solidity\":0.2}},\"type\":\"bar\"}],\"scattergeo\":[{\"type\":\"scattergeo\",\"marker\":{\"colorbar\":{\"outlinewidth\":0,\"ticks\":\"\"}}}],\"scatterpolar\":[{\"type\":\"scatterpolar\",\"marker\":{\"colorbar\":{\"outlinewidth\":0,\"ticks\":\"\"}}}],\"histogram\":[{\"marker\":{\"pattern\":{\"fillmode\":\"overlay\",\"size\":10,\"solidity\":0.2}},\"type\":\"histogram\"}],\"scattergl\":[{\"type\":\"scattergl\",\"marker\":{\"colorbar\":{\"outlinewidth\":0,\"ticks\":\"\"}}}],\"scatter3d\":[{\"type\":\"scatter3d\",\"line\":{\"colorbar\":{\"outlinewidth\":0,\"ticks\":\"\"}},\"marker\":{\"colorbar\":{\"outlinewidth\":0,\"ticks\":\"\"}}}],\"scattermapbox\":[{\"type\":\"scattermapbox\",\"marker\":{\"colorbar\":{\"outlinewidth\":0,\"ticks\":\"\"}}}],\"scatterternary\":[{\"type\":\"scatterternary\",\"marker\":{\"colorbar\":{\"outlinewidth\":0,\"ticks\":\"\"}}}],\"scattercarpet\":[{\"type\":\"scattercarpet\",\"marker\":{\"colorbar\":{\"outlinewidth\":0,\"ticks\":\"\"}}}],\"carpet\":[{\"aaxis\":{\"endlinecolor\":\"#2a3f5f\",\"gridcolor\":\"white\",\"linecolor\":\"white\",\"minorgridcolor\":\"white\",\"startlinecolor\":\"#2a3f5f\"},\"baxis\":{\"endlinecolor\":\"#2a3f5f\",\"gridcolor\":\"white\",\"linecolor\":\"white\",\"minorgridcolor\":\"white\",\"startlinecolor\":\"#2a3f5f\"},\"type\":\"carpet\"}],\"table\":[{\"cells\":{\"fill\":{\"color\":\"#EBF0F8\"},\"line\":{\"color\":\"white\"}},\"header\":{\"fill\":{\"color\":\"#C8D4E3\"},\"line\":{\"color\":\"white\"}},\"type\":\"table\"}],\"barpolar\":[{\"marker\":{\"line\":{\"color\":\"#E5ECF6\",\"width\":0.5},\"pattern\":{\"fillmode\":\"overlay\",\"size\":10,\"solidity\":0.2}},\"type\":\"barpolar\"}],\"pie\":[{\"automargin\":true,\"type\":\"pie\"}]},\"layout\":{\"autotypenumbers\":\"strict\",\"colorway\":[\"#636efa\",\"#EF553B\",\"#00cc96\",\"#ab63fa\",\"#FFA15A\",\"#19d3f3\",\"#FF6692\",\"#B6E880\",\"#FF97FF\",\"#FECB52\"],\"font\":{\"color\":\"#2a3f5f\"},\"hovermode\":\"closest\",\"hoverlabel\":{\"align\":\"left\"},\"paper_bgcolor\":\"white\",\"plot_bgcolor\":\"#E5ECF6\",\"polar\":{\"bgcolor\":\"#E5ECF6\",\"angularaxis\":{\"gridcolor\":\"white\",\"linecolor\":\"white\",\"ticks\":\"\"},\"radialaxis\":{\"gridcolor\":\"white\",\"linecolor\":\"white\",\"ticks\":\"\"}},\"ternary\":{\"bgcolor\":\"#E5ECF6\",\"aaxis\":{\"gridcolor\":\"white\",\"linecolor\":\"white\",\"ticks\":\"\"},\"baxis\":{\"gridcolor\":\"white\",\"linecolor\":\"white\",\"ticks\":\"\"},\"caxis\":{\"gridcolor\":\"white\",\"linecolor\":\"white\",\"ticks\":\"\"}},\"coloraxis\":{\"colorbar\":{\"outlinewidth\":0,\"ticks\":\"\"}},\"colorscale\":{\"sequential\":[[0.0,\"#0d0887\"],[0.1111111111111111,\"#46039f\"],[0.2222222222222222,\"#7201a8\"],[0.3333333333333333,\"#9c179e\"],[0.4444444444444444,\"#bd3786\"],[0.5555555555555556,\"#d8576b\"],[0.6666666666666666,\"#ed7953\"],[0.7777777777777778,\"#fb9f3a\"],[0.8888888888888888,\"#fdca26\"],[1.0,\"#f0f921\"]],\"sequentialminus\":[[0.0,\"#0d0887\"],[0.1111111111111111,\"#46039f\"],[0.2222222222222222,\"#7201a8\"],[0.3333333333333333,\"#9c179e\"],[0.4444444444444444,\"#bd3786\"],[0.5555555555555556,\"#d8576b\"],[0.6666666666666666,\"#ed7953\"],[0.7777777777777778,\"#fb9f3a\"],[0.8888888888888888,\"#fdca26\"],[1.0,\"#f0f921\"]],\"diverging\":[[0,\"#8e0152\"],[0.1,\"#c51b7d\"],[0.2,\"#de77ae\"],[0.3,\"#f1b6da\"],[0.4,\"#fde0ef\"],[0.5,\"#f7f7f7\"],[0.6,\"#e6f5d0\"],[0.7,\"#b8e186\"],[0.8,\"#7fbc41\"],[0.9,\"#4d9221\"],[1,\"#276419\"]]},\"xaxis\":{\"gridcolor\":\"white\",\"linecolor\":\"white\",\"ticks\":\"\",\"title\":{\"standoff\":15},\"zerolinecolor\":\"white\",\"automargin\":true,\"zerolinewidth\":2},\"yaxis\":{\"gridcolor\":\"white\",\"linecolor\":\"white\",\"ticks\":\"\",\"title\":{\"standoff\":15},\"zerolinecolor\":\"white\",\"automargin\":true,\"zerolinewidth\":2},\"scene\":{\"xaxis\":{\"backgroundcolor\":\"#E5ECF6\",\"gridcolor\":\"white\",\"linecolor\":\"white\",\"showbackground\":true,\"ticks\":\"\",\"zerolinecolor\":\"white\",\"gridwidth\":2},\"yaxis\":{\"backgroundcolor\":\"#E5ECF6\",\"gridcolor\":\"white\",\"linecolor\":\"white\",\"showbackground\":true,\"ticks\":\"\",\"zerolinecolor\":\"white\",\"gridwidth\":2},\"zaxis\":{\"backgroundcolor\":\"#E5ECF6\",\"gridcolor\":\"white\",\"linecolor\":\"white\",\"showbackground\":true,\"ticks\":\"\",\"zerolinecolor\":\"white\",\"gridwidth\":2}},\"shapedefaults\":{\"line\":{\"color\":\"#2a3f5f\"}},\"annotationdefaults\":{\"arrowcolor\":\"#2a3f5f\",\"arrowhead\":0,\"arrowwidth\":1},\"geo\":{\"bgcolor\":\"white\",\"landcolor\":\"#E5ECF6\",\"subunitcolor\":\"white\",\"showland\":true,\"showlakes\":true,\"lakecolor\":\"white\"},\"title\":{\"x\":0.05},\"mapbox\":{\"style\":\"light\"}}},\"xaxis\":{\"anchor\":\"y\",\"domain\":[0.0,1.0],\"title\":{\"text\":\"ds\"}},\"yaxis\":{\"anchor\":\"x\",\"domain\":[0.0,1.0],\"title\":{\"text\":\"var\"}},\"legend\":{\"title\":{\"text\":\"GRUPO\"},\"tracegroupgap\":0},\"title\":{\"text\":\"BR - tend\\u00eancia - cluster medio - canal 10 - 2023-05 a 2023-09\",\"font\":{\"color\":\"darkslateblue\"},\"x\":0.45,\"y\":0.9},\"autosize\":false,\"width\":1300,\"height\":700,\"font\":{\"size\":11},\"plot_bgcolor\":\"#fcfafa\",\"paper_bgcolor\":\"#fcfafa\"},                        {\"responsive\": true}                    ).then(function(){\n",
       "                            \n",
       "var gd = document.getElementById('18020ddc-7a65-4c5f-9e32-7088f744a666');\n",
       "var x = new MutationObserver(function (mutations, observer) {{\n",
       "        var display = window.getComputedStyle(gd).display;\n",
       "        if (!display || display === 'none') {{\n",
       "            console.log([gd, 'removed!']);\n",
       "            Plotly.purge(gd);\n",
       "            observer.disconnect();\n",
       "        }}\n",
       "}});\n",
       "\n",
       "// Listen for the removal of the full notebook cells\n",
       "var notebookContainer = gd.closest('#notebook-container');\n",
       "if (notebookContainer) {{\n",
       "    x.observe(notebookContainer, {childList: true});\n",
       "}}\n",
       "\n",
       "// Listen for the clearing of the current output cell\n",
       "var outputEl = gd.closest('.output');\n",
       "if (outputEl) {{\n",
       "    x.observe(outputEl, {childList: true});\n",
       "}}\n",
       "\n",
       "                        })                };                });            </script>        </div>"
      ]
     },
     "metadata": {},
     "output_type": "display_data"
    }
   ],
   "source": [
    "medio_analitico_vol = medio_analitico_vol()\n",
    "\n",
    "fig =px.line(medio_analitico_vol, \n",
    "            x=\"ds\", \n",
    "            y=\"var\",\n",
    "            title=\"BR - tendência - cluster medio - canal 10 - 2023-05 a 2023-09\",\n",
    "            color=\"GRUPO\",\n",
    "            color_discrete_sequence=px.colors.qualitative.Pastel2,\n",
    "            hover_data=[\"GRUPO\"]\n",
    "        )\n",
    "\n",
    "fig.update_layout(\n",
    "    autosize=False,\n",
    "    width= 1300,\n",
    "    height=700\n",
    ")\n",
    "    \n",
    "fig.update_layout(\n",
    "        title = {\"x\": .45, \"y\": .90, \"font\": {\"color\":\"darkslateblue\"}},\n",
    "        plot_bgcolor = \"#fcfafa\",\n",
    "        paper_bgcolor = \"#fcfafa\", \n",
    "        font=dict(size=11)\n",
    "    )\n",
    "fig.show()\n"
   ]
  },
  {
   "cell_type": "code",
   "execution_count": 27,
   "id": "7a9a06c3",
   "metadata": {},
   "outputs": [
    {
     "data": {
      "application/vnd.plotly.v1+json": {
       "config": {
        "plotlyServerURL": "https://plot.ly"
       },
       "data": [
        {
         "customdata": [
          [
           84,
           1353,
           95.54,
           28.2,
           4.34,
           95.66,
           "CONSUMIDOR FINAL"
          ]
         ],
         "hovertemplate": "id=USINA CONQUISTA DO PONTAL S. A. - EM RECUPERACAO JUDICIAL|2023-09-01|CONSUMIDOR FINAL|RAIZEN<br>Volume m³ setembro 2023=%{x}<br>share setembro 2023=%{y}<br>preview_value=%{customdata[0]}<br>preview_value_12=%{customdata[1]}<br>delta_vol=%{customdata[2]}<br>delta_vol_12=%{customdata[3]}<br>preview_share=%{customdata[4]}<br>delta_share_pp=%{customdata[5]}<br>QUALIF_DEST=%{customdata[6]}<extra></extra>",
         "legendgroup": "USINA CONQUISTA DO PONTAL S. A. - EM RECUPERACAO JUDICIAL|2023-09-01|CONSUMIDOR FINAL|RAIZEN",
         "marker": {
          "color": "rgb(141,211,199)",
          "symbol": "circle"
         },
         "mode": "markers",
         "name": "USINA CONQUISTA DO PONTAL S. A. - EM RECUPERACAO JUDICIAL|2023-09-01|CONSUMIDOR FINAL|RAIZEN",
         "orientation": "v",
         "showlegend": true,
         "type": "scatter",
         "x": [
          1884.5
         ],
         "xaxis": "x",
         "y": [
          100
         ],
         "yaxis": "y"
        },
        {
         "customdata": [
          [
           75,
           220,
           86.36,
           60,
           7.39,
           46.53,
           "CONSUMIDOR FINAL"
          ]
         ],
         "hovertemplate": "id=VIAÇÃO GATO PRETO LTDA|2023-09-01|CONSUMIDOR FINAL|RAIZEN<br>Volume m³ setembro 2023=%{x}<br>share setembro 2023=%{y}<br>preview_value=%{customdata[0]}<br>preview_value_12=%{customdata[1]}<br>delta_vol=%{customdata[2]}<br>delta_vol_12=%{customdata[3]}<br>preview_share=%{customdata[4]}<br>delta_share_pp=%{customdata[5]}<br>QUALIF_DEST=%{customdata[6]}<extra></extra>",
         "legendgroup": "VIAÇÃO GATO PRETO LTDA|2023-09-01|CONSUMIDOR FINAL|RAIZEN",
         "marker": {
          "color": "rgb(255,255,179)",
          "symbol": "circle"
         },
         "mode": "markers",
         "name": "VIAÇÃO GATO PRETO LTDA|2023-09-01|CONSUMIDOR FINAL|RAIZEN",
         "orientation": "v",
         "showlegend": true,
         "type": "scatter",
         "x": [
          550
         ],
         "xaxis": "x",
         "y": [
          53.92
         ],
         "yaxis": "y"
        },
        {
         "customdata": [
          [
           90,
           270,
           82.86,
           48.57,
           4.96,
           25.21,
           "CONSUMIDOR FINAL"
          ]
         ],
         "hovertemplate": "id=VIAÇÃO GRAJAU SA|2023-09-01|CONSUMIDOR FINAL|RAIZEN<br>Volume m³ setembro 2023=%{x}<br>share setembro 2023=%{y}<br>preview_value=%{customdata[0]}<br>preview_value_12=%{customdata[1]}<br>delta_vol=%{customdata[2]}<br>delta_vol_12=%{customdata[3]}<br>preview_share=%{customdata[4]}<br>delta_share_pp=%{customdata[5]}<br>QUALIF_DEST=%{customdata[6]}<extra></extra>",
         "legendgroup": "VIAÇÃO GRAJAU SA|2023-09-01|CONSUMIDOR FINAL|RAIZEN",
         "marker": {
          "color": "rgb(190,186,218)",
          "symbol": "circle"
         },
         "mode": "markers",
         "name": "VIAÇÃO GRAJAU SA|2023-09-01|CONSUMIDOR FINAL|RAIZEN",
         "orientation": "v",
         "showlegend": true,
         "type": "scatter",
         "x": [
          525
         ],
         "xaxis": "x",
         "y": [
          30.17
         ],
         "yaxis": "y"
        },
        {
         "customdata": [
          [
           40,
           280,
           80.49,
           -36.59,
           3.57,
           13.58,
           "CONSUMIDOR FINAL"
          ]
         ],
         "hovertemplate": "id=VIAÇÃO GARCIA LTDA|2023-09-01|CONSUMIDOR FINAL|RAIZEN<br>Volume m³ setembro 2023=%{x}<br>share setembro 2023=%{y}<br>preview_value=%{customdata[0]}<br>preview_value_12=%{customdata[1]}<br>delta_vol=%{customdata[2]}<br>delta_vol_12=%{customdata[3]}<br>preview_share=%{customdata[4]}<br>delta_share_pp=%{customdata[5]}<br>QUALIF_DEST=%{customdata[6]}<extra></extra>",
         "legendgroup": "VIAÇÃO GARCIA LTDA|2023-09-01|CONSUMIDOR FINAL|RAIZEN",
         "marker": {
          "color": "rgb(251,128,114)",
          "symbol": "circle"
         },
         "mode": "markers",
         "name": "VIAÇÃO GARCIA LTDA|2023-09-01|CONSUMIDOR FINAL|RAIZEN",
         "orientation": "v",
         "showlegend": true,
         "type": "scatter",
         "x": [
          205
         ],
         "xaxis": "x",
         "y": [
          17.15
         ],
         "yaxis": "y"
        },
        {
         "customdata": [
          [
           67.5,
           null,
           78.57,
           null,
           3.39,
           13.63,
           "CONSUMIDOR FINAL"
          ]
         ],
         "hovertemplate": "id=CRV INDUSTRIAL LTDA|2023-09-01|CONSUMIDOR FINAL|RAIZEN<br>Volume m³ setembro 2023=%{x}<br>share setembro 2023=%{y}<br>preview_value=%{customdata[0]}<br>preview_value_12=%{customdata[1]}<br>delta_vol=%{customdata[2]}<br>delta_vol_12=%{customdata[3]}<br>preview_share=%{customdata[4]}<br>delta_share_pp=%{customdata[5]}<br>QUALIF_DEST=%{customdata[6]}<extra></extra>",
         "legendgroup": "CRV INDUSTRIAL LTDA|2023-09-01|CONSUMIDOR FINAL|RAIZEN",
         "marker": {
          "color": "rgb(128,177,211)",
          "symbol": "circle"
         },
         "mode": "markers",
         "name": "CRV INDUSTRIAL LTDA|2023-09-01|CONSUMIDOR FINAL|RAIZEN",
         "orientation": "v",
         "showlegend": true,
         "type": "scatter",
         "x": [
          315
         ],
         "xaxis": "x",
         "y": [
          17.01
         ],
         "yaxis": "y"
        },
        {
         "customdata": [
          [
           115,
           230,
           78.3,
           56.6,
           11.27,
           25.28,
           "CONSUMIDOR FINAL"
          ]
         ],
         "hovertemplate": "id=BRAVO SERVIÇOS LOGISTICOS LTDA|2023-09-01|CONSUMIDOR FINAL|RAIZEN<br>Volume m³ setembro 2023=%{x}<br>share setembro 2023=%{y}<br>preview_value=%{customdata[0]}<br>preview_value_12=%{customdata[1]}<br>delta_vol=%{customdata[2]}<br>delta_vol_12=%{customdata[3]}<br>preview_share=%{customdata[4]}<br>delta_share_pp=%{customdata[5]}<br>QUALIF_DEST=%{customdata[6]}<extra></extra>",
         "legendgroup": "BRAVO SERVIÇOS LOGISTICOS LTDA|2023-09-01|CONSUMIDOR FINAL|RAIZEN",
         "marker": {
          "color": "rgb(253,180,98)",
          "symbol": "circle"
         },
         "mode": "markers",
         "name": "BRAVO SERVIÇOS LOGISTICOS LTDA|2023-09-01|CONSUMIDOR FINAL|RAIZEN",
         "orientation": "v",
         "showlegend": true,
         "type": "scatter",
         "x": [
          530
         ],
         "xaxis": "x",
         "y": [
          36.55
         ],
         "yaxis": "y"
        },
        {
         "customdata": [
          [
           44,
           220,
           66.67,
           -66.67,
           2.38,
           5.41,
           "CONSUMIDOR FINAL"
          ]
         ],
         "hovertemplate": "id=EXPRESS TRANSPORTES URBANOS - LTDA|2023-09-01|CONSUMIDOR FINAL|RAIZEN<br>Volume m³ setembro 2023=%{x}<br>share setembro 2023=%{y}<br>preview_value=%{customdata[0]}<br>preview_value_12=%{customdata[1]}<br>delta_vol=%{customdata[2]}<br>delta_vol_12=%{customdata[3]}<br>preview_share=%{customdata[4]}<br>delta_share_pp=%{customdata[5]}<br>QUALIF_DEST=%{customdata[6]}<extra></extra>",
         "legendgroup": "EXPRESS TRANSPORTES URBANOS - LTDA|2023-09-01|CONSUMIDOR FINAL|RAIZEN",
         "marker": {
          "color": "rgb(179,222,105)",
          "symbol": "circle"
         },
         "mode": "markers",
         "name": "EXPRESS TRANSPORTES URBANOS - LTDA|2023-09-01|CONSUMIDOR FINAL|RAIZEN",
         "orientation": "v",
         "showlegend": true,
         "type": "scatter",
         "x": [
          132
         ],
         "xaxis": "x",
         "y": [
          7.79
         ],
         "yaxis": "y"
        },
        {
         "customdata": [
          [
           40,
           null,
           60,
           null,
           3.43,
           5.01,
           "CONSUMIDOR FINAL"
          ]
         ],
         "hovertemplate": "id=SANTA VITORIA ACUCAR E ALCOOL LTDA|2023-09-01|CONSUMIDOR FINAL|RAIZEN<br>Volume m³ setembro 2023=%{x}<br>share setembro 2023=%{y}<br>preview_value=%{customdata[0]}<br>preview_value_12=%{customdata[1]}<br>delta_vol=%{customdata[2]}<br>delta_vol_12=%{customdata[3]}<br>preview_share=%{customdata[4]}<br>delta_share_pp=%{customdata[5]}<br>QUALIF_DEST=%{customdata[6]}<extra></extra>",
         "legendgroup": "SANTA VITORIA ACUCAR E ALCOOL LTDA|2023-09-01|CONSUMIDOR FINAL|RAIZEN",
         "marker": {
          "color": "rgb(252,205,229)",
          "symbol": "circle"
         },
         "mode": "markers",
         "name": "SANTA VITORIA ACUCAR E ALCOOL LTDA|2023-09-01|CONSUMIDOR FINAL|RAIZEN",
         "orientation": "v",
         "showlegend": true,
         "type": "scatter",
         "x": [
          100
         ],
         "xaxis": "x",
         "y": [
          8.44
         ],
         "yaxis": "y"
        },
        {
         "customdata": [
          [
           115,
           null,
           57.41,
           null,
           5.28,
           8.26,
           "CONSUMIDOR FINAL"
          ]
         ],
         "hovertemplate": "id=VIAÇÃO SANTA BRIGIDA LTDA|2023-09-01|CONSUMIDOR FINAL|RAIZEN<br>Volume m³ setembro 2023=%{x}<br>share setembro 2023=%{y}<br>preview_value=%{customdata[0]}<br>preview_value_12=%{customdata[1]}<br>delta_vol=%{customdata[2]}<br>delta_vol_12=%{customdata[3]}<br>preview_share=%{customdata[4]}<br>delta_share_pp=%{customdata[5]}<br>QUALIF_DEST=%{customdata[6]}<extra></extra>",
         "legendgroup": "VIAÇÃO SANTA BRIGIDA LTDA|2023-09-01|CONSUMIDOR FINAL|RAIZEN",
         "marker": {
          "color": "rgb(217,217,217)",
          "symbol": "circle"
         },
         "mode": "markers",
         "name": "VIAÇÃO SANTA BRIGIDA LTDA|2023-09-01|CONSUMIDOR FINAL|RAIZEN",
         "orientation": "v",
         "showlegend": true,
         "type": "scatter",
         "x": [
          270
         ],
         "xaxis": "x",
         "y": [
          13.53
         ],
         "yaxis": "y"
        },
        {
         "customdata": [
          [
           455,
           null,
           57.2,
           null,
           24.67,
           27.3,
           "CONSUMIDOR FINAL"
          ]
         ],
         "hovertemplate": "id=USINA CERRADAO LTDA|2023-09-01|CONSUMIDOR FINAL|RAIZEN<br>Volume m³ setembro 2023=%{x}<br>share setembro 2023=%{y}<br>preview_value=%{customdata[0]}<br>preview_value_12=%{customdata[1]}<br>delta_vol=%{customdata[2]}<br>delta_vol_12=%{customdata[3]}<br>preview_share=%{customdata[4]}<br>delta_share_pp=%{customdata[5]}<br>QUALIF_DEST=%{customdata[6]}<extra></extra>",
         "legendgroup": "USINA CERRADAO LTDA|2023-09-01|CONSUMIDOR FINAL|RAIZEN",
         "marker": {
          "color": "rgb(188,128,189)",
          "symbol": "circle"
         },
         "mode": "markers",
         "name": "USINA CERRADAO LTDA|2023-09-01|CONSUMIDOR FINAL|RAIZEN",
         "orientation": "v",
         "showlegend": true,
         "type": "scatter",
         "x": [
          1063
         ],
         "xaxis": "x",
         "y": [
          51.97
         ],
         "yaxis": "y"
        },
        {
         "customdata": [
          [
           178,
           743,
           55.16,
           -87.15,
           8.93,
           12.29,
           "CONSUMIDOR FINAL"
          ]
         ],
         "hovertemplate": "id=IC TRANSPORTES LTDA.|2023-09-01|CONSUMIDOR FINAL|RAIZEN<br>Volume m³ setembro 2023=%{x}<br>share setembro 2023=%{y}<br>preview_value=%{customdata[0]}<br>preview_value_12=%{customdata[1]}<br>delta_vol=%{customdata[2]}<br>delta_vol_12=%{customdata[3]}<br>preview_share=%{customdata[4]}<br>delta_share_pp=%{customdata[5]}<br>QUALIF_DEST=%{customdata[6]}<extra></extra>",
         "legendgroup": "IC TRANSPORTES LTDA.|2023-09-01|CONSUMIDOR FINAL|RAIZEN",
         "marker": {
          "color": "rgb(204,235,197)",
          "symbol": "circle"
         },
         "mode": "markers",
         "name": "IC TRANSPORTES LTDA.|2023-09-01|CONSUMIDOR FINAL|RAIZEN",
         "orientation": "v",
         "showlegend": true,
         "type": "scatter",
         "x": [
          397
         ],
         "xaxis": "x",
         "y": [
          21.22
         ],
         "yaxis": "y"
        },
        {
         "customdata": [
          [
           1149.4,
           null,
           54.51,
           null,
           32.38,
           59.05,
           "CONSUMIDOR FINAL"
          ]
         ],
         "hovertemplate": "id=ACUCAR E ALCOOL OSWALDO RIBEIRO DE MENDONCA LTDA|2023-09-01|CONSUMIDOR FINAL|RAIZEN<br>Volume m³ setembro 2023=%{x}<br>share setembro 2023=%{y}<br>preview_value=%{customdata[0]}<br>preview_value_12=%{customdata[1]}<br>delta_vol=%{customdata[2]}<br>delta_vol_12=%{customdata[3]}<br>preview_share=%{customdata[4]}<br>delta_share_pp=%{customdata[5]}<br>QUALIF_DEST=%{customdata[6]}<extra></extra>",
         "legendgroup": "ACUCAR E ALCOOL OSWALDO RIBEIRO DE MENDONCA LTDA|2023-09-01|CONSUMIDOR FINAL|RAIZEN",
         "marker": {
          "color": "rgb(255,237,111)",
          "symbol": "circle"
         },
         "mode": "markers",
         "name": "ACUCAR E ALCOOL OSWALDO RIBEIRO DE MENDONCA LTDA|2023-09-01|CONSUMIDOR FINAL|RAIZEN",
         "orientation": "v",
         "showlegend": true,
         "type": "scatter",
         "x": [
          2526.6
         ],
         "xaxis": "x",
         "y": [
          91.42
         ],
         "yaxis": "y"
        },
        {
         "customdata": [
          [
           170,
           35,
           52.11,
           90.14,
           7.73,
           8.71,
           "CONSUMIDOR FINAL"
          ]
         ],
         "hovertemplate": "id=ABC Sistema de Transporte SPE S.A|2023-09-01|CONSUMIDOR FINAL|RAIZEN<br>Volume m³ setembro 2023=%{x}<br>share setembro 2023=%{y}<br>preview_value=%{customdata[0]}<br>preview_value_12=%{customdata[1]}<br>delta_vol=%{customdata[2]}<br>delta_vol_12=%{customdata[3]}<br>preview_share=%{customdata[4]}<br>delta_share_pp=%{customdata[5]}<br>QUALIF_DEST=%{customdata[6]}<extra></extra>",
         "legendgroup": "ABC Sistema de Transporte SPE S.A|2023-09-01|CONSUMIDOR FINAL|RAIZEN",
         "marker": {
          "color": "rgb(141,211,199)",
          "symbol": "circle"
         },
         "mode": "markers",
         "name": "ABC Sistema de Transporte SPE S.A|2023-09-01|CONSUMIDOR FINAL|RAIZEN",
         "orientation": "v",
         "showlegend": true,
         "type": "scatter",
         "x": [
          355
         ],
         "xaxis": "x",
         "y": [
          16.44
         ],
         "yaxis": "y"
        },
        {
         "customdata": [
          [
           5,
           null,
           50,
           null,
           0.48,
           0.63,
           "CONSUMIDOR FINAL"
          ]
         ],
         "hovertemplate": "id=EUCLIDES RENATO GARBUIO TRANSPORTES LTDA|2023-09-01|CONSUMIDOR FINAL|RAIZEN<br>Volume m³ setembro 2023=%{x}<br>share setembro 2023=%{y}<br>preview_value=%{customdata[0]}<br>preview_value_12=%{customdata[1]}<br>delta_vol=%{customdata[2]}<br>delta_vol_12=%{customdata[3]}<br>preview_share=%{customdata[4]}<br>delta_share_pp=%{customdata[5]}<br>QUALIF_DEST=%{customdata[6]}<extra></extra>",
         "legendgroup": "EUCLIDES RENATO GARBUIO TRANSPORTES LTDA|2023-09-01|CONSUMIDOR FINAL|RAIZEN",
         "marker": {
          "color": "rgb(255,255,179)",
          "symbol": "circle"
         },
         "mode": "markers",
         "name": "EUCLIDES RENATO GARBUIO TRANSPORTES LTDA|2023-09-01|CONSUMIDOR FINAL|RAIZEN",
         "orientation": "v",
         "showlegend": true,
         "type": "scatter",
         "x": [
          10
         ],
         "xaxis": "x",
         "y": [
          1.1
         ],
         "yaxis": "y"
        },
        {
         "customdata": [
          [
           450,
           136.5,
           49.94,
           84.82,
           50.28,
           37.6,
           "CONSUMIDOR FINAL"
          ]
         ],
         "hovertemplate": "id=BIOENERGETICA AROEIRA S.A.|2023-09-01|CONSUMIDOR FINAL|RAIZEN<br>Volume m³ setembro 2023=%{x}<br>share setembro 2023=%{y}<br>preview_value=%{customdata[0]}<br>preview_value_12=%{customdata[1]}<br>delta_vol=%{customdata[2]}<br>delta_vol_12=%{customdata[3]}<br>preview_share=%{customdata[4]}<br>delta_share_pp=%{customdata[5]}<br>QUALIF_DEST=%{customdata[6]}<extra></extra>",
         "legendgroup": "BIOENERGETICA AROEIRA S.A.|2023-09-01|CONSUMIDOR FINAL|RAIZEN",
         "marker": {
          "color": "rgb(190,186,218)",
          "symbol": "circle"
         },
         "mode": "markers",
         "name": "BIOENERGETICA AROEIRA S.A.|2023-09-01|CONSUMIDOR FINAL|RAIZEN",
         "orientation": "v",
         "showlegend": true,
         "type": "scatter",
         "x": [
          899
         ],
         "xaxis": "x",
         "y": [
          87.88
         ],
         "yaxis": "y"
        },
        {
         "customdata": [
          [
           265.5,
           418,
           48.04,
           18.2,
           17.2,
           18.9,
           "CONSUMIDOR FINAL"
          ]
         ],
         "hovertemplate": "id=SANTA LUIZA AGROPECUÁRIA LTDA|2023-09-01|CONSUMIDOR FINAL|RAIZEN<br>Volume m³ setembro 2023=%{x}<br>share setembro 2023=%{y}<br>preview_value=%{customdata[0]}<br>preview_value_12=%{customdata[1]}<br>delta_vol=%{customdata[2]}<br>delta_vol_12=%{customdata[3]}<br>preview_share=%{customdata[4]}<br>delta_share_pp=%{customdata[5]}<br>QUALIF_DEST=%{customdata[6]}<extra></extra>",
         "legendgroup": "SANTA LUIZA AGROPECUÁRIA LTDA|2023-09-01|CONSUMIDOR FINAL|RAIZEN",
         "marker": {
          "color": "rgb(251,128,114)",
          "symbol": "circle"
         },
         "mode": "markers",
         "name": "SANTA LUIZA AGROPECUÁRIA LTDA|2023-09-01|CONSUMIDOR FINAL|RAIZEN",
         "orientation": "v",
         "showlegend": true,
         "type": "scatter",
         "x": [
          511
         ],
         "xaxis": "x",
         "y": [
          36.1
         ],
         "yaxis": "y"
        },
        {
         "customdata": [
          [
           765,
           null,
           47.42,
           null,
           42.57,
           35.49,
           "CONSUMIDOR FINAL"
          ]
         ],
         "hovertemplate": "id=VALE DO TIJUCO ACUCAR E ALCOOL S.A.|2023-09-01|CONSUMIDOR FINAL|RAIZEN<br>Volume m³ setembro 2023=%{x}<br>share setembro 2023=%{y}<br>preview_value=%{customdata[0]}<br>preview_value_12=%{customdata[1]}<br>delta_vol=%{customdata[2]}<br>delta_vol_12=%{customdata[3]}<br>preview_share=%{customdata[4]}<br>delta_share_pp=%{customdata[5]}<br>QUALIF_DEST=%{customdata[6]}<extra></extra>",
         "legendgroup": "VALE DO TIJUCO ACUCAR E ALCOOL S.A.|2023-09-01|CONSUMIDOR FINAL|RAIZEN",
         "marker": {
          "color": "rgb(128,177,211)",
          "symbol": "circle"
         },
         "mode": "markers",
         "name": "VALE DO TIJUCO ACUCAR E ALCOOL S.A.|2023-09-01|CONSUMIDOR FINAL|RAIZEN",
         "orientation": "v",
         "showlegend": true,
         "type": "scatter",
         "x": [
          1455
         ],
         "xaxis": "x",
         "y": [
          78.06
         ],
         "yaxis": "y"
        },
        {
         "customdata": [
          [
           255,
           30,
           38.55,
           92.77,
           11.76,
           7.63,
           "CONSUMIDOR FINAL"
          ]
         ],
         "hovertemplate": "id=TORA TRANSPORTES LTDA|2023-09-01|CONSUMIDOR FINAL|RAIZEN<br>Volume m³ setembro 2023=%{x}<br>share setembro 2023=%{y}<br>preview_value=%{customdata[0]}<br>preview_value_12=%{customdata[1]}<br>delta_vol=%{customdata[2]}<br>delta_vol_12=%{customdata[3]}<br>preview_share=%{customdata[4]}<br>delta_share_pp=%{customdata[5]}<br>QUALIF_DEST=%{customdata[6]}<extra></extra>",
         "legendgroup": "TORA TRANSPORTES LTDA|2023-09-01|CONSUMIDOR FINAL|RAIZEN",
         "marker": {
          "color": "rgb(253,180,98)",
          "symbol": "circle"
         },
         "mode": "markers",
         "name": "TORA TRANSPORTES LTDA|2023-09-01|CONSUMIDOR FINAL|RAIZEN",
         "orientation": "v",
         "showlegend": true,
         "type": "scatter",
         "x": [
          415
         ],
         "xaxis": "x",
         "y": [
          19.39
         ],
         "yaxis": "y"
        },
        {
         "customdata": [
          [
           195,
           110,
           33.9,
           62.71,
           9.07,
           7.46,
           "CONSUMIDOR FINAL"
          ]
         ],
         "hovertemplate": "id=TRANSMARONI TRANSPORTES BRASIL RODOVIARIOS LTDA|2023-09-01|CONSUMIDOR FINAL|RAIZEN<br>Volume m³ setembro 2023=%{x}<br>share setembro 2023=%{y}<br>preview_value=%{customdata[0]}<br>preview_value_12=%{customdata[1]}<br>delta_vol=%{customdata[2]}<br>delta_vol_12=%{customdata[3]}<br>preview_share=%{customdata[4]}<br>delta_share_pp=%{customdata[5]}<br>QUALIF_DEST=%{customdata[6]}<extra></extra>",
         "legendgroup": "TRANSMARONI TRANSPORTES BRASIL RODOVIARIOS LTDA|2023-09-01|CONSUMIDOR FINAL|RAIZEN",
         "marker": {
          "color": "rgb(179,222,105)",
          "symbol": "circle"
         },
         "mode": "markers",
         "name": "TRANSMARONI TRANSPORTES BRASIL RODOVIARIOS LTDA|2023-09-01|CONSUMIDOR FINAL|RAIZEN",
         "orientation": "v",
         "showlegend": true,
         "type": "scatter",
         "x": [
          295
         ],
         "xaxis": "x",
         "y": [
          16.53
         ],
         "yaxis": "y"
        },
        {
         "customdata": [
          [
           80,
           null,
           33.33,
           null,
           4.82,
           3.69,
           "CONSUMIDOR FINAL"
          ]
         ],
         "hovertemplate": "id=AUTO VIAÇÃO URUBUPUNGA LTDA|2023-09-01|CONSUMIDOR FINAL|RAIZEN<br>Volume m³ setembro 2023=%{x}<br>share setembro 2023=%{y}<br>preview_value=%{customdata[0]}<br>preview_value_12=%{customdata[1]}<br>delta_vol=%{customdata[2]}<br>delta_vol_12=%{customdata[3]}<br>preview_share=%{customdata[4]}<br>delta_share_pp=%{customdata[5]}<br>QUALIF_DEST=%{customdata[6]}<extra></extra>",
         "legendgroup": "AUTO VIAÇÃO URUBUPUNGA LTDA|2023-09-01|CONSUMIDOR FINAL|RAIZEN",
         "marker": {
          "color": "rgb(252,205,229)",
          "symbol": "circle"
         },
         "mode": "markers",
         "name": "AUTO VIAÇÃO URUBUPUNGA LTDA|2023-09-01|CONSUMIDOR FINAL|RAIZEN",
         "orientation": "v",
         "showlegend": true,
         "type": "scatter",
         "x": [
          120
         ],
         "xaxis": "x",
         "y": [
          8.51
         ],
         "yaxis": "y"
        },
        {
         "customdata": [
          [
           1375,
           1251,
           31.08,
           37.29,
           79.43,
           10.63,
           "CONSUMIDOR FINAL"
          ]
         ],
         "hovertemplate": "id=VB TRANSPORTES E TURISMO LTDA|2023-09-01|CONSUMIDOR FINAL|RAIZEN<br>Volume m³ setembro 2023=%{x}<br>share setembro 2023=%{y}<br>preview_value=%{customdata[0]}<br>preview_value_12=%{customdata[1]}<br>delta_vol=%{customdata[2]}<br>delta_vol_12=%{customdata[3]}<br>preview_share=%{customdata[4]}<br>delta_share_pp=%{customdata[5]}<br>QUALIF_DEST=%{customdata[6]}<extra></extra>",
         "legendgroup": "VB TRANSPORTES E TURISMO LTDA|2023-09-01|CONSUMIDOR FINAL|RAIZEN",
         "marker": {
          "color": "rgb(217,217,217)",
          "symbol": "circle"
         },
         "mode": "markers",
         "name": "VB TRANSPORTES E TURISMO LTDA|2023-09-01|CONSUMIDOR FINAL|RAIZEN",
         "orientation": "v",
         "showlegend": true,
         "type": "scatter",
         "x": [
          1995
         ],
         "xaxis": "x",
         "y": [
          90.07
         ],
         "yaxis": "y"
        },
        {
         "customdata": [
          [
           1807,
           1702.3,
           30.19,
           34.23,
           100,
           0,
           "CONSUMIDOR FINAL"
          ]
         ],
         "hovertemplate": "id=RUMO MALHA CENTRAL S.A.|2023-09-01|CONSUMIDOR FINAL|RAIZEN<br>Volume m³ setembro 2023=%{x}<br>share setembro 2023=%{y}<br>preview_value=%{customdata[0]}<br>preview_value_12=%{customdata[1]}<br>delta_vol=%{customdata[2]}<br>delta_vol_12=%{customdata[3]}<br>preview_share=%{customdata[4]}<br>delta_share_pp=%{customdata[5]}<br>QUALIF_DEST=%{customdata[6]}<extra></extra>",
         "legendgroup": "RUMO MALHA CENTRAL S.A.|2023-09-01|CONSUMIDOR FINAL|RAIZEN",
         "marker": {
          "color": "rgb(188,128,189)",
          "symbol": "circle"
         },
         "mode": "markers",
         "name": "RUMO MALHA CENTRAL S.A.|2023-09-01|CONSUMIDOR FINAL|RAIZEN",
         "orientation": "v",
         "showlegend": true,
         "type": "scatter",
         "x": [
          2588.4
         ],
         "xaxis": "x",
         "y": [
          100
         ],
         "yaxis": "y"
        },
        {
         "customdata": [
          [
           1041,
           1300,
           27.96,
           10.03,
           100,
           0,
           "CONSUMIDOR FINAL"
          ]
         ],
         "hovertemplate": "id=TURILESSA LTDA|2023-09-01|CONSUMIDOR FINAL|RAIZEN<br>Volume m³ setembro 2023=%{x}<br>share setembro 2023=%{y}<br>preview_value=%{customdata[0]}<br>preview_value_12=%{customdata[1]}<br>delta_vol=%{customdata[2]}<br>delta_vol_12=%{customdata[3]}<br>preview_share=%{customdata[4]}<br>delta_share_pp=%{customdata[5]}<br>QUALIF_DEST=%{customdata[6]}<extra></extra>",
         "legendgroup": "TURILESSA LTDA|2023-09-01|CONSUMIDOR FINAL|RAIZEN",
         "marker": {
          "color": "rgb(204,235,197)",
          "symbol": "circle"
         },
         "mode": "markers",
         "name": "TURILESSA LTDA|2023-09-01|CONSUMIDOR FINAL|RAIZEN",
         "orientation": "v",
         "showlegend": true,
         "type": "scatter",
         "x": [
          1445
         ],
         "xaxis": "x",
         "y": [
          100
         ],
         "yaxis": "y"
        },
        {
         "customdata": [
          [
           105,
           265,
           27.84,
           -82.13,
           7.97,
           3.79,
           "CONSUMIDOR FINAL"
          ]
         ],
         "hovertemplate": "id=AGROTERENAS S.A. CANA|2023-09-01|CONSUMIDOR FINAL|RAIZEN<br>Volume m³ setembro 2023=%{x}<br>share setembro 2023=%{y}<br>preview_value=%{customdata[0]}<br>preview_value_12=%{customdata[1]}<br>delta_vol=%{customdata[2]}<br>delta_vol_12=%{customdata[3]}<br>preview_share=%{customdata[4]}<br>delta_share_pp=%{customdata[5]}<br>QUALIF_DEST=%{customdata[6]}<extra></extra>",
         "legendgroup": "AGROTERENAS S.A. CANA|2023-09-01|CONSUMIDOR FINAL|RAIZEN",
         "marker": {
          "color": "rgb(255,237,111)",
          "symbol": "circle"
         },
         "mode": "markers",
         "name": "AGROTERENAS S.A. CANA|2023-09-01|CONSUMIDOR FINAL|RAIZEN",
         "orientation": "v",
         "showlegend": true,
         "type": "scatter",
         "x": [
          145.5
         ],
         "xaxis": "x",
         "y": [
          11.77
         ],
         "yaxis": "y"
        },
        {
         "customdata": [
          [
           820,
           1025,
           23.08,
           3.85,
           55.56,
           12.87,
           "CONSUMIDOR FINAL"
          ]
         ],
         "hovertemplate": "id=TOMBINI & CIAI LTDA|2023-09-01|CONSUMIDOR FINAL|RAIZEN<br>Volume m³ setembro 2023=%{x}<br>share setembro 2023=%{y}<br>preview_value=%{customdata[0]}<br>preview_value_12=%{customdata[1]}<br>delta_vol=%{customdata[2]}<br>delta_vol_12=%{customdata[3]}<br>preview_share=%{customdata[4]}<br>delta_share_pp=%{customdata[5]}<br>QUALIF_DEST=%{customdata[6]}<extra></extra>",
         "legendgroup": "TOMBINI & CIAI LTDA|2023-09-01|CONSUMIDOR FINAL|RAIZEN",
         "marker": {
          "color": "rgb(141,211,199)",
          "symbol": "circle"
         },
         "mode": "markers",
         "name": "TOMBINI & CIAI LTDA|2023-09-01|CONSUMIDOR FINAL|RAIZEN",
         "orientation": "v",
         "showlegend": true,
         "type": "scatter",
         "x": [
          1066
         ],
         "xaxis": "x",
         "y": [
          68.42
         ],
         "yaxis": "y"
        },
        {
         "customdata": [
          [
           1492,
           1664,
           20.57,
           11.42,
           100,
           0,
           "CONSUMIDOR FINAL"
          ]
         ],
         "hovertemplate": "id=USINA CAETE S A|2023-09-01|CONSUMIDOR FINAL|RAIZEN<br>Volume m³ setembro 2023=%{x}<br>share setembro 2023=%{y}<br>preview_value=%{customdata[0]}<br>preview_value_12=%{customdata[1]}<br>delta_vol=%{customdata[2]}<br>delta_vol_12=%{customdata[3]}<br>preview_share=%{customdata[4]}<br>delta_share_pp=%{customdata[5]}<br>QUALIF_DEST=%{customdata[6]}<extra></extra>",
         "legendgroup": "USINA CAETE S A|2023-09-01|CONSUMIDOR FINAL|RAIZEN",
         "marker": {
          "color": "rgb(255,255,179)",
          "symbol": "circle"
         },
         "mode": "markers",
         "name": "USINA CAETE S A|2023-09-01|CONSUMIDOR FINAL|RAIZEN",
         "orientation": "v",
         "showlegend": true,
         "type": "scatter",
         "x": [
          1878.5
         ],
         "xaxis": "x",
         "y": [
          100
         ],
         "yaxis": "y"
        },
        {
         "customdata": [
          [
           555,
           912,
           20.49,
           -30.66,
           78.28,
           5.82,
           "CONSUMIDOR FINAL"
          ]
         ],
         "hovertemplate": "id=RAPIDO LUXO CAMPINAS LTDA|2023-09-01|CONSUMIDOR FINAL|RAIZEN<br>Volume m³ setembro 2023=%{x}<br>share setembro 2023=%{y}<br>preview_value=%{customdata[0]}<br>preview_value_12=%{customdata[1]}<br>delta_vol=%{customdata[2]}<br>delta_vol_12=%{customdata[3]}<br>preview_share=%{customdata[4]}<br>delta_share_pp=%{customdata[5]}<br>QUALIF_DEST=%{customdata[6]}<extra></extra>",
         "legendgroup": "RAPIDO LUXO CAMPINAS LTDA|2023-09-01|CONSUMIDOR FINAL|RAIZEN",
         "marker": {
          "color": "rgb(190,186,218)",
          "symbol": "circle"
         },
         "mode": "markers",
         "name": "RAPIDO LUXO CAMPINAS LTDA|2023-09-01|CONSUMIDOR FINAL|RAIZEN",
         "orientation": "v",
         "showlegend": true,
         "type": "scatter",
         "x": [
          698
         ],
         "xaxis": "x",
         "y": [
          84.1
         ],
         "yaxis": "y"
        },
        {
         "customdata": [
          [
           860,
           780,
           20,
           27.44,
           97.73,
           2.27,
           "CONSUMIDOR FINAL"
          ]
         ],
         "hovertemplate": "id=AUTO NOSSA SENHORA APARECIDA LTDA|2023-09-01|CONSUMIDOR FINAL|RAIZEN<br>Volume m³ setembro 2023=%{x}<br>share setembro 2023=%{y}<br>preview_value=%{customdata[0]}<br>preview_value_12=%{customdata[1]}<br>delta_vol=%{customdata[2]}<br>delta_vol_12=%{customdata[3]}<br>preview_share=%{customdata[4]}<br>delta_share_pp=%{customdata[5]}<br>QUALIF_DEST=%{customdata[6]}<extra></extra>",
         "legendgroup": "AUTO NOSSA SENHORA APARECIDA LTDA|2023-09-01|CONSUMIDOR FINAL|RAIZEN",
         "marker": {
          "color": "rgb(251,128,114)",
          "symbol": "circle"
         },
         "mode": "markers",
         "name": "AUTO NOSSA SENHORA APARECIDA LTDA|2023-09-01|CONSUMIDOR FINAL|RAIZEN",
         "orientation": "v",
         "showlegend": true,
         "type": "scatter",
         "x": [
          1075
         ],
         "xaxis": "x",
         "y": [
          100
         ],
         "yaxis": "y"
        },
        {
         "customdata": [
          [
           644,
           711,
           19.4,
           11.01,
           83.31,
           7.79,
           "CONSUMIDOR FINAL"
          ]
         ],
         "hovertemplate": "id=TRANSPEDROSA LTDA.|2023-09-01|CONSUMIDOR FINAL|RAIZEN<br>Volume m³ setembro 2023=%{x}<br>share setembro 2023=%{y}<br>preview_value=%{customdata[0]}<br>preview_value_12=%{customdata[1]}<br>delta_vol=%{customdata[2]}<br>delta_vol_12=%{customdata[3]}<br>preview_share=%{customdata[4]}<br>delta_share_pp=%{customdata[5]}<br>QUALIF_DEST=%{customdata[6]}<extra></extra>",
         "legendgroup": "TRANSPEDROSA LTDA.|2023-09-01|CONSUMIDOR FINAL|RAIZEN",
         "marker": {
          "color": "rgb(128,177,211)",
          "symbol": "circle"
         },
         "mode": "markers",
         "name": "TRANSPEDROSA LTDA.|2023-09-01|CONSUMIDOR FINAL|RAIZEN",
         "orientation": "v",
         "showlegend": true,
         "type": "scatter",
         "x": [
          799
         ],
         "xaxis": "x",
         "y": [
          91.11
         ],
         "yaxis": "y"
        },
        {
         "customdata": [
          [
           680,
           220,
           19.14,
           73.84,
           58.87,
           13.94,
           "CONSUMIDOR FINAL"
          ]
         ],
         "hovertemplate": "id=COOTRAPAN - COOP. DOS TRANP. DO ESTADO DO PANTANAL|2023-09-01|CONSUMIDOR FINAL|RAIZEN<br>Volume m³ setembro 2023=%{x}<br>share setembro 2023=%{y}<br>preview_value=%{customdata[0]}<br>preview_value_12=%{customdata[1]}<br>delta_vol=%{customdata[2]}<br>delta_vol_12=%{customdata[3]}<br>preview_share=%{customdata[4]}<br>delta_share_pp=%{customdata[5]}<br>QUALIF_DEST=%{customdata[6]}<extra></extra>",
         "legendgroup": "COOTRAPAN - COOP. DOS TRANP. DO ESTADO DO PANTANAL|2023-09-01|CONSUMIDOR FINAL|RAIZEN",
         "marker": {
          "color": "rgb(253,180,98)",
          "symbol": "circle"
         },
         "mode": "markers",
         "name": "COOTRAPAN - COOP. DOS TRANP. DO ESTADO DO PANTANAL|2023-09-01|CONSUMIDOR FINAL|RAIZEN",
         "orientation": "v",
         "showlegend": true,
         "type": "scatter",
         "x": [
          841
         ],
         "xaxis": "x",
         "y": [
          72.81
         ],
         "yaxis": "y"
        },
        {
         "customdata": [
          [
           780,
           720,
           18.88,
           25.12,
           38.59,
           2.95,
           "CONSUMIDOR FINAL"
          ]
         ],
         "hovertemplate": "id=S A USINA CORURIPE ACUCAR E ALCOOL|2023-09-01|CONSUMIDOR FINAL|RAIZEN<br>Volume m³ setembro 2023=%{x}<br>share setembro 2023=%{y}<br>preview_value=%{customdata[0]}<br>preview_value_12=%{customdata[1]}<br>delta_vol=%{customdata[2]}<br>delta_vol_12=%{customdata[3]}<br>preview_share=%{customdata[4]}<br>delta_share_pp=%{customdata[5]}<br>QUALIF_DEST=%{customdata[6]}<extra></extra>",
         "legendgroup": "S A USINA CORURIPE ACUCAR E ALCOOL|2023-09-01|CONSUMIDOR FINAL|RAIZEN",
         "marker": {
          "color": "rgb(179,222,105)",
          "symbol": "circle"
         },
         "mode": "markers",
         "name": "S A USINA CORURIPE ACUCAR E ALCOOL|2023-09-01|CONSUMIDOR FINAL|RAIZEN",
         "orientation": "v",
         "showlegend": true,
         "type": "scatter",
         "x": [
          961.5
         ],
         "xaxis": "x",
         "y": [
          41.54
         ],
         "yaxis": "y"
        },
        {
         "customdata": [
          [
           225,
           40,
           16.67,
           85.19,
           20.36,
           8.06,
           "CONSUMIDOR FINAL"
          ]
         ],
         "hovertemplate": "id=VIX LOGÍSTICA SA|2023-09-01|CONSUMIDOR FINAL|RAIZEN<br>Volume m³ setembro 2023=%{x}<br>share setembro 2023=%{y}<br>preview_value=%{customdata[0]}<br>preview_value_12=%{customdata[1]}<br>delta_vol=%{customdata[2]}<br>delta_vol_12=%{customdata[3]}<br>preview_share=%{customdata[4]}<br>delta_share_pp=%{customdata[5]}<br>QUALIF_DEST=%{customdata[6]}<extra></extra>",
         "legendgroup": "VIX LOGÍSTICA SA|2023-09-01|CONSUMIDOR FINAL|RAIZEN",
         "marker": {
          "color": "rgb(252,205,229)",
          "symbol": "circle"
         },
         "mode": "markers",
         "name": "VIX LOGÍSTICA SA|2023-09-01|CONSUMIDOR FINAL|RAIZEN",
         "orientation": "v",
         "showlegend": true,
         "type": "scatter",
         "x": [
          270
         ],
         "xaxis": "x",
         "y": [
          28.42
         ],
         "yaxis": "y"
        },
        {
         "customdata": [
          [
           1064,
           null,
           15.56,
           null,
           83.42,
           -3.9,
           "CONSUMIDOR FINAL"
          ]
         ],
         "hovertemplate": "id=CENTRAL ENERGÉTICA MORENO DE MONTE APRAZÍVEL AÇÚCAR E ALCÓOL LTDA.|2023-09-01|CONSUMIDOR FINAL|RAIZEN<br>Volume m³ setembro 2023=%{x}<br>share setembro 2023=%{y}<br>preview_value=%{customdata[0]}<br>preview_value_12=%{customdata[1]}<br>delta_vol=%{customdata[2]}<br>delta_vol_12=%{customdata[3]}<br>preview_share=%{customdata[4]}<br>delta_share_pp=%{customdata[5]}<br>QUALIF_DEST=%{customdata[6]}<extra></extra>",
         "legendgroup": "CENTRAL ENERGÉTICA MORENO DE MONTE APRAZÍVEL AÇÚCAR E ALCÓOL LTDA.|2023-09-01|CONSUMIDOR FINAL|RAIZEN",
         "marker": {
          "color": "rgb(217,217,217)",
          "symbol": "circle"
         },
         "mode": "markers",
         "name": "CENTRAL ENERGÉTICA MORENO DE MONTE APRAZÍVEL AÇÚCAR E ALCÓOL LTDA.|2023-09-01|CONSUMIDOR FINAL|RAIZEN",
         "orientation": "v",
         "showlegend": true,
         "type": "scatter",
         "x": [
          1260
         ],
         "xaxis": "x",
         "y": [
          79.52
         ],
         "yaxis": "y"
        },
        {
         "customdata": [
          [
           1292.5,
           1040,
           12.82,
           29.85,
           100,
           0,
           "CONSUMIDOR FINAL"
          ]
         ],
         "hovertemplate": "id=RZ Agrícola Caarapó LTDA.|2023-09-01|CONSUMIDOR FINAL|RAIZEN<br>Volume m³ setembro 2023=%{x}<br>share setembro 2023=%{y}<br>preview_value=%{customdata[0]}<br>preview_value_12=%{customdata[1]}<br>delta_vol=%{customdata[2]}<br>delta_vol_12=%{customdata[3]}<br>preview_share=%{customdata[4]}<br>delta_share_pp=%{customdata[5]}<br>QUALIF_DEST=%{customdata[6]}<extra></extra>",
         "legendgroup": "RZ Agrícola Caarapó LTDA.|2023-09-01|CONSUMIDOR FINAL|RAIZEN",
         "marker": {
          "color": "rgb(188,128,189)",
          "symbol": "circle"
         },
         "mode": "markers",
         "name": "RZ Agrícola Caarapó LTDA.|2023-09-01|CONSUMIDOR FINAL|RAIZEN",
         "orientation": "v",
         "showlegend": true,
         "type": "scatter",
         "x": [
          1482.5
         ],
         "xaxis": "x",
         "y": [
          100
         ],
         "yaxis": "y"
        },
        {
         "customdata": [
          [
           105,
           210,
           12.5,
           -75,
           10.1,
           2.88,
           "CONSUMIDOR FINAL"
          ]
         ],
         "hovertemplate": "id=BERNATRANS TRANSPORTES URBANO S/A|2023-09-01|CONSUMIDOR FINAL|RAIZEN<br>Volume m³ setembro 2023=%{x}<br>share setembro 2023=%{y}<br>preview_value=%{customdata[0]}<br>preview_value_12=%{customdata[1]}<br>delta_vol=%{customdata[2]}<br>delta_vol_12=%{customdata[3]}<br>preview_share=%{customdata[4]}<br>delta_share_pp=%{customdata[5]}<br>QUALIF_DEST=%{customdata[6]}<extra></extra>",
         "legendgroup": "BERNATRANS TRANSPORTES URBANO S/A|2023-09-01|CONSUMIDOR FINAL|RAIZEN",
         "marker": {
          "color": "rgb(204,235,197)",
          "symbol": "circle"
         },
         "mode": "markers",
         "name": "BERNATRANS TRANSPORTES URBANO S/A|2023-09-01|CONSUMIDOR FINAL|RAIZEN",
         "orientation": "v",
         "showlegend": true,
         "type": "scatter",
         "x": [
          120
         ],
         "xaxis": "x",
         "y": [
          12.97
         ],
         "yaxis": "y"
        },
        {
         "customdata": [
          [
           1549.5,
           1663,
           11.78,
           5.32,
           59.44,
           4.33,
           "CONSUMIDOR FINAL"
          ]
         ],
         "hovertemplate": "id=SJC BIOENERGIA LTDA|2023-09-01|CONSUMIDOR FINAL|RAIZEN<br>Volume m³ setembro 2023=%{x}<br>share setembro 2023=%{y}<br>preview_value=%{customdata[0]}<br>preview_value_12=%{customdata[1]}<br>delta_vol=%{customdata[2]}<br>delta_vol_12=%{customdata[3]}<br>preview_share=%{customdata[4]}<br>delta_share_pp=%{customdata[5]}<br>QUALIF_DEST=%{customdata[6]}<extra></extra>",
         "legendgroup": "SJC BIOENERGIA LTDA|2023-09-01|CONSUMIDOR FINAL|RAIZEN",
         "marker": {
          "color": "rgb(255,237,111)",
          "symbol": "circle"
         },
         "mode": "markers",
         "name": "SJC BIOENERGIA LTDA|2023-09-01|CONSUMIDOR FINAL|RAIZEN",
         "orientation": "v",
         "showlegend": true,
         "type": "scatter",
         "x": [
          1756.5
         ],
         "xaxis": "x",
         "y": [
          63.77
         ],
         "yaxis": "y"
        },
        {
         "customdata": [
          [
           770,
           344,
           11.29,
           60.37,
           33.71,
           4.29,
           "CONSUMIDOR FINAL"
          ]
         ],
         "hovertemplate": "id=MobiBrasil Transporte São Paulo Ltda.|2023-09-01|CONSUMIDOR FINAL|RAIZEN<br>Volume m³ setembro 2023=%{x}<br>share setembro 2023=%{y}<br>preview_value=%{customdata[0]}<br>preview_value_12=%{customdata[1]}<br>delta_vol=%{customdata[2]}<br>delta_vol_12=%{customdata[3]}<br>preview_share=%{customdata[4]}<br>delta_share_pp=%{customdata[5]}<br>QUALIF_DEST=%{customdata[6]}<extra></extra>",
         "legendgroup": "MobiBrasil Transporte São Paulo Ltda.|2023-09-01|CONSUMIDOR FINAL|RAIZEN",
         "marker": {
          "color": "rgb(141,211,199)",
          "symbol": "circle"
         },
         "mode": "markers",
         "name": "MobiBrasil Transporte São Paulo Ltda.|2023-09-01|CONSUMIDOR FINAL|RAIZEN",
         "orientation": "v",
         "showlegend": true,
         "type": "scatter",
         "x": [
          868
         ],
         "xaxis": "x",
         "y": [
          38
         ],
         "yaxis": "y"
        },
        {
         "customdata": [
          [
           251,
           null,
           10.04,
           null,
           18.7,
           2.51,
           "CONSUMIDOR FINAL"
          ]
         ],
         "hovertemplate": "id=EMPREENDIMENTOS RODEIRO S/A|2023-09-01|CONSUMIDOR FINAL|RAIZEN<br>Volume m³ setembro 2023=%{x}<br>share setembro 2023=%{y}<br>preview_value=%{customdata[0]}<br>preview_value_12=%{customdata[1]}<br>delta_vol=%{customdata[2]}<br>delta_vol_12=%{customdata[3]}<br>preview_share=%{customdata[4]}<br>delta_share_pp=%{customdata[5]}<br>QUALIF_DEST=%{customdata[6]}<extra></extra>",
         "legendgroup": "EMPREENDIMENTOS RODEIRO S/A|2023-09-01|CONSUMIDOR FINAL|RAIZEN",
         "marker": {
          "color": "rgb(255,255,179)",
          "symbol": "circle"
         },
         "mode": "markers",
         "name": "EMPREENDIMENTOS RODEIRO S/A|2023-09-01|CONSUMIDOR FINAL|RAIZEN",
         "orientation": "v",
         "showlegend": true,
         "type": "scatter",
         "x": [
          279
         ],
         "xaxis": "x",
         "y": [
          21.22
         ],
         "yaxis": "y"
        },
        {
         "customdata": [
          [
           1052,
           791,
           7.64,
           30.55,
           97.68,
           1.45,
           "CONSUMIDOR FINAL"
          ]
         ],
         "hovertemplate": "id=BUDEL TRANSPORTES LTDA|2023-09-01|CONSUMIDOR FINAL|RAIZEN<br>Volume m³ setembro 2023=%{x}<br>share setembro 2023=%{y}<br>preview_value=%{customdata[0]}<br>preview_value_12=%{customdata[1]}<br>delta_vol=%{customdata[2]}<br>delta_vol_12=%{customdata[3]}<br>preview_share=%{customdata[4]}<br>delta_share_pp=%{customdata[5]}<br>QUALIF_DEST=%{customdata[6]}<extra></extra>",
         "legendgroup": "BUDEL TRANSPORTES LTDA|2023-09-01|CONSUMIDOR FINAL|RAIZEN",
         "marker": {
          "color": "rgb(190,186,218)",
          "symbol": "circle"
         },
         "mode": "markers",
         "name": "BUDEL TRANSPORTES LTDA|2023-09-01|CONSUMIDOR FINAL|RAIZEN",
         "orientation": "v",
         "showlegend": true,
         "type": "scatter",
         "x": [
          1139
         ],
         "xaxis": "x",
         "y": [
          99.13
         ],
         "yaxis": "y"
        },
        {
         "customdata": [
          [
           1136,
           894,
           6.12,
           26.12,
           75.53,
           12.02,
           "CONSUMIDOR FINAL"
          ]
         ],
         "hovertemplate": "id=COOPERATIVA DE CONSUMO DOS TRANSP. DE CONTAGEM|2023-09-01|CONSUMIDOR FINAL|RAIZEN<br>Volume m³ setembro 2023=%{x}<br>share setembro 2023=%{y}<br>preview_value=%{customdata[0]}<br>preview_value_12=%{customdata[1]}<br>delta_vol=%{customdata[2]}<br>delta_vol_12=%{customdata[3]}<br>preview_share=%{customdata[4]}<br>delta_share_pp=%{customdata[5]}<br>QUALIF_DEST=%{customdata[6]}<extra></extra>",
         "legendgroup": "COOPERATIVA DE CONSUMO DOS TRANSP. DE CONTAGEM|2023-09-01|CONSUMIDOR FINAL|RAIZEN",
         "marker": {
          "color": "rgb(251,128,114)",
          "symbol": "circle"
         },
         "mode": "markers",
         "name": "COOPERATIVA DE CONSUMO DOS TRANSP. DE CONTAGEM|2023-09-01|CONSUMIDOR FINAL|RAIZEN",
         "orientation": "v",
         "showlegend": true,
         "type": "scatter",
         "x": [
          1210
         ],
         "xaxis": "x",
         "y": [
          87.55
         ],
         "yaxis": "y"
        },
        {
         "customdata": [
          [
           1335.5,
           null,
           5.82,
           null,
           61.12,
           0.37,
           "CONSUMIDOR FINAL"
          ]
         ],
         "hovertemplate": "id=JALLES MACHADO S.A.|2023-09-01|CONSUMIDOR FINAL|RAIZEN<br>Volume m³ setembro 2023=%{x}<br>share setembro 2023=%{y}<br>preview_value=%{customdata[0]}<br>preview_value_12=%{customdata[1]}<br>delta_vol=%{customdata[2]}<br>delta_vol_12=%{customdata[3]}<br>preview_share=%{customdata[4]}<br>delta_share_pp=%{customdata[5]}<br>QUALIF_DEST=%{customdata[6]}<extra></extra>",
         "legendgroup": "JALLES MACHADO S.A.|2023-09-01|CONSUMIDOR FINAL|RAIZEN",
         "marker": {
          "color": "rgb(128,177,211)",
          "symbol": "circle"
         },
         "mode": "markers",
         "name": "JALLES MACHADO S.A.|2023-09-01|CONSUMIDOR FINAL|RAIZEN",
         "orientation": "v",
         "showlegend": true,
         "type": "scatter",
         "x": [
          1418
         ],
         "xaxis": "x",
         "y": [
          61.49
         ],
         "yaxis": "y"
        },
        {
         "customdata": [
          [
           1115,
           355,
           5.39,
           69.88,
           34.62,
           2.25,
           "CONSUMIDOR FINAL"
          ]
         ],
         "hovertemplate": "id=COOPERATIVA DOS TRANSPORTADORES DE AUT E DE CONSUMO DO EST DE MG LTDA-COOPERCEMG|2023-09-01|CONSUMIDOR FINAL|RAIZEN<br>Volume m³ setembro 2023=%{x}<br>share setembro 2023=%{y}<br>preview_value=%{customdata[0]}<br>preview_value_12=%{customdata[1]}<br>delta_vol=%{customdata[2]}<br>delta_vol_12=%{customdata[3]}<br>preview_share=%{customdata[4]}<br>delta_share_pp=%{customdata[5]}<br>QUALIF_DEST=%{customdata[6]}<extra></extra>",
         "legendgroup": "COOPERATIVA DOS TRANSPORTADORES DE AUT E DE CONSUMO DO EST DE MG LTDA-COOPERCEMG|2023-09-01|CONSUMIDOR FINAL|RAIZEN",
         "marker": {
          "color": "rgb(253,180,98)",
          "symbol": "circle"
         },
         "mode": "markers",
         "name": "COOPERATIVA DOS TRANSPORTADORES DE AUT E DE CONSUMO DO EST DE MG LTDA-COOPERCEMG|2023-09-01|CONSUMIDOR FINAL|RAIZEN",
         "orientation": "v",
         "showlegend": true,
         "type": "scatter",
         "x": [
          1178.51
         ],
         "xaxis": "x",
         "y": [
          36.87
         ],
         "yaxis": "y"
        },
        {
         "customdata": [
          [
           570,
           935,
           5,
           -55.83,
           24.97,
           2.77,
           "CONSUMIDOR FINAL"
          ]
         ],
         "hovertemplate": "id=OTIMA TRANSPORTES DE SALVADOR SP/E|2023-09-01|CONSUMIDOR FINAL|RAIZEN<br>Volume m³ setembro 2023=%{x}<br>share setembro 2023=%{y}<br>preview_value=%{customdata[0]}<br>preview_value_12=%{customdata[1]}<br>delta_vol=%{customdata[2]}<br>delta_vol_12=%{customdata[3]}<br>preview_share=%{customdata[4]}<br>delta_share_pp=%{customdata[5]}<br>QUALIF_DEST=%{customdata[6]}<extra></extra>",
         "legendgroup": "OTIMA TRANSPORTES DE SALVADOR SP/E|2023-09-01|CONSUMIDOR FINAL|RAIZEN",
         "marker": {
          "color": "rgb(179,222,105)",
          "symbol": "circle"
         },
         "mode": "markers",
         "name": "OTIMA TRANSPORTES DE SALVADOR SP/E|2023-09-01|CONSUMIDOR FINAL|RAIZEN",
         "orientation": "v",
         "showlegend": true,
         "type": "scatter",
         "x": [
          600
         ],
         "xaxis": "x",
         "y": [
          27.74
         ],
         "yaxis": "y"
        },
        {
         "customdata": [
          [
           1165,
           970,
           4.27,
           20.3,
           100,
           0,
           "CONSUMIDOR FINAL"
          ]
         ],
         "hovertemplate": "id=TRANSPORTES SANTO ANTONIO LTDA|2023-09-01|CONSUMIDOR FINAL|RAIZEN<br>Volume m³ setembro 2023=%{x}<br>share setembro 2023=%{y}<br>preview_value=%{customdata[0]}<br>preview_value_12=%{customdata[1]}<br>delta_vol=%{customdata[2]}<br>delta_vol_12=%{customdata[3]}<br>preview_share=%{customdata[4]}<br>delta_share_pp=%{customdata[5]}<br>QUALIF_DEST=%{customdata[6]}<extra></extra>",
         "legendgroup": "TRANSPORTES SANTO ANTONIO LTDA|2023-09-01|CONSUMIDOR FINAL|RAIZEN",
         "marker": {
          "color": "rgb(252,205,229)",
          "symbol": "circle"
         },
         "mode": "markers",
         "name": "TRANSPORTES SANTO ANTONIO LTDA|2023-09-01|CONSUMIDOR FINAL|RAIZEN",
         "orientation": "v",
         "showlegend": true,
         "type": "scatter",
         "x": [
          1217
         ],
         "xaxis": "x",
         "y": [
          100
         ],
         "yaxis": "y"
        },
        {
         "customdata": [
          [
           1999,
           null,
           2.96,
           null,
           100,
           0,
           "CONSUMIDOR FINAL"
          ]
         ],
         "hovertemplate": "id=COMPANHIA MELHORAMENTOS NORTE DO PARANA|2023-09-01|CONSUMIDOR FINAL|RAIZEN<br>Volume m³ setembro 2023=%{x}<br>share setembro 2023=%{y}<br>preview_value=%{customdata[0]}<br>preview_value_12=%{customdata[1]}<br>delta_vol=%{customdata[2]}<br>delta_vol_12=%{customdata[3]}<br>preview_share=%{customdata[4]}<br>delta_share_pp=%{customdata[5]}<br>QUALIF_DEST=%{customdata[6]}<extra></extra>",
         "legendgroup": "COMPANHIA MELHORAMENTOS NORTE DO PARANA|2023-09-01|CONSUMIDOR FINAL|RAIZEN",
         "marker": {
          "color": "rgb(217,217,217)",
          "symbol": "circle"
         },
         "mode": "markers",
         "name": "COMPANHIA MELHORAMENTOS NORTE DO PARANA|2023-09-01|CONSUMIDOR FINAL|RAIZEN",
         "orientation": "v",
         "showlegend": true,
         "type": "scatter",
         "x": [
          2060
         ],
         "xaxis": "x",
         "y": [
          100
         ],
         "yaxis": "y"
        },
        {
         "customdata": [
          [
           730,
           665,
           2.67,
           11.33,
           83.43,
           13.97,
           "CONSUMIDOR FINAL"
          ]
         ],
         "hovertemplate": "id=TRANSPORTES CAVALINHO LTDA.|2023-09-01|CONSUMIDOR FINAL|RAIZEN<br>Volume m³ setembro 2023=%{x}<br>share setembro 2023=%{y}<br>preview_value=%{customdata[0]}<br>preview_value_12=%{customdata[1]}<br>delta_vol=%{customdata[2]}<br>delta_vol_12=%{customdata[3]}<br>preview_share=%{customdata[4]}<br>delta_share_pp=%{customdata[5]}<br>QUALIF_DEST=%{customdata[6]}<extra></extra>",
         "legendgroup": "TRANSPORTES CAVALINHO LTDA.|2023-09-01|CONSUMIDOR FINAL|RAIZEN",
         "marker": {
          "color": "rgb(188,128,189)",
          "symbol": "circle"
         },
         "mode": "markers",
         "name": "TRANSPORTES CAVALINHO LTDA.|2023-09-01|CONSUMIDOR FINAL|RAIZEN",
         "orientation": "v",
         "showlegend": true,
         "type": "scatter",
         "x": [
          750
         ],
         "xaxis": "x",
         "y": [
          97.4
         ],
         "yaxis": "y"
        },
        {
         "customdata": [
          [
           595,
           220,
           2.46,
           63.93,
           50.42,
           4.04,
           "CONSUMIDOR FINAL"
          ]
         ],
         "hovertemplate": "id=TRANSPORTADORA TURISTICA SUZANO LTDA.|2023-09-01|CONSUMIDOR FINAL|RAIZEN<br>Volume m³ setembro 2023=%{x}<br>share setembro 2023=%{y}<br>preview_value=%{customdata[0]}<br>preview_value_12=%{customdata[1]}<br>delta_vol=%{customdata[2]}<br>delta_vol_12=%{customdata[3]}<br>preview_share=%{customdata[4]}<br>delta_share_pp=%{customdata[5]}<br>QUALIF_DEST=%{customdata[6]}<extra></extra>",
         "legendgroup": "TRANSPORTADORA TURISTICA SUZANO LTDA.|2023-09-01|CONSUMIDOR FINAL|RAIZEN",
         "marker": {
          "color": "rgb(204,235,197)",
          "symbol": "circle"
         },
         "mode": "markers",
         "name": "TRANSPORTADORA TURISTICA SUZANO LTDA.|2023-09-01|CONSUMIDOR FINAL|RAIZEN",
         "orientation": "v",
         "showlegend": true,
         "type": "scatter",
         "x": [
          610
         ],
         "xaxis": "x",
         "y": [
          54.46
         ],
         "yaxis": "y"
        },
        {
         "customdata": [
          [
           890,
           920,
           2.2,
           -1.1,
           79.11,
           5.54,
           "CONSUMIDOR FINAL"
          ]
         ],
         "hovertemplate": "id=Concreserv Concreto S/A|2023-09-01|CONSUMIDOR FINAL|RAIZEN<br>Volume m³ setembro 2023=%{x}<br>share setembro 2023=%{y}<br>preview_value=%{customdata[0]}<br>preview_value_12=%{customdata[1]}<br>delta_vol=%{customdata[2]}<br>delta_vol_12=%{customdata[3]}<br>preview_share=%{customdata[4]}<br>delta_share_pp=%{customdata[5]}<br>QUALIF_DEST=%{customdata[6]}<extra></extra>",
         "legendgroup": "Concreserv Concreto S/A|2023-09-01|CONSUMIDOR FINAL|RAIZEN",
         "marker": {
          "color": "rgb(255,237,111)",
          "symbol": "circle"
         },
         "mode": "markers",
         "name": "Concreserv Concreto S/A|2023-09-01|CONSUMIDOR FINAL|RAIZEN",
         "orientation": "v",
         "showlegend": true,
         "type": "scatter",
         "x": [
          910
         ],
         "xaxis": "x",
         "y": [
          84.65
         ],
         "yaxis": "y"
        },
        {
         "customdata": [
          [
           910,
           930,
           1.62,
           -0.54,
           100,
           0,
           "CONSUMIDOR FINAL"
          ]
         ],
         "hovertemplate": "id=JAMEF TRANSPORTES EIRELI|2023-09-01|CONSUMIDOR FINAL|RAIZEN<br>Volume m³ setembro 2023=%{x}<br>share setembro 2023=%{y}<br>preview_value=%{customdata[0]}<br>preview_value_12=%{customdata[1]}<br>delta_vol=%{customdata[2]}<br>delta_vol_12=%{customdata[3]}<br>preview_share=%{customdata[4]}<br>delta_share_pp=%{customdata[5]}<br>QUALIF_DEST=%{customdata[6]}<extra></extra>",
         "legendgroup": "JAMEF TRANSPORTES EIRELI|2023-09-01|CONSUMIDOR FINAL|RAIZEN",
         "marker": {
          "color": "rgb(141,211,199)",
          "symbol": "circle"
         },
         "mode": "markers",
         "name": "JAMEF TRANSPORTES EIRELI|2023-09-01|CONSUMIDOR FINAL|RAIZEN",
         "orientation": "v",
         "showlegend": true,
         "type": "scatter",
         "x": [
          925
         ],
         "xaxis": "x",
         "y": [
          100
         ],
         "yaxis": "y"
        },
        {
         "customdata": [
          [
           758,
           710,
           1.56,
           7.79,
           94.99,
           3.86,
           "CONSUMIDOR FINAL"
          ]
         ],
         "hovertemplate": "id=TRANSPORTADORA VERONESE LTDA.|2023-09-01|CONSUMIDOR FINAL|RAIZEN<br>Volume m³ setembro 2023=%{x}<br>share setembro 2023=%{y}<br>preview_value=%{customdata[0]}<br>preview_value_12=%{customdata[1]}<br>delta_vol=%{customdata[2]}<br>delta_vol_12=%{customdata[3]}<br>preview_share=%{customdata[4]}<br>delta_share_pp=%{customdata[5]}<br>QUALIF_DEST=%{customdata[6]}<extra></extra>",
         "legendgroup": "TRANSPORTADORA VERONESE LTDA.|2023-09-01|CONSUMIDOR FINAL|RAIZEN",
         "marker": {
          "color": "rgb(255,255,179)",
          "symbol": "circle"
         },
         "mode": "markers",
         "name": "TRANSPORTADORA VERONESE LTDA.|2023-09-01|CONSUMIDOR FINAL|RAIZEN",
         "orientation": "v",
         "showlegend": true,
         "type": "scatter",
         "x": [
          770
         ],
         "xaxis": "x",
         "y": [
          98.84
         ],
         "yaxis": "y"
        },
        {
         "customdata": [
          [
           1455,
           1095,
           0.34,
           25,
           100,
           0,
           "CONSUMIDOR FINAL"
          ]
         ],
         "hovertemplate": "id=Vallourec Tubos do Brasil LTDA|2023-09-01|CONSUMIDOR FINAL|RAIZEN<br>Volume m³ setembro 2023=%{x}<br>share setembro 2023=%{y}<br>preview_value=%{customdata[0]}<br>preview_value_12=%{customdata[1]}<br>delta_vol=%{customdata[2]}<br>delta_vol_12=%{customdata[3]}<br>preview_share=%{customdata[4]}<br>delta_share_pp=%{customdata[5]}<br>QUALIF_DEST=%{customdata[6]}<extra></extra>",
         "legendgroup": "Vallourec Tubos do Brasil LTDA|2023-09-01|CONSUMIDOR FINAL|RAIZEN",
         "marker": {
          "color": "rgb(190,186,218)",
          "symbol": "circle"
         },
         "mode": "markers",
         "name": "Vallourec Tubos do Brasil LTDA|2023-09-01|CONSUMIDOR FINAL|RAIZEN",
         "orientation": "v",
         "showlegend": true,
         "type": "scatter",
         "x": [
          1460
         ],
         "xaxis": "x",
         "y": [
          100
         ],
         "yaxis": "y"
        },
        {
         "customdata": [
          [
           1203.5,
           1093.5,
           0.17,
           9.29,
           100,
           0,
           "CONSUMIDOR FINAL"
          ]
         ],
         "hovertemplate": "id=COOPERATIVA AGR PROD CANA DE CAMPO NOVO DO PARECIS LTDA|2023-09-01|CONSUMIDOR FINAL|RAIZEN<br>Volume m³ setembro 2023=%{x}<br>share setembro 2023=%{y}<br>preview_value=%{customdata[0]}<br>preview_value_12=%{customdata[1]}<br>delta_vol=%{customdata[2]}<br>delta_vol_12=%{customdata[3]}<br>preview_share=%{customdata[4]}<br>delta_share_pp=%{customdata[5]}<br>QUALIF_DEST=%{customdata[6]}<extra></extra>",
         "legendgroup": "COOPERATIVA AGR PROD CANA DE CAMPO NOVO DO PARECIS LTDA|2023-09-01|CONSUMIDOR FINAL|RAIZEN",
         "marker": {
          "color": "rgb(251,128,114)",
          "symbol": "circle"
         },
         "mode": "markers",
         "name": "COOPERATIVA AGR PROD CANA DE CAMPO NOVO DO PARECIS LTDA|2023-09-01|CONSUMIDOR FINAL|RAIZEN",
         "orientation": "v",
         "showlegend": true,
         "type": "scatter",
         "x": [
          1205.5
         ],
         "xaxis": "x",
         "y": [
          100
         ],
         "yaxis": "y"
        },
        {
         "customdata": [
          [
           129,
           5,
           0,
           96.12,
           13.42,
           -0.14,
           "CONSUMIDOR FINAL"
          ]
         ],
         "hovertemplate": "id=TRANSMOB TRANSPORTES LTDA|2023-09-01|CONSUMIDOR FINAL|RAIZEN<br>Volume m³ setembro 2023=%{x}<br>share setembro 2023=%{y}<br>preview_value=%{customdata[0]}<br>preview_value_12=%{customdata[1]}<br>delta_vol=%{customdata[2]}<br>delta_vol_12=%{customdata[3]}<br>preview_share=%{customdata[4]}<br>delta_share_pp=%{customdata[5]}<br>QUALIF_DEST=%{customdata[6]}<extra></extra>",
         "legendgroup": "TRANSMOB TRANSPORTES LTDA|2023-09-01|CONSUMIDOR FINAL|RAIZEN",
         "marker": {
          "color": "rgb(128,177,211)",
          "symbol": "circle"
         },
         "mode": "markers",
         "name": "TRANSMOB TRANSPORTES LTDA|2023-09-01|CONSUMIDOR FINAL|RAIZEN",
         "orientation": "v",
         "showlegend": true,
         "type": "scatter",
         "x": [
          129
         ],
         "xaxis": "x",
         "y": [
          13.29
         ],
         "yaxis": "y"
        },
        {
         "customdata": [
          [
           1077,
           1104,
           -0.09,
           -2.6,
           100,
           0,
           "CONSUMIDOR FINAL"
          ]
         ],
         "hovertemplate": "id=A2 Transportes Ltda|2023-09-01|CONSUMIDOR FINAL|RAIZEN<br>Volume m³ setembro 2023=%{x}<br>share setembro 2023=%{y}<br>preview_value=%{customdata[0]}<br>preview_value_12=%{customdata[1]}<br>delta_vol=%{customdata[2]}<br>delta_vol_12=%{customdata[3]}<br>preview_share=%{customdata[4]}<br>delta_share_pp=%{customdata[5]}<br>QUALIF_DEST=%{customdata[6]}<extra></extra>",
         "legendgroup": "A2 Transportes Ltda|2023-09-01|CONSUMIDOR FINAL|RAIZEN",
         "marker": {
          "color": "rgb(253,180,98)",
          "symbol": "circle"
         },
         "mode": "markers",
         "name": "A2 Transportes Ltda|2023-09-01|CONSUMIDOR FINAL|RAIZEN",
         "orientation": "v",
         "showlegend": true,
         "type": "scatter",
         "x": [
          1076
         ],
         "xaxis": "x",
         "y": [
          100
         ],
         "yaxis": "y"
        },
        {
         "customdata": [
          [
           790,
           670,
           -0.64,
           14.65,
           79.8,
           2.4,
           "CONSUMIDOR FINAL"
          ]
         ],
         "hovertemplate": "id=TRANSPORTES TRANSLOVATO LTDA|2023-09-01|CONSUMIDOR FINAL|RAIZEN<br>Volume m³ setembro 2023=%{x}<br>share setembro 2023=%{y}<br>preview_value=%{customdata[0]}<br>preview_value_12=%{customdata[1]}<br>delta_vol=%{customdata[2]}<br>delta_vol_12=%{customdata[3]}<br>preview_share=%{customdata[4]}<br>delta_share_pp=%{customdata[5]}<br>QUALIF_DEST=%{customdata[6]}<extra></extra>",
         "legendgroup": "TRANSPORTES TRANSLOVATO LTDA|2023-09-01|CONSUMIDOR FINAL|RAIZEN",
         "marker": {
          "color": "rgb(179,222,105)",
          "symbol": "circle"
         },
         "mode": "markers",
         "name": "TRANSPORTES TRANSLOVATO LTDA|2023-09-01|CONSUMIDOR FINAL|RAIZEN",
         "orientation": "v",
         "showlegend": true,
         "type": "scatter",
         "x": [
          785
         ],
         "xaxis": "x",
         "y": [
          82.2
         ],
         "yaxis": "y"
        },
        {
         "customdata": [
          [
           345,
           345,
           -1.47,
           -1.47,
           40.83,
           -1.11,
           "CONSUMIDOR FINAL"
          ]
         ],
         "hovertemplate": "id=FTL Ferrovia Transnordestina Logística S/A|2023-09-01|CONSUMIDOR FINAL|RAIZEN<br>Volume m³ setembro 2023=%{x}<br>share setembro 2023=%{y}<br>preview_value=%{customdata[0]}<br>preview_value_12=%{customdata[1]}<br>delta_vol=%{customdata[2]}<br>delta_vol_12=%{customdata[3]}<br>preview_share=%{customdata[4]}<br>delta_share_pp=%{customdata[5]}<br>QUALIF_DEST=%{customdata[6]}<extra></extra>",
         "legendgroup": "FTL Ferrovia Transnordestina Logística S/A|2023-09-01|CONSUMIDOR FINAL|RAIZEN",
         "marker": {
          "color": "rgb(252,205,229)",
          "symbol": "circle"
         },
         "mode": "markers",
         "name": "FTL Ferrovia Transnordestina Logística S/A|2023-09-01|CONSUMIDOR FINAL|RAIZEN",
         "orientation": "v",
         "showlegend": true,
         "type": "scatter",
         "x": [
          340
         ],
         "xaxis": "x",
         "y": [
          39.72
         ],
         "yaxis": "y"
        },
        {
         "customdata": [
          [
           1262,
           1268.5,
           -1.73,
           -2.26,
           100,
           0,
           "CONSUMIDOR FINAL"
          ]
         ],
         "hovertemplate": "id=GOIASA GOIATUBA ALCOOL LTDA|2023-09-01|CONSUMIDOR FINAL|RAIZEN<br>Volume m³ setembro 2023=%{x}<br>share setembro 2023=%{y}<br>preview_value=%{customdata[0]}<br>preview_value_12=%{customdata[1]}<br>delta_vol=%{customdata[2]}<br>delta_vol_12=%{customdata[3]}<br>preview_share=%{customdata[4]}<br>delta_share_pp=%{customdata[5]}<br>QUALIF_DEST=%{customdata[6]}<extra></extra>",
         "legendgroup": "GOIASA GOIATUBA ALCOOL LTDA|2023-09-01|CONSUMIDOR FINAL|RAIZEN",
         "marker": {
          "color": "rgb(217,217,217)",
          "symbol": "circle"
         },
         "mode": "markers",
         "name": "GOIASA GOIATUBA ALCOOL LTDA|2023-09-01|CONSUMIDOR FINAL|RAIZEN",
         "orientation": "v",
         "showlegend": true,
         "type": "scatter",
         "x": [
          1240.5
         ],
         "xaxis": "x",
         "y": [
          100
         ],
         "yaxis": "y"
        },
        {
         "customdata": [
          [
           1193.81,
           600,
           -2.04,
           48.72,
           100,
           0,
           "CONSUMIDOR FINAL"
          ]
         ],
         "hovertemplate": "id=Pêssego Transportes|2023-09-01|CONSUMIDOR FINAL|RAIZEN<br>Volume m³ setembro 2023=%{x}<br>share setembro 2023=%{y}<br>preview_value=%{customdata[0]}<br>preview_value_12=%{customdata[1]}<br>delta_vol=%{customdata[2]}<br>delta_vol_12=%{customdata[3]}<br>preview_share=%{customdata[4]}<br>delta_share_pp=%{customdata[5]}<br>QUALIF_DEST=%{customdata[6]}<extra></extra>",
         "legendgroup": "Pêssego Transportes|2023-09-01|CONSUMIDOR FINAL|RAIZEN",
         "marker": {
          "color": "rgb(188,128,189)",
          "symbol": "circle"
         },
         "mode": "markers",
         "name": "Pêssego Transportes|2023-09-01|CONSUMIDOR FINAL|RAIZEN",
         "orientation": "v",
         "showlegend": true,
         "type": "scatter",
         "x": [
          1170
         ],
         "xaxis": "x",
         "y": [
          100
         ],
         "yaxis": "y"
        },
        {
         "customdata": [
          [
           1110,
           1010,
           -2.3,
           6.91,
           100,
           0,
           "CONSUMIDOR FINAL"
          ]
         ],
         "hovertemplate": "id=VIAÇÃO REDENTOR LTDA|2023-09-01|CONSUMIDOR FINAL|RAIZEN<br>Volume m³ setembro 2023=%{x}<br>share setembro 2023=%{y}<br>preview_value=%{customdata[0]}<br>preview_value_12=%{customdata[1]}<br>delta_vol=%{customdata[2]}<br>delta_vol_12=%{customdata[3]}<br>preview_share=%{customdata[4]}<br>delta_share_pp=%{customdata[5]}<br>QUALIF_DEST=%{customdata[6]}<extra></extra>",
         "legendgroup": "VIAÇÃO REDENTOR LTDA|2023-09-01|CONSUMIDOR FINAL|RAIZEN",
         "marker": {
          "color": "rgb(204,235,197)",
          "symbol": "circle"
         },
         "mode": "markers",
         "name": "VIAÇÃO REDENTOR LTDA|2023-09-01|CONSUMIDOR FINAL|RAIZEN",
         "orientation": "v",
         "showlegend": true,
         "type": "scatter",
         "x": [
          1085
         ],
         "xaxis": "x",
         "y": [
          100
         ],
         "yaxis": "y"
        },
        {
         "customdata": [
          [
           1355,
           1296,
           -2.5,
           1.97,
           100,
           0,
           "CONSUMIDOR FINAL"
          ]
         ],
         "hovertemplate": "id=SARITUR SANTA RITA TRANSPORTE URBANO E RODOVIARIO LTDA|2023-09-01|CONSUMIDOR FINAL|RAIZEN<br>Volume m³ setembro 2023=%{x}<br>share setembro 2023=%{y}<br>preview_value=%{customdata[0]}<br>preview_value_12=%{customdata[1]}<br>delta_vol=%{customdata[2]}<br>delta_vol_12=%{customdata[3]}<br>preview_share=%{customdata[4]}<br>delta_share_pp=%{customdata[5]}<br>QUALIF_DEST=%{customdata[6]}<extra></extra>",
         "legendgroup": "SARITUR SANTA RITA TRANSPORTE URBANO E RODOVIARIO LTDA|2023-09-01|CONSUMIDOR FINAL|RAIZEN",
         "marker": {
          "color": "rgb(255,237,111)",
          "symbol": "circle"
         },
         "mode": "markers",
         "name": "SARITUR SANTA RITA TRANSPORTE URBANO E RODOVIARIO LTDA|2023-09-01|CONSUMIDOR FINAL|RAIZEN",
         "orientation": "v",
         "showlegend": true,
         "type": "scatter",
         "x": [
          1322
         ],
         "xaxis": "x",
         "y": [
          100
         ],
         "yaxis": "y"
        },
        {
         "customdata": [
          [
           1741.2,
           1482.5,
           -3,
           12.3,
           100,
           -2.59,
           "CONSUMIDOR FINAL"
          ]
         ],
         "hovertemplate": "id=USINA BELA VISTA S/A|2023-09-01|CONSUMIDOR FINAL|RAIZEN<br>Volume m³ setembro 2023=%{x}<br>share setembro 2023=%{y}<br>preview_value=%{customdata[0]}<br>preview_value_12=%{customdata[1]}<br>delta_vol=%{customdata[2]}<br>delta_vol_12=%{customdata[3]}<br>preview_share=%{customdata[4]}<br>delta_share_pp=%{customdata[5]}<br>QUALIF_DEST=%{customdata[6]}<extra></extra>",
         "legendgroup": "USINA BELA VISTA S/A|2023-09-01|CONSUMIDOR FINAL|RAIZEN",
         "marker": {
          "color": "rgb(141,211,199)",
          "symbol": "circle"
         },
         "mode": "markers",
         "name": "USINA BELA VISTA S/A|2023-09-01|CONSUMIDOR FINAL|RAIZEN",
         "orientation": "v",
         "showlegend": true,
         "type": "scatter",
         "x": [
          1690.5
         ],
         "xaxis": "x",
         "y": [
          97.41
         ],
         "yaxis": "y"
        },
        {
         "customdata": [
          [
           1345,
           895,
           -3.07,
           31.42,
           100,
           0,
           "CONSUMIDOR FINAL"
          ]
         ],
         "hovertemplate": "id=EXPRESSO NEPOMUCENO S/A|2023-09-01|CONSUMIDOR FINAL|RAIZEN<br>Volume m³ setembro 2023=%{x}<br>share setembro 2023=%{y}<br>preview_value=%{customdata[0]}<br>preview_value_12=%{customdata[1]}<br>delta_vol=%{customdata[2]}<br>delta_vol_12=%{customdata[3]}<br>preview_share=%{customdata[4]}<br>delta_share_pp=%{customdata[5]}<br>QUALIF_DEST=%{customdata[6]}<extra></extra>",
         "legendgroup": "EXPRESSO NEPOMUCENO S/A|2023-09-01|CONSUMIDOR FINAL|RAIZEN",
         "marker": {
          "color": "rgb(255,255,179)",
          "symbol": "circle"
         },
         "mode": "markers",
         "name": "EXPRESSO NEPOMUCENO S/A|2023-09-01|CONSUMIDOR FINAL|RAIZEN",
         "orientation": "v",
         "showlegend": true,
         "type": "scatter",
         "x": [
          1305
         ],
         "xaxis": "x",
         "y": [
          100
         ],
         "yaxis": "y"
        },
        {
         "customdata": [
          [
           1305,
           1110,
           -3.16,
           12.25,
           100,
           0,
           "CONSUMIDOR FINAL"
          ]
         ],
         "hovertemplate": "id=TRANSPORTES BARRA LTDA|2023-09-01|CONSUMIDOR FINAL|RAIZEN<br>Volume m³ setembro 2023=%{x}<br>share setembro 2023=%{y}<br>preview_value=%{customdata[0]}<br>preview_value_12=%{customdata[1]}<br>delta_vol=%{customdata[2]}<br>delta_vol_12=%{customdata[3]}<br>preview_share=%{customdata[4]}<br>delta_share_pp=%{customdata[5]}<br>QUALIF_DEST=%{customdata[6]}<extra></extra>",
         "legendgroup": "TRANSPORTES BARRA LTDA|2023-09-01|CONSUMIDOR FINAL|RAIZEN",
         "marker": {
          "color": "rgb(190,186,218)",
          "symbol": "circle"
         },
         "mode": "markers",
         "name": "TRANSPORTES BARRA LTDA|2023-09-01|CONSUMIDOR FINAL|RAIZEN",
         "orientation": "v",
         "showlegend": true,
         "type": "scatter",
         "x": [
          1265
         ],
         "xaxis": "x",
         "y": [
          100
         ],
         "yaxis": "y"
        },
        {
         "customdata": [
          [
           487.5,
           471.5,
           -3.28,
           0.11,
           34.13,
           1.15,
           "CONSUMIDOR FINAL"
          ]
         ],
         "hovertemplate": "id=ACUCAREIRA QUATA S/A|2023-09-01|CONSUMIDOR FINAL|RAIZEN<br>Volume m³ setembro 2023=%{x}<br>share setembro 2023=%{y}<br>preview_value=%{customdata[0]}<br>preview_value_12=%{customdata[1]}<br>delta_vol=%{customdata[2]}<br>delta_vol_12=%{customdata[3]}<br>preview_share=%{customdata[4]}<br>delta_share_pp=%{customdata[5]}<br>QUALIF_DEST=%{customdata[6]}<extra></extra>",
         "legendgroup": "ACUCAREIRA QUATA S/A|2023-09-01|CONSUMIDOR FINAL|RAIZEN",
         "marker": {
          "color": "rgb(251,128,114)",
          "symbol": "circle"
         },
         "mode": "markers",
         "name": "ACUCAREIRA QUATA S/A|2023-09-01|CONSUMIDOR FINAL|RAIZEN",
         "orientation": "v",
         "showlegend": true,
         "type": "scatter",
         "x": [
          472
         ],
         "xaxis": "x",
         "y": [
          35.28
         ],
         "yaxis": "y"
        },
        {
         "customdata": [
          [
           2280,
           1466,
           -3.45,
           33.48,
           100,
           0,
           "CONSUMIDOR FINAL"
          ]
         ],
         "hovertemplate": "id=DA MATA S.A. - ACUCAR E ALCOOL|2023-09-01|CONSUMIDOR FINAL|RAIZEN<br>Volume m³ setembro 2023=%{x}<br>share setembro 2023=%{y}<br>preview_value=%{customdata[0]}<br>preview_value_12=%{customdata[1]}<br>delta_vol=%{customdata[2]}<br>delta_vol_12=%{customdata[3]}<br>preview_share=%{customdata[4]}<br>delta_share_pp=%{customdata[5]}<br>QUALIF_DEST=%{customdata[6]}<extra></extra>",
         "legendgroup": "DA MATA S.A. - ACUCAR E ALCOOL|2023-09-01|CONSUMIDOR FINAL|RAIZEN",
         "marker": {
          "color": "rgb(128,177,211)",
          "symbol": "circle"
         },
         "mode": "markers",
         "name": "DA MATA S.A. - ACUCAR E ALCOOL|2023-09-01|CONSUMIDOR FINAL|RAIZEN",
         "orientation": "v",
         "showlegend": true,
         "type": "scatter",
         "x": [
          2204
         ],
         "xaxis": "x",
         "y": [
          100
         ],
         "yaxis": "y"
        },
        {
         "customdata": [
          [
           955,
           545,
           -3.8,
           40.76,
           86.43,
           1.19,
           "CONSUMIDOR FINAL"
          ]
         ],
         "hovertemplate": "id=PATRUS TRANSPORTES URGENTES LTDA|2023-09-01|CONSUMIDOR FINAL|RAIZEN<br>Volume m³ setembro 2023=%{x}<br>share setembro 2023=%{y}<br>preview_value=%{customdata[0]}<br>preview_value_12=%{customdata[1]}<br>delta_vol=%{customdata[2]}<br>delta_vol_12=%{customdata[3]}<br>preview_share=%{customdata[4]}<br>delta_share_pp=%{customdata[5]}<br>QUALIF_DEST=%{customdata[6]}<extra></extra>",
         "legendgroup": "PATRUS TRANSPORTES URGENTES LTDA|2023-09-01|CONSUMIDOR FINAL|RAIZEN",
         "marker": {
          "color": "rgb(253,180,98)",
          "symbol": "circle"
         },
         "mode": "markers",
         "name": "PATRUS TRANSPORTES URGENTES LTDA|2023-09-01|CONSUMIDOR FINAL|RAIZEN",
         "orientation": "v",
         "showlegend": true,
         "type": "scatter",
         "x": [
          920
         ],
         "xaxis": "x",
         "y": [
          87.62
         ],
         "yaxis": "y"
        },
        {
         "customdata": [
          [
           1000,
           946,
           -4.06,
           1.56,
           100,
           0,
           "CONSUMIDOR FINAL"
          ]
         ],
         "hovertemplate": "id=NEXA RECURSOS MINERAIS S/A|2023-09-01|CONSUMIDOR FINAL|RAIZEN<br>Volume m³ setembro 2023=%{x}<br>share setembro 2023=%{y}<br>preview_value=%{customdata[0]}<br>preview_value_12=%{customdata[1]}<br>delta_vol=%{customdata[2]}<br>delta_vol_12=%{customdata[3]}<br>preview_share=%{customdata[4]}<br>delta_share_pp=%{customdata[5]}<br>QUALIF_DEST=%{customdata[6]}<extra></extra>",
         "legendgroup": "NEXA RECURSOS MINERAIS S/A|2023-09-01|CONSUMIDOR FINAL|RAIZEN",
         "marker": {
          "color": "rgb(179,222,105)",
          "symbol": "circle"
         },
         "mode": "markers",
         "name": "NEXA RECURSOS MINERAIS S/A|2023-09-01|CONSUMIDOR FINAL|RAIZEN",
         "orientation": "v",
         "showlegend": true,
         "type": "scatter",
         "x": [
          961
         ],
         "xaxis": "x",
         "y": [
          100
         ],
         "yaxis": "y"
        },
        {
         "customdata": [
          [
           3704.5,
           null,
           -4.37,
           null,
           100,
           0,
           "CONSUMIDOR FINAL"
          ]
         ],
         "hovertemplate": "id=COCAL COMERCIO INDUSTRIA CANAA ACUCAR E ALCOOL LTDA|2023-09-01|CONSUMIDOR FINAL|RAIZEN<br>Volume m³ setembro 2023=%{x}<br>share setembro 2023=%{y}<br>preview_value=%{customdata[0]}<br>preview_value_12=%{customdata[1]}<br>delta_vol=%{customdata[2]}<br>delta_vol_12=%{customdata[3]}<br>preview_share=%{customdata[4]}<br>delta_share_pp=%{customdata[5]}<br>QUALIF_DEST=%{customdata[6]}<extra></extra>",
         "legendgroup": "COCAL COMERCIO INDUSTRIA CANAA ACUCAR E ALCOOL LTDA|2023-09-01|CONSUMIDOR FINAL|RAIZEN",
         "marker": {
          "color": "rgb(252,205,229)",
          "symbol": "circle"
         },
         "mode": "markers",
         "name": "COCAL COMERCIO INDUSTRIA CANAA ACUCAR E ALCOOL LTDA|2023-09-01|CONSUMIDOR FINAL|RAIZEN",
         "orientation": "v",
         "showlegend": true,
         "type": "scatter",
         "x": [
          3549.5
         ],
         "xaxis": "x",
         "y": [
          100
         ],
         "yaxis": "y"
        },
        {
         "customdata": [
          [
           2370,
           2400,
           -4.64,
           -5.96,
           100,
           0,
           "CONSUMIDOR FINAL"
          ]
         ],
         "hovertemplate": "id=VERACEL CELULOSE S.A.|2023-09-01|CONSUMIDOR FINAL|RAIZEN<br>Volume m³ setembro 2023=%{x}<br>share setembro 2023=%{y}<br>preview_value=%{customdata[0]}<br>preview_value_12=%{customdata[1]}<br>delta_vol=%{customdata[2]}<br>delta_vol_12=%{customdata[3]}<br>preview_share=%{customdata[4]}<br>delta_share_pp=%{customdata[5]}<br>QUALIF_DEST=%{customdata[6]}<extra></extra>",
         "legendgroup": "VERACEL CELULOSE S.A.|2023-09-01|CONSUMIDOR FINAL|RAIZEN",
         "marker": {
          "color": "rgb(217,217,217)",
          "symbol": "circle"
         },
         "mode": "markers",
         "name": "VERACEL CELULOSE S.A.|2023-09-01|CONSUMIDOR FINAL|RAIZEN",
         "orientation": "v",
         "showlegend": true,
         "type": "scatter",
         "x": [
          2265
         ],
         "xaxis": "x",
         "y": [
          100
         ],
         "yaxis": "y"
        },
        {
         "customdata": [
          [
           1505,
           1330,
           -4.88,
           7.32,
           100,
           0,
           "CONSUMIDOR FINAL"
          ]
         ],
         "hovertemplate": "id=MOVE BUSS|2023-09-01|CONSUMIDOR FINAL|RAIZEN<br>Volume m³ setembro 2023=%{x}<br>share setembro 2023=%{y}<br>preview_value=%{customdata[0]}<br>preview_value_12=%{customdata[1]}<br>delta_vol=%{customdata[2]}<br>delta_vol_12=%{customdata[3]}<br>preview_share=%{customdata[4]}<br>delta_share_pp=%{customdata[5]}<br>QUALIF_DEST=%{customdata[6]}<extra></extra>",
         "legendgroup": "MOVE BUSS|2023-09-01|CONSUMIDOR FINAL|RAIZEN",
         "marker": {
          "color": "rgb(188,128,189)",
          "symbol": "circle"
         },
         "mode": "markers",
         "name": "MOVE BUSS|2023-09-01|CONSUMIDOR FINAL|RAIZEN",
         "orientation": "v",
         "showlegend": true,
         "type": "scatter",
         "x": [
          1435
         ],
         "xaxis": "x",
         "y": [
          100
         ],
         "yaxis": "y"
        },
        {
         "customdata": [
          [
           1799.5,
           2893,
           -5.23,
           -69.18,
           42.99,
           0.31,
           "CONSUMIDOR FINAL"
          ]
         ],
         "hovertemplate": "id=DELTA SUCROENERGIA S.A.|2023-09-01|CONSUMIDOR FINAL|RAIZEN<br>Volume m³ setembro 2023=%{x}<br>share setembro 2023=%{y}<br>preview_value=%{customdata[0]}<br>preview_value_12=%{customdata[1]}<br>delta_vol=%{customdata[2]}<br>delta_vol_12=%{customdata[3]}<br>preview_share=%{customdata[4]}<br>delta_share_pp=%{customdata[5]}<br>QUALIF_DEST=%{customdata[6]}<extra></extra>",
         "legendgroup": "DELTA SUCROENERGIA S.A.|2023-09-01|CONSUMIDOR FINAL|RAIZEN",
         "marker": {
          "color": "rgb(204,235,197)",
          "symbol": "circle"
         },
         "mode": "markers",
         "name": "DELTA SUCROENERGIA S.A.|2023-09-01|CONSUMIDOR FINAL|RAIZEN",
         "orientation": "v",
         "showlegend": true,
         "type": "scatter",
         "x": [
          1710
         ],
         "xaxis": "x",
         "y": [
          43.3
         ],
         "yaxis": "y"
        },
        {
         "customdata": [
          [
           1220,
           1320,
           -5.99,
           -14.68,
           100,
           0,
           "CONSUMIDOR FINAL"
          ]
         ],
         "hovertemplate": "id=GERDAU AÇOMINAS S/A|2023-09-01|CONSUMIDOR FINAL|RAIZEN<br>Volume m³ setembro 2023=%{x}<br>share setembro 2023=%{y}<br>preview_value=%{customdata[0]}<br>preview_value_12=%{customdata[1]}<br>delta_vol=%{customdata[2]}<br>delta_vol_12=%{customdata[3]}<br>preview_share=%{customdata[4]}<br>delta_share_pp=%{customdata[5]}<br>QUALIF_DEST=%{customdata[6]}<extra></extra>",
         "legendgroup": "GERDAU AÇOMINAS S/A|2023-09-01|CONSUMIDOR FINAL|RAIZEN",
         "marker": {
          "color": "rgb(255,237,111)",
          "symbol": "circle"
         },
         "mode": "markers",
         "name": "GERDAU AÇOMINAS S/A|2023-09-01|CONSUMIDOR FINAL|RAIZEN",
         "orientation": "v",
         "showlegend": true,
         "type": "scatter",
         "x": [
          1151
         ],
         "xaxis": "x",
         "y": [
          100
         ],
         "yaxis": "y"
        },
        {
         "customdata": [
          [
           550,
           380,
           -6.8,
           26.21,
           62.15,
           -0.47,
           "CONSUMIDOR FINAL"
          ]
         ],
         "hovertemplate": "id=GERDAU AÇOS LONGOS S.A|2023-09-01|CONSUMIDOR FINAL|RAIZEN<br>Volume m³ setembro 2023=%{x}<br>share setembro 2023=%{y}<br>preview_value=%{customdata[0]}<br>preview_value_12=%{customdata[1]}<br>delta_vol=%{customdata[2]}<br>delta_vol_12=%{customdata[3]}<br>preview_share=%{customdata[4]}<br>delta_share_pp=%{customdata[5]}<br>QUALIF_DEST=%{customdata[6]}<extra></extra>",
         "legendgroup": "GERDAU AÇOS LONGOS S.A|2023-09-01|CONSUMIDOR FINAL|RAIZEN",
         "marker": {
          "color": "rgb(141,211,199)",
          "symbol": "circle"
         },
         "mode": "markers",
         "name": "GERDAU AÇOS LONGOS S.A|2023-09-01|CONSUMIDOR FINAL|RAIZEN",
         "orientation": "v",
         "showlegend": true,
         "type": "scatter",
         "x": [
          515
         ],
         "xaxis": "x",
         "y": [
          61.68
         ],
         "yaxis": "y"
        },
        {
         "customdata": [
          [
           965,
           null,
           -7.22,
           null,
           100,
           0,
           "CONSUMIDOR FINAL"
          ]
         ],
         "hovertemplate": "id=AUTO VIAÇÃO JABOUR LTDA|2023-09-01|CONSUMIDOR FINAL|RAIZEN<br>Volume m³ setembro 2023=%{x}<br>share setembro 2023=%{y}<br>preview_value=%{customdata[0]}<br>preview_value_12=%{customdata[1]}<br>delta_vol=%{customdata[2]}<br>delta_vol_12=%{customdata[3]}<br>preview_share=%{customdata[4]}<br>delta_share_pp=%{customdata[5]}<br>QUALIF_DEST=%{customdata[6]}<extra></extra>",
         "legendgroup": "AUTO VIAÇÃO JABOUR LTDA|2023-09-01|CONSUMIDOR FINAL|RAIZEN",
         "marker": {
          "color": "rgb(255,255,179)",
          "symbol": "circle"
         },
         "mode": "markers",
         "name": "AUTO VIAÇÃO JABOUR LTDA|2023-09-01|CONSUMIDOR FINAL|RAIZEN",
         "orientation": "v",
         "showlegend": true,
         "type": "scatter",
         "x": [
          900
         ],
         "xaxis": "x",
         "y": [
          100
         ],
         "yaxis": "y"
        },
        {
         "customdata": [
          [
           365,
           355,
           -7.35,
           -4.41,
           41.95,
           1.92,
           "CONSUMIDOR FINAL"
          ]
         ],
         "hovertemplate": "id=VIACAO PIRAJUCARA LTDA|2023-09-01|CONSUMIDOR FINAL|RAIZEN<br>Volume m³ setembro 2023=%{x}<br>share setembro 2023=%{y}<br>preview_value=%{customdata[0]}<br>preview_value_12=%{customdata[1]}<br>delta_vol=%{customdata[2]}<br>delta_vol_12=%{customdata[3]}<br>preview_share=%{customdata[4]}<br>delta_share_pp=%{customdata[5]}<br>QUALIF_DEST=%{customdata[6]}<extra></extra>",
         "legendgroup": "VIACAO PIRAJUCARA LTDA|2023-09-01|CONSUMIDOR FINAL|RAIZEN",
         "marker": {
          "color": "rgb(190,186,218)",
          "symbol": "circle"
         },
         "mode": "markers",
         "name": "VIACAO PIRAJUCARA LTDA|2023-09-01|CONSUMIDOR FINAL|RAIZEN",
         "orientation": "v",
         "showlegend": true,
         "type": "scatter",
         "x": [
          340
         ],
         "xaxis": "x",
         "y": [
          43.87
         ],
         "yaxis": "y"
        },
        {
         "customdata": [
          [
           930,
           855,
           -7.51,
           1.16,
           100,
           0,
           "CONSUMIDOR FINAL"
          ]
         ],
         "hovertemplate": "id=RIO ITA LTDA|2023-09-01|CONSUMIDOR FINAL|RAIZEN<br>Volume m³ setembro 2023=%{x}<br>share setembro 2023=%{y}<br>preview_value=%{customdata[0]}<br>preview_value_12=%{customdata[1]}<br>delta_vol=%{customdata[2]}<br>delta_vol_12=%{customdata[3]}<br>preview_share=%{customdata[4]}<br>delta_share_pp=%{customdata[5]}<br>QUALIF_DEST=%{customdata[6]}<extra></extra>",
         "legendgroup": "RIO ITA LTDA|2023-09-01|CONSUMIDOR FINAL|RAIZEN",
         "marker": {
          "color": "rgb(251,128,114)",
          "symbol": "circle"
         },
         "mode": "markers",
         "name": "RIO ITA LTDA|2023-09-01|CONSUMIDOR FINAL|RAIZEN",
         "orientation": "v",
         "showlegend": true,
         "type": "scatter",
         "x": [
          865
         ],
         "xaxis": "x",
         "y": [
          100
         ],
         "yaxis": "y"
        },
        {
         "customdata": [
          [
           1765,
           250,
           -7.95,
           84.71,
           68.02,
           7.16,
           "CONSUMIDOR FINAL"
          ]
         ],
         "hovertemplate": "id=SANCETUR - SANTA CECÍLIA TURISMO LTDA|2023-09-01|CONSUMIDOR FINAL|RAIZEN<br>Volume m³ setembro 2023=%{x}<br>share setembro 2023=%{y}<br>preview_value=%{customdata[0]}<br>preview_value_12=%{customdata[1]}<br>delta_vol=%{customdata[2]}<br>delta_vol_12=%{customdata[3]}<br>preview_share=%{customdata[4]}<br>delta_share_pp=%{customdata[5]}<br>QUALIF_DEST=%{customdata[6]}<extra></extra>",
         "legendgroup": "SANCETUR - SANTA CECÍLIA TURISMO LTDA|2023-09-01|CONSUMIDOR FINAL|RAIZEN",
         "marker": {
          "color": "rgb(128,177,211)",
          "symbol": "circle"
         },
         "mode": "markers",
         "name": "SANCETUR - SANTA CECÍLIA TURISMO LTDA|2023-09-01|CONSUMIDOR FINAL|RAIZEN",
         "orientation": "v",
         "showlegend": true,
         "type": "scatter",
         "x": [
          1635
         ],
         "xaxis": "x",
         "y": [
          75.17
         ],
         "yaxis": "y"
        },
        {
         "customdata": [
          [
           1665,
           972,
           -9.04,
           36.35,
           96.52,
           -0.3,
           "CONSUMIDOR FINAL"
          ]
         ],
         "hovertemplate": "id=USINA BAZAN SA|2023-09-01|CONSUMIDOR FINAL|RAIZEN<br>Volume m³ setembro 2023=%{x}<br>share setembro 2023=%{y}<br>preview_value=%{customdata[0]}<br>preview_value_12=%{customdata[1]}<br>delta_vol=%{customdata[2]}<br>delta_vol_12=%{customdata[3]}<br>preview_share=%{customdata[4]}<br>delta_share_pp=%{customdata[5]}<br>QUALIF_DEST=%{customdata[6]}<extra></extra>",
         "legendgroup": "USINA BAZAN SA|2023-09-01|CONSUMIDOR FINAL|RAIZEN",
         "marker": {
          "color": "rgb(253,180,98)",
          "symbol": "circle"
         },
         "mode": "markers",
         "name": "USINA BAZAN SA|2023-09-01|CONSUMIDOR FINAL|RAIZEN",
         "orientation": "v",
         "showlegend": true,
         "type": "scatter",
         "x": [
          1527
         ],
         "xaxis": "x",
         "y": [
          96.22
         ],
         "yaxis": "y"
        },
        {
         "customdata": [
          [
           415,
           null,
           -9.93,
           null,
           19.64,
           -1.5,
           "CONSUMIDOR FINAL"
          ]
         ],
         "hovertemplate": "id=USINA SANTA FE S/A.|2023-09-01|CONSUMIDOR FINAL|RAIZEN<br>Volume m³ setembro 2023=%{x}<br>share setembro 2023=%{y}<br>preview_value=%{customdata[0]}<br>preview_value_12=%{customdata[1]}<br>delta_vol=%{customdata[2]}<br>delta_vol_12=%{customdata[3]}<br>preview_share=%{customdata[4]}<br>delta_share_pp=%{customdata[5]}<br>QUALIF_DEST=%{customdata[6]}<extra></extra>",
         "legendgroup": "USINA SANTA FE S/A.|2023-09-01|CONSUMIDOR FINAL|RAIZEN",
         "marker": {
          "color": "rgb(179,222,105)",
          "symbol": "circle"
         },
         "mode": "markers",
         "name": "USINA SANTA FE S/A.|2023-09-01|CONSUMIDOR FINAL|RAIZEN",
         "orientation": "v",
         "showlegend": true,
         "type": "scatter",
         "x": [
          377.5
         ],
         "xaxis": "x",
         "y": [
          18.14
         ],
         "yaxis": "y"
        },
        {
         "customdata": [
          [
           1525,
           1405,
           -10.11,
           -1.44,
           100,
           0,
           "CONSUMIDOR FINAL"
          ]
         ],
         "hovertemplate": "id=TRANSPPASS TRANSPORTE DE PASSAGEIROS LTDA|2023-09-01|CONSUMIDOR FINAL|RAIZEN<br>Volume m³ setembro 2023=%{x}<br>share setembro 2023=%{y}<br>preview_value=%{customdata[0]}<br>preview_value_12=%{customdata[1]}<br>delta_vol=%{customdata[2]}<br>delta_vol_12=%{customdata[3]}<br>preview_share=%{customdata[4]}<br>delta_share_pp=%{customdata[5]}<br>QUALIF_DEST=%{customdata[6]}<extra></extra>",
         "legendgroup": "TRANSPPASS TRANSPORTE DE PASSAGEIROS LTDA|2023-09-01|CONSUMIDOR FINAL|RAIZEN",
         "marker": {
          "color": "rgb(252,205,229)",
          "symbol": "circle"
         },
         "mode": "markers",
         "name": "TRANSPPASS TRANSPORTE DE PASSAGEIROS LTDA|2023-09-01|CONSUMIDOR FINAL|RAIZEN",
         "orientation": "v",
         "showlegend": true,
         "type": "scatter",
         "x": [
          1385
         ],
         "xaxis": "x",
         "y": [
          100
         ],
         "yaxis": "y"
        },
        {
         "customdata": [
          [
           50,
           75,
           -11.11,
           -66.67,
           2.38,
           -0.07,
           "CONSUMIDOR FINAL"
          ]
         ],
         "hovertemplate": "id=TRANSPORTES BERTOLINI LTDA|2023-09-01|CONSUMIDOR FINAL|RAIZEN<br>Volume m³ setembro 2023=%{x}<br>share setembro 2023=%{y}<br>preview_value=%{customdata[0]}<br>preview_value_12=%{customdata[1]}<br>delta_vol=%{customdata[2]}<br>delta_vol_12=%{customdata[3]}<br>preview_share=%{customdata[4]}<br>delta_share_pp=%{customdata[5]}<br>QUALIF_DEST=%{customdata[6]}<extra></extra>",
         "legendgroup": "TRANSPORTES BERTOLINI LTDA|2023-09-01|CONSUMIDOR FINAL|RAIZEN",
         "marker": {
          "color": "rgb(217,217,217)",
          "symbol": "circle"
         },
         "mode": "markers",
         "name": "TRANSPORTES BERTOLINI LTDA|2023-09-01|CONSUMIDOR FINAL|RAIZEN",
         "orientation": "v",
         "showlegend": true,
         "type": "scatter",
         "x": [
          45
         ],
         "xaxis": "x",
         "y": [
          2.31
         ],
         "yaxis": "y"
        },
        {
         "customdata": [
          [
           360,
           384,
           -11.8,
           -19.25,
           40.31,
           4.97,
           "CONSUMIDOR FINAL"
          ]
         ],
         "hovertemplate": "id=BORBOREMA IMPERIAL TRANSPORTES LTDA|2023-09-01|CONSUMIDOR FINAL|RAIZEN<br>Volume m³ setembro 2023=%{x}<br>share setembro 2023=%{y}<br>preview_value=%{customdata[0]}<br>preview_value_12=%{customdata[1]}<br>delta_vol=%{customdata[2]}<br>delta_vol_12=%{customdata[3]}<br>preview_share=%{customdata[4]}<br>delta_share_pp=%{customdata[5]}<br>QUALIF_DEST=%{customdata[6]}<extra></extra>",
         "legendgroup": "BORBOREMA IMPERIAL TRANSPORTES LTDA|2023-09-01|CONSUMIDOR FINAL|RAIZEN",
         "marker": {
          "color": "rgb(188,128,189)",
          "symbol": "circle"
         },
         "mode": "markers",
         "name": "BORBOREMA IMPERIAL TRANSPORTES LTDA|2023-09-01|CONSUMIDOR FINAL|RAIZEN",
         "orientation": "v",
         "showlegend": true,
         "type": "scatter",
         "x": [
          322
         ],
         "xaxis": "x",
         "y": [
          45.29
         ],
         "yaxis": "y"
        },
        {
         "customdata": [
          [
           983,
           825,
           -12.73,
           5.39,
           100,
           0,
           "CONSUMIDOR FINAL"
          ]
         ],
         "hovertemplate": "id=VIAÇÃO NOSSA SENHORA DO AMPARO LTDA|2023-09-01|CONSUMIDOR FINAL|RAIZEN<br>Volume m³ setembro 2023=%{x}<br>share setembro 2023=%{y}<br>preview_value=%{customdata[0]}<br>preview_value_12=%{customdata[1]}<br>delta_vol=%{customdata[2]}<br>delta_vol_12=%{customdata[3]}<br>preview_share=%{customdata[4]}<br>delta_share_pp=%{customdata[5]}<br>QUALIF_DEST=%{customdata[6]}<extra></extra>",
         "legendgroup": "VIAÇÃO NOSSA SENHORA DO AMPARO LTDA|2023-09-01|CONSUMIDOR FINAL|RAIZEN",
         "marker": {
          "color": "rgb(204,235,197)",
          "symbol": "circle"
         },
         "mode": "markers",
         "name": "VIAÇÃO NOSSA SENHORA DO AMPARO LTDA|2023-09-01|CONSUMIDOR FINAL|RAIZEN",
         "orientation": "v",
         "showlegend": true,
         "type": "scatter",
         "x": [
          872
         ],
         "xaxis": "x",
         "y": [
          100
         ],
         "yaxis": "y"
        },
        {
         "customdata": [
          [
           1213.5,
           665.5,
           -16.01,
           36.38,
           96.73,
           -0.59,
           "CONSUMIDOR FINAL"
          ]
         ],
         "hovertemplate": "id=NOVA AMÉRICA S/A - AGRÍCOLA|2023-09-01|CONSUMIDOR FINAL|RAIZEN<br>Volume m³ setembro 2023=%{x}<br>share setembro 2023=%{y}<br>preview_value=%{customdata[0]}<br>preview_value_12=%{customdata[1]}<br>delta_vol=%{customdata[2]}<br>delta_vol_12=%{customdata[3]}<br>preview_share=%{customdata[4]}<br>delta_share_pp=%{customdata[5]}<br>QUALIF_DEST=%{customdata[6]}<extra></extra>",
         "legendgroup": "NOVA AMÉRICA S/A - AGRÍCOLA|2023-09-01|CONSUMIDOR FINAL|RAIZEN",
         "marker": {
          "color": "rgb(255,237,111)",
          "symbol": "circle"
         },
         "mode": "markers",
         "name": "NOVA AMÉRICA S/A - AGRÍCOLA|2023-09-01|CONSUMIDOR FINAL|RAIZEN",
         "orientation": "v",
         "showlegend": true,
         "type": "scatter",
         "x": [
          1046
         ],
         "xaxis": "x",
         "y": [
          96.14
         ],
         "yaxis": "y"
        },
        {
         "customdata": [
          [
           1275,
           515,
           -16.97,
           52.75,
           49.32,
           0.45,
           "CONSUMIDOR FINAL"
          ]
         ],
         "hovertemplate": "id=JSL S/A|2023-09-01|CONSUMIDOR FINAL|RAIZEN<br>Volume m³ setembro 2023=%{x}<br>share setembro 2023=%{y}<br>preview_value=%{customdata[0]}<br>preview_value_12=%{customdata[1]}<br>delta_vol=%{customdata[2]}<br>delta_vol_12=%{customdata[3]}<br>preview_share=%{customdata[4]}<br>delta_share_pp=%{customdata[5]}<br>QUALIF_DEST=%{customdata[6]}<extra></extra>",
         "legendgroup": "JSL S/A|2023-09-01|CONSUMIDOR FINAL|RAIZEN",
         "marker": {
          "color": "rgb(141,211,199)",
          "symbol": "circle"
         },
         "mode": "markers",
         "name": "JSL S/A|2023-09-01|CONSUMIDOR FINAL|RAIZEN",
         "orientation": "v",
         "showlegend": true,
         "type": "scatter",
         "x": [
          1090
         ],
         "xaxis": "x",
         "y": [
          49.77
         ],
         "yaxis": "y"
        },
        {
         "customdata": [
          [
           2036,
           1860,
           -17.28,
           -7.14,
           100,
           0,
           "CONSUMIDOR FINAL"
          ]
         ],
         "hovertemplate": "id=VIAÇÃO PIONEIRA LTDA|2023-09-01|CONSUMIDOR FINAL|RAIZEN<br>Volume m³ setembro 2023=%{x}<br>share setembro 2023=%{y}<br>preview_value=%{customdata[0]}<br>preview_value_12=%{customdata[1]}<br>delta_vol=%{customdata[2]}<br>delta_vol_12=%{customdata[3]}<br>preview_share=%{customdata[4]}<br>delta_share_pp=%{customdata[5]}<br>QUALIF_DEST=%{customdata[6]}<extra></extra>",
         "legendgroup": "VIAÇÃO PIONEIRA LTDA|2023-09-01|CONSUMIDOR FINAL|RAIZEN",
         "marker": {
          "color": "rgb(255,255,179)",
          "symbol": "circle"
         },
         "mode": "markers",
         "name": "VIAÇÃO PIONEIRA LTDA|2023-09-01|CONSUMIDOR FINAL|RAIZEN",
         "orientation": "v",
         "showlegend": true,
         "type": "scatter",
         "x": [
          1736
         ],
         "xaxis": "x",
         "y": [
          100
         ],
         "yaxis": "y"
        },
        {
         "customdata": [
          [
           970,
           415,
           -18.29,
           49.39,
           46.41,
           -5.72,
           "CONSUMIDOR FINAL"
          ]
         ],
         "hovertemplate": "id=NORTE BUSS TRANSPORTES S.A|2023-09-01|CONSUMIDOR FINAL|RAIZEN<br>Volume m³ setembro 2023=%{x}<br>share setembro 2023=%{y}<br>preview_value=%{customdata[0]}<br>preview_value_12=%{customdata[1]}<br>delta_vol=%{customdata[2]}<br>delta_vol_12=%{customdata[3]}<br>preview_share=%{customdata[4]}<br>delta_share_pp=%{customdata[5]}<br>QUALIF_DEST=%{customdata[6]}<extra></extra>",
         "legendgroup": "NORTE BUSS TRANSPORTES S.A|2023-09-01|CONSUMIDOR FINAL|RAIZEN",
         "marker": {
          "color": "rgb(190,186,218)",
          "symbol": "circle"
         },
         "mode": "markers",
         "name": "NORTE BUSS TRANSPORTES S.A|2023-09-01|CONSUMIDOR FINAL|RAIZEN",
         "orientation": "v",
         "showlegend": true,
         "type": "scatter",
         "x": [
          820
         ],
         "xaxis": "x",
         "y": [
          40.69
         ],
         "yaxis": "y"
        },
        {
         "customdata": [
          [
           1545,
           1405,
           -18.39,
           -7.66,
           100,
           0,
           "CONSUMIDOR FINAL"
          ]
         ],
         "hovertemplate": "id=Viação Osasco Ltda|2023-09-01|CONSUMIDOR FINAL|RAIZEN<br>Volume m³ setembro 2023=%{x}<br>share setembro 2023=%{y}<br>preview_value=%{customdata[0]}<br>preview_value_12=%{customdata[1]}<br>delta_vol=%{customdata[2]}<br>delta_vol_12=%{customdata[3]}<br>preview_share=%{customdata[4]}<br>delta_share_pp=%{customdata[5]}<br>QUALIF_DEST=%{customdata[6]}<extra></extra>",
         "legendgroup": "Viação Osasco Ltda|2023-09-01|CONSUMIDOR FINAL|RAIZEN",
         "marker": {
          "color": "rgb(251,128,114)",
          "symbol": "circle"
         },
         "mode": "markers",
         "name": "Viação Osasco Ltda|2023-09-01|CONSUMIDOR FINAL|RAIZEN",
         "orientation": "v",
         "showlegend": true,
         "type": "scatter",
         "x": [
          1305
         ],
         "xaxis": "x",
         "y": [
          100
         ],
         "yaxis": "y"
        },
        {
         "customdata": [
          [
           601,
           398,
           -18.54,
           21.5,
           41.05,
           -1.66,
           "CONSUMIDOR FINAL"
          ]
         ],
         "hovertemplate": "id=VIAÇÃO ÁGUIA BRANCA S/A|2023-09-01|CONSUMIDOR FINAL|RAIZEN<br>Volume m³ setembro 2023=%{x}<br>share setembro 2023=%{y}<br>preview_value=%{customdata[0]}<br>preview_value_12=%{customdata[1]}<br>delta_vol=%{customdata[2]}<br>delta_vol_12=%{customdata[3]}<br>preview_share=%{customdata[4]}<br>delta_share_pp=%{customdata[5]}<br>QUALIF_DEST=%{customdata[6]}<extra></extra>",
         "legendgroup": "VIAÇÃO ÁGUIA BRANCA S/A|2023-09-01|CONSUMIDOR FINAL|RAIZEN",
         "marker": {
          "color": "rgb(128,177,211)",
          "symbol": "circle"
         },
         "mode": "markers",
         "name": "VIAÇÃO ÁGUIA BRANCA S/A|2023-09-01|CONSUMIDOR FINAL|RAIZEN",
         "orientation": "v",
         "showlegend": true,
         "type": "scatter",
         "x": [
          507
         ],
         "xaxis": "x",
         "y": [
          39.39
         ],
         "yaxis": "y"
        },
        {
         "customdata": [
          [
           1495,
           1205,
           -18.56,
           4.44,
           100,
           0,
           "CONSUMIDOR FINAL"
          ]
         ],
         "hovertemplate": "id=RIO CLARO AGROINDUSTRIAL S.A - EM RECUPERACAO JUDICIAL|2023-09-01|CONSUMIDOR FINAL|RAIZEN<br>Volume m³ setembro 2023=%{x}<br>share setembro 2023=%{y}<br>preview_value=%{customdata[0]}<br>preview_value_12=%{customdata[1]}<br>delta_vol=%{customdata[2]}<br>delta_vol_12=%{customdata[3]}<br>preview_share=%{customdata[4]}<br>delta_share_pp=%{customdata[5]}<br>QUALIF_DEST=%{customdata[6]}<extra></extra>",
         "legendgroup": "RIO CLARO AGROINDUSTRIAL S.A - EM RECUPERACAO JUDICIAL|2023-09-01|CONSUMIDOR FINAL|RAIZEN",
         "marker": {
          "color": "rgb(253,180,98)",
          "symbol": "circle"
         },
         "mode": "markers",
         "name": "RIO CLARO AGROINDUSTRIAL S.A - EM RECUPERACAO JUDICIAL|2023-09-01|CONSUMIDOR FINAL|RAIZEN",
         "orientation": "v",
         "showlegend": true,
         "type": "scatter",
         "x": [
          1261
         ],
         "xaxis": "x",
         "y": [
          100
         ],
         "yaxis": "y"
        },
        {
         "customdata": [
          [
           885,
           149.5,
           -20.41,
           79.66,
           86.34,
           -7.48,
           "CONSUMIDOR FINAL"
          ]
         ],
         "hovertemplate": "id=VALE DO PONTAL ACUCAR E ETANOL LTDA.|2023-09-01|CONSUMIDOR FINAL|RAIZEN<br>Volume m³ setembro 2023=%{x}<br>share setembro 2023=%{y}<br>preview_value=%{customdata[0]}<br>preview_value_12=%{customdata[1]}<br>delta_vol=%{customdata[2]}<br>delta_vol_12=%{customdata[3]}<br>preview_share=%{customdata[4]}<br>delta_share_pp=%{customdata[5]}<br>QUALIF_DEST=%{customdata[6]}<extra></extra>",
         "legendgroup": "VALE DO PONTAL ACUCAR E ETANOL LTDA.|2023-09-01|CONSUMIDOR FINAL|RAIZEN",
         "marker": {
          "color": "rgb(179,222,105)",
          "symbol": "circle"
         },
         "mode": "markers",
         "name": "VALE DO PONTAL ACUCAR E ETANOL LTDA.|2023-09-01|CONSUMIDOR FINAL|RAIZEN",
         "orientation": "v",
         "showlegend": true,
         "type": "scatter",
         "x": [
          735
         ],
         "xaxis": "x",
         "y": [
          78.86
         ],
         "yaxis": "y"
        },
        {
         "customdata": [
          [
           1230,
           1003,
           -20.94,
           1.38,
           93.89,
           -14.87,
           "CONSUMIDOR FINAL"
          ]
         ],
         "hovertemplate": "id=TRANSPORTADORA CONTATTO LTDA|2023-09-01|CONSUMIDOR FINAL|RAIZEN<br>Volume m³ setembro 2023=%{x}<br>share setembro 2023=%{y}<br>preview_value=%{customdata[0]}<br>preview_value_12=%{customdata[1]}<br>delta_vol=%{customdata[2]}<br>delta_vol_12=%{customdata[3]}<br>preview_share=%{customdata[4]}<br>delta_share_pp=%{customdata[5]}<br>QUALIF_DEST=%{customdata[6]}<extra></extra>",
         "legendgroup": "TRANSPORTADORA CONTATTO LTDA|2023-09-01|CONSUMIDOR FINAL|RAIZEN",
         "marker": {
          "color": "rgb(252,205,229)",
          "symbol": "circle"
         },
         "mode": "markers",
         "name": "TRANSPORTADORA CONTATTO LTDA|2023-09-01|CONSUMIDOR FINAL|RAIZEN",
         "orientation": "v",
         "showlegend": true,
         "type": "scatter",
         "x": [
          1017
         ],
         "xaxis": "x",
         "y": [
          79.02
         ],
         "yaxis": "y"
        },
        {
         "customdata": [
          [
           522,
           365,
           -21.4,
           15.12,
           53.98,
           -7.74,
           "CONSUMIDOR FINAL"
          ]
         ],
         "hovertemplate": "id=INTERCEMENT BRASIL S.A|2023-09-01|CONSUMIDOR FINAL|RAIZEN<br>Volume m³ setembro 2023=%{x}<br>share setembro 2023=%{y}<br>preview_value=%{customdata[0]}<br>preview_value_12=%{customdata[1]}<br>delta_vol=%{customdata[2]}<br>delta_vol_12=%{customdata[3]}<br>preview_share=%{customdata[4]}<br>delta_share_pp=%{customdata[5]}<br>QUALIF_DEST=%{customdata[6]}<extra></extra>",
         "legendgroup": "INTERCEMENT BRASIL S.A|2023-09-01|CONSUMIDOR FINAL|RAIZEN",
         "marker": {
          "color": "rgb(217,217,217)",
          "symbol": "circle"
         },
         "mode": "markers",
         "name": "INTERCEMENT BRASIL S.A|2023-09-01|CONSUMIDOR FINAL|RAIZEN",
         "orientation": "v",
         "showlegend": true,
         "type": "scatter",
         "x": [
          430
         ],
         "xaxis": "x",
         "y": [
          46.24
         ],
         "yaxis": "y"
        },
        {
         "customdata": [
          [
           2088,
           1380,
           -21.61,
           19.63,
           97.21,
           0.46,
           "CONSUMIDOR FINAL"
          ]
         ],
         "hovertemplate": "id=AGRO ENERGIA SANTA LUZIA S.A. - EM RECUPERACAO JUDICIAL|2023-09-01|CONSUMIDOR FINAL|RAIZEN<br>Volume m³ setembro 2023=%{x}<br>share setembro 2023=%{y}<br>preview_value=%{customdata[0]}<br>preview_value_12=%{customdata[1]}<br>delta_vol=%{customdata[2]}<br>delta_vol_12=%{customdata[3]}<br>preview_share=%{customdata[4]}<br>delta_share_pp=%{customdata[5]}<br>QUALIF_DEST=%{customdata[6]}<extra></extra>",
         "legendgroup": "AGRO ENERGIA SANTA LUZIA S.A. - EM RECUPERACAO JUDICIAL|2023-09-01|CONSUMIDOR FINAL|RAIZEN",
         "marker": {
          "color": "rgb(188,128,189)",
          "symbol": "circle"
         },
         "mode": "markers",
         "name": "AGRO ENERGIA SANTA LUZIA S.A. - EM RECUPERACAO JUDICIAL|2023-09-01|CONSUMIDOR FINAL|RAIZEN",
         "orientation": "v",
         "showlegend": true,
         "type": "scatter",
         "x": [
          1717
         ],
         "xaxis": "x",
         "y": [
          97.67
         ],
         "yaxis": "y"
        },
        {
         "customdata": [
          [
           1080,
           835,
           -23.43,
           4.57,
           76.6,
           -9.55,
           "CONSUMIDOR FINAL"
          ]
         ],
         "hovertemplate": "id=RODONAVES TRANSPORTES E ENCOMENDAS LTDA|2023-09-01|CONSUMIDOR FINAL|RAIZEN<br>Volume m³ setembro 2023=%{x}<br>share setembro 2023=%{y}<br>preview_value=%{customdata[0]}<br>preview_value_12=%{customdata[1]}<br>delta_vol=%{customdata[2]}<br>delta_vol_12=%{customdata[3]}<br>preview_share=%{customdata[4]}<br>delta_share_pp=%{customdata[5]}<br>QUALIF_DEST=%{customdata[6]}<extra></extra>",
         "legendgroup": "RODONAVES TRANSPORTES E ENCOMENDAS LTDA|2023-09-01|CONSUMIDOR FINAL|RAIZEN",
         "marker": {
          "color": "rgb(204,235,197)",
          "symbol": "circle"
         },
         "mode": "markers",
         "name": "RODONAVES TRANSPORTES E ENCOMENDAS LTDA|2023-09-01|CONSUMIDOR FINAL|RAIZEN",
         "orientation": "v",
         "showlegend": true,
         "type": "scatter",
         "x": [
          875
         ],
         "xaxis": "x",
         "y": [
          67.05
         ],
         "yaxis": "y"
        },
        {
         "customdata": [
          [
           130,
           110,
           -23.81,
           -4.76,
           20.02,
           -4.34,
           "CONSUMIDOR FINAL"
          ]
         ],
         "hovertemplate": "id=BBM LOGISTICA S/A|2023-09-01|CONSUMIDOR FINAL|RAIZEN<br>Volume m³ setembro 2023=%{x}<br>share setembro 2023=%{y}<br>preview_value=%{customdata[0]}<br>preview_value_12=%{customdata[1]}<br>delta_vol=%{customdata[2]}<br>delta_vol_12=%{customdata[3]}<br>preview_share=%{customdata[4]}<br>delta_share_pp=%{customdata[5]}<br>QUALIF_DEST=%{customdata[6]}<extra></extra>",
         "legendgroup": "BBM LOGISTICA S/A|2023-09-01|CONSUMIDOR FINAL|RAIZEN",
         "marker": {
          "color": "rgb(255,237,111)",
          "symbol": "circle"
         },
         "mode": "markers",
         "name": "BBM LOGISTICA S/A|2023-09-01|CONSUMIDOR FINAL|RAIZEN",
         "orientation": "v",
         "showlegend": true,
         "type": "scatter",
         "x": [
          105
         ],
         "xaxis": "x",
         "y": [
          15.67
         ],
         "yaxis": "y"
        },
        {
         "customdata": [
          [
           1812.5,
           null,
           -24.27,
           null,
           89.31,
           2.39,
           "CONSUMIDOR FINAL"
          ]
         ],
         "hovertemplate": "id=COPLASA - AÇUCAR E ALCOOL LTDA.|2023-09-01|CONSUMIDOR FINAL|RAIZEN<br>Volume m³ setembro 2023=%{x}<br>share setembro 2023=%{y}<br>preview_value=%{customdata[0]}<br>preview_value_12=%{customdata[1]}<br>delta_vol=%{customdata[2]}<br>delta_vol_12=%{customdata[3]}<br>preview_share=%{customdata[4]}<br>delta_share_pp=%{customdata[5]}<br>QUALIF_DEST=%{customdata[6]}<extra></extra>",
         "legendgroup": "COPLASA - AÇUCAR E ALCOOL LTDA.|2023-09-01|CONSUMIDOR FINAL|RAIZEN",
         "marker": {
          "color": "rgb(141,211,199)",
          "symbol": "circle"
         },
         "mode": "markers",
         "name": "COPLASA - AÇUCAR E ALCOOL LTDA.|2023-09-01|CONSUMIDOR FINAL|RAIZEN",
         "orientation": "v",
         "showlegend": true,
         "type": "scatter",
         "x": [
          1458.5
         ],
         "xaxis": "x",
         "y": [
          91.7
         ],
         "yaxis": "y"
        },
        {
         "customdata": [
          [
           1195,
           1570,
           -32.04,
           -73.48,
           100,
           0,
           "CONSUMIDOR FINAL"
          ]
         ],
         "hovertemplate": "id=ANGLOGOLDASHANTI CÓRREGO DO SÍTIO MINERAÇÃO S/A|2023-09-01|CONSUMIDOR FINAL|RAIZEN<br>Volume m³ setembro 2023=%{x}<br>share setembro 2023=%{y}<br>preview_value=%{customdata[0]}<br>preview_value_12=%{customdata[1]}<br>delta_vol=%{customdata[2]}<br>delta_vol_12=%{customdata[3]}<br>preview_share=%{customdata[4]}<br>delta_share_pp=%{customdata[5]}<br>QUALIF_DEST=%{customdata[6]}<extra></extra>",
         "legendgroup": "ANGLOGOLDASHANTI CÓRREGO DO SÍTIO MINERAÇÃO S/A|2023-09-01|CONSUMIDOR FINAL|RAIZEN",
         "marker": {
          "color": "rgb(255,255,179)",
          "symbol": "circle"
         },
         "mode": "markers",
         "name": "ANGLOGOLDASHANTI CÓRREGO DO SÍTIO MINERAÇÃO S/A|2023-09-01|CONSUMIDOR FINAL|RAIZEN",
         "orientation": "v",
         "showlegend": true,
         "type": "scatter",
         "x": [
          905
         ],
         "xaxis": "x",
         "y": [
          100
         ],
         "yaxis": "y"
        },
        {
         "customdata": [
          [
           40,
           null,
           -33.33,
           null,
           2.2,
           -0.5,
           "CONSUMIDOR FINAL"
          ]
         ],
         "hovertemplate": "id=VIAÇÃO COMETA S/A|2023-09-01|CONSUMIDOR FINAL|RAIZEN<br>Volume m³ setembro 2023=%{x}<br>share setembro 2023=%{y}<br>preview_value=%{customdata[0]}<br>preview_value_12=%{customdata[1]}<br>delta_vol=%{customdata[2]}<br>delta_vol_12=%{customdata[3]}<br>preview_share=%{customdata[4]}<br>delta_share_pp=%{customdata[5]}<br>QUALIF_DEST=%{customdata[6]}<extra></extra>",
         "legendgroup": "VIAÇÃO COMETA S/A|2023-09-01|CONSUMIDOR FINAL|RAIZEN",
         "marker": {
          "color": "rgb(190,186,218)",
          "symbol": "circle"
         },
         "mode": "markers",
         "name": "VIAÇÃO COMETA S/A|2023-09-01|CONSUMIDOR FINAL|RAIZEN",
         "orientation": "v",
         "showlegend": true,
         "type": "scatter",
         "x": [
          30
         ],
         "xaxis": "x",
         "y": [
          1.7
         ],
         "yaxis": "y"
        },
        {
         "customdata": [
          [
           160,
           626.6,
           -33.33,
           -422.17,
           10.26,
           -1.4,
           "CONSUMIDOR FINAL"
          ]
         ],
         "hovertemplate": "id=PARADISO GIOVANELLA TRANSPORTES LTDA|2023-09-01|CONSUMIDOR FINAL|RAIZEN<br>Volume m³ setembro 2023=%{x}<br>share setembro 2023=%{y}<br>preview_value=%{customdata[0]}<br>preview_value_12=%{customdata[1]}<br>delta_vol=%{customdata[2]}<br>delta_vol_12=%{customdata[3]}<br>preview_share=%{customdata[4]}<br>delta_share_pp=%{customdata[5]}<br>QUALIF_DEST=%{customdata[6]}<extra></extra>",
         "legendgroup": "PARADISO GIOVANELLA TRANSPORTES LTDA|2023-09-01|CONSUMIDOR FINAL|RAIZEN",
         "marker": {
          "color": "rgb(251,128,114)",
          "symbol": "circle"
         },
         "mode": "markers",
         "name": "PARADISO GIOVANELLA TRANSPORTES LTDA|2023-09-01|CONSUMIDOR FINAL|RAIZEN",
         "orientation": "v",
         "showlegend": true,
         "type": "scatter",
         "x": [
          120
         ],
         "xaxis": "x",
         "y": [
          8.86
         ],
         "yaxis": "y"
        },
        {
         "customdata": [
          [
           675,
           60,
           -33.66,
           88.12,
           56.72,
           0.66,
           "CONSUMIDOR FINAL"
          ]
         ],
         "hovertemplate": "id=BB TRANSPORTE E TURISMO LTDA|2023-09-01|CONSUMIDOR FINAL|RAIZEN<br>Volume m³ setembro 2023=%{x}<br>share setembro 2023=%{y}<br>preview_value=%{customdata[0]}<br>preview_value_12=%{customdata[1]}<br>delta_vol=%{customdata[2]}<br>delta_vol_12=%{customdata[3]}<br>preview_share=%{customdata[4]}<br>delta_share_pp=%{customdata[5]}<br>QUALIF_DEST=%{customdata[6]}<extra></extra>",
         "legendgroup": "BB TRANSPORTE E TURISMO LTDA|2023-09-01|CONSUMIDOR FINAL|RAIZEN",
         "marker": {
          "color": "rgb(128,177,211)",
          "symbol": "circle"
         },
         "mode": "markers",
         "name": "BB TRANSPORTE E TURISMO LTDA|2023-09-01|CONSUMIDOR FINAL|RAIZEN",
         "orientation": "v",
         "showlegend": true,
         "type": "scatter",
         "x": [
          505
         ],
         "xaxis": "x",
         "y": [
          57.39
         ],
         "yaxis": "y"
        },
        {
         "customdata": [
          [
           825,
           880,
           -34.15,
           -43.09,
           74.32,
           -16.69,
           "CONSUMIDOR FINAL"
          ]
         ],
         "hovertemplate": "id=AUTO VIAÇÃO MARECHAL LTDA|2023-09-01|CONSUMIDOR FINAL|RAIZEN<br>Volume m³ setembro 2023=%{x}<br>share setembro 2023=%{y}<br>preview_value=%{customdata[0]}<br>preview_value_12=%{customdata[1]}<br>delta_vol=%{customdata[2]}<br>delta_vol_12=%{customdata[3]}<br>preview_share=%{customdata[4]}<br>delta_share_pp=%{customdata[5]}<br>QUALIF_DEST=%{customdata[6]}<extra></extra>",
         "legendgroup": "AUTO VIAÇÃO MARECHAL LTDA|2023-09-01|CONSUMIDOR FINAL|RAIZEN",
         "marker": {
          "color": "rgb(253,180,98)",
          "symbol": "circle"
         },
         "mode": "markers",
         "name": "AUTO VIAÇÃO MARECHAL LTDA|2023-09-01|CONSUMIDOR FINAL|RAIZEN",
         "orientation": "v",
         "showlegend": true,
         "type": "scatter",
         "x": [
          615
         ],
         "xaxis": "x",
         "y": [
          57.64
         ],
         "yaxis": "y"
        },
        {
         "customdata": [
          [
           1093,
           null,
           -43.89,
           null,
           86.75,
           -20.3,
           "CONSUMIDOR FINAL"
          ]
         ],
         "hovertemplate": "id=CENTRAL ENERGÉTICA MORENO AÇÚCAR E ÁLCOOL LTDA.|2023-09-01|CONSUMIDOR FINAL|RAIZEN<br>Volume m³ setembro 2023=%{x}<br>share setembro 2023=%{y}<br>preview_value=%{customdata[0]}<br>preview_value_12=%{customdata[1]}<br>delta_vol=%{customdata[2]}<br>delta_vol_12=%{customdata[3]}<br>preview_share=%{customdata[4]}<br>delta_share_pp=%{customdata[5]}<br>QUALIF_DEST=%{customdata[6]}<extra></extra>",
         "legendgroup": "CENTRAL ENERGÉTICA MORENO AÇÚCAR E ÁLCOOL LTDA.|2023-09-01|CONSUMIDOR FINAL|RAIZEN",
         "marker": {
          "color": "rgb(179,222,105)",
          "symbol": "circle"
         },
         "mode": "markers",
         "name": "CENTRAL ENERGÉTICA MORENO AÇÚCAR E ÁLCOOL LTDA.|2023-09-01|CONSUMIDOR FINAL|RAIZEN",
         "orientation": "v",
         "showlegend": true,
         "type": "scatter",
         "x": [
          759.6
         ],
         "xaxis": "x",
         "y": [
          66.45
         ],
         "yaxis": "y"
        },
        {
         "customdata": [
          [
           420,
           null,
           -44.83,
           null,
           30.85,
           -5.9,
           "CONSUMIDOR FINAL"
          ]
         ],
         "hovertemplate": "id=COAMO AGROINDUSTRIAL COOPERATIVA|2023-09-01|CONSUMIDOR FINAL|RAIZEN<br>Volume m³ setembro 2023=%{x}<br>share setembro 2023=%{y}<br>preview_value=%{customdata[0]}<br>preview_value_12=%{customdata[1]}<br>delta_vol=%{customdata[2]}<br>delta_vol_12=%{customdata[3]}<br>preview_share=%{customdata[4]}<br>delta_share_pp=%{customdata[5]}<br>QUALIF_DEST=%{customdata[6]}<extra></extra>",
         "legendgroup": "COAMO AGROINDUSTRIAL COOPERATIVA|2023-09-01|CONSUMIDOR FINAL|RAIZEN",
         "marker": {
          "color": "rgb(252,205,229)",
          "symbol": "circle"
         },
         "mode": "markers",
         "name": "COAMO AGROINDUSTRIAL COOPERATIVA|2023-09-01|CONSUMIDOR FINAL|RAIZEN",
         "orientation": "v",
         "showlegend": true,
         "type": "scatter",
         "x": [
          290
         ],
         "xaxis": "x",
         "y": [
          24.95
         ],
         "yaxis": "y"
        },
        {
         "customdata": [
          [
           555,
           10,
           -46.05,
           97.37,
           50.68,
           -13.43,
           "CONSUMIDOR FINAL"
          ]
         ],
         "hovertemplate": "id=TRANSPANORAMA TRANSPORTES LTDA|2023-09-01|CONSUMIDOR FINAL|RAIZEN<br>Volume m³ setembro 2023=%{x}<br>share setembro 2023=%{y}<br>preview_value=%{customdata[0]}<br>preview_value_12=%{customdata[1]}<br>delta_vol=%{customdata[2]}<br>delta_vol_12=%{customdata[3]}<br>preview_share=%{customdata[4]}<br>delta_share_pp=%{customdata[5]}<br>QUALIF_DEST=%{customdata[6]}<extra></extra>",
         "legendgroup": "TRANSPANORAMA TRANSPORTES LTDA|2023-09-01|CONSUMIDOR FINAL|RAIZEN",
         "marker": {
          "color": "rgb(217,217,217)",
          "symbol": "circle"
         },
         "mode": "markers",
         "name": "TRANSPANORAMA TRANSPORTES LTDA|2023-09-01|CONSUMIDOR FINAL|RAIZEN",
         "orientation": "v",
         "showlegend": true,
         "type": "scatter",
         "x": [
          380
         ],
         "xaxis": "x",
         "y": [
          37.25
         ],
         "yaxis": "y"
        },
        {
         "customdata": [
          [
           1050,
           488,
           -50,
           30.29,
           37.15,
           1.91,
           "CONSUMIDOR FINAL"
          ]
         ],
         "hovertemplate": "id=BJ TRANSPORTADORA E LOGISTICA LTDA|2023-09-01|CONSUMIDOR FINAL|RAIZEN<br>Volume m³ setembro 2023=%{x}<br>share setembro 2023=%{y}<br>preview_value=%{customdata[0]}<br>preview_value_12=%{customdata[1]}<br>delta_vol=%{customdata[2]}<br>delta_vol_12=%{customdata[3]}<br>preview_share=%{customdata[4]}<br>delta_share_pp=%{customdata[5]}<br>QUALIF_DEST=%{customdata[6]}<extra></extra>",
         "legendgroup": "BJ TRANSPORTADORA E LOGISTICA LTDA|2023-09-01|CONSUMIDOR FINAL|RAIZEN",
         "marker": {
          "color": "rgb(188,128,189)",
          "symbol": "circle"
         },
         "mode": "markers",
         "name": "BJ TRANSPORTADORA E LOGISTICA LTDA|2023-09-01|CONSUMIDOR FINAL|RAIZEN",
         "orientation": "v",
         "showlegend": true,
         "type": "scatter",
         "x": [
          700
         ],
         "xaxis": "x",
         "y": [
          39.06
         ],
         "yaxis": "y"
        },
        {
         "customdata": [
          [
           812,
           666,
           -54.37,
           -26.62,
           66.02,
           -20.2,
           "CONSUMIDOR FINAL"
          ]
         ],
         "hovertemplate": "id=Transportes Capellini Ltda|2023-09-01|CONSUMIDOR FINAL|RAIZEN<br>Volume m³ setembro 2023=%{x}<br>share setembro 2023=%{y}<br>preview_value=%{customdata[0]}<br>preview_value_12=%{customdata[1]}<br>delta_vol=%{customdata[2]}<br>delta_vol_12=%{customdata[3]}<br>preview_share=%{customdata[4]}<br>delta_share_pp=%{customdata[5]}<br>QUALIF_DEST=%{customdata[6]}<extra></extra>",
         "legendgroup": "Transportes Capellini Ltda|2023-09-01|CONSUMIDOR FINAL|RAIZEN",
         "marker": {
          "color": "rgb(204,235,197)",
          "symbol": "circle"
         },
         "mode": "markers",
         "name": "Transportes Capellini Ltda|2023-09-01|CONSUMIDOR FINAL|RAIZEN",
         "orientation": "v",
         "showlegend": true,
         "type": "scatter",
         "x": [
          526
         ],
         "xaxis": "x",
         "y": [
          45.82
         ],
         "yaxis": "y"
        },
        {
         "customdata": [
          [
           575,
           105,
           -61.97,
           70.42,
           69.28,
           -26.25,
           "CONSUMIDOR FINAL"
          ]
         ],
         "hovertemplate": "id=Ciclus Ambiental do Brasil S.A.|2023-09-01|CONSUMIDOR FINAL|RAIZEN<br>Volume m³ setembro 2023=%{x}<br>share setembro 2023=%{y}<br>preview_value=%{customdata[0]}<br>preview_value_12=%{customdata[1]}<br>delta_vol=%{customdata[2]}<br>delta_vol_12=%{customdata[3]}<br>preview_share=%{customdata[4]}<br>delta_share_pp=%{customdata[5]}<br>QUALIF_DEST=%{customdata[6]}<extra></extra>",
         "legendgroup": "Ciclus Ambiental do Brasil S.A.|2023-09-01|CONSUMIDOR FINAL|RAIZEN",
         "marker": {
          "color": "rgb(255,237,111)",
          "symbol": "circle"
         },
         "mode": "markers",
         "name": "Ciclus Ambiental do Brasil S.A.|2023-09-01|CONSUMIDOR FINAL|RAIZEN",
         "orientation": "v",
         "showlegend": true,
         "type": "scatter",
         "x": [
          355
         ],
         "xaxis": "x",
         "y": [
          43.03
         ],
         "yaxis": "y"
        },
        {
         "customdata": [
          [
           1020,
           295,
           -63.2,
           52.8,
           89.08,
           -30.12,
           "CONSUMIDOR FINAL"
          ]
         ],
         "hovertemplate": "id=RODOVIARIO MORADA DO SOL LTDA|2023-09-01|CONSUMIDOR FINAL|RAIZEN<br>Volume m³ setembro 2023=%{x}<br>share setembro 2023=%{y}<br>preview_value=%{customdata[0]}<br>preview_value_12=%{customdata[1]}<br>delta_vol=%{customdata[2]}<br>delta_vol_12=%{customdata[3]}<br>preview_share=%{customdata[4]}<br>delta_share_pp=%{customdata[5]}<br>QUALIF_DEST=%{customdata[6]}<extra></extra>",
         "legendgroup": "RODOVIARIO MORADA DO SOL LTDA|2023-09-01|CONSUMIDOR FINAL|RAIZEN",
         "marker": {
          "color": "rgb(141,211,199)",
          "symbol": "circle"
         },
         "mode": "markers",
         "name": "RODOVIARIO MORADA DO SOL LTDA|2023-09-01|CONSUMIDOR FINAL|RAIZEN",
         "orientation": "v",
         "showlegend": true,
         "type": "scatter",
         "x": [
          625
         ],
         "xaxis": "x",
         "y": [
          58.96
         ],
         "yaxis": "y"
        },
        {
         "customdata": [
          [
           1102,
           270,
           -63.26,
           60,
           45.18,
           -21.15,
           "CONSUMIDOR FINAL"
          ]
         ],
         "hovertemplate": "id=TRANSOESTE LOGÍSTICA LTDA|2023-09-01|CONSUMIDOR FINAL|RAIZEN<br>Volume m³ setembro 2023=%{x}<br>share setembro 2023=%{y}<br>preview_value=%{customdata[0]}<br>preview_value_12=%{customdata[1]}<br>delta_vol=%{customdata[2]}<br>delta_vol_12=%{customdata[3]}<br>preview_share=%{customdata[4]}<br>delta_share_pp=%{customdata[5]}<br>QUALIF_DEST=%{customdata[6]}<extra></extra>",
         "legendgroup": "TRANSOESTE LOGÍSTICA LTDA|2023-09-01|CONSUMIDOR FINAL|RAIZEN",
         "marker": {
          "color": "rgb(255,255,179)",
          "symbol": "circle"
         },
         "mode": "markers",
         "name": "TRANSOESTE LOGÍSTICA LTDA|2023-09-01|CONSUMIDOR FINAL|RAIZEN",
         "orientation": "v",
         "showlegend": true,
         "type": "scatter",
         "x": [
          675
         ],
         "xaxis": "x",
         "y": [
          24.03
         ],
         "yaxis": "y"
        },
        {
         "customdata": [
          [
           595,
           460,
           -65.28,
           -27.78,
           55.09,
           -18.91,
           "CONSUMIDOR FINAL"
          ]
         ],
         "hovertemplate": "id=TRANSPORTADORA PRINT LTDA|2023-09-01|CONSUMIDOR FINAL|RAIZEN<br>Volume m³ setembro 2023=%{x}<br>share setembro 2023=%{y}<br>preview_value=%{customdata[0]}<br>preview_value_12=%{customdata[1]}<br>delta_vol=%{customdata[2]}<br>delta_vol_12=%{customdata[3]}<br>preview_share=%{customdata[4]}<br>delta_share_pp=%{customdata[5]}<br>QUALIF_DEST=%{customdata[6]}<extra></extra>",
         "legendgroup": "TRANSPORTADORA PRINT LTDA|2023-09-01|CONSUMIDOR FINAL|RAIZEN",
         "marker": {
          "color": "rgb(190,186,218)",
          "symbol": "circle"
         },
         "mode": "markers",
         "name": "TRANSPORTADORA PRINT LTDA|2023-09-01|CONSUMIDOR FINAL|RAIZEN",
         "orientation": "v",
         "showlegend": true,
         "type": "scatter",
         "x": [
          360
         ],
         "xaxis": "x",
         "y": [
          36.18
         ],
         "yaxis": "y"
        },
        {
         "customdata": [
          [
           1921,
           2460,
           -77.87,
           -127.78,
           88.57,
           -37.96,
           "CONSUMIDOR FINAL"
          ]
         ],
         "hovertemplate": "id=ATLANTIC NICKEL MINERACAO LTDA|2023-09-01|CONSUMIDOR FINAL|RAIZEN<br>Volume m³ setembro 2023=%{x}<br>share setembro 2023=%{y}<br>preview_value=%{customdata[0]}<br>preview_value_12=%{customdata[1]}<br>delta_vol=%{customdata[2]}<br>delta_vol_12=%{customdata[3]}<br>preview_share=%{customdata[4]}<br>delta_share_pp=%{customdata[5]}<br>QUALIF_DEST=%{customdata[6]}<extra></extra>",
         "legendgroup": "ATLANTIC NICKEL MINERACAO LTDA|2023-09-01|CONSUMIDOR FINAL|RAIZEN",
         "marker": {
          "color": "rgb(251,128,114)",
          "symbol": "circle"
         },
         "mode": "markers",
         "name": "ATLANTIC NICKEL MINERACAO LTDA|2023-09-01|CONSUMIDOR FINAL|RAIZEN",
         "orientation": "v",
         "showlegend": true,
         "type": "scatter",
         "x": [
          1080
         ],
         "xaxis": "x",
         "y": [
          50.61
         ],
         "yaxis": "y"
        },
        {
         "customdata": [
          [
           862.5,
           335,
           -79.31,
           30.35,
           80.05,
           -28.1,
           "CONSUMIDOR FINAL"
          ]
         ],
         "hovertemplate": "id=HU TRANSPORTE RODOVIARIO LTDA|2023-09-01|CONSUMIDOR FINAL|RAIZEN<br>Volume m³ setembro 2023=%{x}<br>share setembro 2023=%{y}<br>preview_value=%{customdata[0]}<br>preview_value_12=%{customdata[1]}<br>delta_vol=%{customdata[2]}<br>delta_vol_12=%{customdata[3]}<br>preview_share=%{customdata[4]}<br>delta_share_pp=%{customdata[5]}<br>QUALIF_DEST=%{customdata[6]}<extra></extra>",
         "legendgroup": "HU TRANSPORTE RODOVIARIO LTDA|2023-09-01|CONSUMIDOR FINAL|RAIZEN",
         "marker": {
          "color": "rgb(128,177,211)",
          "symbol": "circle"
         },
         "mode": "markers",
         "name": "HU TRANSPORTE RODOVIARIO LTDA|2023-09-01|CONSUMIDOR FINAL|RAIZEN",
         "orientation": "v",
         "showlegend": true,
         "type": "scatter",
         "x": [
          481
         ],
         "xaxis": "x",
         "y": [
          51.94
         ],
         "yaxis": "y"
        },
        {
         "customdata": [
          [
           88,
           null,
           -100,
           null,
           7.27,
           -3.74,
           "CONSUMIDOR FINAL"
          ]
         ],
         "hovertemplate": "id=CERRADINHO BIOENERGIA S.A.|2023-09-01|CONSUMIDOR FINAL|RAIZEN<br>Volume m³ setembro 2023=%{x}<br>share setembro 2023=%{y}<br>preview_value=%{customdata[0]}<br>preview_value_12=%{customdata[1]}<br>delta_vol=%{customdata[2]}<br>delta_vol_12=%{customdata[3]}<br>preview_share=%{customdata[4]}<br>delta_share_pp=%{customdata[5]}<br>QUALIF_DEST=%{customdata[6]}<extra></extra>",
         "legendgroup": "CERRADINHO BIOENERGIA S.A.|2023-09-01|CONSUMIDOR FINAL|RAIZEN",
         "marker": {
          "color": "rgb(253,180,98)",
          "symbol": "circle"
         },
         "mode": "markers",
         "name": "CERRADINHO BIOENERGIA S.A.|2023-09-01|CONSUMIDOR FINAL|RAIZEN",
         "orientation": "v",
         "showlegend": true,
         "type": "scatter",
         "x": [
          44
         ],
         "xaxis": "x",
         "y": [
          3.53
         ],
         "yaxis": "y"
        },
        {
         "customdata": [
          [
           890,
           580,
           -122.5,
           -45,
           73.25,
           -39.92,
           "CONSUMIDOR FINAL"
          ]
         ],
         "hovertemplate": "id=DGRANEL TRANSPORTES E COMÉRCIO LTDA|2023-09-01|CONSUMIDOR FINAL|RAIZEN<br>Volume m³ setembro 2023=%{x}<br>share setembro 2023=%{y}<br>preview_value=%{customdata[0]}<br>preview_value_12=%{customdata[1]}<br>delta_vol=%{customdata[2]}<br>delta_vol_12=%{customdata[3]}<br>preview_share=%{customdata[4]}<br>delta_share_pp=%{customdata[5]}<br>QUALIF_DEST=%{customdata[6]}<extra></extra>",
         "legendgroup": "DGRANEL TRANSPORTES E COMÉRCIO LTDA|2023-09-01|CONSUMIDOR FINAL|RAIZEN",
         "marker": {
          "color": "rgb(179,222,105)",
          "symbol": "circle"
         },
         "mode": "markers",
         "name": "DGRANEL TRANSPORTES E COMÉRCIO LTDA|2023-09-01|CONSUMIDOR FINAL|RAIZEN",
         "orientation": "v",
         "showlegend": true,
         "type": "scatter",
         "x": [
          400
         ],
         "xaxis": "x",
         "y": [
          33.33
         ],
         "yaxis": "y"
        },
        {
         "customdata": [
          [
           1243.5,
           366.5,
           -124.05,
           33.96,
           96.51,
           -8.13,
           "CONSUMIDOR FINAL"
          ]
         ],
         "hovertemplate": "id=BOM JESUS AGROPECUARIA LTDA EM RECUPERACAO JUDICIAL|2023-09-01|CONSUMIDOR FINAL|RAIZEN<br>Volume m³ setembro 2023=%{x}<br>share setembro 2023=%{y}<br>preview_value=%{customdata[0]}<br>preview_value_12=%{customdata[1]}<br>delta_vol=%{customdata[2]}<br>delta_vol_12=%{customdata[3]}<br>preview_share=%{customdata[4]}<br>delta_share_pp=%{customdata[5]}<br>QUALIF_DEST=%{customdata[6]}<extra></extra>",
         "legendgroup": "BOM JESUS AGROPECUARIA LTDA EM RECUPERACAO JUDICIAL|2023-09-01|CONSUMIDOR FINAL|RAIZEN",
         "marker": {
          "color": "rgb(252,205,229)",
          "symbol": "circle"
         },
         "mode": "markers",
         "name": "BOM JESUS AGROPECUARIA LTDA EM RECUPERACAO JUDICIAL|2023-09-01|CONSUMIDOR FINAL|RAIZEN",
         "orientation": "v",
         "showlegend": true,
         "type": "scatter",
         "x": [
          555
         ],
         "xaxis": "x",
         "y": [
          88.38
         ],
         "yaxis": "y"
        },
        {
         "customdata": [
          [
           1270.5,
           114.5,
           -131.63,
           79.12,
           39.75,
           -9.75,
           "CONSUMIDOR FINAL"
          ]
         ],
         "hovertemplate": "id=SLC Agrícola S.A.|2023-09-01|CONSUMIDOR FINAL|RAIZEN<br>Volume m³ setembro 2023=%{x}<br>share setembro 2023=%{y}<br>preview_value=%{customdata[0]}<br>preview_value_12=%{customdata[1]}<br>delta_vol=%{customdata[2]}<br>delta_vol_12=%{customdata[3]}<br>preview_share=%{customdata[4]}<br>delta_share_pp=%{customdata[5]}<br>QUALIF_DEST=%{customdata[6]}<extra></extra>",
         "legendgroup": "SLC Agrícola S.A.|2023-09-01|CONSUMIDOR FINAL|RAIZEN",
         "marker": {
          "color": "rgb(217,217,217)",
          "symbol": "circle"
         },
         "mode": "markers",
         "name": "SLC Agrícola S.A.|2023-09-01|CONSUMIDOR FINAL|RAIZEN",
         "orientation": "v",
         "showlegend": true,
         "type": "scatter",
         "x": [
          548.5
         ],
         "xaxis": "x",
         "y": [
          30
         ],
         "yaxis": "y"
        },
        {
         "customdata": [
          [
           180,
           105,
           -260,
           -110,
           16.14,
           -11.6,
           "CONSUMIDOR FINAL"
          ]
         ],
         "hovertemplate": "id=VIAÇÃO MIRACATIBA LTDA|2023-09-01|CONSUMIDOR FINAL|RAIZEN<br>Volume m³ setembro 2023=%{x}<br>share setembro 2023=%{y}<br>preview_value=%{customdata[0]}<br>preview_value_12=%{customdata[1]}<br>delta_vol=%{customdata[2]}<br>delta_vol_12=%{customdata[3]}<br>preview_share=%{customdata[4]}<br>delta_share_pp=%{customdata[5]}<br>QUALIF_DEST=%{customdata[6]}<extra></extra>",
         "legendgroup": "VIAÇÃO MIRACATIBA LTDA|2023-09-01|CONSUMIDOR FINAL|RAIZEN",
         "marker": {
          "color": "rgb(188,128,189)",
          "symbol": "circle"
         },
         "mode": "markers",
         "name": "VIAÇÃO MIRACATIBA LTDA|2023-09-01|CONSUMIDOR FINAL|RAIZEN",
         "orientation": "v",
         "showlegend": true,
         "type": "scatter",
         "x": [
          50
         ],
         "xaxis": "x",
         "y": [
          4.55
         ],
         "yaxis": "y"
        },
        {
         "customdata": [
          [
           382,
           224,
           -289.8,
           -128.57,
           46.36,
           -35.08,
           "CONSUMIDOR FINAL"
          ]
         ],
         "hovertemplate": "id=TRANSTODOGAZ - LOCAÇÃO E TRANSPORTE LTDA|2023-09-01|CONSUMIDOR FINAL|RAIZEN<br>Volume m³ setembro 2023=%{x}<br>share setembro 2023=%{y}<br>preview_value=%{customdata[0]}<br>preview_value_12=%{customdata[1]}<br>delta_vol=%{customdata[2]}<br>delta_vol_12=%{customdata[3]}<br>preview_share=%{customdata[4]}<br>delta_share_pp=%{customdata[5]}<br>QUALIF_DEST=%{customdata[6]}<extra></extra>",
         "legendgroup": "TRANSTODOGAZ - LOCAÇÃO E TRANSPORTE LTDA|2023-09-01|CONSUMIDOR FINAL|RAIZEN",
         "marker": {
          "color": "rgb(204,235,197)",
          "symbol": "circle"
         },
         "mode": "markers",
         "name": "TRANSTODOGAZ - LOCAÇÃO E TRANSPORTE LTDA|2023-09-01|CONSUMIDOR FINAL|RAIZEN",
         "orientation": "v",
         "showlegend": true,
         "type": "scatter",
         "x": [
          98
         ],
         "xaxis": "x",
         "y": [
          11.28
         ],
         "yaxis": "y"
        },
        {
         "customdata": [
          [
           125,
           75,
           -525,
           -275,
           14.54,
           -11.99,
           "CONSUMIDOR FINAL"
          ]
         ],
         "hovertemplate": "id=EMPRESA DE TRANSPORTES ANDORINHA S/A|2023-09-01|CONSUMIDOR FINAL|RAIZEN<br>Volume m³ setembro 2023=%{x}<br>share setembro 2023=%{y}<br>preview_value=%{customdata[0]}<br>preview_value_12=%{customdata[1]}<br>delta_vol=%{customdata[2]}<br>delta_vol_12=%{customdata[3]}<br>preview_share=%{customdata[4]}<br>delta_share_pp=%{customdata[5]}<br>QUALIF_DEST=%{customdata[6]}<extra></extra>",
         "legendgroup": "EMPRESA DE TRANSPORTES ANDORINHA S/A|2023-09-01|CONSUMIDOR FINAL|RAIZEN",
         "marker": {
          "color": "rgb(255,237,111)",
          "symbol": "circle"
         },
         "mode": "markers",
         "name": "EMPRESA DE TRANSPORTES ANDORINHA S/A|2023-09-01|CONSUMIDOR FINAL|RAIZEN",
         "orientation": "v",
         "showlegend": true,
         "type": "scatter",
         "x": [
          20
         ],
         "xaxis": "x",
         "y": [
          2.55
         ],
         "yaxis": "y"
        },
        {
         "customdata": [
          [
           165,
           100,
           -1000,
           -566.67,
           8.47,
           -7.72,
           "CONSUMIDOR FINAL"
          ]
         ],
         "hovertemplate": "id=Expresso Guanabara LTDA|2023-09-01|CONSUMIDOR FINAL|RAIZEN<br>Volume m³ setembro 2023=%{x}<br>share setembro 2023=%{y}<br>preview_value=%{customdata[0]}<br>preview_value_12=%{customdata[1]}<br>delta_vol=%{customdata[2]}<br>delta_vol_12=%{customdata[3]}<br>preview_share=%{customdata[4]}<br>delta_share_pp=%{customdata[5]}<br>QUALIF_DEST=%{customdata[6]}<extra></extra>",
         "legendgroup": "Expresso Guanabara LTDA|2023-09-01|CONSUMIDOR FINAL|RAIZEN",
         "marker": {
          "color": "rgb(141,211,199)",
          "symbol": "circle"
         },
         "mode": "markers",
         "name": "Expresso Guanabara LTDA|2023-09-01|CONSUMIDOR FINAL|RAIZEN",
         "orientation": "v",
         "showlegend": true,
         "type": "scatter",
         "x": [
          15
         ],
         "xaxis": "x",
         "y": [
          0.75
         ],
         "yaxis": "y"
        },
        {
         "customdata": [
          [
           494.12,
           132.04,
           -2250.71,
           -528.16,
           64.31,
           -61.17,
           "CONSUMIDOR FINAL"
          ]
         ],
         "hovertemplate": "id=COPELMI MINERAÇÃO LTDA|2023-09-01|CONSUMIDOR FINAL|RAIZEN<br>Volume m³ setembro 2023=%{x}<br>share setembro 2023=%{y}<br>preview_value=%{customdata[0]}<br>preview_value_12=%{customdata[1]}<br>delta_vol=%{customdata[2]}<br>delta_vol_12=%{customdata[3]}<br>preview_share=%{customdata[4]}<br>delta_share_pp=%{customdata[5]}<br>QUALIF_DEST=%{customdata[6]}<extra></extra>",
         "legendgroup": "COPELMI MINERAÇÃO LTDA|2023-09-01|CONSUMIDOR FINAL|RAIZEN",
         "marker": {
          "color": "rgb(255,255,179)",
          "symbol": "circle"
         },
         "mode": "markers",
         "name": "COPELMI MINERAÇÃO LTDA|2023-09-01|CONSUMIDOR FINAL|RAIZEN",
         "orientation": "v",
         "showlegend": true,
         "type": "scatter",
         "x": [
          21.02
         ],
         "xaxis": "x",
         "y": [
          3.15
         ],
         "yaxis": "y"
        }
       ],
       "layout": {
        "annotations": [
         {
          "showarrow": false,
          "text": "Media = 60.57",
          "x": 0,
          "xanchor": "left",
          "xref": "x domain",
          "y": 60.57,
          "yanchor": "bottom",
          "yref": "y"
         },
         {
          "showarrow": false,
          "text": "Mediana = 61.59",
          "x": 1,
          "xanchor": "right",
          "xref": "x domain",
          "y": 61.59,
          "yanchor": "bottom",
          "yref": "y"
         },
         {
          "showarrow": false,
          "text": "Mediana = 809.50",
          "x": 809.5,
          "xanchor": "right",
          "xref": "x",
          "y": 1,
          "yanchor": "top",
          "yref": "y domain"
         },
         {
          "showarrow": false,
          "text": "Media = 874.26",
          "x": 874.26,
          "xanchor": "left",
          "xref": "x",
          "y": 1,
          "yanchor": "top",
          "yref": "y domain"
         }
        ],
        "autosize": false,
        "height": 700,
        "legend": {
         "title": {
          "text": "id"
         },
         "tracegroupgap": 0
        },
        "paper_bgcolor": "#fcfafa",
        "plot_bgcolor": "#fcfafa",
        "shapes": [
         {
          "line": {
           "color": "blue",
           "dash": "dot"
          },
          "type": "line",
          "x0": 0,
          "x1": 1,
          "xref": "x domain",
          "y0": 60.57,
          "y1": 60.57,
          "yref": "y"
         },
         {
          "line": {
           "color": "yellow",
           "dash": "dot"
          },
          "type": "line",
          "x0": 0,
          "x1": 1,
          "xref": "x domain",
          "y0": 61.59,
          "y1": 61.59,
          "yref": "y"
         },
         {
          "line": {
           "color": "blue",
           "dash": "dot"
          },
          "type": "line",
          "x0": 809.5,
          "x1": 809.5,
          "xref": "x",
          "y0": 0,
          "y1": 1,
          "yref": "y domain"
         },
         {
          "line": {
           "color": "yellow",
           "dash": "dot"
          },
          "type": "line",
          "x0": 874.26,
          "x1": 874.26,
          "xref": "x",
          "y0": 0,
          "y1": 1,
          "yref": "y domain"
         }
        ],
        "template": {
         "data": {
          "bar": [
           {
            "error_x": {
             "color": "#2a3f5f"
            },
            "error_y": {
             "color": "#2a3f5f"
            },
            "marker": {
             "line": {
              "color": "#E5ECF6",
              "width": 0.5
             },
             "pattern": {
              "fillmode": "overlay",
              "size": 10,
              "solidity": 0.2
             }
            },
            "type": "bar"
           }
          ],
          "barpolar": [
           {
            "marker": {
             "line": {
              "color": "#E5ECF6",
              "width": 0.5
             },
             "pattern": {
              "fillmode": "overlay",
              "size": 10,
              "solidity": 0.2
             }
            },
            "type": "barpolar"
           }
          ],
          "carpet": [
           {
            "aaxis": {
             "endlinecolor": "#2a3f5f",
             "gridcolor": "white",
             "linecolor": "white",
             "minorgridcolor": "white",
             "startlinecolor": "#2a3f5f"
            },
            "baxis": {
             "endlinecolor": "#2a3f5f",
             "gridcolor": "white",
             "linecolor": "white",
             "minorgridcolor": "white",
             "startlinecolor": "#2a3f5f"
            },
            "type": "carpet"
           }
          ],
          "choropleth": [
           {
            "colorbar": {
             "outlinewidth": 0,
             "ticks": ""
            },
            "type": "choropleth"
           }
          ],
          "contour": [
           {
            "colorbar": {
             "outlinewidth": 0,
             "ticks": ""
            },
            "colorscale": [
             [
              0,
              "#0d0887"
             ],
             [
              0.1111111111111111,
              "#46039f"
             ],
             [
              0.2222222222222222,
              "#7201a8"
             ],
             [
              0.3333333333333333,
              "#9c179e"
             ],
             [
              0.4444444444444444,
              "#bd3786"
             ],
             [
              0.5555555555555556,
              "#d8576b"
             ],
             [
              0.6666666666666666,
              "#ed7953"
             ],
             [
              0.7777777777777778,
              "#fb9f3a"
             ],
             [
              0.8888888888888888,
              "#fdca26"
             ],
             [
              1,
              "#f0f921"
             ]
            ],
            "type": "contour"
           }
          ],
          "contourcarpet": [
           {
            "colorbar": {
             "outlinewidth": 0,
             "ticks": ""
            },
            "type": "contourcarpet"
           }
          ],
          "heatmap": [
           {
            "colorbar": {
             "outlinewidth": 0,
             "ticks": ""
            },
            "colorscale": [
             [
              0,
              "#0d0887"
             ],
             [
              0.1111111111111111,
              "#46039f"
             ],
             [
              0.2222222222222222,
              "#7201a8"
             ],
             [
              0.3333333333333333,
              "#9c179e"
             ],
             [
              0.4444444444444444,
              "#bd3786"
             ],
             [
              0.5555555555555556,
              "#d8576b"
             ],
             [
              0.6666666666666666,
              "#ed7953"
             ],
             [
              0.7777777777777778,
              "#fb9f3a"
             ],
             [
              0.8888888888888888,
              "#fdca26"
             ],
             [
              1,
              "#f0f921"
             ]
            ],
            "type": "heatmap"
           }
          ],
          "heatmapgl": [
           {
            "colorbar": {
             "outlinewidth": 0,
             "ticks": ""
            },
            "colorscale": [
             [
              0,
              "#0d0887"
             ],
             [
              0.1111111111111111,
              "#46039f"
             ],
             [
              0.2222222222222222,
              "#7201a8"
             ],
             [
              0.3333333333333333,
              "#9c179e"
             ],
             [
              0.4444444444444444,
              "#bd3786"
             ],
             [
              0.5555555555555556,
              "#d8576b"
             ],
             [
              0.6666666666666666,
              "#ed7953"
             ],
             [
              0.7777777777777778,
              "#fb9f3a"
             ],
             [
              0.8888888888888888,
              "#fdca26"
             ],
             [
              1,
              "#f0f921"
             ]
            ],
            "type": "heatmapgl"
           }
          ],
          "histogram": [
           {
            "marker": {
             "pattern": {
              "fillmode": "overlay",
              "size": 10,
              "solidity": 0.2
             }
            },
            "type": "histogram"
           }
          ],
          "histogram2d": [
           {
            "colorbar": {
             "outlinewidth": 0,
             "ticks": ""
            },
            "colorscale": [
             [
              0,
              "#0d0887"
             ],
             [
              0.1111111111111111,
              "#46039f"
             ],
             [
              0.2222222222222222,
              "#7201a8"
             ],
             [
              0.3333333333333333,
              "#9c179e"
             ],
             [
              0.4444444444444444,
              "#bd3786"
             ],
             [
              0.5555555555555556,
              "#d8576b"
             ],
             [
              0.6666666666666666,
              "#ed7953"
             ],
             [
              0.7777777777777778,
              "#fb9f3a"
             ],
             [
              0.8888888888888888,
              "#fdca26"
             ],
             [
              1,
              "#f0f921"
             ]
            ],
            "type": "histogram2d"
           }
          ],
          "histogram2dcontour": [
           {
            "colorbar": {
             "outlinewidth": 0,
             "ticks": ""
            },
            "colorscale": [
             [
              0,
              "#0d0887"
             ],
             [
              0.1111111111111111,
              "#46039f"
             ],
             [
              0.2222222222222222,
              "#7201a8"
             ],
             [
              0.3333333333333333,
              "#9c179e"
             ],
             [
              0.4444444444444444,
              "#bd3786"
             ],
             [
              0.5555555555555556,
              "#d8576b"
             ],
             [
              0.6666666666666666,
              "#ed7953"
             ],
             [
              0.7777777777777778,
              "#fb9f3a"
             ],
             [
              0.8888888888888888,
              "#fdca26"
             ],
             [
              1,
              "#f0f921"
             ]
            ],
            "type": "histogram2dcontour"
           }
          ],
          "mesh3d": [
           {
            "colorbar": {
             "outlinewidth": 0,
             "ticks": ""
            },
            "type": "mesh3d"
           }
          ],
          "parcoords": [
           {
            "line": {
             "colorbar": {
              "outlinewidth": 0,
              "ticks": ""
             }
            },
            "type": "parcoords"
           }
          ],
          "pie": [
           {
            "automargin": true,
            "type": "pie"
           }
          ],
          "scatter": [
           {
            "fillpattern": {
             "fillmode": "overlay",
             "size": 10,
             "solidity": 0.2
            },
            "type": "scatter"
           }
          ],
          "scatter3d": [
           {
            "line": {
             "colorbar": {
              "outlinewidth": 0,
              "ticks": ""
             }
            },
            "marker": {
             "colorbar": {
              "outlinewidth": 0,
              "ticks": ""
             }
            },
            "type": "scatter3d"
           }
          ],
          "scattercarpet": [
           {
            "marker": {
             "colorbar": {
              "outlinewidth": 0,
              "ticks": ""
             }
            },
            "type": "scattercarpet"
           }
          ],
          "scattergeo": [
           {
            "marker": {
             "colorbar": {
              "outlinewidth": 0,
              "ticks": ""
             }
            },
            "type": "scattergeo"
           }
          ],
          "scattergl": [
           {
            "marker": {
             "colorbar": {
              "outlinewidth": 0,
              "ticks": ""
             }
            },
            "type": "scattergl"
           }
          ],
          "scattermapbox": [
           {
            "marker": {
             "colorbar": {
              "outlinewidth": 0,
              "ticks": ""
             }
            },
            "type": "scattermapbox"
           }
          ],
          "scatterpolar": [
           {
            "marker": {
             "colorbar": {
              "outlinewidth": 0,
              "ticks": ""
             }
            },
            "type": "scatterpolar"
           }
          ],
          "scatterpolargl": [
           {
            "marker": {
             "colorbar": {
              "outlinewidth": 0,
              "ticks": ""
             }
            },
            "type": "scatterpolargl"
           }
          ],
          "scatterternary": [
           {
            "marker": {
             "colorbar": {
              "outlinewidth": 0,
              "ticks": ""
             }
            },
            "type": "scatterternary"
           }
          ],
          "surface": [
           {
            "colorbar": {
             "outlinewidth": 0,
             "ticks": ""
            },
            "colorscale": [
             [
              0,
              "#0d0887"
             ],
             [
              0.1111111111111111,
              "#46039f"
             ],
             [
              0.2222222222222222,
              "#7201a8"
             ],
             [
              0.3333333333333333,
              "#9c179e"
             ],
             [
              0.4444444444444444,
              "#bd3786"
             ],
             [
              0.5555555555555556,
              "#d8576b"
             ],
             [
              0.6666666666666666,
              "#ed7953"
             ],
             [
              0.7777777777777778,
              "#fb9f3a"
             ],
             [
              0.8888888888888888,
              "#fdca26"
             ],
             [
              1,
              "#f0f921"
             ]
            ],
            "type": "surface"
           }
          ],
          "table": [
           {
            "cells": {
             "fill": {
              "color": "#EBF0F8"
             },
             "line": {
              "color": "white"
             }
            },
            "header": {
             "fill": {
              "color": "#C8D4E3"
             },
             "line": {
              "color": "white"
             }
            },
            "type": "table"
           }
          ]
         },
         "layout": {
          "annotationdefaults": {
           "arrowcolor": "#2a3f5f",
           "arrowhead": 0,
           "arrowwidth": 1
          },
          "autotypenumbers": "strict",
          "coloraxis": {
           "colorbar": {
            "outlinewidth": 0,
            "ticks": ""
           }
          },
          "colorscale": {
           "diverging": [
            [
             0,
             "#8e0152"
            ],
            [
             0.1,
             "#c51b7d"
            ],
            [
             0.2,
             "#de77ae"
            ],
            [
             0.3,
             "#f1b6da"
            ],
            [
             0.4,
             "#fde0ef"
            ],
            [
             0.5,
             "#f7f7f7"
            ],
            [
             0.6,
             "#e6f5d0"
            ],
            [
             0.7,
             "#b8e186"
            ],
            [
             0.8,
             "#7fbc41"
            ],
            [
             0.9,
             "#4d9221"
            ],
            [
             1,
             "#276419"
            ]
           ],
           "sequential": [
            [
             0,
             "#0d0887"
            ],
            [
             0.1111111111111111,
             "#46039f"
            ],
            [
             0.2222222222222222,
             "#7201a8"
            ],
            [
             0.3333333333333333,
             "#9c179e"
            ],
            [
             0.4444444444444444,
             "#bd3786"
            ],
            [
             0.5555555555555556,
             "#d8576b"
            ],
            [
             0.6666666666666666,
             "#ed7953"
            ],
            [
             0.7777777777777778,
             "#fb9f3a"
            ],
            [
             0.8888888888888888,
             "#fdca26"
            ],
            [
             1,
             "#f0f921"
            ]
           ],
           "sequentialminus": [
            [
             0,
             "#0d0887"
            ],
            [
             0.1111111111111111,
             "#46039f"
            ],
            [
             0.2222222222222222,
             "#7201a8"
            ],
            [
             0.3333333333333333,
             "#9c179e"
            ],
            [
             0.4444444444444444,
             "#bd3786"
            ],
            [
             0.5555555555555556,
             "#d8576b"
            ],
            [
             0.6666666666666666,
             "#ed7953"
            ],
            [
             0.7777777777777778,
             "#fb9f3a"
            ],
            [
             0.8888888888888888,
             "#fdca26"
            ],
            [
             1,
             "#f0f921"
            ]
           ]
          },
          "colorway": [
           "#636efa",
           "#EF553B",
           "#00cc96",
           "#ab63fa",
           "#FFA15A",
           "#19d3f3",
           "#FF6692",
           "#B6E880",
           "#FF97FF",
           "#FECB52"
          ],
          "font": {
           "color": "#2a3f5f"
          },
          "geo": {
           "bgcolor": "white",
           "lakecolor": "white",
           "landcolor": "#E5ECF6",
           "showlakes": true,
           "showland": true,
           "subunitcolor": "white"
          },
          "hoverlabel": {
           "align": "left"
          },
          "hovermode": "closest",
          "mapbox": {
           "style": "light"
          },
          "paper_bgcolor": "white",
          "plot_bgcolor": "#E5ECF6",
          "polar": {
           "angularaxis": {
            "gridcolor": "white",
            "linecolor": "white",
            "ticks": ""
           },
           "bgcolor": "#E5ECF6",
           "radialaxis": {
            "gridcolor": "white",
            "linecolor": "white",
            "ticks": ""
           }
          },
          "scene": {
           "xaxis": {
            "backgroundcolor": "#E5ECF6",
            "gridcolor": "white",
            "gridwidth": 2,
            "linecolor": "white",
            "showbackground": true,
            "ticks": "",
            "zerolinecolor": "white"
           },
           "yaxis": {
            "backgroundcolor": "#E5ECF6",
            "gridcolor": "white",
            "gridwidth": 2,
            "linecolor": "white",
            "showbackground": true,
            "ticks": "",
            "zerolinecolor": "white"
           },
           "zaxis": {
            "backgroundcolor": "#E5ECF6",
            "gridcolor": "white",
            "gridwidth": 2,
            "linecolor": "white",
            "showbackground": true,
            "ticks": "",
            "zerolinecolor": "white"
           }
          },
          "shapedefaults": {
           "line": {
            "color": "#2a3f5f"
           }
          },
          "ternary": {
           "aaxis": {
            "gridcolor": "white",
            "linecolor": "white",
            "ticks": ""
           },
           "baxis": {
            "gridcolor": "white",
            "linecolor": "white",
            "ticks": ""
           },
           "bgcolor": "#E5ECF6",
           "caxis": {
            "gridcolor": "white",
            "linecolor": "white",
            "ticks": ""
           }
          },
          "title": {
           "x": 0.05
          },
          "xaxis": {
           "automargin": true,
           "gridcolor": "white",
           "linecolor": "white",
           "ticks": "",
           "title": {
            "standoff": 15
           },
           "zerolinecolor": "white",
           "zerolinewidth": 2
          },
          "yaxis": {
           "automargin": true,
           "gridcolor": "white",
           "linecolor": "white",
           "ticks": "",
           "title": {
            "standoff": 15
           },
           "zerolinecolor": "white",
           "zerolinewidth": 2
          }
         }
        },
        "title": {
         "font": {
          "color": "darkslateblue"
         },
         "text": "Segmento medio - Brasil - Vol x Share - 2023-09",
         "x": 0.5,
         "y": 0.9
        },
        "width": 1300,
        "xaxis": {
         "anchor": "y",
         "domain": [
          0,
          1
         ],
         "showgrid": false,
         "title": {
          "text": "Volume m³ setembro 2023"
         }
        },
        "yaxis": {
         "anchor": "x",
         "domain": [
          0,
          1
         ],
         "showgrid": true,
         "title": {
          "text": "share setembro 2023"
         }
        }
       }
      },
      "text/html": [
       "<div>                            <div id=\"334dd997-af7c-4a2b-b9a2-791f024ad4fd\" class=\"plotly-graph-div\" style=\"height:700px; width:1300px;\"></div>            <script type=\"text/javascript\">                require([\"plotly\"], function(Plotly) {                    window.PLOTLYENV=window.PLOTLYENV || {};                                    if (document.getElementById(\"334dd997-af7c-4a2b-b9a2-791f024ad4fd\")) {                    Plotly.newPlot(                        \"334dd997-af7c-4a2b-b9a2-791f024ad4fd\",                        [{\"customdata\":[[84.0,1353.0,95.54,28.2,4.34,95.66,\"CONSUMIDOR FINAL\"]],\"hovertemplate\":\"id=USINA CONQUISTA DO PONTAL S. A. - EM RECUPERACAO JUDICIAL|2023-09-01|CONSUMIDOR FINAL|RAIZEN<br>Volume m\\u00b3 setembro 2023=%{x}<br>share setembro 2023=%{y}<br>preview_value=%{customdata[0]}<br>preview_value_12=%{customdata[1]}<br>delta_vol=%{customdata[2]}<br>delta_vol_12=%{customdata[3]}<br>preview_share=%{customdata[4]}<br>delta_share_pp=%{customdata[5]}<br>QUALIF_DEST=%{customdata[6]}<extra></extra>\",\"legendgroup\":\"USINA CONQUISTA DO PONTAL S. A. - EM RECUPERACAO JUDICIAL|2023-09-01|CONSUMIDOR FINAL|RAIZEN\",\"marker\":{\"color\":\"rgb(141,211,199)\",\"symbol\":\"circle\"},\"mode\":\"markers\",\"name\":\"USINA CONQUISTA DO PONTAL S. A. - EM RECUPERACAO JUDICIAL|2023-09-01|CONSUMIDOR FINAL|RAIZEN\",\"orientation\":\"v\",\"showlegend\":true,\"x\":[1884.5],\"xaxis\":\"x\",\"y\":[100.0],\"yaxis\":\"y\",\"type\":\"scatter\"},{\"customdata\":[[75.0,220.0,86.36,60.0,7.39,46.53,\"CONSUMIDOR FINAL\"]],\"hovertemplate\":\"id=VIA\\u00c7\\u00c3O GATO PRETO LTDA|2023-09-01|CONSUMIDOR FINAL|RAIZEN<br>Volume m\\u00b3 setembro 2023=%{x}<br>share setembro 2023=%{y}<br>preview_value=%{customdata[0]}<br>preview_value_12=%{customdata[1]}<br>delta_vol=%{customdata[2]}<br>delta_vol_12=%{customdata[3]}<br>preview_share=%{customdata[4]}<br>delta_share_pp=%{customdata[5]}<br>QUALIF_DEST=%{customdata[6]}<extra></extra>\",\"legendgroup\":\"VIA\\u00c7\\u00c3O GATO PRETO LTDA|2023-09-01|CONSUMIDOR FINAL|RAIZEN\",\"marker\":{\"color\":\"rgb(255,255,179)\",\"symbol\":\"circle\"},\"mode\":\"markers\",\"name\":\"VIA\\u00c7\\u00c3O GATO PRETO LTDA|2023-09-01|CONSUMIDOR FINAL|RAIZEN\",\"orientation\":\"v\",\"showlegend\":true,\"x\":[550.0],\"xaxis\":\"x\",\"y\":[53.92],\"yaxis\":\"y\",\"type\":\"scatter\"},{\"customdata\":[[90.0,270.0,82.86,48.57,4.96,25.21,\"CONSUMIDOR FINAL\"]],\"hovertemplate\":\"id=VIA\\u00c7\\u00c3O GRAJAU SA|2023-09-01|CONSUMIDOR FINAL|RAIZEN<br>Volume m\\u00b3 setembro 2023=%{x}<br>share setembro 2023=%{y}<br>preview_value=%{customdata[0]}<br>preview_value_12=%{customdata[1]}<br>delta_vol=%{customdata[2]}<br>delta_vol_12=%{customdata[3]}<br>preview_share=%{customdata[4]}<br>delta_share_pp=%{customdata[5]}<br>QUALIF_DEST=%{customdata[6]}<extra></extra>\",\"legendgroup\":\"VIA\\u00c7\\u00c3O GRAJAU SA|2023-09-01|CONSUMIDOR FINAL|RAIZEN\",\"marker\":{\"color\":\"rgb(190,186,218)\",\"symbol\":\"circle\"},\"mode\":\"markers\",\"name\":\"VIA\\u00c7\\u00c3O GRAJAU SA|2023-09-01|CONSUMIDOR FINAL|RAIZEN\",\"orientation\":\"v\",\"showlegend\":true,\"x\":[525.0],\"xaxis\":\"x\",\"y\":[30.17],\"yaxis\":\"y\",\"type\":\"scatter\"},{\"customdata\":[[40.0,280.0,80.49,-36.59,3.57,13.58,\"CONSUMIDOR FINAL\"]],\"hovertemplate\":\"id=VIA\\u00c7\\u00c3O GARCIA LTDA|2023-09-01|CONSUMIDOR FINAL|RAIZEN<br>Volume m\\u00b3 setembro 2023=%{x}<br>share setembro 2023=%{y}<br>preview_value=%{customdata[0]}<br>preview_value_12=%{customdata[1]}<br>delta_vol=%{customdata[2]}<br>delta_vol_12=%{customdata[3]}<br>preview_share=%{customdata[4]}<br>delta_share_pp=%{customdata[5]}<br>QUALIF_DEST=%{customdata[6]}<extra></extra>\",\"legendgroup\":\"VIA\\u00c7\\u00c3O GARCIA LTDA|2023-09-01|CONSUMIDOR FINAL|RAIZEN\",\"marker\":{\"color\":\"rgb(251,128,114)\",\"symbol\":\"circle\"},\"mode\":\"markers\",\"name\":\"VIA\\u00c7\\u00c3O GARCIA LTDA|2023-09-01|CONSUMIDOR FINAL|RAIZEN\",\"orientation\":\"v\",\"showlegend\":true,\"x\":[205.0],\"xaxis\":\"x\",\"y\":[17.15],\"yaxis\":\"y\",\"type\":\"scatter\"},{\"customdata\":[[67.5,null,78.57,null,3.39,13.63,\"CONSUMIDOR FINAL\"]],\"hovertemplate\":\"id=CRV INDUSTRIAL LTDA|2023-09-01|CONSUMIDOR FINAL|RAIZEN<br>Volume m\\u00b3 setembro 2023=%{x}<br>share setembro 2023=%{y}<br>preview_value=%{customdata[0]}<br>preview_value_12=%{customdata[1]}<br>delta_vol=%{customdata[2]}<br>delta_vol_12=%{customdata[3]}<br>preview_share=%{customdata[4]}<br>delta_share_pp=%{customdata[5]}<br>QUALIF_DEST=%{customdata[6]}<extra></extra>\",\"legendgroup\":\"CRV INDUSTRIAL LTDA|2023-09-01|CONSUMIDOR FINAL|RAIZEN\",\"marker\":{\"color\":\"rgb(128,177,211)\",\"symbol\":\"circle\"},\"mode\":\"markers\",\"name\":\"CRV INDUSTRIAL LTDA|2023-09-01|CONSUMIDOR FINAL|RAIZEN\",\"orientation\":\"v\",\"showlegend\":true,\"x\":[315.0],\"xaxis\":\"x\",\"y\":[17.01],\"yaxis\":\"y\",\"type\":\"scatter\"},{\"customdata\":[[115.0,230.0,78.3,56.6,11.27,25.28,\"CONSUMIDOR FINAL\"]],\"hovertemplate\":\"id=BRAVO SERVI\\u00c7OS LOGISTICOS LTDA|2023-09-01|CONSUMIDOR FINAL|RAIZEN<br>Volume m\\u00b3 setembro 2023=%{x}<br>share setembro 2023=%{y}<br>preview_value=%{customdata[0]}<br>preview_value_12=%{customdata[1]}<br>delta_vol=%{customdata[2]}<br>delta_vol_12=%{customdata[3]}<br>preview_share=%{customdata[4]}<br>delta_share_pp=%{customdata[5]}<br>QUALIF_DEST=%{customdata[6]}<extra></extra>\",\"legendgroup\":\"BRAVO SERVI\\u00c7OS LOGISTICOS LTDA|2023-09-01|CONSUMIDOR FINAL|RAIZEN\",\"marker\":{\"color\":\"rgb(253,180,98)\",\"symbol\":\"circle\"},\"mode\":\"markers\",\"name\":\"BRAVO SERVI\\u00c7OS LOGISTICOS LTDA|2023-09-01|CONSUMIDOR FINAL|RAIZEN\",\"orientation\":\"v\",\"showlegend\":true,\"x\":[530.0],\"xaxis\":\"x\",\"y\":[36.55],\"yaxis\":\"y\",\"type\":\"scatter\"},{\"customdata\":[[44.0,220.0,66.67,-66.67,2.38,5.41,\"CONSUMIDOR FINAL\"]],\"hovertemplate\":\"id=EXPRESS TRANSPORTES URBANOS - LTDA|2023-09-01|CONSUMIDOR FINAL|RAIZEN<br>Volume m\\u00b3 setembro 2023=%{x}<br>share setembro 2023=%{y}<br>preview_value=%{customdata[0]}<br>preview_value_12=%{customdata[1]}<br>delta_vol=%{customdata[2]}<br>delta_vol_12=%{customdata[3]}<br>preview_share=%{customdata[4]}<br>delta_share_pp=%{customdata[5]}<br>QUALIF_DEST=%{customdata[6]}<extra></extra>\",\"legendgroup\":\"EXPRESS TRANSPORTES URBANOS - LTDA|2023-09-01|CONSUMIDOR FINAL|RAIZEN\",\"marker\":{\"color\":\"rgb(179,222,105)\",\"symbol\":\"circle\"},\"mode\":\"markers\",\"name\":\"EXPRESS TRANSPORTES URBANOS - LTDA|2023-09-01|CONSUMIDOR FINAL|RAIZEN\",\"orientation\":\"v\",\"showlegend\":true,\"x\":[132.0],\"xaxis\":\"x\",\"y\":[7.79],\"yaxis\":\"y\",\"type\":\"scatter\"},{\"customdata\":[[40.0,null,60.0,null,3.43,5.01,\"CONSUMIDOR FINAL\"]],\"hovertemplate\":\"id=SANTA VITORIA ACUCAR E ALCOOL LTDA|2023-09-01|CONSUMIDOR FINAL|RAIZEN<br>Volume m\\u00b3 setembro 2023=%{x}<br>share setembro 2023=%{y}<br>preview_value=%{customdata[0]}<br>preview_value_12=%{customdata[1]}<br>delta_vol=%{customdata[2]}<br>delta_vol_12=%{customdata[3]}<br>preview_share=%{customdata[4]}<br>delta_share_pp=%{customdata[5]}<br>QUALIF_DEST=%{customdata[6]}<extra></extra>\",\"legendgroup\":\"SANTA VITORIA ACUCAR E ALCOOL LTDA|2023-09-01|CONSUMIDOR FINAL|RAIZEN\",\"marker\":{\"color\":\"rgb(252,205,229)\",\"symbol\":\"circle\"},\"mode\":\"markers\",\"name\":\"SANTA VITORIA ACUCAR E ALCOOL LTDA|2023-09-01|CONSUMIDOR FINAL|RAIZEN\",\"orientation\":\"v\",\"showlegend\":true,\"x\":[100.0],\"xaxis\":\"x\",\"y\":[8.44],\"yaxis\":\"y\",\"type\":\"scatter\"},{\"customdata\":[[115.0,null,57.41,null,5.28,8.26,\"CONSUMIDOR FINAL\"]],\"hovertemplate\":\"id=VIA\\u00c7\\u00c3O SANTA BRIGIDA LTDA|2023-09-01|CONSUMIDOR FINAL|RAIZEN<br>Volume m\\u00b3 setembro 2023=%{x}<br>share setembro 2023=%{y}<br>preview_value=%{customdata[0]}<br>preview_value_12=%{customdata[1]}<br>delta_vol=%{customdata[2]}<br>delta_vol_12=%{customdata[3]}<br>preview_share=%{customdata[4]}<br>delta_share_pp=%{customdata[5]}<br>QUALIF_DEST=%{customdata[6]}<extra></extra>\",\"legendgroup\":\"VIA\\u00c7\\u00c3O SANTA BRIGIDA LTDA|2023-09-01|CONSUMIDOR FINAL|RAIZEN\",\"marker\":{\"color\":\"rgb(217,217,217)\",\"symbol\":\"circle\"},\"mode\":\"markers\",\"name\":\"VIA\\u00c7\\u00c3O SANTA BRIGIDA LTDA|2023-09-01|CONSUMIDOR FINAL|RAIZEN\",\"orientation\":\"v\",\"showlegend\":true,\"x\":[270.0],\"xaxis\":\"x\",\"y\":[13.53],\"yaxis\":\"y\",\"type\":\"scatter\"},{\"customdata\":[[455.0,null,57.2,null,24.67,27.3,\"CONSUMIDOR FINAL\"]],\"hovertemplate\":\"id=USINA CERRADAO LTDA|2023-09-01|CONSUMIDOR FINAL|RAIZEN<br>Volume m\\u00b3 setembro 2023=%{x}<br>share setembro 2023=%{y}<br>preview_value=%{customdata[0]}<br>preview_value_12=%{customdata[1]}<br>delta_vol=%{customdata[2]}<br>delta_vol_12=%{customdata[3]}<br>preview_share=%{customdata[4]}<br>delta_share_pp=%{customdata[5]}<br>QUALIF_DEST=%{customdata[6]}<extra></extra>\",\"legendgroup\":\"USINA CERRADAO LTDA|2023-09-01|CONSUMIDOR FINAL|RAIZEN\",\"marker\":{\"color\":\"rgb(188,128,189)\",\"symbol\":\"circle\"},\"mode\":\"markers\",\"name\":\"USINA CERRADAO LTDA|2023-09-01|CONSUMIDOR FINAL|RAIZEN\",\"orientation\":\"v\",\"showlegend\":true,\"x\":[1063.0],\"xaxis\":\"x\",\"y\":[51.97],\"yaxis\":\"y\",\"type\":\"scatter\"},{\"customdata\":[[178.0,743.0,55.16,-87.15,8.93,12.29,\"CONSUMIDOR FINAL\"]],\"hovertemplate\":\"id=IC TRANSPORTES LTDA.|2023-09-01|CONSUMIDOR FINAL|RAIZEN<br>Volume m\\u00b3 setembro 2023=%{x}<br>share setembro 2023=%{y}<br>preview_value=%{customdata[0]}<br>preview_value_12=%{customdata[1]}<br>delta_vol=%{customdata[2]}<br>delta_vol_12=%{customdata[3]}<br>preview_share=%{customdata[4]}<br>delta_share_pp=%{customdata[5]}<br>QUALIF_DEST=%{customdata[6]}<extra></extra>\",\"legendgroup\":\"IC TRANSPORTES LTDA.|2023-09-01|CONSUMIDOR FINAL|RAIZEN\",\"marker\":{\"color\":\"rgb(204,235,197)\",\"symbol\":\"circle\"},\"mode\":\"markers\",\"name\":\"IC TRANSPORTES LTDA.|2023-09-01|CONSUMIDOR FINAL|RAIZEN\",\"orientation\":\"v\",\"showlegend\":true,\"x\":[397.0],\"xaxis\":\"x\",\"y\":[21.22],\"yaxis\":\"y\",\"type\":\"scatter\"},{\"customdata\":[[1149.4,null,54.51,null,32.38,59.05,\"CONSUMIDOR FINAL\"]],\"hovertemplate\":\"id=ACUCAR E ALCOOL OSWALDO RIBEIRO DE MENDONCA LTDA|2023-09-01|CONSUMIDOR FINAL|RAIZEN<br>Volume m\\u00b3 setembro 2023=%{x}<br>share setembro 2023=%{y}<br>preview_value=%{customdata[0]}<br>preview_value_12=%{customdata[1]}<br>delta_vol=%{customdata[2]}<br>delta_vol_12=%{customdata[3]}<br>preview_share=%{customdata[4]}<br>delta_share_pp=%{customdata[5]}<br>QUALIF_DEST=%{customdata[6]}<extra></extra>\",\"legendgroup\":\"ACUCAR E ALCOOL OSWALDO RIBEIRO DE MENDONCA LTDA|2023-09-01|CONSUMIDOR FINAL|RAIZEN\",\"marker\":{\"color\":\"rgb(255,237,111)\",\"symbol\":\"circle\"},\"mode\":\"markers\",\"name\":\"ACUCAR E ALCOOL OSWALDO RIBEIRO DE MENDONCA LTDA|2023-09-01|CONSUMIDOR FINAL|RAIZEN\",\"orientation\":\"v\",\"showlegend\":true,\"x\":[2526.6],\"xaxis\":\"x\",\"y\":[91.42],\"yaxis\":\"y\",\"type\":\"scatter\"},{\"customdata\":[[170.0,35.0,52.11,90.14,7.73,8.71,\"CONSUMIDOR FINAL\"]],\"hovertemplate\":\"id=ABC Sistema de Transporte SPE S.A|2023-09-01|CONSUMIDOR FINAL|RAIZEN<br>Volume m\\u00b3 setembro 2023=%{x}<br>share setembro 2023=%{y}<br>preview_value=%{customdata[0]}<br>preview_value_12=%{customdata[1]}<br>delta_vol=%{customdata[2]}<br>delta_vol_12=%{customdata[3]}<br>preview_share=%{customdata[4]}<br>delta_share_pp=%{customdata[5]}<br>QUALIF_DEST=%{customdata[6]}<extra></extra>\",\"legendgroup\":\"ABC Sistema de Transporte SPE S.A|2023-09-01|CONSUMIDOR FINAL|RAIZEN\",\"marker\":{\"color\":\"rgb(141,211,199)\",\"symbol\":\"circle\"},\"mode\":\"markers\",\"name\":\"ABC Sistema de Transporte SPE S.A|2023-09-01|CONSUMIDOR FINAL|RAIZEN\",\"orientation\":\"v\",\"showlegend\":true,\"x\":[355.0],\"xaxis\":\"x\",\"y\":[16.44],\"yaxis\":\"y\",\"type\":\"scatter\"},{\"customdata\":[[5.0,null,50.0,null,0.48,0.63,\"CONSUMIDOR FINAL\"]],\"hovertemplate\":\"id=EUCLIDES RENATO GARBUIO TRANSPORTES LTDA|2023-09-01|CONSUMIDOR FINAL|RAIZEN<br>Volume m\\u00b3 setembro 2023=%{x}<br>share setembro 2023=%{y}<br>preview_value=%{customdata[0]}<br>preview_value_12=%{customdata[1]}<br>delta_vol=%{customdata[2]}<br>delta_vol_12=%{customdata[3]}<br>preview_share=%{customdata[4]}<br>delta_share_pp=%{customdata[5]}<br>QUALIF_DEST=%{customdata[6]}<extra></extra>\",\"legendgroup\":\"EUCLIDES RENATO GARBUIO TRANSPORTES LTDA|2023-09-01|CONSUMIDOR FINAL|RAIZEN\",\"marker\":{\"color\":\"rgb(255,255,179)\",\"symbol\":\"circle\"},\"mode\":\"markers\",\"name\":\"EUCLIDES RENATO GARBUIO TRANSPORTES LTDA|2023-09-01|CONSUMIDOR FINAL|RAIZEN\",\"orientation\":\"v\",\"showlegend\":true,\"x\":[10.0],\"xaxis\":\"x\",\"y\":[1.1],\"yaxis\":\"y\",\"type\":\"scatter\"},{\"customdata\":[[450.0,136.5,49.94,84.82,50.28,37.6,\"CONSUMIDOR FINAL\"]],\"hovertemplate\":\"id=BIOENERGETICA AROEIRA S.A.|2023-09-01|CONSUMIDOR FINAL|RAIZEN<br>Volume m\\u00b3 setembro 2023=%{x}<br>share setembro 2023=%{y}<br>preview_value=%{customdata[0]}<br>preview_value_12=%{customdata[1]}<br>delta_vol=%{customdata[2]}<br>delta_vol_12=%{customdata[3]}<br>preview_share=%{customdata[4]}<br>delta_share_pp=%{customdata[5]}<br>QUALIF_DEST=%{customdata[6]}<extra></extra>\",\"legendgroup\":\"BIOENERGETICA AROEIRA S.A.|2023-09-01|CONSUMIDOR FINAL|RAIZEN\",\"marker\":{\"color\":\"rgb(190,186,218)\",\"symbol\":\"circle\"},\"mode\":\"markers\",\"name\":\"BIOENERGETICA AROEIRA S.A.|2023-09-01|CONSUMIDOR FINAL|RAIZEN\",\"orientation\":\"v\",\"showlegend\":true,\"x\":[899.0],\"xaxis\":\"x\",\"y\":[87.88],\"yaxis\":\"y\",\"type\":\"scatter\"},{\"customdata\":[[265.5,418.0,48.04,18.2,17.2,18.9,\"CONSUMIDOR FINAL\"]],\"hovertemplate\":\"id=SANTA LUIZA AGROPECU\\u00c1RIA LTDA|2023-09-01|CONSUMIDOR FINAL|RAIZEN<br>Volume m\\u00b3 setembro 2023=%{x}<br>share setembro 2023=%{y}<br>preview_value=%{customdata[0]}<br>preview_value_12=%{customdata[1]}<br>delta_vol=%{customdata[2]}<br>delta_vol_12=%{customdata[3]}<br>preview_share=%{customdata[4]}<br>delta_share_pp=%{customdata[5]}<br>QUALIF_DEST=%{customdata[6]}<extra></extra>\",\"legendgroup\":\"SANTA LUIZA AGROPECU\\u00c1RIA LTDA|2023-09-01|CONSUMIDOR FINAL|RAIZEN\",\"marker\":{\"color\":\"rgb(251,128,114)\",\"symbol\":\"circle\"},\"mode\":\"markers\",\"name\":\"SANTA LUIZA AGROPECU\\u00c1RIA LTDA|2023-09-01|CONSUMIDOR FINAL|RAIZEN\",\"orientation\":\"v\",\"showlegend\":true,\"x\":[511.0],\"xaxis\":\"x\",\"y\":[36.1],\"yaxis\":\"y\",\"type\":\"scatter\"},{\"customdata\":[[765.0,null,47.42,null,42.57,35.49,\"CONSUMIDOR FINAL\"]],\"hovertemplate\":\"id=VALE DO TIJUCO ACUCAR E ALCOOL S.A.|2023-09-01|CONSUMIDOR FINAL|RAIZEN<br>Volume m\\u00b3 setembro 2023=%{x}<br>share setembro 2023=%{y}<br>preview_value=%{customdata[0]}<br>preview_value_12=%{customdata[1]}<br>delta_vol=%{customdata[2]}<br>delta_vol_12=%{customdata[3]}<br>preview_share=%{customdata[4]}<br>delta_share_pp=%{customdata[5]}<br>QUALIF_DEST=%{customdata[6]}<extra></extra>\",\"legendgroup\":\"VALE DO TIJUCO ACUCAR E ALCOOL S.A.|2023-09-01|CONSUMIDOR FINAL|RAIZEN\",\"marker\":{\"color\":\"rgb(128,177,211)\",\"symbol\":\"circle\"},\"mode\":\"markers\",\"name\":\"VALE DO TIJUCO ACUCAR E ALCOOL S.A.|2023-09-01|CONSUMIDOR FINAL|RAIZEN\",\"orientation\":\"v\",\"showlegend\":true,\"x\":[1455.0],\"xaxis\":\"x\",\"y\":[78.06],\"yaxis\":\"y\",\"type\":\"scatter\"},{\"customdata\":[[255.0,30.0,38.55,92.77,11.76,7.63,\"CONSUMIDOR FINAL\"]],\"hovertemplate\":\"id=TORA TRANSPORTES LTDA|2023-09-01|CONSUMIDOR FINAL|RAIZEN<br>Volume m\\u00b3 setembro 2023=%{x}<br>share setembro 2023=%{y}<br>preview_value=%{customdata[0]}<br>preview_value_12=%{customdata[1]}<br>delta_vol=%{customdata[2]}<br>delta_vol_12=%{customdata[3]}<br>preview_share=%{customdata[4]}<br>delta_share_pp=%{customdata[5]}<br>QUALIF_DEST=%{customdata[6]}<extra></extra>\",\"legendgroup\":\"TORA TRANSPORTES LTDA|2023-09-01|CONSUMIDOR FINAL|RAIZEN\",\"marker\":{\"color\":\"rgb(253,180,98)\",\"symbol\":\"circle\"},\"mode\":\"markers\",\"name\":\"TORA TRANSPORTES LTDA|2023-09-01|CONSUMIDOR FINAL|RAIZEN\",\"orientation\":\"v\",\"showlegend\":true,\"x\":[415.0],\"xaxis\":\"x\",\"y\":[19.39],\"yaxis\":\"y\",\"type\":\"scatter\"},{\"customdata\":[[195.0,110.0,33.9,62.71,9.07,7.46,\"CONSUMIDOR FINAL\"]],\"hovertemplate\":\"id=TRANSMARONI TRANSPORTES BRASIL RODOVIARIOS LTDA|2023-09-01|CONSUMIDOR FINAL|RAIZEN<br>Volume m\\u00b3 setembro 2023=%{x}<br>share setembro 2023=%{y}<br>preview_value=%{customdata[0]}<br>preview_value_12=%{customdata[1]}<br>delta_vol=%{customdata[2]}<br>delta_vol_12=%{customdata[3]}<br>preview_share=%{customdata[4]}<br>delta_share_pp=%{customdata[5]}<br>QUALIF_DEST=%{customdata[6]}<extra></extra>\",\"legendgroup\":\"TRANSMARONI TRANSPORTES BRASIL RODOVIARIOS LTDA|2023-09-01|CONSUMIDOR FINAL|RAIZEN\",\"marker\":{\"color\":\"rgb(179,222,105)\",\"symbol\":\"circle\"},\"mode\":\"markers\",\"name\":\"TRANSMARONI TRANSPORTES BRASIL RODOVIARIOS LTDA|2023-09-01|CONSUMIDOR FINAL|RAIZEN\",\"orientation\":\"v\",\"showlegend\":true,\"x\":[295.0],\"xaxis\":\"x\",\"y\":[16.53],\"yaxis\":\"y\",\"type\":\"scatter\"},{\"customdata\":[[80.0,null,33.33,null,4.82,3.69,\"CONSUMIDOR FINAL\"]],\"hovertemplate\":\"id=AUTO VIA\\u00c7\\u00c3O URUBUPUNGA LTDA|2023-09-01|CONSUMIDOR FINAL|RAIZEN<br>Volume m\\u00b3 setembro 2023=%{x}<br>share setembro 2023=%{y}<br>preview_value=%{customdata[0]}<br>preview_value_12=%{customdata[1]}<br>delta_vol=%{customdata[2]}<br>delta_vol_12=%{customdata[3]}<br>preview_share=%{customdata[4]}<br>delta_share_pp=%{customdata[5]}<br>QUALIF_DEST=%{customdata[6]}<extra></extra>\",\"legendgroup\":\"AUTO VIA\\u00c7\\u00c3O URUBUPUNGA LTDA|2023-09-01|CONSUMIDOR FINAL|RAIZEN\",\"marker\":{\"color\":\"rgb(252,205,229)\",\"symbol\":\"circle\"},\"mode\":\"markers\",\"name\":\"AUTO VIA\\u00c7\\u00c3O URUBUPUNGA LTDA|2023-09-01|CONSUMIDOR FINAL|RAIZEN\",\"orientation\":\"v\",\"showlegend\":true,\"x\":[120.0],\"xaxis\":\"x\",\"y\":[8.51],\"yaxis\":\"y\",\"type\":\"scatter\"},{\"customdata\":[[1375.0,1251.0,31.08,37.29,79.43,10.63,\"CONSUMIDOR FINAL\"]],\"hovertemplate\":\"id=VB TRANSPORTES E TURISMO LTDA|2023-09-01|CONSUMIDOR FINAL|RAIZEN<br>Volume m\\u00b3 setembro 2023=%{x}<br>share setembro 2023=%{y}<br>preview_value=%{customdata[0]}<br>preview_value_12=%{customdata[1]}<br>delta_vol=%{customdata[2]}<br>delta_vol_12=%{customdata[3]}<br>preview_share=%{customdata[4]}<br>delta_share_pp=%{customdata[5]}<br>QUALIF_DEST=%{customdata[6]}<extra></extra>\",\"legendgroup\":\"VB TRANSPORTES E TURISMO LTDA|2023-09-01|CONSUMIDOR FINAL|RAIZEN\",\"marker\":{\"color\":\"rgb(217,217,217)\",\"symbol\":\"circle\"},\"mode\":\"markers\",\"name\":\"VB TRANSPORTES E TURISMO LTDA|2023-09-01|CONSUMIDOR FINAL|RAIZEN\",\"orientation\":\"v\",\"showlegend\":true,\"x\":[1995.0],\"xaxis\":\"x\",\"y\":[90.07],\"yaxis\":\"y\",\"type\":\"scatter\"},{\"customdata\":[[1807.0,1702.3,30.19,34.23,100.0,0.0,\"CONSUMIDOR FINAL\"]],\"hovertemplate\":\"id=RUMO MALHA CENTRAL S.A.|2023-09-01|CONSUMIDOR FINAL|RAIZEN<br>Volume m\\u00b3 setembro 2023=%{x}<br>share setembro 2023=%{y}<br>preview_value=%{customdata[0]}<br>preview_value_12=%{customdata[1]}<br>delta_vol=%{customdata[2]}<br>delta_vol_12=%{customdata[3]}<br>preview_share=%{customdata[4]}<br>delta_share_pp=%{customdata[5]}<br>QUALIF_DEST=%{customdata[6]}<extra></extra>\",\"legendgroup\":\"RUMO MALHA CENTRAL S.A.|2023-09-01|CONSUMIDOR FINAL|RAIZEN\",\"marker\":{\"color\":\"rgb(188,128,189)\",\"symbol\":\"circle\"},\"mode\":\"markers\",\"name\":\"RUMO MALHA CENTRAL S.A.|2023-09-01|CONSUMIDOR FINAL|RAIZEN\",\"orientation\":\"v\",\"showlegend\":true,\"x\":[2588.4],\"xaxis\":\"x\",\"y\":[100.0],\"yaxis\":\"y\",\"type\":\"scatter\"},{\"customdata\":[[1041.0,1300.0,27.96,10.03,100.0,0.0,\"CONSUMIDOR FINAL\"]],\"hovertemplate\":\"id=TURILESSA LTDA|2023-09-01|CONSUMIDOR FINAL|RAIZEN<br>Volume m\\u00b3 setembro 2023=%{x}<br>share setembro 2023=%{y}<br>preview_value=%{customdata[0]}<br>preview_value_12=%{customdata[1]}<br>delta_vol=%{customdata[2]}<br>delta_vol_12=%{customdata[3]}<br>preview_share=%{customdata[4]}<br>delta_share_pp=%{customdata[5]}<br>QUALIF_DEST=%{customdata[6]}<extra></extra>\",\"legendgroup\":\"TURILESSA LTDA|2023-09-01|CONSUMIDOR FINAL|RAIZEN\",\"marker\":{\"color\":\"rgb(204,235,197)\",\"symbol\":\"circle\"},\"mode\":\"markers\",\"name\":\"TURILESSA LTDA|2023-09-01|CONSUMIDOR FINAL|RAIZEN\",\"orientation\":\"v\",\"showlegend\":true,\"x\":[1445.0],\"xaxis\":\"x\",\"y\":[100.0],\"yaxis\":\"y\",\"type\":\"scatter\"},{\"customdata\":[[105.0,265.0,27.84,-82.13,7.97,3.79,\"CONSUMIDOR FINAL\"]],\"hovertemplate\":\"id=AGROTERENAS S.A. CANA|2023-09-01|CONSUMIDOR FINAL|RAIZEN<br>Volume m\\u00b3 setembro 2023=%{x}<br>share setembro 2023=%{y}<br>preview_value=%{customdata[0]}<br>preview_value_12=%{customdata[1]}<br>delta_vol=%{customdata[2]}<br>delta_vol_12=%{customdata[3]}<br>preview_share=%{customdata[4]}<br>delta_share_pp=%{customdata[5]}<br>QUALIF_DEST=%{customdata[6]}<extra></extra>\",\"legendgroup\":\"AGROTERENAS S.A. CANA|2023-09-01|CONSUMIDOR FINAL|RAIZEN\",\"marker\":{\"color\":\"rgb(255,237,111)\",\"symbol\":\"circle\"},\"mode\":\"markers\",\"name\":\"AGROTERENAS S.A. CANA|2023-09-01|CONSUMIDOR FINAL|RAIZEN\",\"orientation\":\"v\",\"showlegend\":true,\"x\":[145.5],\"xaxis\":\"x\",\"y\":[11.77],\"yaxis\":\"y\",\"type\":\"scatter\"},{\"customdata\":[[820.0,1025.0,23.08,3.85,55.56,12.87,\"CONSUMIDOR FINAL\"]],\"hovertemplate\":\"id=TOMBINI & CIAI LTDA|2023-09-01|CONSUMIDOR FINAL|RAIZEN<br>Volume m\\u00b3 setembro 2023=%{x}<br>share setembro 2023=%{y}<br>preview_value=%{customdata[0]}<br>preview_value_12=%{customdata[1]}<br>delta_vol=%{customdata[2]}<br>delta_vol_12=%{customdata[3]}<br>preview_share=%{customdata[4]}<br>delta_share_pp=%{customdata[5]}<br>QUALIF_DEST=%{customdata[6]}<extra></extra>\",\"legendgroup\":\"TOMBINI & CIAI LTDA|2023-09-01|CONSUMIDOR FINAL|RAIZEN\",\"marker\":{\"color\":\"rgb(141,211,199)\",\"symbol\":\"circle\"},\"mode\":\"markers\",\"name\":\"TOMBINI & CIAI LTDA|2023-09-01|CONSUMIDOR FINAL|RAIZEN\",\"orientation\":\"v\",\"showlegend\":true,\"x\":[1066.0],\"xaxis\":\"x\",\"y\":[68.42],\"yaxis\":\"y\",\"type\":\"scatter\"},{\"customdata\":[[1492.0,1664.0,20.57,11.42,100.0,0.0,\"CONSUMIDOR FINAL\"]],\"hovertemplate\":\"id=USINA CAETE S A|2023-09-01|CONSUMIDOR FINAL|RAIZEN<br>Volume m\\u00b3 setembro 2023=%{x}<br>share setembro 2023=%{y}<br>preview_value=%{customdata[0]}<br>preview_value_12=%{customdata[1]}<br>delta_vol=%{customdata[2]}<br>delta_vol_12=%{customdata[3]}<br>preview_share=%{customdata[4]}<br>delta_share_pp=%{customdata[5]}<br>QUALIF_DEST=%{customdata[6]}<extra></extra>\",\"legendgroup\":\"USINA CAETE S A|2023-09-01|CONSUMIDOR FINAL|RAIZEN\",\"marker\":{\"color\":\"rgb(255,255,179)\",\"symbol\":\"circle\"},\"mode\":\"markers\",\"name\":\"USINA CAETE S A|2023-09-01|CONSUMIDOR FINAL|RAIZEN\",\"orientation\":\"v\",\"showlegend\":true,\"x\":[1878.5],\"xaxis\":\"x\",\"y\":[100.0],\"yaxis\":\"y\",\"type\":\"scatter\"},{\"customdata\":[[555.0,912.0,20.49,-30.66,78.28,5.82,\"CONSUMIDOR FINAL\"]],\"hovertemplate\":\"id=RAPIDO LUXO CAMPINAS LTDA|2023-09-01|CONSUMIDOR FINAL|RAIZEN<br>Volume m\\u00b3 setembro 2023=%{x}<br>share setembro 2023=%{y}<br>preview_value=%{customdata[0]}<br>preview_value_12=%{customdata[1]}<br>delta_vol=%{customdata[2]}<br>delta_vol_12=%{customdata[3]}<br>preview_share=%{customdata[4]}<br>delta_share_pp=%{customdata[5]}<br>QUALIF_DEST=%{customdata[6]}<extra></extra>\",\"legendgroup\":\"RAPIDO LUXO CAMPINAS LTDA|2023-09-01|CONSUMIDOR FINAL|RAIZEN\",\"marker\":{\"color\":\"rgb(190,186,218)\",\"symbol\":\"circle\"},\"mode\":\"markers\",\"name\":\"RAPIDO LUXO CAMPINAS LTDA|2023-09-01|CONSUMIDOR FINAL|RAIZEN\",\"orientation\":\"v\",\"showlegend\":true,\"x\":[698.0],\"xaxis\":\"x\",\"y\":[84.1],\"yaxis\":\"y\",\"type\":\"scatter\"},{\"customdata\":[[860.0,780.0,20.0,27.44,97.73,2.27,\"CONSUMIDOR FINAL\"]],\"hovertemplate\":\"id=AUTO NOSSA SENHORA APARECIDA LTDA|2023-09-01|CONSUMIDOR FINAL|RAIZEN<br>Volume m\\u00b3 setembro 2023=%{x}<br>share setembro 2023=%{y}<br>preview_value=%{customdata[0]}<br>preview_value_12=%{customdata[1]}<br>delta_vol=%{customdata[2]}<br>delta_vol_12=%{customdata[3]}<br>preview_share=%{customdata[4]}<br>delta_share_pp=%{customdata[5]}<br>QUALIF_DEST=%{customdata[6]}<extra></extra>\",\"legendgroup\":\"AUTO NOSSA SENHORA APARECIDA LTDA|2023-09-01|CONSUMIDOR FINAL|RAIZEN\",\"marker\":{\"color\":\"rgb(251,128,114)\",\"symbol\":\"circle\"},\"mode\":\"markers\",\"name\":\"AUTO NOSSA SENHORA APARECIDA LTDA|2023-09-01|CONSUMIDOR FINAL|RAIZEN\",\"orientation\":\"v\",\"showlegend\":true,\"x\":[1075.0],\"xaxis\":\"x\",\"y\":[100.0],\"yaxis\":\"y\",\"type\":\"scatter\"},{\"customdata\":[[644.0,711.0,19.4,11.01,83.31,7.79,\"CONSUMIDOR FINAL\"]],\"hovertemplate\":\"id=TRANSPEDROSA LTDA.|2023-09-01|CONSUMIDOR FINAL|RAIZEN<br>Volume m\\u00b3 setembro 2023=%{x}<br>share setembro 2023=%{y}<br>preview_value=%{customdata[0]}<br>preview_value_12=%{customdata[1]}<br>delta_vol=%{customdata[2]}<br>delta_vol_12=%{customdata[3]}<br>preview_share=%{customdata[4]}<br>delta_share_pp=%{customdata[5]}<br>QUALIF_DEST=%{customdata[6]}<extra></extra>\",\"legendgroup\":\"TRANSPEDROSA LTDA.|2023-09-01|CONSUMIDOR FINAL|RAIZEN\",\"marker\":{\"color\":\"rgb(128,177,211)\",\"symbol\":\"circle\"},\"mode\":\"markers\",\"name\":\"TRANSPEDROSA LTDA.|2023-09-01|CONSUMIDOR FINAL|RAIZEN\",\"orientation\":\"v\",\"showlegend\":true,\"x\":[799.0],\"xaxis\":\"x\",\"y\":[91.11],\"yaxis\":\"y\",\"type\":\"scatter\"},{\"customdata\":[[680.0,220.0,19.14,73.84,58.87,13.94,\"CONSUMIDOR FINAL\"]],\"hovertemplate\":\"id=COOTRAPAN - COOP. DOS TRANP. DO ESTADO DO PANTANAL|2023-09-01|CONSUMIDOR FINAL|RAIZEN<br>Volume m\\u00b3 setembro 2023=%{x}<br>share setembro 2023=%{y}<br>preview_value=%{customdata[0]}<br>preview_value_12=%{customdata[1]}<br>delta_vol=%{customdata[2]}<br>delta_vol_12=%{customdata[3]}<br>preview_share=%{customdata[4]}<br>delta_share_pp=%{customdata[5]}<br>QUALIF_DEST=%{customdata[6]}<extra></extra>\",\"legendgroup\":\"COOTRAPAN - COOP. DOS TRANP. DO ESTADO DO PANTANAL|2023-09-01|CONSUMIDOR FINAL|RAIZEN\",\"marker\":{\"color\":\"rgb(253,180,98)\",\"symbol\":\"circle\"},\"mode\":\"markers\",\"name\":\"COOTRAPAN - COOP. DOS TRANP. DO ESTADO DO PANTANAL|2023-09-01|CONSUMIDOR FINAL|RAIZEN\",\"orientation\":\"v\",\"showlegend\":true,\"x\":[841.0],\"xaxis\":\"x\",\"y\":[72.81],\"yaxis\":\"y\",\"type\":\"scatter\"},{\"customdata\":[[780.0,720.0,18.88,25.12,38.59,2.95,\"CONSUMIDOR FINAL\"]],\"hovertemplate\":\"id=S A USINA CORURIPE ACUCAR E ALCOOL|2023-09-01|CONSUMIDOR FINAL|RAIZEN<br>Volume m\\u00b3 setembro 2023=%{x}<br>share setembro 2023=%{y}<br>preview_value=%{customdata[0]}<br>preview_value_12=%{customdata[1]}<br>delta_vol=%{customdata[2]}<br>delta_vol_12=%{customdata[3]}<br>preview_share=%{customdata[4]}<br>delta_share_pp=%{customdata[5]}<br>QUALIF_DEST=%{customdata[6]}<extra></extra>\",\"legendgroup\":\"S A USINA CORURIPE ACUCAR E ALCOOL|2023-09-01|CONSUMIDOR FINAL|RAIZEN\",\"marker\":{\"color\":\"rgb(179,222,105)\",\"symbol\":\"circle\"},\"mode\":\"markers\",\"name\":\"S A USINA CORURIPE ACUCAR E ALCOOL|2023-09-01|CONSUMIDOR FINAL|RAIZEN\",\"orientation\":\"v\",\"showlegend\":true,\"x\":[961.5],\"xaxis\":\"x\",\"y\":[41.54],\"yaxis\":\"y\",\"type\":\"scatter\"},{\"customdata\":[[225.0,40.0,16.67,85.19,20.36,8.06,\"CONSUMIDOR FINAL\"]],\"hovertemplate\":\"id=VIX LOG\\u00cdSTICA SA|2023-09-01|CONSUMIDOR FINAL|RAIZEN<br>Volume m\\u00b3 setembro 2023=%{x}<br>share setembro 2023=%{y}<br>preview_value=%{customdata[0]}<br>preview_value_12=%{customdata[1]}<br>delta_vol=%{customdata[2]}<br>delta_vol_12=%{customdata[3]}<br>preview_share=%{customdata[4]}<br>delta_share_pp=%{customdata[5]}<br>QUALIF_DEST=%{customdata[6]}<extra></extra>\",\"legendgroup\":\"VIX LOG\\u00cdSTICA SA|2023-09-01|CONSUMIDOR FINAL|RAIZEN\",\"marker\":{\"color\":\"rgb(252,205,229)\",\"symbol\":\"circle\"},\"mode\":\"markers\",\"name\":\"VIX LOG\\u00cdSTICA SA|2023-09-01|CONSUMIDOR FINAL|RAIZEN\",\"orientation\":\"v\",\"showlegend\":true,\"x\":[270.0],\"xaxis\":\"x\",\"y\":[28.42],\"yaxis\":\"y\",\"type\":\"scatter\"},{\"customdata\":[[1064.0,null,15.56,null,83.42,-3.9,\"CONSUMIDOR FINAL\"]],\"hovertemplate\":\"id=CENTRAL ENERG\\u00c9TICA MORENO DE MONTE APRAZ\\u00cdVEL A\\u00c7\\u00daCAR E ALC\\u00d3OL LTDA.|2023-09-01|CONSUMIDOR FINAL|RAIZEN<br>Volume m\\u00b3 setembro 2023=%{x}<br>share setembro 2023=%{y}<br>preview_value=%{customdata[0]}<br>preview_value_12=%{customdata[1]}<br>delta_vol=%{customdata[2]}<br>delta_vol_12=%{customdata[3]}<br>preview_share=%{customdata[4]}<br>delta_share_pp=%{customdata[5]}<br>QUALIF_DEST=%{customdata[6]}<extra></extra>\",\"legendgroup\":\"CENTRAL ENERG\\u00c9TICA MORENO DE MONTE APRAZ\\u00cdVEL A\\u00c7\\u00daCAR E ALC\\u00d3OL LTDA.|2023-09-01|CONSUMIDOR FINAL|RAIZEN\",\"marker\":{\"color\":\"rgb(217,217,217)\",\"symbol\":\"circle\"},\"mode\":\"markers\",\"name\":\"CENTRAL ENERG\\u00c9TICA MORENO DE MONTE APRAZ\\u00cdVEL A\\u00c7\\u00daCAR E ALC\\u00d3OL LTDA.|2023-09-01|CONSUMIDOR FINAL|RAIZEN\",\"orientation\":\"v\",\"showlegend\":true,\"x\":[1260.0],\"xaxis\":\"x\",\"y\":[79.52],\"yaxis\":\"y\",\"type\":\"scatter\"},{\"customdata\":[[1292.5,1040.0,12.82,29.85,100.0,0.0,\"CONSUMIDOR FINAL\"]],\"hovertemplate\":\"id=RZ Agr\\u00edcola Caarap\\u00f3 LTDA.|2023-09-01|CONSUMIDOR FINAL|RAIZEN<br>Volume m\\u00b3 setembro 2023=%{x}<br>share setembro 2023=%{y}<br>preview_value=%{customdata[0]}<br>preview_value_12=%{customdata[1]}<br>delta_vol=%{customdata[2]}<br>delta_vol_12=%{customdata[3]}<br>preview_share=%{customdata[4]}<br>delta_share_pp=%{customdata[5]}<br>QUALIF_DEST=%{customdata[6]}<extra></extra>\",\"legendgroup\":\"RZ Agr\\u00edcola Caarap\\u00f3 LTDA.|2023-09-01|CONSUMIDOR FINAL|RAIZEN\",\"marker\":{\"color\":\"rgb(188,128,189)\",\"symbol\":\"circle\"},\"mode\":\"markers\",\"name\":\"RZ Agr\\u00edcola Caarap\\u00f3 LTDA.|2023-09-01|CONSUMIDOR FINAL|RAIZEN\",\"orientation\":\"v\",\"showlegend\":true,\"x\":[1482.5],\"xaxis\":\"x\",\"y\":[100.0],\"yaxis\":\"y\",\"type\":\"scatter\"},{\"customdata\":[[105.0,210.0,12.5,-75.0,10.1,2.88,\"CONSUMIDOR FINAL\"]],\"hovertemplate\":\"id=BERNATRANS TRANSPORTES URBANO S/A|2023-09-01|CONSUMIDOR FINAL|RAIZEN<br>Volume m\\u00b3 setembro 2023=%{x}<br>share setembro 2023=%{y}<br>preview_value=%{customdata[0]}<br>preview_value_12=%{customdata[1]}<br>delta_vol=%{customdata[2]}<br>delta_vol_12=%{customdata[3]}<br>preview_share=%{customdata[4]}<br>delta_share_pp=%{customdata[5]}<br>QUALIF_DEST=%{customdata[6]}<extra></extra>\",\"legendgroup\":\"BERNATRANS TRANSPORTES URBANO S/A|2023-09-01|CONSUMIDOR FINAL|RAIZEN\",\"marker\":{\"color\":\"rgb(204,235,197)\",\"symbol\":\"circle\"},\"mode\":\"markers\",\"name\":\"BERNATRANS TRANSPORTES URBANO S/A|2023-09-01|CONSUMIDOR FINAL|RAIZEN\",\"orientation\":\"v\",\"showlegend\":true,\"x\":[120.0],\"xaxis\":\"x\",\"y\":[12.97],\"yaxis\":\"y\",\"type\":\"scatter\"},{\"customdata\":[[1549.5,1663.0,11.78,5.32,59.44,4.33,\"CONSUMIDOR FINAL\"]],\"hovertemplate\":\"id=SJC BIOENERGIA LTDA|2023-09-01|CONSUMIDOR FINAL|RAIZEN<br>Volume m\\u00b3 setembro 2023=%{x}<br>share setembro 2023=%{y}<br>preview_value=%{customdata[0]}<br>preview_value_12=%{customdata[1]}<br>delta_vol=%{customdata[2]}<br>delta_vol_12=%{customdata[3]}<br>preview_share=%{customdata[4]}<br>delta_share_pp=%{customdata[5]}<br>QUALIF_DEST=%{customdata[6]}<extra></extra>\",\"legendgroup\":\"SJC BIOENERGIA LTDA|2023-09-01|CONSUMIDOR FINAL|RAIZEN\",\"marker\":{\"color\":\"rgb(255,237,111)\",\"symbol\":\"circle\"},\"mode\":\"markers\",\"name\":\"SJC BIOENERGIA LTDA|2023-09-01|CONSUMIDOR FINAL|RAIZEN\",\"orientation\":\"v\",\"showlegend\":true,\"x\":[1756.5],\"xaxis\":\"x\",\"y\":[63.77],\"yaxis\":\"y\",\"type\":\"scatter\"},{\"customdata\":[[770.0,344.0,11.29,60.37,33.71,4.29,\"CONSUMIDOR FINAL\"]],\"hovertemplate\":\"id=MobiBrasil Transporte S\\u00e3o Paulo Ltda.|2023-09-01|CONSUMIDOR FINAL|RAIZEN<br>Volume m\\u00b3 setembro 2023=%{x}<br>share setembro 2023=%{y}<br>preview_value=%{customdata[0]}<br>preview_value_12=%{customdata[1]}<br>delta_vol=%{customdata[2]}<br>delta_vol_12=%{customdata[3]}<br>preview_share=%{customdata[4]}<br>delta_share_pp=%{customdata[5]}<br>QUALIF_DEST=%{customdata[6]}<extra></extra>\",\"legendgroup\":\"MobiBrasil Transporte S\\u00e3o Paulo Ltda.|2023-09-01|CONSUMIDOR FINAL|RAIZEN\",\"marker\":{\"color\":\"rgb(141,211,199)\",\"symbol\":\"circle\"},\"mode\":\"markers\",\"name\":\"MobiBrasil Transporte S\\u00e3o Paulo Ltda.|2023-09-01|CONSUMIDOR FINAL|RAIZEN\",\"orientation\":\"v\",\"showlegend\":true,\"x\":[868.0],\"xaxis\":\"x\",\"y\":[38.0],\"yaxis\":\"y\",\"type\":\"scatter\"},{\"customdata\":[[251.0,null,10.04,null,18.7,2.51,\"CONSUMIDOR FINAL\"]],\"hovertemplate\":\"id=EMPREENDIMENTOS RODEIRO S/A|2023-09-01|CONSUMIDOR FINAL|RAIZEN<br>Volume m\\u00b3 setembro 2023=%{x}<br>share setembro 2023=%{y}<br>preview_value=%{customdata[0]}<br>preview_value_12=%{customdata[1]}<br>delta_vol=%{customdata[2]}<br>delta_vol_12=%{customdata[3]}<br>preview_share=%{customdata[4]}<br>delta_share_pp=%{customdata[5]}<br>QUALIF_DEST=%{customdata[6]}<extra></extra>\",\"legendgroup\":\"EMPREENDIMENTOS RODEIRO S/A|2023-09-01|CONSUMIDOR FINAL|RAIZEN\",\"marker\":{\"color\":\"rgb(255,255,179)\",\"symbol\":\"circle\"},\"mode\":\"markers\",\"name\":\"EMPREENDIMENTOS RODEIRO S/A|2023-09-01|CONSUMIDOR FINAL|RAIZEN\",\"orientation\":\"v\",\"showlegend\":true,\"x\":[279.0],\"xaxis\":\"x\",\"y\":[21.22],\"yaxis\":\"y\",\"type\":\"scatter\"},{\"customdata\":[[1052.0,791.0,7.64,30.55,97.68,1.45,\"CONSUMIDOR FINAL\"]],\"hovertemplate\":\"id=BUDEL TRANSPORTES LTDA|2023-09-01|CONSUMIDOR FINAL|RAIZEN<br>Volume m\\u00b3 setembro 2023=%{x}<br>share setembro 2023=%{y}<br>preview_value=%{customdata[0]}<br>preview_value_12=%{customdata[1]}<br>delta_vol=%{customdata[2]}<br>delta_vol_12=%{customdata[3]}<br>preview_share=%{customdata[4]}<br>delta_share_pp=%{customdata[5]}<br>QUALIF_DEST=%{customdata[6]}<extra></extra>\",\"legendgroup\":\"BUDEL TRANSPORTES LTDA|2023-09-01|CONSUMIDOR FINAL|RAIZEN\",\"marker\":{\"color\":\"rgb(190,186,218)\",\"symbol\":\"circle\"},\"mode\":\"markers\",\"name\":\"BUDEL TRANSPORTES LTDA|2023-09-01|CONSUMIDOR FINAL|RAIZEN\",\"orientation\":\"v\",\"showlegend\":true,\"x\":[1139.0],\"xaxis\":\"x\",\"y\":[99.13],\"yaxis\":\"y\",\"type\":\"scatter\"},{\"customdata\":[[1136.0,894.0,6.12,26.12,75.53,12.02,\"CONSUMIDOR FINAL\"]],\"hovertemplate\":\"id=COOPERATIVA DE CONSUMO DOS TRANSP. DE CONTAGEM|2023-09-01|CONSUMIDOR FINAL|RAIZEN<br>Volume m\\u00b3 setembro 2023=%{x}<br>share setembro 2023=%{y}<br>preview_value=%{customdata[0]}<br>preview_value_12=%{customdata[1]}<br>delta_vol=%{customdata[2]}<br>delta_vol_12=%{customdata[3]}<br>preview_share=%{customdata[4]}<br>delta_share_pp=%{customdata[5]}<br>QUALIF_DEST=%{customdata[6]}<extra></extra>\",\"legendgroup\":\"COOPERATIVA DE CONSUMO DOS TRANSP. DE CONTAGEM|2023-09-01|CONSUMIDOR FINAL|RAIZEN\",\"marker\":{\"color\":\"rgb(251,128,114)\",\"symbol\":\"circle\"},\"mode\":\"markers\",\"name\":\"COOPERATIVA DE CONSUMO DOS TRANSP. DE CONTAGEM|2023-09-01|CONSUMIDOR FINAL|RAIZEN\",\"orientation\":\"v\",\"showlegend\":true,\"x\":[1210.0],\"xaxis\":\"x\",\"y\":[87.55],\"yaxis\":\"y\",\"type\":\"scatter\"},{\"customdata\":[[1335.5,null,5.82,null,61.12,0.37,\"CONSUMIDOR FINAL\"]],\"hovertemplate\":\"id=JALLES MACHADO S.A.|2023-09-01|CONSUMIDOR FINAL|RAIZEN<br>Volume m\\u00b3 setembro 2023=%{x}<br>share setembro 2023=%{y}<br>preview_value=%{customdata[0]}<br>preview_value_12=%{customdata[1]}<br>delta_vol=%{customdata[2]}<br>delta_vol_12=%{customdata[3]}<br>preview_share=%{customdata[4]}<br>delta_share_pp=%{customdata[5]}<br>QUALIF_DEST=%{customdata[6]}<extra></extra>\",\"legendgroup\":\"JALLES MACHADO S.A.|2023-09-01|CONSUMIDOR FINAL|RAIZEN\",\"marker\":{\"color\":\"rgb(128,177,211)\",\"symbol\":\"circle\"},\"mode\":\"markers\",\"name\":\"JALLES MACHADO S.A.|2023-09-01|CONSUMIDOR FINAL|RAIZEN\",\"orientation\":\"v\",\"showlegend\":true,\"x\":[1418.0],\"xaxis\":\"x\",\"y\":[61.49],\"yaxis\":\"y\",\"type\":\"scatter\"},{\"customdata\":[[1115.0,355.0,5.39,69.88,34.62,2.25,\"CONSUMIDOR FINAL\"]],\"hovertemplate\":\"id=COOPERATIVA DOS TRANSPORTADORES DE AUT E DE CONSUMO DO EST DE MG LTDA-COOPERCEMG|2023-09-01|CONSUMIDOR FINAL|RAIZEN<br>Volume m\\u00b3 setembro 2023=%{x}<br>share setembro 2023=%{y}<br>preview_value=%{customdata[0]}<br>preview_value_12=%{customdata[1]}<br>delta_vol=%{customdata[2]}<br>delta_vol_12=%{customdata[3]}<br>preview_share=%{customdata[4]}<br>delta_share_pp=%{customdata[5]}<br>QUALIF_DEST=%{customdata[6]}<extra></extra>\",\"legendgroup\":\"COOPERATIVA DOS TRANSPORTADORES DE AUT E DE CONSUMO DO EST DE MG LTDA-COOPERCEMG|2023-09-01|CONSUMIDOR FINAL|RAIZEN\",\"marker\":{\"color\":\"rgb(253,180,98)\",\"symbol\":\"circle\"},\"mode\":\"markers\",\"name\":\"COOPERATIVA DOS TRANSPORTADORES DE AUT E DE CONSUMO DO EST DE MG LTDA-COOPERCEMG|2023-09-01|CONSUMIDOR FINAL|RAIZEN\",\"orientation\":\"v\",\"showlegend\":true,\"x\":[1178.51],\"xaxis\":\"x\",\"y\":[36.87],\"yaxis\":\"y\",\"type\":\"scatter\"},{\"customdata\":[[570.0,935.0,5.0,-55.83,24.97,2.77,\"CONSUMIDOR FINAL\"]],\"hovertemplate\":\"id=OTIMA TRANSPORTES DE SALVADOR SP/E|2023-09-01|CONSUMIDOR FINAL|RAIZEN<br>Volume m\\u00b3 setembro 2023=%{x}<br>share setembro 2023=%{y}<br>preview_value=%{customdata[0]}<br>preview_value_12=%{customdata[1]}<br>delta_vol=%{customdata[2]}<br>delta_vol_12=%{customdata[3]}<br>preview_share=%{customdata[4]}<br>delta_share_pp=%{customdata[5]}<br>QUALIF_DEST=%{customdata[6]}<extra></extra>\",\"legendgroup\":\"OTIMA TRANSPORTES DE SALVADOR SP/E|2023-09-01|CONSUMIDOR FINAL|RAIZEN\",\"marker\":{\"color\":\"rgb(179,222,105)\",\"symbol\":\"circle\"},\"mode\":\"markers\",\"name\":\"OTIMA TRANSPORTES DE SALVADOR SP/E|2023-09-01|CONSUMIDOR FINAL|RAIZEN\",\"orientation\":\"v\",\"showlegend\":true,\"x\":[600.0],\"xaxis\":\"x\",\"y\":[27.74],\"yaxis\":\"y\",\"type\":\"scatter\"},{\"customdata\":[[1165.0,970.0,4.27,20.3,100.0,0.0,\"CONSUMIDOR FINAL\"]],\"hovertemplate\":\"id=TRANSPORTES SANTO ANTONIO LTDA|2023-09-01|CONSUMIDOR FINAL|RAIZEN<br>Volume m\\u00b3 setembro 2023=%{x}<br>share setembro 2023=%{y}<br>preview_value=%{customdata[0]}<br>preview_value_12=%{customdata[1]}<br>delta_vol=%{customdata[2]}<br>delta_vol_12=%{customdata[3]}<br>preview_share=%{customdata[4]}<br>delta_share_pp=%{customdata[5]}<br>QUALIF_DEST=%{customdata[6]}<extra></extra>\",\"legendgroup\":\"TRANSPORTES SANTO ANTONIO LTDA|2023-09-01|CONSUMIDOR FINAL|RAIZEN\",\"marker\":{\"color\":\"rgb(252,205,229)\",\"symbol\":\"circle\"},\"mode\":\"markers\",\"name\":\"TRANSPORTES SANTO ANTONIO LTDA|2023-09-01|CONSUMIDOR FINAL|RAIZEN\",\"orientation\":\"v\",\"showlegend\":true,\"x\":[1217.0],\"xaxis\":\"x\",\"y\":[100.0],\"yaxis\":\"y\",\"type\":\"scatter\"},{\"customdata\":[[1999.0,null,2.96,null,100.0,0.0,\"CONSUMIDOR FINAL\"]],\"hovertemplate\":\"id=COMPANHIA MELHORAMENTOS NORTE DO PARANA|2023-09-01|CONSUMIDOR FINAL|RAIZEN<br>Volume m\\u00b3 setembro 2023=%{x}<br>share setembro 2023=%{y}<br>preview_value=%{customdata[0]}<br>preview_value_12=%{customdata[1]}<br>delta_vol=%{customdata[2]}<br>delta_vol_12=%{customdata[3]}<br>preview_share=%{customdata[4]}<br>delta_share_pp=%{customdata[5]}<br>QUALIF_DEST=%{customdata[6]}<extra></extra>\",\"legendgroup\":\"COMPANHIA MELHORAMENTOS NORTE DO PARANA|2023-09-01|CONSUMIDOR FINAL|RAIZEN\",\"marker\":{\"color\":\"rgb(217,217,217)\",\"symbol\":\"circle\"},\"mode\":\"markers\",\"name\":\"COMPANHIA MELHORAMENTOS NORTE DO PARANA|2023-09-01|CONSUMIDOR FINAL|RAIZEN\",\"orientation\":\"v\",\"showlegend\":true,\"x\":[2060.0],\"xaxis\":\"x\",\"y\":[100.0],\"yaxis\":\"y\",\"type\":\"scatter\"},{\"customdata\":[[730.0,665.0,2.67,11.33,83.43,13.97,\"CONSUMIDOR FINAL\"]],\"hovertemplate\":\"id=TRANSPORTES CAVALINHO LTDA.|2023-09-01|CONSUMIDOR FINAL|RAIZEN<br>Volume m\\u00b3 setembro 2023=%{x}<br>share setembro 2023=%{y}<br>preview_value=%{customdata[0]}<br>preview_value_12=%{customdata[1]}<br>delta_vol=%{customdata[2]}<br>delta_vol_12=%{customdata[3]}<br>preview_share=%{customdata[4]}<br>delta_share_pp=%{customdata[5]}<br>QUALIF_DEST=%{customdata[6]}<extra></extra>\",\"legendgroup\":\"TRANSPORTES CAVALINHO LTDA.|2023-09-01|CONSUMIDOR FINAL|RAIZEN\",\"marker\":{\"color\":\"rgb(188,128,189)\",\"symbol\":\"circle\"},\"mode\":\"markers\",\"name\":\"TRANSPORTES CAVALINHO LTDA.|2023-09-01|CONSUMIDOR FINAL|RAIZEN\",\"orientation\":\"v\",\"showlegend\":true,\"x\":[750.0],\"xaxis\":\"x\",\"y\":[97.4],\"yaxis\":\"y\",\"type\":\"scatter\"},{\"customdata\":[[595.0,220.0,2.46,63.93,50.42,4.04,\"CONSUMIDOR FINAL\"]],\"hovertemplate\":\"id=TRANSPORTADORA TURISTICA SUZANO LTDA.|2023-09-01|CONSUMIDOR FINAL|RAIZEN<br>Volume m\\u00b3 setembro 2023=%{x}<br>share setembro 2023=%{y}<br>preview_value=%{customdata[0]}<br>preview_value_12=%{customdata[1]}<br>delta_vol=%{customdata[2]}<br>delta_vol_12=%{customdata[3]}<br>preview_share=%{customdata[4]}<br>delta_share_pp=%{customdata[5]}<br>QUALIF_DEST=%{customdata[6]}<extra></extra>\",\"legendgroup\":\"TRANSPORTADORA TURISTICA SUZANO LTDA.|2023-09-01|CONSUMIDOR FINAL|RAIZEN\",\"marker\":{\"color\":\"rgb(204,235,197)\",\"symbol\":\"circle\"},\"mode\":\"markers\",\"name\":\"TRANSPORTADORA TURISTICA SUZANO LTDA.|2023-09-01|CONSUMIDOR FINAL|RAIZEN\",\"orientation\":\"v\",\"showlegend\":true,\"x\":[610.0],\"xaxis\":\"x\",\"y\":[54.46],\"yaxis\":\"y\",\"type\":\"scatter\"},{\"customdata\":[[890.0,920.0,2.2,-1.1,79.11,5.54,\"CONSUMIDOR FINAL\"]],\"hovertemplate\":\"id=Concreserv Concreto S/A|2023-09-01|CONSUMIDOR FINAL|RAIZEN<br>Volume m\\u00b3 setembro 2023=%{x}<br>share setembro 2023=%{y}<br>preview_value=%{customdata[0]}<br>preview_value_12=%{customdata[1]}<br>delta_vol=%{customdata[2]}<br>delta_vol_12=%{customdata[3]}<br>preview_share=%{customdata[4]}<br>delta_share_pp=%{customdata[5]}<br>QUALIF_DEST=%{customdata[6]}<extra></extra>\",\"legendgroup\":\"Concreserv Concreto S/A|2023-09-01|CONSUMIDOR FINAL|RAIZEN\",\"marker\":{\"color\":\"rgb(255,237,111)\",\"symbol\":\"circle\"},\"mode\":\"markers\",\"name\":\"Concreserv Concreto S/A|2023-09-01|CONSUMIDOR FINAL|RAIZEN\",\"orientation\":\"v\",\"showlegend\":true,\"x\":[910.0],\"xaxis\":\"x\",\"y\":[84.65],\"yaxis\":\"y\",\"type\":\"scatter\"},{\"customdata\":[[910.0,930.0,1.62,-0.54,100.0,0.0,\"CONSUMIDOR FINAL\"]],\"hovertemplate\":\"id=JAMEF TRANSPORTES EIRELI|2023-09-01|CONSUMIDOR FINAL|RAIZEN<br>Volume m\\u00b3 setembro 2023=%{x}<br>share setembro 2023=%{y}<br>preview_value=%{customdata[0]}<br>preview_value_12=%{customdata[1]}<br>delta_vol=%{customdata[2]}<br>delta_vol_12=%{customdata[3]}<br>preview_share=%{customdata[4]}<br>delta_share_pp=%{customdata[5]}<br>QUALIF_DEST=%{customdata[6]}<extra></extra>\",\"legendgroup\":\"JAMEF TRANSPORTES EIRELI|2023-09-01|CONSUMIDOR FINAL|RAIZEN\",\"marker\":{\"color\":\"rgb(141,211,199)\",\"symbol\":\"circle\"},\"mode\":\"markers\",\"name\":\"JAMEF TRANSPORTES EIRELI|2023-09-01|CONSUMIDOR FINAL|RAIZEN\",\"orientation\":\"v\",\"showlegend\":true,\"x\":[925.0],\"xaxis\":\"x\",\"y\":[100.0],\"yaxis\":\"y\",\"type\":\"scatter\"},{\"customdata\":[[758.0,710.0,1.56,7.79,94.99,3.86,\"CONSUMIDOR FINAL\"]],\"hovertemplate\":\"id=TRANSPORTADORA VERONESE LTDA.|2023-09-01|CONSUMIDOR FINAL|RAIZEN<br>Volume m\\u00b3 setembro 2023=%{x}<br>share setembro 2023=%{y}<br>preview_value=%{customdata[0]}<br>preview_value_12=%{customdata[1]}<br>delta_vol=%{customdata[2]}<br>delta_vol_12=%{customdata[3]}<br>preview_share=%{customdata[4]}<br>delta_share_pp=%{customdata[5]}<br>QUALIF_DEST=%{customdata[6]}<extra></extra>\",\"legendgroup\":\"TRANSPORTADORA VERONESE LTDA.|2023-09-01|CONSUMIDOR FINAL|RAIZEN\",\"marker\":{\"color\":\"rgb(255,255,179)\",\"symbol\":\"circle\"},\"mode\":\"markers\",\"name\":\"TRANSPORTADORA VERONESE LTDA.|2023-09-01|CONSUMIDOR FINAL|RAIZEN\",\"orientation\":\"v\",\"showlegend\":true,\"x\":[770.0],\"xaxis\":\"x\",\"y\":[98.84],\"yaxis\":\"y\",\"type\":\"scatter\"},{\"customdata\":[[1455.0,1095.0,0.34,25.0,100.0,0.0,\"CONSUMIDOR FINAL\"]],\"hovertemplate\":\"id=Vallourec Tubos do Brasil LTDA|2023-09-01|CONSUMIDOR FINAL|RAIZEN<br>Volume m\\u00b3 setembro 2023=%{x}<br>share setembro 2023=%{y}<br>preview_value=%{customdata[0]}<br>preview_value_12=%{customdata[1]}<br>delta_vol=%{customdata[2]}<br>delta_vol_12=%{customdata[3]}<br>preview_share=%{customdata[4]}<br>delta_share_pp=%{customdata[5]}<br>QUALIF_DEST=%{customdata[6]}<extra></extra>\",\"legendgroup\":\"Vallourec Tubos do Brasil LTDA|2023-09-01|CONSUMIDOR FINAL|RAIZEN\",\"marker\":{\"color\":\"rgb(190,186,218)\",\"symbol\":\"circle\"},\"mode\":\"markers\",\"name\":\"Vallourec Tubos do Brasil LTDA|2023-09-01|CONSUMIDOR FINAL|RAIZEN\",\"orientation\":\"v\",\"showlegend\":true,\"x\":[1460.0],\"xaxis\":\"x\",\"y\":[100.0],\"yaxis\":\"y\",\"type\":\"scatter\"},{\"customdata\":[[1203.5,1093.5,0.17,9.29,100.0,0.0,\"CONSUMIDOR FINAL\"]],\"hovertemplate\":\"id=COOPERATIVA AGR PROD CANA DE CAMPO NOVO DO PARECIS LTDA|2023-09-01|CONSUMIDOR FINAL|RAIZEN<br>Volume m\\u00b3 setembro 2023=%{x}<br>share setembro 2023=%{y}<br>preview_value=%{customdata[0]}<br>preview_value_12=%{customdata[1]}<br>delta_vol=%{customdata[2]}<br>delta_vol_12=%{customdata[3]}<br>preview_share=%{customdata[4]}<br>delta_share_pp=%{customdata[5]}<br>QUALIF_DEST=%{customdata[6]}<extra></extra>\",\"legendgroup\":\"COOPERATIVA AGR PROD CANA DE CAMPO NOVO DO PARECIS LTDA|2023-09-01|CONSUMIDOR FINAL|RAIZEN\",\"marker\":{\"color\":\"rgb(251,128,114)\",\"symbol\":\"circle\"},\"mode\":\"markers\",\"name\":\"COOPERATIVA AGR PROD CANA DE CAMPO NOVO DO PARECIS LTDA|2023-09-01|CONSUMIDOR FINAL|RAIZEN\",\"orientation\":\"v\",\"showlegend\":true,\"x\":[1205.5],\"xaxis\":\"x\",\"y\":[100.0],\"yaxis\":\"y\",\"type\":\"scatter\"},{\"customdata\":[[129.0,5.0,0.0,96.12,13.42,-0.14,\"CONSUMIDOR FINAL\"]],\"hovertemplate\":\"id=TRANSMOB TRANSPORTES LTDA|2023-09-01|CONSUMIDOR FINAL|RAIZEN<br>Volume m\\u00b3 setembro 2023=%{x}<br>share setembro 2023=%{y}<br>preview_value=%{customdata[0]}<br>preview_value_12=%{customdata[1]}<br>delta_vol=%{customdata[2]}<br>delta_vol_12=%{customdata[3]}<br>preview_share=%{customdata[4]}<br>delta_share_pp=%{customdata[5]}<br>QUALIF_DEST=%{customdata[6]}<extra></extra>\",\"legendgroup\":\"TRANSMOB TRANSPORTES LTDA|2023-09-01|CONSUMIDOR FINAL|RAIZEN\",\"marker\":{\"color\":\"rgb(128,177,211)\",\"symbol\":\"circle\"},\"mode\":\"markers\",\"name\":\"TRANSMOB TRANSPORTES LTDA|2023-09-01|CONSUMIDOR FINAL|RAIZEN\",\"orientation\":\"v\",\"showlegend\":true,\"x\":[129.0],\"xaxis\":\"x\",\"y\":[13.29],\"yaxis\":\"y\",\"type\":\"scatter\"},{\"customdata\":[[1077.0,1104.0,-0.09,-2.6,100.0,0.0,\"CONSUMIDOR FINAL\"]],\"hovertemplate\":\"id=A2 Transportes Ltda|2023-09-01|CONSUMIDOR FINAL|RAIZEN<br>Volume m\\u00b3 setembro 2023=%{x}<br>share setembro 2023=%{y}<br>preview_value=%{customdata[0]}<br>preview_value_12=%{customdata[1]}<br>delta_vol=%{customdata[2]}<br>delta_vol_12=%{customdata[3]}<br>preview_share=%{customdata[4]}<br>delta_share_pp=%{customdata[5]}<br>QUALIF_DEST=%{customdata[6]}<extra></extra>\",\"legendgroup\":\"A2 Transportes Ltda|2023-09-01|CONSUMIDOR FINAL|RAIZEN\",\"marker\":{\"color\":\"rgb(253,180,98)\",\"symbol\":\"circle\"},\"mode\":\"markers\",\"name\":\"A2 Transportes Ltda|2023-09-01|CONSUMIDOR FINAL|RAIZEN\",\"orientation\":\"v\",\"showlegend\":true,\"x\":[1076.0],\"xaxis\":\"x\",\"y\":[100.0],\"yaxis\":\"y\",\"type\":\"scatter\"},{\"customdata\":[[790.0,670.0,-0.64,14.65,79.8,2.4,\"CONSUMIDOR FINAL\"]],\"hovertemplate\":\"id=TRANSPORTES TRANSLOVATO LTDA|2023-09-01|CONSUMIDOR FINAL|RAIZEN<br>Volume m\\u00b3 setembro 2023=%{x}<br>share setembro 2023=%{y}<br>preview_value=%{customdata[0]}<br>preview_value_12=%{customdata[1]}<br>delta_vol=%{customdata[2]}<br>delta_vol_12=%{customdata[3]}<br>preview_share=%{customdata[4]}<br>delta_share_pp=%{customdata[5]}<br>QUALIF_DEST=%{customdata[6]}<extra></extra>\",\"legendgroup\":\"TRANSPORTES TRANSLOVATO LTDA|2023-09-01|CONSUMIDOR FINAL|RAIZEN\",\"marker\":{\"color\":\"rgb(179,222,105)\",\"symbol\":\"circle\"},\"mode\":\"markers\",\"name\":\"TRANSPORTES TRANSLOVATO LTDA|2023-09-01|CONSUMIDOR FINAL|RAIZEN\",\"orientation\":\"v\",\"showlegend\":true,\"x\":[785.0],\"xaxis\":\"x\",\"y\":[82.2],\"yaxis\":\"y\",\"type\":\"scatter\"},{\"customdata\":[[345.0,345.0,-1.47,-1.47,40.83,-1.11,\"CONSUMIDOR FINAL\"]],\"hovertemplate\":\"id=FTL Ferrovia Transnordestina Log\\u00edstica S/A|2023-09-01|CONSUMIDOR FINAL|RAIZEN<br>Volume m\\u00b3 setembro 2023=%{x}<br>share setembro 2023=%{y}<br>preview_value=%{customdata[0]}<br>preview_value_12=%{customdata[1]}<br>delta_vol=%{customdata[2]}<br>delta_vol_12=%{customdata[3]}<br>preview_share=%{customdata[4]}<br>delta_share_pp=%{customdata[5]}<br>QUALIF_DEST=%{customdata[6]}<extra></extra>\",\"legendgroup\":\"FTL Ferrovia Transnordestina Log\\u00edstica S/A|2023-09-01|CONSUMIDOR FINAL|RAIZEN\",\"marker\":{\"color\":\"rgb(252,205,229)\",\"symbol\":\"circle\"},\"mode\":\"markers\",\"name\":\"FTL Ferrovia Transnordestina Log\\u00edstica S/A|2023-09-01|CONSUMIDOR FINAL|RAIZEN\",\"orientation\":\"v\",\"showlegend\":true,\"x\":[340.0],\"xaxis\":\"x\",\"y\":[39.72],\"yaxis\":\"y\",\"type\":\"scatter\"},{\"customdata\":[[1262.0,1268.5,-1.73,-2.26,100.0,0.0,\"CONSUMIDOR FINAL\"]],\"hovertemplate\":\"id=GOIASA GOIATUBA ALCOOL LTDA|2023-09-01|CONSUMIDOR FINAL|RAIZEN<br>Volume m\\u00b3 setembro 2023=%{x}<br>share setembro 2023=%{y}<br>preview_value=%{customdata[0]}<br>preview_value_12=%{customdata[1]}<br>delta_vol=%{customdata[2]}<br>delta_vol_12=%{customdata[3]}<br>preview_share=%{customdata[4]}<br>delta_share_pp=%{customdata[5]}<br>QUALIF_DEST=%{customdata[6]}<extra></extra>\",\"legendgroup\":\"GOIASA GOIATUBA ALCOOL LTDA|2023-09-01|CONSUMIDOR FINAL|RAIZEN\",\"marker\":{\"color\":\"rgb(217,217,217)\",\"symbol\":\"circle\"},\"mode\":\"markers\",\"name\":\"GOIASA GOIATUBA ALCOOL LTDA|2023-09-01|CONSUMIDOR FINAL|RAIZEN\",\"orientation\":\"v\",\"showlegend\":true,\"x\":[1240.5],\"xaxis\":\"x\",\"y\":[100.0],\"yaxis\":\"y\",\"type\":\"scatter\"},{\"customdata\":[[1193.81,600.0,-2.04,48.72,100.0,0.0,\"CONSUMIDOR FINAL\"]],\"hovertemplate\":\"id=P\\u00eassego Transportes|2023-09-01|CONSUMIDOR FINAL|RAIZEN<br>Volume m\\u00b3 setembro 2023=%{x}<br>share setembro 2023=%{y}<br>preview_value=%{customdata[0]}<br>preview_value_12=%{customdata[1]}<br>delta_vol=%{customdata[2]}<br>delta_vol_12=%{customdata[3]}<br>preview_share=%{customdata[4]}<br>delta_share_pp=%{customdata[5]}<br>QUALIF_DEST=%{customdata[6]}<extra></extra>\",\"legendgroup\":\"P\\u00eassego Transportes|2023-09-01|CONSUMIDOR FINAL|RAIZEN\",\"marker\":{\"color\":\"rgb(188,128,189)\",\"symbol\":\"circle\"},\"mode\":\"markers\",\"name\":\"P\\u00eassego Transportes|2023-09-01|CONSUMIDOR FINAL|RAIZEN\",\"orientation\":\"v\",\"showlegend\":true,\"x\":[1170.0],\"xaxis\":\"x\",\"y\":[100.0],\"yaxis\":\"y\",\"type\":\"scatter\"},{\"customdata\":[[1110.0,1010.0,-2.3,6.91,100.0,0.0,\"CONSUMIDOR FINAL\"]],\"hovertemplate\":\"id=VIA\\u00c7\\u00c3O REDENTOR LTDA|2023-09-01|CONSUMIDOR FINAL|RAIZEN<br>Volume m\\u00b3 setembro 2023=%{x}<br>share setembro 2023=%{y}<br>preview_value=%{customdata[0]}<br>preview_value_12=%{customdata[1]}<br>delta_vol=%{customdata[2]}<br>delta_vol_12=%{customdata[3]}<br>preview_share=%{customdata[4]}<br>delta_share_pp=%{customdata[5]}<br>QUALIF_DEST=%{customdata[6]}<extra></extra>\",\"legendgroup\":\"VIA\\u00c7\\u00c3O REDENTOR LTDA|2023-09-01|CONSUMIDOR FINAL|RAIZEN\",\"marker\":{\"color\":\"rgb(204,235,197)\",\"symbol\":\"circle\"},\"mode\":\"markers\",\"name\":\"VIA\\u00c7\\u00c3O REDENTOR LTDA|2023-09-01|CONSUMIDOR FINAL|RAIZEN\",\"orientation\":\"v\",\"showlegend\":true,\"x\":[1085.0],\"xaxis\":\"x\",\"y\":[100.0],\"yaxis\":\"y\",\"type\":\"scatter\"},{\"customdata\":[[1355.0,1296.0,-2.5,1.97,100.0,0.0,\"CONSUMIDOR FINAL\"]],\"hovertemplate\":\"id=SARITUR SANTA RITA TRANSPORTE URBANO E RODOVIARIO LTDA|2023-09-01|CONSUMIDOR FINAL|RAIZEN<br>Volume m\\u00b3 setembro 2023=%{x}<br>share setembro 2023=%{y}<br>preview_value=%{customdata[0]}<br>preview_value_12=%{customdata[1]}<br>delta_vol=%{customdata[2]}<br>delta_vol_12=%{customdata[3]}<br>preview_share=%{customdata[4]}<br>delta_share_pp=%{customdata[5]}<br>QUALIF_DEST=%{customdata[6]}<extra></extra>\",\"legendgroup\":\"SARITUR SANTA RITA TRANSPORTE URBANO E RODOVIARIO LTDA|2023-09-01|CONSUMIDOR FINAL|RAIZEN\",\"marker\":{\"color\":\"rgb(255,237,111)\",\"symbol\":\"circle\"},\"mode\":\"markers\",\"name\":\"SARITUR SANTA RITA TRANSPORTE URBANO E RODOVIARIO LTDA|2023-09-01|CONSUMIDOR FINAL|RAIZEN\",\"orientation\":\"v\",\"showlegend\":true,\"x\":[1322.0],\"xaxis\":\"x\",\"y\":[100.0],\"yaxis\":\"y\",\"type\":\"scatter\"},{\"customdata\":[[1741.2,1482.5,-3.0,12.3,100.0,-2.59,\"CONSUMIDOR FINAL\"]],\"hovertemplate\":\"id=USINA BELA VISTA S/A|2023-09-01|CONSUMIDOR FINAL|RAIZEN<br>Volume m\\u00b3 setembro 2023=%{x}<br>share setembro 2023=%{y}<br>preview_value=%{customdata[0]}<br>preview_value_12=%{customdata[1]}<br>delta_vol=%{customdata[2]}<br>delta_vol_12=%{customdata[3]}<br>preview_share=%{customdata[4]}<br>delta_share_pp=%{customdata[5]}<br>QUALIF_DEST=%{customdata[6]}<extra></extra>\",\"legendgroup\":\"USINA BELA VISTA S/A|2023-09-01|CONSUMIDOR FINAL|RAIZEN\",\"marker\":{\"color\":\"rgb(141,211,199)\",\"symbol\":\"circle\"},\"mode\":\"markers\",\"name\":\"USINA BELA VISTA S/A|2023-09-01|CONSUMIDOR FINAL|RAIZEN\",\"orientation\":\"v\",\"showlegend\":true,\"x\":[1690.5],\"xaxis\":\"x\",\"y\":[97.41],\"yaxis\":\"y\",\"type\":\"scatter\"},{\"customdata\":[[1345.0,895.0,-3.07,31.42,100.0,0.0,\"CONSUMIDOR FINAL\"]],\"hovertemplate\":\"id=EXPRESSO NEPOMUCENO S/A|2023-09-01|CONSUMIDOR FINAL|RAIZEN<br>Volume m\\u00b3 setembro 2023=%{x}<br>share setembro 2023=%{y}<br>preview_value=%{customdata[0]}<br>preview_value_12=%{customdata[1]}<br>delta_vol=%{customdata[2]}<br>delta_vol_12=%{customdata[3]}<br>preview_share=%{customdata[4]}<br>delta_share_pp=%{customdata[5]}<br>QUALIF_DEST=%{customdata[6]}<extra></extra>\",\"legendgroup\":\"EXPRESSO NEPOMUCENO S/A|2023-09-01|CONSUMIDOR FINAL|RAIZEN\",\"marker\":{\"color\":\"rgb(255,255,179)\",\"symbol\":\"circle\"},\"mode\":\"markers\",\"name\":\"EXPRESSO NEPOMUCENO S/A|2023-09-01|CONSUMIDOR FINAL|RAIZEN\",\"orientation\":\"v\",\"showlegend\":true,\"x\":[1305.0],\"xaxis\":\"x\",\"y\":[100.0],\"yaxis\":\"y\",\"type\":\"scatter\"},{\"customdata\":[[1305.0,1110.0,-3.16,12.25,100.0,0.0,\"CONSUMIDOR FINAL\"]],\"hovertemplate\":\"id=TRANSPORTES BARRA LTDA|2023-09-01|CONSUMIDOR FINAL|RAIZEN<br>Volume m\\u00b3 setembro 2023=%{x}<br>share setembro 2023=%{y}<br>preview_value=%{customdata[0]}<br>preview_value_12=%{customdata[1]}<br>delta_vol=%{customdata[2]}<br>delta_vol_12=%{customdata[3]}<br>preview_share=%{customdata[4]}<br>delta_share_pp=%{customdata[5]}<br>QUALIF_DEST=%{customdata[6]}<extra></extra>\",\"legendgroup\":\"TRANSPORTES BARRA LTDA|2023-09-01|CONSUMIDOR FINAL|RAIZEN\",\"marker\":{\"color\":\"rgb(190,186,218)\",\"symbol\":\"circle\"},\"mode\":\"markers\",\"name\":\"TRANSPORTES BARRA LTDA|2023-09-01|CONSUMIDOR FINAL|RAIZEN\",\"orientation\":\"v\",\"showlegend\":true,\"x\":[1265.0],\"xaxis\":\"x\",\"y\":[100.0],\"yaxis\":\"y\",\"type\":\"scatter\"},{\"customdata\":[[487.5,471.5,-3.28,0.11,34.13,1.15,\"CONSUMIDOR FINAL\"]],\"hovertemplate\":\"id=ACUCAREIRA QUATA S/A|2023-09-01|CONSUMIDOR FINAL|RAIZEN<br>Volume m\\u00b3 setembro 2023=%{x}<br>share setembro 2023=%{y}<br>preview_value=%{customdata[0]}<br>preview_value_12=%{customdata[1]}<br>delta_vol=%{customdata[2]}<br>delta_vol_12=%{customdata[3]}<br>preview_share=%{customdata[4]}<br>delta_share_pp=%{customdata[5]}<br>QUALIF_DEST=%{customdata[6]}<extra></extra>\",\"legendgroup\":\"ACUCAREIRA QUATA S/A|2023-09-01|CONSUMIDOR FINAL|RAIZEN\",\"marker\":{\"color\":\"rgb(251,128,114)\",\"symbol\":\"circle\"},\"mode\":\"markers\",\"name\":\"ACUCAREIRA QUATA S/A|2023-09-01|CONSUMIDOR FINAL|RAIZEN\",\"orientation\":\"v\",\"showlegend\":true,\"x\":[472.0],\"xaxis\":\"x\",\"y\":[35.28],\"yaxis\":\"y\",\"type\":\"scatter\"},{\"customdata\":[[2280.0,1466.0,-3.45,33.48,100.0,0.0,\"CONSUMIDOR FINAL\"]],\"hovertemplate\":\"id=DA MATA S.A. - ACUCAR E ALCOOL|2023-09-01|CONSUMIDOR FINAL|RAIZEN<br>Volume m\\u00b3 setembro 2023=%{x}<br>share setembro 2023=%{y}<br>preview_value=%{customdata[0]}<br>preview_value_12=%{customdata[1]}<br>delta_vol=%{customdata[2]}<br>delta_vol_12=%{customdata[3]}<br>preview_share=%{customdata[4]}<br>delta_share_pp=%{customdata[5]}<br>QUALIF_DEST=%{customdata[6]}<extra></extra>\",\"legendgroup\":\"DA MATA S.A. - ACUCAR E ALCOOL|2023-09-01|CONSUMIDOR FINAL|RAIZEN\",\"marker\":{\"color\":\"rgb(128,177,211)\",\"symbol\":\"circle\"},\"mode\":\"markers\",\"name\":\"DA MATA S.A. - ACUCAR E ALCOOL|2023-09-01|CONSUMIDOR FINAL|RAIZEN\",\"orientation\":\"v\",\"showlegend\":true,\"x\":[2204.0],\"xaxis\":\"x\",\"y\":[100.0],\"yaxis\":\"y\",\"type\":\"scatter\"},{\"customdata\":[[955.0,545.0,-3.8,40.76,86.43,1.19,\"CONSUMIDOR FINAL\"]],\"hovertemplate\":\"id=PATRUS TRANSPORTES URGENTES LTDA|2023-09-01|CONSUMIDOR FINAL|RAIZEN<br>Volume m\\u00b3 setembro 2023=%{x}<br>share setembro 2023=%{y}<br>preview_value=%{customdata[0]}<br>preview_value_12=%{customdata[1]}<br>delta_vol=%{customdata[2]}<br>delta_vol_12=%{customdata[3]}<br>preview_share=%{customdata[4]}<br>delta_share_pp=%{customdata[5]}<br>QUALIF_DEST=%{customdata[6]}<extra></extra>\",\"legendgroup\":\"PATRUS TRANSPORTES URGENTES LTDA|2023-09-01|CONSUMIDOR FINAL|RAIZEN\",\"marker\":{\"color\":\"rgb(253,180,98)\",\"symbol\":\"circle\"},\"mode\":\"markers\",\"name\":\"PATRUS TRANSPORTES URGENTES LTDA|2023-09-01|CONSUMIDOR FINAL|RAIZEN\",\"orientation\":\"v\",\"showlegend\":true,\"x\":[920.0],\"xaxis\":\"x\",\"y\":[87.62],\"yaxis\":\"y\",\"type\":\"scatter\"},{\"customdata\":[[1000.0,946.0,-4.06,1.56,100.0,0.0,\"CONSUMIDOR FINAL\"]],\"hovertemplate\":\"id=NEXA RECURSOS MINERAIS S/A|2023-09-01|CONSUMIDOR FINAL|RAIZEN<br>Volume m\\u00b3 setembro 2023=%{x}<br>share setembro 2023=%{y}<br>preview_value=%{customdata[0]}<br>preview_value_12=%{customdata[1]}<br>delta_vol=%{customdata[2]}<br>delta_vol_12=%{customdata[3]}<br>preview_share=%{customdata[4]}<br>delta_share_pp=%{customdata[5]}<br>QUALIF_DEST=%{customdata[6]}<extra></extra>\",\"legendgroup\":\"NEXA RECURSOS MINERAIS S/A|2023-09-01|CONSUMIDOR FINAL|RAIZEN\",\"marker\":{\"color\":\"rgb(179,222,105)\",\"symbol\":\"circle\"},\"mode\":\"markers\",\"name\":\"NEXA RECURSOS MINERAIS S/A|2023-09-01|CONSUMIDOR FINAL|RAIZEN\",\"orientation\":\"v\",\"showlegend\":true,\"x\":[961.0],\"xaxis\":\"x\",\"y\":[100.0],\"yaxis\":\"y\",\"type\":\"scatter\"},{\"customdata\":[[3704.5,null,-4.37,null,100.0,0.0,\"CONSUMIDOR FINAL\"]],\"hovertemplate\":\"id=COCAL COMERCIO INDUSTRIA CANAA ACUCAR E ALCOOL LTDA|2023-09-01|CONSUMIDOR FINAL|RAIZEN<br>Volume m\\u00b3 setembro 2023=%{x}<br>share setembro 2023=%{y}<br>preview_value=%{customdata[0]}<br>preview_value_12=%{customdata[1]}<br>delta_vol=%{customdata[2]}<br>delta_vol_12=%{customdata[3]}<br>preview_share=%{customdata[4]}<br>delta_share_pp=%{customdata[5]}<br>QUALIF_DEST=%{customdata[6]}<extra></extra>\",\"legendgroup\":\"COCAL COMERCIO INDUSTRIA CANAA ACUCAR E ALCOOL LTDA|2023-09-01|CONSUMIDOR FINAL|RAIZEN\",\"marker\":{\"color\":\"rgb(252,205,229)\",\"symbol\":\"circle\"},\"mode\":\"markers\",\"name\":\"COCAL COMERCIO INDUSTRIA CANAA ACUCAR E ALCOOL LTDA|2023-09-01|CONSUMIDOR FINAL|RAIZEN\",\"orientation\":\"v\",\"showlegend\":true,\"x\":[3549.5],\"xaxis\":\"x\",\"y\":[100.0],\"yaxis\":\"y\",\"type\":\"scatter\"},{\"customdata\":[[2370.0,2400.0,-4.64,-5.96,100.0,0.0,\"CONSUMIDOR FINAL\"]],\"hovertemplate\":\"id=VERACEL CELULOSE S.A.|2023-09-01|CONSUMIDOR FINAL|RAIZEN<br>Volume m\\u00b3 setembro 2023=%{x}<br>share setembro 2023=%{y}<br>preview_value=%{customdata[0]}<br>preview_value_12=%{customdata[1]}<br>delta_vol=%{customdata[2]}<br>delta_vol_12=%{customdata[3]}<br>preview_share=%{customdata[4]}<br>delta_share_pp=%{customdata[5]}<br>QUALIF_DEST=%{customdata[6]}<extra></extra>\",\"legendgroup\":\"VERACEL CELULOSE S.A.|2023-09-01|CONSUMIDOR FINAL|RAIZEN\",\"marker\":{\"color\":\"rgb(217,217,217)\",\"symbol\":\"circle\"},\"mode\":\"markers\",\"name\":\"VERACEL CELULOSE S.A.|2023-09-01|CONSUMIDOR FINAL|RAIZEN\",\"orientation\":\"v\",\"showlegend\":true,\"x\":[2265.0],\"xaxis\":\"x\",\"y\":[100.0],\"yaxis\":\"y\",\"type\":\"scatter\"},{\"customdata\":[[1505.0,1330.0,-4.88,7.32,100.0,0.0,\"CONSUMIDOR FINAL\"]],\"hovertemplate\":\"id=MOVE BUSS|2023-09-01|CONSUMIDOR FINAL|RAIZEN<br>Volume m\\u00b3 setembro 2023=%{x}<br>share setembro 2023=%{y}<br>preview_value=%{customdata[0]}<br>preview_value_12=%{customdata[1]}<br>delta_vol=%{customdata[2]}<br>delta_vol_12=%{customdata[3]}<br>preview_share=%{customdata[4]}<br>delta_share_pp=%{customdata[5]}<br>QUALIF_DEST=%{customdata[6]}<extra></extra>\",\"legendgroup\":\"MOVE BUSS|2023-09-01|CONSUMIDOR FINAL|RAIZEN\",\"marker\":{\"color\":\"rgb(188,128,189)\",\"symbol\":\"circle\"},\"mode\":\"markers\",\"name\":\"MOVE BUSS|2023-09-01|CONSUMIDOR FINAL|RAIZEN\",\"orientation\":\"v\",\"showlegend\":true,\"x\":[1435.0],\"xaxis\":\"x\",\"y\":[100.0],\"yaxis\":\"y\",\"type\":\"scatter\"},{\"customdata\":[[1799.5,2893.0,-5.23,-69.18,42.99,0.31,\"CONSUMIDOR FINAL\"]],\"hovertemplate\":\"id=DELTA SUCROENERGIA S.A.|2023-09-01|CONSUMIDOR FINAL|RAIZEN<br>Volume m\\u00b3 setembro 2023=%{x}<br>share setembro 2023=%{y}<br>preview_value=%{customdata[0]}<br>preview_value_12=%{customdata[1]}<br>delta_vol=%{customdata[2]}<br>delta_vol_12=%{customdata[3]}<br>preview_share=%{customdata[4]}<br>delta_share_pp=%{customdata[5]}<br>QUALIF_DEST=%{customdata[6]}<extra></extra>\",\"legendgroup\":\"DELTA SUCROENERGIA S.A.|2023-09-01|CONSUMIDOR FINAL|RAIZEN\",\"marker\":{\"color\":\"rgb(204,235,197)\",\"symbol\":\"circle\"},\"mode\":\"markers\",\"name\":\"DELTA SUCROENERGIA S.A.|2023-09-01|CONSUMIDOR FINAL|RAIZEN\",\"orientation\":\"v\",\"showlegend\":true,\"x\":[1710.0],\"xaxis\":\"x\",\"y\":[43.3],\"yaxis\":\"y\",\"type\":\"scatter\"},{\"customdata\":[[1220.0,1320.0,-5.99,-14.68,100.0,0.0,\"CONSUMIDOR FINAL\"]],\"hovertemplate\":\"id=GERDAU A\\u00c7OMINAS S/A|2023-09-01|CONSUMIDOR FINAL|RAIZEN<br>Volume m\\u00b3 setembro 2023=%{x}<br>share setembro 2023=%{y}<br>preview_value=%{customdata[0]}<br>preview_value_12=%{customdata[1]}<br>delta_vol=%{customdata[2]}<br>delta_vol_12=%{customdata[3]}<br>preview_share=%{customdata[4]}<br>delta_share_pp=%{customdata[5]}<br>QUALIF_DEST=%{customdata[6]}<extra></extra>\",\"legendgroup\":\"GERDAU A\\u00c7OMINAS S/A|2023-09-01|CONSUMIDOR FINAL|RAIZEN\",\"marker\":{\"color\":\"rgb(255,237,111)\",\"symbol\":\"circle\"},\"mode\":\"markers\",\"name\":\"GERDAU A\\u00c7OMINAS S/A|2023-09-01|CONSUMIDOR FINAL|RAIZEN\",\"orientation\":\"v\",\"showlegend\":true,\"x\":[1151.0],\"xaxis\":\"x\",\"y\":[100.0],\"yaxis\":\"y\",\"type\":\"scatter\"},{\"customdata\":[[550.0,380.0,-6.8,26.21,62.15,-0.47,\"CONSUMIDOR FINAL\"]],\"hovertemplate\":\"id=GERDAU A\\u00c7OS LONGOS S.A|2023-09-01|CONSUMIDOR FINAL|RAIZEN<br>Volume m\\u00b3 setembro 2023=%{x}<br>share setembro 2023=%{y}<br>preview_value=%{customdata[0]}<br>preview_value_12=%{customdata[1]}<br>delta_vol=%{customdata[2]}<br>delta_vol_12=%{customdata[3]}<br>preview_share=%{customdata[4]}<br>delta_share_pp=%{customdata[5]}<br>QUALIF_DEST=%{customdata[6]}<extra></extra>\",\"legendgroup\":\"GERDAU A\\u00c7OS LONGOS S.A|2023-09-01|CONSUMIDOR FINAL|RAIZEN\",\"marker\":{\"color\":\"rgb(141,211,199)\",\"symbol\":\"circle\"},\"mode\":\"markers\",\"name\":\"GERDAU A\\u00c7OS LONGOS S.A|2023-09-01|CONSUMIDOR FINAL|RAIZEN\",\"orientation\":\"v\",\"showlegend\":true,\"x\":[515.0],\"xaxis\":\"x\",\"y\":[61.68],\"yaxis\":\"y\",\"type\":\"scatter\"},{\"customdata\":[[965.0,null,-7.22,null,100.0,0.0,\"CONSUMIDOR FINAL\"]],\"hovertemplate\":\"id=AUTO VIA\\u00c7\\u00c3O JABOUR LTDA|2023-09-01|CONSUMIDOR FINAL|RAIZEN<br>Volume m\\u00b3 setembro 2023=%{x}<br>share setembro 2023=%{y}<br>preview_value=%{customdata[0]}<br>preview_value_12=%{customdata[1]}<br>delta_vol=%{customdata[2]}<br>delta_vol_12=%{customdata[3]}<br>preview_share=%{customdata[4]}<br>delta_share_pp=%{customdata[5]}<br>QUALIF_DEST=%{customdata[6]}<extra></extra>\",\"legendgroup\":\"AUTO VIA\\u00c7\\u00c3O JABOUR LTDA|2023-09-01|CONSUMIDOR FINAL|RAIZEN\",\"marker\":{\"color\":\"rgb(255,255,179)\",\"symbol\":\"circle\"},\"mode\":\"markers\",\"name\":\"AUTO VIA\\u00c7\\u00c3O JABOUR LTDA|2023-09-01|CONSUMIDOR FINAL|RAIZEN\",\"orientation\":\"v\",\"showlegend\":true,\"x\":[900.0],\"xaxis\":\"x\",\"y\":[100.0],\"yaxis\":\"y\",\"type\":\"scatter\"},{\"customdata\":[[365.0,355.0,-7.35,-4.41,41.95,1.92,\"CONSUMIDOR FINAL\"]],\"hovertemplate\":\"id=VIACAO PIRAJUCARA LTDA|2023-09-01|CONSUMIDOR FINAL|RAIZEN<br>Volume m\\u00b3 setembro 2023=%{x}<br>share setembro 2023=%{y}<br>preview_value=%{customdata[0]}<br>preview_value_12=%{customdata[1]}<br>delta_vol=%{customdata[2]}<br>delta_vol_12=%{customdata[3]}<br>preview_share=%{customdata[4]}<br>delta_share_pp=%{customdata[5]}<br>QUALIF_DEST=%{customdata[6]}<extra></extra>\",\"legendgroup\":\"VIACAO PIRAJUCARA LTDA|2023-09-01|CONSUMIDOR FINAL|RAIZEN\",\"marker\":{\"color\":\"rgb(190,186,218)\",\"symbol\":\"circle\"},\"mode\":\"markers\",\"name\":\"VIACAO PIRAJUCARA LTDA|2023-09-01|CONSUMIDOR FINAL|RAIZEN\",\"orientation\":\"v\",\"showlegend\":true,\"x\":[340.0],\"xaxis\":\"x\",\"y\":[43.87],\"yaxis\":\"y\",\"type\":\"scatter\"},{\"customdata\":[[930.0,855.0,-7.51,1.16,100.0,0.0,\"CONSUMIDOR FINAL\"]],\"hovertemplate\":\"id=RIO ITA LTDA|2023-09-01|CONSUMIDOR FINAL|RAIZEN<br>Volume m\\u00b3 setembro 2023=%{x}<br>share setembro 2023=%{y}<br>preview_value=%{customdata[0]}<br>preview_value_12=%{customdata[1]}<br>delta_vol=%{customdata[2]}<br>delta_vol_12=%{customdata[3]}<br>preview_share=%{customdata[4]}<br>delta_share_pp=%{customdata[5]}<br>QUALIF_DEST=%{customdata[6]}<extra></extra>\",\"legendgroup\":\"RIO ITA LTDA|2023-09-01|CONSUMIDOR FINAL|RAIZEN\",\"marker\":{\"color\":\"rgb(251,128,114)\",\"symbol\":\"circle\"},\"mode\":\"markers\",\"name\":\"RIO ITA LTDA|2023-09-01|CONSUMIDOR FINAL|RAIZEN\",\"orientation\":\"v\",\"showlegend\":true,\"x\":[865.0],\"xaxis\":\"x\",\"y\":[100.0],\"yaxis\":\"y\",\"type\":\"scatter\"},{\"customdata\":[[1765.0,250.0,-7.95,84.71,68.02,7.16,\"CONSUMIDOR FINAL\"]],\"hovertemplate\":\"id=SANCETUR - SANTA CEC\\u00cdLIA TURISMO LTDA|2023-09-01|CONSUMIDOR FINAL|RAIZEN<br>Volume m\\u00b3 setembro 2023=%{x}<br>share setembro 2023=%{y}<br>preview_value=%{customdata[0]}<br>preview_value_12=%{customdata[1]}<br>delta_vol=%{customdata[2]}<br>delta_vol_12=%{customdata[3]}<br>preview_share=%{customdata[4]}<br>delta_share_pp=%{customdata[5]}<br>QUALIF_DEST=%{customdata[6]}<extra></extra>\",\"legendgroup\":\"SANCETUR - SANTA CEC\\u00cdLIA TURISMO LTDA|2023-09-01|CONSUMIDOR FINAL|RAIZEN\",\"marker\":{\"color\":\"rgb(128,177,211)\",\"symbol\":\"circle\"},\"mode\":\"markers\",\"name\":\"SANCETUR - SANTA CEC\\u00cdLIA TURISMO LTDA|2023-09-01|CONSUMIDOR FINAL|RAIZEN\",\"orientation\":\"v\",\"showlegend\":true,\"x\":[1635.0],\"xaxis\":\"x\",\"y\":[75.17],\"yaxis\":\"y\",\"type\":\"scatter\"},{\"customdata\":[[1665.0,972.0,-9.04,36.35,96.52,-0.3,\"CONSUMIDOR FINAL\"]],\"hovertemplate\":\"id=USINA BAZAN SA|2023-09-01|CONSUMIDOR FINAL|RAIZEN<br>Volume m\\u00b3 setembro 2023=%{x}<br>share setembro 2023=%{y}<br>preview_value=%{customdata[0]}<br>preview_value_12=%{customdata[1]}<br>delta_vol=%{customdata[2]}<br>delta_vol_12=%{customdata[3]}<br>preview_share=%{customdata[4]}<br>delta_share_pp=%{customdata[5]}<br>QUALIF_DEST=%{customdata[6]}<extra></extra>\",\"legendgroup\":\"USINA BAZAN SA|2023-09-01|CONSUMIDOR FINAL|RAIZEN\",\"marker\":{\"color\":\"rgb(253,180,98)\",\"symbol\":\"circle\"},\"mode\":\"markers\",\"name\":\"USINA BAZAN SA|2023-09-01|CONSUMIDOR FINAL|RAIZEN\",\"orientation\":\"v\",\"showlegend\":true,\"x\":[1527.0],\"xaxis\":\"x\",\"y\":[96.22],\"yaxis\":\"y\",\"type\":\"scatter\"},{\"customdata\":[[415.0,null,-9.93,null,19.64,-1.5,\"CONSUMIDOR FINAL\"]],\"hovertemplate\":\"id=USINA SANTA FE S/A.|2023-09-01|CONSUMIDOR FINAL|RAIZEN<br>Volume m\\u00b3 setembro 2023=%{x}<br>share setembro 2023=%{y}<br>preview_value=%{customdata[0]}<br>preview_value_12=%{customdata[1]}<br>delta_vol=%{customdata[2]}<br>delta_vol_12=%{customdata[3]}<br>preview_share=%{customdata[4]}<br>delta_share_pp=%{customdata[5]}<br>QUALIF_DEST=%{customdata[6]}<extra></extra>\",\"legendgroup\":\"USINA SANTA FE S/A.|2023-09-01|CONSUMIDOR FINAL|RAIZEN\",\"marker\":{\"color\":\"rgb(179,222,105)\",\"symbol\":\"circle\"},\"mode\":\"markers\",\"name\":\"USINA SANTA FE S/A.|2023-09-01|CONSUMIDOR FINAL|RAIZEN\",\"orientation\":\"v\",\"showlegend\":true,\"x\":[377.5],\"xaxis\":\"x\",\"y\":[18.14],\"yaxis\":\"y\",\"type\":\"scatter\"},{\"customdata\":[[1525.0,1405.0,-10.11,-1.44,100.0,0.0,\"CONSUMIDOR FINAL\"]],\"hovertemplate\":\"id=TRANSPPASS TRANSPORTE DE PASSAGEIROS LTDA|2023-09-01|CONSUMIDOR FINAL|RAIZEN<br>Volume m\\u00b3 setembro 2023=%{x}<br>share setembro 2023=%{y}<br>preview_value=%{customdata[0]}<br>preview_value_12=%{customdata[1]}<br>delta_vol=%{customdata[2]}<br>delta_vol_12=%{customdata[3]}<br>preview_share=%{customdata[4]}<br>delta_share_pp=%{customdata[5]}<br>QUALIF_DEST=%{customdata[6]}<extra></extra>\",\"legendgroup\":\"TRANSPPASS TRANSPORTE DE PASSAGEIROS LTDA|2023-09-01|CONSUMIDOR FINAL|RAIZEN\",\"marker\":{\"color\":\"rgb(252,205,229)\",\"symbol\":\"circle\"},\"mode\":\"markers\",\"name\":\"TRANSPPASS TRANSPORTE DE PASSAGEIROS LTDA|2023-09-01|CONSUMIDOR FINAL|RAIZEN\",\"orientation\":\"v\",\"showlegend\":true,\"x\":[1385.0],\"xaxis\":\"x\",\"y\":[100.0],\"yaxis\":\"y\",\"type\":\"scatter\"},{\"customdata\":[[50.0,75.0,-11.11,-66.67,2.38,-0.07,\"CONSUMIDOR FINAL\"]],\"hovertemplate\":\"id=TRANSPORTES BERTOLINI LTDA|2023-09-01|CONSUMIDOR FINAL|RAIZEN<br>Volume m\\u00b3 setembro 2023=%{x}<br>share setembro 2023=%{y}<br>preview_value=%{customdata[0]}<br>preview_value_12=%{customdata[1]}<br>delta_vol=%{customdata[2]}<br>delta_vol_12=%{customdata[3]}<br>preview_share=%{customdata[4]}<br>delta_share_pp=%{customdata[5]}<br>QUALIF_DEST=%{customdata[6]}<extra></extra>\",\"legendgroup\":\"TRANSPORTES BERTOLINI LTDA|2023-09-01|CONSUMIDOR FINAL|RAIZEN\",\"marker\":{\"color\":\"rgb(217,217,217)\",\"symbol\":\"circle\"},\"mode\":\"markers\",\"name\":\"TRANSPORTES BERTOLINI LTDA|2023-09-01|CONSUMIDOR FINAL|RAIZEN\",\"orientation\":\"v\",\"showlegend\":true,\"x\":[45.0],\"xaxis\":\"x\",\"y\":[2.31],\"yaxis\":\"y\",\"type\":\"scatter\"},{\"customdata\":[[360.0,384.0,-11.8,-19.25,40.31,4.97,\"CONSUMIDOR FINAL\"]],\"hovertemplate\":\"id=BORBOREMA IMPERIAL TRANSPORTES LTDA|2023-09-01|CONSUMIDOR FINAL|RAIZEN<br>Volume m\\u00b3 setembro 2023=%{x}<br>share setembro 2023=%{y}<br>preview_value=%{customdata[0]}<br>preview_value_12=%{customdata[1]}<br>delta_vol=%{customdata[2]}<br>delta_vol_12=%{customdata[3]}<br>preview_share=%{customdata[4]}<br>delta_share_pp=%{customdata[5]}<br>QUALIF_DEST=%{customdata[6]}<extra></extra>\",\"legendgroup\":\"BORBOREMA IMPERIAL TRANSPORTES LTDA|2023-09-01|CONSUMIDOR FINAL|RAIZEN\",\"marker\":{\"color\":\"rgb(188,128,189)\",\"symbol\":\"circle\"},\"mode\":\"markers\",\"name\":\"BORBOREMA IMPERIAL TRANSPORTES LTDA|2023-09-01|CONSUMIDOR FINAL|RAIZEN\",\"orientation\":\"v\",\"showlegend\":true,\"x\":[322.0],\"xaxis\":\"x\",\"y\":[45.29],\"yaxis\":\"y\",\"type\":\"scatter\"},{\"customdata\":[[983.0,825.0,-12.73,5.39,100.0,0.0,\"CONSUMIDOR FINAL\"]],\"hovertemplate\":\"id=VIA\\u00c7\\u00c3O NOSSA SENHORA DO AMPARO LTDA|2023-09-01|CONSUMIDOR FINAL|RAIZEN<br>Volume m\\u00b3 setembro 2023=%{x}<br>share setembro 2023=%{y}<br>preview_value=%{customdata[0]}<br>preview_value_12=%{customdata[1]}<br>delta_vol=%{customdata[2]}<br>delta_vol_12=%{customdata[3]}<br>preview_share=%{customdata[4]}<br>delta_share_pp=%{customdata[5]}<br>QUALIF_DEST=%{customdata[6]}<extra></extra>\",\"legendgroup\":\"VIA\\u00c7\\u00c3O NOSSA SENHORA DO AMPARO LTDA|2023-09-01|CONSUMIDOR FINAL|RAIZEN\",\"marker\":{\"color\":\"rgb(204,235,197)\",\"symbol\":\"circle\"},\"mode\":\"markers\",\"name\":\"VIA\\u00c7\\u00c3O NOSSA SENHORA DO AMPARO LTDA|2023-09-01|CONSUMIDOR FINAL|RAIZEN\",\"orientation\":\"v\",\"showlegend\":true,\"x\":[872.0],\"xaxis\":\"x\",\"y\":[100.0],\"yaxis\":\"y\",\"type\":\"scatter\"},{\"customdata\":[[1213.5,665.5,-16.01,36.38,96.73,-0.59,\"CONSUMIDOR FINAL\"]],\"hovertemplate\":\"id=NOVA AM\\u00c9RICA S/A - AGR\\u00cdCOLA|2023-09-01|CONSUMIDOR FINAL|RAIZEN<br>Volume m\\u00b3 setembro 2023=%{x}<br>share setembro 2023=%{y}<br>preview_value=%{customdata[0]}<br>preview_value_12=%{customdata[1]}<br>delta_vol=%{customdata[2]}<br>delta_vol_12=%{customdata[3]}<br>preview_share=%{customdata[4]}<br>delta_share_pp=%{customdata[5]}<br>QUALIF_DEST=%{customdata[6]}<extra></extra>\",\"legendgroup\":\"NOVA AM\\u00c9RICA S/A - AGR\\u00cdCOLA|2023-09-01|CONSUMIDOR FINAL|RAIZEN\",\"marker\":{\"color\":\"rgb(255,237,111)\",\"symbol\":\"circle\"},\"mode\":\"markers\",\"name\":\"NOVA AM\\u00c9RICA S/A - AGR\\u00cdCOLA|2023-09-01|CONSUMIDOR FINAL|RAIZEN\",\"orientation\":\"v\",\"showlegend\":true,\"x\":[1046.0],\"xaxis\":\"x\",\"y\":[96.14],\"yaxis\":\"y\",\"type\":\"scatter\"},{\"customdata\":[[1275.0,515.0,-16.97,52.75,49.32,0.45,\"CONSUMIDOR FINAL\"]],\"hovertemplate\":\"id=JSL S/A|2023-09-01|CONSUMIDOR FINAL|RAIZEN<br>Volume m\\u00b3 setembro 2023=%{x}<br>share setembro 2023=%{y}<br>preview_value=%{customdata[0]}<br>preview_value_12=%{customdata[1]}<br>delta_vol=%{customdata[2]}<br>delta_vol_12=%{customdata[3]}<br>preview_share=%{customdata[4]}<br>delta_share_pp=%{customdata[5]}<br>QUALIF_DEST=%{customdata[6]}<extra></extra>\",\"legendgroup\":\"JSL S/A|2023-09-01|CONSUMIDOR FINAL|RAIZEN\",\"marker\":{\"color\":\"rgb(141,211,199)\",\"symbol\":\"circle\"},\"mode\":\"markers\",\"name\":\"JSL S/A|2023-09-01|CONSUMIDOR FINAL|RAIZEN\",\"orientation\":\"v\",\"showlegend\":true,\"x\":[1090.0],\"xaxis\":\"x\",\"y\":[49.77],\"yaxis\":\"y\",\"type\":\"scatter\"},{\"customdata\":[[2036.0,1860.0,-17.28,-7.14,100.0,0.0,\"CONSUMIDOR FINAL\"]],\"hovertemplate\":\"id=VIA\\u00c7\\u00c3O PIONEIRA LTDA|2023-09-01|CONSUMIDOR FINAL|RAIZEN<br>Volume m\\u00b3 setembro 2023=%{x}<br>share setembro 2023=%{y}<br>preview_value=%{customdata[0]}<br>preview_value_12=%{customdata[1]}<br>delta_vol=%{customdata[2]}<br>delta_vol_12=%{customdata[3]}<br>preview_share=%{customdata[4]}<br>delta_share_pp=%{customdata[5]}<br>QUALIF_DEST=%{customdata[6]}<extra></extra>\",\"legendgroup\":\"VIA\\u00c7\\u00c3O PIONEIRA LTDA|2023-09-01|CONSUMIDOR FINAL|RAIZEN\",\"marker\":{\"color\":\"rgb(255,255,179)\",\"symbol\":\"circle\"},\"mode\":\"markers\",\"name\":\"VIA\\u00c7\\u00c3O PIONEIRA LTDA|2023-09-01|CONSUMIDOR FINAL|RAIZEN\",\"orientation\":\"v\",\"showlegend\":true,\"x\":[1736.0],\"xaxis\":\"x\",\"y\":[100.0],\"yaxis\":\"y\",\"type\":\"scatter\"},{\"customdata\":[[970.0,415.0,-18.29,49.39,46.41,-5.72,\"CONSUMIDOR FINAL\"]],\"hovertemplate\":\"id=NORTE BUSS TRANSPORTES S.A|2023-09-01|CONSUMIDOR FINAL|RAIZEN<br>Volume m\\u00b3 setembro 2023=%{x}<br>share setembro 2023=%{y}<br>preview_value=%{customdata[0]}<br>preview_value_12=%{customdata[1]}<br>delta_vol=%{customdata[2]}<br>delta_vol_12=%{customdata[3]}<br>preview_share=%{customdata[4]}<br>delta_share_pp=%{customdata[5]}<br>QUALIF_DEST=%{customdata[6]}<extra></extra>\",\"legendgroup\":\"NORTE BUSS TRANSPORTES S.A|2023-09-01|CONSUMIDOR FINAL|RAIZEN\",\"marker\":{\"color\":\"rgb(190,186,218)\",\"symbol\":\"circle\"},\"mode\":\"markers\",\"name\":\"NORTE BUSS TRANSPORTES S.A|2023-09-01|CONSUMIDOR FINAL|RAIZEN\",\"orientation\":\"v\",\"showlegend\":true,\"x\":[820.0],\"xaxis\":\"x\",\"y\":[40.69],\"yaxis\":\"y\",\"type\":\"scatter\"},{\"customdata\":[[1545.0,1405.0,-18.39,-7.66,100.0,0.0,\"CONSUMIDOR FINAL\"]],\"hovertemplate\":\"id=Via\\u00e7\\u00e3o Osasco Ltda|2023-09-01|CONSUMIDOR FINAL|RAIZEN<br>Volume m\\u00b3 setembro 2023=%{x}<br>share setembro 2023=%{y}<br>preview_value=%{customdata[0]}<br>preview_value_12=%{customdata[1]}<br>delta_vol=%{customdata[2]}<br>delta_vol_12=%{customdata[3]}<br>preview_share=%{customdata[4]}<br>delta_share_pp=%{customdata[5]}<br>QUALIF_DEST=%{customdata[6]}<extra></extra>\",\"legendgroup\":\"Via\\u00e7\\u00e3o Osasco Ltda|2023-09-01|CONSUMIDOR FINAL|RAIZEN\",\"marker\":{\"color\":\"rgb(251,128,114)\",\"symbol\":\"circle\"},\"mode\":\"markers\",\"name\":\"Via\\u00e7\\u00e3o Osasco Ltda|2023-09-01|CONSUMIDOR FINAL|RAIZEN\",\"orientation\":\"v\",\"showlegend\":true,\"x\":[1305.0],\"xaxis\":\"x\",\"y\":[100.0],\"yaxis\":\"y\",\"type\":\"scatter\"},{\"customdata\":[[601.0,398.0,-18.54,21.5,41.05,-1.66,\"CONSUMIDOR FINAL\"]],\"hovertemplate\":\"id=VIA\\u00c7\\u00c3O \\u00c1GUIA BRANCA S/A|2023-09-01|CONSUMIDOR FINAL|RAIZEN<br>Volume m\\u00b3 setembro 2023=%{x}<br>share setembro 2023=%{y}<br>preview_value=%{customdata[0]}<br>preview_value_12=%{customdata[1]}<br>delta_vol=%{customdata[2]}<br>delta_vol_12=%{customdata[3]}<br>preview_share=%{customdata[4]}<br>delta_share_pp=%{customdata[5]}<br>QUALIF_DEST=%{customdata[6]}<extra></extra>\",\"legendgroup\":\"VIA\\u00c7\\u00c3O \\u00c1GUIA BRANCA S/A|2023-09-01|CONSUMIDOR FINAL|RAIZEN\",\"marker\":{\"color\":\"rgb(128,177,211)\",\"symbol\":\"circle\"},\"mode\":\"markers\",\"name\":\"VIA\\u00c7\\u00c3O \\u00c1GUIA BRANCA S/A|2023-09-01|CONSUMIDOR FINAL|RAIZEN\",\"orientation\":\"v\",\"showlegend\":true,\"x\":[507.0],\"xaxis\":\"x\",\"y\":[39.39],\"yaxis\":\"y\",\"type\":\"scatter\"},{\"customdata\":[[1495.0,1205.0,-18.56,4.44,100.0,0.0,\"CONSUMIDOR FINAL\"]],\"hovertemplate\":\"id=RIO CLARO AGROINDUSTRIAL S.A - EM RECUPERACAO JUDICIAL|2023-09-01|CONSUMIDOR FINAL|RAIZEN<br>Volume m\\u00b3 setembro 2023=%{x}<br>share setembro 2023=%{y}<br>preview_value=%{customdata[0]}<br>preview_value_12=%{customdata[1]}<br>delta_vol=%{customdata[2]}<br>delta_vol_12=%{customdata[3]}<br>preview_share=%{customdata[4]}<br>delta_share_pp=%{customdata[5]}<br>QUALIF_DEST=%{customdata[6]}<extra></extra>\",\"legendgroup\":\"RIO CLARO AGROINDUSTRIAL S.A - EM RECUPERACAO JUDICIAL|2023-09-01|CONSUMIDOR FINAL|RAIZEN\",\"marker\":{\"color\":\"rgb(253,180,98)\",\"symbol\":\"circle\"},\"mode\":\"markers\",\"name\":\"RIO CLARO AGROINDUSTRIAL S.A - EM RECUPERACAO JUDICIAL|2023-09-01|CONSUMIDOR FINAL|RAIZEN\",\"orientation\":\"v\",\"showlegend\":true,\"x\":[1261.0],\"xaxis\":\"x\",\"y\":[100.0],\"yaxis\":\"y\",\"type\":\"scatter\"},{\"customdata\":[[885.0,149.5,-20.41,79.66,86.34,-7.48,\"CONSUMIDOR FINAL\"]],\"hovertemplate\":\"id=VALE DO PONTAL ACUCAR E ETANOL LTDA.|2023-09-01|CONSUMIDOR FINAL|RAIZEN<br>Volume m\\u00b3 setembro 2023=%{x}<br>share setembro 2023=%{y}<br>preview_value=%{customdata[0]}<br>preview_value_12=%{customdata[1]}<br>delta_vol=%{customdata[2]}<br>delta_vol_12=%{customdata[3]}<br>preview_share=%{customdata[4]}<br>delta_share_pp=%{customdata[5]}<br>QUALIF_DEST=%{customdata[6]}<extra></extra>\",\"legendgroup\":\"VALE DO PONTAL ACUCAR E ETANOL LTDA.|2023-09-01|CONSUMIDOR FINAL|RAIZEN\",\"marker\":{\"color\":\"rgb(179,222,105)\",\"symbol\":\"circle\"},\"mode\":\"markers\",\"name\":\"VALE DO PONTAL ACUCAR E ETANOL LTDA.|2023-09-01|CONSUMIDOR FINAL|RAIZEN\",\"orientation\":\"v\",\"showlegend\":true,\"x\":[735.0],\"xaxis\":\"x\",\"y\":[78.86],\"yaxis\":\"y\",\"type\":\"scatter\"},{\"customdata\":[[1230.0,1003.0,-20.94,1.38,93.89,-14.87,\"CONSUMIDOR FINAL\"]],\"hovertemplate\":\"id=TRANSPORTADORA CONTATTO LTDA|2023-09-01|CONSUMIDOR FINAL|RAIZEN<br>Volume m\\u00b3 setembro 2023=%{x}<br>share setembro 2023=%{y}<br>preview_value=%{customdata[0]}<br>preview_value_12=%{customdata[1]}<br>delta_vol=%{customdata[2]}<br>delta_vol_12=%{customdata[3]}<br>preview_share=%{customdata[4]}<br>delta_share_pp=%{customdata[5]}<br>QUALIF_DEST=%{customdata[6]}<extra></extra>\",\"legendgroup\":\"TRANSPORTADORA CONTATTO LTDA|2023-09-01|CONSUMIDOR FINAL|RAIZEN\",\"marker\":{\"color\":\"rgb(252,205,229)\",\"symbol\":\"circle\"},\"mode\":\"markers\",\"name\":\"TRANSPORTADORA CONTATTO LTDA|2023-09-01|CONSUMIDOR FINAL|RAIZEN\",\"orientation\":\"v\",\"showlegend\":true,\"x\":[1017.0],\"xaxis\":\"x\",\"y\":[79.02],\"yaxis\":\"y\",\"type\":\"scatter\"},{\"customdata\":[[522.0,365.0,-21.4,15.12,53.98,-7.74,\"CONSUMIDOR FINAL\"]],\"hovertemplate\":\"id=INTERCEMENT BRASIL S.A|2023-09-01|CONSUMIDOR FINAL|RAIZEN<br>Volume m\\u00b3 setembro 2023=%{x}<br>share setembro 2023=%{y}<br>preview_value=%{customdata[0]}<br>preview_value_12=%{customdata[1]}<br>delta_vol=%{customdata[2]}<br>delta_vol_12=%{customdata[3]}<br>preview_share=%{customdata[4]}<br>delta_share_pp=%{customdata[5]}<br>QUALIF_DEST=%{customdata[6]}<extra></extra>\",\"legendgroup\":\"INTERCEMENT BRASIL S.A|2023-09-01|CONSUMIDOR FINAL|RAIZEN\",\"marker\":{\"color\":\"rgb(217,217,217)\",\"symbol\":\"circle\"},\"mode\":\"markers\",\"name\":\"INTERCEMENT BRASIL S.A|2023-09-01|CONSUMIDOR FINAL|RAIZEN\",\"orientation\":\"v\",\"showlegend\":true,\"x\":[430.0],\"xaxis\":\"x\",\"y\":[46.24],\"yaxis\":\"y\",\"type\":\"scatter\"},{\"customdata\":[[2088.0,1380.0,-21.61,19.63,97.21,0.46,\"CONSUMIDOR FINAL\"]],\"hovertemplate\":\"id=AGRO ENERGIA SANTA LUZIA S.A. - EM RECUPERACAO JUDICIAL|2023-09-01|CONSUMIDOR FINAL|RAIZEN<br>Volume m\\u00b3 setembro 2023=%{x}<br>share setembro 2023=%{y}<br>preview_value=%{customdata[0]}<br>preview_value_12=%{customdata[1]}<br>delta_vol=%{customdata[2]}<br>delta_vol_12=%{customdata[3]}<br>preview_share=%{customdata[4]}<br>delta_share_pp=%{customdata[5]}<br>QUALIF_DEST=%{customdata[6]}<extra></extra>\",\"legendgroup\":\"AGRO ENERGIA SANTA LUZIA S.A. - EM RECUPERACAO JUDICIAL|2023-09-01|CONSUMIDOR FINAL|RAIZEN\",\"marker\":{\"color\":\"rgb(188,128,189)\",\"symbol\":\"circle\"},\"mode\":\"markers\",\"name\":\"AGRO ENERGIA SANTA LUZIA S.A. - EM RECUPERACAO JUDICIAL|2023-09-01|CONSUMIDOR FINAL|RAIZEN\",\"orientation\":\"v\",\"showlegend\":true,\"x\":[1717.0],\"xaxis\":\"x\",\"y\":[97.67],\"yaxis\":\"y\",\"type\":\"scatter\"},{\"customdata\":[[1080.0,835.0,-23.43,4.57,76.6,-9.55,\"CONSUMIDOR FINAL\"]],\"hovertemplate\":\"id=RODONAVES TRANSPORTES E ENCOMENDAS LTDA|2023-09-01|CONSUMIDOR FINAL|RAIZEN<br>Volume m\\u00b3 setembro 2023=%{x}<br>share setembro 2023=%{y}<br>preview_value=%{customdata[0]}<br>preview_value_12=%{customdata[1]}<br>delta_vol=%{customdata[2]}<br>delta_vol_12=%{customdata[3]}<br>preview_share=%{customdata[4]}<br>delta_share_pp=%{customdata[5]}<br>QUALIF_DEST=%{customdata[6]}<extra></extra>\",\"legendgroup\":\"RODONAVES TRANSPORTES E ENCOMENDAS LTDA|2023-09-01|CONSUMIDOR FINAL|RAIZEN\",\"marker\":{\"color\":\"rgb(204,235,197)\",\"symbol\":\"circle\"},\"mode\":\"markers\",\"name\":\"RODONAVES TRANSPORTES E ENCOMENDAS LTDA|2023-09-01|CONSUMIDOR FINAL|RAIZEN\",\"orientation\":\"v\",\"showlegend\":true,\"x\":[875.0],\"xaxis\":\"x\",\"y\":[67.05],\"yaxis\":\"y\",\"type\":\"scatter\"},{\"customdata\":[[130.0,110.0,-23.81,-4.76,20.02,-4.34,\"CONSUMIDOR FINAL\"]],\"hovertemplate\":\"id=BBM LOGISTICA S/A|2023-09-01|CONSUMIDOR FINAL|RAIZEN<br>Volume m\\u00b3 setembro 2023=%{x}<br>share setembro 2023=%{y}<br>preview_value=%{customdata[0]}<br>preview_value_12=%{customdata[1]}<br>delta_vol=%{customdata[2]}<br>delta_vol_12=%{customdata[3]}<br>preview_share=%{customdata[4]}<br>delta_share_pp=%{customdata[5]}<br>QUALIF_DEST=%{customdata[6]}<extra></extra>\",\"legendgroup\":\"BBM LOGISTICA S/A|2023-09-01|CONSUMIDOR FINAL|RAIZEN\",\"marker\":{\"color\":\"rgb(255,237,111)\",\"symbol\":\"circle\"},\"mode\":\"markers\",\"name\":\"BBM LOGISTICA S/A|2023-09-01|CONSUMIDOR FINAL|RAIZEN\",\"orientation\":\"v\",\"showlegend\":true,\"x\":[105.0],\"xaxis\":\"x\",\"y\":[15.67],\"yaxis\":\"y\",\"type\":\"scatter\"},{\"customdata\":[[1812.5,null,-24.27,null,89.31,2.39,\"CONSUMIDOR FINAL\"]],\"hovertemplate\":\"id=COPLASA - A\\u00c7UCAR E ALCOOL LTDA.|2023-09-01|CONSUMIDOR FINAL|RAIZEN<br>Volume m\\u00b3 setembro 2023=%{x}<br>share setembro 2023=%{y}<br>preview_value=%{customdata[0]}<br>preview_value_12=%{customdata[1]}<br>delta_vol=%{customdata[2]}<br>delta_vol_12=%{customdata[3]}<br>preview_share=%{customdata[4]}<br>delta_share_pp=%{customdata[5]}<br>QUALIF_DEST=%{customdata[6]}<extra></extra>\",\"legendgroup\":\"COPLASA - A\\u00c7UCAR E ALCOOL LTDA.|2023-09-01|CONSUMIDOR FINAL|RAIZEN\",\"marker\":{\"color\":\"rgb(141,211,199)\",\"symbol\":\"circle\"},\"mode\":\"markers\",\"name\":\"COPLASA - A\\u00c7UCAR E ALCOOL LTDA.|2023-09-01|CONSUMIDOR FINAL|RAIZEN\",\"orientation\":\"v\",\"showlegend\":true,\"x\":[1458.5],\"xaxis\":\"x\",\"y\":[91.7],\"yaxis\":\"y\",\"type\":\"scatter\"},{\"customdata\":[[1195.0,1570.0,-32.04,-73.48,100.0,0.0,\"CONSUMIDOR FINAL\"]],\"hovertemplate\":\"id=ANGLOGOLDASHANTI C\\u00d3RREGO DO S\\u00cdTIO MINERA\\u00c7\\u00c3O S/A|2023-09-01|CONSUMIDOR FINAL|RAIZEN<br>Volume m\\u00b3 setembro 2023=%{x}<br>share setembro 2023=%{y}<br>preview_value=%{customdata[0]}<br>preview_value_12=%{customdata[1]}<br>delta_vol=%{customdata[2]}<br>delta_vol_12=%{customdata[3]}<br>preview_share=%{customdata[4]}<br>delta_share_pp=%{customdata[5]}<br>QUALIF_DEST=%{customdata[6]}<extra></extra>\",\"legendgroup\":\"ANGLOGOLDASHANTI C\\u00d3RREGO DO S\\u00cdTIO MINERA\\u00c7\\u00c3O S/A|2023-09-01|CONSUMIDOR FINAL|RAIZEN\",\"marker\":{\"color\":\"rgb(255,255,179)\",\"symbol\":\"circle\"},\"mode\":\"markers\",\"name\":\"ANGLOGOLDASHANTI C\\u00d3RREGO DO S\\u00cdTIO MINERA\\u00c7\\u00c3O S/A|2023-09-01|CONSUMIDOR FINAL|RAIZEN\",\"orientation\":\"v\",\"showlegend\":true,\"x\":[905.0],\"xaxis\":\"x\",\"y\":[100.0],\"yaxis\":\"y\",\"type\":\"scatter\"},{\"customdata\":[[40.0,null,-33.33,null,2.2,-0.5,\"CONSUMIDOR FINAL\"]],\"hovertemplate\":\"id=VIA\\u00c7\\u00c3O COMETA S/A|2023-09-01|CONSUMIDOR FINAL|RAIZEN<br>Volume m\\u00b3 setembro 2023=%{x}<br>share setembro 2023=%{y}<br>preview_value=%{customdata[0]}<br>preview_value_12=%{customdata[1]}<br>delta_vol=%{customdata[2]}<br>delta_vol_12=%{customdata[3]}<br>preview_share=%{customdata[4]}<br>delta_share_pp=%{customdata[5]}<br>QUALIF_DEST=%{customdata[6]}<extra></extra>\",\"legendgroup\":\"VIA\\u00c7\\u00c3O COMETA S/A|2023-09-01|CONSUMIDOR FINAL|RAIZEN\",\"marker\":{\"color\":\"rgb(190,186,218)\",\"symbol\":\"circle\"},\"mode\":\"markers\",\"name\":\"VIA\\u00c7\\u00c3O COMETA S/A|2023-09-01|CONSUMIDOR FINAL|RAIZEN\",\"orientation\":\"v\",\"showlegend\":true,\"x\":[30.0],\"xaxis\":\"x\",\"y\":[1.7],\"yaxis\":\"y\",\"type\":\"scatter\"},{\"customdata\":[[160.0,626.6,-33.33,-422.17,10.26,-1.4,\"CONSUMIDOR FINAL\"]],\"hovertemplate\":\"id=PARADISO GIOVANELLA TRANSPORTES LTDA|2023-09-01|CONSUMIDOR FINAL|RAIZEN<br>Volume m\\u00b3 setembro 2023=%{x}<br>share setembro 2023=%{y}<br>preview_value=%{customdata[0]}<br>preview_value_12=%{customdata[1]}<br>delta_vol=%{customdata[2]}<br>delta_vol_12=%{customdata[3]}<br>preview_share=%{customdata[4]}<br>delta_share_pp=%{customdata[5]}<br>QUALIF_DEST=%{customdata[6]}<extra></extra>\",\"legendgroup\":\"PARADISO GIOVANELLA TRANSPORTES LTDA|2023-09-01|CONSUMIDOR FINAL|RAIZEN\",\"marker\":{\"color\":\"rgb(251,128,114)\",\"symbol\":\"circle\"},\"mode\":\"markers\",\"name\":\"PARADISO GIOVANELLA TRANSPORTES LTDA|2023-09-01|CONSUMIDOR FINAL|RAIZEN\",\"orientation\":\"v\",\"showlegend\":true,\"x\":[120.0],\"xaxis\":\"x\",\"y\":[8.86],\"yaxis\":\"y\",\"type\":\"scatter\"},{\"customdata\":[[675.0,60.0,-33.66,88.12,56.72,0.66,\"CONSUMIDOR FINAL\"]],\"hovertemplate\":\"id=BB TRANSPORTE E TURISMO LTDA|2023-09-01|CONSUMIDOR FINAL|RAIZEN<br>Volume m\\u00b3 setembro 2023=%{x}<br>share setembro 2023=%{y}<br>preview_value=%{customdata[0]}<br>preview_value_12=%{customdata[1]}<br>delta_vol=%{customdata[2]}<br>delta_vol_12=%{customdata[3]}<br>preview_share=%{customdata[4]}<br>delta_share_pp=%{customdata[5]}<br>QUALIF_DEST=%{customdata[6]}<extra></extra>\",\"legendgroup\":\"BB TRANSPORTE E TURISMO LTDA|2023-09-01|CONSUMIDOR FINAL|RAIZEN\",\"marker\":{\"color\":\"rgb(128,177,211)\",\"symbol\":\"circle\"},\"mode\":\"markers\",\"name\":\"BB TRANSPORTE E TURISMO LTDA|2023-09-01|CONSUMIDOR FINAL|RAIZEN\",\"orientation\":\"v\",\"showlegend\":true,\"x\":[505.0],\"xaxis\":\"x\",\"y\":[57.39],\"yaxis\":\"y\",\"type\":\"scatter\"},{\"customdata\":[[825.0,880.0,-34.15,-43.09,74.32,-16.69,\"CONSUMIDOR FINAL\"]],\"hovertemplate\":\"id=AUTO VIA\\u00c7\\u00c3O MARECHAL LTDA|2023-09-01|CONSUMIDOR FINAL|RAIZEN<br>Volume m\\u00b3 setembro 2023=%{x}<br>share setembro 2023=%{y}<br>preview_value=%{customdata[0]}<br>preview_value_12=%{customdata[1]}<br>delta_vol=%{customdata[2]}<br>delta_vol_12=%{customdata[3]}<br>preview_share=%{customdata[4]}<br>delta_share_pp=%{customdata[5]}<br>QUALIF_DEST=%{customdata[6]}<extra></extra>\",\"legendgroup\":\"AUTO VIA\\u00c7\\u00c3O MARECHAL LTDA|2023-09-01|CONSUMIDOR FINAL|RAIZEN\",\"marker\":{\"color\":\"rgb(253,180,98)\",\"symbol\":\"circle\"},\"mode\":\"markers\",\"name\":\"AUTO VIA\\u00c7\\u00c3O MARECHAL LTDA|2023-09-01|CONSUMIDOR FINAL|RAIZEN\",\"orientation\":\"v\",\"showlegend\":true,\"x\":[615.0],\"xaxis\":\"x\",\"y\":[57.64],\"yaxis\":\"y\",\"type\":\"scatter\"},{\"customdata\":[[1093.0,null,-43.89,null,86.75,-20.3,\"CONSUMIDOR FINAL\"]],\"hovertemplate\":\"id=CENTRAL ENERG\\u00c9TICA MORENO A\\u00c7\\u00daCAR E \\u00c1LCOOL LTDA.|2023-09-01|CONSUMIDOR FINAL|RAIZEN<br>Volume m\\u00b3 setembro 2023=%{x}<br>share setembro 2023=%{y}<br>preview_value=%{customdata[0]}<br>preview_value_12=%{customdata[1]}<br>delta_vol=%{customdata[2]}<br>delta_vol_12=%{customdata[3]}<br>preview_share=%{customdata[4]}<br>delta_share_pp=%{customdata[5]}<br>QUALIF_DEST=%{customdata[6]}<extra></extra>\",\"legendgroup\":\"CENTRAL ENERG\\u00c9TICA MORENO A\\u00c7\\u00daCAR E \\u00c1LCOOL LTDA.|2023-09-01|CONSUMIDOR FINAL|RAIZEN\",\"marker\":{\"color\":\"rgb(179,222,105)\",\"symbol\":\"circle\"},\"mode\":\"markers\",\"name\":\"CENTRAL ENERG\\u00c9TICA MORENO A\\u00c7\\u00daCAR E \\u00c1LCOOL LTDA.|2023-09-01|CONSUMIDOR FINAL|RAIZEN\",\"orientation\":\"v\",\"showlegend\":true,\"x\":[759.6],\"xaxis\":\"x\",\"y\":[66.45],\"yaxis\":\"y\",\"type\":\"scatter\"},{\"customdata\":[[420.0,null,-44.83,null,30.85,-5.9,\"CONSUMIDOR FINAL\"]],\"hovertemplate\":\"id=COAMO AGROINDUSTRIAL COOPERATIVA|2023-09-01|CONSUMIDOR FINAL|RAIZEN<br>Volume m\\u00b3 setembro 2023=%{x}<br>share setembro 2023=%{y}<br>preview_value=%{customdata[0]}<br>preview_value_12=%{customdata[1]}<br>delta_vol=%{customdata[2]}<br>delta_vol_12=%{customdata[3]}<br>preview_share=%{customdata[4]}<br>delta_share_pp=%{customdata[5]}<br>QUALIF_DEST=%{customdata[6]}<extra></extra>\",\"legendgroup\":\"COAMO AGROINDUSTRIAL COOPERATIVA|2023-09-01|CONSUMIDOR FINAL|RAIZEN\",\"marker\":{\"color\":\"rgb(252,205,229)\",\"symbol\":\"circle\"},\"mode\":\"markers\",\"name\":\"COAMO AGROINDUSTRIAL COOPERATIVA|2023-09-01|CONSUMIDOR FINAL|RAIZEN\",\"orientation\":\"v\",\"showlegend\":true,\"x\":[290.0],\"xaxis\":\"x\",\"y\":[24.95],\"yaxis\":\"y\",\"type\":\"scatter\"},{\"customdata\":[[555.0,10.0,-46.05,97.37,50.68,-13.43,\"CONSUMIDOR FINAL\"]],\"hovertemplate\":\"id=TRANSPANORAMA TRANSPORTES LTDA|2023-09-01|CONSUMIDOR FINAL|RAIZEN<br>Volume m\\u00b3 setembro 2023=%{x}<br>share setembro 2023=%{y}<br>preview_value=%{customdata[0]}<br>preview_value_12=%{customdata[1]}<br>delta_vol=%{customdata[2]}<br>delta_vol_12=%{customdata[3]}<br>preview_share=%{customdata[4]}<br>delta_share_pp=%{customdata[5]}<br>QUALIF_DEST=%{customdata[6]}<extra></extra>\",\"legendgroup\":\"TRANSPANORAMA TRANSPORTES LTDA|2023-09-01|CONSUMIDOR FINAL|RAIZEN\",\"marker\":{\"color\":\"rgb(217,217,217)\",\"symbol\":\"circle\"},\"mode\":\"markers\",\"name\":\"TRANSPANORAMA TRANSPORTES LTDA|2023-09-01|CONSUMIDOR FINAL|RAIZEN\",\"orientation\":\"v\",\"showlegend\":true,\"x\":[380.0],\"xaxis\":\"x\",\"y\":[37.25],\"yaxis\":\"y\",\"type\":\"scatter\"},{\"customdata\":[[1050.0,488.0,-50.0,30.29,37.15,1.91,\"CONSUMIDOR FINAL\"]],\"hovertemplate\":\"id=BJ TRANSPORTADORA E LOGISTICA LTDA|2023-09-01|CONSUMIDOR FINAL|RAIZEN<br>Volume m\\u00b3 setembro 2023=%{x}<br>share setembro 2023=%{y}<br>preview_value=%{customdata[0]}<br>preview_value_12=%{customdata[1]}<br>delta_vol=%{customdata[2]}<br>delta_vol_12=%{customdata[3]}<br>preview_share=%{customdata[4]}<br>delta_share_pp=%{customdata[5]}<br>QUALIF_DEST=%{customdata[6]}<extra></extra>\",\"legendgroup\":\"BJ TRANSPORTADORA E LOGISTICA LTDA|2023-09-01|CONSUMIDOR FINAL|RAIZEN\",\"marker\":{\"color\":\"rgb(188,128,189)\",\"symbol\":\"circle\"},\"mode\":\"markers\",\"name\":\"BJ TRANSPORTADORA E LOGISTICA LTDA|2023-09-01|CONSUMIDOR FINAL|RAIZEN\",\"orientation\":\"v\",\"showlegend\":true,\"x\":[700.0],\"xaxis\":\"x\",\"y\":[39.06],\"yaxis\":\"y\",\"type\":\"scatter\"},{\"customdata\":[[812.0,666.0,-54.37,-26.62,66.02,-20.2,\"CONSUMIDOR FINAL\"]],\"hovertemplate\":\"id=Transportes Capellini Ltda|2023-09-01|CONSUMIDOR FINAL|RAIZEN<br>Volume m\\u00b3 setembro 2023=%{x}<br>share setembro 2023=%{y}<br>preview_value=%{customdata[0]}<br>preview_value_12=%{customdata[1]}<br>delta_vol=%{customdata[2]}<br>delta_vol_12=%{customdata[3]}<br>preview_share=%{customdata[4]}<br>delta_share_pp=%{customdata[5]}<br>QUALIF_DEST=%{customdata[6]}<extra></extra>\",\"legendgroup\":\"Transportes Capellini Ltda|2023-09-01|CONSUMIDOR FINAL|RAIZEN\",\"marker\":{\"color\":\"rgb(204,235,197)\",\"symbol\":\"circle\"},\"mode\":\"markers\",\"name\":\"Transportes Capellini Ltda|2023-09-01|CONSUMIDOR FINAL|RAIZEN\",\"orientation\":\"v\",\"showlegend\":true,\"x\":[526.0],\"xaxis\":\"x\",\"y\":[45.82],\"yaxis\":\"y\",\"type\":\"scatter\"},{\"customdata\":[[575.0,105.0,-61.97,70.42,69.28,-26.25,\"CONSUMIDOR FINAL\"]],\"hovertemplate\":\"id=Ciclus Ambiental do Brasil S.A.|2023-09-01|CONSUMIDOR FINAL|RAIZEN<br>Volume m\\u00b3 setembro 2023=%{x}<br>share setembro 2023=%{y}<br>preview_value=%{customdata[0]}<br>preview_value_12=%{customdata[1]}<br>delta_vol=%{customdata[2]}<br>delta_vol_12=%{customdata[3]}<br>preview_share=%{customdata[4]}<br>delta_share_pp=%{customdata[5]}<br>QUALIF_DEST=%{customdata[6]}<extra></extra>\",\"legendgroup\":\"Ciclus Ambiental do Brasil S.A.|2023-09-01|CONSUMIDOR FINAL|RAIZEN\",\"marker\":{\"color\":\"rgb(255,237,111)\",\"symbol\":\"circle\"},\"mode\":\"markers\",\"name\":\"Ciclus Ambiental do Brasil S.A.|2023-09-01|CONSUMIDOR FINAL|RAIZEN\",\"orientation\":\"v\",\"showlegend\":true,\"x\":[355.0],\"xaxis\":\"x\",\"y\":[43.03],\"yaxis\":\"y\",\"type\":\"scatter\"},{\"customdata\":[[1020.0,295.0,-63.2,52.8,89.08,-30.12,\"CONSUMIDOR FINAL\"]],\"hovertemplate\":\"id=RODOVIARIO MORADA DO SOL LTDA|2023-09-01|CONSUMIDOR FINAL|RAIZEN<br>Volume m\\u00b3 setembro 2023=%{x}<br>share setembro 2023=%{y}<br>preview_value=%{customdata[0]}<br>preview_value_12=%{customdata[1]}<br>delta_vol=%{customdata[2]}<br>delta_vol_12=%{customdata[3]}<br>preview_share=%{customdata[4]}<br>delta_share_pp=%{customdata[5]}<br>QUALIF_DEST=%{customdata[6]}<extra></extra>\",\"legendgroup\":\"RODOVIARIO MORADA DO SOL LTDA|2023-09-01|CONSUMIDOR FINAL|RAIZEN\",\"marker\":{\"color\":\"rgb(141,211,199)\",\"symbol\":\"circle\"},\"mode\":\"markers\",\"name\":\"RODOVIARIO MORADA DO SOL LTDA|2023-09-01|CONSUMIDOR FINAL|RAIZEN\",\"orientation\":\"v\",\"showlegend\":true,\"x\":[625.0],\"xaxis\":\"x\",\"y\":[58.96],\"yaxis\":\"y\",\"type\":\"scatter\"},{\"customdata\":[[1102.0,270.0,-63.26,60.0,45.18,-21.15,\"CONSUMIDOR FINAL\"]],\"hovertemplate\":\"id=TRANSOESTE LOG\\u00cdSTICA LTDA|2023-09-01|CONSUMIDOR FINAL|RAIZEN<br>Volume m\\u00b3 setembro 2023=%{x}<br>share setembro 2023=%{y}<br>preview_value=%{customdata[0]}<br>preview_value_12=%{customdata[1]}<br>delta_vol=%{customdata[2]}<br>delta_vol_12=%{customdata[3]}<br>preview_share=%{customdata[4]}<br>delta_share_pp=%{customdata[5]}<br>QUALIF_DEST=%{customdata[6]}<extra></extra>\",\"legendgroup\":\"TRANSOESTE LOG\\u00cdSTICA LTDA|2023-09-01|CONSUMIDOR FINAL|RAIZEN\",\"marker\":{\"color\":\"rgb(255,255,179)\",\"symbol\":\"circle\"},\"mode\":\"markers\",\"name\":\"TRANSOESTE LOG\\u00cdSTICA LTDA|2023-09-01|CONSUMIDOR FINAL|RAIZEN\",\"orientation\":\"v\",\"showlegend\":true,\"x\":[675.0],\"xaxis\":\"x\",\"y\":[24.03],\"yaxis\":\"y\",\"type\":\"scatter\"},{\"customdata\":[[595.0,460.0,-65.28,-27.78,55.09,-18.91,\"CONSUMIDOR FINAL\"]],\"hovertemplate\":\"id=TRANSPORTADORA PRINT LTDA|2023-09-01|CONSUMIDOR FINAL|RAIZEN<br>Volume m\\u00b3 setembro 2023=%{x}<br>share setembro 2023=%{y}<br>preview_value=%{customdata[0]}<br>preview_value_12=%{customdata[1]}<br>delta_vol=%{customdata[2]}<br>delta_vol_12=%{customdata[3]}<br>preview_share=%{customdata[4]}<br>delta_share_pp=%{customdata[5]}<br>QUALIF_DEST=%{customdata[6]}<extra></extra>\",\"legendgroup\":\"TRANSPORTADORA PRINT LTDA|2023-09-01|CONSUMIDOR FINAL|RAIZEN\",\"marker\":{\"color\":\"rgb(190,186,218)\",\"symbol\":\"circle\"},\"mode\":\"markers\",\"name\":\"TRANSPORTADORA PRINT LTDA|2023-09-01|CONSUMIDOR FINAL|RAIZEN\",\"orientation\":\"v\",\"showlegend\":true,\"x\":[360.0],\"xaxis\":\"x\",\"y\":[36.18],\"yaxis\":\"y\",\"type\":\"scatter\"},{\"customdata\":[[1921.0,2460.0,-77.87,-127.78,88.57,-37.96,\"CONSUMIDOR FINAL\"]],\"hovertemplate\":\"id=ATLANTIC NICKEL MINERACAO LTDA|2023-09-01|CONSUMIDOR FINAL|RAIZEN<br>Volume m\\u00b3 setembro 2023=%{x}<br>share setembro 2023=%{y}<br>preview_value=%{customdata[0]}<br>preview_value_12=%{customdata[1]}<br>delta_vol=%{customdata[2]}<br>delta_vol_12=%{customdata[3]}<br>preview_share=%{customdata[4]}<br>delta_share_pp=%{customdata[5]}<br>QUALIF_DEST=%{customdata[6]}<extra></extra>\",\"legendgroup\":\"ATLANTIC NICKEL MINERACAO LTDA|2023-09-01|CONSUMIDOR FINAL|RAIZEN\",\"marker\":{\"color\":\"rgb(251,128,114)\",\"symbol\":\"circle\"},\"mode\":\"markers\",\"name\":\"ATLANTIC NICKEL MINERACAO LTDA|2023-09-01|CONSUMIDOR FINAL|RAIZEN\",\"orientation\":\"v\",\"showlegend\":true,\"x\":[1080.0],\"xaxis\":\"x\",\"y\":[50.61],\"yaxis\":\"y\",\"type\":\"scatter\"},{\"customdata\":[[862.5,335.0,-79.31,30.35,80.05,-28.1,\"CONSUMIDOR FINAL\"]],\"hovertemplate\":\"id=HU TRANSPORTE RODOVIARIO LTDA|2023-09-01|CONSUMIDOR FINAL|RAIZEN<br>Volume m\\u00b3 setembro 2023=%{x}<br>share setembro 2023=%{y}<br>preview_value=%{customdata[0]}<br>preview_value_12=%{customdata[1]}<br>delta_vol=%{customdata[2]}<br>delta_vol_12=%{customdata[3]}<br>preview_share=%{customdata[4]}<br>delta_share_pp=%{customdata[5]}<br>QUALIF_DEST=%{customdata[6]}<extra></extra>\",\"legendgroup\":\"HU TRANSPORTE RODOVIARIO LTDA|2023-09-01|CONSUMIDOR FINAL|RAIZEN\",\"marker\":{\"color\":\"rgb(128,177,211)\",\"symbol\":\"circle\"},\"mode\":\"markers\",\"name\":\"HU TRANSPORTE RODOVIARIO LTDA|2023-09-01|CONSUMIDOR FINAL|RAIZEN\",\"orientation\":\"v\",\"showlegend\":true,\"x\":[481.0],\"xaxis\":\"x\",\"y\":[51.94],\"yaxis\":\"y\",\"type\":\"scatter\"},{\"customdata\":[[88.0,null,-100.0,null,7.27,-3.74,\"CONSUMIDOR FINAL\"]],\"hovertemplate\":\"id=CERRADINHO BIOENERGIA S.A.|2023-09-01|CONSUMIDOR FINAL|RAIZEN<br>Volume m\\u00b3 setembro 2023=%{x}<br>share setembro 2023=%{y}<br>preview_value=%{customdata[0]}<br>preview_value_12=%{customdata[1]}<br>delta_vol=%{customdata[2]}<br>delta_vol_12=%{customdata[3]}<br>preview_share=%{customdata[4]}<br>delta_share_pp=%{customdata[5]}<br>QUALIF_DEST=%{customdata[6]}<extra></extra>\",\"legendgroup\":\"CERRADINHO BIOENERGIA S.A.|2023-09-01|CONSUMIDOR FINAL|RAIZEN\",\"marker\":{\"color\":\"rgb(253,180,98)\",\"symbol\":\"circle\"},\"mode\":\"markers\",\"name\":\"CERRADINHO BIOENERGIA S.A.|2023-09-01|CONSUMIDOR FINAL|RAIZEN\",\"orientation\":\"v\",\"showlegend\":true,\"x\":[44.0],\"xaxis\":\"x\",\"y\":[3.53],\"yaxis\":\"y\",\"type\":\"scatter\"},{\"customdata\":[[890.0,580.0,-122.5,-45.0,73.25,-39.92,\"CONSUMIDOR FINAL\"]],\"hovertemplate\":\"id=DGRANEL TRANSPORTES E COM\\u00c9RCIO LTDA|2023-09-01|CONSUMIDOR FINAL|RAIZEN<br>Volume m\\u00b3 setembro 2023=%{x}<br>share setembro 2023=%{y}<br>preview_value=%{customdata[0]}<br>preview_value_12=%{customdata[1]}<br>delta_vol=%{customdata[2]}<br>delta_vol_12=%{customdata[3]}<br>preview_share=%{customdata[4]}<br>delta_share_pp=%{customdata[5]}<br>QUALIF_DEST=%{customdata[6]}<extra></extra>\",\"legendgroup\":\"DGRANEL TRANSPORTES E COM\\u00c9RCIO LTDA|2023-09-01|CONSUMIDOR FINAL|RAIZEN\",\"marker\":{\"color\":\"rgb(179,222,105)\",\"symbol\":\"circle\"},\"mode\":\"markers\",\"name\":\"DGRANEL TRANSPORTES E COM\\u00c9RCIO LTDA|2023-09-01|CONSUMIDOR FINAL|RAIZEN\",\"orientation\":\"v\",\"showlegend\":true,\"x\":[400.0],\"xaxis\":\"x\",\"y\":[33.33],\"yaxis\":\"y\",\"type\":\"scatter\"},{\"customdata\":[[1243.5,366.5,-124.05,33.96,96.51,-8.13,\"CONSUMIDOR FINAL\"]],\"hovertemplate\":\"id=BOM JESUS AGROPECUARIA LTDA EM RECUPERACAO JUDICIAL|2023-09-01|CONSUMIDOR FINAL|RAIZEN<br>Volume m\\u00b3 setembro 2023=%{x}<br>share setembro 2023=%{y}<br>preview_value=%{customdata[0]}<br>preview_value_12=%{customdata[1]}<br>delta_vol=%{customdata[2]}<br>delta_vol_12=%{customdata[3]}<br>preview_share=%{customdata[4]}<br>delta_share_pp=%{customdata[5]}<br>QUALIF_DEST=%{customdata[6]}<extra></extra>\",\"legendgroup\":\"BOM JESUS AGROPECUARIA LTDA EM RECUPERACAO JUDICIAL|2023-09-01|CONSUMIDOR FINAL|RAIZEN\",\"marker\":{\"color\":\"rgb(252,205,229)\",\"symbol\":\"circle\"},\"mode\":\"markers\",\"name\":\"BOM JESUS AGROPECUARIA LTDA EM RECUPERACAO JUDICIAL|2023-09-01|CONSUMIDOR FINAL|RAIZEN\",\"orientation\":\"v\",\"showlegend\":true,\"x\":[555.0],\"xaxis\":\"x\",\"y\":[88.38],\"yaxis\":\"y\",\"type\":\"scatter\"},{\"customdata\":[[1270.5,114.5,-131.63,79.12,39.75,-9.75,\"CONSUMIDOR FINAL\"]],\"hovertemplate\":\"id=SLC Agr\\u00edcola S.A.|2023-09-01|CONSUMIDOR FINAL|RAIZEN<br>Volume m\\u00b3 setembro 2023=%{x}<br>share setembro 2023=%{y}<br>preview_value=%{customdata[0]}<br>preview_value_12=%{customdata[1]}<br>delta_vol=%{customdata[2]}<br>delta_vol_12=%{customdata[3]}<br>preview_share=%{customdata[4]}<br>delta_share_pp=%{customdata[5]}<br>QUALIF_DEST=%{customdata[6]}<extra></extra>\",\"legendgroup\":\"SLC Agr\\u00edcola S.A.|2023-09-01|CONSUMIDOR FINAL|RAIZEN\",\"marker\":{\"color\":\"rgb(217,217,217)\",\"symbol\":\"circle\"},\"mode\":\"markers\",\"name\":\"SLC Agr\\u00edcola S.A.|2023-09-01|CONSUMIDOR FINAL|RAIZEN\",\"orientation\":\"v\",\"showlegend\":true,\"x\":[548.5],\"xaxis\":\"x\",\"y\":[30.0],\"yaxis\":\"y\",\"type\":\"scatter\"},{\"customdata\":[[180.0,105.0,-260.0,-110.0,16.14,-11.6,\"CONSUMIDOR FINAL\"]],\"hovertemplate\":\"id=VIA\\u00c7\\u00c3O MIRACATIBA LTDA|2023-09-01|CONSUMIDOR FINAL|RAIZEN<br>Volume m\\u00b3 setembro 2023=%{x}<br>share setembro 2023=%{y}<br>preview_value=%{customdata[0]}<br>preview_value_12=%{customdata[1]}<br>delta_vol=%{customdata[2]}<br>delta_vol_12=%{customdata[3]}<br>preview_share=%{customdata[4]}<br>delta_share_pp=%{customdata[5]}<br>QUALIF_DEST=%{customdata[6]}<extra></extra>\",\"legendgroup\":\"VIA\\u00c7\\u00c3O MIRACATIBA LTDA|2023-09-01|CONSUMIDOR FINAL|RAIZEN\",\"marker\":{\"color\":\"rgb(188,128,189)\",\"symbol\":\"circle\"},\"mode\":\"markers\",\"name\":\"VIA\\u00c7\\u00c3O MIRACATIBA LTDA|2023-09-01|CONSUMIDOR FINAL|RAIZEN\",\"orientation\":\"v\",\"showlegend\":true,\"x\":[50.0],\"xaxis\":\"x\",\"y\":[4.55],\"yaxis\":\"y\",\"type\":\"scatter\"},{\"customdata\":[[382.0,224.0,-289.8,-128.57,46.36,-35.08,\"CONSUMIDOR FINAL\"]],\"hovertemplate\":\"id=TRANSTODOGAZ - LOCA\\u00c7\\u00c3O E TRANSPORTE LTDA|2023-09-01|CONSUMIDOR FINAL|RAIZEN<br>Volume m\\u00b3 setembro 2023=%{x}<br>share setembro 2023=%{y}<br>preview_value=%{customdata[0]}<br>preview_value_12=%{customdata[1]}<br>delta_vol=%{customdata[2]}<br>delta_vol_12=%{customdata[3]}<br>preview_share=%{customdata[4]}<br>delta_share_pp=%{customdata[5]}<br>QUALIF_DEST=%{customdata[6]}<extra></extra>\",\"legendgroup\":\"TRANSTODOGAZ - LOCA\\u00c7\\u00c3O E TRANSPORTE LTDA|2023-09-01|CONSUMIDOR FINAL|RAIZEN\",\"marker\":{\"color\":\"rgb(204,235,197)\",\"symbol\":\"circle\"},\"mode\":\"markers\",\"name\":\"TRANSTODOGAZ - LOCA\\u00c7\\u00c3O E TRANSPORTE LTDA|2023-09-01|CONSUMIDOR FINAL|RAIZEN\",\"orientation\":\"v\",\"showlegend\":true,\"x\":[98.0],\"xaxis\":\"x\",\"y\":[11.28],\"yaxis\":\"y\",\"type\":\"scatter\"},{\"customdata\":[[125.0,75.0,-525.0,-275.0,14.54,-11.99,\"CONSUMIDOR FINAL\"]],\"hovertemplate\":\"id=EMPRESA DE TRANSPORTES ANDORINHA S/A|2023-09-01|CONSUMIDOR FINAL|RAIZEN<br>Volume m\\u00b3 setembro 2023=%{x}<br>share setembro 2023=%{y}<br>preview_value=%{customdata[0]}<br>preview_value_12=%{customdata[1]}<br>delta_vol=%{customdata[2]}<br>delta_vol_12=%{customdata[3]}<br>preview_share=%{customdata[4]}<br>delta_share_pp=%{customdata[5]}<br>QUALIF_DEST=%{customdata[6]}<extra></extra>\",\"legendgroup\":\"EMPRESA DE TRANSPORTES ANDORINHA S/A|2023-09-01|CONSUMIDOR FINAL|RAIZEN\",\"marker\":{\"color\":\"rgb(255,237,111)\",\"symbol\":\"circle\"},\"mode\":\"markers\",\"name\":\"EMPRESA DE TRANSPORTES ANDORINHA S/A|2023-09-01|CONSUMIDOR FINAL|RAIZEN\",\"orientation\":\"v\",\"showlegend\":true,\"x\":[20.0],\"xaxis\":\"x\",\"y\":[2.55],\"yaxis\":\"y\",\"type\":\"scatter\"},{\"customdata\":[[165.0,100.0,-1000.0,-566.67,8.47,-7.72,\"CONSUMIDOR FINAL\"]],\"hovertemplate\":\"id=Expresso Guanabara LTDA|2023-09-01|CONSUMIDOR FINAL|RAIZEN<br>Volume m\\u00b3 setembro 2023=%{x}<br>share setembro 2023=%{y}<br>preview_value=%{customdata[0]}<br>preview_value_12=%{customdata[1]}<br>delta_vol=%{customdata[2]}<br>delta_vol_12=%{customdata[3]}<br>preview_share=%{customdata[4]}<br>delta_share_pp=%{customdata[5]}<br>QUALIF_DEST=%{customdata[6]}<extra></extra>\",\"legendgroup\":\"Expresso Guanabara LTDA|2023-09-01|CONSUMIDOR FINAL|RAIZEN\",\"marker\":{\"color\":\"rgb(141,211,199)\",\"symbol\":\"circle\"},\"mode\":\"markers\",\"name\":\"Expresso Guanabara LTDA|2023-09-01|CONSUMIDOR FINAL|RAIZEN\",\"orientation\":\"v\",\"showlegend\":true,\"x\":[15.0],\"xaxis\":\"x\",\"y\":[0.75],\"yaxis\":\"y\",\"type\":\"scatter\"},{\"customdata\":[[494.12,132.04,-2250.71,-528.16,64.31,-61.17,\"CONSUMIDOR FINAL\"]],\"hovertemplate\":\"id=COPELMI MINERA\\u00c7\\u00c3O LTDA|2023-09-01|CONSUMIDOR FINAL|RAIZEN<br>Volume m\\u00b3 setembro 2023=%{x}<br>share setembro 2023=%{y}<br>preview_value=%{customdata[0]}<br>preview_value_12=%{customdata[1]}<br>delta_vol=%{customdata[2]}<br>delta_vol_12=%{customdata[3]}<br>preview_share=%{customdata[4]}<br>delta_share_pp=%{customdata[5]}<br>QUALIF_DEST=%{customdata[6]}<extra></extra>\",\"legendgroup\":\"COPELMI MINERA\\u00c7\\u00c3O LTDA|2023-09-01|CONSUMIDOR FINAL|RAIZEN\",\"marker\":{\"color\":\"rgb(255,255,179)\",\"symbol\":\"circle\"},\"mode\":\"markers\",\"name\":\"COPELMI MINERA\\u00c7\\u00c3O LTDA|2023-09-01|CONSUMIDOR FINAL|RAIZEN\",\"orientation\":\"v\",\"showlegend\":true,\"x\":[21.02],\"xaxis\":\"x\",\"y\":[3.15],\"yaxis\":\"y\",\"type\":\"scatter\"}],                        {\"template\":{\"data\":{\"histogram2dcontour\":[{\"type\":\"histogram2dcontour\",\"colorbar\":{\"outlinewidth\":0,\"ticks\":\"\"},\"colorscale\":[[0.0,\"#0d0887\"],[0.1111111111111111,\"#46039f\"],[0.2222222222222222,\"#7201a8\"],[0.3333333333333333,\"#9c179e\"],[0.4444444444444444,\"#bd3786\"],[0.5555555555555556,\"#d8576b\"],[0.6666666666666666,\"#ed7953\"],[0.7777777777777778,\"#fb9f3a\"],[0.8888888888888888,\"#fdca26\"],[1.0,\"#f0f921\"]]}],\"choropleth\":[{\"type\":\"choropleth\",\"colorbar\":{\"outlinewidth\":0,\"ticks\":\"\"}}],\"histogram2d\":[{\"type\":\"histogram2d\",\"colorbar\":{\"outlinewidth\":0,\"ticks\":\"\"},\"colorscale\":[[0.0,\"#0d0887\"],[0.1111111111111111,\"#46039f\"],[0.2222222222222222,\"#7201a8\"],[0.3333333333333333,\"#9c179e\"],[0.4444444444444444,\"#bd3786\"],[0.5555555555555556,\"#d8576b\"],[0.6666666666666666,\"#ed7953\"],[0.7777777777777778,\"#fb9f3a\"],[0.8888888888888888,\"#fdca26\"],[1.0,\"#f0f921\"]]}],\"heatmap\":[{\"type\":\"heatmap\",\"colorbar\":{\"outlinewidth\":0,\"ticks\":\"\"},\"colorscale\":[[0.0,\"#0d0887\"],[0.1111111111111111,\"#46039f\"],[0.2222222222222222,\"#7201a8\"],[0.3333333333333333,\"#9c179e\"],[0.4444444444444444,\"#bd3786\"],[0.5555555555555556,\"#d8576b\"],[0.6666666666666666,\"#ed7953\"],[0.7777777777777778,\"#fb9f3a\"],[0.8888888888888888,\"#fdca26\"],[1.0,\"#f0f921\"]]}],\"heatmapgl\":[{\"type\":\"heatmapgl\",\"colorbar\":{\"outlinewidth\":0,\"ticks\":\"\"},\"colorscale\":[[0.0,\"#0d0887\"],[0.1111111111111111,\"#46039f\"],[0.2222222222222222,\"#7201a8\"],[0.3333333333333333,\"#9c179e\"],[0.4444444444444444,\"#bd3786\"],[0.5555555555555556,\"#d8576b\"],[0.6666666666666666,\"#ed7953\"],[0.7777777777777778,\"#fb9f3a\"],[0.8888888888888888,\"#fdca26\"],[1.0,\"#f0f921\"]]}],\"contourcarpet\":[{\"type\":\"contourcarpet\",\"colorbar\":{\"outlinewidth\":0,\"ticks\":\"\"}}],\"contour\":[{\"type\":\"contour\",\"colorbar\":{\"outlinewidth\":0,\"ticks\":\"\"},\"colorscale\":[[0.0,\"#0d0887\"],[0.1111111111111111,\"#46039f\"],[0.2222222222222222,\"#7201a8\"],[0.3333333333333333,\"#9c179e\"],[0.4444444444444444,\"#bd3786\"],[0.5555555555555556,\"#d8576b\"],[0.6666666666666666,\"#ed7953\"],[0.7777777777777778,\"#fb9f3a\"],[0.8888888888888888,\"#fdca26\"],[1.0,\"#f0f921\"]]}],\"surface\":[{\"type\":\"surface\",\"colorbar\":{\"outlinewidth\":0,\"ticks\":\"\"},\"colorscale\":[[0.0,\"#0d0887\"],[0.1111111111111111,\"#46039f\"],[0.2222222222222222,\"#7201a8\"],[0.3333333333333333,\"#9c179e\"],[0.4444444444444444,\"#bd3786\"],[0.5555555555555556,\"#d8576b\"],[0.6666666666666666,\"#ed7953\"],[0.7777777777777778,\"#fb9f3a\"],[0.8888888888888888,\"#fdca26\"],[1.0,\"#f0f921\"]]}],\"mesh3d\":[{\"type\":\"mesh3d\",\"colorbar\":{\"outlinewidth\":0,\"ticks\":\"\"}}],\"scatter\":[{\"fillpattern\":{\"fillmode\":\"overlay\",\"size\":10,\"solidity\":0.2},\"type\":\"scatter\"}],\"parcoords\":[{\"type\":\"parcoords\",\"line\":{\"colorbar\":{\"outlinewidth\":0,\"ticks\":\"\"}}}],\"scatterpolargl\":[{\"type\":\"scatterpolargl\",\"marker\":{\"colorbar\":{\"outlinewidth\":0,\"ticks\":\"\"}}}],\"bar\":[{\"error_x\":{\"color\":\"#2a3f5f\"},\"error_y\":{\"color\":\"#2a3f5f\"},\"marker\":{\"line\":{\"color\":\"#E5ECF6\",\"width\":0.5},\"pattern\":{\"fillmode\":\"overlay\",\"size\":10,\"solidity\":0.2}},\"type\":\"bar\"}],\"scattergeo\":[{\"type\":\"scattergeo\",\"marker\":{\"colorbar\":{\"outlinewidth\":0,\"ticks\":\"\"}}}],\"scatterpolar\":[{\"type\":\"scatterpolar\",\"marker\":{\"colorbar\":{\"outlinewidth\":0,\"ticks\":\"\"}}}],\"histogram\":[{\"marker\":{\"pattern\":{\"fillmode\":\"overlay\",\"size\":10,\"solidity\":0.2}},\"type\":\"histogram\"}],\"scattergl\":[{\"type\":\"scattergl\",\"marker\":{\"colorbar\":{\"outlinewidth\":0,\"ticks\":\"\"}}}],\"scatter3d\":[{\"type\":\"scatter3d\",\"line\":{\"colorbar\":{\"outlinewidth\":0,\"ticks\":\"\"}},\"marker\":{\"colorbar\":{\"outlinewidth\":0,\"ticks\":\"\"}}}],\"scattermapbox\":[{\"type\":\"scattermapbox\",\"marker\":{\"colorbar\":{\"outlinewidth\":0,\"ticks\":\"\"}}}],\"scatterternary\":[{\"type\":\"scatterternary\",\"marker\":{\"colorbar\":{\"outlinewidth\":0,\"ticks\":\"\"}}}],\"scattercarpet\":[{\"type\":\"scattercarpet\",\"marker\":{\"colorbar\":{\"outlinewidth\":0,\"ticks\":\"\"}}}],\"carpet\":[{\"aaxis\":{\"endlinecolor\":\"#2a3f5f\",\"gridcolor\":\"white\",\"linecolor\":\"white\",\"minorgridcolor\":\"white\",\"startlinecolor\":\"#2a3f5f\"},\"baxis\":{\"endlinecolor\":\"#2a3f5f\",\"gridcolor\":\"white\",\"linecolor\":\"white\",\"minorgridcolor\":\"white\",\"startlinecolor\":\"#2a3f5f\"},\"type\":\"carpet\"}],\"table\":[{\"cells\":{\"fill\":{\"color\":\"#EBF0F8\"},\"line\":{\"color\":\"white\"}},\"header\":{\"fill\":{\"color\":\"#C8D4E3\"},\"line\":{\"color\":\"white\"}},\"type\":\"table\"}],\"barpolar\":[{\"marker\":{\"line\":{\"color\":\"#E5ECF6\",\"width\":0.5},\"pattern\":{\"fillmode\":\"overlay\",\"size\":10,\"solidity\":0.2}},\"type\":\"barpolar\"}],\"pie\":[{\"automargin\":true,\"type\":\"pie\"}]},\"layout\":{\"autotypenumbers\":\"strict\",\"colorway\":[\"#636efa\",\"#EF553B\",\"#00cc96\",\"#ab63fa\",\"#FFA15A\",\"#19d3f3\",\"#FF6692\",\"#B6E880\",\"#FF97FF\",\"#FECB52\"],\"font\":{\"color\":\"#2a3f5f\"},\"hovermode\":\"closest\",\"hoverlabel\":{\"align\":\"left\"},\"paper_bgcolor\":\"white\",\"plot_bgcolor\":\"#E5ECF6\",\"polar\":{\"bgcolor\":\"#E5ECF6\",\"angularaxis\":{\"gridcolor\":\"white\",\"linecolor\":\"white\",\"ticks\":\"\"},\"radialaxis\":{\"gridcolor\":\"white\",\"linecolor\":\"white\",\"ticks\":\"\"}},\"ternary\":{\"bgcolor\":\"#E5ECF6\",\"aaxis\":{\"gridcolor\":\"white\",\"linecolor\":\"white\",\"ticks\":\"\"},\"baxis\":{\"gridcolor\":\"white\",\"linecolor\":\"white\",\"ticks\":\"\"},\"caxis\":{\"gridcolor\":\"white\",\"linecolor\":\"white\",\"ticks\":\"\"}},\"coloraxis\":{\"colorbar\":{\"outlinewidth\":0,\"ticks\":\"\"}},\"colorscale\":{\"sequential\":[[0.0,\"#0d0887\"],[0.1111111111111111,\"#46039f\"],[0.2222222222222222,\"#7201a8\"],[0.3333333333333333,\"#9c179e\"],[0.4444444444444444,\"#bd3786\"],[0.5555555555555556,\"#d8576b\"],[0.6666666666666666,\"#ed7953\"],[0.7777777777777778,\"#fb9f3a\"],[0.8888888888888888,\"#fdca26\"],[1.0,\"#f0f921\"]],\"sequentialminus\":[[0.0,\"#0d0887\"],[0.1111111111111111,\"#46039f\"],[0.2222222222222222,\"#7201a8\"],[0.3333333333333333,\"#9c179e\"],[0.4444444444444444,\"#bd3786\"],[0.5555555555555556,\"#d8576b\"],[0.6666666666666666,\"#ed7953\"],[0.7777777777777778,\"#fb9f3a\"],[0.8888888888888888,\"#fdca26\"],[1.0,\"#f0f921\"]],\"diverging\":[[0,\"#8e0152\"],[0.1,\"#c51b7d\"],[0.2,\"#de77ae\"],[0.3,\"#f1b6da\"],[0.4,\"#fde0ef\"],[0.5,\"#f7f7f7\"],[0.6,\"#e6f5d0\"],[0.7,\"#b8e186\"],[0.8,\"#7fbc41\"],[0.9,\"#4d9221\"],[1,\"#276419\"]]},\"xaxis\":{\"gridcolor\":\"white\",\"linecolor\":\"white\",\"ticks\":\"\",\"title\":{\"standoff\":15},\"zerolinecolor\":\"white\",\"automargin\":true,\"zerolinewidth\":2},\"yaxis\":{\"gridcolor\":\"white\",\"linecolor\":\"white\",\"ticks\":\"\",\"title\":{\"standoff\":15},\"zerolinecolor\":\"white\",\"automargin\":true,\"zerolinewidth\":2},\"scene\":{\"xaxis\":{\"backgroundcolor\":\"#E5ECF6\",\"gridcolor\":\"white\",\"linecolor\":\"white\",\"showbackground\":true,\"ticks\":\"\",\"zerolinecolor\":\"white\",\"gridwidth\":2},\"yaxis\":{\"backgroundcolor\":\"#E5ECF6\",\"gridcolor\":\"white\",\"linecolor\":\"white\",\"showbackground\":true,\"ticks\":\"\",\"zerolinecolor\":\"white\",\"gridwidth\":2},\"zaxis\":{\"backgroundcolor\":\"#E5ECF6\",\"gridcolor\":\"white\",\"linecolor\":\"white\",\"showbackground\":true,\"ticks\":\"\",\"zerolinecolor\":\"white\",\"gridwidth\":2}},\"shapedefaults\":{\"line\":{\"color\":\"#2a3f5f\"}},\"annotationdefaults\":{\"arrowcolor\":\"#2a3f5f\",\"arrowhead\":0,\"arrowwidth\":1},\"geo\":{\"bgcolor\":\"white\",\"landcolor\":\"#E5ECF6\",\"subunitcolor\":\"white\",\"showland\":true,\"showlakes\":true,\"lakecolor\":\"white\"},\"title\":{\"x\":0.05},\"mapbox\":{\"style\":\"light\"}}},\"xaxis\":{\"anchor\":\"y\",\"domain\":[0.0,1.0],\"title\":{\"text\":\"Volume m\\u00b3 setembro 2023\"},\"showgrid\":false},\"yaxis\":{\"anchor\":\"x\",\"domain\":[0.0,1.0],\"title\":{\"text\":\"share setembro 2023\"},\"showgrid\":true},\"legend\":{\"title\":{\"text\":\"id\"},\"tracegroupgap\":0},\"title\":{\"text\":\"Segmento medio - Brasil - Vol x Share - 2023-09\",\"font\":{\"color\":\"darkslateblue\"},\"x\":0.5,\"y\":0.9},\"autosize\":false,\"width\":1300,\"height\":700,\"plot_bgcolor\":\"#fcfafa\",\"paper_bgcolor\":\"#fcfafa\",\"shapes\":[{\"line\":{\"color\":\"blue\",\"dash\":\"dot\"},\"type\":\"line\",\"x0\":0,\"x1\":1,\"xref\":\"x domain\",\"y0\":60.57,\"y1\":60.57,\"yref\":\"y\"},{\"line\":{\"color\":\"yellow\",\"dash\":\"dot\"},\"type\":\"line\",\"x0\":0,\"x1\":1,\"xref\":\"x domain\",\"y0\":61.59,\"y1\":61.59,\"yref\":\"y\"},{\"line\":{\"color\":\"blue\",\"dash\":\"dot\"},\"type\":\"line\",\"x0\":809.5,\"x1\":809.5,\"xref\":\"x\",\"y0\":0,\"y1\":1,\"yref\":\"y domain\"},{\"line\":{\"color\":\"yellow\",\"dash\":\"dot\"},\"type\":\"line\",\"x0\":874.26,\"x1\":874.26,\"xref\":\"x\",\"y0\":0,\"y1\":1,\"yref\":\"y domain\"}],\"annotations\":[{\"showarrow\":false,\"text\":\"Media = 60.57\",\"x\":0,\"xanchor\":\"left\",\"xref\":\"x domain\",\"y\":60.57,\"yanchor\":\"bottom\",\"yref\":\"y\"},{\"showarrow\":false,\"text\":\"Mediana = 61.59\",\"x\":1,\"xanchor\":\"right\",\"xref\":\"x domain\",\"y\":61.59,\"yanchor\":\"bottom\",\"yref\":\"y\"},{\"showarrow\":false,\"text\":\"Mediana = 809.50\",\"x\":809.5,\"xanchor\":\"right\",\"xref\":\"x\",\"y\":1,\"yanchor\":\"top\",\"yref\":\"y domain\"},{\"showarrow\":false,\"text\":\"Media = 874.26\",\"x\":874.26,\"xanchor\":\"left\",\"xref\":\"x\",\"y\":1,\"yanchor\":\"top\",\"yref\":\"y domain\"}]},                        {\"responsive\": true}                    ).then(function(){\n",
       "                            \n",
       "var gd = document.getElementById('334dd997-af7c-4a2b-b9a2-791f024ad4fd');\n",
       "var x = new MutationObserver(function (mutations, observer) {{\n",
       "        var display = window.getComputedStyle(gd).display;\n",
       "        if (!display || display === 'none') {{\n",
       "            console.log([gd, 'removed!']);\n",
       "            Plotly.purge(gd);\n",
       "            observer.disconnect();\n",
       "        }}\n",
       "}});\n",
       "\n",
       "// Listen for the removal of the full notebook cells\n",
       "var notebookContainer = gd.closest('#notebook-container');\n",
       "if (notebookContainer) {{\n",
       "    x.observe(notebookContainer, {childList: true});\n",
       "}}\n",
       "\n",
       "// Listen for the clearing of the current output cell\n",
       "var outputEl = gd.closest('.output');\n",
       "if (outputEl) {{\n",
       "    x.observe(outputEl, {childList: true});\n",
       "}}\n",
       "\n",
       "                        })                };                });            </script>        </div>"
      ]
     },
     "metadata": {},
     "output_type": "display_data"
    }
   ],
   "source": [
    "medio_analitico = medio_analitico()\n",
    "\n",
    "# quadrantes medio 22\n",
    "\n",
    "#RAIZEN_medio22['share_raizen'] = RAIZEN_medio22['share_raizen']*100\n",
    "linha_mediana = medio_analitico['VolANP'].median()\n",
    "linha_media = medio_analitico['VolANP'].mean()\n",
    "share_mediana = medio_analitico['share_razao'].median()\n",
    "share_media = medio_analitico['share_razao'].mean()\n",
    "\n",
    "linha_mediana = round(linha_mediana, 2)\n",
    "linha_media = round(linha_media, 2)\n",
    "share_mediana = round(share_mediana, 2)\n",
    "share_media = round(share_media, 2)\n",
    "\n",
    "conditions = [\n",
    "    (medio_analitico['share_razao'] > share_media) & (medio_analitico['VolANP'] > linha_media),\n",
    "    (medio_analitico['share_razao'] > share_media) & (medio_analitico['VolANP'] <= linha_media),\n",
    "    (medio_analitico['share_razao'] <= share_media) & (medio_analitico['VolANP'] > linha_media),\n",
    "    (medio_analitico['share_razao'] <= share_media) & (medio_analitico['VolANP'] <= linha_media)]\n",
    "\n",
    "choices1 = ['Share acima da média e Volumes acima da média no ano','Share acima da média e Volumes abaixo da média no ano','Share abaixo da média e Volumes acima da média no ano','Share abaixo da média e Volumes abaixo da média no ano']\n",
    "choices2 = ['Sucesso','Bom','Atenção','Razoável']\n",
    "\n",
    "medio_analitico['quadrante_desc'] = np.select(conditions, choices1, default='sem_grupo')\n",
    "medio_analitico['quadrante'] = np.select(conditions, choices2, default='sem_grupo')\n",
    "\n",
    "medio_analitico = round(medio_analitico, 2)\n",
    "\n",
    "\n",
    "\n",
    "figure2 = px.scatter(\n",
    "        medio_analitico,\n",
    "        x=\"VolANP\",\n",
    "        y=\"share_razao\",\n",
    "        color_discrete_sequence=px.colors.qualitative.Set3,\n",
    "        color=medio_analitico['id'],\n",
    "        labels={\n",
    "            \"VolANP\": \"Volume m³ setembro 2023\",\n",
    "            \"share_razao\": \"share setembro 2023\"\n",
    "        },\n",
    "        #hover_data=[\"QUALIF_DEST\",\"quadrante_desc\",\"quadrante\",\"faixa_razao\"],\n",
    "        hover_data=[\"VolANP\",\"preview_value\",\"preview_value_12\",\"delta_vol\",\"delta_vol_12\",\"share_razao\",\"preview_share\",\"delta_share_pp\",\"QUALIF_DEST\"],\n",
    "        title=\"Segmento medio - Brasil - Vol x Share - 2023-09\",\n",
    "    )#.update_layout(\n",
    "#     legend_title=\"Funding\"\n",
    "#    font_color=\"Green\",\n",
    "#    legend_title={\n",
    "#        \"text\": \"Funding\",\n",
    "#        \"font\":{\n",
    "#            \"color\":\"Red\",\n",
    "#            \"family\": \"Comic Sans\"\n",
    "#        }\n",
    "#    }\n",
    "#)\n",
    "figure2.update_layout(\n",
    "    autosize=False,\n",
    "    width= 1300,\n",
    "    height=700\n",
    ")\n",
    "figure2.update_xaxes(showgrid=False)\n",
    "figure2.update_yaxes(showgrid=True)\n",
    "\n",
    "figure2.update_layout(\n",
    "        title = {\"x\": .5, \"y\": .90, \"font\": {\"color\":\"darkslateblue\"}},\n",
    "        plot_bgcolor = \"#fcfafa\",\n",
    "        paper_bgcolor = \"#fcfafa\"\n",
    "    )\n",
    "figure2.add_hline(y=share_media, line_dash=\"dot\", line_color=\"blue\", annotation_text=f'Media = {share_media:.2f}',annotation_position=\"top left\" )\n",
    "figure2.add_hline(y=share_mediana, line_dash=\"dot\", line_color=\"yellow\", annotation_text=f'Mediana = {share_mediana:.2f}',annotation_position=\"top right\" )\n",
    "figure2.add_vline(x=linha_mediana, line_dash=\"dot\", line_color=\"blue\", annotation_text=f'Mediana = {linha_mediana:.2f}',annotation_position=\"top left\" )\n",
    "figure2.add_vline(x=linha_media, line_dash=\"dot\", line_color=\"yellow\", annotation_text=f'Media = {linha_media:.2f}',annotation_position=\"top right\" )\n",
    "\n",
    "\n",
    "figure2.show()\n",
    "\n"
   ]
  },
  {
   "cell_type": "code",
   "execution_count": 28,
   "id": "7f93f863",
   "metadata": {},
   "outputs": [
    {
     "name": "stderr",
     "output_type": "stream",
     "text": [
      "[NbConvertApp] Converting notebook ANP_granular_analitico_BR_v14_RAIZEN.ipynb to html\n",
      "[NbConvertApp] Writing 755250 bytes to ANP_granular_analitico_BR_v14_RAIZEN.html\n"
     ]
    }
   ],
   "source": [
    "!jupyter nbconvert --to html --no-input ANP_granular_analitico_BR_v14_RAIZEN.ipynb"
   ]
  },
  {
   "cell_type": "code",
   "execution_count": null,
   "id": "797a7732",
   "metadata": {},
   "outputs": [],
   "source": []
  },
  {
   "cell_type": "code",
   "execution_count": null,
   "id": "83d3cd40",
   "metadata": {},
   "outputs": [],
   "source": []
  },
  {
   "cell_type": "code",
   "execution_count": null,
   "id": "48479dd5",
   "metadata": {},
   "outputs": [],
   "source": []
  },
  {
   "cell_type": "code",
   "execution_count": null,
   "id": "6ea9db91",
   "metadata": {},
   "outputs": [],
   "source": []
  },
  {
   "cell_type": "code",
   "execution_count": null,
   "id": "ec8bdf3f",
   "metadata": {},
   "outputs": [],
   "source": []
  },
  {
   "cell_type": "code",
   "execution_count": null,
   "id": "f675ca26",
   "metadata": {},
   "outputs": [],
   "source": []
  },
  {
   "cell_type": "code",
   "execution_count": null,
   "id": "f4f74fc2",
   "metadata": {},
   "outputs": [],
   "source": []
  },
  {
   "cell_type": "code",
   "execution_count": null,
   "id": "2f7b491e",
   "metadata": {},
   "outputs": [],
   "source": []
  },
  {
   "cell_type": "code",
   "execution_count": null,
   "id": "0a3f09bf",
   "metadata": {},
   "outputs": [],
   "source": []
  },
  {
   "cell_type": "code",
   "execution_count": null,
   "id": "346ddb15",
   "metadata": {},
   "outputs": [],
   "source": []
  },
  {
   "cell_type": "code",
   "execution_count": null,
   "id": "9665b674",
   "metadata": {},
   "outputs": [],
   "source": []
  },
  {
   "cell_type": "code",
   "execution_count": null,
   "id": "593559a8",
   "metadata": {},
   "outputs": [],
   "source": []
  },
  {
   "cell_type": "code",
   "execution_count": null,
   "id": "684018d1",
   "metadata": {},
   "outputs": [],
   "source": []
  },
  {
   "cell_type": "code",
   "execution_count": null,
   "id": "0d11a12a",
   "metadata": {},
   "outputs": [],
   "source": []
  },
  {
   "cell_type": "code",
   "execution_count": null,
   "id": "b6a5091b",
   "metadata": {},
   "outputs": [],
   "source": []
  }
 ],
 "metadata": {
  "hide_input": false,
  "kernelspec": {
   "display_name": "Python 3",
   "language": "python",
   "name": "python3"
  },
  "language_info": {
   "codemirror_mode": {
    "name": "ipython",
    "version": 3
   },
   "file_extension": ".py",
   "mimetype": "text/x-python",
   "name": "python",
   "nbconvert_exporter": "python",
   "pygments_lexer": "ipython3",
   "version": "3.8.8"
  }
 },
 "nbformat": 4,
 "nbformat_minor": 5
}
