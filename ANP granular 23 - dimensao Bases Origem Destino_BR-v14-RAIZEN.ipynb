{
 "cells": [
  {
   "cell_type": "code",
   "execution_count": null,
   "id": "98d3cfc7",
   "metadata": {},
   "outputs": [],
   "source": [
    "import time\n",
    "tempo_inicio = time.time()"
   ]
  },
  {
   "cell_type": "code",
   "execution_count": null,
   "id": "55b3461a",
   "metadata": {
    "id": "6Rkmlnf8FwHo"
   },
   "outputs": [],
   "source": [
    "from datetime import datetime\n",
    "start = datetime.now()\n"
   ]
  },
  {
   "cell_type": "code",
   "execution_count": null,
   "id": "8c40c4ea",
   "metadata": {},
   "outputs": [],
   "source": [
    "import warnings"
   ]
  },
  {
   "cell_type": "code",
   "execution_count": null,
   "id": "00099c77",
   "metadata": {},
   "outputs": [],
   "source": [
    "warnings.filterwarnings('ignore')"
   ]
  },
  {
   "cell_type": "markdown",
   "id": "76e1592a",
   "metadata": {
    "id": "nQ-zVJKAhhxF"
   },
   "source": [
    "## **Bibliotecas Necessárias**"
   ]
  },
  {
   "cell_type": "code",
   "execution_count": null,
   "id": "eaafdff5",
   "metadata": {
    "id": "SkHnBbJYR4CT"
   },
   "outputs": [],
   "source": [
    "import pandas as pd\n",
    "import numpy  as np\n",
    "from datetime import datetime, date\n",
    "import pyarrow as pa\n",
    "import pyarrow.parquet as pq\n",
    "import pandas as pd\n",
    "\n",
    "import plotly.express as px \n",
    "import plotly.graph_objects as go\n",
    "#import dash  \n",
    "#import dash_core_components as dcc\n",
    "#import dash_html_components as html\n",
    "#from dash.dependencies import Input, Output\n",
    "#import dash_bootstrap_components as dbc\n",
    "\n",
    "\n",
    "# Visualização\n",
    "import matplotlib.pyplot as plt\n",
    "import plotly\n",
    "from plotly.subplots import make_subplots\n",
    "import plotly.graph_objects as go\n",
    "from plotly.graph_objs import *\n",
    "\n",
    "import seaborn as sns\n",
    "import cufflinks as cf\n",
    "from plotly.offline import plot, iplot\n",
    "import plotly.offline as py\n",
    "import plotly.graph_objs as go\n",
    "cf.go_offline()\n",
    "import plotly.express as px\n",
    "import plotly.subplots as sp\n",
    "\n",
    "#from datetime import datetime\n",
    "from dateutil.relativedelta import relativedelta\n",
    "\n",
    "#from dash import Dash, dash_table\n"
   ]
  },
  {
   "cell_type": "code",
   "execution_count": null,
   "id": "38de2a22",
   "metadata": {},
   "outputs": [],
   "source": [
    "import zipfile\n",
    "from zipfile import ZipFile"
   ]
  },
  {
   "cell_type": "markdown",
   "id": "e6c14f75",
   "metadata": {},
   "source": [
    "## **Definindo a Origem dos Dados**"
   ]
  },
  {
   "cell_type": "code",
   "execution_count": null,
   "id": "483824cd",
   "metadata": {},
   "outputs": [],
   "source": [
    "#from google.colab import drive\n",
    "#drive.mount(\"/content/drive\", force_remount=True)\n",
    "path1='C:/Users/YC9R/VIBRA/Customer Insights - Documentos/Tableau/churn/arquivos churn python/'\n",
    "path2='C:/Users/YC9R/VIBRA/Customer Insights - Documentos/Avanade Documentos/output notebooks/output_models/'\n",
    "path3='C:/Users/YC9R/VIBRA/Customer Insights - Documentos/Avanade Documentos/output notebooks/volumetria/'\n",
    "path4='C:/Users/YC9R/VIBRA/Customer Insights - Documentos/Avanade Documentos/output notebooks/histdiesel/'\n",
    "path5='C:/Users/YC9R/VIBRA/Customer Insights - Documentos/Avanade Documentos/output notebooks/volumetria_arquivos/'\n",
    "path6='C:/Users/YC9R/VIBRA/Customer Insights - Documentos/Avanade Documentos/dados VIBRA/'\n",
    "path7='C:/Users/YC9R/VIBRA/Customer Insights - Documentos/Avanade Documentos/output notebooks/Motor Potencial/'\n",
    "path8='C:/Users/YC9R/VIBRA/Customer Insights - Documentos/Avanade Documentos/dados ANP granulares/'\n",
    "path9='C:/Users/YC9R/VIBRA/Customer Insights - Documentos/Avanade Documentos/dados ANP granulares/tabela-apoio-isimp-vigente/'\n",
    "path10='C:/Users/YC9R/VIBRA/Customer Insights - Documentos/Avanade Documentos/dados ANP granulares/outputs/'\n",
    "path11='C:/Users/YC9R/VIBRA/Customer Insights - Documentos/Avanade Documentos/dados ANP granulares/'\n",
    "path12='C:/Users/YC9R/VIBRA/Customer Insights - Documentos/Avanade Documentos/dados ANP granulares/DIESEL/'\n"
   ]
  },
  {
   "cell_type": "markdown",
   "id": "e42bc41d",
   "metadata": {},
   "source": [
    "## **Definições Gerais**"
   ]
  },
  {
   "cell_type": "markdown",
   "id": "284624e2",
   "metadata": {},
   "source": [
    "### leitura"
   ]
  },
  {
   "cell_type": "code",
   "execution_count": null,
   "id": "493122b3",
   "metadata": {},
   "outputs": [],
   "source": [
    "def Leiturahistd ():\n",
    "    dfBase = pd.read_parquet(path4+'histd.parquet' )\n",
    "    return (dfBase)"
   ]
  },
  {
   "cell_type": "code",
   "execution_count": null,
   "id": "fc0654b0",
   "metadata": {},
   "outputs": [],
   "source": [
    "def LeituraMKTcf ():\n",
    "    dfBase = pd.read_excel ( path6 + \"Dados_MarketShare_CONS_TRR.xlsx\",  \n",
    "                             sheet_name = \"CONSUMIDOR - Volumes\"\n",
    "                          )   \n",
    "    return (dfBase)\n",
    "\n"
   ]
  },
  {
   "cell_type": "code",
   "execution_count": null,
   "id": "2b175747",
   "metadata": {},
   "outputs": [],
   "source": [
    "\n",
    "def LeituraMKTtrr ():\n",
    "    dfBase = pd.read_excel ( path6 + \"Dados_MarketShare_CONS_TRR.xlsx\",  \n",
    "                             sheet_name = \"TRR - Volumes\"\n",
    "                          )   \n",
    "    return (dfBase)\n",
    "\n"
   ]
  },
  {
   "cell_type": "code",
   "execution_count": null,
   "id": "29401975",
   "metadata": {},
   "outputs": [],
   "source": [
    "def LeituraMKTcfUF ():\n",
    "    dfBase = pd.read_excel ( path6 + \"Dados_MarketShare_CONS_TRR.xlsx\",  \n",
    "                             sheet_name = \"CONS VOL UF\"\n",
    "                          )   \n",
    "    return (dfBase)\n",
    "\n"
   ]
  },
  {
   "cell_type": "code",
   "execution_count": null,
   "id": "5c0ece99",
   "metadata": {},
   "outputs": [],
   "source": [
    "\n",
    "def LeituraMKTtrrUF ():\n",
    "    dfBase = pd.read_excel ( path6 + \"Dados_MarketShare_CONS_TRR.xlsx\",  \n",
    "                             sheet_name = \"TRR VOL UF\"\n",
    "                          )   \n",
    "    return (dfBase)"
   ]
  },
  {
   "cell_type": "markdown",
   "id": "4dd3facd",
   "metadata": {},
   "source": [
    "# csv files"
   ]
  },
  {
   "cell_type": "code",
   "execution_count": null,
   "id": "824098d5",
   "metadata": {},
   "outputs": [],
   "source": [
    "# df24= pd.read_csv ( path12 + \"ANP_DIESEL_B 2024.csv\",  \n",
    "#                                 sep = \",\", \n",
    "#                                 encoding   = \"utf8\",      \n",
    "#                                 low_memory = False,\n",
    "                                \n",
    "#                             )\n"
   ]
  },
  {
   "cell_type": "code",
   "execution_count": null,
   "id": "403b3e73",
   "metadata": {},
   "outputs": [],
   "source": [
    "#df24.info()"
   ]
  },
  {
   "cell_type": "code",
   "execution_count": null,
   "id": "4b1ac242",
   "metadata": {},
   "outputs": [],
   "source": [
    "#df24['Mês'].value_counts()"
   ]
  },
  {
   "cell_type": "code",
   "execution_count": null,
   "id": "0c514d3e",
   "metadata": {},
   "outputs": [],
   "source": [
    "path12"
   ]
  },
  {
   "cell_type": "code",
   "execution_count": null,
   "id": "70965f91",
   "metadata": {},
   "outputs": [],
   "source": [
    "df23 = pd.read_csv (path12 + \"ANP_DIESEL_B 2023.csv\",  \n",
    "                                sep = \",\", \n",
    "                                encoding   = \"utf8\",      \n",
    "                                low_memory = False,)\n"
   ]
  },
  {
   "cell_type": "code",
   "execution_count": null,
   "id": "4276bae1",
   "metadata": {},
   "outputs": [],
   "source": [
    "df23.info()"
   ]
  },
  {
   "cell_type": "code",
   "execution_count": null,
   "id": "dc39e520",
   "metadata": {},
   "outputs": [],
   "source": [
    "df22 = pd.read_csv ( \n",
    "                                path12 + \"ANP_DIESEL_B_2022.csv\",  \n",
    "                                sep = \",\", \n",
    "                                encoding   = \"utf8\",      \n",
    "                                low_memory = False,\n",
    "                                \n",
    "                            )\n"
   ]
  },
  {
   "cell_type": "code",
   "execution_count": null,
   "id": "20d45d71",
   "metadata": {},
   "outputs": [],
   "source": [
    "T008 = pd.read_excel(open(r'C:\\Users\\YC9R\\VIBRA\\Customer Insights - Documentos\\Avanade Documentos\\dados ANP granulares\\T008.xlsx', 'rb'),sheet_name='T008')\n",
    "T008.info()"
   ]
  },
  {
   "cell_type": "code",
   "execution_count": null,
   "id": "4ee2b54d",
   "metadata": {},
   "outputs": [],
   "source": [
    "T021 = pd.read_excel(open(r'C:\\Users\\YC9R\\VIBRA\\Customer Insights - Documentos\\Avanade Documentos\\dados ANP granulares\\T021.xlsx', 'rb'),sheet_name='T021')\n",
    "T021.info()"
   ]
  },
  {
   "cell_type": "markdown",
   "id": "9bc27043",
   "metadata": {},
   "source": [
    "# explorando"
   ]
  },
  {
   "cell_type": "code",
   "execution_count": null,
   "id": "fe0547c6",
   "metadata": {},
   "outputs": [],
   "source": [
    "df23.info()"
   ]
  },
  {
   "cell_type": "code",
   "execution_count": null,
   "id": "26ce4ce0",
   "metadata": {},
   "outputs": [],
   "source": [
    "#df23[['Mês','Vendas (mil m³)']]"
   ]
  },
  {
   "cell_type": "code",
   "execution_count": null,
   "id": "a2b4fef2",
   "metadata": {},
   "outputs": [],
   "source": [
    "df22.info()"
   ]
  },
  {
   "cell_type": "code",
   "execution_count": null,
   "id": "f014764b",
   "metadata": {},
   "outputs": [],
   "source": [
    "df23['C_UF'].value_counts()"
   ]
  },
  {
   "cell_type": "code",
   "execution_count": null,
   "id": "df8ae582",
   "metadata": {},
   "outputs": [],
   "source": [
    "df22['C_UF'].value_counts()"
   ]
  },
  {
   "cell_type": "code",
   "execution_count": null,
   "id": "5a418604",
   "metadata": {},
   "outputs": [],
   "source": [
    "df23['Mês'].value_counts(dropna=False)"
   ]
  },
  {
   "cell_type": "code",
   "execution_count": null,
   "id": "b3c8f603",
   "metadata": {},
   "outputs": [],
   "source": [
    "df22['Mês'].value_counts(dropna=False)"
   ]
  },
  {
   "cell_type": "code",
   "execution_count": null,
   "id": "970e34bb",
   "metadata": {},
   "outputs": [],
   "source": [
    "df22['Mês'].value_counts(dropna=False)"
   ]
  },
  {
   "cell_type": "code",
   "execution_count": null,
   "id": "2906bb5f",
   "metadata": {},
   "outputs": [],
   "source": [
    "df23 = df23.drop(['DISTRIBUIDORA'], axis=1)\n",
    "df22 = df22.drop(['DISTRIBUIDORA'], axis=1)"
   ]
  },
  {
   "cell_type": "code",
   "execution_count": null,
   "id": "16f05bf6",
   "metadata": {},
   "outputs": [],
   "source": [
    "df23.rename(columns= {'Vendas (mil m³)':'VolANP'}, inplace = True)\n",
    "df23['VolANP'] = df23['VolANP']*1000\n",
    "df22.rename(columns= {'Vendas (mil m³)':'VolANP'}, inplace = True)\n",
    "df22['VolANP'] = df22['VolANP']*1000"
   ]
  },
  {
   "cell_type": "code",
   "execution_count": null,
   "id": "f94d735c",
   "metadata": {},
   "outputs": [],
   "source": [
    "df23[\"QUALIF_DEST\"].value_counts(dropna=False)"
   ]
  },
  {
   "cell_type": "code",
   "execution_count": null,
   "id": "8a3d27d4",
   "metadata": {},
   "outputs": [],
   "source": [
    "df22[\"QUALIF_DEST\"].value_counts(dropna=False)"
   ]
  },
  {
   "cell_type": "code",
   "execution_count": null,
   "id": "a9ee82d1",
   "metadata": {},
   "outputs": [],
   "source": [
    "df23.info()"
   ]
  },
  {
   "cell_type": "code",
   "execution_count": null,
   "id": "13c124ce",
   "metadata": {},
   "outputs": [],
   "source": [
    "df22.info()"
   ]
  },
  {
   "cell_type": "code",
   "execution_count": null,
   "id": "76017af4",
   "metadata": {},
   "outputs": [],
   "source": [
    "mask0 = df23[\"QUALIF_DEST\"] == \"CONSUMIDOR FINAL\"\n",
    "mask1 = df23[\"QUALIF_DEST\"] == \"TRR\"\n",
    "df_23 = df23[mask0 | mask1]\n",
    "mask2 = df22[\"QUALIF_DEST\"] == \"CONSUMIDOR FINAL\"\n",
    "mask3 = df22[\"QUALIF_DEST\"] == \"TRR\"\n",
    "df_22 = df22[mask2 | mask3]"
   ]
  },
  {
   "cell_type": "code",
   "execution_count": null,
   "id": "b9a11bb2",
   "metadata": {},
   "outputs": [],
   "source": [
    "del df22\n",
    "del df23"
   ]
  },
  {
   "cell_type": "code",
   "execution_count": null,
   "id": "e32a41b0",
   "metadata": {},
   "outputs": [],
   "source": [
    "df22 = df_22\n",
    "df23 = df_23"
   ]
  },
  {
   "cell_type": "code",
   "execution_count": null,
   "id": "59a81ae2",
   "metadata": {},
   "outputs": [],
   "source": [
    "del df_22\n",
    "del df_23"
   ]
  },
  {
   "cell_type": "code",
   "execution_count": null,
   "id": "48899e5f",
   "metadata": {},
   "outputs": [],
   "source": [
    "df23['VolANP'].sum()"
   ]
  },
  {
   "cell_type": "code",
   "execution_count": null,
   "id": "0e71d881",
   "metadata": {},
   "outputs": [],
   "source": [
    "df22['VolANP'].sum()"
   ]
  },
  {
   "cell_type": "code",
   "execution_count": null,
   "id": "bc768888",
   "metadata": {},
   "outputs": [],
   "source": [
    "df22[\"QUALIF_DEST\"].value_counts()"
   ]
  },
  {
   "cell_type": "code",
   "execution_count": null,
   "id": "4c448b60",
   "metadata": {},
   "outputs": [],
   "source": [
    "df23[\"QUALIF_DEST\"].value_counts()"
   ]
  },
  {
   "cell_type": "markdown",
   "id": "08e69208",
   "metadata": {},
   "source": [
    "# unificando os df"
   ]
  },
  {
   "cell_type": "code",
   "execution_count": null,
   "id": "9e6becff",
   "metadata": {},
   "outputs": [],
   "source": [
    "df23.loc[(df23['Mês'] == 'Jan'), 'Num mês'] = \"01\"\n",
    "df23.loc[(df23['Mês'] == 'Fev'), 'Num mês'] = \"02\"\n",
    "df23.loc[(df23['Mês'] == 'Mar'), 'Num mês'] = \"03\"\n",
    "df23.loc[(df23['Mês'] == 'Abr'), 'Num mês'] = \"04\"\n",
    "df23.loc[(df23['Mês'] == 'Mai'), 'Num mês'] = \"05\"\n",
    "df23.loc[(df23['Mês'] == 'Jun'), 'Num mês'] = \"06\"\n",
    "df23.loc[(df23['Mês'] == 'Jul'), 'Num mês'] = \"07\"\n",
    "df23.loc[(df23['Mês'] == 'Ago'), 'Num mês'] = \"08\"\n",
    "df23.loc[(df23['Mês'] == 'Set'), 'Num mês'] = \"09\"\n",
    "df23.loc[(df23['Mês'] == 'Out'), 'Num mês'] = \"10\"\n",
    "df23.loc[(df23['Mês'] == 'Nov'), 'Num mês'] = \"11\"\n",
    "df23.loc[(df23['Mês'] == 'Dez'), 'Num mês'] = \"12\"\n",
    "\n",
    "df23['ds'] = \"2023\" + \"-\" + df23['Num mês'] + \"-\" + \"01\""
   ]
  },
  {
   "cell_type": "code",
   "execution_count": null,
   "id": "77f86e7d",
   "metadata": {},
   "outputs": [],
   "source": [
    "# ANP\n",
    "df23.info()"
   ]
  },
  {
   "cell_type": "markdown",
   "id": "ac4e1b2d",
   "metadata": {},
   "source": [
    "### tabelas de - para T008 T021"
   ]
  },
  {
   "cell_type": "code",
   "execution_count": null,
   "id": "0dcd9b42",
   "metadata": {},
   "outputs": [],
   "source": [
    "T008.info()"
   ]
  },
  {
   "cell_type": "code",
   "execution_count": null,
   "id": "fccbb03d",
   "metadata": {},
   "outputs": [],
   "source": [
    "T021.info()"
   ]
  },
  {
   "cell_type": "markdown",
   "id": "5a135375",
   "metadata": {},
   "source": [
    "# df23 visão destino - origem - tempo"
   ]
  },
  {
   "cell_type": "code",
   "execution_count": null,
   "id": "699ed6d3",
   "metadata": {},
   "outputs": [],
   "source": [
    "T008['COD_INSTAL'] = T008['COD_INSTALACAO']\n",
    "T008['ATIVO'] = 1"
   ]
  },
  {
   "cell_type": "code",
   "execution_count": null,
   "id": "ca8d7925",
   "metadata": {},
   "outputs": [],
   "source": [
    "T021['COD_INSTAL'] = T021['COD_INSTALACAO']\n",
    "T021['ATIVO'] = 2\n"
   ]
  },
  {
   "cell_type": "code",
   "execution_count": null,
   "id": "45a7e936",
   "metadata": {},
   "outputs": [],
   "source": [
    "T021['COD_INSTALACAO_DEST'] = T021['COD_INSTALACAO']\n",
    "T008['COD_INSTALACAO_DEST'] = T008['COD_INSTALACAO']\n",
    "\n",
    "T021['COD_INSTALACAO_ORIG'] = T021['COD_INSTALACAO']\n",
    "T008['COD_INSTALACAO_ORIG'] = T008['COD_INSTALACAO']"
   ]
  },
  {
   "cell_type": "code",
   "execution_count": null,
   "id": "6680fbb1",
   "metadata": {},
   "outputs": [],
   "source": [
    "T021.info()"
   ]
  },
  {
   "cell_type": "code",
   "execution_count": null,
   "id": "924051c0",
   "metadata": {},
   "outputs": [],
   "source": [
    "T0 = pd.concat([T008,T021])"
   ]
  },
  {
   "cell_type": "code",
   "execution_count": null,
   "id": "587b4831",
   "metadata": {},
   "outputs": [],
   "source": [
    "T0['ATIVO'].value_counts()"
   ]
  },
  {
   "cell_type": "code",
   "execution_count": null,
   "id": "ebdc4be2",
   "metadata": {},
   "outputs": [],
   "source": [
    "T0.shape"
   ]
  },
  {
   "cell_type": "code",
   "execution_count": null,
   "id": "e6f04ccb",
   "metadata": {},
   "outputs": [],
   "source": [
    "T0.drop_duplicates().shape"
   ]
  },
  {
   "cell_type": "code",
   "execution_count": null,
   "id": "0dcd0846",
   "metadata": {},
   "outputs": [],
   "source": [
    "T0.info()"
   ]
  },
  {
   "cell_type": "code",
   "execution_count": null,
   "id": "5095b0d9",
   "metadata": {},
   "outputs": [],
   "source": [
    "T0.drop_duplicates(subset = \"COD_INSTALACAO\" ).shape"
   ]
  },
  {
   "cell_type": "code",
   "execution_count": null,
   "id": "71a228df",
   "metadata": {},
   "outputs": [],
   "source": [
    "T0 = T0.drop_duplicates(subset = \"COD_INSTALACAO\" )"
   ]
  },
  {
   "cell_type": "code",
   "execution_count": null,
   "id": "d5be7c29",
   "metadata": {},
   "outputs": [],
   "source": [
    "T0.info()"
   ]
  },
  {
   "cell_type": "code",
   "execution_count": null,
   "id": "ae96f7ab",
   "metadata": {},
   "outputs": [],
   "source": [
    "df23.info()"
   ]
  },
  {
   "cell_type": "code",
   "execution_count": null,
   "id": "80e666d1",
   "metadata": {},
   "outputs": [],
   "source": [
    "df23['COD_INSTALACAO_ORIG'].value_counts(dropna=False).shape"
   ]
  },
  {
   "cell_type": "code",
   "execution_count": null,
   "id": "5dd92ebb",
   "metadata": {},
   "outputs": [],
   "source": [
    "df23['COD_INSTALACAO_ORIG'].nunique()"
   ]
  },
  {
   "cell_type": "code",
   "execution_count": null,
   "id": "e4b6f5b5",
   "metadata": {},
   "outputs": [],
   "source": [
    "df23['COD_INSTALACAO_DEST'].value_counts(dropna=False)"
   ]
  },
  {
   "cell_type": "code",
   "execution_count": null,
   "id": "3daddbce",
   "metadata": {},
   "outputs": [],
   "source": [
    "df23['COD_INSTALACAO_DEST'].value_counts(dropna=False).shape"
   ]
  },
  {
   "cell_type": "code",
   "execution_count": null,
   "id": "155a13ab",
   "metadata": {},
   "outputs": [],
   "source": [
    "df23['COD_INSTALACAO_DEST'].nunique()"
   ]
  },
  {
   "cell_type": "code",
   "execution_count": null,
   "id": "dceebf18",
   "metadata": {},
   "outputs": [],
   "source": [
    "T0[['ATIVO']].value_counts()"
   ]
  },
  {
   "cell_type": "code",
   "execution_count": null,
   "id": "26742583",
   "metadata": {},
   "outputs": [],
   "source": [
    "df23['VolANP'].sum()"
   ]
  },
  {
   "cell_type": "markdown",
   "id": "cd0482cd",
   "metadata": {},
   "source": [
    "# orig23 identificando cod de instalação de ORIGENS ativos e inativos"
   ]
  },
  {
   "cell_type": "code",
   "execution_count": null,
   "id": "5fb38fd3",
   "metadata": {},
   "outputs": [],
   "source": [
    "orig23 = df23.merge(T0, how='left', on = ['COD_INSTALACAO_ORIG'])\n",
    "orig23.info()"
   ]
  },
  {
   "cell_type": "code",
   "execution_count": null,
   "id": "a1502206",
   "metadata": {},
   "outputs": [],
   "source": [
    "orig23.rename(columns= {'COD_INSTALACAO_DEST_x':'COD_INSTALACAO_DEST'}, inplace = True)\n",
    "orig23 = orig23.drop(['COD_INSTALACAO_DEST_y'], axis=1)"
   ]
  },
  {
   "cell_type": "code",
   "execution_count": null,
   "id": "45c48a40",
   "metadata": {},
   "outputs": [],
   "source": [
    "orig23 = orig23.drop(['TXT_IDENTIFICACAO_INSTALACAO'], axis=1)\n",
    "orig23 = orig23.drop(['NOM_TITULO'], axis=1)"
   ]
  },
  {
   "cell_type": "code",
   "execution_count": null,
   "id": "cb603ed0",
   "metadata": {},
   "outputs": [],
   "source": [
    "orig23_ = orig23.groupby([\"QUALIF_DEST\",\"Mês\"])\n",
    "_orig23_ = orig23_.agg({\"VolANP\":\"sum\"}).reset_index()\n",
    "_orig23_  "
   ]
  },
  {
   "cell_type": "code",
   "execution_count": null,
   "id": "da4f1b43",
   "metadata": {},
   "outputs": [],
   "source": [
    "orig23.rename(columns= {\"COD_INSTALACAO\":\"COD_INSTALACAO_orig\"}, inplace = True) \n",
    "orig23.rename(columns= {\"NUM_CNPJ_INSTALACAO\":\"NUM_CNPJ_INSTALACAO_orig\"}, inplace = True) \n",
    "orig23.rename(columns= {\"NOM_RAZAO_SOCIAL\":\"NOM_RAZAO_SOCIAL_orig\"}, inplace = True) \n",
    "orig23.rename(columns= {\"NUM_CEP\":\"NUM_CEP_orig\"}, inplace = True) \n",
    "orig23.rename(columns= {\"TXT_ENDERECO\":\"TXT_ENDERECO_orig\"}, inplace = True) \n",
    "orig23.rename(columns= {\"NUM_NUMERO\":\"NUM_NUMERO_orig\"}, inplace = True) \n",
    "orig23.rename(columns= {\"TXT_COMPLEMENTO\":\"TXT_COMPLEMENTO_orig\"}, inplace = True) \n",
    "orig23.rename(columns= {\"NOM_BAIRRO\":\"NOM_BAIRRO_orig\"}, inplace = True) \n",
    "orig23.rename(columns= {\"NOM_MUNICIPIO\":\"NOM_MUNICIPIO_orig\"}, inplace = True) \n",
    "orig23.rename(columns= {\"NOM_ESTADO\":\"NOM_ESTADO_orig\"}, inplace = True) \n",
    "orig23.rename(columns= {\"NUM_AUTORIZACAO\":\"NUM_AUTORIZACAO_orig\"}, inplace = True) \n",
    "orig23.rename(columns= {\"DAT_PUBLICACAO\":\"DAT_PUBLICACAO_orig\"}, inplace = True) \n",
    "orig23.rename(columns= {\"TXT_STATUS\":\"TXT_STATUS_orig\"}, inplace = True) \n",
    "orig23.rename(columns= {\"TXT_TIPO_INSTALACAO\":\"TXT_TIPO_INSTALACAO_orig\"}, inplace = True) \n",
    "orig23.rename(columns= {\"NOM_REDUZIDO\":\"NOM_REDUZIDO_orig\"}, inplace = True) \n",
    "orig23.rename(columns= {\"NUM_CNPJ_ADMINISTRADOR_BASE\":\"NUM_CNPJ_ADMINISTRADOR_BASE_orig\"}, inplace = True) \n",
    "orig23.rename(columns= {\"DAT_MESANO_VIGENCIA_INICIAL\":\"DAT_MESANO_VIGENCIA_INICIAL_orig\"}, inplace = True) \n",
    "orig23.rename(columns= {\"DAT_MESANO_VIGENCIA_FINAL\":\"DAT_MESANO_VIGENCIA_FINAL_orig\"}, inplace = True) \n",
    "orig23.rename(columns= {\"COD_INSTAL\":\"COD_INSTAL_orig\"}, inplace = True) \n",
    "orig23.rename(columns= {\"ATIVO\":\"ATIVO_orig\"}, inplace = True) "
   ]
  },
  {
   "cell_type": "code",
   "execution_count": null,
   "id": "1c9380c2",
   "metadata": {},
   "outputs": [],
   "source": [
    "orig23.info()"
   ]
  },
  {
   "cell_type": "code",
   "execution_count": null,
   "id": "3a836fb3",
   "metadata": {},
   "outputs": [],
   "source": [
    "orig23['ATIVO_orig'].value_counts()"
   ]
  },
  {
   "cell_type": "code",
   "execution_count": null,
   "id": "04274aec",
   "metadata": {},
   "outputs": [],
   "source": [
    "orig23['QUALIF_DEST'].value_counts()"
   ]
  },
  {
   "cell_type": "markdown",
   "id": "63198b91",
   "metadata": {},
   "source": [
    "# dest23 identificando cod de instalação de destino ativos"
   ]
  },
  {
   "cell_type": "code",
   "execution_count": null,
   "id": "b2fc64ae",
   "metadata": {},
   "outputs": [],
   "source": [
    "od23 = orig23.merge(T0, how='left', on = ['COD_INSTALACAO_DEST'])\n",
    "od23.info()"
   ]
  },
  {
   "cell_type": "code",
   "execution_count": null,
   "id": "c55e8967",
   "metadata": {},
   "outputs": [],
   "source": [
    "od23.rename(columns= {'COD_INSTALACAO_ORIG_x':'COD_INSTALACAO_ORIG'}, inplace = True)\n",
    "od23 = od23.drop(['COD_INSTALACAO_ORIG_y'], axis=1)"
   ]
  },
  {
   "cell_type": "code",
   "execution_count": null,
   "id": "85b587bc",
   "metadata": {},
   "outputs": [],
   "source": [
    "od23 = od23.drop(['TXT_IDENTIFICACAO_INSTALACAO'], axis=1)\n",
    "od23 = od23.drop(['NOM_TITULO'], axis=1)\n",
    "\n",
    "od23_ = od23.groupby([\"QUALIF_DEST\",\"Mês\"])\n",
    "_od23_ = od23_.agg({\"VolANP\":\"sum\"}).reset_index()\n",
    "_od23_ "
   ]
  },
  {
   "cell_type": "code",
   "execution_count": null,
   "id": "2528ec26",
   "metadata": {},
   "outputs": [],
   "source": [
    "od23.rename(columns= {\"COD_INSTALACAO\":\"COD_INSTALACAO_dest\"}, inplace = True) \n",
    "od23.rename(columns= {\"NUM_CNPJ_INSTALACAO\":\"NUM_CNPJ_INSTALACAO_dest\"}, inplace = True) \n",
    "od23.rename(columns= {\"NOM_RAZAO_SOCIAL\":\"NOM_RAZAO_SOCIAL_dest\"}, inplace = True) \n",
    "od23.rename(columns= {\"NUM_CEP\":\"NUM_CEP_dest\"}, inplace = True) \n",
    "od23.rename(columns= {\"TXT_ENDERECO\":\"TXT_ENDERECO_dest\"}, inplace = True) \n",
    "od23.rename(columns= {\"NUM_NUMERO\":\"NUM_NUMERO_dest\"}, inplace = True) \n",
    "od23.rename(columns= {\"TXT_COMPLEMENTO\":\"TXT_COMPLEMENTO_dest\"}, inplace = True) \n",
    "od23.rename(columns= {\"NOM_BAIRRO\":\"NOM_BAIRRO_dest\"}, inplace = True) \n",
    "od23.rename(columns= {\"NOM_MUNICIPIO\":\"NOM_MUNICIPIO_dest\"}, inplace = True) \n",
    "od23.rename(columns= {\"NOM_ESTADO\":\"NOM_ESTADO_dest\"}, inplace = True) \n",
    "od23.rename(columns= {\"NUM_AUTORIZACAO\":\"NUM_AUTORIZACAO_dest\"}, inplace = True) \n",
    "od23.rename(columns= {\"DAT_PUBLICACAO\":\"DAT_PUBLICACAO_dest\"}, inplace = True) \n",
    "od23.rename(columns= {\"TXT_STATUS\":\"TXT_STATUS_dest\"}, inplace = True) \n",
    "od23.rename(columns= {\"TXT_TIPO_INSTALACAO\":\"TXT_TIPO_INSTALACAO_dest\"}, inplace = True) \n",
    "od23.rename(columns= {\"NOM_REDUZIDO\":\"NOM_REDUZIDO_dest\"}, inplace = True) \n",
    "od23.rename(columns= {\"NUM_CNPJ_ADMINISTRADOR_BASE\":\"NUM_CNPJ_ADMINISTRADOR_BASE_dest\"}, inplace = True) \n",
    "od23.rename(columns= {\"DAT_MESANO_VIGENCIA_INICIAL\":\"DAT_MESANO_VIGENCIA_INICIAL_dest\"}, inplace = True) \n",
    "od23.rename(columns= {\"DAT_MESANO_VIGENCIA_FINAL\":\"DAT_MESANO_VIGENCIA_FINAL_dest\"}, inplace = True) \n",
    "od23.rename(columns= {\"COD_INSTAL\":\"COD_INSTAL_dest\"}, inplace = True) \n",
    "od23.rename(columns= {\"ATIVO\":\"ATIVO_dest\"}, inplace = True) "
   ]
  },
  {
   "cell_type": "code",
   "execution_count": null,
   "id": "235867b1",
   "metadata": {},
   "outputs": [],
   "source": [
    "od23.info()"
   ]
  },
  {
   "cell_type": "code",
   "execution_count": null,
   "id": "d2428b54",
   "metadata": {},
   "outputs": [],
   "source": [
    "od23['ATIVO_orig'].value_counts()"
   ]
  },
  {
   "cell_type": "code",
   "execution_count": null,
   "id": "77c04b45",
   "metadata": {},
   "outputs": [],
   "source": [
    "od23['ATIVO_dest'].value_counts()"
   ]
  },
  {
   "cell_type": "code",
   "execution_count": null,
   "id": "1f0930c0",
   "metadata": {},
   "outputs": [],
   "source": [
    "od23['QUALIF_DEST'].value_counts()"
   ]
  },
  {
   "cell_type": "code",
   "execution_count": null,
   "id": "88de7576",
   "metadata": {},
   "outputs": [],
   "source": [
    "od23['ds'].value_counts(dropna=False)"
   ]
  },
  {
   "cell_type": "code",
   "execution_count": null,
   "id": "2612797d",
   "metadata": {},
   "outputs": [],
   "source": [
    "od23[['TIPO_EXTRACAO']].value_counts()"
   ]
  },
  {
   "cell_type": "code",
   "execution_count": null,
   "id": "cae8ac50",
   "metadata": {},
   "outputs": [],
   "source": [
    "od23.info()"
   ]
  },
  {
   "cell_type": "code",
   "execution_count": null,
   "id": "af41c8db",
   "metadata": {},
   "outputs": [],
   "source": [
    "od23['QUALIF_DEST'].value_counts(dropna=False)"
   ]
  },
  {
   "cell_type": "code",
   "execution_count": null,
   "id": "d4c6b9d7",
   "metadata": {},
   "outputs": [],
   "source": [
    "od23['Mês'].value_counts(dropna=False)"
   ]
  },
  {
   "cell_type": "code",
   "execution_count": null,
   "id": "58c0cc6a",
   "metadata": {},
   "outputs": [],
   "source": [
    "od23['COD_INSTALACAO_dest'].value_counts(dropna=False)"
   ]
  },
  {
   "cell_type": "markdown",
   "id": "6f380404",
   "metadata": {},
   "source": [
    "#### homologação"
   ]
  },
  {
   "cell_type": "code",
   "execution_count": null,
   "id": "a89eeb8b",
   "metadata": {},
   "outputs": [],
   "source": [
    "df23['VolANP'].sum()"
   ]
  },
  {
   "cell_type": "code",
   "execution_count": null,
   "id": "35530fd3",
   "metadata": {},
   "outputs": [],
   "source": [
    "df23['QUALIF_DEST'].value_counts()"
   ]
  },
  {
   "cell_type": "markdown",
   "id": "cf36a5ee",
   "metadata": {},
   "source": [
    "#### homologações"
   ]
  },
  {
   "cell_type": "code",
   "execution_count": null,
   "id": "e8a4b98b",
   "metadata": {},
   "outputs": [],
   "source": [
    "od23.loc[(od23['NOM_ESTADO_dest'] == 'AMAZONAS')]['VolANP'].sum()"
   ]
  },
  {
   "cell_type": "code",
   "execution_count": null,
   "id": "b3605085",
   "metadata": {},
   "outputs": [],
   "source": [
    "od23.loc[(od23.NOM_ESTADO_dest == 'AMAZONAS') & (od23.NOM_MUNICIPIO_dest == 'MANAUS')]['VolANP'].sum()"
   ]
  },
  {
   "cell_type": "code",
   "execution_count": null,
   "id": "a3e680cf",
   "metadata": {},
   "outputs": [],
   "source": [
    "od23['COD_INSTALACAO_DEST'].isnull().sum()"
   ]
  },
  {
   "cell_type": "code",
   "execution_count": null,
   "id": "a948cbcd",
   "metadata": {},
   "outputs": [],
   "source": [
    "od23['NOM_ESTADO_dest'].isnull().sum()"
   ]
  },
  {
   "cell_type": "code",
   "execution_count": null,
   "id": "2672537a",
   "metadata": {},
   "outputs": [],
   "source": [
    "od23.loc[(od23.SIG_UF_DEST == 'AM') & (od23.NOM_ESTADO_dest == 'AMAZONAS')][['SIG_UF_DEST','NOM_ESTADO_dest']].value_counts()"
   ]
  },
  {
   "cell_type": "code",
   "execution_count": null,
   "id": "2fe4029d",
   "metadata": {},
   "outputs": [],
   "source": [
    "od23.loc[(od23.SIG_UF_DEST == 'AM') & (od23.NOM_ESTADO_dest == 'AMAZONAS')][['SIG_UF_DEST','NOM_ESTADO_dest']].isnull().sum()"
   ]
  },
  {
   "cell_type": "code",
   "execution_count": null,
   "id": "305f2d50",
   "metadata": {},
   "outputs": [],
   "source": [
    "od23.loc[(od23.SIG_UF_DEST == 'AM') & (od23.NOM_ESTADO_dest == 'AMAZONAS')][['SIG_UF_DEST','NOM_ESTADO_dest','VolANP']].sort_values(by=['VolANP'], ascending=True)"
   ]
  },
  {
   "cell_type": "code",
   "execution_count": null,
   "id": "e6276cff",
   "metadata": {},
   "outputs": [],
   "source": [
    "od23.info()"
   ]
  },
  {
   "cell_type": "markdown",
   "id": "864c6f6c",
   "metadata": {},
   "source": [
    "# separando a o df em COD_INSTALACAO_dest vazio e não vazio"
   ]
  },
  {
   "cell_type": "code",
   "execution_count": null,
   "id": "0f6e6d03",
   "metadata": {},
   "outputs": [],
   "source": [
    "od23_Nan = od23[od23['COD_INSTALACAO_dest'].isnull()]\n"
   ]
  },
  {
   "cell_type": "code",
   "execution_count": null,
   "id": "0a5263b2",
   "metadata": {},
   "outputs": [],
   "source": [
    "od23_Nan['COD_INSTALACAO_dest'].isnull().sum()"
   ]
  },
  {
   "cell_type": "code",
   "execution_count": null,
   "id": "839f9365",
   "metadata": {},
   "outputs": [],
   "source": [
    "od23_Nan['VolANP'].sum()"
   ]
  },
  {
   "cell_type": "code",
   "execution_count": null,
   "id": "5f242992",
   "metadata": {},
   "outputs": [],
   "source": [
    "od23notn = od23[od23['COD_INSTALACAO_dest'].notnull()]\n"
   ]
  },
  {
   "cell_type": "code",
   "execution_count": null,
   "id": "29eef44f",
   "metadata": {},
   "outputs": [],
   "source": [
    "od23notn['COD_INSTALACAO_dest'].notnull().count()"
   ]
  },
  {
   "cell_type": "code",
   "execution_count": null,
   "id": "188a3320",
   "metadata": {},
   "outputs": [],
   "source": [
    "od23notn['COD_INSTALACAO_dest'].isnull().sum()"
   ]
  },
  {
   "cell_type": "markdown",
   "id": "16de13be",
   "metadata": {},
   "source": [
    "#### criando Grupo de empresas"
   ]
  },
  {
   "cell_type": "code",
   "execution_count": null,
   "id": "79f26b07",
   "metadata": {},
   "outputs": [],
   "source": [
    "od23notn['NOM_RAZAO_SOCIAL_orig'].value_counts()"
   ]
  },
  {
   "cell_type": "code",
   "execution_count": null,
   "id": "9d1e455c",
   "metadata": {},
   "outputs": [],
   "source": [
    "od23notn['NOM_RAZAO_SOCIAL_orig'].value_counts(dropna = False)"
   ]
  },
  {
   "cell_type": "code",
   "execution_count": null,
   "id": "1bc74f98",
   "metadata": {},
   "outputs": [],
   "source": [
    "od23notn.loc[(od23notn['NOM_RAZAO_SOCIAL_orig'] == 'VIBRA ENERGIA S.A'), 'GRUPO'] = 'VIBRA'"
   ]
  },
  {
   "cell_type": "code",
   "execution_count": null,
   "id": "bbc5e747",
   "metadata": {},
   "outputs": [],
   "source": [
    "od23notn.loc[(od23notn['NOM_RAZAO_SOCIAL_orig'] == 'RAIZEN S.A.'), 'GRUPO'] = 'RAIZEN'"
   ]
  },
  {
   "cell_type": "code",
   "execution_count": null,
   "id": "76bbb733",
   "metadata": {},
   "outputs": [],
   "source": [
    "od23notn.loc[(od23notn['NOM_RAZAO_SOCIAL_orig'] == 'RAIZEN MIME COMBUSTIVEIS S/A.'), 'GRUPO'] = 'RAIZEN'"
   ]
  },
  {
   "cell_type": "code",
   "execution_count": null,
   "id": "87c434f1",
   "metadata": {},
   "outputs": [],
   "source": [
    "od23notn.loc[(od23notn['NOM_RAZAO_SOCIAL_orig'] == 'IPIRANGA PRODUTOS DE PETRÓLEO S.A'), 'GRUPO'] = 'IPIRANGA'"
   ]
  },
  {
   "cell_type": "code",
   "execution_count": null,
   "id": "a8bf9531",
   "metadata": {},
   "outputs": [],
   "source": [
    "od23notn['GRUPO'] = od23notn['GRUPO'].fillna('OUTRAS NP')"
   ]
  },
  {
   "cell_type": "code",
   "execution_count": null,
   "id": "dffd54ca",
   "metadata": {},
   "outputs": [],
   "source": [
    "od23notn['GRUPO'].value_counts(dropna=False)"
   ]
  },
  {
   "cell_type": "markdown",
   "id": "76dc95ed",
   "metadata": {},
   "source": [
    "# criando a chave para agregar Vol "
   ]
  },
  {
   "cell_type": "code",
   "execution_count": null,
   "id": "58166085",
   "metadata": {},
   "outputs": [],
   "source": [
    "od23notn.info()"
   ]
  },
  {
   "cell_type": "markdown",
   "id": "b339a2d3",
   "metadata": {},
   "source": [
    "### agrupamento - dimensão \n",
    "#### COD_INSTALACAO_ORIG + COD_INSTALACAO_DEST + ds\n"
   ]
  },
  {
   "cell_type": "code",
   "execution_count": null,
   "id": "d4b295fc",
   "metadata": {},
   "outputs": [],
   "source": [
    "od23notn['inst'] = od23notn['QUALIF_DEST'].astype(str) +\"|\"+ od23notn['COD_INSTALACAO_ORIG'].astype(str) +\"|\"+ od23notn['COD_INSTALACAO_DEST'].astype(str)+\"|\"+ od23notn['ds'].astype(str)"
   ]
  },
  {
   "cell_type": "code",
   "execution_count": null,
   "id": "555eef6e",
   "metadata": {},
   "outputs": [],
   "source": [
    "od23notn['instd'] = od23notn['QUALIF_DEST'].astype(str) +\"|\"+ od23notn['COD_INSTALACAO_DEST'].astype(str)+\"|\"+ od23notn['ds'].astype(str)"
   ]
  },
  {
   "cell_type": "code",
   "execution_count": null,
   "id": "b09c14a4",
   "metadata": {},
   "outputs": [],
   "source": [
    "od23notn['insto'] = od23notn['QUALIF_DEST'].astype(str) +\"|\"+ od23notn['COD_INSTALACAO_ORIG'].astype(str)+\"|\"+ od23notn['ds'].astype(str)"
   ]
  },
  {
   "cell_type": "code",
   "execution_count": null,
   "id": "ed24cd11",
   "metadata": {},
   "outputs": [],
   "source": [
    "od23notn['inst'].value_counts().head()"
   ]
  },
  {
   "cell_type": "code",
   "execution_count": null,
   "id": "70ebad48",
   "metadata": {},
   "outputs": [],
   "source": [
    "od23notn_labels = od23notn[[\"inst\",\"instd\",\"insto\",\"Mês\",\n",
    "                            \"COD_INSTALACAO_ORIG\",\n",
    "                            \"COD_INSTALACAO_DEST\",\n",
    "                            \"TIPO_EXTRACAO\",\n",
    "                            \"SIG_UF_ORIG\",\n",
    "                            \"SIG_REGIAO_ORIG\",\n",
    "                            \"SIG_UF_DEST\",\n",
    "                            \"SIG_REGIAO_DEST\",\n",
    "                            \"QUALIF_DEST\",\n",
    "                            \"RAZAO_SOCIAL_DEST\",\n",
    "                            \"C_UF\",\n",
    "                            \"C_REGIAO\",\n",
    "                            \"C2_LOCALIZAÇÃO\",\n",
    "                            \"C_UF_Restrito\",\n",
    "                            \"Num mês\",\n",
    "                            \"ds\",\n",
    "                            \"COD_INSTALACAO_orig\",\n",
    "                            \"NUM_CNPJ_INSTALACAO_orig\",\n",
    "                            \"NOM_RAZAO_SOCIAL_orig\",\n",
    "                            \"NUM_CEP_orig\",\n",
    "                            \"TXT_ENDERECO_orig\",\n",
    "                            \"NUM_NUMERO_orig\",\n",
    "                            \"TXT_COMPLEMENTO_orig\",\n",
    "                            \"NOM_BAIRRO_orig\",\n",
    "                            \"NOM_MUNICIPIO_orig\",\n",
    "                            \"NOM_ESTADO_orig\",\n",
    "                            \"NUM_AUTORIZACAO_orig\",\n",
    "                            \"DAT_PUBLICACAO_orig\",\n",
    "                            \"TXT_STATUS_orig\",\n",
    "                            \"TXT_TIPO_INSTALACAO_orig\",\n",
    "                            \"NOM_REDUZIDO_orig\",\n",
    "                            \"NUM_CNPJ_ADMINISTRADOR_BASE_orig\",\n",
    "                            \"DAT_MESANO_VIGENCIA_INICIAL_orig\",\n",
    "                            \"DAT_MESANO_VIGENCIA_FINAL_orig\",\n",
    "                            \"COD_INSTAL_orig\",\n",
    "                            \"ATIVO_orig\",\n",
    "                            \"COD_INSTALACAO_dest\",\n",
    "                            \"NUM_CNPJ_INSTALACAO_dest\",\n",
    "                            \"NOM_RAZAO_SOCIAL_dest\",\n",
    "                            \"NUM_CEP_dest\",\n",
    "                            \"TXT_ENDERECO_dest\",\n",
    "                            \"NUM_NUMERO_dest\",\n",
    "                            \"TXT_COMPLEMENTO_dest\",\n",
    "                            \"NOM_BAIRRO_dest\",\n",
    "                            \"NOM_MUNICIPIO_dest\",\n",
    "                            \"NOM_ESTADO_dest\",\n",
    "                            \"NUM_AUTORIZACAO_dest\",\n",
    "                            \"DAT_PUBLICACAO_dest\",\n",
    "                            \"TXT_STATUS_dest\",\n",
    "                            \"TXT_TIPO_INSTALACAO_dest\",\n",
    "                            \"NOM_REDUZIDO_dest\",\n",
    "                            \"NUM_CNPJ_ADMINISTRADOR_BASE_dest\",\n",
    "                            \"DAT_MESANO_VIGENCIA_INICIAL_dest\",\n",
    "                            \"DAT_MESANO_VIGENCIA_FINAL_dest\",\n",
    "                            \"COD_INSTAL_dest\",\n",
    "                            \"ATIVO_dest\",\n",
    "                            \"GRUPO\"]].drop_duplicates(subset='inst')\n"
   ]
  },
  {
   "cell_type": "code",
   "execution_count": null,
   "id": "c9819a0b",
   "metadata": {},
   "outputs": [],
   "source": [
    "od23notn_ = od23notn.groupby([\"inst\"])\n",
    "cinst = od23notn_.agg({\"VolANP\":\"sum\"}).reset_index()\n",
    "\n",
    "od23notn_ = od23notn.groupby([\"instd\"])\n",
    "cinstdest = od23notn_.agg({\"VolANP\":\"sum\"}).reset_index()\n",
    "cinstdest.rename(columns= {'VolANP':'Voldest'}, inplace = True)\n",
    "\n",
    "od23notn_ = od23notn.groupby([\"insto\"])\n",
    "cinstorig = od23notn_.agg({\"VolANP\":\"sum\"}).reset_index()\n",
    "cinstorig.rename(columns= {'VolANP':'Volorig'}, inplace = True)"
   ]
  },
  {
   "cell_type": "code",
   "execution_count": null,
   "id": "1d17b16a",
   "metadata": {},
   "outputs": [],
   "source": [
    "od23notn_labels = od23notn_labels.merge(cinst , how='left', on = ['inst'])"
   ]
  },
  {
   "cell_type": "code",
   "execution_count": null,
   "id": "c9c8a3b8",
   "metadata": {},
   "outputs": [],
   "source": [
    "od23notn_labels = od23notn_labels.merge(cinstdest , how='left', on = ['instd'])"
   ]
  },
  {
   "cell_type": "code",
   "execution_count": null,
   "id": "228340f6",
   "metadata": {},
   "outputs": [],
   "source": [
    "od23notn_labels = od23notn_labels.merge(cinstorig , how='left', on = ['insto'])"
   ]
  },
  {
   "cell_type": "markdown",
   "id": "8f765c5f",
   "metadata": {},
   "source": [
    "#### homologação"
   ]
  },
  {
   "cell_type": "code",
   "execution_count": null,
   "id": "ebe89d1f",
   "metadata": {},
   "outputs": [],
   "source": [
    "od23notn['VolANP'].sum()"
   ]
  },
  {
   "cell_type": "code",
   "execution_count": null,
   "id": "f54afa32",
   "metadata": {},
   "outputs": [],
   "source": [
    "(od23_Nan['VolANP'].sum() + od23notn['VolANP'].sum()) - df23['VolANP'].sum()"
   ]
  },
  {
   "cell_type": "code",
   "execution_count": null,
   "id": "79edc86a",
   "metadata": {},
   "outputs": [],
   "source": [
    "od23notn['QUALIF_DEST'].value_counts()"
   ]
  },
  {
   "cell_type": "code",
   "execution_count": null,
   "id": "e92ca205",
   "metadata": {},
   "outputs": [],
   "source": [
    "cinst['VolANP'].sum()"
   ]
  },
  {
   "cell_type": "code",
   "execution_count": null,
   "id": "31ab588a",
   "metadata": {},
   "outputs": [],
   "source": [
    "cinstdest['Voldest'].sum()"
   ]
  },
  {
   "cell_type": "code",
   "execution_count": null,
   "id": "f79b234d",
   "metadata": {},
   "outputs": [],
   "source": [
    "cinstorig['Volorig'].sum()"
   ]
  },
  {
   "cell_type": "code",
   "execution_count": null,
   "id": "14d966a9",
   "metadata": {},
   "outputs": [],
   "source": [
    "cinst['VolANP'].sum() - cinstdest['Voldest'].sum()"
   ]
  },
  {
   "cell_type": "code",
   "execution_count": null,
   "id": "6a15776c",
   "metadata": {},
   "outputs": [],
   "source": [
    "cinst['VolANP'].sum() - cinstorig['Volorig'].sum()"
   ]
  },
  {
   "cell_type": "markdown",
   "id": "0fe5b2b2",
   "metadata": {},
   "source": [
    "# inst  - instalação origem - destino - mês"
   ]
  },
  {
   "cell_type": "code",
   "execution_count": null,
   "id": "63de50c1",
   "metadata": {},
   "outputs": [],
   "source": [
    "print(cinst.info())\n",
    "print(cinst)"
   ]
  },
  {
   "cell_type": "markdown",
   "id": "9ad0c431",
   "metadata": {},
   "source": [
    "# instd  - instalação destino - mês"
   ]
  },
  {
   "cell_type": "code",
   "execution_count": null,
   "id": "0277a6cd",
   "metadata": {},
   "outputs": [],
   "source": [
    "print(cinstdest.info())\n",
    "print(cinstdest)"
   ]
  },
  {
   "cell_type": "markdown",
   "id": "f6808b21",
   "metadata": {},
   "source": [
    "# insto  - instalação origem - mês"
   ]
  },
  {
   "cell_type": "code",
   "execution_count": null,
   "id": "6370812c",
   "metadata": {},
   "outputs": [],
   "source": [
    "print(cinstorig.info())\n",
    "print(cinstorig)"
   ]
  },
  {
   "cell_type": "markdown",
   "id": "a05f8c08",
   "metadata": {},
   "source": [
    "#### retomando od23"
   ]
  },
  {
   "cell_type": "code",
   "execution_count": null,
   "id": "728f1ede",
   "metadata": {},
   "outputs": [],
   "source": [
    "od23 = od23notn_labels"
   ]
  },
  {
   "cell_type": "code",
   "execution_count": null,
   "id": "07087371",
   "metadata": {},
   "outputs": [],
   "source": [
    "od23[['RAZAO_SOCIAL_DEST','NOM_RAZAO_SOCIAL_dest','inst','instd','insto','VolANP','Voldest','Volorig','GRUPO','ds']].sort_values(by=['ds'], ascending=False)"
   ]
  },
  {
   "cell_type": "code",
   "execution_count": null,
   "id": "62979075",
   "metadata": {},
   "outputs": [],
   "source": [
    "od23['share_instal'] =  od23['VolANP']/od23['Voldest']"
   ]
  },
  {
   "cell_type": "code",
   "execution_count": null,
   "id": "d75af05c",
   "metadata": {},
   "outputs": [],
   "source": [
    "od23[\"ds\"] = od23[\"ds\"].apply(pd.to_datetime)"
   ]
  },
  {
   "cell_type": "code",
   "execution_count": null,
   "id": "7f31b7f8",
   "metadata": {},
   "outputs": [],
   "source": [
    "od23.loc[(od23['RAZAO_SOCIAL_DEST'] == 'ENERGETICA SERRANOPOLIS LTDA')][['RAZAO_SOCIAL_DEST','NOM_RAZAO_SOCIAL_dest','inst','instd','insto','VolANP','Voldest','Volorig','GRUPO','NOM_RAZAO_SOCIAL_orig','share_instal']].head()"
   ]
  },
  {
   "cell_type": "code",
   "execution_count": null,
   "id": "fe17cc78",
   "metadata": {},
   "outputs": [],
   "source": [
    "od23['ds'].dtype"
   ]
  },
  {
   "cell_type": "code",
   "execution_count": null,
   "id": "a92bb573",
   "metadata": {},
   "outputs": [],
   "source": [
    "od23.loc[(od23['COD_INSTALACAO_DEST'] == 1108572)][['RAZAO_SOCIAL_DEST','NOM_RAZAO_SOCIAL_dest','inst','instd','insto','ds','VolANP','Voldest','share_instal','Volorig','GRUPO','NOM_RAZAO_SOCIAL_orig','NOM_MUNICIPIO_dest','NOM_MUNICIPIO_dest']].sort_values(by=['ds'], ascending=True)"
   ]
  },
  {
   "cell_type": "code",
   "execution_count": null,
   "id": "adeee088",
   "metadata": {},
   "outputs": [],
   "source": [
    "px.line(\n",
    "    (od23\n",
    "     .query(\"COD_INSTALACAO_DEST == 1108572\")\n",
    "     \n",
    "    ), \n",
    "    x=\"ds\", \n",
    "    y=\"share_instal\",\n",
    "    color=\"COD_INSTALACAO_ORIG\",\n",
    "   \n",
    ")"
   ]
  },
  {
   "cell_type": "code",
   "execution_count": null,
   "id": "0bce36a8",
   "metadata": {},
   "outputs": [],
   "source": [
    "px.line(\n",
    "    (od23\n",
    "     .query(\"COD_INSTALACAO_DEST == 1108572\")\n",
    "     \n",
    "    ), \n",
    "    x=\"ds\", \n",
    "    y=\"share_instal\",\n",
    "    color=\"NOM_MUNICIPIO_orig\",\n",
    "   \n",
    ")"
   ]
  },
  {
   "cell_type": "code",
   "execution_count": null,
   "id": "a11bbf83",
   "metadata": {},
   "outputs": [],
   "source": [
    "od23.loc[(od23['COD_INSTALACAO_DEST'] == 1108572)][['RAZAO_SOCIAL_DEST','NOM_RAZAO_SOCIAL_dest','inst','instd','insto','ds','VolANP','Voldest','share_instal','Volorig','GRUPO','NOM_RAZAO_SOCIAL_orig','NOM_MUNICIPIO_dest','NOM_MUNICIPIO_dest']].sort_values(by=['ds'], ascending=True)"
   ]
  },
  {
   "cell_type": "markdown",
   "id": "6b20e059",
   "metadata": {},
   "source": [
    "### CNPJ_BASICO"
   ]
  },
  {
   "cell_type": "code",
   "execution_count": null,
   "id": "01055068",
   "metadata": {},
   "outputs": [],
   "source": [
    "od23['NUM_CNPJ_INSTALACAO_dest'].value_counts().head()"
   ]
  },
  {
   "cell_type": "code",
   "execution_count": null,
   "id": "e31b93e3",
   "metadata": {},
   "outputs": [],
   "source": [
    "od23['NUM_CNPJ_INSTALACAO_dest_str'] = od23['NUM_CNPJ_INSTALACAO_dest'].astype(str)"
   ]
  },
  {
   "cell_type": "code",
   "execution_count": null,
   "id": "0dd2bde8",
   "metadata": {},
   "outputs": [],
   "source": [
    "od23['CNPJ_BASICO_dest'] = od23['NUM_CNPJ_INSTALACAO_dest_str'].str[:8]"
   ]
  },
  {
   "cell_type": "code",
   "execution_count": null,
   "id": "353bfc5c",
   "metadata": {},
   "outputs": [],
   "source": [
    "od23['CNPJ_BASICO_dest'].value_counts().head()"
   ]
  },
  {
   "cell_type": "code",
   "execution_count": null,
   "id": "031bfb9a",
   "metadata": {},
   "outputs": [],
   "source": [
    "od23[['CNPJ_BASICO_dest','SIG_UF_DEST']].value_counts().head()"
   ]
  },
  {
   "cell_type": "code",
   "execution_count": null,
   "id": "89d85eae",
   "metadata": {},
   "outputs": [],
   "source": [
    "od23['NUM_CNPJ_INSTALACAO_orig_str'] = od23['NUM_CNPJ_INSTALACAO_orig'].astype(str)\n",
    "\n",
    "od23['CNPJ_BASICO_orig'] = od23['NUM_CNPJ_INSTALACAO_orig_str'].str[:8]"
   ]
  },
  {
   "cell_type": "code",
   "execution_count": null,
   "id": "8dc3bf7f",
   "metadata": {},
   "outputs": [],
   "source": [
    "od23[['CNPJ_BASICO_orig','SIG_UF_ORIG']].value_counts().head()"
   ]
  },
  {
   "cell_type": "code",
   "execution_count": null,
   "id": "f1b4d712",
   "metadata": {},
   "outputs": [],
   "source": [
    "od23.info()"
   ]
  },
  {
   "cell_type": "code",
   "execution_count": null,
   "id": "10499775",
   "metadata": {},
   "outputs": [],
   "source": [
    "od23[['inst','NOM_REDUZIDO_dest','NOM_REDUZIDO_orig','GRUPO','ds','VolANP','Voldest','Volorig','share_instal']].head(10)"
   ]
  },
  {
   "cell_type": "code",
   "execution_count": null,
   "id": "d4eca504",
   "metadata": {},
   "outputs": [],
   "source": [
    "od23['instd'].value_counts()"
   ]
  },
  {
   "cell_type": "markdown",
   "id": "c5cb394d",
   "metadata": {},
   "source": [
    "## pegando o valor do mês anterior na dimensão instalação origem-destino-canal"
   ]
  },
  {
   "cell_type": "code",
   "execution_count": null,
   "id": "3d246d88",
   "metadata": {},
   "outputs": [],
   "source": [
    "od23['GRUPO_munic_dest'] = od23['COD_INSTALACAO_ORIG'].astype(str) +\"|\"+ od23['COD_INSTALACAO_DEST'].astype(str) +\"|\"+ od23['QUALIF_DEST'] "
   ]
  },
  {
   "cell_type": "code",
   "execution_count": null,
   "id": "7154f46d",
   "metadata": {},
   "outputs": [],
   "source": [
    "od23['prev_value_inst'] = od23.sort_values(by=['inst']).groupby('GRUPO_munic_dest')['VolANP'].shift(1)"
   ]
  },
  {
   "cell_type": "code",
   "execution_count": null,
   "id": "7f11dc12",
   "metadata": {},
   "outputs": [],
   "source": [
    "od23['inst'].value_counts()"
   ]
  },
  {
   "cell_type": "code",
   "execution_count": null,
   "id": "0bf9c937",
   "metadata": {},
   "outputs": [],
   "source": [
    "od23['NOM_ESTADO_dest'].value_counts()"
   ]
  },
  {
   "cell_type": "code",
   "execution_count": null,
   "id": "0a401fa9",
   "metadata": {},
   "outputs": [],
   "source": [
    "od23.loc[(od23['COD_INSTALACAO_DEST'] == 1245711)][['RAZAO_SOCIAL_DEST','inst','instd','ds','VolANP','prev_value_inst','share_instal','GRUPO_munic_dest','GRUPO']].sort_values(by=['instd'], ascending=True).head(40)"
   ]
  },
  {
   "cell_type": "markdown",
   "id": "ba6852bf",
   "metadata": {},
   "source": [
    "# MtoM na dimensão instalação origem-destino-canal"
   ]
  },
  {
   "cell_type": "code",
   "execution_count": null,
   "id": "4f19f6e5",
   "metadata": {},
   "outputs": [],
   "source": [
    "od23['dif_u_compra'] = od23['VolANP'] - od23['prev_value_inst']\n",
    "\n",
    "od23['dif_u_compra_%'] = (od23['dif_u_compra']/ od23['prev_value_inst'])*100"
   ]
  },
  {
   "cell_type": "code",
   "execution_count": null,
   "id": "1968f05c",
   "metadata": {},
   "outputs": [],
   "source": [
    "od23.loc[(od23['COD_INSTALACAO_DEST'] == 1245711)][['RAZAO_SOCIAL_DEST','inst','instd','ds','VolANP','prev_value_inst','dif_u_compra','dif_u_compra_%','share_instal','GRUPO_munic_dest','GRUPO']].sort_values(by=['instd'], ascending=True).head(40)"
   ]
  },
  {
   "cell_type": "markdown",
   "id": "97fe8f10",
   "metadata": {},
   "source": [
    "# cluster crescimento x decréscimo na dimensão instalação origem-destino-canal"
   ]
  },
  {
   "cell_type": "code",
   "execution_count": null,
   "id": "b250c013",
   "metadata": {},
   "outputs": [],
   "source": [
    "# cluster \n",
    "conditions = [\n",
    "    (od23['dif_u_compra_%'] <= 0.0) ,\n",
    "    (od23['dif_u_compra_%'] > 0.0)]\n",
    "\n",
    "choices = ['diminuiu','cresceu']\n",
    "\n",
    "od23['flag_dif_u_compra'] = np.select(conditions, choices, default='sem_grupo')\n",
    "print(od23)"
   ]
  },
  {
   "cell_type": "code",
   "execution_count": null,
   "id": "730b986c",
   "metadata": {},
   "outputs": [],
   "source": [
    "od23[['VolANP','prev_value_inst','dif_u_compra','dif_u_compra_%','flag_dif_u_compra']].tail(60)"
   ]
  },
  {
   "cell_type": "code",
   "execution_count": null,
   "id": "173eee67",
   "metadata": {},
   "outputs": [],
   "source": [
    "od23['ds'].nunique()"
   ]
  },
  {
   "cell_type": "code",
   "execution_count": null,
   "id": "08ab438b",
   "metadata": {},
   "outputs": [],
   "source": [
    "od23['ds'].value_counts()"
   ]
  },
  {
   "cell_type": "code",
   "execution_count": null,
   "id": "6eaab04c",
   "metadata": {},
   "outputs": [],
   "source": [
    "od23.info()"
   ]
  },
  {
   "cell_type": "markdown",
   "id": "8bf173da",
   "metadata": {},
   "source": [
    "# Acumulando dados na dimensão orig - destino - canal mes a mes"
   ]
  },
  {
   "cell_type": "code",
   "execution_count": null,
   "id": "cd9fb5ed",
   "metadata": {},
   "outputs": [],
   "source": [
    "od23 = od23.sort_values(by=['inst'], ascending=True)"
   ]
  },
  {
   "cell_type": "code",
   "execution_count": null,
   "id": "e09dd796",
   "metadata": {},
   "outputs": [],
   "source": [
    "od23['VolANP_acum'] = od23.groupby(['QUALIF_DEST','COD_INSTALACAO_ORIG','COD_INSTALACAO_DEST'])['VolANP'].apply(lambda x: x.cumsum())"
   ]
  },
  {
   "cell_type": "code",
   "execution_count": null,
   "id": "066dd394",
   "metadata": {},
   "outputs": [],
   "source": [
    "od23.info() "
   ]
  },
  {
   "cell_type": "code",
   "execution_count": null,
   "id": "899be186",
   "metadata": {},
   "outputs": [],
   "source": [
    "od23['share_instal'] = round(od23['share_instal'], 2)"
   ]
  },
  {
   "cell_type": "code",
   "execution_count": null,
   "id": "7ea255c9",
   "metadata": {},
   "outputs": [],
   "source": [
    "od23.loc[(od23['COD_INSTALACAO_DEST'] == 1245711)][['RAZAO_SOCIAL_DEST','inst','ds','COD_INSTALACAO_ORIG','COD_INSTALACAO_DEST','VolANP','VolANP_acum','Voldest','share_instal','GRUPO']].head(40)"
   ]
  },
  {
   "cell_type": "code",
   "execution_count": null,
   "id": "d6d35206",
   "metadata": {},
   "outputs": [],
   "source": [
    "od23 = round(od23, 2)"
   ]
  },
  {
   "cell_type": "code",
   "execution_count": null,
   "id": "1cd654dd",
   "metadata": {},
   "outputs": [],
   "source": [
    "od23.info()"
   ]
  },
  {
   "cell_type": "code",
   "execution_count": null,
   "id": "4095c613",
   "metadata": {},
   "outputs": [],
   "source": [
    "od23[['VolANP','Voldest','share_instal','prev_value_inst','dif_u_compra','dif_u_compra_%','flag_dif_u_compra','VolANP_acum']]"
   ]
  },
  {
   "cell_type": "markdown",
   "id": "9daf26ff",
   "metadata": {},
   "source": [
    "#### homologação"
   ]
  },
  {
   "cell_type": "code",
   "execution_count": null,
   "id": "1d15967f",
   "metadata": {},
   "outputs": [],
   "source": [
    "df23['VolANP'].sum() - (od23['VolANP'].sum() + od23_Nan['VolANP'].sum())"
   ]
  },
  {
   "cell_type": "code",
   "execution_count": null,
   "id": "56f3e8ee",
   "metadata": {},
   "outputs": [],
   "source": [
    "od23.info()"
   ]
  },
  {
   "cell_type": "code",
   "execution_count": null,
   "id": "7485719f",
   "metadata": {},
   "outputs": [],
   "source": [
    "od23['Mês'].value_counts()"
   ]
  },
  {
   "cell_type": "markdown",
   "id": "ca00b8cf",
   "metadata": {},
   "source": [
    "# agrupamento no Ano do Volume e clustering by Histogram"
   ]
  },
  {
   "cell_type": "code",
   "execution_count": null,
   "id": "829dd7fc",
   "metadata": {},
   "outputs": [],
   "source": [
    "od23['ds_str'] = od23['ds'].astype(str)\n",
    "\n",
    "od23[['ano','mes','dia']] = od23['ds_str'].str.split(\"-\",expand=True)"
   ]
  },
  {
   "cell_type": "code",
   "execution_count": null,
   "id": "e01ae35f",
   "metadata": {},
   "outputs": [],
   "source": [
    "od23[['ano','mes','dia']]"
   ]
  },
  {
   "cell_type": "code",
   "execution_count": null,
   "id": "c623ee63",
   "metadata": {},
   "outputs": [],
   "source": [
    "od23_ = od23.groupby([\"GRUPO_munic_dest\",\"ano\"])\n",
    "od23_ano = od23_.agg({\"VolANP\":\"sum\"}).reset_index()\n",
    "od23_ano.rename(columns= {'VolANP':'VolANP_ano'}, inplace = True)\n",
    "od23_ano = round(od23_ano, 2)\n",
    "od23_ano"
   ]
  },
  {
   "cell_type": "code",
   "execution_count": null,
   "id": "a9e75091",
   "metadata": {},
   "outputs": [],
   "source": [
    "od23_ano.info()"
   ]
  },
  {
   "cell_type": "markdown",
   "id": "e9a1454d",
   "metadata": {},
   "source": [
    "#### homologação"
   ]
  },
  {
   "cell_type": "code",
   "execution_count": null,
   "id": "9d847412",
   "metadata": {},
   "outputs": [],
   "source": [
    "df23['VolANP'].sum() - od23_ano['VolANP_ano'].sum() - od23_Nan['VolANP'].sum()"
   ]
  },
  {
   "cell_type": "markdown",
   "id": "009d80a1",
   "metadata": {},
   "source": [
    "#### Histogram"
   ]
  },
  {
   "cell_type": "code",
   "execution_count": null,
   "id": "1d6e3853",
   "metadata": {},
   "outputs": [],
   "source": [
    "describeod23_ano = od23_ano.describe()\n",
    "describeod23_ano"
   ]
  },
  {
   "cell_type": "code",
   "execution_count": null,
   "id": "1b9efb2a",
   "metadata": {},
   "outputs": [],
   "source": [
    "v25 = describeod23_ano.at['25%', 'VolANP_ano']\n",
    "v50 = describeod23_ano.at['50%', 'VolANP_ano']\n",
    "v75 = describeod23_ano.at['75%', 'VolANP_ano']"
   ]
  },
  {
   "cell_type": "code",
   "execution_count": null,
   "id": "76c8a1fd",
   "metadata": {},
   "outputs": [],
   "source": [
    "sns.histplot(data=od23_ano, x=\"VolANP_ano\", bins=100)"
   ]
  },
  {
   "cell_type": "code",
   "execution_count": null,
   "id": "ff9278d0",
   "metadata": {},
   "outputs": [],
   "source": [
    "_v25_ = od23_ano.loc[(od23_ano.VolANP_ano <= v25)]\n",
    "print(_v25_.shape)\n",
    "print(sns.histplot(data=_v25_, x=\"VolANP_ano\", bins=10))\n",
    "_v25_['faixavol'] = 'nanicos'\n",
    "print(_v25_)\n",
    "print(_v25_.describe())"
   ]
  },
  {
   "cell_type": "code",
   "execution_count": null,
   "id": "e2aac565",
   "metadata": {},
   "outputs": [],
   "source": [
    "_v75_ = od23_ano.loc[(od23_ano.VolANP_ano > v25) & (od23_ano.VolANP_ano <= v75)]\n",
    "print(_v75_.shape)\n",
    "print(sns.histplot(data=_v75_, x=\"VolANP_ano\", bins=10))\n",
    "_v75_['faixavol'] = 'pequenos'\n",
    "print(_v75_)\n",
    "print(_v75_.describe())"
   ]
  },
  {
   "cell_type": "markdown",
   "id": "996ce4e9",
   "metadata": {},
   "source": [
    "#### maior grupo"
   ]
  },
  {
   "cell_type": "code",
   "execution_count": null,
   "id": "ea05ffd1",
   "metadata": {},
   "outputs": [],
   "source": [
    "maior = od23_ano.loc[(od23_ano.VolANP_ano > v75)]\n",
    "print(maior.shape)\n",
    "print(maior)\n",
    "describemaior = maior.describe()\n",
    "print(describemaior)\n",
    "print(sns.histplot(data=maior, x=\"VolANP_ano\", bins=10))"
   ]
  },
  {
   "cell_type": "markdown",
   "id": "4c023b29",
   "metadata": {},
   "source": [
    "#### quebra do maior grupo e outliers"
   ]
  },
  {
   "cell_type": "code",
   "execution_count": null,
   "id": "8d075f0b",
   "metadata": {},
   "outputs": [],
   "source": [
    "v25 = describemaior.at['25%', 'VolANP_ano']\n",
    "v50 = describemaior.at['50%', 'VolANP_ano']\n",
    "v75 = describemaior.at['75%', 'VolANP_ano']"
   ]
  },
  {
   "cell_type": "code",
   "execution_count": null,
   "id": "b209b1dc",
   "metadata": {},
   "outputs": [],
   "source": [
    "v75maior = maior.loc[(maior.VolANP_ano <= v75)]\n",
    "print(v75maior.shape)\n",
    "print(sns.histplot(data=v75maior, x=\"VolANP_ano\", bins=10))\n",
    "v75maior['faixavol'] = 'pequeno_medio'\n",
    "print(v75maior)"
   ]
  },
  {
   "cell_type": "code",
   "execution_count": null,
   "id": "298f9488",
   "metadata": {},
   "outputs": [],
   "source": [
    "v75maior1 = maior.loc[(maior.VolANP_ano > v75)]\n",
    "print(v75maior1.shape)\n",
    "print(sns.histplot(data=v75maior1, x=\"VolANP_ano\", bins=10))\n",
    "print(v75maior1.describe())"
   ]
  },
  {
   "cell_type": "markdown",
   "id": "d2177b9e",
   "metadata": {},
   "source": [
    "#### maior grupo maior ainda"
   ]
  },
  {
   "cell_type": "code",
   "execution_count": null,
   "id": "a57ad98a",
   "metadata": {},
   "outputs": [],
   "source": [
    "describeoutliers = v75maior1.describe()\n",
    "describeoutliers"
   ]
  },
  {
   "cell_type": "code",
   "execution_count": null,
   "id": "188dd378",
   "metadata": {},
   "outputs": [],
   "source": [
    "v25 = describeoutliers.at['25%', 'VolANP_ano']\n",
    "v50 = describeoutliers.at['50%', 'VolANP_ano']\n",
    "v75 = describeoutliers.at['75%', 'VolANP_ano']"
   ]
  },
  {
   "cell_type": "code",
   "execution_count": null,
   "id": "8812e17f",
   "metadata": {},
   "outputs": [],
   "source": [
    "v75outliers = v75maior1.loc[(v75maior1.VolANP_ano <= v75)]\n",
    "print(v75outliers.shape)\n",
    "print(sns.histplot(data=v75outliers, x=\"VolANP_ano\", bins=10))\n",
    "v75outliers['faixavol'] = 'medio'\n",
    "print(v75outliers)"
   ]
  },
  {
   "cell_type": "code",
   "execution_count": null,
   "id": "0d02fdfa",
   "metadata": {},
   "outputs": [],
   "source": [
    "outliers = v75maior1.loc[(v75maior1.VolANP_ano > v75)]\n",
    "print(outliers.shape)\n",
    "print(sns.histplot(data=outliers, x=\"VolANP_ano\", bins=10))\n",
    "print(outliers)\n",
    "print(outliers.describe())"
   ]
  },
  {
   "cell_type": "code",
   "execution_count": null,
   "id": "e15af250",
   "metadata": {},
   "outputs": [],
   "source": [
    "desc_outliers = outliers.describe()\n",
    "\n",
    "v25 = desc_outliers.at['25%', 'VolANP_ano']\n",
    "v50 = desc_outliers.at['50%', 'VolANP_ano']\n",
    "v75 = desc_outliers.at['75%', 'VolANP_ano']"
   ]
  },
  {
   "cell_type": "code",
   "execution_count": null,
   "id": "6c426c02",
   "metadata": {},
   "outputs": [],
   "source": [
    "v75out = outliers.loc[(outliers.VolANP_ano <= v75)]\n",
    "print(v75out.shape)\n",
    "print(sns.histplot(data=v75out, x=\"VolANP_ano\", bins=10))\n",
    "v75out['faixavol'] = 'medio_grandes'\n",
    "print(v75out)\n",
    "print(v75out.describe())"
   ]
  },
  {
   "cell_type": "code",
   "execution_count": null,
   "id": "f0b30330",
   "metadata": {},
   "outputs": [],
   "source": [
    "v75out1 = outliers.loc[(outliers.VolANP_ano > v75)]\n",
    "print(v75out1.shape)\n",
    "print(sns.histplot(data=v75out1, x=\"VolANP_ano\", bins=10))\n",
    "print(v75out1)\n",
    "print(v75out1.describe())"
   ]
  },
  {
   "cell_type": "markdown",
   "id": "b9083d6f",
   "metadata": {},
   "source": [
    "#### isolando os volumes máximos"
   ]
  },
  {
   "cell_type": "code",
   "execution_count": null,
   "id": "19deecca",
   "metadata": {},
   "outputs": [],
   "source": [
    "desc_outliers1 = v75out1.describe()\n",
    "v25 = desc_outliers1.at['25%', 'VolANP_ano']\n",
    "v50 = desc_outliers1.at['50%', 'VolANP_ano']\n",
    "v75 = desc_outliers1.at['75%', 'VolANP_ano']"
   ]
  },
  {
   "cell_type": "code",
   "execution_count": null,
   "id": "7ecf53c1",
   "metadata": {},
   "outputs": [],
   "source": [
    "print(v25)\n",
    "print(v50)\n",
    "print(v75)\n",
    "print(desc_outliers1)\n",
    "print(v75out1.shape)"
   ]
  },
  {
   "cell_type": "code",
   "execution_count": null,
   "id": "3a86db68",
   "metadata": {},
   "outputs": [],
   "source": [
    "vmax = desc_outliers1.at['max', 'VolANP_ano']\n",
    "print(vmax)\n",
    "vmax40 = vmax*0.40\n",
    "print(vmax40)\n",
    "print(v75)"
   ]
  },
  {
   "cell_type": "code",
   "execution_count": null,
   "id": "52644684",
   "metadata": {},
   "outputs": [],
   "source": [
    "out1 = v75out1.loc[(v75out1.VolANP_ano <= vmax40)]\n",
    "print(out1.shape)\n",
    "\n",
    "print(sns.histplot(data=out1, x=\"VolANP_ano\", bins=10))\n",
    "\n",
    "out1['faixavol'] = 'grandes'\n",
    "print(out1)\n",
    "print(out1.describe())"
   ]
  },
  {
   "cell_type": "code",
   "execution_count": null,
   "id": "db623a57",
   "metadata": {},
   "outputs": [],
   "source": [
    "out0 = v75out1.loc[(v75out1.VolANP_ano > vmax40)]\n",
    "print(out0.shape)\n",
    "print(sns.histplot(data=out0, x=\"VolANP_ano\", bins=10))\n",
    "out0['faixavol'] = 'outliers'\n",
    "print(out0)\n",
    "print(out0.describe())"
   ]
  },
  {
   "cell_type": "markdown",
   "id": "50f7946c",
   "metadata": {},
   "source": [
    "#### concatenando os clusters"
   ]
  },
  {
   "cell_type": "code",
   "execution_count": null,
   "id": "f7e64210",
   "metadata": {},
   "outputs": [],
   "source": [
    "print(od23_ano['VolANP_ano'].sum())\n",
    "print(od23_ano.shape)\n",
    "od23_ano.info()"
   ]
  },
  {
   "cell_type": "code",
   "execution_count": null,
   "id": "d8c21adc",
   "metadata": {},
   "outputs": [],
   "source": [
    "od23_clusters = pd.concat([_v25_,\n",
    "                           _v75_,\n",
    "                            v75maior,\n",
    "                            v75outliers,\n",
    "                            v75out,\n",
    "                            out1,\n",
    "                            out0])\n",
    "od23_clusters.info()\n",
    "print(od23_clusters['VolANP_ano'].sum())\n",
    "print(od23_clusters.shape)\n",
    "\n",
    "# v25out"
   ]
  },
  {
   "cell_type": "code",
   "execution_count": null,
   "id": "7e71058d",
   "metadata": {},
   "outputs": [],
   "source": [
    "od23_clusters[['COD_INSTALACAO_ORIG','COD_INSTALACAO_DEST','QUALIF_DEST']] = od23_clusters['GRUPO_munic_dest'].str.split(\"|\",expand=True)"
   ]
  },
  {
   "cell_type": "code",
   "execution_count": null,
   "id": "ccf615ca",
   "metadata": {},
   "outputs": [],
   "source": [
    "od23_clusters.info()"
   ]
  },
  {
   "cell_type": "code",
   "execution_count": null,
   "id": "6bb25698",
   "metadata": {
    "scrolled": false
   },
   "outputs": [],
   "source": [
    "plt.figure(figsize=(13,8))\n",
    "ax = sns.boxplot(x=od23_clusters[\"VolANP_ano\"], y=od23_clusters[\"faixavol\"], data=od23_clusters)"
   ]
  },
  {
   "cell_type": "code",
   "execution_count": null,
   "id": "49fae551",
   "metadata": {},
   "outputs": [],
   "source": [
    "od23_clusters = od23_clusters.sort_values(by=['VolANP_ano'], ascending=False)"
   ]
  },
  {
   "cell_type": "code",
   "execution_count": null,
   "id": "a42d881a",
   "metadata": {
    "scrolled": true
   },
   "outputs": [],
   "source": [
    "od23_clusters_f = od23_clusters.groupby([\"faixavol\"])\n",
    "Faixa_Volume = od23_clusters_f.agg([\"size\",\"sum\",\"mean\",\"median\",\"max\",\"min\"]).reset_index()\n",
    "Faixa_Volume "
   ]
  },
  {
   "cell_type": "code",
   "execution_count": null,
   "id": "a8179f2d",
   "metadata": {},
   "outputs": [],
   "source": [
    "Faixa_Volume.sort_values(by=['faixavol'], ascending=False)"
   ]
  },
  {
   "cell_type": "markdown",
   "id": "346e6880",
   "metadata": {},
   "source": [
    "#### homologação"
   ]
  },
  {
   "cell_type": "code",
   "execution_count": null,
   "id": "ef02ff20",
   "metadata": {},
   "outputs": [],
   "source": [
    "od23_ano['VolANP_ano'].sum() - od23_clusters['VolANP_ano'].sum()"
   ]
  },
  {
   "cell_type": "code",
   "execution_count": null,
   "id": "cdc46389",
   "metadata": {},
   "outputs": [],
   "source": [
    "od23_clusters['VolANP_ano'].sum() - od23['VolANP'].sum()"
   ]
  },
  {
   "cell_type": "markdown",
   "id": "db3d2460",
   "metadata": {},
   "source": [
    "## levando as informações para od23"
   ]
  },
  {
   "cell_type": "code",
   "execution_count": null,
   "id": "48a6d2c3",
   "metadata": {},
   "outputs": [],
   "source": [
    "od23.info()"
   ]
  },
  {
   "cell_type": "code",
   "execution_count": null,
   "id": "b4579c25",
   "metadata": {},
   "outputs": [],
   "source": [
    "od23['instd_ano'] = od23['QUALIF_DEST'].astype(str) +\"|\"+ od23['COD_INSTALACAO_DEST'].astype(str)+\"|\"+ od23['ano'].astype(str)\n",
    "\n",
    "od23['insto_ano'] = od23['QUALIF_DEST'].astype(str) +\"|\"+ od23['COD_INSTALACAO_ORIG'].astype(str)+\"|\"+ od23['ano'].astype(str)"
   ]
  },
  {
   "cell_type": "code",
   "execution_count": null,
   "id": "b90f9759",
   "metadata": {},
   "outputs": [],
   "source": [
    "od23_clusters['instd_ano'] = od23_clusters['QUALIF_DEST'].astype(str) +\"|\"+ od23_clusters['COD_INSTALACAO_DEST'].astype(str)+\"|\"+ od23_clusters['ano'].astype(str)\n",
    "\n",
    "od23_clusters['insto_ano'] = od23_clusters['QUALIF_DEST'].astype(str) +\"|\"+ od23_clusters['COD_INSTALACAO_ORIG'].astype(str)+\"|\"+ od23_clusters['ano'].astype(str)"
   ]
  },
  {
   "cell_type": "code",
   "execution_count": null,
   "id": "37f98697",
   "metadata": {},
   "outputs": [],
   "source": [
    "od23_clusters.info()"
   ]
  },
  {
   "cell_type": "code",
   "execution_count": null,
   "id": "71f9aaa4",
   "metadata": {},
   "outputs": [],
   "source": [
    "od23_clusters['instd_ano'].value_counts()"
   ]
  },
  {
   "cell_type": "code",
   "execution_count": null,
   "id": "39cb6db3",
   "metadata": {},
   "outputs": [],
   "source": [
    "od23_clusters['insto_ano'].value_counts()"
   ]
  },
  {
   "cell_type": "code",
   "execution_count": null,
   "id": "7ef56b49",
   "metadata": {},
   "outputs": [],
   "source": [
    "instd_ano = od23[['instd_ano','NOM_MUNICIPIO_dest','NOM_ESTADO_dest','NUM_CNPJ_INSTALACAO_dest','NOM_RAZAO_SOCIAL_dest']]\n",
    "print(instd_ano.value_counts())\n",
    "\n",
    "insto_ano = od23[['insto_ano','NOM_MUNICIPIO_orig','NOM_ESTADO_orig','NUM_CNPJ_INSTALACAO_orig','NOM_RAZAO_SOCIAL_orig']]\n",
    "print(insto_ano.value_counts())"
   ]
  },
  {
   "cell_type": "code",
   "execution_count": null,
   "id": "967023cf",
   "metadata": {},
   "outputs": [],
   "source": [
    "instd_ano = od23[['instd_ano','NOM_MUNICIPIO_dest','NOM_ESTADO_dest','NUM_CNPJ_INSTALACAO_dest','NOM_RAZAO_SOCIAL_dest']].drop_duplicates()\n",
    "print(instd_ano.value_counts())\n",
    "\n",
    "insto_ano = od23[['insto_ano','NOM_MUNICIPIO_orig','NOM_ESTADO_orig','NUM_CNPJ_INSTALACAO_orig','NOM_RAZAO_SOCIAL_orig']].drop_duplicates()\n",
    "print(insto_ano.value_counts())"
   ]
  },
  {
   "cell_type": "code",
   "execution_count": null,
   "id": "bf26fa70",
   "metadata": {},
   "outputs": [],
   "source": [
    "od23.loc[(od23['instd_ano'] == \"TRR|1245711|2023\")][['NOM_MUNICIPIO_dest','NOM_ESTADO_dest','NUM_CNPJ_INSTALACAO_dest','NOM_RAZAO_SOCIAL_dest']].value_counts()"
   ]
  },
  {
   "cell_type": "code",
   "execution_count": null,
   "id": "f9db03f7",
   "metadata": {},
   "outputs": [],
   "source": [
    "od23.loc[(od23['insto_ano'] == \"CONSUMIDOR FINAL|1033175|2023\")][['NOM_MUNICIPIO_orig','NOM_ESTADO_orig','NUM_CNPJ_INSTALACAO_orig','NOM_RAZAO_SOCIAL_orig']].value_counts()"
   ]
  },
  {
   "cell_type": "code",
   "execution_count": null,
   "id": "cb906f74",
   "metadata": {},
   "outputs": [],
   "source": [
    "od23_clusters.info()"
   ]
  },
  {
   "cell_type": "code",
   "execution_count": null,
   "id": "50da991c",
   "metadata": {},
   "outputs": [],
   "source": [
    "instd_ano.info()"
   ]
  },
  {
   "cell_type": "code",
   "execution_count": null,
   "id": "33ca01ae",
   "metadata": {},
   "outputs": [],
   "source": [
    "insto_ano.info()"
   ]
  },
  {
   "cell_type": "code",
   "execution_count": null,
   "id": "54e32e57",
   "metadata": {},
   "outputs": [],
   "source": [
    "od23_clusters = od23_clusters.merge(instd_ano , how='left', on = ['instd_ano'])"
   ]
  },
  {
   "cell_type": "code",
   "execution_count": null,
   "id": "4091cd5e",
   "metadata": {},
   "outputs": [],
   "source": [
    "od23_clusters = od23_clusters.merge(insto_ano , how='left', on = ['insto_ano'])"
   ]
  },
  {
   "cell_type": "code",
   "execution_count": null,
   "id": "c6aa3568",
   "metadata": {},
   "outputs": [],
   "source": [
    "od23_clusters.info()"
   ]
  },
  {
   "cell_type": "code",
   "execution_count": null,
   "id": "6b85785e",
   "metadata": {},
   "outputs": [],
   "source": [
    "od23_clusters.loc[(od23_clusters['insto_ano'] == \"CONSUMIDOR FINAL|1033175|2023\")][['NOM_MUNICIPIO_orig','NOM_ESTADO_orig','NUM_CNPJ_INSTALACAO_orig','NOM_RAZAO_SOCIAL_orig']].value_counts()"
   ]
  },
  {
   "cell_type": "code",
   "execution_count": null,
   "id": "ca52bae4",
   "metadata": {},
   "outputs": [],
   "source": [
    "od23_clusters['instd_ano'].value_counts()"
   ]
  },
  {
   "cell_type": "code",
   "execution_count": null,
   "id": "ffccb9aa",
   "metadata": {},
   "outputs": [],
   "source": [
    "od23_clusters['insto_ano'].value_counts()"
   ]
  },
  {
   "cell_type": "markdown",
   "id": "a61f3c2b",
   "metadata": {},
   "source": [
    "# agrupando os volumes na origem e ano"
   ]
  },
  {
   "cell_type": "markdown",
   "id": "b1327270",
   "metadata": {},
   "source": [
    "#### ano"
   ]
  },
  {
   "cell_type": "code",
   "execution_count": null,
   "id": "38b74d4d",
   "metadata": {},
   "outputs": [],
   "source": [
    "od23_ = od23.groupby([\"insto_ano\"])\n",
    "orig_ano = od23_.agg({\"VolANP\":\"sum\"}).reset_index()\n",
    "orig_ano.info()  "
   ]
  },
  {
   "cell_type": "code",
   "execution_count": null,
   "id": "92b437ec",
   "metadata": {},
   "outputs": [],
   "source": [
    "orig_ano.rename(columns= {'VolANP':'VolANP_insto'}, inplace = True)"
   ]
  },
  {
   "cell_type": "code",
   "execution_count": null,
   "id": "4d949ed4",
   "metadata": {},
   "outputs": [],
   "source": [
    "orig_ano['VolANP_insto'].sum() "
   ]
  },
  {
   "cell_type": "code",
   "execution_count": null,
   "id": "b5311709",
   "metadata": {},
   "outputs": [],
   "source": [
    "orig_ano['VolANP_insto'].sum() - od23['VolANP'].sum() "
   ]
  },
  {
   "cell_type": "code",
   "execution_count": null,
   "id": "af107af6",
   "metadata": {},
   "outputs": [],
   "source": [
    "orig_ano['VolANP_insto'].sum() - cinstorig['Volorig'].sum()"
   ]
  },
  {
   "cell_type": "markdown",
   "id": "d9b57c8f",
   "metadata": {},
   "source": [
    "# agrupando os volumes no destino e ano"
   ]
  },
  {
   "cell_type": "markdown",
   "id": "121085d4",
   "metadata": {},
   "source": [
    "#### ano"
   ]
  },
  {
   "cell_type": "code",
   "execution_count": null,
   "id": "47bff2d6",
   "metadata": {},
   "outputs": [],
   "source": [
    "od23_ = od23.groupby([\"instd_ano\"])\n",
    "dest_ano = od23_.agg({\"VolANP\":\"sum\"}).reset_index()\n",
    "dest_ano.info() "
   ]
  },
  {
   "cell_type": "code",
   "execution_count": null,
   "id": "723d47ad",
   "metadata": {},
   "outputs": [],
   "source": [
    "dest_ano.rename(columns= {'VolANP':'VolANP_instd'}, inplace = True)"
   ]
  },
  {
   "cell_type": "code",
   "execution_count": null,
   "id": "da628164",
   "metadata": {},
   "outputs": [],
   "source": [
    "dest_ano['VolANP_instd'].sum()"
   ]
  },
  {
   "cell_type": "code",
   "execution_count": null,
   "id": "c4d5ec46",
   "metadata": {},
   "outputs": [],
   "source": [
    "dest_ano['VolANP_instd'].sum() - od23['VolANP'].sum()"
   ]
  },
  {
   "cell_type": "code",
   "execution_count": null,
   "id": "9d6a1fbe",
   "metadata": {},
   "outputs": [],
   "source": [
    "dest_ano['VolANP_instd'].sum() - cinstdest['Voldest'].sum()"
   ]
  },
  {
   "cell_type": "code",
   "execution_count": null,
   "id": "e0d09cdc",
   "metadata": {},
   "outputs": [],
   "source": [
    "od23_clusters.info()"
   ]
  },
  {
   "cell_type": "code",
   "execution_count": null,
   "id": "2499b67d",
   "metadata": {},
   "outputs": [],
   "source": [
    "dest_ano.info()"
   ]
  },
  {
   "cell_type": "code",
   "execution_count": null,
   "id": "0e858cde",
   "metadata": {},
   "outputs": [],
   "source": [
    "orig_ano.info()"
   ]
  },
  {
   "cell_type": "code",
   "execution_count": null,
   "id": "d2a511d2",
   "metadata": {},
   "outputs": [],
   "source": [
    "od23_clusters = od23_clusters.merge(dest_ano , how='left', on = ['instd_ano'])\n",
    "od23_clusters = od23_clusters.merge(orig_ano , how='left', on = ['insto_ano'])"
   ]
  },
  {
   "cell_type": "code",
   "execution_count": null,
   "id": "2bf7501d",
   "metadata": {},
   "outputs": [],
   "source": [
    "od23_clusters.rename(columns= {'GRUPO_munic_dest':'orig_dest'}, inplace = True)"
   ]
  },
  {
   "cell_type": "code",
   "execution_count": null,
   "id": "baca761a",
   "metadata": {},
   "outputs": [],
   "source": [
    "od23.rename(columns= {'GRUPO_munic_dest':'orig_dest'}, inplace = True)"
   ]
  },
  {
   "cell_type": "code",
   "execution_count": null,
   "id": "1a3eaed9",
   "metadata": {},
   "outputs": [],
   "source": [
    "od23_clusters.info()"
   ]
  },
  {
   "cell_type": "code",
   "execution_count": null,
   "id": "8001fd89",
   "metadata": {},
   "outputs": [],
   "source": [
    "grupo = od23[['orig_dest','GRUPO']].drop_duplicates()"
   ]
  },
  {
   "cell_type": "code",
   "execution_count": null,
   "id": "dd8dd01b",
   "metadata": {},
   "outputs": [],
   "source": [
    "grupo['orig_dest'].value_counts()"
   ]
  },
  {
   "cell_type": "code",
   "execution_count": null,
   "id": "0475b0e9",
   "metadata": {},
   "outputs": [],
   "source": [
    "od23_clusters = od23_clusters.merge(grupo , how='left', on = ['orig_dest'])"
   ]
  },
  {
   "cell_type": "code",
   "execution_count": null,
   "id": "e6e4ad0a",
   "metadata": {},
   "outputs": [],
   "source": [
    "od23_clusters[['orig_dest','instd_ano','VolANP_ano','VolANP_instd','VolANP_insto']]"
   ]
  },
  {
   "cell_type": "code",
   "execution_count": null,
   "id": "e0285e9d",
   "metadata": {},
   "outputs": [],
   "source": [
    "od23_clusters['share_instd_ano'] = od23_clusters['VolANP_ano']/od23_clusters['VolANP_instd']"
   ]
  },
  {
   "cell_type": "code",
   "execution_count": null,
   "id": "2d664143",
   "metadata": {},
   "outputs": [],
   "source": [
    "od23_clusters.loc[(od23_clusters['instd_ano'] == \"CONSUMIDOR FINAL|1108572|2023\")][['GRUPO','orig_dest','instd_ano','VolANP_ano','VolANP_instd','VolANP_insto','COD_INSTALACAO_ORIG','share_instd_ano']]"
   ]
  },
  {
   "cell_type": "code",
   "execution_count": null,
   "id": "fb6f0092",
   "metadata": {},
   "outputs": [],
   "source": [
    "od23_clusters.info()"
   ]
  },
  {
   "cell_type": "markdown",
   "id": "d81a791c",
   "metadata": {},
   "source": [
    "# retomando nan"
   ]
  },
  {
   "cell_type": "code",
   "execution_count": null,
   "id": "b348a873",
   "metadata": {},
   "outputs": [],
   "source": [
    "od23_Nan.info()"
   ]
  },
  {
   "cell_type": "code",
   "execution_count": null,
   "id": "024220e7",
   "metadata": {},
   "outputs": [],
   "source": [
    "od23_Nan['QUALIF_DEST'].value_counts()"
   ]
  },
  {
   "cell_type": "code",
   "execution_count": null,
   "id": "e4f35c78",
   "metadata": {},
   "outputs": [],
   "source": [
    "od23_Nan['NOM_RAZAO_SOCIAL_dest'].value_counts()"
   ]
  },
  {
   "cell_type": "code",
   "execution_count": null,
   "id": "06a8eb51",
   "metadata": {},
   "outputs": [],
   "source": [
    "od23_Nan_ = od23_Nan.groupby([\"NOM_RAZAO_SOCIAL_orig\"])\n",
    "od23_Nan_empresas = od23_Nan_.agg({\"VolANP\":\"sum\"}).reset_index()\n",
    "od23_Nan_empresas "
   ]
  },
  {
   "cell_type": "code",
   "execution_count": null,
   "id": "269a7b13",
   "metadata": {},
   "outputs": [],
   "source": [
    "od23_Nan_ = od23_Nan.groupby([\"NOM_RAZAO_SOCIAL_orig\",\"QUALIF_DEST\"])\n",
    "od23_Nan_empresas_canal = od23_Nan_.agg({\"VolANP\":\"sum\"}).reset_index()\n",
    "od23_Nan_empresas_canal"
   ]
  },
  {
   "cell_type": "code",
   "execution_count": null,
   "id": "bb4e53c2",
   "metadata": {},
   "outputs": [],
   "source": [
    "od23_Nan_empresas.loc[(od23_Nan_empresas['NOM_RAZAO_SOCIAL_orig'] == 'VIBRA ENERGIA S.A'), 'GRUPO'] = 'VIBRA'\n",
    "\n",
    "od23_Nan_empresas.loc[(od23_Nan_empresas['NOM_RAZAO_SOCIAL_orig'] == 'RAIZEN S.A.'), 'GRUPO'] = 'RAIZEN'\n",
    "\n",
    "od23_Nan_empresas.loc[(od23_Nan_empresas['NOM_RAZAO_SOCIAL_orig'] == 'RAIZEN MIME COMBUSTIVEIS S/A.'), 'GRUPO'] = 'RAIZEN'\n",
    "\n",
    "od23_Nan_empresas.loc[(od23_Nan_empresas['NOM_RAZAO_SOCIAL_orig'] == 'IPIRANGA PRODUTOS DE PETRÓLEO S.A'), 'GRUPO'] = 'IPIRANGA'\n",
    "\n",
    "od23_Nan_empresas['GRUPO'] = od23_Nan_empresas['GRUPO'].fillna('OUTRAS NP')\n",
    "\n",
    "od23_Nan_empresas['GRUPO'].value_counts(dropna=False)"
   ]
  },
  {
   "cell_type": "code",
   "execution_count": null,
   "id": "5590b535",
   "metadata": {},
   "outputs": [],
   "source": [
    "od23_Nan_empresas_canal.loc[(od23_Nan_empresas_canal['NOM_RAZAO_SOCIAL_orig'] == 'VIBRA ENERGIA S.A'), 'GRUPO'] = 'VIBRA'\n",
    "\n",
    "od23_Nan_empresas_canal.loc[(od23_Nan_empresas_canal['NOM_RAZAO_SOCIAL_orig'] == 'RAIZEN S.A.'), 'GRUPO'] = 'RAIZEN'\n",
    "\n",
    "od23_Nan_empresas_canal.loc[(od23_Nan_empresas_canal['NOM_RAZAO_SOCIAL_orig'] == 'RAIZEN MIME COMBUSTIVEIS S/A.'), 'GRUPO'] = 'RAIZEN'\n",
    "\n",
    "od23_Nan_empresas_canal.loc[(od23_Nan_empresas_canal['NOM_RAZAO_SOCIAL_orig'] == 'IPIRANGA PRODUTOS DE PETRÓLEO S.A'), 'GRUPO'] = 'IPIRANGA'\n",
    "\n",
    "od23_Nan_empresas_canal['GRUPO'] = od23_Nan_empresas_canal['GRUPO'].fillna('OUTRAS NP')\n",
    "\n",
    "od23_Nan_empresas_canal['GRUPO'].value_counts(dropna=False)"
   ]
  },
  {
   "cell_type": "code",
   "execution_count": null,
   "id": "1ce4d62b",
   "metadata": {},
   "outputs": [],
   "source": [
    "od23_Nan_empresas_canal"
   ]
  },
  {
   "cell_type": "code",
   "execution_count": null,
   "id": "e1dfcb0a",
   "metadata": {},
   "outputs": [],
   "source": [
    "od23_Nan_ = od23_Nan_empresas.groupby([\"GRUPO\"])\n",
    "od23_Nan_grupo = od23_Nan_.agg({\"VolANP\":\"sum\"}).reset_index()\n",
    "od23_Nan_grupo "
   ]
  },
  {
   "cell_type": "code",
   "execution_count": null,
   "id": "0ce1ee1f",
   "metadata": {},
   "outputs": [],
   "source": [
    "od23_clusters_ = od23_clusters.groupby([\"GRUPO\"])\n",
    "od23_clusters_grupo = od23_clusters_.agg({\"VolANP_ano\":\"sum\"}).reset_index()\n",
    "od23_clusters_grupo "
   ]
  },
  {
   "cell_type": "code",
   "execution_count": null,
   "id": "1d3cd8d3",
   "metadata": {},
   "outputs": [],
   "source": [
    "od23_clusters_grupo = od23_clusters_grupo.merge(od23_Nan_grupo , how='left', on = ['GRUPO'])\n",
    "od23_clusters_grupo"
   ]
  },
  {
   "cell_type": "code",
   "execution_count": null,
   "id": "ba45a757",
   "metadata": {},
   "outputs": [],
   "source": [
    "od23_clusters_grupo.rename(columns= {'VolANP_ano':'VolANP_ano_dest'}, inplace = True)\n",
    "od23_clusters_grupo.rename(columns= {'VolANP':'VolANP_ano_semdest'}, inplace = True)"
   ]
  },
  {
   "cell_type": "code",
   "execution_count": null,
   "id": "f2247675",
   "metadata": {},
   "outputs": [],
   "source": [
    "od23_clusters_grupo['VolANP_ano'] = od23_clusters_grupo['VolANP_ano_dest'] + od23_clusters_grupo['VolANP_ano_semdest']\n",
    "od23_clusters_grupo['VolANP_ano'].sum()"
   ]
  },
  {
   "cell_type": "code",
   "execution_count": null,
   "id": "c0a90b33",
   "metadata": {},
   "outputs": [],
   "source": [
    "df23['VolANP'].sum()"
   ]
  },
  {
   "cell_type": "code",
   "execution_count": null,
   "id": "c653728c",
   "metadata": {},
   "outputs": [],
   "source": [
    "od23_clusters_grupo['VolANP_ano'].sum() - df23['VolANP'].sum()"
   ]
  },
  {
   "cell_type": "code",
   "execution_count": null,
   "id": "cf71fa5d",
   "metadata": {},
   "outputs": [],
   "source": [
    "#od23_clusters_grupo.append(od23_clusters_grupo.sum(numeric_only=True), ignore_index=True)\n",
    "od23_clusters_grupo = od23_clusters_grupo.append(od23_clusters_grupo.sum().rename('Total'))"
   ]
  },
  {
   "cell_type": "code",
   "execution_count": null,
   "id": "b810972f",
   "metadata": {},
   "outputs": [],
   "source": [
    "od23_clusters_grupo['VolANP_ano_dest%'] = (od23_clusters_grupo['VolANP_ano_dest']/od23_clusters_grupo['VolANP_ano'])*100\n",
    "od23_clusters_grupo['VolANP_ano_semdest%'] = (od23_clusters_grupo['VolANP_ano_semdest']/od23_clusters_grupo['VolANP_ano'])*100"
   ]
  },
  {
   "cell_type": "code",
   "execution_count": null,
   "id": "e4b6abcf",
   "metadata": {},
   "outputs": [],
   "source": [
    "od23_clusters_grupo = round(od23_clusters_grupo, 2)"
   ]
  },
  {
   "cell_type": "code",
   "execution_count": null,
   "id": "01122a1b",
   "metadata": {},
   "outputs": [],
   "source": [
    "od23_clusters_grupo"
   ]
  },
  {
   "cell_type": "code",
   "execution_count": null,
   "id": "a200409b",
   "metadata": {},
   "outputs": [],
   "source": [
    "od23_clusters_grupoTT = od23_clusters_grupo.loc[(od23_clusters_grupo['GRUPO'] == \"IPIRANGAOUTRAS NPRAIZENVIBRA\")]\n",
    "od23_clusters_grupoTT"
   ]
  },
  {
   "cell_type": "code",
   "execution_count": null,
   "id": "03346c1d",
   "metadata": {},
   "outputs": [],
   "source": [
    "od23_clusters_grupoTT.loc[(od23_clusters_grupoTT['GRUPO'] == \"IPIRANGAOUTRAS NPRAIZENVIBRA\"), 'GRUPO'] = \"MERCADO TOTAL\""
   ]
  },
  {
   "cell_type": "code",
   "execution_count": null,
   "id": "e7820be6",
   "metadata": {},
   "outputs": [],
   "source": [
    "od23_clusters_grupoTT"
   ]
  },
  {
   "cell_type": "code",
   "execution_count": null,
   "id": "c51a7c91",
   "metadata": {},
   "outputs": [],
   "source": [
    "od23_clusters_grupo = od23_clusters_grupo.loc[(od23_clusters_grupo['GRUPO'] != \"IPIRANGAOUTRAS NPRAIZENVIBRA\")]\n",
    "od23_clusters_grupo"
   ]
  },
  {
   "cell_type": "markdown",
   "id": "a62bfed3",
   "metadata": {},
   "source": [
    "# ajuste da flag faixavol - clusters"
   ]
  },
  {
   "cell_type": "code",
   "execution_count": null,
   "id": "ff9c8525",
   "metadata": {},
   "outputs": [],
   "source": [
    "od23_clusters.info()"
   ]
  },
  {
   "cell_type": "code",
   "execution_count": null,
   "id": "129ab725",
   "metadata": {},
   "outputs": [],
   "source": [
    "od23.info()"
   ]
  },
  {
   "cell_type": "code",
   "execution_count": null,
   "id": "e0ee93de",
   "metadata": {},
   "outputs": [],
   "source": [
    "od23_clusters_ = od23[['NOM_RAZAO_SOCIAL_dest','VolANP']]\n",
    "#od23_clusters_['razao'] = od23_clusters_['NOM_RAZAO_SOCIAL_dest'] +\"|\"+ od23_clusters_['ano'].astype(str)\n",
    "od23_clusters_.info()"
   ]
  },
  {
   "cell_type": "code",
   "execution_count": null,
   "id": "d0048a1c",
   "metadata": {},
   "outputs": [],
   "source": [
    "_od23_clusters_ = od23_clusters_.groupby([\"NOM_RAZAO_SOCIAL_dest\"])\n",
    "razaoano = _od23_clusters_.agg({\"VolANP\":\"sum\"}).reset_index()\n",
    "razaoano"
   ]
  },
  {
   "cell_type": "code",
   "execution_count": null,
   "id": "fc5ea4de",
   "metadata": {},
   "outputs": [],
   "source": [
    "razaoano['NOM_RAZAO_SOCIAL_dest'].value_counts(dropna=False)"
   ]
  },
  {
   "cell_type": "code",
   "execution_count": null,
   "id": "2cd1b0c8",
   "metadata": {},
   "outputs": [],
   "source": [
    "razaoano['VolANP'].sum()"
   ]
  },
  {
   "cell_type": "code",
   "execution_count": null,
   "id": "ac05b442",
   "metadata": {},
   "outputs": [],
   "source": [
    "od23['VolANP'].sum()"
   ]
  },
  {
   "cell_type": "code",
   "execution_count": null,
   "id": "02d4054b",
   "metadata": {},
   "outputs": [],
   "source": [
    "razaoano.rename(columns= {'VolANP':'Volrazao_ano'}, inplace = True)\n",
    "razaoano = round(razaoano, 2)\n",
    "razaoano"
   ]
  },
  {
   "cell_type": "code",
   "execution_count": null,
   "id": "92965815",
   "metadata": {},
   "outputs": [],
   "source": [
    "razaoano['Volrazao_ano'].sum()"
   ]
  },
  {
   "cell_type": "code",
   "execution_count": null,
   "id": "f7c34985",
   "metadata": {},
   "outputs": [],
   "source": [
    "razaoano['Volrazao_ano'].sum() - od23['VolANP'].sum()"
   ]
  },
  {
   "cell_type": "code",
   "execution_count": null,
   "id": "4527460b",
   "metadata": {},
   "outputs": [],
   "source": [
    "#### Histogram\n",
    "\n",
    "describerazao_ano = razaoano.describe()\n",
    "describerazao_ano"
   ]
  },
  {
   "cell_type": "code",
   "execution_count": null,
   "id": "b4d59c1b",
   "metadata": {},
   "outputs": [],
   "source": [
    "v25 = describerazao_ano.at['25%', 'Volrazao_ano']\n",
    "v50 = describerazao_ano.at['50%', 'Volrazao_ano']\n",
    "v75 = describerazao_ano.at['75%', 'Volrazao_ano']\n",
    "\n",
    "sns.histplot(data=razaoano, x=\"Volrazao_ano\", bins=100)\n"
   ]
  },
  {
   "cell_type": "code",
   "execution_count": null,
   "id": "9789d23e",
   "metadata": {},
   "outputs": [],
   "source": [
    "_v25_ = razaoano.loc[(razaoano.Volrazao_ano <= v25)]\n",
    "print(_v25_.shape)\n",
    "print(sns.histplot(data=_v25_, x=\"Volrazao_ano\", bins=10))\n",
    "_v25_['faixavol'] = 'nanicos'\n",
    "print(_v25_)\n",
    "print(_v25_.describe())"
   ]
  },
  {
   "cell_type": "code",
   "execution_count": null,
   "id": "17de05a0",
   "metadata": {},
   "outputs": [],
   "source": [
    "#nanicos\n",
    "_v25_.info()"
   ]
  },
  {
   "cell_type": "code",
   "execution_count": null,
   "id": "f3a87a94",
   "metadata": {},
   "outputs": [],
   "source": [
    "print(_v25_['Volrazao_ano'].sum())\n",
    "print(_v25_['faixavol'].value_counts())"
   ]
  },
  {
   "cell_type": "code",
   "execution_count": null,
   "id": "b0b8b967",
   "metadata": {},
   "outputs": [],
   "source": [
    "_v25_.head()"
   ]
  },
  {
   "cell_type": "code",
   "execution_count": null,
   "id": "ddebce82",
   "metadata": {},
   "outputs": [],
   "source": [
    "_v75_ = razaoano.loc[(razaoano.Volrazao_ano > v25) & (razaoano.Volrazao_ano <= v75)]\n",
    "print(_v75_.shape)\n",
    "print(sns.histplot(data=_v75_, x=\"Volrazao_ano\", bins=10))\n",
    "_v75_['faixavol'] = 'pequenos'\n",
    "print(_v75_)\n",
    "print(_v75_.describe())"
   ]
  },
  {
   "cell_type": "code",
   "execution_count": null,
   "id": "8775e3e7",
   "metadata": {},
   "outputs": [],
   "source": [
    "print(_v75_['Volrazao_ano'].sum())\n",
    "print(_v75_['faixavol'].value_counts())"
   ]
  },
  {
   "cell_type": "code",
   "execution_count": null,
   "id": "0595f252",
   "metadata": {},
   "outputs": [],
   "source": [
    "_v75_.head()"
   ]
  },
  {
   "cell_type": "code",
   "execution_count": null,
   "id": "3021c017",
   "metadata": {},
   "outputs": [],
   "source": [
    "_v75_['faixavol'].value_counts()"
   ]
  },
  {
   "cell_type": "code",
   "execution_count": null,
   "id": "0827ef7b",
   "metadata": {},
   "outputs": [],
   "source": [
    "#### maior grupo\n",
    "\n",
    "maior = razaoano.loc[(razaoano.Volrazao_ano > v75)]\n",
    "print(maior.shape)\n",
    "print(maior)\n",
    "describemaior = maior.describe()\n",
    "print(describemaior)\n",
    "print(sns.histplot(data=maior, x=\"Volrazao_ano\", bins=10))"
   ]
  },
  {
   "cell_type": "code",
   "execution_count": null,
   "id": "a1770896",
   "metadata": {},
   "outputs": [],
   "source": [
    "print(maior['Volrazao_ano'].sum())"
   ]
  },
  {
   "cell_type": "code",
   "execution_count": null,
   "id": "f3abd8cc",
   "metadata": {},
   "outputs": [],
   "source": [
    "#### quebra do maior grupo e outliers\n",
    "\n",
    "v25 = describemaior.at['25%', 'Volrazao_ano']\n",
    "v50 = describemaior.at['50%', 'Volrazao_ano']\n",
    "v75 = describemaior.at['75%', 'Volrazao_ano']\n",
    "\n",
    "v75maior = maior.loc[(maior.Volrazao_ano <= v75)]\n",
    "print(v75maior.shape)\n",
    "print(sns.histplot(data=v75maior, x=\"Volrazao_ano\", bins=10))\n",
    "v75maior['faixavol'] = 'pequeno_medio'\n",
    "print(v75maior)"
   ]
  },
  {
   "cell_type": "code",
   "execution_count": null,
   "id": "f4721c62",
   "metadata": {},
   "outputs": [],
   "source": [
    "print(v75maior['Volrazao_ano'].sum())\n",
    "print(v75maior['faixavol'].value_counts())"
   ]
  },
  {
   "cell_type": "code",
   "execution_count": null,
   "id": "a007136f",
   "metadata": {},
   "outputs": [],
   "source": [
    "v75maior1 = maior.loc[(maior.Volrazao_ano > v75)]\n",
    "print(v75maior1.shape)\n",
    "print(sns.histplot(data=v75maior1, x=\"Volrazao_ano\", bins=10))\n",
    "print(v75maior1.describe())"
   ]
  },
  {
   "cell_type": "code",
   "execution_count": null,
   "id": "01969eaf",
   "metadata": {},
   "outputs": [],
   "source": [
    "print(v75maior1['Volrazao_ano'].sum())"
   ]
  },
  {
   "cell_type": "code",
   "execution_count": null,
   "id": "2073dac0",
   "metadata": {},
   "outputs": [],
   "source": [
    "\n",
    "#### maior grupo maior ainda\n",
    "\n",
    "describeoutliers = v75maior1.describe()\n",
    "describeoutliers\n",
    "\n",
    "v25 = describeoutliers.at['25%', 'Volrazao_ano']\n",
    "v50 = describeoutliers.at['50%', 'Volrazao_ano']\n",
    "v75 = describeoutliers.at['75%', 'Volrazao_ano']\n",
    "\n",
    "v75outliers = v75maior1.loc[(v75maior1.Volrazao_ano <= v75)]\n",
    "print(v75outliers.shape)\n",
    "print(sns.histplot(data=v75outliers, x=\"Volrazao_ano\", bins=10))\n",
    "v75outliers['faixavol'] = 'medio'\n",
    "print(v75outliers)"
   ]
  },
  {
   "cell_type": "code",
   "execution_count": null,
   "id": "7475f5db",
   "metadata": {},
   "outputs": [],
   "source": [
    "print(v75outliers['Volrazao_ano'].sum())\n",
    "print(v75outliers['faixavol'].value_counts())"
   ]
  },
  {
   "cell_type": "code",
   "execution_count": null,
   "id": "31e1e844",
   "metadata": {},
   "outputs": [],
   "source": [
    "\n",
    "outliers = v75maior1.loc[(v75maior1.Volrazao_ano > v75)]\n",
    "print(outliers.shape)\n",
    "print(sns.histplot(data=outliers, x=\"Volrazao_ano\", bins=10))\n",
    "print(outliers)\n",
    "print(outliers.describe())"
   ]
  },
  {
   "cell_type": "code",
   "execution_count": null,
   "id": "b187b929",
   "metadata": {},
   "outputs": [],
   "source": [
    "print(outliers['Volrazao_ano'].sum())"
   ]
  },
  {
   "cell_type": "code",
   "execution_count": null,
   "id": "5fd5f2d3",
   "metadata": {},
   "outputs": [],
   "source": [
    "desc_outliers = outliers.describe()\n",
    "\n",
    "v25 = desc_outliers.at['25%', 'Volrazao_ano']\n",
    "v50 = desc_outliers.at['50%', 'Volrazao_ano']\n",
    "v75 = desc_outliers.at['75%', 'Volrazao_ano']\n",
    "\n",
    "v75out = outliers.loc[(outliers.Volrazao_ano <= v75)]\n",
    "print(v75out.shape)\n",
    "print(sns.histplot(data=v75out, x=\"Volrazao_ano\", bins=10))\n",
    "v75out['faixavol'] = 'medio_grandes'\n",
    "print(v75out)\n",
    "print(v75out.describe())\n"
   ]
  },
  {
   "cell_type": "code",
   "execution_count": null,
   "id": "aaf973a5",
   "metadata": {},
   "outputs": [],
   "source": [
    "print(v75out['Volrazao_ano'].sum())\n",
    "print(v75out['faixavol'].value_counts())"
   ]
  },
  {
   "cell_type": "code",
   "execution_count": null,
   "id": "10db2b37",
   "metadata": {},
   "outputs": [],
   "source": [
    "v75out1 = outliers.loc[(outliers.Volrazao_ano > v75)]\n",
    "print(v75out1.shape)\n",
    "print(sns.histplot(data=v75out1, x=\"Volrazao_ano\", bins=10))\n",
    "print(v75out1)\n",
    "print(v75out1.describe())\n"
   ]
  },
  {
   "cell_type": "code",
   "execution_count": null,
   "id": "d45667c4",
   "metadata": {},
   "outputs": [],
   "source": [
    "#### isolando os volumes máximos\n",
    "\n",
    "desc_outliers1 = v75out1.describe()\n",
    "v25 = desc_outliers1.at['25%', 'Volrazao_ano']\n",
    "v50 = desc_outliers1.at['50%', 'Volrazao_ano']\n",
    "v75 = desc_outliers1.at['75%', 'Volrazao_ano']\n",
    "\n",
    "print(v25)\n",
    "print(v50)\n",
    "print(v75)\n",
    "print(desc_outliers1)\n",
    "print(v75out1.shape)\n",
    "\n",
    "vmax = desc_outliers1.at['max', 'Volrazao_ano']\n",
    "print(vmax)\n",
    "vmax40 = vmax*0.40\n",
    "print(vmax40)\n",
    "print(v75)\n"
   ]
  },
  {
   "cell_type": "code",
   "execution_count": null,
   "id": "a632734e",
   "metadata": {},
   "outputs": [],
   "source": [
    "\n",
    "out1 = v75out1.loc[(v75out1.Volrazao_ano <= vmax40)]\n",
    "print(out1.shape)\n",
    "\n",
    "print(sns.histplot(data=out1, x=\"Volrazao_ano\", bins=10))"
   ]
  },
  {
   "cell_type": "code",
   "execution_count": null,
   "id": "31ca199f",
   "metadata": {},
   "outputs": [],
   "source": [
    "#print(sns.histplot(data=out1, x=\"Volrazao_ano\", bins=10))"
   ]
  },
  {
   "cell_type": "code",
   "execution_count": null,
   "id": "33936341",
   "metadata": {},
   "outputs": [],
   "source": [
    "out1['faixavol'] = 'grandes'"
   ]
  },
  {
   "cell_type": "code",
   "execution_count": null,
   "id": "23e50f52",
   "metadata": {},
   "outputs": [],
   "source": [
    "out1"
   ]
  },
  {
   "cell_type": "code",
   "execution_count": null,
   "id": "30d21c76",
   "metadata": {},
   "outputs": [],
   "source": [
    "print(out1['Volrazao_ano'].sum())\n",
    "print(out1['faixavol'].value_counts())"
   ]
  },
  {
   "cell_type": "code",
   "execution_count": null,
   "id": "495ae1ed",
   "metadata": {},
   "outputs": [],
   "source": [
    "\n",
    "out0 = v75out1.loc[(v75out1.Volrazao_ano > vmax40)]\n",
    "print(out0.shape)\n",
    "print(sns.histplot(data=out0, x=\"Volrazao_ano\", bins=10))\n",
    "out0['faixavol'] = 'outliers'\n",
    "print(out0)\n",
    "print(out0.describe())"
   ]
  },
  {
   "cell_type": "code",
   "execution_count": null,
   "id": "ab6f66d2",
   "metadata": {},
   "outputs": [],
   "source": [
    "print(out0['Volrazao_ano'].sum())\n",
    "print(out0['faixavol'].value_counts())"
   ]
  },
  {
   "cell_type": "code",
   "execution_count": null,
   "id": "d03af4f4",
   "metadata": {},
   "outputs": [],
   "source": [
    "print(razaoano['Volrazao_ano'].sum())\n",
    "print(razaoano.shape)\n",
    "razaoano.info()"
   ]
  },
  {
   "cell_type": "code",
   "execution_count": null,
   "id": "d2e58868",
   "metadata": {},
   "outputs": [],
   "source": [
    "razaoano"
   ]
  },
  {
   "cell_type": "code",
   "execution_count": null,
   "id": "02f5a6eb",
   "metadata": {},
   "outputs": [],
   "source": [
    "#### concatenando os clusters\n",
    "od23_clusters_razao = pd.concat([_v25_,\n",
    "                           _v75_,\n",
    "                            v75maior,\n",
    "                            v75outliers,\n",
    "                            v75out,\n",
    "                            out1,\n",
    "                            out0])\n",
    "od23_clusters_razao.info()\n",
    "print(od23_clusters_razao['Volrazao_ano'].sum())\n",
    "print(od23_clusters_razao.shape)"
   ]
  },
  {
   "cell_type": "code",
   "execution_count": null,
   "id": "74f14b29",
   "metadata": {},
   "outputs": [],
   "source": [
    "od23_clusters_razao.head()"
   ]
  },
  {
   "cell_type": "code",
   "execution_count": null,
   "id": "01f2652e",
   "metadata": {},
   "outputs": [],
   "source": [
    "plt.figure(figsize=(13,8))\n",
    "ax = sns.boxplot(x=od23_clusters[\"VolANP_ano\"], y=od23_clusters[\"faixavol\"], data=od23_clusters)"
   ]
  },
  {
   "cell_type": "code",
   "execution_count": null,
   "id": "24e5153c",
   "metadata": {},
   "outputs": [],
   "source": [
    "plt.figure(figsize=(13,8))\n",
    "ax = sns.boxplot(x=od23_clusters_razao[\"Volrazao_ano\"], y=od23_clusters_razao[\"faixavol\"], data=od23_clusters)"
   ]
  },
  {
   "cell_type": "code",
   "execution_count": null,
   "id": "94bb61f3",
   "metadata": {},
   "outputs": [],
   "source": [
    "od23_clusters_razao.rename(columns= {'faixavol':'faixa_razao'}, inplace = True)"
   ]
  },
  {
   "cell_type": "code",
   "execution_count": null,
   "id": "da64fe1c",
   "metadata": {},
   "outputs": [],
   "source": [
    "od23_clusters_razao.info()"
   ]
  },
  {
   "cell_type": "code",
   "execution_count": null,
   "id": "fe59e3f8",
   "metadata": {},
   "outputs": [],
   "source": [
    "od23_clusters_razao['Volrazao_ano'].max()"
   ]
  },
  {
   "cell_type": "code",
   "execution_count": null,
   "id": "26c3401f",
   "metadata": {},
   "outputs": [],
   "source": [
    "od23_clusters_razao['Volrazao_ano'].min()"
   ]
  },
  {
   "cell_type": "code",
   "execution_count": null,
   "id": "f5131161",
   "metadata": {},
   "outputs": [],
   "source": [
    "df_group = od23_clusters_razao.groupby(\"faixa_razao\")\n",
    "df_columns = df_group[[\"Volrazao_ano\",\"faixa_razao\"]]\n",
    "df_columns.max()"
   ]
  },
  {
   "cell_type": "code",
   "execution_count": null,
   "id": "dbff3cb3",
   "metadata": {},
   "outputs": [],
   "source": [
    "df_columns.min()"
   ]
  },
  {
   "cell_type": "code",
   "execution_count": null,
   "id": "4be887fb",
   "metadata": {},
   "outputs": [],
   "source": [
    "#Faixa_Volume"
   ]
  },
  {
   "cell_type": "code",
   "execution_count": null,
   "id": "74a1b33c",
   "metadata": {},
   "outputs": [],
   "source": [
    "od23_clusters_razao['Volrazao_ano'].sum()"
   ]
  },
  {
   "cell_type": "code",
   "execution_count": null,
   "id": "e90ec71e",
   "metadata": {},
   "outputs": [],
   "source": [
    "od23_clusters['VolANP_ano'].sum()"
   ]
  },
  {
   "cell_type": "code",
   "execution_count": null,
   "id": "35eea427",
   "metadata": {},
   "outputs": [],
   "source": [
    "#homologação"
   ]
  },
  {
   "cell_type": "code",
   "execution_count": null,
   "id": "1e4fb092",
   "metadata": {},
   "outputs": [],
   "source": [
    "od23_clusters_razao['Volrazao_ano'].sum() - od23_clusters['VolANP_ano'].sum()"
   ]
  },
  {
   "cell_type": "code",
   "execution_count": null,
   "id": "639faa79",
   "metadata": {},
   "outputs": [],
   "source": [
    "od23_clusters_razao.info()"
   ]
  },
  {
   "cell_type": "code",
   "execution_count": null,
   "id": "5f020503",
   "metadata": {},
   "outputs": [],
   "source": [
    "od23_clusters_razao.head()"
   ]
  },
  {
   "cell_type": "code",
   "execution_count": null,
   "id": "c5d3a3b0",
   "metadata": {},
   "outputs": [],
   "source": [
    "od23_clusters_razao['NOM_RAZAO_SOCIAL_dest'].value_counts()"
   ]
  },
  {
   "cell_type": "code",
   "execution_count": null,
   "id": "5e7f8a33",
   "metadata": {},
   "outputs": [],
   "source": [
    "od23_clusters_razao.loc[(od23_clusters_razao['NOM_RAZAO_SOCIAL_dest'] == \"MRS LOGÍSTICA S/A\")]['faixa_razao'].value_counts()"
   ]
  },
  {
   "cell_type": "code",
   "execution_count": null,
   "id": "0d76bafc",
   "metadata": {},
   "outputs": [],
   "source": [
    "od23_clusters = od23_clusters.merge(od23_clusters_razao , how='left', on = ['NOM_RAZAO_SOCIAL_dest'])"
   ]
  },
  {
   "cell_type": "code",
   "execution_count": null,
   "id": "b4a4d2a9",
   "metadata": {},
   "outputs": [],
   "source": [
    "od23_clusters.info()"
   ]
  },
  {
   "cell_type": "code",
   "execution_count": null,
   "id": "3b996f25",
   "metadata": {},
   "outputs": [],
   "source": [
    "od23_clusters['VolANP_ano'].sum()"
   ]
  },
  {
   "cell_type": "code",
   "execution_count": null,
   "id": "bb5438cf",
   "metadata": {},
   "outputs": [],
   "source": [
    "od23_clusters['VolANP_instd'].sum() "
   ]
  },
  {
   "cell_type": "code",
   "execution_count": null,
   "id": "37aebbfc",
   "metadata": {},
   "outputs": [],
   "source": [
    "od23_clusters['VolANP_insto'].sum() "
   ]
  },
  {
   "cell_type": "code",
   "execution_count": null,
   "id": "baf951ab",
   "metadata": {},
   "outputs": [],
   "source": [
    "od23_clusters['Volrazao_ano'].sum()"
   ]
  },
  {
   "cell_type": "code",
   "execution_count": null,
   "id": "379b6eca",
   "metadata": {},
   "outputs": [],
   "source": []
  },
  {
   "cell_type": "code",
   "execution_count": null,
   "id": "dc6872ac",
   "metadata": {},
   "outputs": [],
   "source": [
    "od23_clusters = od23_clusters.drop(['VolANP_instd'], axis=1)\n",
    "od23_clusters = od23_clusters.drop(['VolANP_insto'], axis=1)\n",
    "od23_clusters = od23_clusters.drop(['Volrazao_ano'], axis=1)"
   ]
  },
  {
   "cell_type": "code",
   "execution_count": null,
   "id": "3e3e49ac",
   "metadata": {},
   "outputs": [],
   "source": [
    "od23_clusters.info()"
   ]
  },
  {
   "cell_type": "code",
   "execution_count": null,
   "id": "a86c5661",
   "metadata": {},
   "outputs": [],
   "source": [
    "od23_clusters.head()"
   ]
  },
  {
   "cell_type": "code",
   "execution_count": null,
   "id": "4aab7dcb",
   "metadata": {},
   "outputs": [],
   "source": [
    "od23.info()"
   ]
  },
  {
   "cell_type": "markdown",
   "id": "498e9b91",
   "metadata": {},
   "source": [
    "# Montando 2022"
   ]
  },
  {
   "cell_type": "code",
   "execution_count": null,
   "id": "3a71d5a8",
   "metadata": {},
   "outputs": [],
   "source": [
    "df22.info()"
   ]
  },
  {
   "cell_type": "code",
   "execution_count": null,
   "id": "2c267a1c",
   "metadata": {},
   "outputs": [],
   "source": [
    "# unificando os df\n",
    "\n",
    "df22.loc[(df22['Mês'] == 'Jan'), 'Num mês'] = \"01\"\n",
    "df22.loc[(df22['Mês'] == 'Fev'), 'Num mês'] = \"02\"\n",
    "df22.loc[(df22['Mês'] == 'Mar'), 'Num mês'] = \"03\"\n",
    "df22.loc[(df22['Mês'] == 'Abr'), 'Num mês'] = \"04\"\n",
    "df22.loc[(df22['Mês'] == 'Mai'), 'Num mês'] = \"05\"\n",
    "df22.loc[(df22['Mês'] == 'Jun'), 'Num mês'] = \"06\"\n",
    "df22.loc[(df22['Mês'] == 'Jul'), 'Num mês'] = \"07\"\n",
    "df22.loc[(df22['Mês'] == 'Ago'), 'Num mês'] = \"08\"\n",
    "df22.loc[(df22['Mês'] == 'Set'), 'Num mês'] = \"09\"\n",
    "df22.loc[(df22['Mês'] == 'Out'), 'Num mês'] = \"10\"\n",
    "df22.loc[(df22['Mês'] == 'Nov'), 'Num mês'] = \"11\"\n",
    "df22.loc[(df22['Mês'] == 'Dez'), 'Num mês'] = \"12\"\n",
    "\n",
    "df22['ds'] = \"2022\" + \"-\" + df22['Num mês'] + \"-\" + \"01\"\n",
    "\n",
    "# ANP\n",
    "df22.info()\n",
    "\n",
    "### tabelas de - para T008 T021\n",
    "\n",
    "T008.info()\n",
    "\n",
    "T021.info()\n",
    "\n",
    "# df22 visão destino - origem - tempo\n",
    "\n",
    "T008['COD_INSTAL'] = T008['COD_INSTALACAO']\n",
    "T008['ATIVO'] = 1\n",
    "\n",
    "T021['COD_INSTAL'] = T021['COD_INSTALACAO']\n",
    "T021['ATIVO'] = 2\n",
    "\n",
    "\n",
    "T021['COD_INSTALACAO_DEST'] = T021['COD_INSTALACAO']\n",
    "T008['COD_INSTALACAO_DEST'] = T008['COD_INSTALACAO']\n",
    "\n",
    "T021['COD_INSTALACAO_ORIG'] = T021['COD_INSTALACAO']\n",
    "T008['COD_INSTALACAO_ORIG'] = T008['COD_INSTALACAO']\n",
    "\n",
    "T021.info()\n",
    "\n",
    "T0 = pd.concat([T008,T021])\n",
    "\n",
    "T0['ATIVO'].value_counts()\n",
    "\n",
    "T0.shape\n",
    "\n",
    "T0.drop_duplicates().shape\n",
    "\n",
    "T0.info()\n",
    "\n",
    "T0.drop_duplicates(subset = \"COD_INSTALACAO\" ).shape\n",
    "\n",
    "T0 = T0.drop_duplicates(subset = \"COD_INSTALACAO\" )\n",
    "\n",
    "T0.info()\n",
    "\n",
    "df22.info()\n",
    "\n",
    "df22['COD_INSTALACAO_ORIG'].value_counts(dropna=False).shape\n",
    "\n",
    "df22['COD_INSTALACAO_ORIG'].nunique()\n",
    "\n",
    "df22['COD_INSTALACAO_DEST'].value_counts(dropna=False)\n",
    "\n",
    "df22['COD_INSTALACAO_DEST'].value_counts(dropna=False).shape\n",
    "\n",
    "df22['COD_INSTALACAO_DEST'].nunique()\n",
    "\n",
    "T0[['ATIVO']].value_counts()\n",
    "\n",
    "df22['VolANP'].sum()\n",
    "\n",
    "# orig22 identificando cod de instalação de ORIGENS ativos e inativos\n",
    "\n",
    "orig22 = df22.merge(T0, how='left', on = ['COD_INSTALACAO_ORIG'])\n",
    "orig22.info()\n",
    "\n",
    "orig22.rename(columns= {'COD_INSTALACAO_DEST_x':'COD_INSTALACAO_DEST'}, inplace = True)\n",
    "orig22 = orig22.drop(['COD_INSTALACAO_DEST_y'], axis=1)\n",
    "\n",
    "orig22 = orig22.drop(['TXT_IDENTIFICACAO_INSTALACAO'], axis=1)\n",
    "orig22 = orig22.drop(['NOM_TITULO'], axis=1)\n",
    "\n",
    "orig22_ = orig22.groupby([\"QUALIF_DEST\",\"Mês\"])\n",
    "_orig22_ = orig22_.agg({\"VolANP\":\"sum\"}).reset_index()\n",
    "_orig22_  \n",
    "\n",
    "orig22.rename(columns= {\"COD_INSTALACAO\":\"COD_INSTALACAO_orig\"}, inplace = True) \n",
    "orig22.rename(columns= {\"NUM_CNPJ_INSTALACAO\":\"NUM_CNPJ_INSTALACAO_orig\"}, inplace = True) \n",
    "orig22.rename(columns= {\"NOM_RAZAO_SOCIAL\":\"NOM_RAZAO_SOCIAL_orig\"}, inplace = True) \n",
    "orig22.rename(columns= {\"NUM_CEP\":\"NUM_CEP_orig\"}, inplace = True) \n",
    "orig22.rename(columns= {\"TXT_ENDERECO\":\"TXT_ENDERECO_orig\"}, inplace = True) \n",
    "orig22.rename(columns= {\"NUM_NUMERO\":\"NUM_NUMERO_orig\"}, inplace = True) \n",
    "orig22.rename(columns= {\"TXT_COMPLEMENTO\":\"TXT_COMPLEMENTO_orig\"}, inplace = True) \n",
    "orig22.rename(columns= {\"NOM_BAIRRO\":\"NOM_BAIRRO_orig\"}, inplace = True) \n",
    "orig22.rename(columns= {\"NOM_MUNICIPIO\":\"NOM_MUNICIPIO_orig\"}, inplace = True) \n",
    "orig22.rename(columns= {\"NOM_ESTADO\":\"NOM_ESTADO_orig\"}, inplace = True) \n",
    "orig22.rename(columns= {\"NUM_AUTORIZACAO\":\"NUM_AUTORIZACAO_orig\"}, inplace = True) \n",
    "orig22.rename(columns= {\"DAT_PUBLICACAO\":\"DAT_PUBLICACAO_orig\"}, inplace = True) \n",
    "orig22.rename(columns= {\"TXT_STATUS\":\"TXT_STATUS_orig\"}, inplace = True) \n",
    "orig22.rename(columns= {\"TXT_TIPO_INSTALACAO\":\"TXT_TIPO_INSTALACAO_orig\"}, inplace = True) \n",
    "orig22.rename(columns= {\"NOM_REDUZIDO\":\"NOM_REDUZIDO_orig\"}, inplace = True) \n",
    "orig22.rename(columns= {\"NUM_CNPJ_ADMINISTRADOR_BASE\":\"NUM_CNPJ_ADMINISTRADOR_BASE_orig\"}, inplace = True) \n",
    "orig22.rename(columns= {\"DAT_MESANO_VIGENCIA_INICIAL\":\"DAT_MESANO_VIGENCIA_INICIAL_orig\"}, inplace = True) \n",
    "orig22.rename(columns= {\"DAT_MESANO_VIGENCIA_FINAL\":\"DAT_MESANO_VIGENCIA_FINAL_orig\"}, inplace = True) \n",
    "orig22.rename(columns= {\"COD_INSTAL\":\"COD_INSTAL_orig\"}, inplace = True) \n",
    "orig22.rename(columns= {\"ATIVO\":\"ATIVO_orig\"}, inplace = True) \n",
    "\n",
    "orig22.info()\n",
    "\n",
    "orig22['ATIVO_orig'].value_counts()\n",
    "\n",
    "orig22['QUALIF_DEST'].value_counts()\n",
    "\n",
    "# dest22 identificando cod de instalação de destino ativos\n",
    "\n",
    "od22 = orig22.merge(T0, how='left', on = ['COD_INSTALACAO_DEST'])\n",
    "od22.info()\n",
    "\n",
    "od22.rename(columns= {'COD_INSTALACAO_ORIG_x':'COD_INSTALACAO_ORIG'}, inplace = True)\n",
    "od22 = od22.drop(['COD_INSTALACAO_ORIG_y'], axis=1)\n",
    "\n",
    "od22 = od22.drop(['TXT_IDENTIFICACAO_INSTALACAO'], axis=1)\n",
    "od22 = od22.drop(['NOM_TITULO'], axis=1)\n",
    "\n",
    "od22_ = od22.groupby([\"QUALIF_DEST\",\"Mês\"])\n",
    "_od22_ = od22_.agg({\"VolANP\":\"sum\"}).reset_index()\n",
    "_od22_ \n",
    "\n",
    "od22.rename(columns= {\"COD_INSTALACAO\":\"COD_INSTALACAO_dest\"}, inplace = True) \n",
    "od22.rename(columns= {\"NUM_CNPJ_INSTALACAO\":\"NUM_CNPJ_INSTALACAO_dest\"}, inplace = True) \n",
    "od22.rename(columns= {\"NOM_RAZAO_SOCIAL\":\"NOM_RAZAO_SOCIAL_dest\"}, inplace = True) \n",
    "od22.rename(columns= {\"NUM_CEP\":\"NUM_CEP_dest\"}, inplace = True) \n",
    "od22.rename(columns= {\"TXT_ENDERECO\":\"TXT_ENDERECO_dest\"}, inplace = True) \n",
    "od22.rename(columns= {\"NUM_NUMERO\":\"NUM_NUMERO_dest\"}, inplace = True) \n",
    "od22.rename(columns= {\"TXT_COMPLEMENTO\":\"TXT_COMPLEMENTO_dest\"}, inplace = True) \n",
    "od22.rename(columns= {\"NOM_BAIRRO\":\"NOM_BAIRRO_dest\"}, inplace = True) \n",
    "od22.rename(columns= {\"NOM_MUNICIPIO\":\"NOM_MUNICIPIO_dest\"}, inplace = True) \n",
    "od22.rename(columns= {\"NOM_ESTADO\":\"NOM_ESTADO_dest\"}, inplace = True) \n",
    "od22.rename(columns= {\"NUM_AUTORIZACAO\":\"NUM_AUTORIZACAO_dest\"}, inplace = True) \n",
    "od22.rename(columns= {\"DAT_PUBLICACAO\":\"DAT_PUBLICACAO_dest\"}, inplace = True) \n",
    "od22.rename(columns= {\"TXT_STATUS\":\"TXT_STATUS_dest\"}, inplace = True) \n",
    "od22.rename(columns= {\"TXT_TIPO_INSTALACAO\":\"TXT_TIPO_INSTALACAO_dest\"}, inplace = True) \n",
    "od22.rename(columns= {\"NOM_REDUZIDO\":\"NOM_REDUZIDO_dest\"}, inplace = True) \n",
    "od22.rename(columns= {\"NUM_CNPJ_ADMINISTRADOR_BASE\":\"NUM_CNPJ_ADMINISTRADOR_BASE_dest\"}, inplace = True) \n",
    "od22.rename(columns= {\"DAT_MESANO_VIGENCIA_INICIAL\":\"DAT_MESANO_VIGENCIA_INICIAL_dest\"}, inplace = True) \n",
    "od22.rename(columns= {\"DAT_MESANO_VIGENCIA_FINAL\":\"DAT_MESANO_VIGENCIA_FINAL_dest\"}, inplace = True) \n",
    "od22.rename(columns= {\"COD_INSTAL\":\"COD_INSTAL_dest\"}, inplace = True) \n",
    "od22.rename(columns= {\"ATIVO\":\"ATIVO_dest\"}, inplace = True) \n",
    "\n",
    "od22.info()\n",
    "\n",
    "od22['ATIVO_orig'].value_counts()\n",
    "\n",
    "od22['ATIVO_dest'].value_counts()\n",
    "\n",
    "od22['QUALIF_DEST'].value_counts()\n",
    "\n",
    "od22['ds'].value_counts(dropna=False)\n",
    "\n",
    "od22[['TIPO_EXTRACAO']].value_counts()\n",
    "\n",
    "od22.info()\n",
    "\n",
    "od22['QUALIF_DEST'].value_counts(dropna=False)\n",
    "\n",
    "od22['Mês'].value_counts(dropna=False)\n",
    "\n",
    "od22['COD_INSTALACAO_dest'].value_counts(dropna=False)\n",
    "\n",
    "#### homologação\n",
    "\n",
    "df22['VolANP'].sum()\n",
    "\n",
    "df22['QUALIF_DEST'].value_counts()\n",
    "\n",
    "#### homologações\n",
    "\n",
    "od22.loc[(od22['NOM_ESTADO_dest'] == 'AMAZONAS')]['VolANP'].sum()\n",
    "\n",
    "od22.loc[(od22.NOM_ESTADO_dest == 'AMAZONAS') & (od22.NOM_MUNICIPIO_dest == 'MANAUS')]['VolANP'].sum()\n",
    "\n",
    "od22['COD_INSTALACAO_DEST'].isnull().sum()\n",
    "\n",
    "od22['NOM_ESTADO_dest'].isnull().sum()\n",
    "\n",
    "od22.loc[(od22.SIG_UF_DEST == 'AM') & (od22.NOM_ESTADO_dest == 'AMAZONAS')][['SIG_UF_DEST','NOM_ESTADO_dest']].value_counts()\n",
    "\n",
    "od22.loc[(od22.SIG_UF_DEST == 'AM') & (od22.NOM_ESTADO_dest == 'AMAZONAS')][['SIG_UF_DEST','NOM_ESTADO_dest']].isnull().sum()\n",
    "\n",
    "od22.loc[(od22.SIG_UF_DEST == 'AM') & (od22.NOM_ESTADO_dest == 'AMAZONAS')][['SIG_UF_DEST','NOM_ESTADO_dest','VolANP']].sort_values(by=['VolANP'], ascending=True)\n",
    "\n",
    "od22.info()\n",
    "\n",
    "# separando a o df em COD_INSTALACAO_dest vazio e não vazio\n",
    "\n",
    "od22_Nan = od22[od22['COD_INSTALACAO_dest'].isnull()]\n",
    "\n",
    "\n",
    "od22_Nan['COD_INSTALACAO_dest'].isnull().sum()\n",
    "\n",
    "od22_Nan['VolANP'].sum()\n",
    "\n",
    "od22notn = od22[od22['COD_INSTALACAO_dest'].notnull()]\n",
    "\n",
    "\n",
    "od22notn['COD_INSTALACAO_dest'].notnull().count()\n",
    "\n",
    "od22notn['COD_INSTALACAO_dest'].isnull().sum()\n",
    "\n",
    "#### criando Grupo de empresas\n",
    "\n",
    "od22notn['NOM_RAZAO_SOCIAL_orig'].value_counts()\n",
    "\n",
    "od22notn['NOM_RAZAO_SOCIAL_orig'].value_counts(dropna = False)\n",
    "\n",
    "od22notn.loc[(od22notn['NOM_RAZAO_SOCIAL_orig'] == 'VIBRA ENERGIA S.A'), 'GRUPO'] = 'VIBRA'\n",
    "\n",
    "od22notn.loc[(od22notn['NOM_RAZAO_SOCIAL_orig'] == 'RAIZEN S.A.'), 'GRUPO'] = 'RAIZEN'\n",
    "\n",
    "od22notn.loc[(od22notn['NOM_RAZAO_SOCIAL_orig'] == 'RAIZEN MIME COMBUSTIVEIS S/A.'), 'GRUPO'] = 'RAIZEN'\n",
    "\n",
    "od22notn.loc[(od22notn['NOM_RAZAO_SOCIAL_orig'] == 'IPIRANGA PRODUTOS DE PETRÓLEO S.A'), 'GRUPO'] = 'IPIRANGA'\n",
    "\n",
    "od22notn['GRUPO'] = od22notn['GRUPO'].fillna('OUTRAS NP')\n",
    "\n",
    "od22notn['GRUPO'].value_counts(dropna=False)\n",
    "\n",
    "# criando a chave para agregar Vol \n",
    "\n",
    "od22notn.info()\n",
    "\n",
    "### agrupamento - dimensão \n",
    "#### COD_INSTALACAO_ORIG + COD_INSTALACAO_DEST + ds\n",
    "\n",
    "\n",
    "od22notn['inst'] = od22notn['QUALIF_DEST'].astype(str) +\"|\"+ od22notn['COD_INSTALACAO_ORIG'].astype(str) +\"|\"+ od22notn['COD_INSTALACAO_DEST'].astype(str)+\"|\"+ od22notn['ds'].astype(str)\n",
    "\n",
    "od22notn['instd'] = od22notn['QUALIF_DEST'].astype(str) +\"|\"+ od22notn['COD_INSTALACAO_DEST'].astype(str)+\"|\"+ od22notn['ds'].astype(str)\n",
    "\n",
    "od22notn['insto'] = od22notn['QUALIF_DEST'].astype(str) +\"|\"+ od22notn['COD_INSTALACAO_ORIG'].astype(str)+\"|\"+ od22notn['ds'].astype(str)\n",
    "\n",
    "od22notn['inst'].value_counts().head()\n"
   ]
  },
  {
   "cell_type": "code",
   "execution_count": null,
   "id": "f065da82",
   "metadata": {},
   "outputs": [],
   "source": [
    "\n",
    "od22notn_labels = od22notn[[\"inst\",\"instd\",\"insto\",\"Mês\",\n",
    "                            \"COD_INSTALACAO_ORIG\",\n",
    "                            \"COD_INSTALACAO_DEST\",\n",
    "                            \"TIPO_EXTRACAO\",\n",
    "                            \"SIG_UF_ORIG\",\n",
    "                            \"SIG_REGIAO_ORIG\",\n",
    "                            \"SIG_UF_DEST\",\n",
    "                            \"SIG_REGIAO_DEST\",\n",
    "                            \"QUALIF_DEST\",\n",
    "                            \"RAZAO_SOCIAL_DEST\",\n",
    "                            \"C_UF\",\n",
    "                            \"C_REGIAO\",\n",
    "                            \"C2_LOCALIZAÇÃO\",\n",
    "                            \"C_UF_Restrito\",\n",
    "                            \"Num mês\",\n",
    "                            \"ds\",\n",
    "                            \"COD_INSTALACAO_orig\",\n",
    "                            \"NUM_CNPJ_INSTALACAO_orig\",\n",
    "                            \"NOM_RAZAO_SOCIAL_orig\",\n",
    "                            \"NUM_CEP_orig\",\n",
    "                            \"TXT_ENDERECO_orig\",\n",
    "                            \"NUM_NUMERO_orig\",\n",
    "                            \"TXT_COMPLEMENTO_orig\",\n",
    "                            \"NOM_BAIRRO_orig\",\n",
    "                            \"NOM_MUNICIPIO_orig\",\n",
    "                            \"NOM_ESTADO_orig\",\n",
    "                            \"NUM_AUTORIZACAO_orig\",\n",
    "                            \"DAT_PUBLICACAO_orig\",\n",
    "                            \"TXT_STATUS_orig\",\n",
    "                            \"TXT_TIPO_INSTALACAO_orig\",\n",
    "                            \"NOM_REDUZIDO_orig\",\n",
    "                            \"NUM_CNPJ_ADMINISTRADOR_BASE_orig\",\n",
    "                            \"DAT_MESANO_VIGENCIA_INICIAL_orig\",\n",
    "                            \"DAT_MESANO_VIGENCIA_FINAL_orig\",\n",
    "                            \"COD_INSTAL_orig\",\n",
    "                            \"ATIVO_orig\",\n",
    "                            \"COD_INSTALACAO_dest\",\n",
    "                            \"NUM_CNPJ_INSTALACAO_dest\",\n",
    "                            \"NOM_RAZAO_SOCIAL_dest\",\n",
    "                            \"NUM_CEP_dest\",\n",
    "                            \"TXT_ENDERECO_dest\",\n",
    "                            \"NUM_NUMERO_dest\",\n",
    "                            \"TXT_COMPLEMENTO_dest\",\n",
    "                            \"NOM_BAIRRO_dest\",\n",
    "                            \"NOM_MUNICIPIO_dest\",\n",
    "                            \"NOM_ESTADO_dest\",\n",
    "                            \"NUM_AUTORIZACAO_dest\",\n",
    "                            \"DAT_PUBLICACAO_dest\",\n",
    "                            \"TXT_STATUS_dest\",\n",
    "                            \"TXT_TIPO_INSTALACAO_dest\",\n",
    "                            \"NOM_REDUZIDO_dest\",\n",
    "                            \"NUM_CNPJ_ADMINISTRADOR_BASE_dest\",\n",
    "                            \"DAT_MESANO_VIGENCIA_INICIAL_dest\",\n",
    "                            \"DAT_MESANO_VIGENCIA_FINAL_dest\",\n",
    "                            \"COD_INSTAL_dest\",\n",
    "                            \"ATIVO_dest\",\n",
    "                            \"GRUPO\"]].drop_duplicates(subset='inst')\n",
    "\n",
    "\n",
    "od22notn_ = od22notn.groupby([\"inst\"])\n",
    "cinst = od22notn_.agg({\"VolANP\":\"sum\"}).reset_index()\n",
    "\n",
    "od22notn_ = od22notn.groupby([\"instd\"])\n",
    "cinstdest = od22notn_.agg({\"VolANP\":\"sum\"}).reset_index()\n",
    "cinstdest.rename(columns= {'VolANP':'Voldest'}, inplace = True)\n",
    "\n",
    "od22notn_ = od22notn.groupby([\"insto\"])\n",
    "cinstorig = od22notn_.agg({\"VolANP\":\"sum\"}).reset_index()\n",
    "cinstorig.rename(columns= {'VolANP':'Volorig'}, inplace = True)\n",
    "\n",
    "od22notn_labels = od22notn_labels.merge(cinst , how='left', on = ['inst'])\n",
    "\n",
    "od22notn_labels = od22notn_labels.merge(cinstdest , how='left', on = ['instd'])\n",
    "\n",
    "od22notn_labels = od22notn_labels.merge(cinstorig , how='left', on = ['insto'])\n",
    "\n",
    "#### homologação\n",
    "\n",
    "od22notn['VolANP'].sum()\n",
    "\n",
    "(od22_Nan['VolANP'].sum() + od22notn['VolANP'].sum()) - df22['VolANP'].sum()\n",
    "\n",
    "od22notn['QUALIF_DEST'].value_counts()\n",
    "\n",
    "cinst['VolANP'].sum()\n",
    "\n",
    "cinstdest['Voldest'].sum()\n",
    "\n",
    "cinstorig['Volorig'].sum()\n",
    "\n",
    "cinst['VolANP'].sum() - cinstdest['Voldest'].sum()\n",
    "\n",
    "cinst['VolANP'].sum() - cinstorig['Volorig'].sum()\n",
    "\n",
    "# inst  - instalação origem - destino - mês\n",
    "\n",
    "print(cinst.info())\n",
    "print(cinst)\n",
    "\n",
    "# instd  - instalação destino - mês\n",
    "\n",
    "print(cinstdest.info())\n",
    "print(cinstdest)\n",
    "\n",
    "# insto  - instalação origem - mês\n",
    "\n",
    "print(cinstorig.info())\n",
    "print(cinstorig)\n",
    "\n",
    "#### retomando od22\n",
    "\n",
    "od22 = od22notn_labels\n",
    "\n",
    "od22[['RAZAO_SOCIAL_DEST','NOM_RAZAO_SOCIAL_dest','inst','instd','insto','VolANP','Voldest','Volorig','GRUPO','ds']].sort_values(by=['ds'], ascending=False)\n",
    "\n",
    "od22['share_instal'] =  od22['VolANP']/od22['Voldest']\n",
    "\n",
    "od22[\"ds\"] = od22[\"ds\"].apply(pd.to_datetime)\n",
    "\n",
    "od22.loc[(od22['RAZAO_SOCIAL_DEST'] == 'ENERGETICA SERRANOPOLIS LTDA')][['RAZAO_SOCIAL_DEST','NOM_RAZAO_SOCIAL_dest','inst','instd','insto','VolANP','Voldest','Volorig','GRUPO','NOM_RAZAO_SOCIAL_orig','share_instal']].head()\n",
    "\n",
    "od22['ds'].dtype\n",
    "\n",
    "od22.loc[(od22['COD_INSTALACAO_DEST'] == 1108572)][['RAZAO_SOCIAL_DEST','NOM_RAZAO_SOCIAL_dest','inst','instd','insto','ds','VolANP','Voldest','share_instal','Volorig','GRUPO','NOM_RAZAO_SOCIAL_orig','NOM_MUNICIPIO_dest','NOM_MUNICIPIO_dest']].sort_values(by=['ds'], ascending=True)\n",
    "\n",
    "px.line(\n",
    "    (od22\n",
    "     .query(\"COD_INSTALACAO_DEST == 1108572\")\n",
    "     \n",
    "    ), \n",
    "    x=\"ds\", \n",
    "    y=\"share_instal\",\n",
    "    color=\"COD_INSTALACAO_ORIG\",\n",
    "   \n",
    ")\n",
    "\n",
    "px.line(\n",
    "    (od22\n",
    "     .query(\"COD_INSTALACAO_DEST == 1108572\")\n",
    "     \n",
    "    ), \n",
    "    x=\"ds\", \n",
    "    y=\"share_instal\",\n",
    "    color=\"NOM_MUNICIPIO_orig\",\n",
    "   \n",
    ")\n",
    "\n",
    "od22.loc[(od22['COD_INSTALACAO_DEST'] == 1108572)][['RAZAO_SOCIAL_DEST','NOM_RAZAO_SOCIAL_dest','inst','instd','insto','ds','VolANP','Voldest','share_instal','Volorig','GRUPO','NOM_RAZAO_SOCIAL_orig','NOM_MUNICIPIO_dest','NOM_MUNICIPIO_dest']].sort_values(by=['ds'], ascending=True)\n",
    "\n",
    "### CNPJ_BASICO\n",
    "\n",
    "od22['NUM_CNPJ_INSTALACAO_dest'].value_counts().head()\n",
    "\n",
    "od22['NUM_CNPJ_INSTALACAO_dest_str'] = od22['NUM_CNPJ_INSTALACAO_dest'].astype(str)\n",
    "\n",
    "od22['CNPJ_BASICO_dest'] = od22['NUM_CNPJ_INSTALACAO_dest_str'].str[:8]\n",
    "\n",
    "od22['CNPJ_BASICO_dest'].value_counts().head()\n",
    "\n",
    "od22[['CNPJ_BASICO_dest','SIG_UF_DEST']].value_counts().head()\n",
    "\n",
    "od22['NUM_CNPJ_INSTALACAO_orig_str'] = od22['NUM_CNPJ_INSTALACAO_orig'].astype(str)\n",
    "\n",
    "od22['CNPJ_BASICO_orig'] = od22['NUM_CNPJ_INSTALACAO_orig_str'].str[:8]\n",
    "\n",
    "od22[['CNPJ_BASICO_orig','SIG_UF_ORIG']].value_counts().head()\n",
    "\n",
    "od22.info()\n",
    "\n",
    "od22[['inst','NOM_REDUZIDO_dest','NOM_REDUZIDO_orig','GRUPO','ds','VolANP','Voldest','Volorig','share_instal']].head(10)\n",
    "\n",
    "od22['instd'].value_counts()\n",
    "\n",
    "## pegando o valor do mês anterior na dimensão instalação origem-destino-canal\n",
    "\n",
    "od22['GRUPO_munic_dest'] = od22['COD_INSTALACAO_ORIG'].astype(str) +\"|\"+ od22['COD_INSTALACAO_DEST'].astype(str) +\"|\"+ od22['QUALIF_DEST'] \n",
    "\n",
    "od22['prev_value_inst'] = od22.sort_values(by=['inst']).groupby('GRUPO_munic_dest')['VolANP'].shift(1)\n",
    "\n",
    "od22['inst'].value_counts()\n",
    "\n",
    "od22['NOM_ESTADO_dest'].value_counts()\n",
    "\n",
    "od22.loc[(od22['COD_INSTALACAO_DEST'] == 1245711)][['RAZAO_SOCIAL_DEST','inst','instd','ds','VolANP','prev_value_inst','share_instal','GRUPO_munic_dest','GRUPO']].sort_values(by=['instd'], ascending=True).head(40)\n",
    "\n",
    "# MtoM na dimensão instalação origem-destino-canal\n",
    "\n",
    "od22['dif_u_compra'] = od22['VolANP'] - od22['prev_value_inst']\n",
    "\n",
    "od22['dif_u_compra_%'] = (od22['dif_u_compra']/ od22['prev_value_inst'])*100\n",
    "\n",
    "od22.loc[(od22['COD_INSTALACAO_DEST'] == 1245711)][['RAZAO_SOCIAL_DEST','inst','instd','ds','VolANP','prev_value_inst','dif_u_compra','dif_u_compra_%','share_instal','GRUPO_munic_dest','GRUPO']].sort_values(by=['instd'], ascending=True).head(40)\n",
    "\n",
    "# cluster crescimento x decréscimo na dimensão instalação origem-destino-canal\n",
    "\n",
    "# cluster \n",
    "conditions = [\n",
    "    (od22['dif_u_compra_%'] <= 0.0) ,\n",
    "    (od22['dif_u_compra_%'] > 0.0)]\n",
    "\n",
    "choices = ['diminuiu','cresceu']\n",
    "\n",
    "od22['flag_dif_u_compra'] = np.select(conditions, choices, default='sem_grupo')\n",
    "print(od22)\n",
    "\n",
    "od22[['VolANP','prev_value_inst','dif_u_compra','dif_u_compra_%','flag_dif_u_compra']].tail(60)\n",
    "\n",
    "od22['ds'].nunique()\n",
    "\n",
    "od22['ds'].value_counts()\n",
    "\n",
    "od22.info()\n",
    "\n",
    "# Acumulando dados na dimensão orig - destino - canal mes a mes\n",
    "\n",
    "od22 = od22.sort_values(by=['inst'], ascending=True)\n",
    "\n",
    "od22['VolANP_acum'] = od22.groupby(['QUALIF_DEST','COD_INSTALACAO_ORIG','COD_INSTALACAO_DEST'])['VolANP'].apply(lambda x: x.cumsum())\n",
    "\n",
    "od22.info() \n",
    "\n",
    "od22['share_instal'] = round(od22['share_instal'], 2)\n",
    "\n",
    "od22.loc[(od22['COD_INSTALACAO_DEST'] == 1245711)][['RAZAO_SOCIAL_DEST','inst','ds','COD_INSTALACAO_ORIG','COD_INSTALACAO_DEST','VolANP','VolANP_acum','Voldest','share_instal','GRUPO']].head(40)\n",
    "\n",
    "od22 = round(od22, 2)\n",
    "\n",
    "od22.info()\n",
    "\n",
    "od22[['VolANP','Voldest','share_instal','prev_value_inst','dif_u_compra','dif_u_compra_%','flag_dif_u_compra','VolANP_acum']]\n",
    "\n",
    "#### homologação\n",
    "\n",
    "df22['VolANP'].sum() - (od22['VolANP'].sum() + od22_Nan['VolANP'].sum())\n",
    "\n",
    "od22.info()\n",
    "\n",
    "od22['Mês'].value_counts()"
   ]
  },
  {
   "cell_type": "markdown",
   "id": "501bec7d",
   "metadata": {},
   "source": [
    "# concatenando 2022 com 2023"
   ]
  },
  {
   "cell_type": "code",
   "execution_count": null,
   "id": "a3f7d49f",
   "metadata": {},
   "outputs": [],
   "source": [
    "od22.shape + od23.shape"
   ]
  },
  {
   "cell_type": "code",
   "execution_count": null,
   "id": "72f68f9e",
   "metadata": {},
   "outputs": [],
   "source": [
    "od2223 = pd.concat([od22,od23])\n",
    "od2223.shape"
   ]
  },
  {
   "cell_type": "code",
   "execution_count": null,
   "id": "078be25b",
   "metadata": {},
   "outputs": [],
   "source": [
    "od2223.info()"
   ]
  },
  {
   "cell_type": "code",
   "execution_count": null,
   "id": "c9b070e5",
   "metadata": {},
   "outputs": [],
   "source": [
    "od2223['ds'].value_counts(dropna = False)"
   ]
  },
  {
   "cell_type": "code",
   "execution_count": null,
   "id": "c3f80ee5",
   "metadata": {},
   "outputs": [],
   "source": [
    "od23_clusters.info()"
   ]
  },
  {
   "cell_type": "code",
   "execution_count": null,
   "id": "c9c34587",
   "metadata": {},
   "outputs": [],
   "source": [
    "od2223['GRUPO_munic_dest'].value_counts()"
   ]
  },
  {
   "cell_type": "code",
   "execution_count": null,
   "id": "c8c73b84",
   "metadata": {},
   "outputs": [],
   "source": [
    "od23_clusters.info()"
   ]
  },
  {
   "cell_type": "code",
   "execution_count": null,
   "id": "78890bb0",
   "metadata": {},
   "outputs": [],
   "source": [
    "od23_clusters.loc[(od23_clusters['NOM_RAZAO_SOCIAL_dest'] == \"MRS LOGÍSTICA S/A\")]['faixa_razao'].value_counts()"
   ]
  },
  {
   "cell_type": "code",
   "execution_count": null,
   "id": "fff7ed80",
   "metadata": {},
   "outputs": [],
   "source": [
    "faixa_razao = od23_clusters[['NOM_RAZAO_SOCIAL_dest','faixa_razao']].drop_duplicates()\n",
    "faixa_razao.info()"
   ]
  },
  {
   "cell_type": "code",
   "execution_count": null,
   "id": "71789dc6",
   "metadata": {},
   "outputs": [],
   "source": [
    "od23['COD_INSTALACAO_ORIG'].value_counts(dropna=False)"
   ]
  },
  {
   "cell_type": "code",
   "execution_count": null,
   "id": "04c6a362",
   "metadata": {},
   "outputs": [],
   "source": [
    "od23['COD_INSTALACAO_ORIG'].isna().sum()"
   ]
  },
  {
   "cell_type": "code",
   "execution_count": null,
   "id": "08c79232",
   "metadata": {},
   "outputs": [],
   "source": [
    "od23['COD_INSTALACAO_DEST'].value_counts(dropna=False)"
   ]
  },
  {
   "cell_type": "code",
   "execution_count": null,
   "id": "529185cc",
   "metadata": {},
   "outputs": [],
   "source": [
    "od23['COD_INSTALACAO_DEST'].isna().sum()"
   ]
  },
  {
   "cell_type": "code",
   "execution_count": null,
   "id": "4b61a11c",
   "metadata": {},
   "outputs": [],
   "source": [
    "od23['QUALIF_DEST'].value_counts(dropna=False)"
   ]
  },
  {
   "cell_type": "code",
   "execution_count": null,
   "id": "dc833538",
   "metadata": {},
   "outputs": [],
   "source": [
    "od23['QUALIF_DEST'].isna().sum()"
   ]
  },
  {
   "cell_type": "code",
   "execution_count": null,
   "id": "4c64ac81",
   "metadata": {},
   "outputs": [],
   "source": [
    "od22['COD_INSTALACAO_ORIG'].value_counts(dropna=False)"
   ]
  },
  {
   "cell_type": "code",
   "execution_count": null,
   "id": "0c252f1b",
   "metadata": {},
   "outputs": [],
   "source": [
    "od22['COD_INSTALACAO_ORIG'].isna().sum()"
   ]
  },
  {
   "cell_type": "code",
   "execution_count": null,
   "id": "af2ba079",
   "metadata": {},
   "outputs": [],
   "source": [
    "od22['COD_INSTALACAO_DEST'].value_counts(dropna=False)"
   ]
  },
  {
   "cell_type": "code",
   "execution_count": null,
   "id": "8c52794c",
   "metadata": {},
   "outputs": [],
   "source": [
    "od22['COD_INSTALACAO_DEST'].isna().sum()"
   ]
  },
  {
   "cell_type": "code",
   "execution_count": null,
   "id": "734a05c0",
   "metadata": {},
   "outputs": [],
   "source": [
    "od22['QUALIF_DEST'].value_counts(dropna=False)"
   ]
  },
  {
   "cell_type": "code",
   "execution_count": null,
   "id": "0994b4f8",
   "metadata": {},
   "outputs": [],
   "source": [
    "od22['QUALIF_DEST'].isna().sum()"
   ]
  },
  {
   "cell_type": "code",
   "execution_count": null,
   "id": "b18d729e",
   "metadata": {},
   "outputs": [],
   "source": [
    "od2223['COD_INSTALACAO_ORIG'].value_counts(dropna=False)"
   ]
  },
  {
   "cell_type": "code",
   "execution_count": null,
   "id": "69753fef",
   "metadata": {},
   "outputs": [],
   "source": [
    "od2223['COD_INSTALACAO_ORIG'].isna().sum()"
   ]
  },
  {
   "cell_type": "code",
   "execution_count": null,
   "id": "8f64736e",
   "metadata": {},
   "outputs": [],
   "source": [
    "od2223['COD_INSTALACAO_DEST'].value_counts(dropna=False)"
   ]
  },
  {
   "cell_type": "code",
   "execution_count": null,
   "id": "bb7e4a2c",
   "metadata": {},
   "outputs": [],
   "source": [
    "od2223['COD_INSTALACAO_DEST'].isna().sum()"
   ]
  },
  {
   "cell_type": "code",
   "execution_count": null,
   "id": "6388b142",
   "metadata": {},
   "outputs": [],
   "source": [
    "od2223['QUALIF_DEST'].value_counts(dropna=False)"
   ]
  },
  {
   "cell_type": "code",
   "execution_count": null,
   "id": "93fe18c5",
   "metadata": {},
   "outputs": [],
   "source": [
    "od2223['QUALIF_DEST'].isna().sum()"
   ]
  },
  {
   "cell_type": "code",
   "execution_count": null,
   "id": "afa521e7",
   "metadata": {},
   "outputs": [],
   "source": [
    "od2223['QUALIF_DEST'].value_counts()"
   ]
  },
  {
   "cell_type": "code",
   "execution_count": null,
   "id": "e7c30b1e",
   "metadata": {},
   "outputs": [],
   "source": [
    "#od2223.loc[(od2223.QUALIF_DEST == \"CONSUMIDOR FINAL\") , 'QUALIF_DEST_N'] = 10\n",
    "#od2223.loc[(od2223.QUALIF_DEST == \"TRR\") , 'QUALIF_DEST_N'] = 20"
   ]
  },
  {
   "cell_type": "code",
   "execution_count": null,
   "id": "f07ff30d",
   "metadata": {},
   "outputs": [],
   "source": [
    "#od2223['QUALIF_DEST_N'].value_counts(dropna=False)"
   ]
  },
  {
   "cell_type": "code",
   "execution_count": null,
   "id": "a47723e1",
   "metadata": {},
   "outputs": [],
   "source": [
    "od2223['orig_dest'] = od2223['COD_INSTALACAO_ORIG'].astype(str) +\"|\"+ od2223['COD_INSTALACAO_DEST'].astype(str) +\"|\"+ od2223['QUALIF_DEST'] "
   ]
  },
  {
   "cell_type": "code",
   "execution_count": null,
   "id": "b74acca6",
   "metadata": {},
   "outputs": [],
   "source": [
    "od2223['orig_dest'].value_counts(dropna=False)"
   ]
  },
  {
   "cell_type": "code",
   "execution_count": null,
   "id": "54aeb607",
   "metadata": {},
   "outputs": [],
   "source": [
    "od2223['orig_dest'].isna().sum()"
   ]
  },
  {
   "cell_type": "code",
   "execution_count": null,
   "id": "68ed7b82",
   "metadata": {},
   "outputs": [],
   "source": [
    "faixa_razao.info()"
   ]
  },
  {
   "cell_type": "code",
   "execution_count": null,
   "id": "124196f3",
   "metadata": {},
   "outputs": [],
   "source": [
    "faixa_razao['NOM_RAZAO_SOCIAL_dest'].value_counts(dropna=False)"
   ]
  },
  {
   "cell_type": "code",
   "execution_count": null,
   "id": "4ab520d5",
   "metadata": {},
   "outputs": [],
   "source": [
    "df = od2223.merge(faixa_razao, how='left', on = ['NOM_RAZAO_SOCIAL_dest'])"
   ]
  },
  {
   "cell_type": "code",
   "execution_count": null,
   "id": "493c576a",
   "metadata": {},
   "outputs": [],
   "source": [
    "df = df.drop(['ds_str'], axis=1)\n",
    "df = df.drop(['ano'], axis=1)\n",
    "df = df.drop(['mes'], axis=1)\n",
    "df = df.drop(['dia'], axis=1)\n",
    "df = df.drop(['instd_ano'], axis=1)\n",
    "df = df.drop(['insto_ano'], axis=1)\n",
    "df = df.drop(['DAT_MESANO_VIGENCIA_FINAL_dest'], axis=1)\n",
    "df = df.drop(['NOM_REDUZIDO_dest'], axis=1)\n",
    "df = df.drop(['NUM_AUTORIZACAO_dest'], axis=1)\n",
    "df = df.drop(['DAT_PUBLICACAO_dest'], axis=1)\n",
    "df = df.drop(['TXT_COMPLEMENTO_orig'], axis=1)"
   ]
  },
  {
   "cell_type": "code",
   "execution_count": null,
   "id": "d653e930",
   "metadata": {},
   "outputs": [],
   "source": [
    "df = df.drop(['GRUPO_munic_dest'], axis=1)"
   ]
  },
  {
   "cell_type": "code",
   "execution_count": null,
   "id": "58d8f2a8",
   "metadata": {},
   "outputs": [],
   "source": [
    "df = df.drop(['DAT_MESANO_VIGENCIA_FINAL_orig'], axis=1)"
   ]
  },
  {
   "cell_type": "code",
   "execution_count": null,
   "id": "ae0e5873",
   "metadata": {},
   "outputs": [],
   "source": [
    "df = df.drop(['TXT_COMPLEMENTO_dest'], axis=1)\n",
    "df = df.drop(['NUM_AUTORIZACAO_orig'], axis=1)\n",
    "df = df.drop(['DAT_PUBLICACAO_orig'], axis=1)"
   ]
  },
  {
   "cell_type": "code",
   "execution_count": null,
   "id": "40ff4e14",
   "metadata": {},
   "outputs": [],
   "source": [
    "df.info()"
   ]
  },
  {
   "cell_type": "code",
   "execution_count": null,
   "id": "ea78c57a",
   "metadata": {},
   "outputs": [],
   "source": [
    "df.loc[(df['NOM_RAZAO_SOCIAL_dest'] == \"MRS LOGÍSTICA S/A\")]['faixa_razao'].value_counts()"
   ]
  },
  {
   "cell_type": "code",
   "execution_count": null,
   "id": "cc72c105",
   "metadata": {},
   "outputs": [],
   "source": [
    "plt.figure(figsize=(13,8))\n",
    "ax = sns.boxplot(x=df[\"VolANP\"], y=df[\"faixa_razao\"], data=df)"
   ]
  },
  {
   "cell_type": "code",
   "execution_count": null,
   "id": "85c2637d",
   "metadata": {},
   "outputs": [],
   "source": [
    "df_group = df.groupby(\"faixa_razao\")"
   ]
  },
  {
   "cell_type": "code",
   "execution_count": null,
   "id": "3fc2510e",
   "metadata": {},
   "outputs": [],
   "source": [
    "df_group['VolANP'].max()"
   ]
  },
  {
   "cell_type": "code",
   "execution_count": null,
   "id": "74cc29f8",
   "metadata": {},
   "outputs": [],
   "source": [
    "df_group['VolANP'].min()"
   ]
  },
  {
   "cell_type": "code",
   "execution_count": null,
   "id": "8aff8686",
   "metadata": {},
   "outputs": [],
   "source": [
    "#df_group = df.groupby(\"faixa_razao\")\n",
    "#df_columns = df_group[[\"VolANP\"]]\n",
    "#df_columns.max()"
   ]
  },
  {
   "cell_type": "code",
   "execution_count": null,
   "id": "95fe0ef3",
   "metadata": {},
   "outputs": [],
   "source": [
    "#df_columns.min()"
   ]
  },
  {
   "cell_type": "code",
   "execution_count": null,
   "id": "9b503785",
   "metadata": {},
   "outputs": [],
   "source": [
    "od23_clusters.head()"
   ]
  },
  {
   "cell_type": "code",
   "execution_count": null,
   "id": "0b8b8218",
   "metadata": {},
   "outputs": [],
   "source": [
    "df.loc[(df['NOM_RAZAO_SOCIAL_dest'] == \"VALE S/A\")]['faixa_razao'].value_counts()"
   ]
  },
  {
   "cell_type": "code",
   "execution_count": null,
   "id": "3d43ff14",
   "metadata": {},
   "outputs": [],
   "source": [
    "df = df.drop(['VolANP_acum'], axis=1)"
   ]
  },
  {
   "cell_type": "code",
   "execution_count": null,
   "id": "e60c223d",
   "metadata": {},
   "outputs": [],
   "source": [
    "df.info()"
   ]
  },
  {
   "cell_type": "code",
   "execution_count": null,
   "id": "299e909b",
   "metadata": {},
   "outputs": [],
   "source": [
    "od23.sort_values(by=['inst'])[['inst','ds','COD_INSTALACAO_ORIG','COD_INSTALACAO_DEST','orig_dest','VolANP','prev_value_inst']].tail(20)"
   ]
  },
  {
   "cell_type": "code",
   "execution_count": null,
   "id": "f2a597e6",
   "metadata": {},
   "outputs": [],
   "source": [
    "df['preview_value'] = df.sort_values(by=['inst']).groupby('orig_dest')['VolANP'].shift(1)\n",
    "df['preview_value_2'] = df.sort_values(by=['inst']).groupby('orig_dest')['VolANP'].shift(2)\n",
    "df['preview_value_3'] = df.sort_values(by=['inst']).groupby('orig_dest')['VolANP'].shift(3)"
   ]
  },
  {
   "cell_type": "code",
   "execution_count": null,
   "id": "6be5e05a",
   "metadata": {},
   "outputs": [],
   "source": [
    "df.sort_values(by=['inst'])[['inst','ds','COD_INSTALACAO_ORIG','COD_INSTALACAO_DEST','orig_dest','VolANP','prev_value_inst','preview_value']].tail(60)"
   ]
  },
  {
   "cell_type": "code",
   "execution_count": null,
   "id": "1cd31008",
   "metadata": {},
   "outputs": [],
   "source": [
    "(df['ds'] == '2022-12-01').value_counts()"
   ]
  },
  {
   "cell_type": "code",
   "execution_count": null,
   "id": "c921cf9f",
   "metadata": {},
   "outputs": [],
   "source": [
    "mask = (df['ds'] > '2022-11-01') & (df['ds'] <= '2023-01-01')\n",
    "df.loc[mask][['inst','ds','COD_INSTALACAO_ORIG','COD_INSTALACAO_DEST','orig_dest','VolANP','prev_value_inst','preview_value','preview_value_2','preview_value_3']].sort_values(by=['orig_dest'])\n"
   ]
  },
  {
   "cell_type": "code",
   "execution_count": null,
   "id": "1d40e197",
   "metadata": {},
   "outputs": [],
   "source": [
    "df['window_3m'] = (df['preview_value'] + df['preview_value_2'] + df['preview_value_3'])/3"
   ]
  },
  {
   "cell_type": "code",
   "execution_count": null,
   "id": "016e2a08",
   "metadata": {},
   "outputs": [],
   "source": [
    "# representatividade da janela de 3 meses em relação ao Volume total da base\n",
    "df['var'] = (df['window_3m']/df['VolANP'].sum())*100"
   ]
  },
  {
   "cell_type": "code",
   "execution_count": null,
   "id": "0677f37d",
   "metadata": {},
   "outputs": [],
   "source": [
    "df['preview_value_12'] = df.sort_values(by=['inst']).groupby('orig_dest')['VolANP'].shift(12)\n",
    "df['preview_window_3m_12'] = df.sort_values(by=['inst']).groupby('orig_dest')['window_3m'].shift(12)\n",
    "df['preview_var_12'] = df.sort_values(by=['inst']).groupby('orig_dest')['var'].shift(12)"
   ]
  },
  {
   "cell_type": "code",
   "execution_count": null,
   "id": "2beaddd2",
   "metadata": {},
   "outputs": [],
   "source": [
    "df.loc[(df['orig_dest'] == \"1000040|1204869|CONSUMIDOR FINAL\")][['ds','VolANP','preview_value_12','preview_value','preview_value_2','preview_value_3','window_3m','preview_window_3m_12','var','preview_var_12']].tail(60)\n"
   ]
  },
  {
   "cell_type": "code",
   "execution_count": null,
   "id": "f398ab58",
   "metadata": {},
   "outputs": [],
   "source": [
    "df.info()"
   ]
  },
  {
   "cell_type": "code",
   "execution_count": null,
   "id": "86abd11c",
   "metadata": {},
   "outputs": [],
   "source": [
    "df['ds_str'] = df['ds'].astype(str)\n",
    "df[['ano','mes','dia']] = df['ds_str'].str.split(\"-\",expand=True)\n",
    "\n"
   ]
  },
  {
   "cell_type": "markdown",
   "id": "2ca16f11",
   "metadata": {},
   "source": [
    "# criando os filtros de concorrência"
   ]
  },
  {
   "cell_type": "code",
   "execution_count": null,
   "id": "940ebb1b",
   "metadata": {},
   "outputs": [],
   "source": [
    "#separando apenas as empresas que compartilham compras com a RAIZEN\n",
    "filtro = df.loc[(df.share_instal >= 0) & (df.share_instal <= 1)]\n",
    "\n",
    "filtro = filtro.sort_values(by=['VolANP'], ascending=False)\n",
    "table = pd.pivot_table(filtro, values='share_instal', index=['instd'],\n",
    "                       columns=['GRUPO'], aggfunc=\"sum\")\n",
    "table = table.reset_index()\n",
    "table.info()"
   ]
  },
  {
   "cell_type": "code",
   "execution_count": null,
   "id": "c9b6cba8",
   "metadata": {},
   "outputs": [],
   "source": [
    "table"
   ]
  },
  {
   "cell_type": "code",
   "execution_count": null,
   "id": "28af9ca1",
   "metadata": {},
   "outputs": [],
   "source": [
    "ft = table.loc[(table.RAIZEN > 0) & (table.RAIZEN <= 1)]\n",
    "ft.tail()"
   ]
  },
  {
   "cell_type": "code",
   "execution_count": null,
   "id": "d6612bed",
   "metadata": {},
   "outputs": [],
   "source": [
    "col_list= list(ft)\n",
    "col_list.remove('instd')\n",
    "col_list.remove('RAIZEN')\n",
    "ft['sc'] = ft[col_list].sum(axis=1)\n",
    "# sc - share concorrência"
   ]
  },
  {
   "cell_type": "code",
   "execution_count": null,
   "id": "0e4e3c03",
   "metadata": {},
   "outputs": [],
   "source": [
    "ft.info()"
   ]
  },
  {
   "cell_type": "code",
   "execution_count": null,
   "id": "822a88f3",
   "metadata": {},
   "outputs": [],
   "source": [
    "ft"
   ]
  },
  {
   "cell_type": "code",
   "execution_count": null,
   "id": "95adac69",
   "metadata": {},
   "outputs": [],
   "source": [
    "ft['concorrencia'] = 1\n",
    "ft = ft[['instd','sc','concorrencia']]\n",
    "# sc share concorrência\n",
    "ft.info()"
   ]
  },
  {
   "cell_type": "code",
   "execution_count": null,
   "id": "ba722cc7",
   "metadata": {},
   "outputs": [],
   "source": [
    "ft"
   ]
  },
  {
   "cell_type": "code",
   "execution_count": null,
   "id": "8528419c",
   "metadata": {},
   "outputs": [],
   "source": [
    "ft = ft.merge(filtro, how='outer', on = ['instd'])\n",
    "ft = ft.sort_values(by=['VolANP'], ascending=False)\n"
   ]
  },
  {
   "cell_type": "code",
   "execution_count": null,
   "id": "69aa913a",
   "metadata": {},
   "outputs": [],
   "source": [
    "filtro_outliers_conc =  ft[['NOM_RAZAO_SOCIAL_dest','concorrencia']]\n",
    "mask = filtro_outliers_conc[\"concorrencia\"] == 1\n",
    "ft_out_conc = filtro_outliers_conc[mask]\n",
    "ft_out_conc.info()"
   ]
  },
  {
   "cell_type": "code",
   "execution_count": null,
   "id": "235f7eb7",
   "metadata": {},
   "outputs": [],
   "source": [
    "df['VolANP'].sum() - ft['VolANP'].sum()"
   ]
  },
  {
   "cell_type": "code",
   "execution_count": null,
   "id": "d9ec5721",
   "metadata": {},
   "outputs": [],
   "source": [
    "df.info()"
   ]
  },
  {
   "cell_type": "code",
   "execution_count": null,
   "id": "39b0c4b9",
   "metadata": {},
   "outputs": [],
   "source": [
    "ft.info()"
   ]
  },
  {
   "cell_type": "markdown",
   "id": "0f610e08",
   "metadata": {},
   "source": [
    "# Quadrantes - DADOS FILTRADOS NO MESMO PERÍODO DE 2023 e 2022"
   ]
  },
  {
   "cell_type": "code",
   "execution_count": null,
   "id": "b54d459e",
   "metadata": {},
   "outputs": [],
   "source": [
    "mask = ft[\"concorrencia\"] == 1\n",
    "ft_conc = ft[mask]\n",
    "#ft_conc.info()\n",
    "ft_conc['VolANP'].sum()"
   ]
  },
  {
   "cell_type": "code",
   "execution_count": null,
   "id": "99ccf8bc",
   "metadata": {},
   "outputs": [],
   "source": [
    "# início 2022\n",
    "#ini = ft_conc['ds'] == '2022-01-01'\n",
    "#start = ft_conc.loc[ini,'ds']\n",
    "#start"
   ]
  },
  {
   "cell_type": "code",
   "execution_count": null,
   "id": "25bef2ef",
   "metadata": {},
   "outputs": [],
   "source": [
    "#fim 2022\n",
    "fim = ft_conc['ds'].max() - relativedelta(months=12)\n",
    "fim"
   ]
  },
  {
   "cell_type": "code",
   "execution_count": null,
   "id": "8825b832",
   "metadata": {},
   "outputs": [],
   "source": [
    "fim"
   ]
  },
  {
   "cell_type": "code",
   "execution_count": null,
   "id": "f79755b0",
   "metadata": {},
   "outputs": [],
   "source": [
    "filtro22 = ft_conc['ds']<= fim\n",
    "ft_conc_filtro22 = pd.DataFrame(ft_conc[filtro22])\n",
    "ft_conc_filtro22['ds'].max()"
   ]
  },
  {
   "cell_type": "code",
   "execution_count": null,
   "id": "26b37498",
   "metadata": {},
   "outputs": [],
   "source": [
    "mask = ft_conc[\"ano\"] == \"2023\"\n",
    "ft_conc_filtro23 = ft_conc[mask]\n",
    "ft_conc_filtro23['ds'].max()"
   ]
  },
  {
   "cell_type": "code",
   "execution_count": null,
   "id": "ff111cf9",
   "metadata": {},
   "outputs": [],
   "source": [
    "ft_conc_filtro23['ds'].min()"
   ]
  },
  {
   "cell_type": "code",
   "execution_count": null,
   "id": "988118a3",
   "metadata": {},
   "outputs": [],
   "source": [
    "ft_conc_filtro = pd.concat([ft_conc_filtro22,ft_conc_filtro23])"
   ]
  },
  {
   "cell_type": "code",
   "execution_count": null,
   "id": "4555e103",
   "metadata": {},
   "outputs": [],
   "source": [
    "print(ft_conc_filtro['ds'].unique())"
   ]
  },
  {
   "cell_type": "code",
   "execution_count": null,
   "id": "7d2ca863",
   "metadata": {},
   "outputs": [],
   "source": [
    "# pivot table dim - ANO/razãosocial \n",
    "table = pd.pivot_table(ft_conc_filtro, values='VolANP', index=['NOM_RAZAO_SOCIAL_dest','ano'],\n",
    "                       columns=['GRUPO'], aggfunc=\"sum\")\n",
    "table = table.reset_index()\n",
    "table"
   ]
  },
  {
   "cell_type": "code",
   "execution_count": null,
   "id": "c1d0ef4a",
   "metadata": {},
   "outputs": [],
   "source": [
    "col_list= list(table)\n",
    "col_list.remove('NOM_RAZAO_SOCIAL_dest')\n",
    "col_list.remove('ano')\n",
    "table['VolANP'] = table[col_list].sum(axis=1)\n",
    "table['share_raizen'] = table['RAIZEN']/table['VolANP']\n",
    "table\n"
   ]
  },
  {
   "cell_type": "code",
   "execution_count": null,
   "id": "f9e25e56",
   "metadata": {},
   "outputs": [],
   "source": [
    "RAIZEN = table[['NOM_RAZAO_SOCIAL_dest','ano','VolANP','share_raizen']].sort_values(by=['VolANP'], ascending=False)\n",
    "RAIZEN"
   ]
  },
  {
   "cell_type": "code",
   "execution_count": null,
   "id": "e7517b21",
   "metadata": {},
   "outputs": [],
   "source": [
    "RAIZEN.head(10)"
   ]
  },
  {
   "cell_type": "code",
   "execution_count": null,
   "id": "7e6cbc90",
   "metadata": {},
   "outputs": [],
   "source": [
    "RAIZEN['VolANP'].sum()"
   ]
  },
  {
   "cell_type": "code",
   "execution_count": null,
   "id": "98c92ce4",
   "metadata": {},
   "outputs": [],
   "source": [
    " ft_conc['VolANP'].sum() - RAIZEN['VolANP'].sum()"
   ]
  },
  {
   "cell_type": "code",
   "execution_count": null,
   "id": "03d142f0",
   "metadata": {},
   "outputs": [],
   "source": [
    " ((ft_conc['VolANP'].sum() - RAIZEN['VolANP'].sum())/ft_conc['VolANP'].sum())*100"
   ]
  },
  {
   "cell_type": "markdown",
   "id": "28d50c31",
   "metadata": {},
   "source": [
    "# filtro queda share RAIZEN"
   ]
  },
  {
   "cell_type": "code",
   "execution_count": null,
   "id": "b734d7e9",
   "metadata": {},
   "outputs": [],
   "source": [
    "# pivot table dim - ANO/razãosocial \n",
    "table = pd.pivot_table(RAIZEN, values='share_raizen', index=['NOM_RAZAO_SOCIAL_dest'],\n",
    "                       columns=['ano'], aggfunc=\"sum\")\n",
    "table = table.reset_index()\n",
    "table"
   ]
  },
  {
   "cell_type": "code",
   "execution_count": null,
   "id": "21e89f06",
   "metadata": {},
   "outputs": [],
   "source": [
    "table.fillna(0, inplace = True)"
   ]
  },
  {
   "cell_type": "code",
   "execution_count": null,
   "id": "6bef3e11",
   "metadata": {},
   "outputs": [],
   "source": [
    "table['delta_share'] = table['2023'] - table['2022']"
   ]
  },
  {
   "cell_type": "code",
   "execution_count": null,
   "id": "d6966e0d",
   "metadata": {},
   "outputs": [],
   "source": [
    "table"
   ]
  },
  {
   "cell_type": "code",
   "execution_count": null,
   "id": "22c2b455",
   "metadata": {},
   "outputs": [],
   "source": [
    "table_share = table "
   ]
  },
  {
   "cell_type": "code",
   "execution_count": null,
   "id": "acc0b040",
   "metadata": {},
   "outputs": [],
   "source": [
    "table_share"
   ]
  },
  {
   "cell_type": "code",
   "execution_count": null,
   "id": "94cfd939",
   "metadata": {},
   "outputs": [],
   "source": [
    "mask0 = table[\"delta_share\"] < 0\n",
    "table_queda = table[mask0]\n",
    "table_queda"
   ]
  },
  {
   "cell_type": "code",
   "execution_count": null,
   "id": "c9fe03cd",
   "metadata": {},
   "outputs": [],
   "source": [
    "mask0 = table[\"delta_share\"] > 0\n",
    "table_up = table[mask0]\n",
    "table_up"
   ]
  },
  {
   "cell_type": "code",
   "execution_count": null,
   "id": "3bb7cced",
   "metadata": {},
   "outputs": [],
   "source": [
    "table_queda.shape"
   ]
  },
  {
   "cell_type": "code",
   "execution_count": null,
   "id": "cf071a47",
   "metadata": {},
   "outputs": [],
   "source": [
    "table_up.shape"
   ]
  },
  {
   "cell_type": "code",
   "execution_count": null,
   "id": "b0ef978a",
   "metadata": {},
   "outputs": [],
   "source": [
    "df['NOM_RAZAO_SOCIAL_dest'].nunique()"
   ]
  },
  {
   "cell_type": "code",
   "execution_count": null,
   "id": "a5833227",
   "metadata": {},
   "outputs": [],
   "source": [
    "ft['NOM_RAZAO_SOCIAL_dest'].nunique()"
   ]
  },
  {
   "cell_type": "markdown",
   "id": "46499ce6",
   "metadata": {},
   "source": [
    "# raizen"
   ]
  },
  {
   "cell_type": "code",
   "execution_count": null,
   "id": "dd4e5ac3",
   "metadata": {},
   "outputs": [],
   "source": [
    "QUALIF_DEST = df[['NOM_RAZAO_SOCIAL_dest','QUALIF_DEST']].drop_duplicates(subset=\"NOM_RAZAO_SOCIAL_dest\")\n",
    "QUALIF_DEST"
   ]
  },
  {
   "cell_type": "code",
   "execution_count": null,
   "id": "92f12428",
   "metadata": {},
   "outputs": [],
   "source": [
    "RAIZEN = RAIZEN.merge(QUALIF_DEST , how='inner', on = ['NOM_RAZAO_SOCIAL_dest'])\n",
    "RAIZEN"
   ]
  },
  {
   "cell_type": "code",
   "execution_count": null,
   "id": "46124327",
   "metadata": {},
   "outputs": [],
   "source": [
    "RAIZEN['VolANP'].sum()"
   ]
  },
  {
   "cell_type": "code",
   "execution_count": null,
   "id": "fc1a91a6",
   "metadata": {},
   "outputs": [],
   "source": [
    "RAIZEN[\"NOM_RAZAO_SOCIAL_dest\"].value_counts()"
   ]
  },
  {
   "cell_type": "code",
   "execution_count": null,
   "id": "86d192ed",
   "metadata": {},
   "outputs": [],
   "source": [
    "RAIZEN.loc[(RAIZEN['NOM_RAZAO_SOCIAL_dest'] == \"COTRIJAL COOPERATIVA AGROPECUARIA E INDUSTRIAL\")][['NOM_RAZAO_SOCIAL_dest','ano','VolANP','share_raizen','QUALIF_DEST']]"
   ]
  },
  {
   "cell_type": "code",
   "execution_count": null,
   "id": "1f0d8d43",
   "metadata": {},
   "outputs": [],
   "source": [
    "RAIZEN.loc[(RAIZEN['NOM_RAZAO_SOCIAL_dest'] == \"PETROVALE DERIVADOS DE PETROLEO LTDA\")][['NOM_RAZAO_SOCIAL_dest','ano','VolANP','share_raizen','QUALIF_DEST']]"
   ]
  },
  {
   "cell_type": "code",
   "execution_count": null,
   "id": "d7a9a45a",
   "metadata": {},
   "outputs": [],
   "source": [
    "RAIZEN.loc[(RAIZEN['NOM_RAZAO_SOCIAL_dest'] == \"COTRIJAL COOPERATIVA AGROPECUARIA E INDUSTRIAL\")][['NOM_RAZAO_SOCIAL_dest','ano','VolANP','share_raizen','QUALIF_DEST']]"
   ]
  },
  {
   "cell_type": "code",
   "execution_count": null,
   "id": "b54652b6",
   "metadata": {},
   "outputs": [],
   "source": [
    "mask0 = RAIZEN[\"ano\"] == \"2022\"\n",
    "mask1 = RAIZEN[\"ano\"] == \"2023\"\n",
    "RAIZEN_22 = RAIZEN[mask0]\n",
    "RAIZEN_23 = RAIZEN[mask1]"
   ]
  },
  {
   "cell_type": "code",
   "execution_count": null,
   "id": "9170a2d9",
   "metadata": {},
   "outputs": [],
   "source": [
    "RAIZEN_23.loc[(RAIZEN_23['NOM_RAZAO_SOCIAL_dest'] == \"COTRIJAL COOPERATIVA AGROPECUARIA E INDUSTRIAL\")][['NOM_RAZAO_SOCIAL_dest','ano','VolANP','share_raizen','QUALIF_DEST']]"
   ]
  },
  {
   "cell_type": "code",
   "execution_count": null,
   "id": "d89ee8f2",
   "metadata": {},
   "outputs": [],
   "source": [
    "RAIZEN_22.loc[(RAIZEN_22['NOM_RAZAO_SOCIAL_dest'] == \"COTRIJAL COOPERATIVA AGROPECUARIA E INDUSTRIAL\")][['NOM_RAZAO_SOCIAL_dest','ano','VolANP','share_raizen','QUALIF_DEST']]"
   ]
  },
  {
   "cell_type": "code",
   "execution_count": null,
   "id": "2a57ff2e",
   "metadata": {},
   "outputs": [],
   "source": [
    "ft['ano'].value_counts()"
   ]
  },
  {
   "cell_type": "code",
   "execution_count": null,
   "id": "5dc196c9",
   "metadata": {},
   "outputs": [],
   "source": [
    "mask = ft[\"ano\"] == \"2022\"\n",
    "mask1 = ft[\"ano\"] == \"2023\"\n",
    "\n",
    "ft22 = ft[mask]\n",
    "ft23 = ft[mask1]"
   ]
  },
  {
   "cell_type": "code",
   "execution_count": null,
   "id": "e6d454c2",
   "metadata": {},
   "outputs": [],
   "source": [
    "mask = ft22[\"faixa_razao\"] == \"outliers\"\n",
    "mask1 = ft22[\"faixa_razao\"] == \"grandes\"\n",
    "mask2 = ft22[\"faixa_razao\"] == \"medio_grandes\"\n",
    "mask3 = ft22[\"faixa_razao\"] == \"medio\"\n",
    "mask4 = ft22[\"faixa_razao\"] == \"pequeno_medio\"\n",
    "mask5 = ft22[\"faixa_razao\"] == \"pequenos\"\n",
    "mask6 = ft22[\"faixa_razao\"] == \"nanicos\"\n",
    "\n",
    "outliers22 = ft22[mask]\n",
    "grandes22 = ft22[mask1]\n",
    "medio_grandes22 = ft22[mask2]\n",
    "medio22 = ft22[mask3]\n",
    "pequeno_medio22 = ft22[mask4]\n",
    "pequenos22 = ft22[mask5]\n",
    "nanicos22 = ft22[mask6]"
   ]
  },
  {
   "cell_type": "code",
   "execution_count": null,
   "id": "3de3a887",
   "metadata": {},
   "outputs": [],
   "source": [
    "mask = ft23[\"faixa_razao\"] == \"outliers\"\n",
    "mask1 = ft23[\"faixa_razao\"] == \"grandes\"\n",
    "mask2 = ft23[\"faixa_razao\"] == \"medio_grandes\"\n",
    "mask3 = ft23[\"faixa_razao\"] == \"medio\"\n",
    "mask4 = ft23[\"faixa_razao\"] == \"pequeno_medio\"\n",
    "mask5 = ft23[\"faixa_razao\"] == \"pequenos\"\n",
    "mask6 = ft23[\"faixa_razao\"] == \"nanicos\"\n",
    "\n",
    "outliers23 = ft23[mask]\n",
    "grandes23 = ft23[mask1]\n",
    "medio_grandes23 = ft23[mask2]\n",
    "medio23 = ft23[mask3]\n",
    "pequeno_medio23 = ft23[mask4]\n",
    "pequenos23 = ft23[mask5]\n",
    "nanicos23 = ft23[mask6]"
   ]
  },
  {
   "cell_type": "code",
   "execution_count": null,
   "id": "bd2cafae",
   "metadata": {},
   "outputs": [],
   "source": [
    "nanicos23.info()"
   ]
  },
  {
   "cell_type": "code",
   "execution_count": null,
   "id": "5c41df4e",
   "metadata": {},
   "outputs": [],
   "source": [
    "outliers22_ = outliers22.groupby(['NOM_RAZAO_SOCIAL_dest','faixa_razao'])\n",
    "outliers22 = outliers22_.agg({\"VolANP\":\"sum\"}).reset_index()\n",
    "grandes22_ = grandes22.groupby(['NOM_RAZAO_SOCIAL_dest','faixa_razao'])\n",
    "grandes22 = grandes22_.agg({\"VolANP\":\"sum\"}).reset_index()\n",
    "medio_grandes22_ = medio_grandes22.groupby(['NOM_RAZAO_SOCIAL_dest','faixa_razao'])\n",
    "medio_grandes22 = medio_grandes22_.agg({\"VolANP\":\"sum\"}).reset_index()\n",
    "medio22_ = medio22.groupby(['NOM_RAZAO_SOCIAL_dest','faixa_razao'])\n",
    "medio22 = medio22_.agg({\"VolANP\":\"sum\"}).reset_index()\n",
    "pequeno_medio22_ = pequeno_medio22.groupby(['NOM_RAZAO_SOCIAL_dest','faixa_razao'])\n",
    "pequeno_medio22 = pequeno_medio22_.agg({\"VolANP\":\"sum\"}).reset_index()\n",
    "pequenos22_ = pequenos22.groupby(['NOM_RAZAO_SOCIAL_dest','faixa_razao'])\n",
    "pequenos22 = pequenos22_.agg({\"VolANP\":\"sum\"}).reset_index()\n",
    "nanicos22_ = nanicos22.groupby(['NOM_RAZAO_SOCIAL_dest','faixa_razao'])\n",
    "nanicos22 = nanicos22_.agg({\"VolANP\":\"sum\"}).reset_index()"
   ]
  },
  {
   "cell_type": "code",
   "execution_count": null,
   "id": "2b7fb1e4",
   "metadata": {},
   "outputs": [],
   "source": [
    "outliers23_ = outliers23.groupby(['NOM_RAZAO_SOCIAL_dest','faixa_razao'])\n",
    "outliers23 = outliers23_.agg({\"VolANP\":\"sum\"}).reset_index()\n",
    "grandes23_ = grandes23.groupby(['NOM_RAZAO_SOCIAL_dest','faixa_razao'])\n",
    "grandes23 = grandes23_.agg({\"VolANP\":\"sum\"}).reset_index()\n",
    "medio_grandes23_ = medio_grandes23.groupby(['NOM_RAZAO_SOCIAL_dest','faixa_razao'])\n",
    "medio_grandes23 = medio_grandes23_.agg({\"VolANP\":\"sum\"}).reset_index()\n",
    "medio23_ = medio23.groupby(['NOM_RAZAO_SOCIAL_dest','faixa_razao'])\n",
    "medio23 = medio23_.agg({\"VolANP\":\"sum\"}).reset_index()\n",
    "pequeno_medio23_ = pequeno_medio23.groupby(['NOM_RAZAO_SOCIAL_dest','faixa_razao'])\n",
    "pequeno_medio23 = pequeno_medio23_.agg({\"VolANP\":\"sum\"}).reset_index()\n",
    "pequenos23_ = pequenos23.groupby(['NOM_RAZAO_SOCIAL_dest','faixa_razao'])\n",
    "pequenos23 = pequenos23_.agg({\"VolANP\":\"sum\"}).reset_index()\n",
    "nanicos23_ = nanicos23.groupby(['NOM_RAZAO_SOCIAL_dest','faixa_razao'])\n",
    "nanicos23 = nanicos23_.agg({\"VolANP\":\"sum\"}).reset_index()"
   ]
  },
  {
   "cell_type": "code",
   "execution_count": null,
   "id": "6d149e84",
   "metadata": {},
   "outputs": [],
   "source": [
    "outliers22.rename(columns= {'VolANP':'VolANP_ano'}, inplace = True)\n",
    "grandes22.rename(columns= {'VolANP':'VolANP_ano'}, inplace = True)\n",
    "medio_grandes22.rename(columns= {'VolANP':'VolANP_ano'}, inplace = True)\n",
    "medio22.rename(columns= {'VolANP':'VolANP_ano'}, inplace = True)\n",
    "pequeno_medio22.rename(columns= {'VolANP':'VolANP_ano'}, inplace = True)\n",
    "pequenos22.rename(columns= {'VolANP':'VolANP_ano'}, inplace = True)\n",
    "nanicos22.rename(columns= {'VolANP':'VolANP_ano'}, inplace = True)"
   ]
  },
  {
   "cell_type": "code",
   "execution_count": null,
   "id": "89777df4",
   "metadata": {},
   "outputs": [],
   "source": [
    "outliers23.rename(columns= {'VolANP':'VolANP_ano'}, inplace = True)\n",
    "grandes23.rename(columns= {'VolANP':'VolANP_ano'}, inplace = True)\n",
    "medio_grandes23.rename(columns= {'VolANP':'VolANP_ano'}, inplace = True)\n",
    "medio23.rename(columns= {'VolANP':'VolANP_ano'}, inplace = True)\n",
    "pequeno_medio23.rename(columns= {'VolANP':'VolANP_ano'}, inplace = True)\n",
    "pequenos23.rename(columns= {'VolANP':'VolANP_ano'}, inplace = True)\n",
    "nanicos23.rename(columns= {'VolANP':'VolANP_ano'}, inplace = True)"
   ]
  },
  {
   "cell_type": "code",
   "execution_count": null,
   "id": "e5fb39cc",
   "metadata": {},
   "outputs": [],
   "source": [
    "outliers22"
   ]
  },
  {
   "cell_type": "code",
   "execution_count": null,
   "id": "826a9385",
   "metadata": {},
   "outputs": [],
   "source": [
    "outliers23"
   ]
  },
  {
   "cell_type": "code",
   "execution_count": null,
   "id": "ed03b0a9",
   "metadata": {},
   "outputs": [],
   "source": [
    "pequenos22"
   ]
  },
  {
   "cell_type": "code",
   "execution_count": null,
   "id": "474fe9f0",
   "metadata": {},
   "outputs": [],
   "source": [
    "pequenos23"
   ]
  },
  {
   "cell_type": "code",
   "execution_count": null,
   "id": "c9275f44",
   "metadata": {},
   "outputs": [],
   "source": [
    "RAIZEN_22"
   ]
  },
  {
   "cell_type": "code",
   "execution_count": null,
   "id": "a4574bc5",
   "metadata": {},
   "outputs": [],
   "source": [
    "# Aplicando filtro de concorrência 22 e tempo\n",
    "\n",
    "RAIZEN_outliers22 = outliers22.merge(RAIZEN_22, how='inner', on = ['NOM_RAZAO_SOCIAL_dest'])\n",
    "RAIZEN_grandes22 = grandes22.merge(RAIZEN_22, how='inner', on = ['NOM_RAZAO_SOCIAL_dest'])\n",
    "RAIZEN_medio_grandes22 = medio_grandes22.merge(RAIZEN_22, how='inner', on = ['NOM_RAZAO_SOCIAL_dest'])\n",
    "RAIZEN_medio22 = medio22.merge(RAIZEN_22, how='inner', on = ['NOM_RAZAO_SOCIAL_dest'])\n",
    "RAIZEN_pequeno_medio22 = pequeno_medio22.merge(RAIZEN_22, how='inner', on = ['NOM_RAZAO_SOCIAL_dest'])\n",
    "RAIZEN_pequenos22 = pequenos22.merge(RAIZEN_22, how='inner', on = ['NOM_RAZAO_SOCIAL_dest'])\n",
    "RAIZEN_nanicos22 = nanicos22.merge(RAIZEN_22, how='inner', on = ['NOM_RAZAO_SOCIAL_dest'])"
   ]
  },
  {
   "cell_type": "code",
   "execution_count": null,
   "id": "a54a981f",
   "metadata": {},
   "outputs": [],
   "source": [
    "# Aplicando filtro de concorrência 23\n",
    "\n",
    "RAIZEN_outliers23 = outliers23.merge(RAIZEN_23, how='inner', on = ['NOM_RAZAO_SOCIAL_dest'])\n",
    "RAIZEN_grandes23 = grandes23.merge(RAIZEN_23, how='inner', on = ['NOM_RAZAO_SOCIAL_dest'])\n",
    "RAIZEN_medio_grandes23 = medio_grandes23.merge(RAIZEN_23, how='inner', on = ['NOM_RAZAO_SOCIAL_dest'])\n",
    "RAIZEN_medio23 = medio23.merge(RAIZEN_23, how='inner', on = ['NOM_RAZAO_SOCIAL_dest'])\n",
    "RAIZEN_pequeno_medio23 = pequeno_medio23.merge(RAIZEN_23, how='inner', on = ['NOM_RAZAO_SOCIAL_dest'])\n",
    "RAIZEN_pequenos23 = pequenos23.merge(RAIZEN_23, how='inner', on = ['NOM_RAZAO_SOCIAL_dest'])\n",
    "RAIZEN_nanicos23 = nanicos23.merge(RAIZEN_23, how='inner', on = ['NOM_RAZAO_SOCIAL_dest'])"
   ]
  },
  {
   "cell_type": "code",
   "execution_count": null,
   "id": "c9415a46",
   "metadata": {},
   "outputs": [],
   "source": [
    "df_group = od23_clusters_razao.groupby(\"faixa_razao\")\n",
    "df_columns = df_group[[\"Volrazao_ano\",\"faixa_razao\"]]\n",
    "df_columns.max()"
   ]
  },
  {
   "cell_type": "code",
   "execution_count": null,
   "id": "929489b1",
   "metadata": {
    "scrolled": true
   },
   "outputs": [],
   "source": [
    "df_columns.min()"
   ]
  },
  {
   "cell_type": "code",
   "execution_count": null,
   "id": "0d133048",
   "metadata": {},
   "outputs": [],
   "source": [
    "RAIZEN_pequeno_medio23"
   ]
  },
  {
   "cell_type": "code",
   "execution_count": null,
   "id": "87961580",
   "metadata": {},
   "outputs": [],
   "source": [
    "RAIZEN_medio_grandes23"
   ]
  },
  {
   "cell_type": "markdown",
   "id": "debc75b6",
   "metadata": {},
   "source": [
    "# salvando df"
   ]
  },
  {
   "cell_type": "code",
   "execution_count": null,
   "id": "b6d93ac3",
   "metadata": {},
   "outputs": [],
   "source": [
    "RAIZEN_outliers22.to_parquet(\"RAIZEN_outliers22.parquet\")\n",
    "RAIZEN_outliers22.to_excel(\"RAIZEN_outliers22.xlsx\")\n",
    "RAIZEN_grandes22.to_parquet(\"RAIZEN_grandes22.parquet\") \n",
    "RAIZEN_grandes22.to_excel(\"RAIZEN_grandes22.xlsx\") \n",
    "RAIZEN_medio_grandes22.to_parquet(\"RAIZEN_medio_grandes22.parquet\") \n",
    "RAIZEN_medio_grandes22.to_excel(\"RAIZEN_medio_grandes22.xlsx\")\n",
    "RAIZEN_medio22.to_parquet(\"RAIZEN_medio22.parquet\") \n",
    "RAIZEN_medio22.to_excel(\"RAIZEN_medio22.xlsx\")\n",
    "RAIZEN_pequeno_medio22.to_parquet(\"RAIZEN_pequeno_medio22.parquet\") \n",
    "RAIZEN_pequeno_medio22.to_excel(\"RAIZEN_pequeno_medio22.xlsx\")\n",
    "RAIZEN_pequenos22.to_parquet(\"RAIZEN_pequenos22.parquet\") \n",
    "RAIZEN_pequenos22.to_excel(\"RAIZEN_pequenos22.xlsx\")\n",
    "RAIZEN_nanicos22.to_parquet(\"RAIZEN_nanicos22.parquet\") \n",
    "RAIZEN_nanicos22.to_excel(\"RAIZEN_nanicos22.xlsx\")"
   ]
  },
  {
   "cell_type": "code",
   "execution_count": null,
   "id": "392339bf",
   "metadata": {},
   "outputs": [],
   "source": [
    "RAIZEN_outliers23.to_parquet(\"RAIZEN_outliers23.parquet\")\n",
    "RAIZEN_outliers23.to_excel(\"RAIZEN_outliers23.xlsx\")\n",
    "RAIZEN_grandes23.to_parquet(\"RAIZEN_grandes23.parquet\") \n",
    "RAIZEN_grandes23.to_excel(\"RAIZEN_grandes23.xlsx\") \n",
    "RAIZEN_medio_grandes23.to_parquet(\"RAIZEN_medio_grandes23.parquet\") \n",
    "RAIZEN_medio_grandes23.to_excel(\"RAIZEN_medio_grandes23.xlsx\")\n",
    "RAIZEN_medio23.to_parquet(\"RAIZEN_medio23.parquet\") \n",
    "RAIZEN_medio23.to_excel(\"RAIZEN_medio23.xlsx\")\n",
    "RAIZEN_pequeno_medio23.to_parquet(\"RAIZEN_pequeno_medio23.parquet\") \n",
    "RAIZEN_pequeno_medio23.to_excel(\"RAIZEN_pequeno_medio23.xlsx\")\n",
    "RAIZEN_pequenos23.to_parquet(\"RAIZEN_pequenos23.parquet\") \n",
    "RAIZEN_pequenos23.to_excel(\"RAIZEN_pequenos23.xlsx\")\n",
    "RAIZEN_nanicos23.to_parquet(\"RAIZEN_nanicos23.parquet\") \n",
    "RAIZEN_nanicos23.to_excel(\"RAIZEN_nanicos23.xlsx\")"
   ]
  },
  {
   "cell_type": "code",
   "execution_count": null,
   "id": "946566d9",
   "metadata": {},
   "outputs": [],
   "source": [
    "#df.to_parquet(\"df.parquet\")\n",
    "#df.to_excel(\"df.xlsx\")"
   ]
  },
  {
   "cell_type": "code",
   "execution_count": null,
   "id": "9608f7a3",
   "metadata": {},
   "outputs": [],
   "source": [
    "#ft.to_parquet(\"ft.parquet\")\n",
    "#ft.to_excel(\"ft.xlsx\")"
   ]
  },
  {
   "cell_type": "code",
   "execution_count": null,
   "id": "4d715a24",
   "metadata": {},
   "outputs": [],
   "source": [
    "#od23_clusters.to_parquet(\"od23_clusters.parquet\")\n",
    "#od23_clusters.to_excel(\"od23_clusters.xlsx\")"
   ]
  },
  {
   "cell_type": "code",
   "execution_count": null,
   "id": "e1ea3a9a",
   "metadata": {},
   "outputs": [],
   "source": [
    "#table_queda.to_parquet(\"table_queda.parquet\")\n",
    "#table_queda.to_excel(\"table_queda.xlsx\")"
   ]
  },
  {
   "cell_type": "code",
   "execution_count": null,
   "id": "ceec53b8",
   "metadata": {},
   "outputs": [],
   "source": [
    "table_up.to_parquet(\"table_up_raizen.parquet\")\n",
    "table_up.to_excel(\"table_up_raizen.xlsx\")"
   ]
  },
  {
   "cell_type": "code",
   "execution_count": null,
   "id": "64019ab6",
   "metadata": {},
   "outputs": [],
   "source": [
    "#od23_clusters.to_parquet(\"od23_clusters.parquet\")\n",
    "#od23_clusters.to_excel(\"od23_clusters.xlsx\")"
   ]
  },
  {
   "cell_type": "markdown",
   "id": "148da18e",
   "metadata": {},
   "source": [
    "# MONTAGEM DAS TABELAS DE CONCORRÊNCIA COM FILTRO "
   ]
  },
  {
   "cell_type": "markdown",
   "id": "92ce3841",
   "metadata": {},
   "source": [
    "# grandes"
   ]
  },
  {
   "cell_type": "code",
   "execution_count": null,
   "id": "cf4b4035",
   "metadata": {},
   "outputs": [],
   "source": [
    "\n",
    "# quadrantes grandes 23\n",
    "\n",
    "#RAIZEN_grandes23['share_raizen'] = RAIZEN_grandes23['share_raizen']*100\n",
    "linha_mediana23 = RAIZEN_grandes23['VolANP_ano'].median()\n",
    "linha_media23 = RAIZEN_grandes23['VolANP_ano'].mean()\n",
    "share_mediana23 = RAIZEN_grandes23['share_raizen'].median()\n",
    "share_media23 = RAIZEN_grandes23['share_raizen'].mean()\n",
    "\n",
    "linha_mediana23 = round(linha_mediana23, 2)\n",
    "linha_media23 = round(linha_media23, 2)\n",
    "share_mediana23 = round(share_mediana23, 2)\n",
    "share_media23 = round(share_media23, 2)\n",
    "\n",
    "conditions = [\n",
    "    (RAIZEN_grandes23['share_raizen'] > share_media23) & (RAIZEN_grandes23['VolANP_ano'] > linha_media23),\n",
    "    (RAIZEN_grandes23['share_raizen'] > share_media23) & (RAIZEN_grandes23['VolANP_ano'] <= linha_media23),\n",
    "    (RAIZEN_grandes23['share_raizen'] <= share_media23) & (RAIZEN_grandes23['VolANP_ano'] > linha_media23),\n",
    "    (RAIZEN_grandes23['share_raizen'] <= share_media23) & (RAIZEN_grandes23['VolANP_ano'] <= linha_media23)]\n",
    "\n",
    "choices1 = ['Share acima da média e Volumes acima da média no ano','Share acima da média e Volumes abaixo da média no ano','Share abaixo da média e Volumes acima da média no ano','Share abaixo da média e Volumes abaixo da média no ano']\n",
    "choices2 = ['Sucesso','Bom','Atenção','Razoável']\n",
    "\n",
    "RAIZEN_grandes23['quadrante_desc'] = np.select(conditions, choices1, default='sem_grupo')\n",
    "RAIZEN_grandes23['quadrante'] = np.select(conditions, choices2, default='sem_grupo')\n",
    "\n",
    "RAIZEN_grandes23 = round(RAIZEN_grandes23, 2)\n",
    "RAIZEN_grandes23"
   ]
  },
  {
   "cell_type": "code",
   "execution_count": null,
   "id": "62e5ad3c",
   "metadata": {},
   "outputs": [],
   "source": [
    "\n",
    "# quadrantes grandes 22\n",
    "\n",
    "#RAIZEN_grandes22['share_raizen'] = RAIZEN_grandes22['share_raizen']*100\n",
    "linha_mediana22 = RAIZEN_grandes22['VolANP_ano'].median()\n",
    "linha_media22 = RAIZEN_grandes22['VolANP_ano'].mean()\n",
    "share_mediana22 = RAIZEN_grandes22['share_raizen'].median()\n",
    "share_media22 = RAIZEN_grandes22['share_raizen'].mean()\n",
    "\n",
    "linha_mediana22 = round(linha_mediana22, 2)\n",
    "linha_media22 = round(linha_media22, 2)\n",
    "share_mediana22 = round(share_mediana22, 2)\n",
    "share_media22 = round(share_media22, 2)\n",
    "\n",
    "conditions = [\n",
    "    (RAIZEN_grandes22['share_raizen'] > share_media22) & (RAIZEN_grandes22['VolANP_ano'] > linha_media22),\n",
    "    (RAIZEN_grandes22['share_raizen'] > share_media22) & (RAIZEN_grandes22['VolANP_ano'] <= linha_media22),\n",
    "    (RAIZEN_grandes22['share_raizen'] <= share_media22) & (RAIZEN_grandes22['VolANP_ano'] > linha_media22),\n",
    "    (RAIZEN_grandes22['share_raizen'] <= share_media22) & (RAIZEN_grandes22['VolANP_ano'] <= linha_media22)]\n",
    "\n",
    "choices1 = ['Share acima da média e Volumes acima da média no ano','Share acima da média e Volumes abaixo da média no ano','Share abaixo da média e Volumes acima da média no ano','Share abaixo da média e Volumes abaixo da média no ano']\n",
    "choices2 = ['Sucesso','Bom','Atenção','Razoável']\n",
    "\n",
    "RAIZEN_grandes22['quadrante_desc'] = np.select(conditions, choices1, default='sem_grupo')\n",
    "RAIZEN_grandes22['quadrante'] = np.select(conditions, choices2, default='sem_grupo')\n",
    "\n",
    "RAIZEN_grandes22 = round(RAIZEN_grandes22, 2)\n",
    "RAIZEN_grandes22"
   ]
  },
  {
   "cell_type": "markdown",
   "id": "4f6e2d1f",
   "metadata": {},
   "source": [
    "# grandes"
   ]
  },
  {
   "cell_type": "code",
   "execution_count": null,
   "id": "bb085bb7",
   "metadata": {},
   "outputs": [],
   "source": [
    "RAIZEN_grandes =  pd.concat([RAIZEN_grandes22,RAIZEN_grandes23])\n",
    "RAIZEN_grandes"
   ]
  },
  {
   "cell_type": "code",
   "execution_count": null,
   "id": "67259586",
   "metadata": {},
   "outputs": [],
   "source": [
    "# pivot table dim - ANO/razãosocial \n",
    "table = pd.pivot_table(RAIZEN_grandes, values='VolANP_ano', index=['NOM_RAZAO_SOCIAL_dest'],\n",
    "                       columns=['ano'], aggfunc=\"sum\")\n",
    "table = table.reset_index()\n",
    "table"
   ]
  },
  {
   "cell_type": "code",
   "execution_count": null,
   "id": "199c328d",
   "metadata": {},
   "outputs": [],
   "source": [
    "\n",
    "table.fillna(0.00001, inplace = True)\n",
    "table['VolANP_delta%'] = ((table['2023'] - table['2022'])/table['2023'])*100\n",
    "table\n"
   ]
  },
  {
   "cell_type": "markdown",
   "id": "3a0598b1",
   "metadata": {},
   "source": [
    "# unificando com table_share"
   ]
  },
  {
   "cell_type": "code",
   "execution_count": null,
   "id": "b4952972",
   "metadata": {},
   "outputs": [],
   "source": [
    "table_share.rename(columns= {'2022':'2022_share_ano'}, inplace = True)\n",
    "table_share.rename(columns= {'2023':'2023_share_ano'}, inplace = True)"
   ]
  },
  {
   "cell_type": "code",
   "execution_count": null,
   "id": "736efa1d",
   "metadata": {},
   "outputs": [],
   "source": [
    "table_share"
   ]
  },
  {
   "cell_type": "markdown",
   "id": "c4563b3e",
   "metadata": {},
   "source": [
    "### merge table share"
   ]
  },
  {
   "cell_type": "code",
   "execution_count": null,
   "id": "db2cd824",
   "metadata": {},
   "outputs": [],
   "source": [
    "table.rename(columns= {'2022':'2022_VolANP_ano'}, inplace = True)\n",
    "table.rename(columns= {'2023':'2023_VolANP_ano'}, inplace = True)"
   ]
  },
  {
   "cell_type": "code",
   "execution_count": null,
   "id": "b44f7c84",
   "metadata": {},
   "outputs": [],
   "source": [
    "table = table.merge(table_share, how='inner', on = ['NOM_RAZAO_SOCIAL_dest'])\n",
    "table"
   ]
  },
  {
   "cell_type": "code",
   "execution_count": null,
   "id": "cd8810b5",
   "metadata": {},
   "outputs": [],
   "source": [
    "# mask = table[\"delta\"] < 0\n",
    "# table = table[mask]\n",
    "# table"
   ]
  },
  {
   "cell_type": "markdown",
   "id": "4d6d412d",
   "metadata": {},
   "source": [
    "# GRÁFICOS"
   ]
  },
  {
   "cell_type": "code",
   "execution_count": null,
   "id": "405a547a",
   "metadata": {},
   "outputs": [],
   "source": [
    "#outliers"
   ]
  },
  {
   "cell_type": "markdown",
   "id": "1d675a3b",
   "metadata": {},
   "source": [
    "## grandes"
   ]
  },
  {
   "cell_type": "code",
   "execution_count": null,
   "id": "1160989a",
   "metadata": {},
   "outputs": [],
   "source": [
    "\n",
    "q_grandes = RAIZEN_grandes[['NOM_RAZAO_SOCIAL_dest','QUALIF_DEST','faixa_razao','quadrante']].drop_duplicates(subset = \"NOM_RAZAO_SOCIAL_dest\" )\n",
    "q_grandes"
   ]
  },
  {
   "cell_type": "code",
   "execution_count": null,
   "id": "c95eff6f",
   "metadata": {},
   "outputs": [],
   "source": [
    "\n",
    "table = table.merge(q_grandes, how='left', on = ['NOM_RAZAO_SOCIAL_dest'])\n",
    "table"
   ]
  },
  {
   "cell_type": "code",
   "execution_count": null,
   "id": "4d70b548",
   "metadata": {
    "scrolled": true
   },
   "outputs": [],
   "source": [
    "\n",
    "\n",
    "table = round(table, 2)\n",
    "\n",
    "figure2 = px.scatter(\n",
    "        table,\n",
    "        x=\"2022_VolANP_ano\",\n",
    "        y=\"2023_VolANP_ano\",\n",
    "        color_discrete_sequence=px.colors.qualitative.Set3,\n",
    "        color=table['NOM_RAZAO_SOCIAL_dest'],\n",
    "        labels={\n",
    "            \"2022_VolANP_ano\": \"Volume Ano 2022\",\n",
    "            \"2023_VolANP_ano\": \"Volume Ano 2023\"\n",
    "        },\n",
    "        #hover_data=[\"QUALIF_DEST\",\"quadrante_desc\",\"quadrante\",\"faixa_razao\"],\n",
    "        hover_data=[\"2022_VolANP_ano\",\"2023_VolANP_ano\",\"delta_share\",\"QUALIF_DEST\",\"faixa_razao\",\"quadrante\"],\n",
    "        title=\"Segmento Grandes - Brasil - share RAIZEN\",\n",
    "    )#.update_layout(\n",
    "#     legend_title=\"Funding\"\n",
    "#    font_color=\"Green\",\n",
    "#    legend_title={\n",
    "#        \"text\": \"Funding\",\n",
    "#        \"font\":{\n",
    "#            \"color\":\"Red\",\n",
    "#            \"family\": \"Comic Sans\"\n",
    "#        }\n",
    "#    }\n",
    "#)\n",
    "figure2.update_layout(\n",
    "    autosize=False,\n",
    "    width= 1300,\n",
    "    height=700\n",
    ")\n",
    "figure2.update_xaxes(showgrid=False)\n",
    "figure2.update_yaxes(showgrid=True)\n",
    "\n",
    "figure2.update_layout(\n",
    "        title = {\"x\": .5, \"y\": .90, \"font\": {\"color\":\"darkslateblue\"}},\n",
    "        plot_bgcolor = \"#fcfafa\",\n",
    "        paper_bgcolor = \"#fcfafa\"\n",
    "    )\n",
    "figure2.add_hline(y=linha_media22, line_dash=\"dot\", line_color=\"blue\", annotation_text=f'Media22 = {linha_media22:.2f}',annotation_position=\"top left\" )\n",
    "figure2.add_hline(y=linha_media23, line_dash=\"dot\", line_color=\"yellow\", annotation_text=f'Media23 = {linha_media23:.2f}',annotation_position=\"top right\" )\n",
    "\n",
    "figure2.show()\n",
    "\n"
   ]
  },
  {
   "cell_type": "code",
   "execution_count": null,
   "id": "7eefb2e9",
   "metadata": {},
   "outputs": [],
   "source": [
    "table_grandes_raizen_ano = table"
   ]
  },
  {
   "cell_type": "code",
   "execution_count": null,
   "id": "f031cbe9",
   "metadata": {},
   "outputs": [],
   "source": [
    "table_grandes_raizen_ano.info()"
   ]
  },
  {
   "cell_type": "code",
   "execution_count": null,
   "id": "2bd20bcf",
   "metadata": {},
   "outputs": [],
   "source": [
    "table = table.drop(['QUALIF_DEST'], axis=1)\n",
    "table = table.drop(['faixa_razao'], axis=1)"
   ]
  },
  {
   "cell_type": "code",
   "execution_count": null,
   "id": "d3a36844",
   "metadata": {},
   "outputs": [],
   "source": [
    "table"
   ]
  },
  {
   "cell_type": "code",
   "execution_count": null,
   "id": "61ea1b1b",
   "metadata": {},
   "outputs": [],
   "source": [
    "df['ds'].value_counts()"
   ]
  },
  {
   "cell_type": "code",
   "execution_count": null,
   "id": "99caa75e",
   "metadata": {},
   "outputs": [],
   "source": [
    "#fim 2022\n",
    "fim = df['ds'].max() - relativedelta(months=12)\n",
    "fim"
   ]
  },
  {
   "cell_type": "code",
   "execution_count": null,
   "id": "e0ca1340",
   "metadata": {},
   "outputs": [],
   "source": [
    "filtro22 = df['ds']<= fim\n",
    "df_filtro22 = pd.DataFrame(df[filtro22])\n",
    "df_filtro22['ds'].max()"
   ]
  },
  {
   "cell_type": "code",
   "execution_count": null,
   "id": "6c47a234",
   "metadata": {},
   "outputs": [],
   "source": [
    "mask = df[\"ano\"] == \"2023\"\n",
    "df_filtro23 = df[mask]\n",
    "df_filtro23['ds'].max()"
   ]
  },
  {
   "cell_type": "code",
   "execution_count": null,
   "id": "682fe0c4",
   "metadata": {},
   "outputs": [],
   "source": [
    "df_filtro23['ds'].min()"
   ]
  },
  {
   "cell_type": "code",
   "execution_count": null,
   "id": "ab6cb78b",
   "metadata": {},
   "outputs": [],
   "source": [
    "df_filtro = pd.concat([df_filtro22,df_filtro23])"
   ]
  },
  {
   "cell_type": "code",
   "execution_count": null,
   "id": "4f5c4e2c",
   "metadata": {},
   "outputs": [],
   "source": [
    "print(df_filtro['ds'].unique())"
   ]
  },
  {
   "cell_type": "code",
   "execution_count": null,
   "id": "92775a1d",
   "metadata": {},
   "outputs": [],
   "source": [
    "df_filtro.info()"
   ]
  },
  {
   "cell_type": "code",
   "execution_count": null,
   "id": "70690794",
   "metadata": {},
   "outputs": [],
   "source": [
    "# df_table_grandes = df_filtro.merge(table, how='inner', on = ['NOM_RAZAO_SOCIAL_dest'])\n",
    "# df_table_grandes.info()"
   ]
  },
  {
   "cell_type": "code",
   "execution_count": null,
   "id": "b0351337",
   "metadata": {},
   "outputs": [],
   "source": [
    "print(df['ds'].unique())"
   ]
  },
  {
   "cell_type": "code",
   "execution_count": null,
   "id": "011e2be7",
   "metadata": {},
   "outputs": [],
   "source": [
    "df.info()"
   ]
  },
  {
   "cell_type": "code",
   "execution_count": null,
   "id": "85fdadd7",
   "metadata": {},
   "outputs": [],
   "source": [
    "table.info()"
   ]
  },
  {
   "cell_type": "code",
   "execution_count": null,
   "id": "b08b8f77",
   "metadata": {},
   "outputs": [],
   "source": [
    "table"
   ]
  },
  {
   "cell_type": "code",
   "execution_count": null,
   "id": "ce82c9ba",
   "metadata": {},
   "outputs": [],
   "source": [
    "#pegando os valores no menor nível inst\n",
    "\n",
    "df_table_grandes = df.merge(table, how='inner', on = ['NOM_RAZAO_SOCIAL_dest'])\n",
    "df_table_grandes.info()"
   ]
  },
  {
   "cell_type": "code",
   "execution_count": null,
   "id": "75349169",
   "metadata": {},
   "outputs": [],
   "source": [
    "df_table_grandes['id'] = df_table_grandes['NOM_RAZAO_SOCIAL_dest']+\"|\"+df_table_grandes['ds'].astype(str)+\"|\"+df_table_grandes['QUALIF_DEST']+\"|\"+df_table_grandes['GRUPO']"
   ]
  },
  {
   "cell_type": "code",
   "execution_count": null,
   "id": "3cd180fc",
   "metadata": {},
   "outputs": [],
   "source": [
    "df_table_grandes['idr'] = df_table_grandes['NOM_RAZAO_SOCIAL_dest']+\"|\"+df_table_grandes['ds'].astype(str)+\"|\"+df_table_grandes['QUALIF_DEST']"
   ]
  },
  {
   "cell_type": "code",
   "execution_count": null,
   "id": "e09ee7f6",
   "metadata": {},
   "outputs": [],
   "source": [
    "_df_table_grandes = df_table_grandes.groupby(['id','idr'])\n",
    "_df_table_grandes_groupby = _df_table_grandes.agg({\"VolANP\":\"sum\"}).reset_index()"
   ]
  },
  {
   "cell_type": "code",
   "execution_count": null,
   "id": "987ea239",
   "metadata": {},
   "outputs": [],
   "source": [
    "_df_table_grandes_groupby.info()"
   ]
  },
  {
   "cell_type": "code",
   "execution_count": null,
   "id": "af3832e6",
   "metadata": {},
   "outputs": [],
   "source": [
    "_df_table_grandes = df_table_grandes.groupby(['idr'])\n",
    "_df_table_grandes_groupby_razao = _df_table_grandes.agg({\"VolANP\":\"sum\"}).reset_index()"
   ]
  },
  {
   "cell_type": "code",
   "execution_count": null,
   "id": "2f3d7512",
   "metadata": {},
   "outputs": [],
   "source": [
    "_df_table_grandes_groupby_razao.rename(columns= {'VolANP':'VolANP_razao'}, inplace = True)"
   ]
  },
  {
   "cell_type": "code",
   "execution_count": null,
   "id": "eba8c5bf",
   "metadata": {},
   "outputs": [],
   "source": [
    "_df_table_grandes_groupby_razao.info()"
   ]
  },
  {
   "cell_type": "code",
   "execution_count": null,
   "id": "8db82b62",
   "metadata": {},
   "outputs": [],
   "source": [
    "_df_table_grandes_groupby = _df_table_grandes_groupby.merge(_df_table_grandes_groupby_razao, how='left', on = ['idr'])"
   ]
  },
  {
   "cell_type": "code",
   "execution_count": null,
   "id": "3714df2c",
   "metadata": {},
   "outputs": [],
   "source": [
    "_df_table_grandes_groupby.info()"
   ]
  },
  {
   "cell_type": "code",
   "execution_count": null,
   "id": "3e543d4e",
   "metadata": {},
   "outputs": [],
   "source": [
    "_df_table_grandes_groupby['share_razao'] = _df_table_grandes_groupby['VolANP'] / _df_table_grandes_groupby['VolANP_razao']"
   ]
  },
  {
   "cell_type": "code",
   "execution_count": null,
   "id": "fe54908c",
   "metadata": {},
   "outputs": [],
   "source": [
    "_df_table_grandes_groupby[['NOM_RAZAO_SOCIAL_dest','ds','QUALIF_DEST','GRUPO']] = _df_table_grandes_groupby['id'].str.split(\"|\",expand=True)"
   ]
  },
  {
   "cell_type": "code",
   "execution_count": null,
   "id": "9ca910c8",
   "metadata": {},
   "outputs": [],
   "source": [
    "_df_table_grandes_groupby['id_shift'] = _df_table_grandes_groupby['NOM_RAZAO_SOCIAL_dest']+\"|\"+_df_table_grandes_groupby['QUALIF_DEST']+\"|\"+_df_table_grandes_groupby['GRUPO']"
   ]
  },
  {
   "cell_type": "code",
   "execution_count": null,
   "id": "999ab953",
   "metadata": {},
   "outputs": [],
   "source": [
    "_df_table_grandes_groupby['preview_share'] = _df_table_grandes_groupby.sort_values(by=['id']).groupby('id_shift')['share_razao'].shift(1)"
   ]
  },
  {
   "cell_type": "code",
   "execution_count": null,
   "id": "674c645e",
   "metadata": {},
   "outputs": [],
   "source": [
    "#_df_table_grandes_groupby[['id','ds','share_razao','preview_share']].to_excel('testeshare.xlsx')"
   ]
  },
  {
   "cell_type": "code",
   "execution_count": null,
   "id": "48f94cd6",
   "metadata": {},
   "outputs": [],
   "source": [
    "#_df_table_grandes_groupby.to_excel(\"_df_table_grandes_groupby.xlsx\")"
   ]
  },
  {
   "cell_type": "code",
   "execution_count": null,
   "id": "c7b58eb0",
   "metadata": {},
   "outputs": [],
   "source": [
    "_df_table_grandes_groupby['preview_value'] = _df_table_grandes_groupby.sort_values(by=['id']).groupby('id_shift')['VolANP'].shift(1)"
   ]
  },
  {
   "cell_type": "code",
   "execution_count": null,
   "id": "42550544",
   "metadata": {},
   "outputs": [],
   "source": [
    "_df_table_grandes_groupby['preview_value_2'] = _df_table_grandes_groupby.sort_values(by=['id']).groupby('id_shift')['VolANP'].shift(2)"
   ]
  },
  {
   "cell_type": "code",
   "execution_count": null,
   "id": "26b7f2fd",
   "metadata": {},
   "outputs": [],
   "source": [
    "_df_table_grandes_groupby['preview_value_3'] = _df_table_grandes_groupby.sort_values(by=['id']).groupby('id_shift')['VolANP'].shift(3)"
   ]
  },
  {
   "cell_type": "code",
   "execution_count": null,
   "id": "8b783c8e",
   "metadata": {},
   "outputs": [],
   "source": [
    "_df_table_grandes_groupby['window_3m'] = (_df_table_grandes_groupby['preview_value'] + _df_table_grandes_groupby['preview_value_2'] + _df_table_grandes_groupby['preview_value_3'])/3\n",
    "\n",
    "# representatividade da janela de 3 meses em relação ao Volume total da base\n",
    "_df_table_grandes_groupby['var'] = (_df_table_grandes_groupby['window_3m']/_df_table_grandes_groupby['VolANP'].sum())*100"
   ]
  },
  {
   "cell_type": "code",
   "execution_count": null,
   "id": "0b3a8669",
   "metadata": {},
   "outputs": [],
   "source": [
    "_df_table_grandes_groupby['preview_value_12'] = _df_table_grandes_groupby.sort_values(by=['id']).groupby('id_shift')['VolANP'].shift(12)\n",
    "_df_table_grandes_groupby['preview_window_3m_12'] = _df_table_grandes_groupby.sort_values(by=['id']).groupby('id_shift')['window_3m'].shift(12)\n",
    "_df_table_grandes_groupby['preview_var_12'] = _df_table_grandes_groupby.sort_values(by=['id']).groupby('id_shift')['var'].shift(12)"
   ]
  },
  {
   "cell_type": "code",
   "execution_count": null,
   "id": "b552a202",
   "metadata": {},
   "outputs": [],
   "source": [
    "_df_table_grandes_groupby.info()"
   ]
  },
  {
   "cell_type": "code",
   "execution_count": null,
   "id": "dc1f6cff",
   "metadata": {},
   "outputs": [],
   "source": [
    "#_df_table_grandes_groupby.to_excel(\"teste_shift.xlsx\")"
   ]
  },
  {
   "cell_type": "code",
   "execution_count": null,
   "id": "ce380a8a",
   "metadata": {},
   "outputs": [],
   "source": [
    "_df_table_grandes_groupby['delta_vol'] = ((_df_table_grandes_groupby['VolANP']-_df_table_grandes_groupby['preview_value'])/_df_table_grandes_groupby['VolANP'])*100"
   ]
  },
  {
   "cell_type": "code",
   "execution_count": null,
   "id": "227dfb59",
   "metadata": {},
   "outputs": [],
   "source": [
    "_df_table_grandes_groupby['delta_vol_12'] = ((_df_table_grandes_groupby['VolANP']-_df_table_grandes_groupby['preview_value_12'])/_df_table_grandes_groupby['VolANP'])*100"
   ]
  },
  {
   "cell_type": "code",
   "execution_count": null,
   "id": "29dda5b9",
   "metadata": {},
   "outputs": [],
   "source": [
    "#_df_table_grandes_groupby.to_excel(\"_df_table_grandes_groupby.xlsx\")"
   ]
  },
  {
   "cell_type": "code",
   "execution_count": null,
   "id": "2284e21a",
   "metadata": {},
   "outputs": [],
   "source": [
    "#filtro_df_table_grandes_groupby = _df_table_grandes_groupby.loc[(_df_table_grandes_groupby.delta_vol > 0) | (_df_table_grandes_groupby.delta_vol_12 > 0)]"
   ]
  },
  {
   "cell_type": "code",
   "execution_count": null,
   "id": "6429a924",
   "metadata": {},
   "outputs": [],
   "source": [
    "#filtro_df_table_grandes_groupby[['id','NOM_RAZAO_SOCIAL_dest','ds','GRUPO','share_razao']]"
   ]
  },
  {
   "cell_type": "code",
   "execution_count": null,
   "id": "c01a97c0",
   "metadata": {},
   "outputs": [],
   "source": [
    "#filtro_df_table_grandes_groupby.to_excel(\"filtro_df_table_grandes_groupby.xlsx\")"
   ]
  },
  {
   "cell_type": "code",
   "execution_count": null,
   "id": "acc0bbab",
   "metadata": {},
   "outputs": [],
   "source": [
    "#filtro_df_table_grandes_groupby.info()"
   ]
  },
  {
   "cell_type": "code",
   "execution_count": null,
   "id": "ef9c152a",
   "metadata": {},
   "outputs": [],
   "source": [
    "_df_table_grandes_groupby.info()"
   ]
  },
  {
   "cell_type": "code",
   "execution_count": null,
   "id": "70c2e044",
   "metadata": {},
   "outputs": [],
   "source": [
    "_df_table_grandes_groupby_ = _df_table_grandes_groupby.groupby([\"GRUPO\",\"ds\"])\n",
    "_df_table_grandes_groupby_vol = _df_table_grandes_groupby_.agg({\"VolANP\":\"sum\"}).reset_index()\n",
    "\n",
    "\n",
    "fig =px.line(_df_table_grandes_groupby_vol, \n",
    "            x=\"ds\", \n",
    "            y=\"VolANP\",\n",
    "            title=\"BR - Volume m³ - cluster grandes\",\n",
    "            color=\"GRUPO\",\n",
    "            color_discrete_sequence=px.colors.qualitative.Pastel2,\n",
    "            hover_data=[\"GRUPO\"]\n",
    "        )\n",
    "\n",
    "fig.update_layout(\n",
    "    autosize=False,\n",
    "    width= 1300,\n",
    "    height=700\n",
    ")\n",
    "    \n",
    "fig.update_layout(\n",
    "        title = {\"x\": .45, \"y\": .90, \"font\": {\"color\":\"darkslateblue\"}},\n",
    "        plot_bgcolor = \"#fcfafa\",\n",
    "        paper_bgcolor = \"#fcfafa\", \n",
    "        font=dict(size=11)\n",
    "    )\n",
    "fig.show()\n"
   ]
  },
  {
   "cell_type": "code",
   "execution_count": null,
   "id": "e5daa5f1",
   "metadata": {},
   "outputs": [],
   "source": [
    "_df_table_grandes_groupby_ = _df_table_grandes_groupby.groupby([\"GRUPO\",\"ds\"])\n",
    "_df_table_grandes_groupby_vol = _df_table_grandes_groupby_.agg({\"var\":\"sum\"}).reset_index()\n",
    "\n",
    "\n",
    "fig =px.line(_df_table_grandes_groupby_vol, \n",
    "            x=\"ds\", \n",
    "            y=\"var\",\n",
    "            title=\"BR - tendência - cluster grandes\",\n",
    "            color=\"GRUPO\",\n",
    "            color_discrete_sequence=px.colors.qualitative.Pastel2,\n",
    "            hover_data=[\"GRUPO\"]\n",
    "        )\n",
    "\n",
    "fig.update_layout(\n",
    "    autosize=False,\n",
    "    width= 1300,\n",
    "    height=700\n",
    ")\n",
    "    \n",
    "fig.update_layout(\n",
    "        title = {\"x\": .45, \"y\": .90, \"font\": {\"color\":\"darkslateblue\"}},\n",
    "        plot_bgcolor = \"#fcfafa\",\n",
    "        paper_bgcolor = \"#fcfafa\", \n",
    "        font=dict(size=11)\n",
    "    )\n",
    "fig.show()\n"
   ]
  },
  {
   "cell_type": "code",
   "execution_count": null,
   "id": "69d5e918",
   "metadata": {},
   "outputs": [],
   "source": [
    "#filtro_df_table_grandes_groupby.info()"
   ]
  },
  {
   "cell_type": "code",
   "execution_count": null,
   "id": "3bf944a8",
   "metadata": {},
   "outputs": [],
   "source": [
    "_df_table_grandes_groupby['ds'].value_counts()"
   ]
  },
  {
   "cell_type": "code",
   "execution_count": null,
   "id": "cb93d252",
   "metadata": {},
   "outputs": [],
   "source": [
    "_df_table_grandes_groupby[\"ds\"] = _df_table_grandes_groupby[\"ds\"].apply(pd.to_datetime)"
   ]
  },
  {
   "cell_type": "code",
   "execution_count": null,
   "id": "f77f7bbc",
   "metadata": {},
   "outputs": [],
   "source": [
    "_df_table_grandes_groupby['ds_str'] = _df_table_grandes_groupby['ds'].astype(str)\n",
    "\n",
    "_df_table_grandes_groupby[['ano','mes','dia']] = _df_table_grandes_groupby['ds_str'].str.split(\"-\",expand=True)"
   ]
  },
  {
   "cell_type": "code",
   "execution_count": null,
   "id": "cbad2f11",
   "metadata": {},
   "outputs": [],
   "source": [
    "mask1 = _df_table_grandes_groupby[\"ano\"] == \"2022\"\n",
    "_df_table_grandes_groupby_22 = _df_table_grandes_groupby[mask1]\n",
    "_df_table_grandes_groupby_22 [\"ano\"].value_counts()"
   ]
  },
  {
   "cell_type": "code",
   "execution_count": null,
   "id": "28363007",
   "metadata": {},
   "outputs": [],
   "source": [
    "mask1 = _df_table_grandes_groupby[\"ano\"] == \"2023\"\n",
    "_df_table_grandes_groupby_23 = _df_table_grandes_groupby[mask1]\n",
    "_df_table_grandes_groupby_23 [\"ano\"].value_counts()"
   ]
  },
  {
   "cell_type": "code",
   "execution_count": null,
   "id": "2d111ae8",
   "metadata": {},
   "outputs": [],
   "source": [
    "dfg23volrazao =  _df_table_grandes_groupby_23.groupby(by='NOM_RAZAO_SOCIAL_dest')['VolANP'].sum()\n",
    "dfg22volrazao =  _df_table_grandes_groupby_22.groupby(by='NOM_RAZAO_SOCIAL_dest')['VolANP'].sum()\n",
    "\n",
    "dfg23volrazao = round(dfg23volrazao, 2)\n",
    "dfg23volrazao = dfg23volrazao.sort_values(ascending = False)\n",
    "\n",
    "dfg22volrazao = round(dfg22volrazao, 2)\n",
    "dfg22volrazao = dfg22volrazao.sort_values(ascending = False)\n"
   ]
  },
  {
   "cell_type": "code",
   "execution_count": null,
   "id": "86f3fb10",
   "metadata": {},
   "outputs": [],
   "source": [
    "dfg23volrazao_n6 = dfg23volrazao.nlargest(6)"
   ]
  },
  {
   "cell_type": "code",
   "execution_count": null,
   "id": "3f5d12ca",
   "metadata": {},
   "outputs": [],
   "source": [
    "dfg22volrazao_n6 = dfg22volrazao.nlargest(6)"
   ]
  },
  {
   "cell_type": "code",
   "execution_count": null,
   "id": "834d6f0f",
   "metadata": {},
   "outputs": [],
   "source": [
    "figure1=px.bar(\n",
    "        (dfg23volrazao_n6\n",
    "         #.query(\"QUALIF_DEST in ['TRR']\")\n",
    "         #.sort_values(ascending = False)\n",
    "         #.nlargest(1)\n",
    "         #.groupby(\"GRUPO\", as_index=False)\n",
    "         #.mean()\n",
    "         #.rename({\"expenditure_per_student\": \"Expenditure Per Student (Thousands)\"}, axis=1)\n",
    "         #.nlargest(10, 'VolANP_ano')\n",
    "        ),\n",
    "        x=dfg23volrazao_n6.index,\n",
    "        y=dfg23volrazao_n6.values,\n",
    "        title=\"Volume m³ - por Empresa destino  - Ano 2023\",\n",
    "        color_discrete_sequence=px.colors.qualitative.Pastel2,\n",
    "        color=dfg23volrazao_n6.values,\n",
    "        color_continuous_scale=\"deep\",\n",
    "        text_auto='.0f',\n",
    "        #hover_data=[\"GRUPO\"]\n",
    "    )\n",
    "\n",
    "\n",
    "figure1.update_layout(\n",
    "        autosize=False,\n",
    "        width= 1300,\n",
    "        height=700\n",
    "    )\n",
    "\n",
    "figure1.update_layout(\n",
    "            title = {\"x\": .45, \"y\": .90, \"font\": {\"color\":\"darkslateblue\"}},\n",
    "            plot_bgcolor = \"#fcfafa\",\n",
    "            paper_bgcolor = \"#fcfafa\", \n",
    "            font=dict(size=11)\n",
    "        )\n",
    "#figure1.show()\n",
    "\n",
    "figure2 = px.bar(\n",
    "        (dfg22volrazao_n6\n",
    "         #.query(\"QUALIF_DEST in ['TRR']\")\n",
    "         #.sort_values(ascending = False)\n",
    "         .nlargest(1)\n",
    "         #.groupby(\"GRUPO\", as_index=False)\n",
    "         #.mean()\n",
    "         #.rename({\"expenditure_per_student\": \"Expenditure Per Student (Thousands)\"}, axis=1)\n",
    "         #.nlargest(10, 'VolANP_ano')\n",
    "        ),\n",
    "        x=dfg22volrazao_n6.index,\n",
    "        y=dfg22volrazao_n6.values,\n",
    "        title=\"Volume m³ - por Empresa destino  - Ano 2022\",\n",
    "        color_discrete_sequence=px.colors.qualitative.Pastel2,\n",
    "        color=dfg22volrazao_n6.values,\n",
    "        color_continuous_scale=\"deep\",\n",
    "        text_auto='.0f',\n",
    "        #hover_data=[\"GRUPO\"]\n",
    "    )\n",
    "\n",
    "\n",
    "figure2.update_layout(\n",
    "        autosize=False,\n",
    "        width= 1300,\n",
    "        height=700\n",
    "    )\n",
    "\n",
    "figure2.update_layout(\n",
    "            title = {\"x\": .45, \"y\": .90, \"font\": {\"color\":\"darkslateblue\"}},\n",
    "            plot_bgcolor = \"#fcfafa\",\n",
    "            paper_bgcolor = \"#fcfafa\", \n",
    "            font=dict(size=11)\n",
    "        )\n",
    "#figure2.show()\n",
    "\n",
    "\n",
    "\n",
    "# For as many traces that exist per Express figure, get the traces from each plot and store them in an array.\n",
    "# This is essentially breaking down the Express fig into its traces\n",
    "figure1_traces = []\n",
    "figure2_traces = []\n",
    "for trace in range(len(figure1[\"data\"])):\n",
    "    figure1_traces.append(figure1[\"data\"][trace])\n",
    "for trace in range(len(figure2[\"data\"])):\n",
    "    ############ The major modification. Manually set 'showlegend' attribute to False. ############\n",
    "    figure2[\"data\"][trace]['showlegend'] = False             \n",
    "    figure2_traces.append(figure2[\"data\"][trace])\n",
    "    \n",
    "# Create a 1x2 subplot\n",
    "this_figure = sp.make_subplots(rows = 1, cols = 2, subplot_titles = ['Volume m³ 2023', 'Volume m³ 2022'])\n",
    "#this_figure.update_layout(height = 700, width = 1300, title_text = \"Volume m³ - por Empresa destino com crescimento\", title_font_size = 15)\n",
    "this_figure.update_layout(height = 700, width = 1300)\n",
    "\n",
    "# Get the Express fig broken down as traces and add the traces to the proper plot within the subplot\n",
    "for traces in figure1_traces:\n",
    "    this_figure.append_trace(traces, row = 1, col = 1)\n",
    "for traces in figure2_traces:\n",
    "    this_figure.append_trace(traces, row = 1, col = 2)\n",
    "\n",
    "this_figure.update_layout(\n",
    "        title = {\"x\": .5, \"y\": .90, \"font\": {\"color\":\"darkslateblue\"}},\n",
    "        plot_bgcolor = \"#fcfafa\",\n",
    "        paper_bgcolor = \"#fcfafa\"\n",
    "    )\n",
    "this_figure.update_xaxes(tickangle=30)\n",
    "\n",
    "this_figure.show()\n"
   ]
  },
  {
   "cell_type": "code",
   "execution_count": null,
   "id": "a8481bed",
   "metadata": {},
   "outputs": [],
   "source": [
    "dfg23volrazao_n6"
   ]
  },
  {
   "cell_type": "code",
   "execution_count": null,
   "id": "52a76c12",
   "metadata": {},
   "outputs": [],
   "source": [
    "_df_table_grandes_groupby.info()"
   ]
  },
  {
   "cell_type": "code",
   "execution_count": null,
   "id": "476f711c",
   "metadata": {},
   "outputs": [],
   "source": [
    "_df_table_grandes_groupby.sort_values(by=['delta_vol'], ascending=False).head()"
   ]
  },
  {
   "cell_type": "code",
   "execution_count": null,
   "id": "c8b31f9a",
   "metadata": {},
   "outputs": [],
   "source": [
    "_df_table_grandes_groupby.sort_values(by=['delta_vol'], ascending=False).head(60).nlargest(10, 'delta_vol')"
   ]
  },
  {
   "cell_type": "code",
   "execution_count": null,
   "id": "ced9f00c",
   "metadata": {},
   "outputs": [],
   "source": [
    "_df_table_grandes_groupby.info()"
   ]
  },
  {
   "cell_type": "code",
   "execution_count": null,
   "id": "94be654a",
   "metadata": {},
   "outputs": [],
   "source": [
    "_df_table_grandes_groupby['delta_window3m'] = _df_table_grandes_groupby['VolANP'] - _df_table_grandes_groupby['window_3m']"
   ]
  },
  {
   "cell_type": "code",
   "execution_count": null,
   "id": "9c8ca6c8",
   "metadata": {},
   "outputs": [],
   "source": [
    "_df_table_grandes_groupby['delta_share_pp'] = _df_table_grandes_groupby['share_razao'] - _df_table_grandes_groupby['preview_share']"
   ]
  },
  {
   "cell_type": "code",
   "execution_count": null,
   "id": "7a5e4c13",
   "metadata": {},
   "outputs": [],
   "source": [
    "_df_table_grandes_groupby['delta_share_pp'] = _df_table_grandes_groupby['delta_share_pp']*100"
   ]
  },
  {
   "cell_type": "code",
   "execution_count": null,
   "id": "43c1100f",
   "metadata": {},
   "outputs": [],
   "source": [
    "_df_table_grandes_groupby['share_razao'] = _df_table_grandes_groupby['share_razao']*100"
   ]
  },
  {
   "cell_type": "code",
   "execution_count": null,
   "id": "21c81e1b",
   "metadata": {},
   "outputs": [],
   "source": [
    "_df_table_grandes_groupby['preview_share'] = _df_table_grandes_groupby['preview_share']*100"
   ]
  },
  {
   "cell_type": "code",
   "execution_count": null,
   "id": "7c12c5f2",
   "metadata": {
    "scrolled": true
   },
   "outputs": [],
   "source": [
    "# mask = (_df_table_grandes_groupby['ds'] >= '2023-05-01') & (_df_table_grandes_groupby['ds'] <= '2023-09-01') & (_df_table_grandes_groupby['GRUPO'] == 'RAIZEN') & (_df_table_grandes_groupby['QUALIF_DEST'] != 'TRR') \n",
    "# #_df_table_grandes_groupby.loc[mask][['id','VolANP','preview_value','preview_value_12','delta_vol','delta_vol_12','share_razao','preview_share','delta_share_pp','QUALIF_DEST','ds','GRUPO']].sort_values(by=['delta_vol'], ascending=False).nlargest(30, 'delta_share_pp')\n",
    "# _df_table_grandes_groupby.loc[mask][['id','VolANP','preview_value','preview_value_12','delta_vol','delta_vol_12','share_razao','preview_share','delta_share_pp','QUALIF_DEST','ds','GRUPO']].sort_values(by=['delta_vol'], ascending=False)"
   ]
  },
  {
   "cell_type": "code",
   "execution_count": null,
   "id": "b13e6cf6",
   "metadata": {},
   "outputs": [],
   "source": [
    "# mask = (_df_table_grandes_groupby['ds'] >= '2023-05-01') & (_df_table_grandes_groupby['ds'] <= '2023-09-01') & (_df_table_grandes_groupby['GRUPO'] == 'RAIZEN') \n",
    "# #_df_table_grandes_groupby.loc[mask][['id','VolANP','preview_value','preview_value_12','delta_vol','delta_vol_12','share_razao','preview_share','delta_share_pp','QUALIF_DEST','ds','GRUPO']].sort_values(by=['delta_vol'], ascending=False).nlargest(30, 'delta_share_pp').to_excel(\"30maiorespordeltasharepp_cluster_grandes_dimensãoBR.xlsx\")\n",
    "# _df_table_grandes_groupby.loc[mask][['id','VolANP','preview_value','preview_value_12','delta_vol','delta_vol_12','share_razao','preview_share','delta_share_pp','QUALIF_DEST','ds','GRUPO']].sort_values(by=['delta_vol'], ascending=False).nlargest(30, 'delta_share_pp').to_excel(\"deltasharepp_cluster_grandes_dimensãoBR.xlsx\")"
   ]
  },
  {
   "cell_type": "code",
   "execution_count": null,
   "id": "12b65da7",
   "metadata": {},
   "outputs": [],
   "source": [
    "#mask = (_df_table_grandes_groupby['ds'] >= '2023-05-01') & (_df_table_grandes_groupby['ds'] <= '2023-09-01') & (_df_table_grandes_groupby['GRUPO'] == 'RAIZEN') & (_df_table_grandes_groupby['QUALIF_DEST'] != 'TRR') \n",
    "mask = (_df_table_grandes_groupby['GRUPO'] == 'RAIZEN') & (_df_table_grandes_groupby['QUALIF_DEST'] != 'TRR') \n",
    "#_df_table_grandes_groupby.loc[mask][['id','VolANP','preview_value','preview_value_12','delta_vol','delta_vol_12','share_razao','preview_share','delta_share_pp','QUALIF_DEST','ds','GRUPO']].sort_values(by=['delta_vol'], ascending=False).nlargest(30, 'delta_share_pp').to_excel(\"CANAL10_30maiores_por_deltasharepp_cluster_grandes_dimensãoBR.xlsx\")\n",
    "_df_table_grandes_groupby.loc[mask][['id','VolANP','preview_value','preview_value_12','delta_vol','delta_vol_12','share_razao','preview_share','delta_share_pp','QUALIF_DEST','ds','GRUPO']].sort_values(by=['delta_vol'], ascending=False).to_excel(\"CANAL10_deltasharepp_cluster_grandes_dimensãoBR.xlsx\")"
   ]
  },
  {
   "cell_type": "code",
   "execution_count": null,
   "id": "a59fdde8",
   "metadata": {},
   "outputs": [],
   "source": [
    "_df_table_grandes_groupby.loc[(_df_table_grandes_groupby['delta_window3m'] > 0) & (_df_table_grandes_groupby['delta_vol'] > 0) & (_df_table_grandes_groupby['delta_share_pp'] > 0), 'flag_aumento'] = \"aumento\""
   ]
  },
  {
   "cell_type": "code",
   "execution_count": null,
   "id": "182c750d",
   "metadata": {},
   "outputs": [],
   "source": [
    "#mask = (_df_table_grandes_groupby['ds'] >= '2023-05-01') & (_df_table_grandes_groupby['ds'] <= '2023-09-01') & (_df_table_grandes_groupby['GRUPO'] == 'RAIZEN') & (_df_table_grandes_groupby['QUALIF_DEST'] != 'TRR') \n",
    "(_df_table_grandes_groupby['ds'] >= '2023-05-01') & (_df_table_grandes_groupby['ds'] <= '2023-09-01') & (_df_table_grandes_groupby['GRUPO'] == 'RAIZEN') & (_df_table_grandes_groupby['QUALIF_DEST'] != 'TRR') \n",
    "mask = (_df_table_grandes_groupby['QUALIF_DEST'] != 'TRR') \n",
    "#_df_table_grandes_groupby.loc[mask][['id','VolANP','preview_value','preview_value_12','delta_vol','delta_vol_12','share_razao','preview_share','delta_share_pp','QUALIF_DEST','ds','GRUPO']].sort_values(by=['delta_vol'], ascending=False).nlargest(30, 'delta_share_pp').to_excel(\"CANAL10_30maiores_por_deltasharepp_cluster_grandes_dimensãoBR.xlsx\")\n",
    "_df_table_grandes_groupby.loc[mask][['id','var','window_3m','VolANP','preview_value','preview_value_12','delta_vol','delta_vol_12','share_razao','preview_share','delta_share_pp','QUALIF_DEST','ds','GRUPO','flag_aumento']].sort_values(by=['delta_vol'], ascending=False).to_excel(\"CANAL10_deltasharepp_cluster_grandes_dimensãoBR_todosgrupos.xlsx\")"
   ]
  },
  {
   "cell_type": "code",
   "execution_count": null,
   "id": "5a893b52",
   "metadata": {},
   "outputs": [],
   "source": [
    "# #mask = (_df_table_grandes_groupby['ds'] >= '2023-05-01') & (_df_table_grandes_groupby['ds'] <= '2023-09-01') & (_df_table_grandes_groupby['QUALIF_DEST'] != 'TRR') \n",
    "# mask = (_df_table_grandes_groupby['QUALIF_DEST'] != 'TRR') \n",
    "# grandes_analitico = _df_table_grandes_groupby.loc[mask][['id','VolANP','preview_value','preview_value_12','delta_vol','delta_vol_12','share_razao','preview_share','delta_share_pp','QUALIF_DEST','ds','GRUPO','var']].sort_values(by=['delta_vol'], ascending=False)"
   ]
  },
  {
   "cell_type": "code",
   "execution_count": null,
   "id": "dd6c80c6",
   "metadata": {},
   "outputs": [],
   "source": [
    "#mask = (_df_table_grandes_groupby['ds'] >= '2023-05-01') & (_df_table_grandes_groupby['ds'] <= '2023-09-01') & (_df_table_grandes_groupby['QUALIF_DEST'] != 'TRR') \n",
    "mask = (_df_table_grandes_groupby['QUALIF_DEST'] != 'TRR') \n",
    "grandes_analitico = _df_table_grandes_groupby.loc[mask][['id','VolANP','preview_value','preview_value_12','delta_vol','delta_vol_12','share_razao','preview_share','delta_share_pp','QUALIF_DEST','ds','GRUPO','var']].sort_values(by=['delta_vol'], ascending=False)\n",
    "_grandes_analitico_ = grandes_analitico.groupby([\"GRUPO\",\"ds\"])\n",
    "grandes_analitico_vol = _grandes_analitico_.agg({\"var\":\"sum\"}).reset_index()\n",
    "grandes_analitico_vol.to_parquet(\"grandes_analitico_vol.parquet\")\n",
    "grandes_analitico_vol.to_excel(\"grandes_analitico_vol.xlsx\")\n",
    "\n",
    "fig =px.line(grandes_analitico_vol, \n",
    "            x=\"ds\", \n",
    "            y=\"var\",\n",
    "            title=\"BR - tendência - cluster grandes - canal 10\",\n",
    "            color=\"GRUPO\",\n",
    "            color_discrete_sequence=px.colors.qualitative.Pastel2,\n",
    "            hover_data=[\"GRUPO\"]\n",
    "        )\n",
    "\n",
    "fig.update_layout(\n",
    "    autosize=False,\n",
    "    width= 1300,\n",
    "    height=700\n",
    ")\n",
    "    \n",
    "fig.update_layout(\n",
    "        title = {\"x\": .45, \"y\": .90, \"font\": {\"color\":\"darkslateblue\"}},\n",
    "        plot_bgcolor = \"#fcfafa\",\n",
    "        paper_bgcolor = \"#fcfafa\", \n",
    "        font=dict(size=11)\n",
    "    )\n",
    "fig.show()\n"
   ]
  },
  {
   "cell_type": "code",
   "execution_count": null,
   "id": "bd5eecbb",
   "metadata": {},
   "outputs": [],
   "source": [
    "#_df_table_grandes_groupby.head(10)"
   ]
  },
  {
   "cell_type": "code",
   "execution_count": null,
   "id": "69fae5b7",
   "metadata": {},
   "outputs": [],
   "source": [
    "#mask = (_df_table_grandes_groupby['ds'] >= '2023-05-01') & (_df_table_grandes_groupby['ds'] <= '2023-09-01') & (_df_table_grandes_groupby['QUALIF_DEST'] != 'TRR') \n",
    "mask = (_df_table_grandes_groupby['QUALIF_DEST'] != 'TRR') & (_df_table_grandes_groupby['GRUPO'] == 'RAIZEN')\n",
    "grandes_analitico = _df_table_grandes_groupby.loc[mask][['id','NOM_RAZAO_SOCIAL_dest','VolANP','preview_value','preview_value_12','delta_vol','delta_vol_12','share_razao','preview_share','delta_share_pp','QUALIF_DEST','ds','GRUPO','var']].sort_values(by=['delta_vol'], ascending=False)\n",
    "_grandes_analitico_ = grandes_analitico.groupby([\"NOM_RAZAO_SOCIAL_dest\",\"ds\"])\n",
    "grandes_analitico_vol = _grandes_analitico_.agg({\"VolANP\":\"sum\"}).reset_index()\n",
    "grandes_analitico_vol.to_parquet(\"grandes_analitico_vol.parquet\")\n",
    "grandes_analitico_vol.to_excel(\"grandes_analitico_vol.xlsx\")\n",
    "\n",
    "fig =px.line(grandes_analitico_vol, \n",
    "            x=\"ds\", \n",
    "            y=\"VolANP\",\n",
    "            title=\"BR - tendência - cluster grandes - canal 10 \",\n",
    "            color=\"NOM_RAZAO_SOCIAL_dest\",\n",
    "            color_discrete_sequence=px.colors.qualitative.Pastel2,\n",
    "            hover_data=[\"NOM_RAZAO_SOCIAL_dest\"]\n",
    "        )\n",
    "\n",
    "fig.update_layout(\n",
    "    autosize=False,\n",
    "    width= 1300,\n",
    "    height=700\n",
    ")\n",
    "    \n",
    "fig.update_layout(\n",
    "        title = {\"x\": .45, \"y\": .90, \"font\": {\"color\":\"darkslateblue\"}},\n",
    "        plot_bgcolor = \"#fcfafa\",\n",
    "        paper_bgcolor = \"#fcfafa\", \n",
    "        font=dict(size=11)\n",
    "    )\n",
    "fig.show()\n"
   ]
  },
  {
   "cell_type": "code",
   "execution_count": null,
   "id": "68fcd28c",
   "metadata": {
    "scrolled": false
   },
   "outputs": [],
   "source": [
    "#mask = (_df_table_grandes_groupby['ds'] >= '2023-05-01') & (_df_table_grandes_groupby['ds'] <= '2023-09-01') & (_df_table_grandes_groupby['QUALIF_DEST'] != 'TRR') \n",
    "mask = (_df_table_grandes_groupby['QUALIF_DEST'] != 'TRR') & (_df_table_grandes_groupby['GRUPO'] == 'RAIZEN')\n",
    "grandes_analitico = _df_table_grandes_groupby.loc[mask][['id','NOM_RAZAO_SOCIAL_dest','VolANP','preview_value','preview_value_12','delta_vol','delta_vol_12','share_razao','preview_share','delta_share_pp','QUALIF_DEST','ds','GRUPO','var']].sort_values(by=['delta_vol'], ascending=False)\n",
    "_grandes_analitico_ = grandes_analitico.groupby([\"NOM_RAZAO_SOCIAL_dest\",\"ds\"])\n",
    "grandes_analitico_vol = _grandes_analitico_.agg({\"var\":\"sum\"}).reset_index()\n",
    "grandes_analitico_vol.to_parquet(\"grandes_analitico_vol.parquet\")\n",
    "grandes_analitico_vol.to_excel(\"grandes_analitico_vol.xlsx\")\n",
    "\n",
    "fig =px.line(grandes_analitico_vol, \n",
    "            x=\"ds\", \n",
    "            y=\"var\",\n",
    "            title=\"BR - tendência - cluster grandes - canal 10 \",\n",
    "            color=\"NOM_RAZAO_SOCIAL_dest\",\n",
    "            color_discrete_sequence=px.colors.qualitative.Pastel2,\n",
    "            hover_data=[\"NOM_RAZAO_SOCIAL_dest\"]\n",
    "        )\n",
    "\n",
    "fig.update_layout(\n",
    "    autosize=False,\n",
    "    width= 1300,\n",
    "    height=700\n",
    ")\n",
    "    \n",
    "fig.update_layout(\n",
    "        title = {\"x\": .45, \"y\": .90, \"font\": {\"color\":\"darkslateblue\"}},\n",
    "        plot_bgcolor = \"#fcfafa\",\n",
    "        paper_bgcolor = \"#fcfafa\", \n",
    "        font=dict(size=11)\n",
    "    )\n",
    "fig.show()\n"
   ]
  },
  {
   "cell_type": "code",
   "execution_count": null,
   "id": "7c8dea70",
   "metadata": {},
   "outputs": [],
   "source": [
    "_df_table_grandes_groupby.info()"
   ]
  },
  {
   "cell_type": "code",
   "execution_count": null,
   "id": "58655a36",
   "metadata": {},
   "outputs": [],
   "source": [
    "_df_table_grandes_groupby['id'].value_counts()"
   ]
  },
  {
   "cell_type": "code",
   "execution_count": null,
   "id": "602f6be9",
   "metadata": {},
   "outputs": [],
   "source": [
    "_df_table_grandes_groupby['ds'].value_counts()"
   ]
  },
  {
   "cell_type": "code",
   "execution_count": null,
   "id": "830e6915",
   "metadata": {},
   "outputs": [],
   "source": []
  },
  {
   "cell_type": "code",
   "execution_count": null,
   "id": "e187572b",
   "metadata": {},
   "outputs": [],
   "source": []
  },
  {
   "cell_type": "code",
   "execution_count": null,
   "id": "92db0ce4",
   "metadata": {},
   "outputs": [],
   "source": []
  },
  {
   "cell_type": "code",
   "execution_count": null,
   "id": "47039c10",
   "metadata": {},
   "outputs": [],
   "source": []
  },
  {
   "cell_type": "code",
   "execution_count": null,
   "id": "b369ba7f",
   "metadata": {},
   "outputs": [],
   "source": [
    "#fim 2022\n",
    "fim = ft_conc['ds'].max() - relativedelta(months=12)\n",
    "fim"
   ]
  },
  {
   "cell_type": "code",
   "execution_count": null,
   "id": "8825b832",
   "metadata": {},
   "outputs": [],
   "source": [
    "fim"
   ]
  },
  {
   "cell_type": "code",
   "execution_count": null,
   "id": "f79755b0",
   "metadata": {},
   "outputs": [],
   "source": [
    "filtro22 = ft_conc['ds']<= fim\n",
    "ft_conc_filtro22 = pd.DataFrame(ft_conc[filtro22])\n",
    "ft_conc_filtro22['ds'].max()"
   ]
  },
  {
   "cell_type": "code",
   "execution_count": null,
   "id": "2f6dc0e7",
   "metadata": {},
   "outputs": [],
   "source": []
  },
  {
   "cell_type": "code",
   "execution_count": null,
   "id": "a38a5ea6",
   "metadata": {},
   "outputs": [],
   "source": []
  },
  {
   "cell_type": "code",
   "execution_count": null,
   "id": "509f636d",
   "metadata": {},
   "outputs": [],
   "source": []
  },
  {
   "cell_type": "code",
   "execution_count": null,
   "id": "68f4e3b3",
   "metadata": {},
   "outputs": [],
   "source": []
  },
  {
   "cell_type": "code",
   "execution_count": null,
   "id": "c8dd476d",
   "metadata": {},
   "outputs": [],
   "source": []
  },
  {
   "cell_type": "code",
   "execution_count": null,
   "id": "fd1b88f5",
   "metadata": {},
   "outputs": [],
   "source": []
  },
  {
   "cell_type": "code",
   "execution_count": null,
   "id": "4a13b4ef",
   "metadata": {},
   "outputs": [],
   "source": []
  },
  {
   "cell_type": "code",
   "execution_count": null,
   "id": "d82a703e",
   "metadata": {},
   "outputs": [],
   "source": []
  },
  {
   "cell_type": "code",
   "execution_count": null,
   "id": "a3668050",
   "metadata": {},
   "outputs": [],
   "source": []
  },
  {
   "cell_type": "code",
   "execution_count": null,
   "id": "d9c49a64",
   "metadata": {},
   "outputs": [],
   "source": []
  },
  {
   "cell_type": "code",
   "execution_count": null,
   "id": "6a3b7667",
   "metadata": {},
   "outputs": [],
   "source": []
  },
  {
   "cell_type": "code",
   "execution_count": null,
   "id": "92ee4d26",
   "metadata": {},
   "outputs": [],
   "source": [
    "# mask = (_df_table_grandes_groupby['ds'] == '2023-09-01') & (_df_table_grandes_groupby['QUALIF_DEST'] != 'TRR')  & (_df_table_grandes_groupby['GRUPO'] == 'RAIZEN') \n",
    "# grandes_analitico = _df_table_grandes_groupby.loc[mask][['id','VolANP','preview_value','preview_value_12','delta_vol','delta_vol_12','share_razao','preview_share','delta_share_pp','QUALIF_DEST','ds','GRUPO','var']].sort_values(by=['delta_vol'], ascending=False)\n",
    "# grandes_analitico = round(grandes_analitico, 2)\n",
    "# grandes_analitico.info()\n",
    "# grandes_analitico.to_parquet(\"grandes_analitico.parquet\")\n",
    "# grandes_analitico.to_excel(\"grandes_analitico.xlsx\")"
   ]
  },
  {
   "cell_type": "code",
   "execution_count": null,
   "id": "d5433fd4",
   "metadata": {},
   "outputs": [],
   "source": [
    "# # quadrantes grandes 22\n",
    "\n",
    "# #RAIZEN_grandes22['share_raizen'] = RAIZEN_grandes22['share_raizen']*100\n",
    "# linha_mediana = grandes_analitico['VolANP'].median()\n",
    "# linha_media = grandes_analitico['VolANP'].mean()\n",
    "# share_mediana = grandes_analitico['share_razao'].median()\n",
    "# share_media = grandes_analitico['share_razao'].mean()\n",
    "\n",
    "# linha_mediana = round(linha_mediana, 2)\n",
    "# linha_media = round(linha_media, 2)\n",
    "# share_mediana = round(share_mediana, 2)\n",
    "# share_media = round(share_media, 2)\n",
    "\n",
    "# conditions = [\n",
    "#     (grandes_analitico['share_razao'] > share_media) & (grandes_analitico['VolANP'] > linha_media),\n",
    "#     (grandes_analitico['share_razao'] > share_media) & (grandes_analitico['VolANP'] <= linha_media),\n",
    "#     (grandes_analitico['share_razao'] <= share_media) & (grandes_analitico['VolANP'] > linha_media),\n",
    "#     (grandes_analitico['share_razao'] <= share_media) & (grandes_analitico['VolANP'] <= linha_media)]\n",
    "\n",
    "# choices1 = ['Share acima da média e Volumes acima da média no ano','Share acima da média e Volumes abaixo da média no ano','Share abaixo da média e Volumes acima da média no ano','Share abaixo da média e Volumes abaixo da média no ano']\n",
    "# choices2 = ['Sucesso','Bom','Atenção','Razoável']\n",
    "\n",
    "# grandes_analitico['quadrante_desc'] = np.select(conditions, choices1, default='sem_grupo')\n",
    "# grandes_analitico['quadrante'] = np.select(conditions, choices2, default='sem_grupo')\n",
    "\n",
    "# grandes_analitico = round(grandes_analitico, 2)\n",
    "\n",
    "\n",
    "\n",
    "# figure2 = px.scatter(\n",
    "#         grandes_analitico,\n",
    "#         x=\"VolANP\",\n",
    "#         y=\"share_razao\",\n",
    "#         color_discrete_sequence=px.colors.qualitative.Set3,\n",
    "#         color=grandes_analitico['id'],\n",
    "#         labels={\n",
    "#             \"VolANP\": \"Volume m³ setembro 2023\",\n",
    "#             \"share_razao\": \"share setembro 2023\"\n",
    "#         },\n",
    "#         #hover_data=[\"QUALIF_DEST\",\"quadrante_desc\",\"quadrante\",\"faixa_razao\"],\n",
    "#         hover_data=[\"VolANP\",\"preview_value\",\"preview_value_12\",\"delta_vol\",\"delta_vol_12\",\"share_razao\",\"preview_share\",\"delta_share_pp\",\"QUALIF_DEST\",\"quadrante\"],\n",
    "#         title=\"Segmento Grandes - Brasil - Vol x Share - 2023-09\",\n",
    "#     )#.update_layout(\n",
    "# #     legend_title=\"Funding\"\n",
    "# #    font_color=\"Green\",\n",
    "# #    legend_title={\n",
    "# #        \"text\": \"Funding\",\n",
    "# #        \"font\":{\n",
    "# #            \"color\":\"Red\",\n",
    "# #            \"family\": \"Comic Sans\"\n",
    "# #        }\n",
    "# #    }\n",
    "# #)\n",
    "# figure2.update_layout(\n",
    "#     autosize=False,\n",
    "#     width= 1300,\n",
    "#     height=700\n",
    "# )\n",
    "# figure2.update_xaxes(showgrid=False)\n",
    "# figure2.update_yaxes(showgrid=True)\n",
    "\n",
    "# figure2.update_layout(\n",
    "#         title = {\"x\": .5, \"y\": .90, \"font\": {\"color\":\"darkslateblue\"}},\n",
    "#         plot_bgcolor = \"#fcfafa\",\n",
    "#         paper_bgcolor = \"#fcfafa\"\n",
    "#     )\n",
    "# figure2.add_hline(y=share_media, line_dash=\"dot\", line_color=\"blue\", annotation_text=f'Media = {share_media:.2f}',annotation_position=\"top left\" )\n",
    "# figure2.add_hline(y=share_mediana, line_dash=\"dot\", line_color=\"yellow\", annotation_text=f'Mediana = {share_mediana:.2f}',annotation_position=\"top right\" )\n",
    "# figure2.add_vline(x=linha_mediana, line_dash=\"dot\", line_color=\"blue\", annotation_text=f'Mediana = {linha_mediana:.2f}',annotation_position=\"top left\" )\n",
    "# figure2.add_vline(x=linha_media, line_dash=\"dot\", line_color=\"yellow\", annotation_text=f'Media = {linha_media:.2f}',annotation_position=\"top right\" )\n",
    "\n",
    "\n",
    "# figure2.show()\n",
    "\n"
   ]
  },
  {
   "cell_type": "code",
   "execution_count": null,
   "id": "8047c77b",
   "metadata": {},
   "outputs": [],
   "source": []
  },
  {
   "cell_type": "code",
   "execution_count": null,
   "id": "96e3912e",
   "metadata": {},
   "outputs": [],
   "source": []
  },
  {
   "cell_type": "code",
   "execution_count": null,
   "id": "5d82876c",
   "metadata": {},
   "outputs": [],
   "source": []
  },
  {
   "cell_type": "code",
   "execution_count": null,
   "id": "4b6680dc",
   "metadata": {},
   "outputs": [],
   "source": []
  },
  {
   "cell_type": "markdown",
   "id": "7137020b",
   "metadata": {},
   "source": [
    "# MONTAGEM DAS TABELAS DE CONCORRÊNCIA COM FILTRO \n",
    "\n",
    "# medio_grandes\n"
   ]
  },
  {
   "cell_type": "code",
   "execution_count": null,
   "id": "364be232",
   "metadata": {},
   "outputs": [],
   "source": [
    "# MONTAGEM DAS TABELAS DE CONCORRÊNCIA COM FILTRO \n",
    "\n",
    "# medio_grandes\n",
    "\n",
    "\n",
    "# quadrantes medio_grandes 23\n",
    "\n",
    "#RAIZEN_medio_grandes23['share_raizen'] = RAIZEN_medio_grandes23['share_raizen']*100\n",
    "linha_mediana23 = RAIZEN_medio_grandes23['VolANP_ano'].median()\n",
    "linha_media23 = RAIZEN_medio_grandes23['VolANP_ano'].mean()\n",
    "share_mediana23 = RAIZEN_medio_grandes23['share_raizen'].median()\n",
    "share_media23 = RAIZEN_medio_grandes23['share_raizen'].mean()\n",
    "\n",
    "linha_mediana23 = round(linha_mediana23, 2)\n",
    "linha_media23 = round(linha_media23, 2)\n",
    "share_mediana23 = round(share_mediana23, 2)\n",
    "share_media23 = round(share_media23, 2)\n",
    "\n",
    "conditions = [\n",
    "    (RAIZEN_medio_grandes23['share_raizen'] > share_media23) & (RAIZEN_medio_grandes23['VolANP_ano'] > linha_media23),\n",
    "    (RAIZEN_medio_grandes23['share_raizen'] > share_media23) & (RAIZEN_medio_grandes23['VolANP_ano'] <= linha_media23),\n",
    "    (RAIZEN_medio_grandes23['share_raizen'] <= share_media23) & (RAIZEN_medio_grandes23['VolANP_ano'] > linha_media23),\n",
    "    (RAIZEN_medio_grandes23['share_raizen'] <= share_media23) & (RAIZEN_medio_grandes23['VolANP_ano'] <= linha_media23)]\n",
    "\n",
    "choices1 = ['Share acima da média e Volumes acima da média no ano','Share acima da média e Volumes abaixo da média no ano','Share abaixo da média e Volumes acima da média no ano','Share abaixo da média e Volumes abaixo da média no ano']\n",
    "choices2 = ['Sucesso','Bom','Atenção','Razoável']\n",
    "\n",
    "RAIZEN_medio_grandes23['quadrante_desc'] = np.select(conditions, choices1, default='sem_grupo')\n",
    "RAIZEN_medio_grandes23['quadrante'] = np.select(conditions, choices2, default='sem_grupo')\n",
    "\n",
    "RAIZEN_medio_grandes23 = round(RAIZEN_medio_grandes23, 2)\n",
    "RAIZEN_medio_grandes23\n",
    "\n"
   ]
  },
  {
   "cell_type": "code",
   "execution_count": null,
   "id": "d4fb2300",
   "metadata": {},
   "outputs": [],
   "source": [
    "\n",
    "# quadrantes medio_grandes 22\n",
    "\n",
    "#RAIZEN_medio_grandes22['share_raizen'] = RAIZEN_medio_grandes22['share_raizen']*100\n",
    "linha_mediana22 = RAIZEN_medio_grandes22['VolANP_ano'].median()\n",
    "linha_media22 = RAIZEN_medio_grandes22['VolANP_ano'].mean()\n",
    "share_mediana22 = RAIZEN_medio_grandes22['share_raizen'].median()\n",
    "share_media22 = RAIZEN_medio_grandes22['share_raizen'].mean()\n",
    "\n",
    "linha_mediana22 = round(linha_mediana22, 2)\n",
    "linha_media22 = round(linha_media22, 2)\n",
    "share_mediana22 = round(share_mediana22, 2)\n",
    "share_media22 = round(share_media22, 2)\n",
    "\n",
    "conditions = [\n",
    "    (RAIZEN_medio_grandes22['share_raizen'] > share_media22) & (RAIZEN_medio_grandes22['VolANP_ano'] > linha_media22),\n",
    "    (RAIZEN_medio_grandes22['share_raizen'] > share_media22) & (RAIZEN_medio_grandes22['VolANP_ano'] <= linha_media22),\n",
    "    (RAIZEN_medio_grandes22['share_raizen'] <= share_media22) & (RAIZEN_medio_grandes22['VolANP_ano'] > linha_media22),\n",
    "    (RAIZEN_medio_grandes22['share_raizen'] <= share_media22) & (RAIZEN_medio_grandes22['VolANP_ano'] <= linha_media22)]\n",
    "\n",
    "choices1 = ['Share acima da média e Volumes acima da média no ano','Share acima da média e Volumes abaixo da média no ano','Share abaixo da média e Volumes acima da média no ano','Share abaixo da média e Volumes abaixo da média no ano']\n",
    "choices2 = ['Sucesso','Bom','Atenção','Razoável']\n",
    "\n",
    "RAIZEN_medio_grandes22['quadrante_desc'] = np.select(conditions, choices1, default='sem_grupo')\n",
    "RAIZEN_medio_grandes22['quadrante'] = np.select(conditions, choices2, default='sem_grupo')\n",
    "\n",
    "RAIZEN_medio_grandes22 = round(RAIZEN_medio_grandes22, 2)\n",
    "RAIZEN_medio_grandes22"
   ]
  },
  {
   "cell_type": "code",
   "execution_count": null,
   "id": "472838d7",
   "metadata": {},
   "outputs": [],
   "source": [
    "\n",
    "\n",
    "# medio_grandes\n",
    "\n",
    "RAIZEN_medio_grandes =  pd.concat([RAIZEN_medio_grandes22,RAIZEN_medio_grandes23])\n",
    "RAIZEN_medio_grandes\n"
   ]
  },
  {
   "cell_type": "code",
   "execution_count": null,
   "id": "11d5d118",
   "metadata": {},
   "outputs": [],
   "source": [
    "\n",
    "# pivot table dim - ANO/razãosocial \n",
    "table = pd.pivot_table(RAIZEN_medio_grandes, values='VolANP_ano', index=['NOM_RAZAO_SOCIAL_dest'],\n",
    "                       columns=['ano'], aggfunc=\"sum\")\n",
    "table = table.reset_index()\n",
    "table"
   ]
  },
  {
   "cell_type": "code",
   "execution_count": null,
   "id": "fc252a07",
   "metadata": {},
   "outputs": [],
   "source": [
    "\n",
    "\n",
    "table.fillna(0.00001, inplace = True)\n",
    "table['VolANP_delta%'] = ((table['2023'] - table['2022'])/table['2023'])*100\n",
    "table\n"
   ]
  },
  {
   "cell_type": "code",
   "execution_count": null,
   "id": "7ea6b570",
   "metadata": {},
   "outputs": [],
   "source": [
    "\n",
    "# unificando com table_share\n",
    "\n",
    "table_share.rename(columns= {'2022':'2022_share_ano'}, inplace = True)\n",
    "table_share.rename(columns= {'2023':'2023_share_ano'}, inplace = True)\n",
    "\n",
    "table_share"
   ]
  },
  {
   "cell_type": "code",
   "execution_count": null,
   "id": "7095486e",
   "metadata": {},
   "outputs": [],
   "source": [
    "\n",
    "\n",
    "### merge table share\n",
    "\n",
    "table.rename(columns= {'2022':'2022_VolANP_ano'}, inplace = True)\n",
    "table.rename(columns= {'2023':'2023_VolANP_ano'}, inplace = True)\n",
    "\n",
    "table = table.merge(table_share, how='inner', on = ['NOM_RAZAO_SOCIAL_dest'])\n",
    "table\n",
    "\n",
    "\n",
    "\n",
    "# mask = table[\"delta\"] < 0\n",
    "# table = table[mask]\n",
    "# table\n"
   ]
  },
  {
   "cell_type": "code",
   "execution_count": null,
   "id": "9c954f6d",
   "metadata": {},
   "outputs": [],
   "source": [
    "\n",
    "\n",
    "# GRÁFICOS\n",
    "\n",
    "#outliers\n",
    "\n",
    "## medio_grandes\n",
    "\n",
    "\n",
    "q_medio_grandes = RAIZEN_medio_grandes[['NOM_RAZAO_SOCIAL_dest','QUALIF_DEST','faixa_razao','quadrante']].drop_duplicates(subset = \"NOM_RAZAO_SOCIAL_dest\" )\n",
    "q_medio_grandes\n"
   ]
  },
  {
   "cell_type": "code",
   "execution_count": null,
   "id": "18f1787c",
   "metadata": {},
   "outputs": [],
   "source": [
    "\n",
    "\n",
    "table = table.merge(q_medio_grandes, how='left', on = ['NOM_RAZAO_SOCIAL_dest'])\n",
    "table\n",
    "\n"
   ]
  },
  {
   "cell_type": "code",
   "execution_count": null,
   "id": "55ae1edd",
   "metadata": {},
   "outputs": [],
   "source": [
    "\n",
    "\n",
    "table = round(table, 2)\n",
    "\n",
    "figure2 = px.scatter(\n",
    "        table,\n",
    "        x=\"2022_VolANP_ano\",\n",
    "        y=\"2023_VolANP_ano\",\n",
    "        color_discrete_sequence=px.colors.qualitative.Set3,\n",
    "        color=table['NOM_RAZAO_SOCIAL_dest'],\n",
    "        labels={\n",
    "            \"2022_VolANP_ano\": \"Volume Ano 2022\",\n",
    "            \"2023_VolANP_ano\": \"Volume Ano 2023\"\n",
    "        },\n",
    "        #hover_data=[\"QUALIF_DEST\",\"quadrante_desc\",\"quadrante\",\"faixa_razao\"],\n",
    "        hover_data=[\"2022_VolANP_ano\",\"2023_VolANP_ano\",\"delta_share\",\"QUALIF_DEST\",\"faixa_razao\",\"quadrante\"],\n",
    "        title=\"Segmento medio_grandes - Brasil - share RAIZEN\",\n",
    "    )#.update_layout(\n",
    "#     legend_title=\"Funding\"\n",
    "#    font_color=\"Green\",\n",
    "#    legend_title={\n",
    "#        \"text\": \"Funding\",\n",
    "#        \"font\":{\n",
    "#            \"color\":\"Red\",\n",
    "#            \"family\": \"Comic Sans\"\n",
    "#        }\n",
    "#    }\n",
    "#)\n",
    "figure2.update_layout(\n",
    "    autosize=False,\n",
    "    width= 1300,\n",
    "    height=700\n",
    ")\n",
    "figure2.update_xaxes(showgrid=False)\n",
    "figure2.update_yaxes(showgrid=True)\n",
    "\n",
    "figure2.update_layout(\n",
    "        title = {\"x\": .5, \"y\": .90, \"font\": {\"color\":\"darkslateblue\"}},\n",
    "        plot_bgcolor = \"#fcfafa\",\n",
    "        paper_bgcolor = \"#fcfafa\"\n",
    "    )\n",
    "figure2.add_hline(y=linha_media22, line_dash=\"dot\", line_color=\"blue\", annotation_text=f'Media22 = {linha_media22:.2f}',annotation_position=\"top left\" )\n",
    "figure2.add_hline(y=linha_media23, line_dash=\"dot\", line_color=\"yellow\", annotation_text=f'Media23 = {linha_media23:.2f}',annotation_position=\"top right\" )\n",
    "\n",
    "figure2.show()\n",
    "\n",
    "\n"
   ]
  },
  {
   "cell_type": "code",
   "execution_count": null,
   "id": "6d770046",
   "metadata": {},
   "outputs": [],
   "source": [
    "\n",
    "table_medio_grandes_raizen_ano = table\n",
    "\n",
    "table_medio_grandes_raizen_ano.info()\n",
    "\n",
    "table = table.drop(['QUALIF_DEST'], axis=1)\n",
    "table = table.drop(['faixa_razao'], axis=1)\n",
    "\n",
    "table\n"
   ]
  },
  {
   "cell_type": "code",
   "execution_count": null,
   "id": "22c00f08",
   "metadata": {},
   "outputs": [],
   "source": [
    "\n",
    "#fim 2022\n",
    "fim = df['ds'].max() - relativedelta(months=12)\n",
    "fim\n",
    "\n",
    "filtro22 = df['ds']<= fim\n",
    "df_filtro22 = pd.DataFrame(df[filtro22])\n",
    "df_filtro22['ds'].max()\n",
    "\n",
    "mask = df[\"ano\"] == \"2023\"\n",
    "df_filtro23 = df[mask]\n",
    "df_filtro23['ds'].max()\n",
    "\n",
    "df_filtro23['ds'].min()\n",
    "\n",
    "df_filtro = pd.concat([df_filtro22,df_filtro23])\n",
    "\n",
    "print(df_filtro['ds'].unique())\n",
    "\n",
    "df_filtro.info()"
   ]
  },
  {
   "cell_type": "code",
   "execution_count": null,
   "id": "fda7eb06",
   "metadata": {},
   "outputs": [],
   "source": [
    "\n",
    "df_table_medio_grandes = df.merge(table, how='inner', on = ['NOM_RAZAO_SOCIAL_dest'])\n",
    "df_table_medio_grandes.info()\n",
    "\n",
    "# df_table_medio_grandes = df_filtro.merge(table, how='inner', on = ['NOM_RAZAO_SOCIAL_dest'])\n",
    "# df_table_medio_grandes.info()"
   ]
  },
  {
   "cell_type": "code",
   "execution_count": null,
   "id": "2a3079b8",
   "metadata": {},
   "outputs": [],
   "source": [
    "\n",
    "\n",
    "df_table_medio_grandes['id'] = df_table_medio_grandes['NOM_RAZAO_SOCIAL_dest']+\"|\"+df_table_medio_grandes['ds'].astype(str)+\"|\"+df_table_medio_grandes['QUALIF_DEST']+\"|\"+df_table_medio_grandes['GRUPO']\n"
   ]
  },
  {
   "cell_type": "code",
   "execution_count": null,
   "id": "51ebe229",
   "metadata": {},
   "outputs": [],
   "source": [
    "\n",
    "df_table_medio_grandes['idr'] = df_table_medio_grandes['NOM_RAZAO_SOCIAL_dest']+\"|\"+df_table_medio_grandes['ds'].astype(str)+\"|\"+df_table_medio_grandes['QUALIF_DEST']\n",
    "\n",
    "_df_table_medio_grandes = df_table_medio_grandes.groupby(['id','idr'])\n",
    "_df_table_medio_grandes_groupby = _df_table_medio_grandes.agg({\"VolANP\":\"sum\"}).reset_index()\n",
    "\n",
    "_df_table_medio_grandes_groupby.info()"
   ]
  },
  {
   "cell_type": "code",
   "execution_count": null,
   "id": "1fd33804",
   "metadata": {},
   "outputs": [],
   "source": [
    "\n",
    "\n",
    "_df_table_medio_grandes = df_table_medio_grandes.groupby(['idr'])\n",
    "_df_table_medio_grandes_groupby_razao = _df_table_medio_grandes.agg({\"VolANP\":\"sum\"}).reset_index()\n",
    "\n",
    "_df_table_medio_grandes_groupby_razao.rename(columns= {'VolANP':'VolANP_razao'}, inplace = True)\n",
    "\n",
    "_df_table_medio_grandes_groupby_razao.info()"
   ]
  },
  {
   "cell_type": "code",
   "execution_count": null,
   "id": "3c33f6b2",
   "metadata": {},
   "outputs": [],
   "source": [
    "\n",
    "\n",
    "_df_table_medio_grandes_groupby = _df_table_medio_grandes_groupby.merge(_df_table_medio_grandes_groupby_razao, how='left', on = ['idr'])\n",
    "\n",
    "_df_table_medio_grandes_groupby.info()"
   ]
  },
  {
   "cell_type": "code",
   "execution_count": null,
   "id": "0bf04a35",
   "metadata": {},
   "outputs": [],
   "source": [
    "\n",
    "\n",
    "_df_table_medio_grandes_groupby['share_razao'] = _df_table_medio_grandes_groupby['VolANP'] / _df_table_medio_grandes_groupby['VolANP_razao']\n",
    "\n",
    "_df_table_medio_grandes_groupby[['NOM_RAZAO_SOCIAL_dest','ds','QUALIF_DEST','GRUPO']] = _df_table_medio_grandes_groupby['id'].str.split(\"|\",expand=True)\n",
    "\n",
    "_df_table_medio_grandes_groupby['id_shift'] = _df_table_medio_grandes_groupby['NOM_RAZAO_SOCIAL_dest']+\"|\"+_df_table_medio_grandes_groupby['QUALIF_DEST']+\"|\"+_df_table_medio_grandes_groupby['GRUPO']\n",
    "\n",
    "_df_table_medio_grandes_groupby['preview_share'] = _df_table_medio_grandes_groupby.sort_values(by=['id']).groupby('id_shift')['share_razao'].shift(1)\n",
    "\n",
    "#_df_table_medio_grandes_groupby[['id','ds','share_razao','preview_share']].to_excel('testeshare.xlsx')\n",
    "\n",
    "#_df_table_medio_grandes_groupby.to_excel(\"_df_table_medio_grandes_groupby.xlsx\")\n",
    "\n",
    "_df_table_medio_grandes_groupby['preview_value'] = _df_table_medio_grandes_groupby.sort_values(by=['id']).groupby('id_shift')['VolANP'].shift(1)\n",
    "\n",
    "_df_table_medio_grandes_groupby['preview_value_2'] = _df_table_medio_grandes_groupby.sort_values(by=['id']).groupby('id_shift')['VolANP'].shift(2)\n",
    "\n",
    "_df_table_medio_grandes_groupby['preview_value_3'] = _df_table_medio_grandes_groupby.sort_values(by=['id']).groupby('id_shift')['VolANP'].shift(3)\n",
    "\n",
    "_df_table_medio_grandes_groupby['window_3m'] = (_df_table_medio_grandes_groupby['preview_value'] + _df_table_medio_grandes_groupby['preview_value_2'] + _df_table_medio_grandes_groupby['preview_value_3'])/3\n",
    "\n",
    "# representatividade da janela de 3 meses em relação ao Volume total da base\n",
    "_df_table_medio_grandes_groupby['var'] = (_df_table_medio_grandes_groupby['window_3m']/_df_table_medio_grandes_groupby['VolANP'].sum())*100\n",
    "\n",
    "_df_table_medio_grandes_groupby['preview_value_12'] = _df_table_medio_grandes_groupby.sort_values(by=['id']).groupby('id_shift')['VolANP'].shift(12)\n",
    "_df_table_medio_grandes_groupby['preview_window_3m_12'] = _df_table_medio_grandes_groupby.sort_values(by=['id']).groupby('id_shift')['window_3m'].shift(12)\n",
    "_df_table_medio_grandes_groupby['preview_var_12'] = _df_table_medio_grandes_groupby.sort_values(by=['id']).groupby('id_shift')['var'].shift(12)\n",
    "\n",
    "_df_table_medio_grandes_groupby.info()\n"
   ]
  },
  {
   "cell_type": "code",
   "execution_count": null,
   "id": "f428f8f4",
   "metadata": {},
   "outputs": [],
   "source": [
    "\n",
    "_df_table_medio_grandes_groupby['delta_vol'] = ((_df_table_medio_grandes_groupby['VolANP']-_df_table_medio_grandes_groupby['preview_value'])/_df_table_medio_grandes_groupby['VolANP'])*100\n",
    "\n",
    "_df_table_medio_grandes_groupby['delta_vol_12'] = ((_df_table_medio_grandes_groupby['VolANP']-_df_table_medio_grandes_groupby['preview_value_12'])/_df_table_medio_grandes_groupby['VolANP'])*100\n",
    "\n",
    "#_df_table_medio_grandes_groupby.to_excel(\"_df_table_medio_grandes_groupby.xlsx\")\n",
    "\n",
    "#filtro_df_table_medio_grandes_groupby = _df_table_medio_grandes_groupby.loc[(_df_table_medio_grandes_groupby.delta_vol > 0) | (_df_table_medio_grandes_groupby.delta_vol_12 > 0)]\n",
    "\n",
    "#filtro_df_table_medio_grandes_groupby[['id','NOM_RAZAO_SOCIAL_dest','ds','GRUPO','share_razao']]\n",
    "\n",
    "#filtro_df_table_medio_grandes_groupby.to_excel(\"filtro_df_table_medio_grandes_groupby.xlsx\")\n",
    "\n",
    "#filtro_df_table_medio_grandes_groupby.info()\n",
    "\n",
    "_df_table_medio_grandes_groupby.info()\n",
    "\n",
    "_df_table_medio_grandes_groupby_ = _df_table_medio_grandes_groupby.groupby([\"GRUPO\",\"ds\"])\n",
    "_df_table_medio_grandes_groupby_vol = _df_table_medio_grandes_groupby_.agg({\"VolANP\":\"sum\"}).reset_index()\n",
    "\n"
   ]
  },
  {
   "cell_type": "code",
   "execution_count": null,
   "id": "d49a980d",
   "metadata": {},
   "outputs": [],
   "source": [
    "\n",
    "fig =px.line(_df_table_medio_grandes_groupby_vol, \n",
    "            x=\"ds\", \n",
    "            y=\"VolANP\",\n",
    "            title=\"BR - Volume m³ - cluster medio_grandes\",\n",
    "            color=\"GRUPO\",\n",
    "            color_discrete_sequence=px.colors.qualitative.Pastel2,\n",
    "            hover_data=[\"GRUPO\"]\n",
    "        )\n",
    "\n",
    "fig.update_layout(\n",
    "    autosize=False,\n",
    "    width= 1300,\n",
    "    height=700\n",
    ")\n",
    "    \n",
    "fig.update_layout(\n",
    "        title = {\"x\": .45, \"y\": .90, \"font\": {\"color\":\"darkslateblue\"}},\n",
    "        plot_bgcolor = \"#fcfafa\",\n",
    "        paper_bgcolor = \"#fcfafa\", \n",
    "        font=dict(size=11)\n",
    "    )\n",
    "fig.show()\n"
   ]
  },
  {
   "cell_type": "code",
   "execution_count": null,
   "id": "f8aa785f",
   "metadata": {},
   "outputs": [],
   "source": [
    "\n",
    "\n",
    "_df_table_medio_grandes_groupby_ = _df_table_medio_grandes_groupby.groupby([\"GRUPO\",\"ds\"])\n",
    "_df_table_medio_grandes_groupby_vol = _df_table_medio_grandes_groupby_.agg({\"var\":\"sum\"}).reset_index()\n",
    "\n",
    "\n",
    "fig =px.line(_df_table_medio_grandes_groupby_vol, \n",
    "            x=\"ds\", \n",
    "            y=\"var\",\n",
    "            title=\"BR - tendência - cluster medio_grandes\",\n",
    "            color=\"GRUPO\",\n",
    "            color_discrete_sequence=px.colors.qualitative.Pastel2,\n",
    "            hover_data=[\"GRUPO\"]\n",
    "        )\n",
    "\n",
    "fig.update_layout(\n",
    "    autosize=False,\n",
    "    width= 1300,\n",
    "    height=700\n",
    ")\n",
    "    \n",
    "fig.update_layout(\n",
    "        title = {\"x\": .45, \"y\": .90, \"font\": {\"color\":\"darkslateblue\"}},\n",
    "        plot_bgcolor = \"#fcfafa\",\n",
    "        paper_bgcolor = \"#fcfafa\", \n",
    "        font=dict(size=11)\n",
    "    )\n",
    "fig.show()\n"
   ]
  },
  {
   "cell_type": "code",
   "execution_count": null,
   "id": "bcba585e",
   "metadata": {},
   "outputs": [],
   "source": [
    "\n",
    "\n",
    "#filtro_df_table_medio_grandes_groupby.info()\n",
    "\n",
    "_df_table_medio_grandes_groupby['ds'].value_counts()\n",
    "\n",
    "_df_table_medio_grandes_groupby[\"ds\"] = _df_table_medio_grandes_groupby[\"ds\"].apply(pd.to_datetime)\n",
    "\n",
    "_df_table_medio_grandes_groupby['ds_str'] = _df_table_medio_grandes_groupby['ds'].astype(str)\n",
    "\n",
    "_df_table_medio_grandes_groupby[['ano','mes','dia']] = _df_table_medio_grandes_groupby['ds_str'].str.split(\"-\",expand=True)\n",
    "\n",
    "mask1 = _df_table_medio_grandes_groupby[\"ano\"] == \"2022\"\n",
    "_df_table_medio_grandes_groupby_22 = _df_table_medio_grandes_groupby[mask1]\n",
    "_df_table_medio_grandes_groupby_22 [\"ano\"].value_counts()\n",
    "\n",
    "mask1 = _df_table_medio_grandes_groupby[\"ano\"] == \"2023\"\n",
    "_df_table_medio_grandes_groupby_23 = _df_table_medio_grandes_groupby[mask1]\n",
    "_df_table_medio_grandes_groupby_23 [\"ano\"].value_counts()\n",
    "\n",
    "dfg23volrazao =  _df_table_medio_grandes_groupby_23.groupby(by='NOM_RAZAO_SOCIAL_dest')['VolANP'].sum()\n",
    "dfg22volrazao =  _df_table_medio_grandes_groupby_22.groupby(by='NOM_RAZAO_SOCIAL_dest')['VolANP'].sum()\n",
    "\n",
    "dfg23volrazao = round(dfg23volrazao, 2)\n",
    "dfg23volrazao = dfg23volrazao.sort_values(ascending = False)\n",
    "\n",
    "dfg22volrazao = round(dfg22volrazao, 2)\n",
    "dfg22volrazao = dfg22volrazao.sort_values(ascending = False)\n",
    "\n",
    "\n",
    "dfg23volrazao_n6 = dfg23volrazao.nlargest(6)\n",
    "\n",
    "dfg22volrazao_n6 = dfg22volrazao.nlargest(6)\n"
   ]
  },
  {
   "cell_type": "code",
   "execution_count": null,
   "id": "6579d1f8",
   "metadata": {},
   "outputs": [],
   "source": [
    "\n",
    "figure1=px.bar(\n",
    "        (dfg23volrazao_n6\n",
    "         #.query(\"QUALIF_DEST in ['TRR']\")\n",
    "         #.sort_values(ascending = False)\n",
    "         #.nlargest(1)\n",
    "         #.groupby(\"GRUPO\", as_index=False)\n",
    "         #.mean()\n",
    "         #.rename({\"expenditure_per_student\": \"Expenditure Per Student (Thousands)\"}, axis=1)\n",
    "         #.nlargest(10, 'VolANP_ano')\n",
    "        ),\n",
    "        x=dfg23volrazao_n6.index,\n",
    "        y=dfg23volrazao_n6.values,\n",
    "        title=\"Volume m³ - por Empresa destino  - Ano 2023\",\n",
    "        color_discrete_sequence=px.colors.qualitative.Pastel2,\n",
    "        color=dfg23volrazao_n6.values,\n",
    "        color_continuous_scale=\"deep\",\n",
    "        text_auto='.0f',\n",
    "        #hover_data=[\"GRUPO\"]\n",
    "    )\n",
    "\n",
    "\n",
    "figure1.update_layout(\n",
    "        autosize=False,\n",
    "        width= 1300,\n",
    "        height=700\n",
    "    )\n",
    "\n",
    "figure1.update_layout(\n",
    "            title = {\"x\": .45, \"y\": .90, \"font\": {\"color\":\"darkslateblue\"}},\n",
    "            plot_bgcolor = \"#fcfafa\",\n",
    "            paper_bgcolor = \"#fcfafa\", \n",
    "            font=dict(size=11)\n",
    "        )\n",
    "#figure1.show()\n",
    "\n",
    "figure2 = px.bar(\n",
    "        (dfg22volrazao_n6\n",
    "         #.query(\"QUALIF_DEST in ['TRR']\")\n",
    "         #.sort_values(ascending = False)\n",
    "         .nlargest(1)\n",
    "         #.groupby(\"GRUPO\", as_index=False)\n",
    "         #.mean()\n",
    "         #.rename({\"expenditure_per_student\": \"Expenditure Per Student (Thousands)\"}, axis=1)\n",
    "         #.nlargest(10, 'VolANP_ano')\n",
    "        ),\n",
    "        x=dfg22volrazao_n6.index,\n",
    "        y=dfg22volrazao_n6.values,\n",
    "        title=\"Volume m³ - por Empresa destino  - Ano 2022\",\n",
    "        color_discrete_sequence=px.colors.qualitative.Pastel2,\n",
    "        color=dfg22volrazao_n6.values,\n",
    "        color_continuous_scale=\"deep\",\n",
    "        text_auto='.0f',\n",
    "        #hover_data=[\"GRUPO\"]\n",
    "    )\n",
    "\n",
    "\n",
    "figure2.update_layout(\n",
    "        autosize=False,\n",
    "        width= 1300,\n",
    "        height=700\n",
    "    )\n",
    "\n",
    "figure2.update_layout(\n",
    "            title = {\"x\": .45, \"y\": .90, \"font\": {\"color\":\"darkslateblue\"}},\n",
    "            plot_bgcolor = \"#fcfafa\",\n",
    "            paper_bgcolor = \"#fcfafa\", \n",
    "            font=dict(size=11)\n",
    "        )\n",
    "#figure2.show()\n",
    "\n",
    "\n",
    "\n",
    "# For as many traces that exist per Express figure, get the traces from each plot and store them in an array.\n",
    "# This is essentially breaking down the Express fig into its traces\n",
    "figure1_traces = []\n",
    "figure2_traces = []\n",
    "for trace in range(len(figure1[\"data\"])):\n",
    "    figure1_traces.append(figure1[\"data\"][trace])\n",
    "for trace in range(len(figure2[\"data\"])):\n",
    "    ############ The major modification. Manually set 'showlegend' attribute to False. ############\n",
    "    figure2[\"data\"][trace]['showlegend'] = False             \n",
    "    figure2_traces.append(figure2[\"data\"][trace])\n",
    "    \n",
    "# Create a 1x2 subplot\n",
    "this_figure = sp.make_subplots(rows = 1, cols = 2, subplot_titles = ['Volume m³ 2023', 'Volume m³ 2022'])\n",
    "#this_figure.update_layout(height = 700, width = 1300, title_text = \"Volume m³ - por Empresa destino com crescimento\", title_font_size = 15)\n",
    "this_figure.update_layout(height = 700, width = 1300)\n",
    "\n",
    "# Get the Express fig broken down as traces and add the traces to the proper plot within the subplot\n",
    "for traces in figure1_traces:\n",
    "    this_figure.append_trace(traces, row = 1, col = 1)\n",
    "for traces in figure2_traces:\n",
    "    this_figure.append_trace(traces, row = 1, col = 2)\n",
    "\n",
    "this_figure.update_layout(\n",
    "        title = {\"x\": .5, \"y\": .90, \"font\": {\"color\":\"darkslateblue\"}},\n",
    "        plot_bgcolor = \"#fcfafa\",\n",
    "        paper_bgcolor = \"#fcfafa\"\n",
    "    )\n",
    "this_figure.update_xaxes(tickangle=30)\n",
    "\n",
    "this_figure.show()\n",
    "\n"
   ]
  },
  {
   "cell_type": "code",
   "execution_count": null,
   "id": "32df6a2a",
   "metadata": {},
   "outputs": [],
   "source": [
    "_df_table_medio_grandes_groupby.info()\n",
    "\n",
    "_df_table_medio_grandes_groupby.sort_values(by=['delta_vol'], ascending=False).head()\n",
    "\n",
    "_df_table_medio_grandes_groupby.sort_values(by=['delta_vol'], ascending=False).head(60).nlargest(10, 'delta_vol')\n",
    "\n",
    "_df_table_medio_grandes_groupby.info()\n",
    "\n",
    "_df_table_medio_grandes_groupby['delta_share_pp'] = _df_table_medio_grandes_groupby['share_razao'] - _df_table_medio_grandes_groupby['preview_share']\n",
    "\n",
    "_df_table_medio_grandes_groupby['delta_share_pp'] = _df_table_medio_grandes_groupby['delta_share_pp']*100\n",
    "\n",
    "_df_table_medio_grandes_groupby['share_razao'] = _df_table_medio_grandes_groupby['share_razao']*100\n",
    "\n",
    "_df_table_medio_grandes_groupby['preview_share'] = _df_table_medio_grandes_groupby['preview_share']*100\n"
   ]
  },
  {
   "cell_type": "code",
   "execution_count": null,
   "id": "494b0646",
   "metadata": {},
   "outputs": [],
   "source": [
    "mask = (_df_table_medio_grandes_groupby['GRUPO'] == 'RAIZEN') & (_df_table_medio_grandes_groupby['QUALIF_DEST'] != 'TRR') \n",
    "\n",
    "_df_table_medio_grandes_groupby.loc[mask][['id','var','window_3m','VolANP','preview_value','preview_value_12','delta_vol','delta_vol_12','share_razao','preview_share','delta_share_pp','QUALIF_DEST','ds','GRUPO']].sort_values(by=['delta_vol'], ascending=False).to_excel(\"CANAL10_deltasharepp_cluster_medio_grandes_dimensãoBR.xlsx\")"
   ]
  },
  {
   "cell_type": "code",
   "execution_count": null,
   "id": "213d7ee2",
   "metadata": {},
   "outputs": [],
   "source": [
    "mask = (_df_table_medio_grandes_groupby['QUALIF_DEST'] != 'TRR') \n",
    "\n",
    "_df_table_medio_grandes_groupby.loc[mask][['id','var','window_3m','VolANP','preview_value','preview_value_12','delta_vol','delta_vol_12','share_razao','preview_share','delta_share_pp','QUALIF_DEST','ds','GRUPO']].sort_values(by=['delta_vol'], ascending=False).to_excel(\"CANAL10_deltasharepp_cluster_medio_grandes_dimensãoBR_todosgrupos.xlsx\")\n"
   ]
  },
  {
   "cell_type": "code",
   "execution_count": null,
   "id": "df57472c",
   "metadata": {},
   "outputs": [],
   "source": [
    "mask = (_df_table_medio_grandes_groupby['QUALIF_DEST'] != 'TRR') \n",
    "medio_grandes_analitico = _df_table_medio_grandes_groupby.loc[mask][['id','VolANP','preview_value','preview_value_12','delta_vol','delta_vol_12','share_razao','preview_share','delta_share_pp','QUALIF_DEST','ds','GRUPO','var']].sort_values(by=['delta_vol'], ascending=False)\n",
    "_medio_grandes_analitico_ = medio_grandes_analitico.groupby([\"GRUPO\",\"ds\"])\n",
    "medio_grandes_analitico_vol = _medio_grandes_analitico_.agg({\"var\":\"sum\"}).reset_index()\n",
    "medio_grandes_analitico_vol.to_parquet(\"medio_grandes_analitico_vol.parquet\")\n",
    "medio_grandes_analitico_vol.to_excel(\"medio_grandes_analitico_vol.xlsx\")\n"
   ]
  },
  {
   "cell_type": "code",
   "execution_count": null,
   "id": "c4d697dd",
   "metadata": {},
   "outputs": [],
   "source": [
    "\n",
    "fig =px.line(medio_grandes_analitico_vol, \n",
    "            x=\"ds\", \n",
    "            y=\"var\",\n",
    "            title=\"BR - tendência - cluster medio_grandes - canal 10\",\n",
    "            color=\"GRUPO\",\n",
    "            color_discrete_sequence=px.colors.qualitative.Pastel2,\n",
    "            hover_data=[\"GRUPO\"]\n",
    "        )\n",
    "\n",
    "fig.update_layout(\n",
    "    autosize=False,\n",
    "    width= 1300,\n",
    "    height=700\n",
    ")\n",
    "    \n",
    "fig.update_layout(\n",
    "        title = {\"x\": .45, \"y\": .90, \"font\": {\"color\":\"darkslateblue\"}},\n",
    "        plot_bgcolor = \"#fcfafa\",\n",
    "        paper_bgcolor = \"#fcfafa\", \n",
    "        font=dict(size=11)\n",
    "    )\n",
    "fig.show()"
   ]
  },
  {
   "cell_type": "code",
   "execution_count": null,
   "id": "e337d1bc",
   "metadata": {},
   "outputs": [],
   "source": [
    "#mask = (_df_table_medio_grandes_groupby['ds'] >= '2023-05-01') & (_df_table_medio_grandes_groupby['ds'] <= '2023-09-01') & (_df_table_medio_grandes_groupby['QUALIF_DEST'] != 'TRR') \n",
    "mask = (_df_table_medio_grandes_groupby['QUALIF_DEST'] != 'TRR') & (_df_table_medio_grandes_groupby['GRUPO'] == 'RAIZEN')\n",
    "medio_grandes_analitico = _df_table_medio_grandes_groupby.loc[mask][['id','NOM_RAZAO_SOCIAL_dest','VolANP','preview_value','preview_value_12','delta_vol','delta_vol_12','share_razao','preview_share','delta_share_pp','QUALIF_DEST','ds','GRUPO','var']].sort_values(by=['delta_vol'], ascending=False)\n",
    "_medio_grandes_analitico_ = medio_grandes_analitico.groupby([\"NOM_RAZAO_SOCIAL_dest\",\"ds\"])\n",
    "medio_grandes_analitico_vol = _medio_grandes_analitico_.agg({\"VolANP\":\"sum\"}).reset_index()\n",
    "medio_grandes_analitico_vol.to_parquet(\"medio_grandes_analitico_vol.parquet\")\n",
    "medio_grandes_analitico_vol.to_excel(\"medio_grandes_analitico_vol.xlsx\")"
   ]
  },
  {
   "cell_type": "code",
   "execution_count": null,
   "id": "34ce1897",
   "metadata": {},
   "outputs": [],
   "source": [
    "\n",
    "\n",
    "fig =px.line(medio_grandes_analitico_vol, \n",
    "            x=\"ds\", \n",
    "            y=\"VolANP\",\n",
    "            title=\"BR - tendência - cluster medio_grandes - canal 10 \",\n",
    "            color=\"NOM_RAZAO_SOCIAL_dest\",\n",
    "            color_discrete_sequence=px.colors.qualitative.Pastel2,\n",
    "            hover_data=[\"NOM_RAZAO_SOCIAL_dest\"]\n",
    "        )\n",
    "\n",
    "fig.update_layout(\n",
    "    autosize=False,\n",
    "    width= 1300,\n",
    "    height=700\n",
    ")\n",
    "    \n",
    "fig.update_layout(\n",
    "        title = {\"x\": .45, \"y\": .90, \"font\": {\"color\":\"darkslateblue\"}},\n",
    "        plot_bgcolor = \"#fcfafa\",\n",
    "        paper_bgcolor = \"#fcfafa\", \n",
    "        font=dict(size=11)\n",
    "    )\n",
    "fig.show()\n"
   ]
  },
  {
   "cell_type": "code",
   "execution_count": null,
   "id": "d4ef8590",
   "metadata": {},
   "outputs": [],
   "source": [
    "\n",
    "\n",
    "#mask = (_df_table_medio_grandes_groupby['ds'] >= '2023-05-01') & (_df_table_medio_grandes_groupby['ds'] <= '2023-09-01') & (_df_table_medio_grandes_groupby['QUALIF_DEST'] != 'TRR') \n",
    "mask = (_df_table_medio_grandes_groupby['QUALIF_DEST'] != 'TRR') & (_df_table_medio_grandes_groupby['GRUPO'] == 'RAIZEN')\n",
    "medio_grandes_analitico = _df_table_medio_grandes_groupby.loc[mask][['id','NOM_RAZAO_SOCIAL_dest','VolANP','preview_value','preview_value_12','delta_vol','delta_vol_12','share_razao','preview_share','delta_share_pp','QUALIF_DEST','ds','GRUPO','var']].sort_values(by=['delta_vol'], ascending=False)\n",
    "_medio_grandes_analitico_ = medio_grandes_analitico.groupby([\"NOM_RAZAO_SOCIAL_dest\",\"ds\"])\n",
    "medio_grandes_analitico_vol = _medio_grandes_analitico_.agg({\"var\":\"sum\"}).reset_index()\n",
    "medio_grandes_analitico_vol.to_parquet(\"medio_grandes_analitico_vol.parquet\")\n",
    "medio_grandes_analitico_vol.to_excel(\"medio_grandes_analitico_vol.xlsx\")\n"
   ]
  },
  {
   "cell_type": "code",
   "execution_count": null,
   "id": "f40d2ca2",
   "metadata": {},
   "outputs": [],
   "source": [
    "\n",
    "fig =px.line(medio_grandes_analitico_vol, \n",
    "            x=\"ds\", \n",
    "            y=\"var\",\n",
    "            title=\"BR - tendência - cluster medio_grandes - canal 10 \",\n",
    "            color=\"NOM_RAZAO_SOCIAL_dest\",\n",
    "            color_discrete_sequence=px.colors.qualitative.Pastel2,\n",
    "            hover_data=[\"NOM_RAZAO_SOCIAL_dest\"]\n",
    "        )\n",
    "\n",
    "fig.update_layout(\n",
    "    autosize=False,\n",
    "    width= 1300,\n",
    "    height=700\n",
    ")\n",
    "    \n",
    "fig.update_layout(\n",
    "        title = {\"x\": .45, \"y\": .90, \"font\": {\"color\":\"darkslateblue\"}},\n",
    "        plot_bgcolor = \"#fcfafa\",\n",
    "        paper_bgcolor = \"#fcfafa\", \n",
    "        font=dict(size=11)\n",
    "    )\n",
    "fig.show()"
   ]
  },
  {
   "cell_type": "code",
   "execution_count": null,
   "id": "34267a8e",
   "metadata": {},
   "outputs": [],
   "source": []
  },
  {
   "cell_type": "code",
   "execution_count": null,
   "id": "c88fa74e",
   "metadata": {},
   "outputs": [],
   "source": []
  },
  {
   "cell_type": "code",
   "execution_count": null,
   "id": "74cb9048",
   "metadata": {},
   "outputs": [],
   "source": []
  },
  {
   "cell_type": "code",
   "execution_count": null,
   "id": "3b25bc3f",
   "metadata": {},
   "outputs": [],
   "source": []
  },
  {
   "cell_type": "code",
   "execution_count": null,
   "id": "4f15382d",
   "metadata": {},
   "outputs": [],
   "source": []
  },
  {
   "cell_type": "code",
   "execution_count": null,
   "id": "bbba2131",
   "metadata": {},
   "outputs": [],
   "source": [
    "# # quadrantes medio_grandes 22\n",
    "\n",
    "# #RAIZEN_medio_grandes22['share_raizen'] = RAIZEN_medio_grandes22['share_raizen']*100\n",
    "# linha_mediana = medio_grandes_analitico['VolANP'].median()\n",
    "# linha_media = medio_grandes_analitico['VolANP'].mean()\n",
    "# share_mediana = medio_grandes_analitico['share_razao'].median()\n",
    "# share_media = medio_grandes_analitico['share_razao'].mean()\n",
    "\n",
    "# linha_mediana = round(linha_mediana, 2)\n",
    "# linha_media = round(linha_media, 2)\n",
    "# share_mediana = round(share_mediana, 2)\n",
    "# share_media = round(share_media, 2)\n",
    "\n",
    "# conditions = [\n",
    "#     (medio_grandes_analitico['share_razao'] > share_media) & (medio_grandes_analitico['VolANP'] > linha_media),\n",
    "#     (medio_grandes_analitico['share_razao'] > share_media) & (medio_grandes_analitico['VolANP'] <= linha_media),\n",
    "#     (medio_grandes_analitico['share_razao'] <= share_media) & (medio_grandes_analitico['VolANP'] > linha_media),\n",
    "#     (medio_grandes_analitico['share_razao'] <= share_media) & (medio_grandes_analitico['VolANP'] <= linha_media)]\n",
    "\n",
    "# choices1 = ['Share acima da média e Volumes acima da média no ano','Share acima da média e Volumes abaixo da média no ano','Share abaixo da média e Volumes acima da média no ano','Share abaixo da média e Volumes abaixo da média no ano']\n",
    "# choices2 = ['Sucesso','Bom','Atenção','Razoável']\n",
    "\n",
    "# medio_grandes_analitico['quadrante_desc'] = np.select(conditions, choices1, default='sem_grupo')\n",
    "# medio_grandes_analitico['quadrante'] = np.select(conditions, choices2, default='sem_grupo')\n",
    "\n",
    "# medio_grandes_analitico = round(medio_grandes_analitico, 2)\n",
    "\n",
    "\n",
    "\n",
    "# figure2 = px.scatter(\n",
    "#         medio_grandes_analitico,\n",
    "#         x=\"VolANP\",\n",
    "#         y=\"share_razao\",\n",
    "#         color_discrete_sequence=px.colors.qualitative.Set3,\n",
    "#         color=medio_grandes_analitico['id'],\n",
    "#         labels={\n",
    "#             \"VolANP\": \"Volume m³ setembro 2023\",\n",
    "#             \"share_razao\": \"share setembro 2023\"\n",
    "#         },\n",
    "#         #hover_data=[\"QUALIF_DEST\",\"quadrante_desc\",\"quadrante\",\"faixa_razao\"],\n",
    "#         hover_data=[\"VolANP\",\"preview_value\",\"preview_value_12\",\"delta_vol\",\"delta_vol_12\",\"share_razao\",\"preview_share\",\"delta_share_pp\",\"QUALIF_DEST\",\"quadrante\"],\n",
    "#         title=\"Segmento medio_grandes - Brasil - Vol x Share - 2023-09\",\n",
    "#     )#.update_layout(\n",
    "# #     legend_title=\"Funding\"\n",
    "# #    font_color=\"Green\",\n",
    "# #    legend_title={\n",
    "# #        \"text\": \"Funding\",\n",
    "# #        \"font\":{\n",
    "# #            \"color\":\"Red\",\n",
    "# #            \"family\": \"Comic Sans\"\n",
    "# #        }\n",
    "# #    }\n",
    "# #)\n",
    "# figure2.update_layout(\n",
    "#     autosize=False,\n",
    "#     width= 1300,\n",
    "#     height=700\n",
    "# )\n",
    "# figure2.update_xaxes(showgrid=False)\n",
    "# figure2.update_yaxes(showgrid=True)\n",
    "\n",
    "# figure2.update_layout(\n",
    "#         title = {\"x\": .5, \"y\": .90, \"font\": {\"color\":\"darkslateblue\"}},\n",
    "#         plot_bgcolor = \"#fcfafa\",\n",
    "#         paper_bgcolor = \"#fcfafa\"\n",
    "#     )\n",
    "# figure2.add_hline(y=share_media, line_dash=\"dot\", line_color=\"blue\", annotation_text=f'Media = {share_media:.2f}',annotation_position=\"top left\" )\n",
    "# figure2.add_hline(y=share_mediana, line_dash=\"dot\", line_color=\"yellow\", annotation_text=f'Mediana = {share_mediana:.2f}',annotation_position=\"top right\" )\n",
    "# figure2.add_vline(x=linha_mediana, line_dash=\"dot\", line_color=\"blue\", annotation_text=f'Mediana = {linha_mediana:.2f}',annotation_position=\"top left\" )\n",
    "# figure2.add_vline(x=linha_media, line_dash=\"dot\", line_color=\"yellow\", annotation_text=f'Media = {linha_media:.2f}',annotation_position=\"top right\" )\n",
    "\n",
    "\n",
    "# figure2.show()\n",
    "\n"
   ]
  },
  {
   "cell_type": "code",
   "execution_count": null,
   "id": "35a21118",
   "metadata": {},
   "outputs": [],
   "source": []
  },
  {
   "cell_type": "markdown",
   "id": "3696b3e1",
   "metadata": {},
   "source": [
    "# MONTAGEM DAS TABELAS DE CONCORRÊNCIA COM FILTRO \n",
    "\n",
    "# medio\n"
   ]
  },
  {
   "cell_type": "code",
   "execution_count": null,
   "id": "b646a0a1",
   "metadata": {},
   "outputs": [],
   "source": [
    "\n",
    "# MONTAGEM DAS TABELAS DE CONCORRÊNCIA COM FILTRO \n",
    "\n",
    "# medio\n",
    "\n",
    "\n",
    "# quadrantes medio 23\n",
    "\n",
    "#RAIZEN_medio23['share_raizen'] = RAIZEN_medio23['share_raizen']*100\n",
    "linha_mediana23 = RAIZEN_medio23['VolANP_ano'].median()\n",
    "linha_media23 = RAIZEN_medio23['VolANP_ano'].mean()\n",
    "share_mediana23 = RAIZEN_medio23['share_raizen'].median()\n",
    "share_media23 = RAIZEN_medio23['share_raizen'].mean()\n",
    "\n",
    "linha_mediana23 = round(linha_mediana23, 2)\n",
    "linha_media23 = round(linha_media23, 2)\n",
    "share_mediana23 = round(share_mediana23, 2)\n",
    "share_media23 = round(share_media23, 2)\n",
    "\n",
    "conditions = [\n",
    "    (RAIZEN_medio23['share_raizen'] > share_media23) & (RAIZEN_medio23['VolANP_ano'] > linha_media23),\n",
    "    (RAIZEN_medio23['share_raizen'] > share_media23) & (RAIZEN_medio23['VolANP_ano'] <= linha_media23),\n",
    "    (RAIZEN_medio23['share_raizen'] <= share_media23) & (RAIZEN_medio23['VolANP_ano'] > linha_media23),\n",
    "    (RAIZEN_medio23['share_raizen'] <= share_media23) & (RAIZEN_medio23['VolANP_ano'] <= linha_media23)]\n",
    "\n",
    "choices1 = ['Share acima da média e Volumes acima da média no ano','Share acima da média e Volumes abaixo da média no ano','Share abaixo da média e Volumes acima da média no ano','Share abaixo da média e Volumes abaixo da média no ano']\n",
    "choices2 = ['Sucesso','Bom','Atenção','Razoável']\n",
    "\n",
    "RAIZEN_medio23['quadrante_desc'] = np.select(conditions, choices1, default='sem_grupo')\n",
    "RAIZEN_medio23['quadrante'] = np.select(conditions, choices2, default='sem_grupo')\n",
    "\n",
    "RAIZEN_medio23 = round(RAIZEN_medio23, 2)\n",
    "RAIZEN_medio23\n",
    "\n"
   ]
  },
  {
   "cell_type": "code",
   "execution_count": null,
   "id": "3eaee7dd",
   "metadata": {},
   "outputs": [],
   "source": [
    "# quadrantes medio 22\n",
    "\n",
    "#RAIZEN_medio22['share_raizen'] = RAIZEN_medio22['share_raizen']*100\n",
    "linha_mediana22 = RAIZEN_medio22['VolANP_ano'].median()\n",
    "linha_media22 = RAIZEN_medio22['VolANP_ano'].mean()\n",
    "share_mediana22 = RAIZEN_medio22['share_raizen'].median()\n",
    "share_media22 = RAIZEN_medio22['share_raizen'].mean()\n",
    "\n",
    "linha_mediana22 = round(linha_mediana22, 2)\n",
    "linha_media22 = round(linha_media22, 2)\n",
    "share_mediana22 = round(share_mediana22, 2)\n",
    "share_media22 = round(share_media22, 2)\n",
    "\n",
    "conditions = [\n",
    "    (RAIZEN_medio22['share_raizen'] > share_media22) & (RAIZEN_medio22['VolANP_ano'] > linha_media22),\n",
    "    (RAIZEN_medio22['share_raizen'] > share_media22) & (RAIZEN_medio22['VolANP_ano'] <= linha_media22),\n",
    "    (RAIZEN_medio22['share_raizen'] <= share_media22) & (RAIZEN_medio22['VolANP_ano'] > linha_media22),\n",
    "    (RAIZEN_medio22['share_raizen'] <= share_media22) & (RAIZEN_medio22['VolANP_ano'] <= linha_media22)]\n",
    "\n",
    "choices1 = ['Share acima da média e Volumes acima da média no ano','Share acima da média e Volumes abaixo da média no ano','Share abaixo da média e Volumes acima da média no ano','Share abaixo da média e Volumes abaixo da média no ano']\n",
    "choices2 = ['Sucesso','Bom','Atenção','Razoável']\n",
    "\n",
    "RAIZEN_medio22['quadrante_desc'] = np.select(conditions, choices1, default='sem_grupo')\n",
    "RAIZEN_medio22['quadrante'] = np.select(conditions, choices2, default='sem_grupo')\n",
    "\n",
    "RAIZEN_medio22 = round(RAIZEN_medio22, 2)\n",
    "RAIZEN_medio22\n",
    "\n"
   ]
  },
  {
   "cell_type": "code",
   "execution_count": null,
   "id": "092de6ff",
   "metadata": {},
   "outputs": [],
   "source": [
    "# medio\n",
    "\n",
    "RAIZEN_medio =  pd.concat([RAIZEN_medio22,RAIZEN_medio23])\n",
    "RAIZEN_medio\n"
   ]
  },
  {
   "cell_type": "code",
   "execution_count": null,
   "id": "18689ac1",
   "metadata": {},
   "outputs": [],
   "source": [
    "\n",
    "# pivot table dim - ANO/razãosocial \n",
    "table = pd.pivot_table(RAIZEN_medio, values='VolANP_ano', index=['NOM_RAZAO_SOCIAL_dest'],\n",
    "                       columns=['ano'], aggfunc=\"sum\")\n",
    "table = table.reset_index()\n",
    "table\n"
   ]
  },
  {
   "cell_type": "code",
   "execution_count": null,
   "id": "c70afe79",
   "metadata": {},
   "outputs": [],
   "source": [
    "table.fillna(0.00001, inplace = True)\n",
    "table['VolANP_delta%'] = ((table['2023'] - table['2022'])/table['2023'])*100\n",
    "table"
   ]
  },
  {
   "cell_type": "code",
   "execution_count": null,
   "id": "f15b5015",
   "metadata": {},
   "outputs": [],
   "source": [
    "# unificando com table_share\n",
    "\n",
    "table_share.rename(columns= {'2022':'2022_share_ano'}, inplace = True)\n",
    "table_share.rename(columns= {'2023':'2023_share_ano'}, inplace = True)\n",
    "\n",
    "table_share"
   ]
  },
  {
   "cell_type": "code",
   "execution_count": null,
   "id": "89304cea",
   "metadata": {},
   "outputs": [],
   "source": [
    "### merge table share\n",
    "\n",
    "table.rename(columns= {'2022':'2022_VolANP_ano'}, inplace = True)\n",
    "table.rename(columns= {'2023':'2023_VolANP_ano'}, inplace = True)\n",
    "\n",
    "table = table.merge(table_share, how='inner', on = ['NOM_RAZAO_SOCIAL_dest'])\n",
    "table\n",
    "\n",
    "# mask = table[\"delta\"] < 0\n",
    "# table = table[mask]\n",
    "# table"
   ]
  },
  {
   "cell_type": "code",
   "execution_count": null,
   "id": "294e2c5a",
   "metadata": {},
   "outputs": [],
   "source": [
    "# GRÁFICOS\n",
    "\n",
    "#outliers\n",
    "\n",
    "## medio\n",
    "\n",
    "\n",
    "q_medio = RAIZEN_medio[['NOM_RAZAO_SOCIAL_dest','QUALIF_DEST','faixa_razao','quadrante']].drop_duplicates(subset = \"NOM_RAZAO_SOCIAL_dest\" )\n",
    "q_medio"
   ]
  },
  {
   "cell_type": "code",
   "execution_count": null,
   "id": "f0ae2842",
   "metadata": {},
   "outputs": [],
   "source": [
    "table = table.merge(q_medio, how='left', on = ['NOM_RAZAO_SOCIAL_dest'])\n",
    "table"
   ]
  },
  {
   "cell_type": "code",
   "execution_count": null,
   "id": "03cf82ef",
   "metadata": {},
   "outputs": [],
   "source": [
    "table = round(table, 2)\n",
    "\n",
    "figure2 = px.scatter(\n",
    "        table,\n",
    "        x=\"2022_VolANP_ano\",\n",
    "        y=\"2023_VolANP_ano\",\n",
    "        color_discrete_sequence=px.colors.qualitative.Set3,\n",
    "        color=table['NOM_RAZAO_SOCIAL_dest'],\n",
    "        labels={\n",
    "            \"2022_VolANP_ano\": \"Volume Ano 2022\",\n",
    "            \"2023_VolANP_ano\": \"Volume Ano 2023\"\n",
    "        },\n",
    "        #hover_data=[\"QUALIF_DEST\",\"quadrante_desc\",\"quadrante\",\"faixa_razao\"],\n",
    "        hover_data=[\"2022_VolANP_ano\",\"2023_VolANP_ano\",\"delta_share\",\"QUALIF_DEST\",\"faixa_razao\",\"quadrante\"],\n",
    "        title=\"Segmento medio - Brasil - share RAIZEN\",\n",
    "    )#.update_layout(\n",
    "#     legend_title=\"Funding\"\n",
    "#    font_color=\"Green\",\n",
    "#    legend_title={\n",
    "#        \"text\": \"Funding\",\n",
    "#        \"font\":{\n",
    "#            \"color\":\"Red\",\n",
    "#            \"family\": \"Comic Sans\"\n",
    "#        }\n",
    "#    }\n",
    "#)\n",
    "figure2.update_layout(\n",
    "    autosize=False,\n",
    "    width= 1300,\n",
    "    height=700\n",
    ")\n",
    "figure2.update_xaxes(showgrid=False)\n",
    "figure2.update_yaxes(showgrid=True)\n",
    "\n",
    "figure2.update_layout(\n",
    "        title = {\"x\": .5, \"y\": .90, \"font\": {\"color\":\"darkslateblue\"}},\n",
    "        plot_bgcolor = \"#fcfafa\",\n",
    "        paper_bgcolor = \"#fcfafa\"\n",
    "    )\n",
    "figure2.add_hline(y=linha_media22, line_dash=\"dot\", line_color=\"blue\", annotation_text=f'Media22 = {linha_media22:.2f}',annotation_position=\"top left\" )\n",
    "figure2.add_hline(y=linha_media23, line_dash=\"dot\", line_color=\"yellow\", annotation_text=f'Media23 = {linha_media23:.2f}',annotation_position=\"top right\" )\n",
    "\n",
    "figure2.show()"
   ]
  },
  {
   "cell_type": "code",
   "execution_count": null,
   "id": "019e3682",
   "metadata": {},
   "outputs": [],
   "source": [
    "table_medio_raizen_ano = table\n",
    "\n",
    "table_medio_raizen_ano.info()\n",
    "\n",
    "table = table.drop(['QUALIF_DEST'], axis=1)\n",
    "table = table.drop(['faixa_razao'], axis=1)\n",
    "\n",
    "table\n"
   ]
  },
  {
   "cell_type": "code",
   "execution_count": null,
   "id": "46be005f",
   "metadata": {},
   "outputs": [],
   "source": [
    "#fim 2022\n",
    "fim = df['ds'].max() - relativedelta(months=12)\n",
    "fim\n",
    "\n",
    "filtro22 = df['ds']<= fim\n",
    "df_filtro22 = pd.DataFrame(df[filtro22])\n",
    "df_filtro22['ds'].max()\n",
    "\n",
    "mask = df[\"ano\"] == \"2023\"\n",
    "df_filtro23 = df[mask]\n",
    "df_filtro23['ds'].max()\n",
    "\n",
    "df_filtro23['ds'].min()\n",
    "\n",
    "df_filtro = pd.concat([df_filtro22,df_filtro23])\n",
    "\n",
    "print(df_filtro['ds'].unique())\n",
    "\n",
    "df_filtro.info()\n"
   ]
  },
  {
   "cell_type": "code",
   "execution_count": null,
   "id": "bd5d50c5",
   "metadata": {},
   "outputs": [],
   "source": [
    "df_table_medio = df_filtro.merge(table, how='inner', on = ['NOM_RAZAO_SOCIAL_dest'])\n",
    "df_table_medio.info()"
   ]
  },
  {
   "cell_type": "code",
   "execution_count": null,
   "id": "5f4dd58c",
   "metadata": {},
   "outputs": [],
   "source": [
    "df_table_medio['id'] = df_table_medio['NOM_RAZAO_SOCIAL_dest']+\"|\"+df_table_medio['ds'].astype(str)+\"|\"+df_table_medio['QUALIF_DEST']+\"|\"+df_table_medio['GRUPO']\n",
    "\n",
    "df_table_medio['idr'] = df_table_medio['NOM_RAZAO_SOCIAL_dest']+\"|\"+df_table_medio['ds'].astype(str)+\"|\"+df_table_medio['QUALIF_DEST']\n",
    "\n",
    "_df_table_medio = df_table_medio.groupby(['id','idr'])\n",
    "_df_table_medio_groupby = _df_table_medio.agg({\"VolANP\":\"sum\"}).reset_index()\n",
    "\n",
    "_df_table_medio_groupby.info()\n"
   ]
  },
  {
   "cell_type": "code",
   "execution_count": null,
   "id": "a3454f66",
   "metadata": {},
   "outputs": [],
   "source": [
    "_df_table_medio = df_table_medio.groupby(['idr'])\n",
    "_df_table_medio_groupby_razao = _df_table_medio.agg({\"VolANP\":\"sum\"}).reset_index()\n",
    "\n",
    "_df_table_medio_groupby_razao.rename(columns= {'VolANP':'VolANP_razao'}, inplace = True)\n",
    "\n",
    "_df_table_medio_groupby_razao.info()\n"
   ]
  },
  {
   "cell_type": "code",
   "execution_count": null,
   "id": "606c6191",
   "metadata": {},
   "outputs": [],
   "source": [
    "\n",
    "_df_table_medio_groupby = _df_table_medio_groupby.merge(_df_table_medio_groupby_razao, how='left', on = ['idr'])\n",
    "\n",
    "_df_table_medio_groupby.info()"
   ]
  },
  {
   "cell_type": "code",
   "execution_count": null,
   "id": "408d5329",
   "metadata": {},
   "outputs": [],
   "source": [
    "_df_table_medio_groupby['share_razao'] = _df_table_medio_groupby['VolANP'] / _df_table_medio_groupby['VolANP_razao']\n",
    "\n",
    "_df_table_medio_groupby[['NOM_RAZAO_SOCIAL_dest','ds','QUALIF_DEST','GRUPO']] = _df_table_medio_groupby['id'].str.split(\"|\",expand=True)\n",
    "\n",
    "_df_table_medio_groupby['id_shift'] = _df_table_medio_groupby['NOM_RAZAO_SOCIAL_dest']+\"|\"+_df_table_medio_groupby['QUALIF_DEST']+\"|\"+_df_table_medio_groupby['GRUPO']\n",
    "\n",
    "_df_table_medio_groupby['preview_share'] = _df_table_medio_groupby.sort_values(by=['id']).groupby('id_shift')['share_razao'].shift(1)\n",
    "\n",
    "#_df_table_medio_groupby[['id','ds','share_razao','preview_share']].to_excel('testeshare.xlsx')\n",
    "\n",
    "#_df_table_medio_groupby.to_excel(\"_df_table_medio_groupby.xlsx\")\n",
    "\n",
    "_df_table_medio_groupby['preview_value'] = _df_table_medio_groupby.sort_values(by=['id']).groupby('id_shift')['VolANP'].shift(1)\n",
    "\n",
    "_df_table_medio_groupby['preview_value_2'] = _df_table_medio_groupby.sort_values(by=['id']).groupby('id_shift')['VolANP'].shift(2)\n",
    "\n",
    "_df_table_medio_groupby['preview_value_3'] = _df_table_medio_groupby.sort_values(by=['id']).groupby('id_shift')['VolANP'].shift(3)\n",
    "\n",
    "_df_table_medio_groupby['window_3m'] = (_df_table_medio_groupby['preview_value'] + _df_table_medio_groupby['preview_value_2'] + _df_table_medio_groupby['preview_value_3'])/3\n",
    "\n",
    "# representatividade da janela de 3 meses em relação ao Volume total da base\n",
    "_df_table_medio_groupby['var'] = (_df_table_medio_groupby['window_3m']/_df_table_medio_groupby['VolANP'].sum())*100\n",
    "\n",
    "_df_table_medio_groupby['preview_value_12'] = _df_table_medio_groupby.sort_values(by=['id']).groupby('id_shift')['VolANP'].shift(9)\n",
    "_df_table_medio_groupby['preview_window_3m_12'] = _df_table_medio_groupby.sort_values(by=['id']).groupby('id_shift')['window_3m'].shift(9)\n",
    "_df_table_medio_groupby['preview_var_12'] = _df_table_medio_groupby.sort_values(by=['id']).groupby('id_shift')['var'].shift(9)\n",
    "\n",
    "_df_table_medio_groupby.info()"
   ]
  },
  {
   "cell_type": "code",
   "execution_count": null,
   "id": "dda05e8e",
   "metadata": {},
   "outputs": [],
   "source": [
    "_df_table_medio_groupby['delta_vol'] = ((_df_table_medio_groupby['VolANP']-_df_table_medio_groupby['preview_value'])/_df_table_medio_groupby['VolANP'])*100\n",
    "\n",
    "_df_table_medio_groupby['delta_vol_12'] = ((_df_table_medio_groupby['VolANP']-_df_table_medio_groupby['preview_value_12'])/_df_table_medio_groupby['VolANP'])*100\n",
    "\n",
    "#_df_table_medio_groupby.to_excel(\"_df_table_medio_groupby.xlsx\")\n",
    "\n",
    "#filtro_df_table_medio_groupby = _df_table_medio_groupby.loc[(_df_table_medio_groupby.delta_vol > 0) | (_df_table_medio_groupby.delta_vol_12 > 0)]\n",
    "\n",
    "#filtro_df_table_medio_groupby[['id','NOM_RAZAO_SOCIAL_dest','ds','GRUPO','share_razao']]\n",
    "\n",
    "#filtro_df_table_medio_groupby.to_excel(\"filtro_df_table_medio_groupby.xlsx\")\n",
    "\n",
    "#filtro_df_table_medio_groupby.info()\n",
    "\n",
    "_df_table_medio_groupby.info()"
   ]
  },
  {
   "cell_type": "code",
   "execution_count": null,
   "id": "f4cacd5f",
   "metadata": {},
   "outputs": [],
   "source": [
    "_df_table_medio_groupby_ = _df_table_medio_groupby.groupby([\"GRUPO\",\"ds\"])\n",
    "_df_table_medio_groupby_vol = _df_table_medio_groupby_.agg({\"VolANP\":\"sum\"}).reset_index()\n",
    "\n",
    "fig =px.line(_df_table_medio_groupby_vol, \n",
    "            x=\"ds\", \n",
    "            y=\"VolANP\",\n",
    "            title=\"BR - Volume m³ - cluster medio\",\n",
    "            color=\"GRUPO\",\n",
    "            color_discrete_sequence=px.colors.qualitative.Pastel2,\n",
    "            hover_data=[\"GRUPO\"]\n",
    "        )\n",
    "\n",
    "fig.update_layout(\n",
    "    autosize=False,\n",
    "    width= 1300,\n",
    "    height=700\n",
    ")\n",
    "    \n",
    "fig.update_layout(\n",
    "        title = {\"x\": .45, \"y\": .90, \"font\": {\"color\":\"darkslateblue\"}},\n",
    "        plot_bgcolor = \"#fcfafa\",\n",
    "        paper_bgcolor = \"#fcfafa\", \n",
    "        font=dict(size=11)\n",
    "    )\n",
    "fig.show()\n",
    "\n"
   ]
  },
  {
   "cell_type": "code",
   "execution_count": null,
   "id": "864748af",
   "metadata": {},
   "outputs": [],
   "source": [
    "_df_table_medio_groupby_ = _df_table_medio_groupby.groupby([\"GRUPO\",\"ds\"])\n",
    "_df_table_medio_groupby_vol = _df_table_medio_groupby_.agg({\"var\":\"sum\"}).reset_index()\n",
    "\n",
    "\n",
    "fig =px.line(_df_table_medio_groupby_vol, \n",
    "            x=\"ds\", \n",
    "            y=\"var\",\n",
    "            title=\"BR - tendência - cluster medio\",\n",
    "            color=\"GRUPO\",\n",
    "            color_discrete_sequence=px.colors.qualitative.Pastel2,\n",
    "            hover_data=[\"GRUPO\"]\n",
    "        )\n",
    "\n",
    "fig.update_layout(\n",
    "    autosize=False,\n",
    "    width= 1300,\n",
    "    height=700\n",
    ")\n",
    "    \n",
    "fig.update_layout(\n",
    "        title = {\"x\": .45, \"y\": .90, \"font\": {\"color\":\"darkslateblue\"}},\n",
    "        plot_bgcolor = \"#fcfafa\",\n",
    "        paper_bgcolor = \"#fcfafa\", \n",
    "        font=dict(size=11)\n",
    "    )\n",
    "fig.show()"
   ]
  },
  {
   "cell_type": "code",
   "execution_count": null,
   "id": "4ca04171",
   "metadata": {},
   "outputs": [],
   "source": [
    "#filtro_df_table_medio_groupby.info()\n",
    "\n",
    "_df_table_medio_groupby['ds'].value_counts()\n",
    "\n",
    "_df_table_medio_groupby[\"ds\"] = _df_table_medio_groupby[\"ds\"].apply(pd.to_datetime)\n",
    "\n",
    "_df_table_medio_groupby['ds_str'] = _df_table_medio_groupby['ds'].astype(str)\n",
    "\n",
    "_df_table_medio_groupby[['ano','mes','dia']] = _df_table_medio_groupby['ds_str'].str.split(\"-\",expand=True)\n",
    "\n",
    "mask1 = _df_table_medio_groupby[\"ano\"] == \"2022\"\n",
    "_df_table_medio_groupby_22 = _df_table_medio_groupby[mask1]\n",
    "_df_table_medio_groupby_22 [\"ano\"].value_counts()\n",
    "\n",
    "mask1 = _df_table_medio_groupby[\"ano\"] == \"2023\"\n",
    "_df_table_medio_groupby_23 = _df_table_medio_groupby[mask1]\n",
    "_df_table_medio_groupby_23 [\"ano\"].value_counts()\n",
    "\n",
    "dfg23volrazao =  _df_table_medio_groupby_23.groupby(by='NOM_RAZAO_SOCIAL_dest')['VolANP'].sum()\n",
    "dfg22volrazao =  _df_table_medio_groupby_22.groupby(by='NOM_RAZAO_SOCIAL_dest')['VolANP'].sum()\n",
    "\n",
    "dfg23volrazao = round(dfg23volrazao, 2)\n",
    "dfg23volrazao = dfg23volrazao.sort_values(ascending = False)\n",
    "\n",
    "dfg22volrazao = round(dfg22volrazao, 2)\n",
    "dfg22volrazao = dfg22volrazao.sort_values(ascending = False)\n",
    "\n",
    "\n",
    "dfg23volrazao_n6 = dfg23volrazao.nlargest(6)\n",
    "\n",
    "dfg22volrazao_n6 = dfg22volrazao.nlargest(6)\n"
   ]
  },
  {
   "cell_type": "code",
   "execution_count": null,
   "id": "5ad1caec",
   "metadata": {},
   "outputs": [],
   "source": [
    "figure1=px.bar(\n",
    "        (dfg23volrazao_n6\n",
    "         #.query(\"QUALIF_DEST in ['TRR']\")\n",
    "         #.sort_values(ascending = False)\n",
    "         #.nlargest(1)\n",
    "         #.groupby(\"GRUPO\", as_index=False)\n",
    "         #.mean()\n",
    "         #.rename({\"expenditure_per_student\": \"Expenditure Per Student (Thousands)\"}, axis=1)\n",
    "         #.nlargest(10, 'VolANP_ano')\n",
    "        ),\n",
    "        x=dfg23volrazao_n6.index,\n",
    "        y=dfg23volrazao_n6.values,\n",
    "        title=\"Volume m³ - por Empresa destino  - Ano 2023\",\n",
    "        color_discrete_sequence=px.colors.qualitative.Pastel2,\n",
    "        color=dfg23volrazao_n6.values,\n",
    "        color_continuous_scale=\"deep\",\n",
    "        text_auto='.0f',\n",
    "        #hover_data=[\"GRUPO\"]\n",
    "    )\n",
    "\n",
    "\n",
    "figure1.update_layout(\n",
    "        autosize=False,\n",
    "        width= 1300,\n",
    "        height=700\n",
    "    )\n",
    "\n",
    "figure1.update_layout(\n",
    "            title = {\"x\": .45, \"y\": .90, \"font\": {\"color\":\"darkslateblue\"}},\n",
    "            plot_bgcolor = \"#fcfafa\",\n",
    "            paper_bgcolor = \"#fcfafa\", \n",
    "            font=dict(size=11)\n",
    "        )\n",
    "#figure1.show()\n",
    "\n",
    "figure2 = px.bar(\n",
    "        (dfg22volrazao_n6\n",
    "         #.query(\"QUALIF_DEST in ['TRR']\")\n",
    "         #.sort_values(ascending = False)\n",
    "         .nlargest(1)\n",
    "         #.groupby(\"GRUPO\", as_index=False)\n",
    "         #.mean()\n",
    "         #.rename({\"expenditure_per_student\": \"Expenditure Per Student (Thousands)\"}, axis=1)\n",
    "         #.nlargest(10, 'VolANP_ano')\n",
    "        ),\n",
    "        x=dfg22volrazao_n6.index,\n",
    "        y=dfg22volrazao_n6.values,\n",
    "        title=\"Volume m³ - por Empresa destino  - Ano 2022\",\n",
    "        color_discrete_sequence=px.colors.qualitative.Pastel2,\n",
    "        color=dfg22volrazao_n6.values,\n",
    "        color_continuous_scale=\"deep\",\n",
    "        text_auto='.0f',\n",
    "        #hover_data=[\"GRUPO\"]\n",
    "    )\n",
    "\n",
    "\n",
    "figure2.update_layout(\n",
    "        autosize=False,\n",
    "        width= 1300,\n",
    "        height=700\n",
    "    )\n",
    "\n",
    "figure2.update_layout(\n",
    "            title = {\"x\": .45, \"y\": .90, \"font\": {\"color\":\"darkslateblue\"}},\n",
    "            plot_bgcolor = \"#fcfafa\",\n",
    "            paper_bgcolor = \"#fcfafa\", \n",
    "            font=dict(size=11)\n",
    "        )\n",
    "#figure2.show()\n",
    "\n",
    "\n",
    "\n",
    "# For as many traces that exist per Express figure, get the traces from each plot and store them in an array.\n",
    "# This is essentially breaking down the Express fig into its traces\n",
    "figure1_traces = []\n",
    "figure2_traces = []\n",
    "for trace in range(len(figure1[\"data\"])):\n",
    "    figure1_traces.append(figure1[\"data\"][trace])\n",
    "for trace in range(len(figure2[\"data\"])):\n",
    "    ############ The major modification. Manually set 'showlegend' attribute to False. ############\n",
    "    figure2[\"data\"][trace]['showlegend'] = False             \n",
    "    figure2_traces.append(figure2[\"data\"][trace])\n",
    "    \n",
    "# Create a 1x2 subplot\n",
    "this_figure = sp.make_subplots(rows = 1, cols = 2, subplot_titles = ['Volume m³ 2023', 'Volume m³ 2022'])\n",
    "#this_figure.update_layout(height = 700, width = 1300, title_text = \"Volume m³ - por Empresa destino com crescimento\", title_font_size = 15)\n",
    "this_figure.update_layout(height = 700, width = 1300)\n",
    "\n",
    "# Get the Express fig broken down as traces and add the traces to the proper plot within the subplot\n",
    "for traces in figure1_traces:\n",
    "    this_figure.append_trace(traces, row = 1, col = 1)\n",
    "for traces in figure2_traces:\n",
    "    this_figure.append_trace(traces, row = 1, col = 2)\n",
    "\n",
    "this_figure.update_layout(\n",
    "        title = {\"x\": .5, \"y\": .90, \"font\": {\"color\":\"darkslateblue\"}},\n",
    "        plot_bgcolor = \"#fcfafa\",\n",
    "        paper_bgcolor = \"#fcfafa\"\n",
    "    )\n",
    "this_figure.update_xaxes(tickangle=30)\n",
    "\n",
    "this_figure.show()\n"
   ]
  },
  {
   "cell_type": "code",
   "execution_count": null,
   "id": "3e19ca83",
   "metadata": {},
   "outputs": [],
   "source": [
    "_df_table_medio_groupby.info()\n",
    "\n",
    "_df_table_medio_groupby.sort_values(by=['delta_vol'], ascending=False).head()\n",
    "\n",
    "_df_table_medio_groupby.sort_values(by=['delta_vol'], ascending=False).head(60).nlargest(10, 'delta_vol')\n",
    "\n",
    "_df_table_medio_groupby.info()\n",
    "\n",
    "_df_table_medio_groupby['delta_share_pp'] = _df_table_medio_groupby['share_razao'] - _df_table_medio_groupby['preview_share']\n",
    "\n",
    "_df_table_medio_groupby['delta_share_pp'] = _df_table_medio_groupby['delta_share_pp']*100\n",
    "\n",
    "_df_table_medio_groupby['share_razao'] = _df_table_medio_groupby['share_razao']*100\n",
    "\n",
    "_df_table_medio_groupby['preview_share'] = _df_table_medio_groupby['preview_share']*100"
   ]
  },
  {
   "cell_type": "code",
   "execution_count": null,
   "id": "38fbe491",
   "metadata": {},
   "outputs": [],
   "source": [
    "mask = (_df_table_medio_groupby['ds'] >= '2023-05-01') & (_df_table_medio_groupby['ds'] <= '2023-09-01') & (_df_table_medio_groupby['GRUPO'] == 'RAIZEN') & (_df_table_medio_groupby['QUALIF_DEST'] != 'TRR') \n",
    "_df_table_medio_groupby.loc[mask][['id','VolANP','preview_value','preview_value_12','delta_vol','delta_vol_12','share_razao','preview_share','delta_share_pp','QUALIF_DEST','ds','GRUPO']].sort_values(by=['delta_vol'], ascending=False).nlargest(30, 'delta_share_pp')"
   ]
  },
  {
   "cell_type": "code",
   "execution_count": null,
   "id": "4ddab115",
   "metadata": {},
   "outputs": [],
   "source": [
    "mask = (_df_table_medio_groupby['ds'] >= '2023-05-01') & (_df_table_medio_groupby['ds'] <= '2023-09-01') & (_df_table_medio_groupby['GRUPO'] == 'RAIZEN') \n",
    "_df_table_medio_groupby.loc[mask][['id','VolANP','preview_value','preview_value_12','delta_vol','delta_vol_12','share_razao','preview_share','delta_share_pp','QUALIF_DEST','ds','GRUPO']].sort_values(by=['delta_vol'], ascending=False).nlargest(30, 'delta_share_pp').to_excel(\"30maiorespordeltasharepp_cluster_medio_dimensãoBR.xlsx\")\n"
   ]
  },
  {
   "cell_type": "code",
   "execution_count": null,
   "id": "0545a2f3",
   "metadata": {},
   "outputs": [],
   "source": [
    "mask = (_df_table_medio_groupby['ds'] >= '2023-05-01') & (_df_table_medio_groupby['ds'] <= '2023-09-01') & (_df_table_medio_groupby['GRUPO'] == 'RAIZEN') & (_df_table_medio_groupby['QUALIF_DEST'] != 'TRR') \n",
    "_df_table_medio_groupby.loc[mask][['id','VolANP','preview_value','preview_value_12','delta_vol','delta_vol_12','share_razao','preview_share','delta_share_pp','QUALIF_DEST','ds','GRUPO']].sort_values(by=['delta_vol'], ascending=False).nlargest(30, 'delta_share_pp').to_excel(\"CANAL10_30maiores_por_deltasharepp_cluster_medio_dimensãoBR.xlsx\")\n"
   ]
  },
  {
   "cell_type": "code",
   "execution_count": null,
   "id": "fea26ba9",
   "metadata": {},
   "outputs": [],
   "source": [
    "mask = (_df_table_medio_groupby['ds'] >= '2023-05-01') & (_df_table_medio_groupby['ds'] <= '2023-09-01') & (_df_table_medio_groupby['QUALIF_DEST'] != 'TRR') \n",
    "medio_analitico = _df_table_medio_groupby.loc[mask][['id','VolANP','preview_value','preview_value_12','delta_vol','delta_vol_12','share_razao','preview_share','delta_share_pp','QUALIF_DEST','ds','GRUPO','var']].sort_values(by=['delta_vol'], ascending=False)\n",
    "_medio_analitico_ = medio_analitico.groupby([\"GRUPO\",\"ds\"])\n",
    "medio_analitico_vol = _medio_analitico_.agg({\"var\":\"sum\"}).reset_index()\n",
    "medio_analitico_vol.to_parquet(\"medio_analitico_vol.parquet\")\n",
    "medio_analitico_vol.to_excel(\"medio_analitico_vol.xlsx\")\n",
    "\n",
    "fig =px.line(medio_analitico_vol, \n",
    "            x=\"ds\", \n",
    "            y=\"var\",\n",
    "            title=\"BR - tendência - cluster medio - canal 10 - 2023-05 a 2023-09\",\n",
    "            color=\"GRUPO\",\n",
    "            color_discrete_sequence=px.colors.qualitative.Pastel2,\n",
    "            hover_data=[\"GRUPO\"]\n",
    "        )\n",
    "\n",
    "fig.update_layout(\n",
    "    autosize=False,\n",
    "    width= 1300,\n",
    "    height=700\n",
    ")\n",
    "    \n",
    "fig.update_layout(\n",
    "        title = {\"x\": .45, \"y\": .90, \"font\": {\"color\":\"darkslateblue\"}},\n",
    "        plot_bgcolor = \"#fcfafa\",\n",
    "        paper_bgcolor = \"#fcfafa\", \n",
    "        font=dict(size=11)\n",
    "    )\n",
    "fig.show()\n",
    "\n"
   ]
  },
  {
   "cell_type": "code",
   "execution_count": null,
   "id": "718cf707",
   "metadata": {},
   "outputs": [],
   "source": [
    "\n",
    "\n",
    "mask = (_df_table_medio_groupby['ds'] == '2023-09-01') & (_df_table_medio_groupby['QUALIF_DEST'] != 'TRR')  & (_df_table_medio_groupby['GRUPO'] == 'RAIZEN') \n",
    "medio_analitico = _df_table_medio_groupby.loc[mask][['id','VolANP','preview_value','preview_value_12','delta_vol','delta_vol_12','share_razao','preview_share','delta_share_pp','QUALIF_DEST','ds','GRUPO','var']].sort_values(by=['delta_vol'], ascending=False)\n",
    "medio_analitico = round(medio_analitico, 2)\n",
    "medio_analitico.info()\n",
    "medio_analitico.to_parquet(\"medio_analitico.parquet\")\n",
    "medio_analitico.to_excel(\"medio_analitico.xlsx\")\n",
    "\n",
    "\n",
    "# quadrantes medio 22\n",
    "\n",
    "#RAIZEN_medio22['share_raizen'] = RAIZEN_medio22['share_raizen']*100\n",
    "linha_mediana = medio_analitico['VolANP'].median()\n",
    "linha_media = medio_analitico['VolANP'].mean()\n",
    "share_mediana = medio_analitico['share_razao'].median()\n",
    "share_media = medio_analitico['share_razao'].mean()\n",
    "\n",
    "linha_mediana = round(linha_mediana, 2)\n",
    "linha_media = round(linha_media, 2)\n",
    "share_mediana = round(share_mediana, 2)\n",
    "share_media = round(share_media, 2)\n",
    "\n",
    "conditions = [\n",
    "    (medio_analitico['share_razao'] > share_media) & (medio_analitico['VolANP'] > linha_media),\n",
    "    (medio_analitico['share_razao'] > share_media) & (medio_analitico['VolANP'] <= linha_media),\n",
    "    (medio_analitico['share_razao'] <= share_media) & (medio_analitico['VolANP'] > linha_media),\n",
    "    (medio_analitico['share_razao'] <= share_media) & (medio_analitico['VolANP'] <= linha_media)]\n",
    "\n",
    "choices1 = ['Share acima da média e Volumes acima da média no ano','Share acima da média e Volumes abaixo da média no ano','Share abaixo da média e Volumes acima da média no ano','Share abaixo da média e Volumes abaixo da média no ano']\n",
    "choices2 = ['Sucesso','Bom','Atenção','Razoável']\n",
    "\n",
    "medio_analitico['quadrante_desc'] = np.select(conditions, choices1, default='sem_grupo')\n",
    "medio_analitico['quadrante'] = np.select(conditions, choices2, default='sem_grupo')\n",
    "\n",
    "medio_analitico = round(medio_analitico, 2)\n",
    "\n"
   ]
  },
  {
   "cell_type": "code",
   "execution_count": null,
   "id": "66981c27",
   "metadata": {},
   "outputs": [],
   "source": [
    "\n",
    "\n",
    "figure2 = px.scatter(\n",
    "        medio_analitico,\n",
    "        x=\"VolANP\",\n",
    "        y=\"share_razao\",\n",
    "        color_discrete_sequence=px.colors.qualitative.Set3,\n",
    "        color=medio_analitico['id'],\n",
    "        labels={\n",
    "            \"VolANP\": \"Volume m³ setembro 2023\",\n",
    "            \"share_razao\": \"share setembro 2023\"\n",
    "        },\n",
    "        #hover_data=[\"QUALIF_DEST\",\"quadrante_desc\",\"quadrante\",\"faixa_razao\"],\n",
    "        hover_data=[\"VolANP\",\"preview_value\",\"preview_value_12\",\"delta_vol\",\"delta_vol_12\",\"share_razao\",\"preview_share\",\"delta_share_pp\",\"QUALIF_DEST\"],\n",
    "        title=\"Segmento medio - Brasil - Vol x Share - 2023-09\",\n",
    "    )#.update_layout(\n",
    "#     legend_title=\"Funding\"\n",
    "#    font_color=\"Green\",\n",
    "#    legend_title={\n",
    "#        \"text\": \"Funding\",\n",
    "#        \"font\":{\n",
    "#            \"color\":\"Red\",\n",
    "#            \"family\": \"Comic Sans\"\n",
    "#        }\n",
    "#    }\n",
    "#)\n",
    "figure2.update_layout(\n",
    "    autosize=False,\n",
    "    width= 1300,\n",
    "    height=700\n",
    ")\n",
    "figure2.update_xaxes(showgrid=False)\n",
    "figure2.update_yaxes(showgrid=True)\n",
    "\n",
    "figure2.update_layout(\n",
    "        title = {\"x\": .5, \"y\": .90, \"font\": {\"color\":\"darkslateblue\"}},\n",
    "        plot_bgcolor = \"#fcfafa\",\n",
    "        paper_bgcolor = \"#fcfafa\"\n",
    "    )\n",
    "figure2.add_hline(y=share_media, line_dash=\"dot\", line_color=\"blue\", annotation_text=f'Media = {share_media:.2f}',annotation_position=\"top left\" )\n",
    "figure2.add_hline(y=share_mediana, line_dash=\"dot\", line_color=\"yellow\", annotation_text=f'Mediana = {share_mediana:.2f}',annotation_position=\"top right\" )\n",
    "figure2.add_vline(x=linha_mediana, line_dash=\"dot\", line_color=\"blue\", annotation_text=f'Mediana = {linha_mediana:.2f}',annotation_position=\"top left\" )\n",
    "figure2.add_vline(x=linha_media, line_dash=\"dot\", line_color=\"yellow\", annotation_text=f'Media = {linha_media:.2f}',annotation_position=\"top right\" )\n",
    "\n",
    "\n",
    "figure2.show()\n",
    "\n"
   ]
  },
  {
   "cell_type": "code",
   "execution_count": null,
   "id": "ded10781",
   "metadata": {},
   "outputs": [],
   "source": []
  },
  {
   "cell_type": "markdown",
   "id": "8f92e5fd",
   "metadata": {},
   "source": [
    "# MONTAGEM DAS TABELAS DE CONCORRÊNCIA COM FILTRO \n",
    "\n",
    "# pequeno_medio\n"
   ]
  },
  {
   "cell_type": "code",
   "execution_count": null,
   "id": "82d8653a",
   "metadata": {},
   "outputs": [],
   "source": [
    "# MONTAGEM DAS TABELAS DE CONCORRÊNCIA COM FILTRO \n",
    "\n",
    "# pequeno_medio\n",
    "\n",
    "\n",
    "# quadrantes pequeno_medio 23\n",
    "\n",
    "#RAIZEN_pequeno_medio23['share_raizen'] = RAIZEN_pequeno_medio23['share_raizen']*100\n",
    "linha_mediana23 = RAIZEN_pequeno_medio23['VolANP_ano'].median()\n",
    "linha_media23 = RAIZEN_pequeno_medio23['VolANP_ano'].mean()\n",
    "share_mediana23 = RAIZEN_pequeno_medio23['share_raizen'].median()\n",
    "share_media23 = RAIZEN_pequeno_medio23['share_raizen'].mean()\n",
    "\n",
    "linha_mediana23 = round(linha_mediana23, 2)\n",
    "linha_media23 = round(linha_media23, 2)\n",
    "share_mediana23 = round(share_mediana23, 2)\n",
    "share_media23 = round(share_media23, 2)\n",
    "\n",
    "conditions = [\n",
    "    (RAIZEN_pequeno_medio23['share_raizen'] > share_media23) & (RAIZEN_pequeno_medio23['VolANP_ano'] > linha_media23),\n",
    "    (RAIZEN_pequeno_medio23['share_raizen'] > share_media23) & (RAIZEN_pequeno_medio23['VolANP_ano'] <= linha_media23),\n",
    "    (RAIZEN_pequeno_medio23['share_raizen'] <= share_media23) & (RAIZEN_pequeno_medio23['VolANP_ano'] > linha_media23),\n",
    "    (RAIZEN_pequeno_medio23['share_raizen'] <= share_media23) & (RAIZEN_pequeno_medio23['VolANP_ano'] <= linha_media23)]\n",
    "\n",
    "choices1 = ['Share acima da média e Volumes acima da média no ano','Share acima da média e Volumes abaixo da média no ano','Share abaixo da média e Volumes acima da média no ano','Share abaixo da média e Volumes abaixo da média no ano']\n",
    "choices2 = ['Sucesso','Bom','Atenção','Razoável']\n",
    "\n",
    "RAIZEN_pequeno_medio23['quadrante_desc'] = np.select(conditions, choices1, default='sem_grupo')\n",
    "RAIZEN_pequeno_medio23['quadrante'] = np.select(conditions, choices2, default='sem_grupo')\n",
    "\n",
    "RAIZEN_pequeno_medio23 = round(RAIZEN_pequeno_medio23, 2)\n",
    "RAIZEN_pequeno_medio23\n"
   ]
  },
  {
   "cell_type": "code",
   "execution_count": null,
   "id": "1779e592",
   "metadata": {},
   "outputs": [],
   "source": [
    "# quadrantes pequeno_medio 22\n",
    "\n",
    "#RAIZEN_pequeno_medio22['share_raizen'] = RAIZEN_pequeno_medio22['share_raizen']*100\n",
    "linha_mediana22 = RAIZEN_pequeno_medio22['VolANP_ano'].median()\n",
    "linha_media22 = RAIZEN_pequeno_medio22['VolANP_ano'].mean()\n",
    "share_mediana22 = RAIZEN_pequeno_medio22['share_raizen'].median()\n",
    "share_media22 = RAIZEN_pequeno_medio22['share_raizen'].mean()\n",
    "\n",
    "linha_mediana22 = round(linha_mediana22, 2)\n",
    "linha_media22 = round(linha_media22, 2)\n",
    "share_mediana22 = round(share_mediana22, 2)\n",
    "share_media22 = round(share_media22, 2)\n",
    "\n",
    "conditions = [\n",
    "    (RAIZEN_pequeno_medio22['share_raizen'] > share_media22) & (RAIZEN_pequeno_medio22['VolANP_ano'] > linha_media22),\n",
    "    (RAIZEN_pequeno_medio22['share_raizen'] > share_media22) & (RAIZEN_pequeno_medio22['VolANP_ano'] <= linha_media22),\n",
    "    (RAIZEN_pequeno_medio22['share_raizen'] <= share_media22) & (RAIZEN_pequeno_medio22['VolANP_ano'] > linha_media22),\n",
    "    (RAIZEN_pequeno_medio22['share_raizen'] <= share_media22) & (RAIZEN_pequeno_medio22['VolANP_ano'] <= linha_media22)]\n",
    "\n",
    "choices1 = ['Share acima da média e Volumes acima da média no ano','Share acima da média e Volumes abaixo da média no ano','Share abaixo da média e Volumes acima da média no ano','Share abaixo da média e Volumes abaixo da média no ano']\n",
    "choices2 = ['Sucesso','Bom','Atenção','Razoável']\n",
    "\n",
    "RAIZEN_pequeno_medio22['quadrante_desc'] = np.select(conditions, choices1, default='sem_grupo')\n",
    "RAIZEN_pequeno_medio22['quadrante'] = np.select(conditions, choices2, default='sem_grupo')\n",
    "\n",
    "RAIZEN_pequeno_medio22 = round(RAIZEN_pequeno_medio22, 2)\n",
    "RAIZEN_pequeno_medio22\n"
   ]
  },
  {
   "cell_type": "code",
   "execution_count": null,
   "id": "3e004af2",
   "metadata": {},
   "outputs": [],
   "source": [
    "# pequeno_medio\n",
    "\n",
    "RAIZEN_pequeno_medio =  pd.concat([RAIZEN_pequeno_medio22,RAIZEN_pequeno_medio23])\n",
    "RAIZEN_pequeno_medio"
   ]
  },
  {
   "cell_type": "code",
   "execution_count": null,
   "id": "0173d21c",
   "metadata": {},
   "outputs": [],
   "source": [
    "# pivot table dim - ANO/razãosocial \n",
    "table = pd.pivot_table(RAIZEN_pequeno_medio, values='VolANP_ano', index=['NOM_RAZAO_SOCIAL_dest'],\n",
    "                       columns=['ano'], aggfunc=\"sum\")\n",
    "table = table.reset_index()\n",
    "table"
   ]
  },
  {
   "cell_type": "code",
   "execution_count": null,
   "id": "fbe98f2e",
   "metadata": {},
   "outputs": [],
   "source": [
    "table.fillna(0.00001, inplace = True)\n",
    "table['VolANP_delta%'] = ((table['2023'] - table['2022'])/table['2023'])*100\n",
    "table"
   ]
  },
  {
   "cell_type": "code",
   "execution_count": null,
   "id": "35446b6a",
   "metadata": {},
   "outputs": [],
   "source": [
    "# unificando com table_share\n",
    "\n",
    "table_share.rename(columns= {'2022':'2022_share_ano'}, inplace = True)\n",
    "table_share.rename(columns= {'2023':'2023_share_ano'}, inplace = True)\n",
    "\n",
    "table_share"
   ]
  },
  {
   "cell_type": "code",
   "execution_count": null,
   "id": "f03341ba",
   "metadata": {},
   "outputs": [],
   "source": [
    "### merge table share\n",
    "\n",
    "table.rename(columns= {'2022':'2022_VolANP_ano'}, inplace = True)\n",
    "table.rename(columns= {'2023':'2023_VolANP_ano'}, inplace = True)\n",
    "\n",
    "table = table.merge(table_share, how='inner', on = ['NOM_RAZAO_SOCIAL_dest'])\n",
    "table\n",
    "\n",
    "# mask = table[\"delta\"] < 0\n",
    "# table = table[mask]\n",
    "# table"
   ]
  },
  {
   "cell_type": "code",
   "execution_count": null,
   "id": "364f8e27",
   "metadata": {},
   "outputs": [],
   "source": [
    "# GRÁFICOS\n",
    "\n",
    "#outliers\n",
    "\n",
    "## pequeno_medio\n",
    "\n",
    "\n",
    "q_pequeno_medio = RAIZEN_pequeno_medio[['NOM_RAZAO_SOCIAL_dest','QUALIF_DEST','faixa_razao','quadrante']].drop_duplicates(subset = \"NOM_RAZAO_SOCIAL_dest\" )\n",
    "q_pequeno_medio\n"
   ]
  },
  {
   "cell_type": "code",
   "execution_count": null,
   "id": "44cf251e",
   "metadata": {},
   "outputs": [],
   "source": [
    "table = table.merge(q_pequeno_medio, how='left', on = ['NOM_RAZAO_SOCIAL_dest'])\n",
    "table\n"
   ]
  },
  {
   "cell_type": "code",
   "execution_count": null,
   "id": "745bed88",
   "metadata": {},
   "outputs": [],
   "source": [
    "\n",
    "table = round(table, 2)\n",
    "\n",
    "figure2 = px.scatter(\n",
    "        table,\n",
    "        x=\"2022_VolANP_ano\",\n",
    "        y=\"2023_VolANP_ano\",\n",
    "        color_discrete_sequence=px.colors.qualitative.Set3,\n",
    "        color=table['NOM_RAZAO_SOCIAL_dest'],\n",
    "        labels={\n",
    "            \"2022_VolANP_ano\": \"Volume Ano 2022\",\n",
    "            \"2023_VolANP_ano\": \"Volume Ano 2023\"\n",
    "        },\n",
    "        #hover_data=[\"QUALIF_DEST\",\"quadrante_desc\",\"quadrante\",\"faixa_razao\"],\n",
    "        hover_data=[\"2022_VolANP_ano\",\"2023_VolANP_ano\",\"delta_share\",\"QUALIF_DEST\",\"faixa_razao\",\"quadrante\"],\n",
    "        title=\"Segmento pequeno_medio - Brasil - share RAIZEN\",\n",
    "    )#.update_layout(\n",
    "#     legend_title=\"Funding\"\n",
    "#    font_color=\"Green\",\n",
    "#    legend_title={\n",
    "#        \"text\": \"Funding\",\n",
    "#        \"font\":{\n",
    "#            \"color\":\"Red\",\n",
    "#            \"family\": \"Comic Sans\"\n",
    "#        }\n",
    "#    }\n",
    "#)\n",
    "figure2.update_layout(\n",
    "    autosize=False,\n",
    "    width= 1300,\n",
    "    height=700\n",
    ")\n",
    "figure2.update_xaxes(showgrid=False)\n",
    "figure2.update_yaxes(showgrid=True)\n",
    "\n",
    "figure2.update_layout(\n",
    "        title = {\"x\": .5, \"y\": .90, \"font\": {\"color\":\"darkslateblue\"}},\n",
    "        plot_bgcolor = \"#fcfafa\",\n",
    "        paper_bgcolor = \"#fcfafa\"\n",
    "    )\n",
    "figure2.add_hline(y=linha_media22, line_dash=\"dot\", line_color=\"blue\", annotation_text=f'Media22 = {linha_media22:.2f}',annotation_position=\"top left\" )\n",
    "figure2.add_hline(y=linha_media23, line_dash=\"dot\", line_color=\"yellow\", annotation_text=f'Media23 = {linha_media23:.2f}',annotation_position=\"top right\" )\n",
    "\n",
    "figure2.show()"
   ]
  },
  {
   "cell_type": "code",
   "execution_count": null,
   "id": "a82fda15",
   "metadata": {},
   "outputs": [],
   "source": [
    "table_pequeno_medio_raizen_ano = table\n",
    "\n",
    "table_pequeno_medio_raizen_ano.info()\n",
    "\n",
    "table = table.drop(['QUALIF_DEST'], axis=1)\n",
    "table = table.drop(['faixa_razao'], axis=1)\n",
    "\n",
    "table\n"
   ]
  },
  {
   "cell_type": "code",
   "execution_count": null,
   "id": "f1255e25",
   "metadata": {},
   "outputs": [],
   "source": [
    "#fim 2022\n",
    "fim = df['ds'].max() - relativedelta(months=12)\n",
    "fim\n",
    "\n",
    "filtro22 = df['ds']<= fim\n",
    "df_filtro22 = pd.DataFrame(df[filtro22])\n",
    "df_filtro22['ds'].max()\n",
    "\n",
    "mask = df[\"ano\"] == \"2023\"\n",
    "df_filtro23 = df[mask]\n",
    "df_filtro23['ds'].max()\n",
    "\n",
    "df_filtro23['ds'].min()\n",
    "\n",
    "df_filtro = pd.concat([df_filtro22,df_filtro23])\n",
    "\n",
    "print(df_filtro['ds'].unique())\n",
    "\n",
    "df_filtro.info()\n"
   ]
  },
  {
   "cell_type": "code",
   "execution_count": null,
   "id": "1e23000c",
   "metadata": {},
   "outputs": [],
   "source": [
    "df_table_pequeno_medio = df_filtro.merge(table, how='inner', on = ['NOM_RAZAO_SOCIAL_dest'])\n",
    "df_table_pequeno_medio.info()\n",
    "\n",
    "df_table_pequeno_medio['id'] = df_table_pequeno_medio['NOM_RAZAO_SOCIAL_dest']+\"|\"+df_table_pequeno_medio['ds'].astype(str)+\"|\"+df_table_pequeno_medio['QUALIF_DEST']+\"|\"+df_table_pequeno_medio['GRUPO']\n",
    "\n",
    "df_table_pequeno_medio['idr'] = df_table_pequeno_medio['NOM_RAZAO_SOCIAL_dest']+\"|\"+df_table_pequeno_medio['ds'].astype(str)+\"|\"+df_table_pequeno_medio['QUALIF_DEST']\n",
    "\n",
    "_df_table_pequeno_medio = df_table_pequeno_medio.groupby(['id','idr'])\n",
    "_df_table_pequeno_medio_groupby = _df_table_pequeno_medio.agg({\"VolANP\":\"sum\"}).reset_index()\n",
    "\n",
    "_df_table_pequeno_medio_groupby.info()\n",
    "\n",
    "\n",
    "_df_table_pequeno_medio = df_table_pequeno_medio.groupby(['idr'])\n",
    "_df_table_pequeno_medio_groupby_razao = _df_table_pequeno_medio.agg({\"VolANP\":\"sum\"}).reset_index()\n",
    "\n",
    "_df_table_pequeno_medio_groupby_razao.rename(columns= {'VolANP':'VolANP_razao'}, inplace = True)\n",
    "\n",
    "_df_table_pequeno_medio_groupby_razao.info()\n",
    "\n",
    "\n",
    "\n",
    "_df_table_pequeno_medio_groupby = _df_table_pequeno_medio_groupby.merge(_df_table_pequeno_medio_groupby_razao, how='left', on = ['idr'])\n",
    "\n",
    "_df_table_pequeno_medio_groupby.info()\n",
    "\n",
    "_df_table_pequeno_medio_groupby['share_razao'] = _df_table_pequeno_medio_groupby['VolANP'] / _df_table_pequeno_medio_groupby['VolANP_razao']\n",
    "\n",
    "_df_table_pequeno_medio_groupby[['NOM_RAZAO_SOCIAL_dest','ds','QUALIF_DEST','GRUPO']] = _df_table_pequeno_medio_groupby['id'].str.split(\"|\",expand=True)\n",
    "\n",
    "_df_table_pequeno_medio_groupby['id_shift'] = _df_table_pequeno_medio_groupby['NOM_RAZAO_SOCIAL_dest']+\"|\"+_df_table_pequeno_medio_groupby['QUALIF_DEST']+\"|\"+_df_table_pequeno_medio_groupby['GRUPO']\n",
    "\n",
    "_df_table_pequeno_medio_groupby['preview_share'] = _df_table_pequeno_medio_groupby.sort_values(by=['id']).groupby('id_shift')['share_razao'].shift(1)\n",
    "\n",
    "#_df_table_pequeno_medio_groupby[['id','ds','share_razao','preview_share']].to_excel('testeshare.xlsx')\n",
    "\n",
    "#_df_table_pequeno_medio_groupby.to_excel(\"_df_table_pequeno_medio_groupby.xlsx\")\n",
    "\n",
    "_df_table_pequeno_medio_groupby['preview_value'] = _df_table_pequeno_medio_groupby.sort_values(by=['id']).groupby('id_shift')['VolANP'].shift(1)\n",
    "\n",
    "_df_table_pequeno_medio_groupby['preview_value_2'] = _df_table_pequeno_medio_groupby.sort_values(by=['id']).groupby('id_shift')['VolANP'].shift(2)\n",
    "\n",
    "_df_table_pequeno_medio_groupby['preview_value_3'] = _df_table_pequeno_medio_groupby.sort_values(by=['id']).groupby('id_shift')['VolANP'].shift(3)\n",
    "\n",
    "_df_table_pequeno_medio_groupby['window_3m'] = (_df_table_pequeno_medio_groupby['preview_value'] + _df_table_pequeno_medio_groupby['preview_value_2'] + _df_table_pequeno_medio_groupby['preview_value_3'])/3\n",
    "\n",
    "# representatividade da janela de 3 meses em relação ao Volume total da base\n",
    "_df_table_pequeno_medio_groupby['var'] = (_df_table_pequeno_medio_groupby['window_3m']/_df_table_pequeno_medio_groupby['VolANP'].sum())*100\n",
    "\n",
    "_df_table_pequeno_medio_groupby['preview_value_12'] = _df_table_pequeno_medio_groupby.sort_values(by=['id']).groupby('id_shift')['VolANP'].shift(9)\n",
    "_df_table_pequeno_medio_groupby['preview_window_3m_12'] = _df_table_pequeno_medio_groupby.sort_values(by=['id']).groupby('id_shift')['window_3m'].shift(9)\n",
    "_df_table_pequeno_medio_groupby['preview_var_12'] = _df_table_pequeno_medio_groupby.sort_values(by=['id']).groupby('id_shift')['var'].shift(9)\n",
    "\n",
    "_df_table_pequeno_medio_groupby.info()\n",
    "\n",
    "_df_table_pequeno_medio_groupby['delta_vol'] = ((_df_table_pequeno_medio_groupby['VolANP']-_df_table_pequeno_medio_groupby['preview_value'])/_df_table_pequeno_medio_groupby['VolANP'])*100\n",
    "\n",
    "_df_table_pequeno_medio_groupby['delta_vol_12'] = ((_df_table_pequeno_medio_groupby['VolANP']-_df_table_pequeno_medio_groupby['preview_value_12'])/_df_table_pequeno_medio_groupby['VolANP'])*100\n",
    "\n",
    "#_df_table_pequeno_medio_groupby.to_excel(\"_df_table_pequeno_medio_groupby.xlsx\")\n",
    "\n",
    "#filtro_df_table_pequeno_medio_groupby = _df_table_pequeno_medio_groupby.loc[(_df_table_pequeno_medio_groupby.delta_vol > 0) | (_df_table_pequeno_medio_groupby.delta_vol_12 > 0)]\n",
    "\n",
    "#filtro_df_table_pequeno_medio_groupby[['id','NOM_RAZAO_SOCIAL_dest','ds','GRUPO','share_razao']]\n",
    "\n",
    "#filtro_df_table_pequeno_medio_groupby.to_excel(\"filtro_df_table_pequeno_medio_groupby.xlsx\")\n",
    "\n",
    "#filtro_df_table_pequeno_medio_groupby.info()\n",
    "\n",
    "_df_table_pequeno_medio_groupby.info()\n",
    "\n",
    "_df_table_pequeno_medio_groupby_ = _df_table_pequeno_medio_groupby.groupby([\"GRUPO\",\"ds\"])\n",
    "_df_table_pequeno_medio_groupby_vol = _df_table_pequeno_medio_groupby_.agg({\"VolANP\":\"sum\"}).reset_index()\n"
   ]
  },
  {
   "cell_type": "code",
   "execution_count": null,
   "id": "a1afc808",
   "metadata": {},
   "outputs": [],
   "source": [
    "\n",
    "fig =px.line(_df_table_pequeno_medio_groupby_vol, \n",
    "            x=\"ds\", \n",
    "            y=\"VolANP\",\n",
    "            title=\"BR - Volume m³ - cluster pequeno_medio\",\n",
    "            color=\"GRUPO\",\n",
    "            color_discrete_sequence=px.colors.qualitative.Pastel2,\n",
    "            hover_data=[\"GRUPO\"]\n",
    "        )\n",
    "\n",
    "fig.update_layout(\n",
    "    autosize=False,\n",
    "    width= 1300,\n",
    "    height=700\n",
    ")\n",
    "    \n",
    "fig.update_layout(\n",
    "        title = {\"x\": .45, \"y\": .90, \"font\": {\"color\":\"darkslateblue\"}},\n",
    "        plot_bgcolor = \"#fcfafa\",\n",
    "        paper_bgcolor = \"#fcfafa\", \n",
    "        font=dict(size=11)\n",
    "    )\n",
    "fig.show()"
   ]
  },
  {
   "cell_type": "code",
   "execution_count": null,
   "id": "06c392e4",
   "metadata": {},
   "outputs": [],
   "source": [
    "_df_table_pequeno_medio_groupby_ = _df_table_pequeno_medio_groupby.groupby([\"GRUPO\",\"ds\"])\n",
    "_df_table_pequeno_medio_groupby_vol = _df_table_pequeno_medio_groupby_.agg({\"var\":\"sum\"}).reset_index()\n",
    "\n",
    "\n",
    "fig =px.line(_df_table_pequeno_medio_groupby_vol, \n",
    "            x=\"ds\", \n",
    "            y=\"var\",\n",
    "            title=\"BR - tendência - cluster pequeno_medio\",\n",
    "            color=\"GRUPO\",\n",
    "            color_discrete_sequence=px.colors.qualitative.Pastel2,\n",
    "            hover_data=[\"GRUPO\"]\n",
    "        )\n",
    "\n",
    "fig.update_layout(\n",
    "    autosize=False,\n",
    "    width= 1300,\n",
    "    height=700\n",
    ")\n",
    "    \n",
    "fig.update_layout(\n",
    "        title = {\"x\": .45, \"y\": .90, \"font\": {\"color\":\"darkslateblue\"}},\n",
    "        plot_bgcolor = \"#fcfafa\",\n",
    "        paper_bgcolor = \"#fcfafa\", \n",
    "        font=dict(size=11)\n",
    "    )\n",
    "fig.show()"
   ]
  },
  {
   "cell_type": "code",
   "execution_count": null,
   "id": "6b4b8e23",
   "metadata": {},
   "outputs": [],
   "source": [
    "#filtro_df_table_pequeno_medio_groupby.info()\n",
    "\n",
    "_df_table_pequeno_medio_groupby['ds'].value_counts()\n",
    "\n",
    "_df_table_pequeno_medio_groupby[\"ds\"] = _df_table_pequeno_medio_groupby[\"ds\"].apply(pd.to_datetime)\n",
    "\n",
    "_df_table_pequeno_medio_groupby['ds_str'] = _df_table_pequeno_medio_groupby['ds'].astype(str)\n",
    "\n",
    "_df_table_pequeno_medio_groupby[['ano','mes','dia']] = _df_table_pequeno_medio_groupby['ds_str'].str.split(\"-\",expand=True)\n",
    "\n",
    "mask1 = _df_table_pequeno_medio_groupby[\"ano\"] == \"2022\"\n",
    "_df_table_pequeno_medio_groupby_22 = _df_table_pequeno_medio_groupby[mask1]\n",
    "_df_table_pequeno_medio_groupby_22 [\"ano\"].value_counts()\n",
    "\n",
    "mask1 = _df_table_pequeno_medio_groupby[\"ano\"] == \"2023\"\n",
    "_df_table_pequeno_medio_groupby_23 = _df_table_pequeno_medio_groupby[mask1]\n",
    "_df_table_pequeno_medio_groupby_23 [\"ano\"].value_counts()\n",
    "\n",
    "dfg23volrazao =  _df_table_pequeno_medio_groupby_23.groupby(by='NOM_RAZAO_SOCIAL_dest')['VolANP'].sum()\n",
    "dfg22volrazao =  _df_table_pequeno_medio_groupby_22.groupby(by='NOM_RAZAO_SOCIAL_dest')['VolANP'].sum()\n",
    "\n",
    "dfg23volrazao = round(dfg23volrazao, 2)\n",
    "dfg23volrazao = dfg23volrazao.sort_values(ascending = False)\n",
    "\n",
    "dfg22volrazao = round(dfg22volrazao, 2)\n",
    "dfg22volrazao = dfg22volrazao.sort_values(ascending = False)\n",
    "\n",
    "\n",
    "dfg23volrazao_n6 = dfg23volrazao.nlargest(6)\n",
    "\n",
    "dfg22volrazao_n6 = dfg22volrazao.nlargest(6)\n",
    "\n"
   ]
  },
  {
   "cell_type": "code",
   "execution_count": null,
   "id": "a7c52a29",
   "metadata": {},
   "outputs": [],
   "source": [
    "\n",
    "figure1=px.bar(\n",
    "        (dfg23volrazao_n6\n",
    "         #.query(\"QUALIF_DEST in ['TRR']\")\n",
    "         #.sort_values(ascending = False)\n",
    "         #.nlargest(1)\n",
    "         #.groupby(\"GRUPO\", as_index=False)\n",
    "         #.mean()\n",
    "         #.rename({\"expenditure_per_student\": \"Expenditure Per Student (Thousands)\"}, axis=1)\n",
    "         #.nlargest(10, 'VolANP_ano')\n",
    "        ),\n",
    "        x=dfg23volrazao_n6.index,\n",
    "        y=dfg23volrazao_n6.values,\n",
    "        title=\"Volume m³ - por Empresa destino  - Ano 2023\",\n",
    "        color_discrete_sequence=px.colors.qualitative.Pastel2,\n",
    "        color=dfg23volrazao_n6.values,\n",
    "        color_continuous_scale=\"deep\",\n",
    "        text_auto='.0f',\n",
    "        #hover_data=[\"GRUPO\"]\n",
    "    )\n",
    "\n",
    "\n",
    "figure1.update_layout(\n",
    "        autosize=False,\n",
    "        width= 1300,\n",
    "        height=700\n",
    "    )\n",
    "\n",
    "figure1.update_layout(\n",
    "            title = {\"x\": .45, \"y\": .90, \"font\": {\"color\":\"darkslateblue\"}},\n",
    "            plot_bgcolor = \"#fcfafa\",\n",
    "            paper_bgcolor = \"#fcfafa\", \n",
    "            font=dict(size=11)\n",
    "        )\n",
    "#figure1.show()\n",
    "figure2 = px.bar(\n",
    "        (dfg22volrazao_n6\n",
    "         #.query(\"QUALIF_DEST in ['TRR']\")\n",
    "         #.sort_values(ascending = False)\n",
    "         .nlargest(1)\n",
    "         #.groupby(\"GRUPO\", as_index=False)\n",
    "         #.mean()\n",
    "         #.rename({\"expenditure_per_student\": \"Expenditure Per Student (Thousands)\"}, axis=1)\n",
    "         #.nlargest(10, 'VolANP_ano')\n",
    "        ),\n",
    "        x=dfg22volrazao_n6.index,\n",
    "        y=dfg22volrazao_n6.values,\n",
    "        title=\"Volume m³ - por Empresa destino  - Ano 2022\",\n",
    "        color_discrete_sequence=px.colors.qualitative.Pastel2,\n",
    "        color=dfg22volrazao_n6.values,\n",
    "        color_continuous_scale=\"deep\",\n",
    "        text_auto='.0f',\n",
    "        #hover_data=[\"GRUPO\"]\n",
    "    )\n",
    "\n",
    "\n",
    "figure2.update_layout(\n",
    "        autosize=False,\n",
    "        width= 1300,\n",
    "        height=700\n",
    "    )\n",
    "\n",
    "figure2.update_layout(\n",
    "            title = {\"x\": .45, \"y\": .90, \"font\": {\"color\":\"darkslateblue\"}},\n",
    "            plot_bgcolor = \"#fcfafa\",\n",
    "            paper_bgcolor = \"#fcfafa\", \n",
    "            font=dict(size=11)\n",
    "        )\n",
    "#figure2.show()\n",
    "\n",
    "\n",
    "\n",
    "# For as many traces that exist per Express figure, get the traces from each plot and store them in an array.\n",
    "# This is essentially breaking down the Express fig into its traces\n",
    "figure1_traces = []\n",
    "figure2_traces = []\n",
    "for trace in range(len(figure1[\"data\"])):\n",
    "    figure1_traces.append(figure1[\"data\"][trace])\n",
    "for trace in range(len(figure2[\"data\"])):\n",
    "    ############ The major modification. Manually set 'showlegend' attribute to False. ############\n",
    "    figure2[\"data\"][trace]['showlegend'] = False             \n",
    "    figure2_traces.append(figure2[\"data\"][trace])\n",
    "    \n",
    "# Create a 1x2 subplot\n",
    "this_figure = sp.make_subplots(rows = 1, cols = 2, subplot_titles = ['Volume m³ 2023', 'Volume m³ 2022'])\n",
    "#this_figure.update_layout(height = 700, width = 1300, title_text = \"Volume m³ - por Empresa destino com crescimento\", title_font_size = 15)\n",
    "this_figure.update_layout(height = 700, width = 1300)\n",
    "\n",
    "# Get the Express fig broken down as traces and add the traces to the proper plot within the subplot\n",
    "for traces in figure1_traces:\n",
    "    this_figure.append_trace(traces, row = 1, col = 1)\n",
    "for traces in figure2_traces:\n",
    "    this_figure.append_trace(traces, row = 1, col = 2)\n",
    "\n",
    "this_figure.update_layout(\n",
    "        title = {\"x\": .5, \"y\": .90, \"font\": {\"color\":\"darkslateblue\"}},\n",
    "        plot_bgcolor = \"#fcfafa\",\n",
    "        paper_bgcolor = \"#fcfafa\"\n",
    "    )\n",
    "this_figure.update_xaxes(tickangle=30)\n",
    "\n",
    "this_figure.show()\n",
    "\n"
   ]
  },
  {
   "cell_type": "code",
   "execution_count": null,
   "id": "d83c1b1b",
   "metadata": {},
   "outputs": [],
   "source": [
    "\n",
    "_df_table_pequeno_medio_groupby.info()\n",
    "\n",
    "_df_table_pequeno_medio_groupby.sort_values(by=['delta_vol'], ascending=False).head()\n",
    "\n",
    "_df_table_pequeno_medio_groupby.sort_values(by=['delta_vol'], ascending=False).head(60).nlargest(10, 'delta_vol')\n",
    "\n",
    "_df_table_pequeno_medio_groupby.info()\n",
    "\n",
    "_df_table_pequeno_medio_groupby['delta_share_pp'] = _df_table_pequeno_medio_groupby['share_razao'] - _df_table_pequeno_medio_groupby['preview_share']\n",
    "\n",
    "_df_table_pequeno_medio_groupby['delta_share_pp'] = _df_table_pequeno_medio_groupby['delta_share_pp']*100\n",
    "\n",
    "_df_table_pequeno_medio_groupby['share_razao'] = _df_table_pequeno_medio_groupby['share_razao']*100\n",
    "\n",
    "_df_table_pequeno_medio_groupby['preview_share'] = _df_table_pequeno_medio_groupby['preview_share']*100\n",
    "\n",
    "mask = (_df_table_pequeno_medio_groupby['ds'] >= '2023-05-01') & (_df_table_pequeno_medio_groupby['ds'] <= '2023-09-01') & (_df_table_pequeno_medio_groupby['GRUPO'] == 'RAIZEN') & (_df_table_pequeno_medio_groupby['QUALIF_DEST'] != 'TRR') \n",
    "_df_table_pequeno_medio_groupby.loc[mask][['id','VolANP','preview_value','preview_value_12','delta_vol','delta_vol_12','share_razao','preview_share','delta_share_pp','QUALIF_DEST','ds','GRUPO']].sort_values(by=['delta_vol'], ascending=False).nlargest(30, 'delta_share_pp')\n",
    "\n"
   ]
  },
  {
   "cell_type": "code",
   "execution_count": null,
   "id": "94ca4abc",
   "metadata": {},
   "outputs": [],
   "source": [
    "\n",
    "\n",
    "mask = (_df_table_pequeno_medio_groupby['ds'] >= '2023-05-01') & (_df_table_pequeno_medio_groupby['ds'] <= '2023-09-01') & (_df_table_pequeno_medio_groupby['GRUPO'] == 'RAIZEN') \n",
    "_df_table_pequeno_medio_groupby.loc[mask][['id','VolANP','preview_value','preview_value_12','delta_vol','delta_vol_12','share_razao','preview_share','delta_share_pp','QUALIF_DEST','ds','GRUPO']].sort_values(by=['delta_vol'], ascending=False).nlargest(30, 'delta_share_pp').to_excel(\"30maiorespordeltasharepp_cluster_pequeno_medio_dimensãoBR.xlsx\")"
   ]
  },
  {
   "cell_type": "code",
   "execution_count": null,
   "id": "8d282316",
   "metadata": {},
   "outputs": [],
   "source": [
    "mask = (_df_table_pequeno_medio_groupby['ds'] >= '2023-05-01') & (_df_table_pequeno_medio_groupby['ds'] <= '2023-09-01') & (_df_table_pequeno_medio_groupby['GRUPO'] == 'RAIZEN') & (_df_table_pequeno_medio_groupby['QUALIF_DEST'] != 'TRR') \n",
    "_df_table_pequeno_medio_groupby.loc[mask][['id','VolANP','preview_value','preview_value_12','delta_vol','delta_vol_12','share_razao','preview_share','delta_share_pp','QUALIF_DEST','ds','GRUPO']].sort_values(by=['delta_vol'], ascending=False).nlargest(30, 'delta_share_pp').to_excel(\"CANAL10_30maiores_por_deltasharepp_cluster_pequeno_medio_dimensãoBR.xlsx\")"
   ]
  },
  {
   "cell_type": "code",
   "execution_count": null,
   "id": "5ede6d9f",
   "metadata": {},
   "outputs": [],
   "source": [
    "mask = (_df_table_pequeno_medio_groupby['ds'] >= '2023-05-01') & (_df_table_pequeno_medio_groupby['ds'] <= '2023-09-01') & (_df_table_pequeno_medio_groupby['QUALIF_DEST'] != 'TRR') \n",
    "pequeno_medio_analitico = _df_table_pequeno_medio_groupby.loc[mask][['id','VolANP','preview_value','preview_value_12','delta_vol','delta_vol_12','share_razao','preview_share','delta_share_pp','QUALIF_DEST','ds','GRUPO','var']].sort_values(by=['delta_vol'], ascending=False)\n",
    "_pequeno_medio_analitico_ = pequeno_medio_analitico.groupby([\"GRUPO\",\"ds\"])\n",
    "pequeno_medio_analitico_vol = _pequeno_medio_analitico_.agg({\"var\":\"sum\"}).reset_index()\n",
    "pequeno_medio_analitico_vol.to_parquet(\"pequeno_medio_analitico_vol.parquet\")\n",
    "pequeno_medio_analitico_vol.to_excel(\"pequeno_medio_analitico_vol.xlsx\")\n",
    "\n",
    "fig =px.line(pequeno_medio_analitico_vol, \n",
    "            x=\"ds\", \n",
    "            y=\"var\",\n",
    "            title=\"BR - tendência - cluster pequeno_medio - canal 10 - 2023-05 a 2023-09\",\n",
    "            color=\"GRUPO\",\n",
    "            color_discrete_sequence=px.colors.qualitative.Pastel2,\n",
    "            hover_data=[\"GRUPO\"]\n",
    "        )\n",
    "\n",
    "fig.update_layout(\n",
    "    autosize=False,\n",
    "    width= 1300,\n",
    "    height=700\n",
    ")\n",
    "    \n",
    "fig.update_layout(\n",
    "        title = {\"x\": .45, \"y\": .90, \"font\": {\"color\":\"darkslateblue\"}},\n",
    "        plot_bgcolor = \"#fcfafa\",\n",
    "        paper_bgcolor = \"#fcfafa\", \n",
    "        font=dict(size=11)\n",
    "    )\n",
    "fig.show()\n",
    "\n",
    "\n"
   ]
  },
  {
   "cell_type": "code",
   "execution_count": null,
   "id": "59d7123c",
   "metadata": {},
   "outputs": [],
   "source": [
    "\n",
    "\n",
    "\n",
    "mask = (_df_table_pequeno_medio_groupby['ds'] == '2023-09-01') & (_df_table_pequeno_medio_groupby['QUALIF_DEST'] != 'TRR')  & (_df_table_pequeno_medio_groupby['GRUPO'] == 'RAIZEN') \n",
    "pequeno_medio_analitico = _df_table_pequeno_medio_groupby.loc[mask][['id','VolANP','preview_value','preview_value_12','delta_vol','delta_vol_12','share_razao','preview_share','delta_share_pp','QUALIF_DEST','ds','GRUPO','var']].sort_values(by=['delta_vol'], ascending=False)\n",
    "pequeno_medio_analitico = round(pequeno_medio_analitico, 2)\n",
    "pequeno_medio_analitico.info()\n",
    "pequeno_medio_analitico.to_parquet(\"pequeno_medio_analitico.parquet\")\n",
    "pequeno_medio_analitico.to_excel(\"pequeno_medio_analitico.xlsx\")\n",
    "\n",
    "\n",
    "# quadrantes pequeno_medio 22\n"
   ]
  },
  {
   "cell_type": "code",
   "execution_count": null,
   "id": "71cd4b58",
   "metadata": {},
   "outputs": [],
   "source": [
    "\n",
    "#RAIZEN_pequeno_medio22['share_raizen'] = RAIZEN_pequeno_medio22['share_raizen']*100\n",
    "linha_mediana = pequeno_medio_analitico['VolANP'].median()\n",
    "linha_media = pequeno_medio_analitico['VolANP'].mean()\n",
    "share_mediana = pequeno_medio_analitico['share_razao'].median()\n",
    "share_media = pequeno_medio_analitico['share_razao'].mean()\n",
    "\n",
    "linha_mediana = round(linha_mediana, 2)\n",
    "linha_media = round(linha_media, 2)\n",
    "share_mediana = round(share_mediana, 2)\n",
    "share_media = round(share_media, 2)\n",
    "\n",
    "conditions = [\n",
    "    (pequeno_medio_analitico['share_razao'] > share_media) & (pequeno_medio_analitico['VolANP'] > linha_media),\n",
    "    (pequeno_medio_analitico['share_razao'] > share_media) & (pequeno_medio_analitico['VolANP'] <= linha_media),\n",
    "    (pequeno_medio_analitico['share_razao'] <= share_media) & (pequeno_medio_analitico['VolANP'] > linha_media),\n",
    "    (pequeno_medio_analitico['share_razao'] <= share_media) & (pequeno_medio_analitico['VolANP'] <= linha_media)]\n",
    "\n",
    "choices1 = ['Share acima da média e Volumes acima da média no ano','Share acima da média e Volumes abaixo da média no ano','Share abaixo da média e Volumes acima da média no ano','Share abaixo da média e Volumes abaixo da média no ano']\n",
    "choices2 = ['Sucesso','Bom','Atenção','Razoável']\n",
    "\n",
    "pequeno_medio_analitico['quadrante_desc'] = np.select(conditions, choices1, default='sem_grupo')\n",
    "pequeno_medio_analitico['quadrante'] = np.select(conditions, choices2, default='sem_grupo')\n",
    "\n",
    "pequeno_medio_analitico = round(pequeno_medio_analitico, 2)\n",
    "\n",
    "\n",
    "\n",
    "\n",
    "\n",
    "figure2 = px.scatter(\n",
    "        pequeno_medio_analitico,\n",
    "        x=\"VolANP\",\n",
    "        y=\"share_razao\",\n",
    "        color_discrete_sequence=px.colors.qualitative.Set3,\n",
    "        color=pequeno_medio_analitico['id'],\n",
    "        labels={\n",
    "            \"VolANP\": \"Volume m³ setembro 2023\",\n",
    "            \"share_razao\": \"share setembro 2023\"\n",
    "        },\n",
    "        #hover_data=[\"QUALIF_DEST\",\"quadrante_desc\",\"quadrante\",\"faixa_razao\"],\n",
    "        hover_data=[\"VolANP\",\"preview_value\",\"preview_value_12\",\"delta_vol\",\"delta_vol_12\",\"share_razao\",\"preview_share\",\"delta_share_pp\",\"QUALIF_DEST\"],\n",
    "        title=\"Segmento pequeno_medio - Brasil - Vol x Share - 2023-09\",\n",
    "    )#.update_layout(\n",
    "#     legend_title=\"Funding\"\n",
    "#    font_color=\"Green\",\n",
    "#    legend_title={\n",
    "#        \"text\": \"Funding\",\n",
    "#        \"font\":{\n",
    "#            \"color\":\"Red\",\n",
    "#            \"family\": \"Comic Sans\"\n",
    "#        }\n",
    "#    }\n",
    "#)\n",
    "figure2.update_layout(\n",
    "    autosize=False,\n",
    "    width= 1300,\n",
    "    height=700\n",
    ")\n",
    "figure2.update_xaxes(showgrid=False)\n",
    "figure2.update_yaxes(showgrid=True)\n",
    "\n",
    "figure2.update_layout(\n",
    "        title = {\"x\": .5, \"y\": .90, \"font\": {\"color\":\"darkslateblue\"}},\n",
    "        plot_bgcolor = \"#fcfafa\",\n",
    "        paper_bgcolor = \"#fcfafa\"\n",
    "    )\n",
    "figure2.add_hline(y=share_media, line_dash=\"dot\", line_color=\"blue\", annotation_text=f'Media = {share_media:.2f}',annotation_position=\"top left\" )\n",
    "figure2.add_hline(y=share_mediana, line_dash=\"dot\", line_color=\"yellow\", annotation_text=f'Mediana = {share_mediana:.2f}',annotation_position=\"top right\" )\n",
    "figure2.add_vline(x=linha_mediana, line_dash=\"dot\", line_color=\"blue\", annotation_text=f'Mediana = {linha_mediana:.2f}',annotation_position=\"top left\" )\n",
    "figure2.add_vline(x=linha_media, line_dash=\"dot\", line_color=\"yellow\", annotation_text=f'Media = {linha_media:.2f}',annotation_position=\"top right\" )\n",
    "\n",
    "\n",
    "figure2.show()\n",
    "\n"
   ]
  },
  {
   "cell_type": "markdown",
   "id": "0a5bbbcd",
   "metadata": {},
   "source": [
    "# MONTAGEM DAS TABELAS DE CONCORRÊNCIA COM FILTRO \n",
    "\n",
    "# pequenos\n"
   ]
  },
  {
   "cell_type": "code",
   "execution_count": null,
   "id": "f5c0eb2d",
   "metadata": {},
   "outputs": [],
   "source": [
    "\n",
    "# MONTAGEM DAS TABELAS DE CONCORRÊNCIA COM FILTRO \n",
    "\n",
    "# pequenos\n",
    "\n",
    "\n",
    "# quadrantes pequenos 23\n",
    "\n",
    "#RAIZEN_pequenos23['share_raizen'] = RAIZEN_pequenos23['share_raizen']*100\n",
    "linha_mediana23 = RAIZEN_pequenos23['VolANP_ano'].median()\n",
    "linha_media23 = RAIZEN_pequenos23['VolANP_ano'].mean()\n",
    "share_mediana23 = RAIZEN_pequenos23['share_raizen'].median()\n",
    "share_media23 = RAIZEN_pequenos23['share_raizen'].mean()\n",
    "\n",
    "linha_mediana23 = round(linha_mediana23, 2)\n",
    "linha_media23 = round(linha_media23, 2)\n",
    "share_mediana23 = round(share_mediana23, 2)\n",
    "share_media23 = round(share_media23, 2)\n",
    "\n",
    "conditions = [\n",
    "    (RAIZEN_pequenos23['share_raizen'] > share_media23) & (RAIZEN_pequenos23['VolANP_ano'] > linha_media23),\n",
    "    (RAIZEN_pequenos23['share_raizen'] > share_media23) & (RAIZEN_pequenos23['VolANP_ano'] <= linha_media23),\n",
    "    (RAIZEN_pequenos23['share_raizen'] <= share_media23) & (RAIZEN_pequenos23['VolANP_ano'] > linha_media23),\n",
    "    (RAIZEN_pequenos23['share_raizen'] <= share_media23) & (RAIZEN_pequenos23['VolANP_ano'] <= linha_media23)]\n",
    "\n",
    "choices1 = ['Share acima da média e Volumes acima da média no ano','Share acima da média e Volumes abaixo da média no ano','Share abaixo da média e Volumes acima da média no ano','Share abaixo da média e Volumes abaixo da média no ano']\n",
    "choices2 = ['Sucesso','Bom','Atenção','Razoável']\n",
    "\n",
    "RAIZEN_pequenos23['quadrante_desc'] = np.select(conditions, choices1, default='sem_grupo')\n",
    "RAIZEN_pequenos23['quadrante'] = np.select(conditions, choices2, default='sem_grupo')\n",
    "\n",
    "RAIZEN_pequenos23 = round(RAIZEN_pequenos23, 2)\n",
    "RAIZEN_pequenos23\n"
   ]
  },
  {
   "cell_type": "code",
   "execution_count": null,
   "id": "cfe03fd9",
   "metadata": {},
   "outputs": [],
   "source": [
    "\n",
    "\n",
    "# quadrantes pequenos 22\n",
    "\n",
    "#RAIZEN_pequenos22['share_raizen'] = RAIZEN_pequenos22['share_raizen']*100\n",
    "linha_mediana22 = RAIZEN_pequenos22['VolANP_ano'].median()\n",
    "linha_media22 = RAIZEN_pequenos22['VolANP_ano'].mean()\n",
    "share_mediana22 = RAIZEN_pequenos22['share_raizen'].median()\n",
    "share_media22 = RAIZEN_pequenos22['share_raizen'].mean()\n",
    "\n",
    "linha_mediana22 = round(linha_mediana22, 2)\n",
    "linha_media22 = round(linha_media22, 2)\n",
    "share_mediana22 = round(share_mediana22, 2)\n",
    "share_media22 = round(share_media22, 2)\n",
    "\n",
    "conditions = [\n",
    "    (RAIZEN_pequenos22['share_raizen'] > share_media22) & (RAIZEN_pequenos22['VolANP_ano'] > linha_media22),\n",
    "    (RAIZEN_pequenos22['share_raizen'] > share_media22) & (RAIZEN_pequenos22['VolANP_ano'] <= linha_media22),\n",
    "    (RAIZEN_pequenos22['share_raizen'] <= share_media22) & (RAIZEN_pequenos22['VolANP_ano'] > linha_media22),\n",
    "    (RAIZEN_pequenos22['share_raizen'] <= share_media22) & (RAIZEN_pequenos22['VolANP_ano'] <= linha_media22)]\n",
    "\n",
    "choices1 = ['Share acima da média e Volumes acima da média no ano','Share acima da média e Volumes abaixo da média no ano','Share abaixo da média e Volumes acima da média no ano','Share abaixo da média e Volumes abaixo da média no ano']\n",
    "choices2 = ['Sucesso','Bom','Atenção','Razoável']\n",
    "\n",
    "RAIZEN_pequenos22['quadrante_desc'] = np.select(conditions, choices1, default='sem_grupo')\n",
    "RAIZEN_pequenos22['quadrante'] = np.select(conditions, choices2, default='sem_grupo')\n",
    "\n",
    "RAIZEN_pequenos22 = round(RAIZEN_pequenos22, 2)\n",
    "RAIZEN_pequenos22"
   ]
  },
  {
   "cell_type": "code",
   "execution_count": null,
   "id": "bdf17f19",
   "metadata": {},
   "outputs": [],
   "source": [
    "# pequenos\n",
    "\n",
    "RAIZEN_pequenos =  pd.concat([RAIZEN_pequenos22,RAIZEN_pequenos23])\n",
    "RAIZEN_pequenos\n",
    "\n",
    "# pivot table dim - ANO/razãosocial \n",
    "table = pd.pivot_table(RAIZEN_pequenos, values='VolANP_ano', index=['NOM_RAZAO_SOCIAL_dest'],\n",
    "                       columns=['ano'], aggfunc=\"sum\")\n",
    "table = table.reset_index()\n",
    "table\n"
   ]
  },
  {
   "cell_type": "code",
   "execution_count": null,
   "id": "7c7a87cc",
   "metadata": {},
   "outputs": [],
   "source": [
    "table.fillna(0.00001, inplace = True)\n",
    "table['VolANP_delta%'] = ((table['2023'] - table['2022'])/table['2023'])*100\n",
    "table"
   ]
  },
  {
   "cell_type": "code",
   "execution_count": null,
   "id": "d4d55024",
   "metadata": {},
   "outputs": [],
   "source": [
    "# unificando com table_share\n",
    "\n",
    "table_share.rename(columns= {'2022':'2022_share_ano'}, inplace = True)\n",
    "table_share.rename(columns= {'2023':'2023_share_ano'}, inplace = True)\n",
    "\n",
    "table_share"
   ]
  },
  {
   "cell_type": "code",
   "execution_count": null,
   "id": "b9a0b057",
   "metadata": {},
   "outputs": [],
   "source": [
    "\n",
    "### merge table share\n",
    "\n",
    "table.rename(columns= {'2022':'2022_VolANP_ano'}, inplace = True)\n",
    "table.rename(columns= {'2023':'2023_VolANP_ano'}, inplace = True)\n",
    "\n",
    "table = table.merge(table_share, how='inner', on = ['NOM_RAZAO_SOCIAL_dest'])\n",
    "table\n",
    "\n",
    "# mask = table[\"delta\"] < 0\n",
    "# table = table[mask]\n",
    "# table"
   ]
  },
  {
   "cell_type": "code",
   "execution_count": null,
   "id": "b407399d",
   "metadata": {},
   "outputs": [],
   "source": [
    "\n",
    "\n",
    "# GRÁFICOS\n",
    "\n",
    "#outliers\n",
    "\n",
    "## pequenos\n",
    "\n",
    "\n",
    "q_pequenos = RAIZEN_pequenos[['NOM_RAZAO_SOCIAL_dest','QUALIF_DEST','faixa_razao','quadrante']].drop_duplicates(subset = \"NOM_RAZAO_SOCIAL_dest\" )\n",
    "q_pequenos"
   ]
  },
  {
   "cell_type": "code",
   "execution_count": null,
   "id": "5fbc208d",
   "metadata": {},
   "outputs": [],
   "source": [
    "\n",
    "\n",
    "table = table.merge(q_pequenos, how='left', on = ['NOM_RAZAO_SOCIAL_dest'])\n",
    "table"
   ]
  },
  {
   "cell_type": "code",
   "execution_count": null,
   "id": "7089be99",
   "metadata": {},
   "outputs": [],
   "source": [
    "\n",
    "table = round(table, 2)\n",
    "\n",
    "figure2 = px.scatter(\n",
    "        table,\n",
    "        x=\"2022_VolANP_ano\",\n",
    "        y=\"2023_VolANP_ano\",\n",
    "        color_discrete_sequence=px.colors.qualitative.Set3,\n",
    "        color=table['NOM_RAZAO_SOCIAL_dest'],\n",
    "        labels={\n",
    "            \"2022_VolANP_ano\": \"Volume Ano 2022\",\n",
    "            \"2023_VolANP_ano\": \"Volume Ano 2023\"\n",
    "        },\n",
    "        #hover_data=[\"QUALIF_DEST\",\"quadrante_desc\",\"quadrante\",\"faixa_razao\"],\n",
    "        hover_data=[\"2022_VolANP_ano\",\"2023_VolANP_ano\",\"delta_share\",\"QUALIF_DEST\",\"faixa_razao\",\"quadrante\"],\n",
    "        title=\"Segmento pequenos - Brasil - share RAIZEN\",\n",
    "    )#.update_layout(\n",
    "#     legend_title=\"Funding\"\n",
    "#    font_color=\"Green\",\n",
    "#    legend_title={\n",
    "#        \"text\": \"Funding\",\n",
    "#        \"font\":{\n",
    "#            \"color\":\"Red\",\n",
    "#            \"family\": \"Comic Sans\"\n",
    "#        }\n",
    "#    }\n",
    "#)\n",
    "figure2.update_layout(\n",
    "    autosize=False,\n",
    "    width= 1300,\n",
    "    height=700\n",
    ")\n",
    "figure2.update_xaxes(showgrid=False)\n",
    "figure2.update_yaxes(showgrid=True)\n",
    "\n",
    "figure2.update_layout(\n",
    "        title = {\"x\": .5, \"y\": .90, \"font\": {\"color\":\"darkslateblue\"}},\n",
    "        plot_bgcolor = \"#fcfafa\",\n",
    "        paper_bgcolor = \"#fcfafa\"\n",
    "    )\n",
    "figure2.add_hline(y=linha_media22, line_dash=\"dot\", line_color=\"blue\", annotation_text=f'Media22 = {linha_media22:.2f}',annotation_position=\"top left\" )\n",
    "figure2.add_hline(y=linha_media23, line_dash=\"dot\", line_color=\"yellow\", annotation_text=f'Media23 = {linha_media23:.2f}',annotation_position=\"top right\" )\n",
    "\n",
    "figure2.show()"
   ]
  },
  {
   "cell_type": "code",
   "execution_count": null,
   "id": "5bc66f4a",
   "metadata": {},
   "outputs": [],
   "source": [
    "table_pequenos_raizen_ano = table\n",
    "\n",
    "table_pequenos_raizen_ano.info()\n",
    "\n",
    "table = table.drop(['QUALIF_DEST'], axis=1)\n",
    "table = table.drop(['faixa_razao'], axis=1)\n",
    "\n",
    "table\n"
   ]
  },
  {
   "cell_type": "code",
   "execution_count": null,
   "id": "bc00a844",
   "metadata": {},
   "outputs": [],
   "source": [
    "\n",
    "#fim 2022\n",
    "fim = df['ds'].max() - relativedelta(months=12)\n",
    "fim\n",
    "\n",
    "filtro22 = df['ds']<= fim\n",
    "df_filtro22 = pd.DataFrame(df[filtro22])\n",
    "df_filtro22['ds'].max()\n",
    "\n",
    "mask = df[\"ano\"] == \"2023\"\n",
    "df_filtro23 = df[mask]\n",
    "df_filtro23['ds'].max()\n",
    "\n",
    "df_filtro23['ds'].min()\n",
    "\n",
    "df_filtro = pd.concat([df_filtro22,df_filtro23])\n",
    "\n",
    "print(df_filtro['ds'].unique())\n",
    "\n",
    "df_filtro.info()"
   ]
  },
  {
   "cell_type": "code",
   "execution_count": null,
   "id": "e132bc44",
   "metadata": {},
   "outputs": [],
   "source": [
    "df_table_pequenos = df_filtro.merge(table, how='inner', on = ['NOM_RAZAO_SOCIAL_dest'])\n",
    "df_table_pequenos.info()\n",
    "\n",
    "df_table_pequenos['id'] = df_table_pequenos['NOM_RAZAO_SOCIAL_dest']+\"|\"+df_table_pequenos['ds'].astype(str)+\"|\"+df_table_pequenos['QUALIF_DEST']+\"|\"+df_table_pequenos['GRUPO']\n",
    "\n",
    "df_table_pequenos['idr'] = df_table_pequenos['NOM_RAZAO_SOCIAL_dest']+\"|\"+df_table_pequenos['ds'].astype(str)+\"|\"+df_table_pequenos['QUALIF_DEST']\n",
    "\n",
    "_df_table_pequenos = df_table_pequenos.groupby(['id','idr'])\n",
    "_df_table_pequenos_groupby = _df_table_pequenos.agg({\"VolANP\":\"sum\"}).reset_index()\n",
    "\n",
    "_df_table_pequenos_groupby.info()\n"
   ]
  },
  {
   "cell_type": "code",
   "execution_count": null,
   "id": "2bc0b823",
   "metadata": {},
   "outputs": [],
   "source": [
    "_df_table_pequenos = df_table_pequenos.groupby(['idr'])\n",
    "_df_table_pequenos_groupby_razao = _df_table_pequenos.agg({\"VolANP\":\"sum\"}).reset_index()\n",
    "\n",
    "_df_table_pequenos_groupby_razao.rename(columns= {'VolANP':'VolANP_razao'}, inplace = True)\n",
    "\n",
    "_df_table_pequenos_groupby_razao.info()"
   ]
  },
  {
   "cell_type": "code",
   "execution_count": null,
   "id": "721679a5",
   "metadata": {},
   "outputs": [],
   "source": [
    "_df_table_pequenos_groupby = _df_table_pequenos_groupby.merge(_df_table_pequenos_groupby_razao, how='left', on = ['idr'])\n",
    "\n",
    "_df_table_pequenos_groupby.info()"
   ]
  },
  {
   "cell_type": "code",
   "execution_count": null,
   "id": "68d0954a",
   "metadata": {},
   "outputs": [],
   "source": [
    "\n",
    "\n",
    "_df_table_pequenos_groupby['share_razao'] = _df_table_pequenos_groupby['VolANP'] / _df_table_pequenos_groupby['VolANP_razao']\n",
    "\n",
    "_df_table_pequenos_groupby[['NOM_RAZAO_SOCIAL_dest','ds','QUALIF_DEST','GRUPO']] = _df_table_pequenos_groupby['id'].str.split(\"|\",expand=True)\n",
    "\n",
    "_df_table_pequenos_groupby['id_shift'] = _df_table_pequenos_groupby['NOM_RAZAO_SOCIAL_dest']+\"|\"+_df_table_pequenos_groupby['QUALIF_DEST']+\"|\"+_df_table_pequenos_groupby['GRUPO']\n",
    "\n",
    "_df_table_pequenos_groupby['preview_share'] = _df_table_pequenos_groupby.sort_values(by=['id']).groupby('id_shift')['share_razao'].shift(1)\n",
    "\n",
    "#_df_table_pequenos_groupby[['id','ds','share_razao','preview_share']].to_excel('testeshare.xlsx')\n",
    "\n",
    "#_df_table_pequenos_groupby.to_excel(\"_df_table_pequenos_groupby.xlsx\")\n",
    "\n",
    "_df_table_pequenos_groupby['preview_value'] = _df_table_pequenos_groupby.sort_values(by=['id']).groupby('id_shift')['VolANP'].shift(1)\n",
    "\n",
    "_df_table_pequenos_groupby['preview_value_2'] = _df_table_pequenos_groupby.sort_values(by=['id']).groupby('id_shift')['VolANP'].shift(2)\n",
    "\n",
    "_df_table_pequenos_groupby['preview_value_3'] = _df_table_pequenos_groupby.sort_values(by=['id']).groupby('id_shift')['VolANP'].shift(3)\n",
    "\n",
    "_df_table_pequenos_groupby['window_3m'] = (_df_table_pequenos_groupby['preview_value'] + _df_table_pequenos_groupby['preview_value_2'] + _df_table_pequenos_groupby['preview_value_3'])/3\n",
    "\n",
    "# representatividade da janela de 3 meses em relação ao Volume total da base\n",
    "_df_table_pequenos_groupby['var'] = (_df_table_pequenos_groupby['window_3m']/_df_table_pequenos_groupby['VolANP'].sum())*100\n",
    "\n",
    "_df_table_pequenos_groupby['preview_value_12'] = _df_table_pequenos_groupby.sort_values(by=['id']).groupby('id_shift')['VolANP'].shift(9)\n",
    "_df_table_pequenos_groupby['preview_window_3m_12'] = _df_table_pequenos_groupby.sort_values(by=['id']).groupby('id_shift')['window_3m'].shift(9)\n",
    "_df_table_pequenos_groupby['preview_var_12'] = _df_table_pequenos_groupby.sort_values(by=['id']).groupby('id_shift')['var'].shift(9)\n",
    "\n",
    "_df_table_pequenos_groupby.info()\n",
    "\n",
    "_df_table_pequenos_groupby['delta_vol'] = ((_df_table_pequenos_groupby['VolANP']-_df_table_pequenos_groupby['preview_value'])/_df_table_pequenos_groupby['VolANP'])*100\n",
    "\n",
    "_df_table_pequenos_groupby['delta_vol_12'] = ((_df_table_pequenos_groupby['VolANP']-_df_table_pequenos_groupby['preview_value_12'])/_df_table_pequenos_groupby['VolANP'])*100\n",
    "\n",
    "#_df_table_pequenos_groupby.to_excel(\"_df_table_pequenos_groupby.xlsx\")\n",
    "\n",
    "#filtro_df_table_pequenos_groupby = _df_table_pequenos_groupby.loc[(_df_table_pequenos_groupby.delta_vol > 0) | (_df_table_pequenos_groupby.delta_vol_12 > 0)]\n",
    "\n",
    "#filtro_df_table_pequenos_groupby[['id','NOM_RAZAO_SOCIAL_dest','ds','GRUPO','share_razao']]\n",
    "\n",
    "#filtro_df_table_pequenos_groupby.to_excel(\"filtro_df_table_pequenos_groupby.xlsx\")\n",
    "\n",
    "#filtro_df_table_pequenos_groupby.info()\n",
    "\n",
    "_df_table_pequenos_groupby.info()"
   ]
  },
  {
   "cell_type": "code",
   "execution_count": null,
   "id": "709554d0",
   "metadata": {},
   "outputs": [],
   "source": [
    "\n",
    "\n",
    "_df_table_pequenos_groupby_ = _df_table_pequenos_groupby.groupby([\"GRUPO\",\"ds\"])\n",
    "_df_table_pequenos_groupby_vol = _df_table_pequenos_groupby_.agg({\"VolANP\":\"sum\"}).reset_index()\n",
    "\n",
    "\n",
    "\n",
    "fig =px.line(_df_table_pequenos_groupby_vol, \n",
    "            x=\"ds\", \n",
    "            y=\"VolANP\",\n",
    "            title=\"BR - Volume m³ - cluster pequenos\",\n",
    "            color=\"GRUPO\",\n",
    "            color_discrete_sequence=px.colors.qualitative.Pastel2,\n",
    "            hover_data=[\"GRUPO\"]\n",
    "        )\n",
    "\n",
    "fig.update_layout(\n",
    "    autosize=False,\n",
    "    width= 1300,\n",
    "    height=700\n",
    ")\n",
    "    \n",
    "fig.update_layout(\n",
    "        title = {\"x\": .45, \"y\": .90, \"font\": {\"color\":\"darkslateblue\"}},\n",
    "        plot_bgcolor = \"#fcfafa\",\n",
    "        paper_bgcolor = \"#fcfafa\", \n",
    "        font=dict(size=11)\n",
    "    )\n",
    "fig.show()"
   ]
  },
  {
   "cell_type": "code",
   "execution_count": null,
   "id": "e1be230f",
   "metadata": {},
   "outputs": [],
   "source": [
    "_df_table_pequenos_groupby_ = _df_table_pequenos_groupby.groupby([\"GRUPO\",\"ds\"])\n",
    "_df_table_pequenos_groupby_vol = _df_table_pequenos_groupby_.agg({\"var\":\"sum\"}).reset_index()\n",
    "\n",
    "\n",
    "fig =px.line(_df_table_pequenos_groupby_vol, \n",
    "            x=\"ds\", \n",
    "            y=\"var\",\n",
    "            title=\"BR - tendência - cluster pequenos\",\n",
    "            color=\"GRUPO\",\n",
    "            color_discrete_sequence=px.colors.qualitative.Pastel2,\n",
    "            hover_data=[\"GRUPO\"]\n",
    "        )\n",
    "\n",
    "fig.update_layout(\n",
    "    autosize=False,\n",
    "    width= 1300,\n",
    "    height=700\n",
    ")\n",
    "    \n",
    "fig.update_layout(\n",
    "        title = {\"x\": .45, \"y\": .90, \"font\": {\"color\":\"darkslateblue\"}},\n",
    "        plot_bgcolor = \"#fcfafa\",\n",
    "        paper_bgcolor = \"#fcfafa\", \n",
    "        font=dict(size=11)\n",
    "    )\n",
    "fig.show()"
   ]
  },
  {
   "cell_type": "code",
   "execution_count": null,
   "id": "64cc4085",
   "metadata": {},
   "outputs": [],
   "source": [
    "\n",
    "\n",
    "#filtro_df_table_pequenos_groupby.info()\n",
    "\n",
    "_df_table_pequenos_groupby['ds'].value_counts()\n",
    "\n",
    "_df_table_pequenos_groupby[\"ds\"] = _df_table_pequenos_groupby[\"ds\"].apply(pd.to_datetime)\n",
    "\n",
    "_df_table_pequenos_groupby['ds_str'] = _df_table_pequenos_groupby['ds'].astype(str)\n",
    "\n",
    "_df_table_pequenos_groupby[['ano','mes','dia']] = _df_table_pequenos_groupby['ds_str'].str.split(\"-\",expand=True)\n",
    "\n",
    "mask1 = _df_table_pequenos_groupby[\"ano\"] == \"2022\"\n",
    "_df_table_pequenos_groupby_22 = _df_table_pequenos_groupby[mask1]\n",
    "_df_table_pequenos_groupby_22 [\"ano\"].value_counts()\n",
    "\n",
    "mask1 = _df_table_pequenos_groupby[\"ano\"] == \"2023\"\n",
    "_df_table_pequenos_groupby_23 = _df_table_pequenos_groupby[mask1]\n",
    "_df_table_pequenos_groupby_23 [\"ano\"].value_counts()\n",
    "\n",
    "dfg23volrazao =  _df_table_pequenos_groupby_23.groupby(by='NOM_RAZAO_SOCIAL_dest')['VolANP'].sum()\n",
    "dfg22volrazao =  _df_table_pequenos_groupby_22.groupby(by='NOM_RAZAO_SOCIAL_dest')['VolANP'].sum()\n",
    "\n",
    "dfg23volrazao = round(dfg23volrazao, 2)\n",
    "dfg23volrazao = dfg23volrazao.sort_values(ascending = False)\n",
    "\n",
    "dfg22volrazao = round(dfg22volrazao, 2)\n",
    "dfg22volrazao = dfg22volrazao.sort_values(ascending = False)\n",
    "\n",
    "\n",
    "dfg23volrazao_n6 = dfg23volrazao.nlargest(6)\n",
    "\n",
    "dfg22volrazao_n6 = dfg22volrazao.nlargest(6)\n",
    "\n",
    "\n",
    "\n"
   ]
  },
  {
   "cell_type": "code",
   "execution_count": null,
   "id": "522c941c",
   "metadata": {},
   "outputs": [],
   "source": [
    "\n",
    "figure1=px.bar(\n",
    "        (dfg23volrazao_n6\n",
    "         #.query(\"QUALIF_DEST in ['TRR']\")\n",
    "         #.sort_values(ascending = False)\n",
    "         #.nlargest(1)\n",
    "         #.groupby(\"GRUPO\", as_index=False)\n",
    "         #.mean()\n",
    "         #.rename({\"expenditure_per_student\": \"Expenditure Per Student (Thousands)\"}, axis=1)\n",
    "         #.nlargest(10, 'VolANP_ano')\n",
    "        ),\n",
    "        x=dfg23volrazao_n6.index,\n",
    "        y=dfg23volrazao_n6.values,\n",
    "        title=\"Volume m³ - por Empresa destino  - Ano 2023\",\n",
    "        color_discrete_sequence=px.colors.qualitative.Pastel2,\n",
    "        color=dfg23volrazao_n6.values,\n",
    "        color_continuous_scale=\"deep\",\n",
    "        text_auto='.0f',\n",
    "        #hover_data=[\"GRUPO\"]\n",
    "    )\n",
    "\n",
    "\n",
    "figure1.update_layout(\n",
    "        autosize=False,\n",
    "        width= 1300,\n",
    "        height=700\n",
    "    )\n",
    "\n",
    "figure1.update_layout(\n",
    "            title = {\"x\": .45, \"y\": .90, \"font\": {\"color\":\"darkslateblue\"}},\n",
    "            plot_bgcolor = \"#fcfafa\",\n",
    "            paper_bgcolor = \"#fcfafa\", \n",
    "            font=dict(size=11)\n",
    "        )\n",
    "#figure1.show()\n",
    "figure2 = px.bar(\n",
    "        (dfg22volrazao_n6\n",
    "         #.query(\"QUALIF_DEST in ['TRR']\")\n",
    "         #.sort_values(ascending = False)\n",
    "         .nlargest(1)\n",
    "         #.groupby(\"GRUPO\", as_index=False)\n",
    "         #.mean()\n",
    "         #.rename({\"expenditure_per_student\": \"Expenditure Per Student (Thousands)\"}, axis=1)\n",
    "         #.nlargest(10, 'VolANP_ano')\n",
    "        ),\n",
    "        x=dfg22volrazao_n6.index,\n",
    "        y=dfg22volrazao_n6.values,\n",
    "        title=\"Volume m³ - por Empresa destino  - Ano 2022\",\n",
    "        color_discrete_sequence=px.colors.qualitative.Pastel2,\n",
    "        color=dfg22volrazao_n6.values,\n",
    "        color_continuous_scale=\"deep\",\n",
    "        text_auto='.0f',\n",
    "        #hover_data=[\"GRUPO\"]\n",
    "    )\n",
    "\n",
    "\n",
    "figure2.update_layout(\n",
    "        autosize=False,\n",
    "        width= 1300,\n",
    "        height=700\n",
    "    )\n",
    "\n",
    "figure2.update_layout(\n",
    "            title = {\"x\": .45, \"y\": .90, \"font\": {\"color\":\"darkslateblue\"}},\n",
    "            plot_bgcolor = \"#fcfafa\",\n",
    "            paper_bgcolor = \"#fcfafa\", \n",
    "            font=dict(size=11)\n",
    "        )\n",
    "#figure2.show()\n",
    "\n",
    "\n",
    "\n",
    "# For as many traces that exist per Express figure, get the traces from each plot and store them in an array.\n",
    "# This is essentially breaking down the Express fig into its traces\n",
    "figure1_traces = []\n",
    "figure2_traces = []\n",
    "for trace in range(len(figure1[\"data\"])):\n",
    "    figure1_traces.append(figure1[\"data\"][trace])\n",
    "for trace in range(len(figure2[\"data\"])):\n",
    "    ############ The major modification. Manually set 'showlegend' attribute to False. ############\n",
    "    figure2[\"data\"][trace]['showlegend'] = False             \n",
    "    figure2_traces.append(figure2[\"data\"][trace])\n",
    "    \n",
    "# Create a 1x2 subplot\n",
    "this_figure = sp.make_subplots(rows = 1, cols = 2, subplot_titles = ['Volume m³ 2023', 'Volume m³ 2022'])\n",
    "#this_figure.update_layout(height = 700, width = 1300, title_text = \"Volume m³ - por Empresa destino com crescimento\", title_font_size = 15)\n",
    "this_figure.update_layout(height = 700, width = 1300)\n",
    "\n",
    "# Get the Express fig broken down as traces and add the traces to the proper plot within the subplot\n",
    "for traces in figure1_traces:\n",
    "    this_figure.append_trace(traces, row = 1, col = 1)\n",
    "for traces in figure2_traces:\n",
    "    this_figure.append_trace(traces, row = 1, col = 2)\n",
    "\n",
    "this_figure.update_layout(\n",
    "        title = {\"x\": .5, \"y\": .90, \"font\": {\"color\":\"darkslateblue\"}},\n",
    "        plot_bgcolor = \"#fcfafa\",\n",
    "        paper_bgcolor = \"#fcfafa\"\n",
    "    )\n",
    "this_figure.update_xaxes(tickangle=30)\n",
    "\n",
    "this_figure.show()\n",
    "\n",
    "\n",
    "\n",
    "\n"
   ]
  },
  {
   "cell_type": "code",
   "execution_count": null,
   "id": "80cfce8b",
   "metadata": {},
   "outputs": [],
   "source": [
    "_df_table_pequenos_groupby.info()\n",
    "\n",
    "_df_table_pequenos_groupby.sort_values(by=['delta_vol'], ascending=False).head()\n",
    "\n",
    "_df_table_pequenos_groupby.sort_values(by=['delta_vol'], ascending=False).head(60).nlargest(10, 'delta_vol')\n",
    "\n",
    "_df_table_pequenos_groupby.info()\n",
    "\n",
    "_df_table_pequenos_groupby['delta_share_pp'] = _df_table_pequenos_groupby['share_razao'] - _df_table_pequenos_groupby['preview_share']\n",
    "\n",
    "_df_table_pequenos_groupby['delta_share_pp'] = _df_table_pequenos_groupby['delta_share_pp']*100\n",
    "\n",
    "_df_table_pequenos_groupby['share_razao'] = _df_table_pequenos_groupby['share_razao']*100\n",
    "\n",
    "_df_table_pequenos_groupby['preview_share'] = _df_table_pequenos_groupby['preview_share']*100\n",
    "\n",
    "mask = (_df_table_pequenos_groupby['ds'] >= '2023-05-01') & (_df_table_pequenos_groupby['ds'] <= '2023-09-01') & (_df_table_pequenos_groupby['GRUPO'] == 'RAIZEN') & (_df_table_pequenos_groupby['QUALIF_DEST'] != 'TRR') \n",
    "_df_table_pequenos_groupby.loc[mask][['id','VolANP','preview_value','preview_value_12','delta_vol','delta_vol_12','share_razao','preview_share','delta_share_pp','QUALIF_DEST','ds','GRUPO']].sort_values(by=['delta_vol'], ascending=False).nlargest(30, 'delta_share_pp')\n"
   ]
  },
  {
   "cell_type": "code",
   "execution_count": null,
   "id": "f910fa2f",
   "metadata": {},
   "outputs": [],
   "source": [
    "mask = (_df_table_pequenos_groupby['ds'] >= '2023-05-01') & (_df_table_pequenos_groupby['ds'] <= '2023-09-01') & (_df_table_pequenos_groupby['GRUPO'] == 'RAIZEN') \n",
    "_df_table_pequenos_groupby.loc[mask][['id','VolANP','preview_value','preview_value_12','delta_vol','delta_vol_12','share_razao','preview_share','delta_share_pp','QUALIF_DEST','ds','GRUPO']].sort_values(by=['delta_vol'], ascending=False).nlargest(30, 'delta_share_pp').to_excel(\"30maiorespordeltasharepp_cluster_pequenos_dimensãoBR.xlsx\")"
   ]
  },
  {
   "cell_type": "code",
   "execution_count": null,
   "id": "b5d3b435",
   "metadata": {},
   "outputs": [],
   "source": [
    "\n",
    "mask = (_df_table_pequenos_groupby['ds'] >= '2023-05-01') & (_df_table_pequenos_groupby['ds'] <= '2023-09-01') & (_df_table_pequenos_groupby['GRUPO'] == 'RAIZEN') & (_df_table_pequenos_groupby['QUALIF_DEST'] != 'TRR') \n",
    "_df_table_pequenos_groupby.loc[mask][['id','VolANP','preview_value','preview_value_12','delta_vol','delta_vol_12','share_razao','preview_share','delta_share_pp','QUALIF_DEST','ds','GRUPO']].sort_values(by=['delta_vol'], ascending=False).nlargest(30, 'delta_share_pp').to_excel(\"CANAL10_30maiores_por_deltasharepp_cluster_pequenos_dimensãoBR.xlsx\")"
   ]
  },
  {
   "cell_type": "markdown",
   "id": "02e2b7bf",
   "metadata": {},
   "source": [
    "# MONTAGEM DAS TABELAS DE CONCORRÊNCIA COM FILTRO \n",
    "\n",
    "# nanicos\n"
   ]
  },
  {
   "cell_type": "code",
   "execution_count": null,
   "id": "b5135c25",
   "metadata": {},
   "outputs": [],
   "source": [
    "# MONTAGEM DAS TABELAS DE CONCORRÊNCIA COM FILTRO \n",
    "\n",
    "# nanicos\n",
    "\n",
    "\n",
    "# quadrantes nanicos 23\n",
    "\n",
    "#RAIZEN_nanicos23['share_raizen'] = RAIZEN_nanicos23['share_raizen']*100\n",
    "linha_mediana23 = RAIZEN_nanicos23['VolANP_ano'].median()\n",
    "linha_media23 = RAIZEN_nanicos23['VolANP_ano'].mean()\n",
    "share_mediana23 = RAIZEN_nanicos23['share_raizen'].median()\n",
    "share_media23 = RAIZEN_nanicos23['share_raizen'].mean()\n",
    "\n",
    "linha_mediana23 = round(linha_mediana23, 2)\n",
    "linha_media23 = round(linha_media23, 2)\n",
    "share_mediana23 = round(share_mediana23, 2)\n",
    "share_media23 = round(share_media23, 2)\n",
    "\n",
    "conditions = [\n",
    "    (RAIZEN_nanicos23['share_raizen'] > share_media23) & (RAIZEN_nanicos23['VolANP_ano'] > linha_media23),\n",
    "    (RAIZEN_nanicos23['share_raizen'] > share_media23) & (RAIZEN_nanicos23['VolANP_ano'] <= linha_media23),\n",
    "    (RAIZEN_nanicos23['share_raizen'] <= share_media23) & (RAIZEN_nanicos23['VolANP_ano'] > linha_media23),\n",
    "    (RAIZEN_nanicos23['share_raizen'] <= share_media23) & (RAIZEN_nanicos23['VolANP_ano'] <= linha_media23)]\n",
    "\n",
    "choices1 = ['Share acima da média e Volumes acima da média no ano','Share acima da média e Volumes abaixo da média no ano','Share abaixo da média e Volumes acima da média no ano','Share abaixo da média e Volumes abaixo da média no ano']\n",
    "choices2 = ['Sucesso','Bom','Atenção','Razoável']\n",
    "\n",
    "RAIZEN_nanicos23['quadrante_desc'] = np.select(conditions, choices1, default='sem_grupo')\n",
    "RAIZEN_nanicos23['quadrante'] = np.select(conditions, choices2, default='sem_grupo')\n",
    "\n",
    "RAIZEN_nanicos23 = round(RAIZEN_nanicos23, 2)\n",
    "RAIZEN_nanicos23\n",
    "\n"
   ]
  },
  {
   "cell_type": "code",
   "execution_count": null,
   "id": "cc5a5ec9",
   "metadata": {},
   "outputs": [],
   "source": [
    "\n",
    "\n",
    "\n",
    "# quadrantes nanicos 22\n",
    "\n",
    "#RAIZEN_nanicos22['share_raizen'] = RAIZEN_nanicos22['share_raizen']*100\n",
    "linha_mediana22 = RAIZEN_nanicos22['VolANP_ano'].median()\n",
    "linha_media22 = RAIZEN_nanicos22['VolANP_ano'].mean()\n",
    "share_mediana22 = RAIZEN_nanicos22['share_raizen'].median()\n",
    "share_media22 = RAIZEN_nanicos22['share_raizen'].mean()\n",
    "\n",
    "linha_mediana22 = round(linha_mediana22, 2)\n",
    "linha_media22 = round(linha_media22, 2)\n",
    "share_mediana22 = round(share_mediana22, 2)\n",
    "share_media22 = round(share_media22, 2)\n",
    "\n",
    "conditions = [\n",
    "    (RAIZEN_nanicos22['share_raizen'] > share_media22) & (RAIZEN_nanicos22['VolANP_ano'] > linha_media22),\n",
    "    (RAIZEN_nanicos22['share_raizen'] > share_media22) & (RAIZEN_nanicos22['VolANP_ano'] <= linha_media22),\n",
    "    (RAIZEN_nanicos22['share_raizen'] <= share_media22) & (RAIZEN_nanicos22['VolANP_ano'] > linha_media22),\n",
    "    (RAIZEN_nanicos22['share_raizen'] <= share_media22) & (RAIZEN_nanicos22['VolANP_ano'] <= linha_media22)]\n",
    "\n",
    "choices1 = ['Share acima da média e Volumes acima da média no ano','Share acima da média e Volumes abaixo da média no ano','Share abaixo da média e Volumes acima da média no ano','Share abaixo da média e Volumes abaixo da média no ano']\n",
    "choices2 = ['Sucesso','Bom','Atenção','Razoável']\n",
    "\n",
    "RAIZEN_nanicos22['quadrante_desc'] = np.select(conditions, choices1, default='sem_grupo')\n",
    "RAIZEN_nanicos22['quadrante'] = np.select(conditions, choices2, default='sem_grupo')\n",
    "\n",
    "RAIZEN_nanicos22 = round(RAIZEN_nanicos22, 2)\n",
    "RAIZEN_nanicos22\n"
   ]
  },
  {
   "cell_type": "code",
   "execution_count": null,
   "id": "184453c2",
   "metadata": {},
   "outputs": [],
   "source": [
    "\n",
    "# nanicos\n",
    "\n",
    "RAIZEN_nanicos =  pd.concat([RAIZEN_nanicos22,RAIZEN_nanicos23])\n",
    "RAIZEN_nanicos\n",
    "\n",
    "# pivot table dim - ANO/razãosocial \n",
    "table = pd.pivot_table(RAIZEN_nanicos, values='VolANP_ano', index=['NOM_RAZAO_SOCIAL_dest'],\n",
    "                       columns=['ano'], aggfunc=\"sum\")\n",
    "table = table.reset_index()\n",
    "table\n"
   ]
  },
  {
   "cell_type": "code",
   "execution_count": null,
   "id": "3229aa38",
   "metadata": {},
   "outputs": [],
   "source": [
    "\n",
    "\n",
    "table.fillna(0.00001, inplace = True)\n",
    "table['VolANP_delta%'] = ((table['2023'] - table['2022'])/table['2023'])*100\n",
    "table\n"
   ]
  },
  {
   "cell_type": "code",
   "execution_count": null,
   "id": "d1cbff8b",
   "metadata": {},
   "outputs": [],
   "source": [
    "\n",
    "# unificando com table_share\n",
    "\n",
    "table_share.rename(columns= {'2022':'2022_share_ano'}, inplace = True)\n",
    "table_share.rename(columns= {'2023':'2023_share_ano'}, inplace = True)\n",
    "\n",
    "table_share\n",
    "\n"
   ]
  },
  {
   "cell_type": "code",
   "execution_count": null,
   "id": "217e94cd",
   "metadata": {},
   "outputs": [],
   "source": [
    "\n",
    "### merge table share\n",
    "\n",
    "table.rename(columns= {'2022':'2022_VolANP_ano'}, inplace = True)\n",
    "table.rename(columns= {'2023':'2023_VolANP_ano'}, inplace = True)\n",
    "\n",
    "table = table.merge(table_share, how='inner', on = ['NOM_RAZAO_SOCIAL_dest'])\n",
    "table\n",
    "\n",
    "# mask = table[\"delta\"] < 0\n",
    "# table = table[mask]\n",
    "# table\n",
    "\n"
   ]
  },
  {
   "cell_type": "code",
   "execution_count": null,
   "id": "f749d343",
   "metadata": {},
   "outputs": [],
   "source": [
    "\n",
    "\n",
    "# GRÁFICOS\n",
    "\n",
    "#outliers\n",
    "\n",
    "## nanicos\n",
    "\n",
    "\n",
    "q_nanicos = RAIZEN_nanicos[['NOM_RAZAO_SOCIAL_dest','QUALIF_DEST','faixa_razao','quadrante']].drop_duplicates(subset = \"NOM_RAZAO_SOCIAL_dest\" )\n",
    "q_nanicos\n",
    "\n"
   ]
  },
  {
   "cell_type": "code",
   "execution_count": null,
   "id": "cb70eb2a",
   "metadata": {},
   "outputs": [],
   "source": [
    "table = table.merge(q_nanicos, how='left', on = ['NOM_RAZAO_SOCIAL_dest'])\n",
    "table\n"
   ]
  },
  {
   "cell_type": "code",
   "execution_count": null,
   "id": "de9e87a3",
   "metadata": {},
   "outputs": [],
   "source": [
    "\n",
    "table = round(table, 2)\n",
    "\n",
    "figure2 = px.scatter(\n",
    "        table,\n",
    "        x=\"2022_VolANP_ano\",\n",
    "        y=\"2023_VolANP_ano\",\n",
    "        color_discrete_sequence=px.colors.qualitative.Set3,\n",
    "        color=table['NOM_RAZAO_SOCIAL_dest'],\n",
    "        labels={\n",
    "            \"2022_VolANP_ano\": \"Volume Ano 2022\",\n",
    "            \"2023_VolANP_ano\": \"Volume Ano 2023\"\n",
    "        },\n",
    "        #hover_data=[\"QUALIF_DEST\",\"quadrante_desc\",\"quadrante\",\"faixa_razao\"],\n",
    "        hover_data=[\"2022_VolANP_ano\",\"2023_VolANP_ano\",\"delta_share\",\"QUALIF_DEST\",\"faixa_razao\",\"quadrante\"],\n",
    "        title=\"Segmento nanicos - Brasil - share RAIZEN\",\n",
    "    )#.update_layout(\n",
    "#     legend_title=\"Funding\"\n",
    "#    font_color=\"Green\",\n",
    "#    legend_title={\n",
    "#        \"text\": \"Funding\",\n",
    "#        \"font\":{\n",
    "#            \"color\":\"Red\",\n",
    "#            \"family\": \"Comic Sans\"\n",
    "#        }\n",
    "#    }\n",
    "#)\n",
    "figure2.update_layout(\n",
    "    autosize=False,\n",
    "    width= 1300,\n",
    "    height=700\n",
    ")\n",
    "figure2.update_xaxes(showgrid=False)\n",
    "figure2.update_yaxes(showgrid=True)\n",
    "\n",
    "figure2.update_layout(\n",
    "        title = {\"x\": .5, \"y\": .90, \"font\": {\"color\":\"darkslateblue\"}},\n",
    "        plot_bgcolor = \"#fcfafa\",\n",
    "        paper_bgcolor = \"#fcfafa\"\n",
    "    )\n",
    "figure2.add_hline(y=linha_media22, line_dash=\"dot\", line_color=\"blue\", annotation_text=f'Media22 = {linha_media22:.2f}',annotation_position=\"top left\" )\n",
    "figure2.add_hline(y=linha_media23, line_dash=\"dot\", line_color=\"yellow\", annotation_text=f'Media23 = {linha_media23:.2f}',annotation_position=\"top right\" )\n",
    "\n",
    "figure2.show()"
   ]
  },
  {
   "cell_type": "code",
   "execution_count": null,
   "id": "3df3f484",
   "metadata": {},
   "outputs": [],
   "source": [
    "table_nanicos_raizen_ano = table\n",
    "\n",
    "table_nanicos_raizen_ano.info()\n",
    "\n",
    "table = table.drop(['QUALIF_DEST'], axis=1)\n",
    "table = table.drop(['faixa_razao'], axis=1)\n",
    "\n",
    "table\n"
   ]
  },
  {
   "cell_type": "code",
   "execution_count": null,
   "id": "b6c8c199",
   "metadata": {},
   "outputs": [],
   "source": [
    "#fim 2022\n",
    "fim = df['ds'].max() - relativedelta(months=12)\n",
    "fim\n",
    "\n",
    "filtro22 = df['ds']<= fim\n",
    "df_filtro22 = pd.DataFrame(df[filtro22])\n",
    "df_filtro22['ds'].max()\n",
    "\n",
    "mask = df[\"ano\"] == \"2023\"\n",
    "df_filtro23 = df[mask]\n",
    "df_filtro23['ds'].max()\n",
    "\n",
    "df_filtro23['ds'].min()\n",
    "\n",
    "df_filtro = pd.concat([df_filtro22,df_filtro23])\n",
    "\n",
    "print(df_filtro['ds'].unique())\n",
    "\n",
    "df_filtro.info()"
   ]
  },
  {
   "cell_type": "code",
   "execution_count": null,
   "id": "98add461",
   "metadata": {},
   "outputs": [],
   "source": [
    "df_table_nanicos = df_filtro.merge(table, how='inner', on = ['NOM_RAZAO_SOCIAL_dest'])\n",
    "df_table_nanicos.info()\n",
    "\n",
    "df_table_nanicos['id'] = df_table_nanicos['NOM_RAZAO_SOCIAL_dest']+\"|\"+df_table_nanicos['ds'].astype(str)+\"|\"+df_table_nanicos['QUALIF_DEST']+\"|\"+df_table_nanicos['GRUPO']\n",
    "\n",
    "df_table_nanicos['idr'] = df_table_nanicos['NOM_RAZAO_SOCIAL_dest']+\"|\"+df_table_nanicos['ds'].astype(str)+\"|\"+df_table_nanicos['QUALIF_DEST']\n",
    "\n",
    "_df_table_nanicos = df_table_nanicos.groupby(['id','idr'])\n",
    "_df_table_nanicos_groupby = _df_table_nanicos.agg({\"VolANP\":\"sum\"}).reset_index()\n",
    "\n",
    "_df_table_nanicos_groupby.info()\n",
    "\n",
    "\n",
    "_df_table_nanicos = df_table_nanicos.groupby(['idr'])\n",
    "_df_table_nanicos_groupby_razao = _df_table_nanicos.agg({\"VolANP\":\"sum\"}).reset_index()\n",
    "\n",
    "_df_table_nanicos_groupby_razao.rename(columns= {'VolANP':'VolANP_razao'}, inplace = True)\n",
    "\n",
    "_df_table_nanicos_groupby_razao.info()\n",
    "\n",
    "_df_table_nanicos_groupby = _df_table_nanicos_groupby.merge(_df_table_nanicos_groupby_razao, how='left', on = ['idr'])\n",
    "\n",
    "_df_table_nanicos_groupby.info()\n",
    "\n",
    "\n",
    "\n",
    "_df_table_nanicos_groupby['share_razao'] = _df_table_nanicos_groupby['VolANP'] / _df_table_nanicos_groupby['VolANP_razao']\n",
    "\n",
    "_df_table_nanicos_groupby[['NOM_RAZAO_SOCIAL_dest','ds','QUALIF_DEST','GRUPO']] = _df_table_nanicos_groupby['id'].str.split(\"|\",expand=True)\n",
    "\n",
    "_df_table_nanicos_groupby['id_shift'] = _df_table_nanicos_groupby['NOM_RAZAO_SOCIAL_dest']+\"|\"+_df_table_nanicos_groupby['QUALIF_DEST']+\"|\"+_df_table_nanicos_groupby['GRUPO']\n",
    "\n",
    "_df_table_nanicos_groupby['preview_share'] = _df_table_nanicos_groupby.sort_values(by=['id']).groupby('id_shift')['share_razao'].shift(1)\n",
    "\n",
    "#_df_table_nanicos_groupby[['id','ds','share_razao','preview_share']].to_excel('testeshare.xlsx')\n",
    "\n",
    "#_df_table_nanicos_groupby.to_excel(\"_df_table_nanicos_groupby.xlsx\")\n",
    "\n",
    "_df_table_nanicos_groupby['preview_value'] = _df_table_nanicos_groupby.sort_values(by=['id']).groupby('id_shift')['VolANP'].shift(1)\n",
    "\n",
    "_df_table_nanicos_groupby['preview_value_2'] = _df_table_nanicos_groupby.sort_values(by=['id']).groupby('id_shift')['VolANP'].shift(2)\n",
    "\n",
    "_df_table_nanicos_groupby['preview_value_3'] = _df_table_nanicos_groupby.sort_values(by=['id']).groupby('id_shift')['VolANP'].shift(3)\n",
    "\n",
    "_df_table_nanicos_groupby['window_3m'] = (_df_table_nanicos_groupby['preview_value'] + _df_table_nanicos_groupby['preview_value_2'] + _df_table_nanicos_groupby['preview_value_3'])/3\n",
    "\n",
    "# representatividade da janela de 3 meses em relação ao Volume total da base\n",
    "_df_table_nanicos_groupby['var'] = (_df_table_nanicos_groupby['window_3m']/_df_table_nanicos_groupby['VolANP'].sum())*100\n",
    "\n",
    "_df_table_nanicos_groupby['preview_value_12'] = _df_table_nanicos_groupby.sort_values(by=['id']).groupby('id_shift')['VolANP'].shift(9)\n",
    "_df_table_nanicos_groupby['preview_window_3m_12'] = _df_table_nanicos_groupby.sort_values(by=['id']).groupby('id_shift')['window_3m'].shift(9)\n",
    "_df_table_nanicos_groupby['preview_var_12'] = _df_table_nanicos_groupby.sort_values(by=['id']).groupby('id_shift')['var'].shift(9)\n",
    "\n",
    "_df_table_nanicos_groupby.info()\n"
   ]
  },
  {
   "cell_type": "code",
   "execution_count": null,
   "id": "c5b14d81",
   "metadata": {},
   "outputs": [],
   "source": [
    "\n",
    "_df_table_nanicos_groupby['delta_vol'] = ((_df_table_nanicos_groupby['VolANP']-_df_table_nanicos_groupby['preview_value'])/_df_table_nanicos_groupby['VolANP'])*100\n",
    "\n",
    "_df_table_nanicos_groupby['delta_vol_12'] = ((_df_table_nanicos_groupby['VolANP']-_df_table_nanicos_groupby['preview_value_12'])/_df_table_nanicos_groupby['VolANP'])*100\n",
    "\n",
    "#_df_table_nanicos_groupby.to_excel(\"_df_table_nanicos_groupby.xlsx\")\n",
    "\n",
    "#filtro_df_table_nanicos_groupby = _df_table_nanicos_groupby.loc[(_df_table_nanicos_groupby.delta_vol > 0) | (_df_table_nanicos_groupby.delta_vol_12 > 0)]\n",
    "\n",
    "#filtro_df_table_nanicos_groupby[['id','NOM_RAZAO_SOCIAL_dest','ds','GRUPO','share_razao']]\n",
    "\n",
    "#filtro_df_table_nanicos_groupby.to_excel(\"filtro_df_table_nanicos_groupby.xlsx\")\n",
    "\n",
    "#filtro_df_table_nanicos_groupby.info()\n",
    "\n",
    "_df_table_nanicos_groupby.info()\n",
    "\n",
    "\n",
    "\n",
    "_df_table_nanicos_groupby_ = _df_table_nanicos_groupby.groupby([\"GRUPO\",\"ds\"])\n",
    "_df_table_nanicos_groupby_vol = _df_table_nanicos_groupby_.agg({\"VolANP\":\"sum\"}).reset_index()\n"
   ]
  },
  {
   "cell_type": "code",
   "execution_count": null,
   "id": "c5f8a934",
   "metadata": {},
   "outputs": [],
   "source": [
    "\n",
    "\n",
    "\n",
    "fig =px.line(_df_table_nanicos_groupby_vol, \n",
    "            x=\"ds\", \n",
    "            y=\"VolANP\",\n",
    "            title=\"BR - Volume m³ - cluster nanicos\",\n",
    "            color=\"GRUPO\",\n",
    "            color_discrete_sequence=px.colors.qualitative.Pastel2,\n",
    "            hover_data=[\"GRUPO\"]\n",
    "        )\n",
    "\n",
    "fig.update_layout(\n",
    "    autosize=False,\n",
    "    width= 1300,\n",
    "    height=700\n",
    ")\n",
    "    \n",
    "fig.update_layout(\n",
    "        title = {\"x\": .45, \"y\": .90, \"font\": {\"color\":\"darkslateblue\"}},\n",
    "        plot_bgcolor = \"#fcfafa\",\n",
    "        paper_bgcolor = \"#fcfafa\", \n",
    "        font=dict(size=11)\n",
    "    )\n",
    "fig.show()"
   ]
  },
  {
   "cell_type": "code",
   "execution_count": null,
   "id": "dc99fc17",
   "metadata": {},
   "outputs": [],
   "source": [
    "\n",
    "\n",
    "_df_table_nanicos_groupby_ = _df_table_nanicos_groupby.groupby([\"GRUPO\",\"ds\"])\n",
    "_df_table_nanicos_groupby_vol = _df_table_nanicos_groupby_.agg({\"var\":\"sum\"}).reset_index()\n",
    "\n",
    "\n",
    "fig =px.line(_df_table_nanicos_groupby_vol, \n",
    "            x=\"ds\", \n",
    "            y=\"var\",\n",
    "            title=\"BR - tendência - cluster nanicos\",\n",
    "            color=\"GRUPO\",\n",
    "            color_discrete_sequence=px.colors.qualitative.Pastel2,\n",
    "            hover_data=[\"GRUPO\"]\n",
    "        )\n",
    "\n",
    "fig.update_layout(\n",
    "    autosize=False,\n",
    "    width= 1300,\n",
    "    height=700\n",
    ")\n",
    "    \n",
    "fig.update_layout(\n",
    "        title = {\"x\": .45, \"y\": .90, \"font\": {\"color\":\"darkslateblue\"}},\n",
    "        plot_bgcolor = \"#fcfafa\",\n",
    "        paper_bgcolor = \"#fcfafa\", \n",
    "        font=dict(size=11)\n",
    "    )\n",
    "fig.show()"
   ]
  },
  {
   "cell_type": "code",
   "execution_count": null,
   "id": "b530204c",
   "metadata": {},
   "outputs": [],
   "source": [
    "\n",
    "\n",
    "\n",
    "\n",
    "#filtro_df_table_nanicos_groupby.info()\n",
    "\n",
    "_df_table_nanicos_groupby['ds'].value_counts()\n",
    "\n",
    "_df_table_nanicos_groupby[\"ds\"] = _df_table_nanicos_groupby[\"ds\"].apply(pd.to_datetime)\n",
    "\n",
    "_df_table_nanicos_groupby['ds_str'] = _df_table_nanicos_groupby['ds'].astype(str)\n",
    "\n",
    "_df_table_nanicos_groupby[['ano','mes','dia']] = _df_table_nanicos_groupby['ds_str'].str.split(\"-\",expand=True)\n",
    "\n",
    "mask1 = _df_table_nanicos_groupby[\"ano\"] == \"2022\"\n",
    "_df_table_nanicos_groupby_22 = _df_table_nanicos_groupby[mask1]\n",
    "_df_table_nanicos_groupby_22 [\"ano\"].value_counts()\n",
    "\n",
    "mask1 = _df_table_nanicos_groupby[\"ano\"] == \"2023\"\n",
    "_df_table_nanicos_groupby_23 = _df_table_nanicos_groupby[mask1]\n",
    "_df_table_nanicos_groupby_23 [\"ano\"].value_counts()\n",
    "\n",
    "dfg23volrazao =  _df_table_nanicos_groupby_23.groupby(by='NOM_RAZAO_SOCIAL_dest')['VolANP'].sum()\n",
    "dfg22volrazao =  _df_table_nanicos_groupby_22.groupby(by='NOM_RAZAO_SOCIAL_dest')['VolANP'].sum()\n",
    "\n",
    "dfg23volrazao = round(dfg23volrazao, 2)\n",
    "dfg23volrazao = dfg23volrazao.sort_values(ascending = False)\n",
    "\n",
    "dfg22volrazao = round(dfg22volrazao, 2)\n",
    "dfg22volrazao = dfg22volrazao.sort_values(ascending = False)\n",
    "\n",
    "\n",
    "dfg23volrazao_n6 = dfg23volrazao.nlargest(6)\n",
    "\n",
    "dfg22volrazao_n6 = dfg22volrazao.nlargest(6)"
   ]
  },
  {
   "cell_type": "code",
   "execution_count": null,
   "id": "a057b5b6",
   "metadata": {},
   "outputs": [],
   "source": [
    "\n",
    "\n",
    "\n",
    "\n",
    "\n",
    "\n",
    "\n",
    "figure1=px.bar(\n",
    "        (dfg23volrazao_n6\n",
    "         #.query(\"QUALIF_DEST in ['TRR']\")\n",
    "         #.sort_values(ascending = False)\n",
    "         #.nlargest(1)\n",
    "         #.groupby(\"GRUPO\", as_index=False)\n",
    "         #.mean()\n",
    "         #.rename({\"expenditure_per_student\": \"Expenditure Per Student (Thousands)\"}, axis=1)\n",
    "         #.nlargest(10, 'VolANP_ano')\n",
    "        ),\n",
    "        x=dfg23volrazao_n6.index,\n",
    "        y=dfg23volrazao_n6.values,\n",
    "        title=\"Volume m³ - por Empresa destino  - Ano 2023\",\n",
    "        color_discrete_sequence=px.colors.qualitative.Pastel2,\n",
    "        color=dfg23volrazao_n6.values,\n",
    "        color_continuous_scale=\"deep\",\n",
    "        text_auto='.0f',\n",
    "        #hover_data=[\"GRUPO\"]\n",
    "    )\n",
    "\n",
    "\n",
    "figure1.update_layout(\n",
    "        autosize=False,\n",
    "        width= 1300,\n",
    "        height=700\n",
    "    )\n",
    "\n",
    "figure1.update_layout(\n",
    "            title = {\"x\": .45, \"y\": .90, \"font\": {\"color\":\"darkslateblue\"}},\n",
    "            plot_bgcolor = \"#fcfafa\",\n",
    "            paper_bgcolor = \"#fcfafa\", \n",
    "            font=dict(size=11)\n",
    "        )\n",
    "#figure1.show()\n",
    "figure2 = px.bar(\n",
    "        (dfg22volrazao_n6\n",
    "         #.query(\"QUALIF_DEST in ['TRR']\")\n",
    "         #.sort_values(ascending = False)\n",
    "         .nlargest(1)\n",
    "         #.groupby(\"GRUPO\", as_index=False)\n",
    "         #.mean()\n",
    "         #.rename({\"expenditure_per_student\": \"Expenditure Per Student (Thousands)\"}, axis=1)\n",
    "         #.nlargest(10, 'VolANP_ano')\n",
    "        ),\n",
    "        x=dfg22volrazao_n6.index,\n",
    "        y=dfg22volrazao_n6.values,\n",
    "        title=\"Volume m³ - por Empresa destino  - Ano 2022\",\n",
    "        color_discrete_sequence=px.colors.qualitative.Pastel2,\n",
    "        color=dfg22volrazao_n6.values,\n",
    "        color_continuous_scale=\"deep\",\n",
    "        text_auto='.0f',\n",
    "        #hover_data=[\"GRUPO\"]\n",
    "    )\n",
    "\n",
    "\n",
    "figure2.update_layout(\n",
    "        autosize=False,\n",
    "        width= 1300,\n",
    "        height=700\n",
    "    )\n",
    "\n",
    "figure2.update_layout(\n",
    "            title = {\"x\": .45, \"y\": .90, \"font\": {\"color\":\"darkslateblue\"}},\n",
    "            plot_bgcolor = \"#fcfafa\",\n",
    "            paper_bgcolor = \"#fcfafa\", \n",
    "            font=dict(size=11)\n",
    "        )\n",
    "#figure2.show()\n",
    "\n",
    "\n",
    "\n",
    "# For as many traces that exist per Express figure, get the traces from each plot and store them in an array.\n",
    "# This is essentially breaking down the Express fig into its traces\n",
    "figure1_traces = []\n",
    "figure2_traces = []\n",
    "for trace in range(len(figure1[\"data\"])):\n",
    "    figure1_traces.append(figure1[\"data\"][trace])\n",
    "for trace in range(len(figure2[\"data\"])):\n",
    "    ############ The major modification. Manually set 'showlegend' attribute to False. ############\n",
    "    figure2[\"data\"][trace]['showlegend'] = False             \n",
    "    figure2_traces.append(figure2[\"data\"][trace])\n",
    "    \n",
    "# Create a 1x2 subplot\n",
    "this_figure = sp.make_subplots(rows = 1, cols = 2, subplot_titles = ['Volume m³ 2023', 'Volume m³ 2022'])\n",
    "#this_figure.update_layout(height = 700, width = 1300, title_text = \"Volume m³ - por Empresa destino com crescimento\", title_font_size = 15)\n",
    "this_figure.update_layout(height = 700, width = 1300)\n",
    "\n",
    "# Get the Express fig broken down as traces and add the traces to the proper plot within the subplot\n",
    "for traces in figure1_traces:\n",
    "    this_figure.append_trace(traces, row = 1, col = 1)\n",
    "for traces in figure2_traces:\n",
    "    this_figure.append_trace(traces, row = 1, col = 2)\n",
    "\n",
    "this_figure.update_layout(\n",
    "        title = {\"x\": .5, \"y\": .90, \"font\": {\"color\":\"darkslateblue\"}},\n",
    "        plot_bgcolor = \"#fcfafa\",\n",
    "        paper_bgcolor = \"#fcfafa\"\n",
    "    )\n",
    "this_figure.update_xaxes(tickangle=30)\n",
    "\n",
    "this_figure.show()"
   ]
  },
  {
   "cell_type": "code",
   "execution_count": null,
   "id": "619fda68",
   "metadata": {},
   "outputs": [],
   "source": [
    "_df_table_nanicos_groupby.info()\n",
    "\n",
    "_df_table_nanicos_groupby.sort_values(by=['delta_vol'], ascending=False).head()\n",
    "\n",
    "_df_table_nanicos_groupby.sort_values(by=['delta_vol'], ascending=False).head(60).nlargest(10, 'delta_vol')\n",
    "\n",
    "_df_table_nanicos_groupby.info()\n",
    "\n",
    "_df_table_nanicos_groupby['delta_share_pp'] = _df_table_nanicos_groupby['share_razao'] - _df_table_nanicos_groupby['preview_share']\n",
    "\n",
    "_df_table_nanicos_groupby['delta_share_pp'] = _df_table_nanicos_groupby['delta_share_pp']*100\n",
    "\n",
    "_df_table_nanicos_groupby['share_razao'] = _df_table_nanicos_groupby['share_razao']*100\n",
    "\n",
    "_df_table_nanicos_groupby['preview_share'] = _df_table_nanicos_groupby['preview_share']*100\n",
    "\n",
    "mask = (_df_table_nanicos_groupby['ds'] >= '2023-05-01') & (_df_table_nanicos_groupby['ds'] <= '2023-09-01') & (_df_table_nanicos_groupby['GRUPO'] == 'RAIZEN') & (_df_table_nanicos_groupby['QUALIF_DEST'] != 'TRR') \n",
    "_df_table_nanicos_groupby.loc[mask][['id','VolANP','preview_value','preview_value_12','delta_vol','delta_vol_12','share_razao','preview_share','delta_share_pp','QUALIF_DEST','ds','GRUPO']].sort_values(by=['delta_vol'], ascending=False).nlargest(30, 'delta_share_pp')"
   ]
  },
  {
   "cell_type": "code",
   "execution_count": null,
   "id": "02d5ccdf",
   "metadata": {},
   "outputs": [],
   "source": [
    "mask = (_df_table_nanicos_groupby['ds'] >= '2023-05-01') & (_df_table_nanicos_groupby['ds'] <= '2023-09-01') & (_df_table_nanicos_groupby['GRUPO'] == 'RAIZEN') \n",
    "_df_table_nanicos_groupby.loc[mask][['id','VolANP','preview_value','preview_value_12','delta_vol','delta_vol_12','share_razao','preview_share','delta_share_pp','QUALIF_DEST','ds','GRUPO']].sort_values(by=['delta_vol'], ascending=False).nlargest(30, 'delta_share_pp').to_excel(\"30maiorespordeltasharepp_cluster_nanicos_dimensãoBR.xlsx\")"
   ]
  },
  {
   "cell_type": "code",
   "execution_count": null,
   "id": "1e7440f4",
   "metadata": {},
   "outputs": [],
   "source": [
    "mask = (_df_table_nanicos_groupby['ds'] >= '2023-05-01') & (_df_table_nanicos_groupby['ds'] <= '2023-09-01') & (_df_table_nanicos_groupby['GRUPO'] == 'RAIZEN') & (_df_table_nanicos_groupby['QUALIF_DEST'] != 'TRR') \n",
    "_df_table_nanicos_groupby.loc[mask][['id','VolANP','preview_value','preview_value_12','delta_vol','delta_vol_12','share_razao','preview_share','delta_share_pp','QUALIF_DEST','ds','GRUPO']].sort_values(by=['delta_vol'], ascending=False).nlargest(30, 'delta_share_pp').to_excel(\"CANAL10_30maiores_por_deltasharepp_cluster_nanicos_dimensãoBR.xlsx\")"
   ]
  },
  {
   "cell_type": "code",
   "execution_count": null,
   "id": "95f1a3ba",
   "metadata": {},
   "outputs": [],
   "source": []
  }
 ],
 "metadata": {
  "hide_input": false,
  "kernelspec": {
   "display_name": "Python 3",
   "language": "python",
   "name": "python3"
  },
  "language_info": {
   "codemirror_mode": {
    "name": "ipython",
    "version": 3
   },
   "file_extension": ".py",
   "mimetype": "text/x-python",
   "name": "python",
   "nbconvert_exporter": "python",
   "pygments_lexer": "ipython3",
   "version": "3.8.8"
  }
 },
 "nbformat": 4,
 "nbformat_minor": 5
}
